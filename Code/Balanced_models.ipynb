{
  "nbformat": 4,
  "nbformat_minor": 0,
  "metadata": {
    "colab": {
      "provenance": [],
      "gpuType": "T4"
    },
    "kernelspec": {
      "name": "python3",
      "display_name": "Python 3"
    },
    "language_info": {
      "name": "python"
    },
    "accelerator": "GPU"
  },
  "cells": [
    {
      "cell_type": "code",
      "execution_count": null,
      "metadata": {
        "id": "DpStZ1cPIsMe"
      },
      "outputs": [],
      "source": [
        "import os                       # for working with files\n",
        "import numpy as np              # for numerical computationss\n",
        "import pandas as pd             # for working with dataframes\n",
        "import matplotlib.pyplot as plt # for plotting informations on graph and images using tensors\n",
        "import tensorflow as tf\n",
        "#import tensorflow.keras.backend as K\n",
        "from tensorflow.keras import models\n",
        "from tensorflow.keras.models import Model\n",
        "from tensorflow.keras.models import load_model\n",
        "from tensorflow.keras.preprocessing import image\n",
        "from tensorflow.keras.models import Sequential\n",
        "from tensorflow.keras import layers\n",
        "from tensorflow.keras.layers import Dense, Dropout, Flatten, Input, LeakyReLU\n",
        "from tensorflow.keras.layers import BatchNormalization, Activation, Conv2D\n",
        "from tensorflow.keras.models import Sequential\n",
        "from tensorflow.keras.preprocessing.image import ImageDataGenerator\n",
        "from tensorflow.keras.layers import MaxPooling2D\n",
        "from keras.layers import MaxPool2D\n",
        "import tensorflow.keras.metrics as metrics\n",
        "from tensorflow.keras.callbacks import ModelCheckpoint\n",
        "import random\n",
        "import itertools"
      ]
    },
    {
      "cell_type": "code",
      "source": [
        "import warnings\n",
        "warnings.filterwarnings(\"ignore\")\n",
        "import tensorflow as tf\n",
        "import matplotlib.pyplot as plt\n",
        "tf.compat.v1.set_random_seed(0)\n",
        "from tensorflow import keras\n",
        "import itertools\n",
        "from tensorflow.keras.layers.experimental.preprocessing import Rescaling\n",
        "from sklearn.metrics import precision_score, accuracy_score, recall_score, confusion_matrix, ConfusionMatrixDisplay"
      ],
      "metadata": {
        "id": "T0WzgiqOIgwk"
      },
      "execution_count": null,
      "outputs": []
    },
    {
      "cell_type": "code",
      "source": [
        "np.random.seed(0)\n",
        "tf.random.set_seed(0)"
      ],
      "metadata": {
        "id": "ED9ImVH9I7gu"
      },
      "execution_count": null,
      "outputs": []
    },
    {
      "cell_type": "code",
      "source": [
        "from google.colab import files #add .json file\n",
        "uploaded = files.upload()"
      ],
      "metadata": {
        "colab": {
          "base_uri": "https://localhost:8080/",
          "height": 73
        },
        "id": "Ih6wGrbWKIDy",
        "outputId": "31524ac3-a82f-4ac2-c978-cd8b8e42f1f2"
      },
      "execution_count": null,
      "outputs": [
        {
          "output_type": "display_data",
          "data": {
            "text/plain": [
              "<IPython.core.display.HTML object>"
            ],
            "text/html": [
              "\n",
              "     <input type=\"file\" id=\"files-037e89af-eba3-46a5-950f-39e8329428d3\" name=\"files[]\" multiple disabled\n",
              "        style=\"border:none\" />\n",
              "     <output id=\"result-037e89af-eba3-46a5-950f-39e8329428d3\">\n",
              "      Upload widget is only available when the cell has been executed in the\n",
              "      current browser session. Please rerun this cell to enable.\n",
              "      </output>\n",
              "      <script>// Copyright 2017 Google LLC\n",
              "//\n",
              "// Licensed under the Apache License, Version 2.0 (the \"License\");\n",
              "// you may not use this file except in compliance with the License.\n",
              "// You may obtain a copy of the License at\n",
              "//\n",
              "//      http://www.apache.org/licenses/LICENSE-2.0\n",
              "//\n",
              "// Unless required by applicable law or agreed to in writing, software\n",
              "// distributed under the License is distributed on an \"AS IS\" BASIS,\n",
              "// WITHOUT WARRANTIES OR CONDITIONS OF ANY KIND, either express or implied.\n",
              "// See the License for the specific language governing permissions and\n",
              "// limitations under the License.\n",
              "\n",
              "/**\n",
              " * @fileoverview Helpers for google.colab Python module.\n",
              " */\n",
              "(function(scope) {\n",
              "function span(text, styleAttributes = {}) {\n",
              "  const element = document.createElement('span');\n",
              "  element.textContent = text;\n",
              "  for (const key of Object.keys(styleAttributes)) {\n",
              "    element.style[key] = styleAttributes[key];\n",
              "  }\n",
              "  return element;\n",
              "}\n",
              "\n",
              "// Max number of bytes which will be uploaded at a time.\n",
              "const MAX_PAYLOAD_SIZE = 100 * 1024;\n",
              "\n",
              "function _uploadFiles(inputId, outputId) {\n",
              "  const steps = uploadFilesStep(inputId, outputId);\n",
              "  const outputElement = document.getElementById(outputId);\n",
              "  // Cache steps on the outputElement to make it available for the next call\n",
              "  // to uploadFilesContinue from Python.\n",
              "  outputElement.steps = steps;\n",
              "\n",
              "  return _uploadFilesContinue(outputId);\n",
              "}\n",
              "\n",
              "// This is roughly an async generator (not supported in the browser yet),\n",
              "// where there are multiple asynchronous steps and the Python side is going\n",
              "// to poll for completion of each step.\n",
              "// This uses a Promise to block the python side on completion of each step,\n",
              "// then passes the result of the previous step as the input to the next step.\n",
              "function _uploadFilesContinue(outputId) {\n",
              "  const outputElement = document.getElementById(outputId);\n",
              "  const steps = outputElement.steps;\n",
              "\n",
              "  const next = steps.next(outputElement.lastPromiseValue);\n",
              "  return Promise.resolve(next.value.promise).then((value) => {\n",
              "    // Cache the last promise value to make it available to the next\n",
              "    // step of the generator.\n",
              "    outputElement.lastPromiseValue = value;\n",
              "    return next.value.response;\n",
              "  });\n",
              "}\n",
              "\n",
              "/**\n",
              " * Generator function which is called between each async step of the upload\n",
              " * process.\n",
              " * @param {string} inputId Element ID of the input file picker element.\n",
              " * @param {string} outputId Element ID of the output display.\n",
              " * @return {!Iterable<!Object>} Iterable of next steps.\n",
              " */\n",
              "function* uploadFilesStep(inputId, outputId) {\n",
              "  const inputElement = document.getElementById(inputId);\n",
              "  inputElement.disabled = false;\n",
              "\n",
              "  const outputElement = document.getElementById(outputId);\n",
              "  outputElement.innerHTML = '';\n",
              "\n",
              "  const pickedPromise = new Promise((resolve) => {\n",
              "    inputElement.addEventListener('change', (e) => {\n",
              "      resolve(e.target.files);\n",
              "    });\n",
              "  });\n",
              "\n",
              "  const cancel = document.createElement('button');\n",
              "  inputElement.parentElement.appendChild(cancel);\n",
              "  cancel.textContent = 'Cancel upload';\n",
              "  const cancelPromise = new Promise((resolve) => {\n",
              "    cancel.onclick = () => {\n",
              "      resolve(null);\n",
              "    };\n",
              "  });\n",
              "\n",
              "  // Wait for the user to pick the files.\n",
              "  const files = yield {\n",
              "    promise: Promise.race([pickedPromise, cancelPromise]),\n",
              "    response: {\n",
              "      action: 'starting',\n",
              "    }\n",
              "  };\n",
              "\n",
              "  cancel.remove();\n",
              "\n",
              "  // Disable the input element since further picks are not allowed.\n",
              "  inputElement.disabled = true;\n",
              "\n",
              "  if (!files) {\n",
              "    return {\n",
              "      response: {\n",
              "        action: 'complete',\n",
              "      }\n",
              "    };\n",
              "  }\n",
              "\n",
              "  for (const file of files) {\n",
              "    const li = document.createElement('li');\n",
              "    li.append(span(file.name, {fontWeight: 'bold'}));\n",
              "    li.append(span(\n",
              "        `(${file.type || 'n/a'}) - ${file.size} bytes, ` +\n",
              "        `last modified: ${\n",
              "            file.lastModifiedDate ? file.lastModifiedDate.toLocaleDateString() :\n",
              "                                    'n/a'} - `));\n",
              "    const percent = span('0% done');\n",
              "    li.appendChild(percent);\n",
              "\n",
              "    outputElement.appendChild(li);\n",
              "\n",
              "    const fileDataPromise = new Promise((resolve) => {\n",
              "      const reader = new FileReader();\n",
              "      reader.onload = (e) => {\n",
              "        resolve(e.target.result);\n",
              "      };\n",
              "      reader.readAsArrayBuffer(file);\n",
              "    });\n",
              "    // Wait for the data to be ready.\n",
              "    let fileData = yield {\n",
              "      promise: fileDataPromise,\n",
              "      response: {\n",
              "        action: 'continue',\n",
              "      }\n",
              "    };\n",
              "\n",
              "    // Use a chunked sending to avoid message size limits. See b/62115660.\n",
              "    let position = 0;\n",
              "    do {\n",
              "      const length = Math.min(fileData.byteLength - position, MAX_PAYLOAD_SIZE);\n",
              "      const chunk = new Uint8Array(fileData, position, length);\n",
              "      position += length;\n",
              "\n",
              "      const base64 = btoa(String.fromCharCode.apply(null, chunk));\n",
              "      yield {\n",
              "        response: {\n",
              "          action: 'append',\n",
              "          file: file.name,\n",
              "          data: base64,\n",
              "        },\n",
              "      };\n",
              "\n",
              "      let percentDone = fileData.byteLength === 0 ?\n",
              "          100 :\n",
              "          Math.round((position / fileData.byteLength) * 100);\n",
              "      percent.textContent = `${percentDone}% done`;\n",
              "\n",
              "    } while (position < fileData.byteLength);\n",
              "  }\n",
              "\n",
              "  // All done.\n",
              "  yield {\n",
              "    response: {\n",
              "      action: 'complete',\n",
              "    }\n",
              "  };\n",
              "}\n",
              "\n",
              "scope.google = scope.google || {};\n",
              "scope.google.colab = scope.google.colab || {};\n",
              "scope.google.colab._files = {\n",
              "  _uploadFiles,\n",
              "  _uploadFilesContinue,\n",
              "};\n",
              "})(self);\n",
              "</script> "
            ]
          },
          "metadata": {}
        },
        {
          "output_type": "stream",
          "name": "stdout",
          "text": [
            "Saving kaggle.json to kaggle.json\n"
          ]
        }
      ]
    },
    {
      "cell_type": "code",
      "source": [
        "!rm -r ~/.kaggle\n",
        "!mkdir ~/.kaggle\n",
        "!cp ./kaggle.json ~/.kaggle/\n",
        "!chmod 600 ~/.kaggle/kaggle.json"
      ],
      "metadata": {
        "colab": {
          "base_uri": "https://localhost:8080/"
        },
        "id": "Mit-WvWsKLrZ",
        "outputId": "0b0f9957-0a74-462f-e57d-f377d4c72162"
      },
      "execution_count": null,
      "outputs": [
        {
          "output_type": "stream",
          "name": "stdout",
          "text": [
            "rm: cannot remove '/root/.kaggle': No such file or directory\n"
          ]
        }
      ]
    },
    {
      "cell_type": "code",
      "source": [
        "import zipfile\n",
        "import os\n",
        "from kaggle.cli import main\n",
        "os.environ['KAGGLE_CONFIG_DIR'] = \"/content\""
      ],
      "metadata": {
        "id": "qY_A8G1VKNmJ"
      },
      "execution_count": null,
      "outputs": []
    },
    {
      "cell_type": "code",
      "source": [
        "!kaggle datasets download -d harshart/balanced-plant-dataset"
      ],
      "metadata": {
        "colab": {
          "base_uri": "https://localhost:8080/"
        },
        "id": "2BpZLVWNKPWz",
        "outputId": "e82c7cfc-20ae-4559-ed0a-def0096ac403"
      },
      "execution_count": null,
      "outputs": [
        {
          "output_type": "stream",
          "name": "stdout",
          "text": [
            "Warning: Your Kaggle API key is readable by other users on this system! To fix this, you can run 'chmod 600 /content/kaggle.json'\n",
            "Downloading balanced-plant-dataset.zip to /content\n",
            " 99% 1.15G/1.17G [00:14<00:00, 94.4MB/s]\n",
            "100% 1.17G/1.17G [00:14<00:00, 87.8MB/s]\n"
          ]
        }
      ]
    },
    {
      "cell_type": "code",
      "source": [
        "zip_ref = zipfile.ZipFile('balanced-plant-dataset.zip', 'r') #Opens the zip file in read mode\n",
        "zip_ref.extractall('/tmp') #Extracts the files into the /tmp folder\n",
        "zip_ref.close()"
      ],
      "metadata": {
        "id": "68pL8lPAKRAy"
      },
      "execution_count": null,
      "outputs": []
    },
    {
      "cell_type": "code",
      "source": [],
      "metadata": {
        "id": "8LhIqhpNGBR4"
      },
      "execution_count": null,
      "outputs": []
    },
    {
      "cell_type": "markdown",
      "source": [
        "#Strawberry\n",
        "\n",
        "\n",
        "\n"
      ],
      "metadata": {
        "id": "aE04ZeARKT9S"
      }
    },
    {
      "cell_type": "code",
      "source": [
        "data_dir = r\"/tmp/DS MINI PROJECT DATASET(BALANCEDANDIMBALANCED)\"\n",
        "\n",
        "train_dir = data_dir + \"/Training/Strawberry\"\n",
        "valid_dir = data_dir + \"/Testing/Strawberry\""
      ],
      "metadata": {
        "id": "9UBmLgvYKXVd"
      },
      "execution_count": null,
      "outputs": []
    },
    {
      "cell_type": "code",
      "source": [
        "seed_train_validation = 1 # Must be same for train_ds and val_ds\n",
        "shuffle_value = True\n",
        "validation_split = 0.2\n",
        "\n",
        "train_gen = tf.keras.utils.image_dataset_from_directory(\n",
        "                                                        directory = train_dir,\n",
        "                                                        image_size = (128, 128),\n",
        "                                                        label_mode='categorical',\n",
        "                                                        validation_split = validation_split,\n",
        "                                                        batch_size=32,\n",
        "                                                        subset = \"training\",\n",
        "                                                        seed = seed_train_validation,\n",
        "                                                        shuffle = shuffle_value)\n",
        "\n",
        "val_gen = tf.keras.utils.image_dataset_from_directory(\n",
        "                                                        directory = train_dir,\n",
        "                                                        image_size = (128, 128),\n",
        "                                                        validation_split = validation_split,\n",
        "                                                        label_mode='categorical',\n",
        "                                                        batch_size=32,\n",
        "                                                        subset = \"validation\",\n",
        "                                                        seed = seed_train_validation,\n",
        "                                                        shuffle = shuffle_value)\n",
        "\n",
        "test_it = tf.keras.utils.image_dataset_from_directory( directory= valid_dir,\n",
        "                                                      batch_size=32,\n",
        "                                                      image_size=(128, 128))"
      ],
      "metadata": {
        "colab": {
          "base_uri": "https://localhost:8080/"
        },
        "id": "5IAdsjqjcpRK",
        "outputId": "fde47194-acae-44d6-e507-02d08823163b"
      },
      "execution_count": null,
      "outputs": [
        {
          "output_type": "stream",
          "name": "stdout",
          "text": [
            "Found 3598 files belonging to 2 classes.\n",
            "Using 2879 files for training.\n",
            "Found 3598 files belonging to 2 classes.\n",
            "Using 719 files for validation.\n",
            "Found 900 files belonging to 2 classes.\n"
          ]
        }
      ]
    },
    {
      "cell_type": "code",
      "source": [
        "rescale = Rescaling(scale=1./255)\n",
        "train_set  = train_gen.map(lambda image,label:(rescale(image),label))\n",
        "valid_set  = val_gen.map(lambda image,label:(rescale(image),label))\n",
        "test_set  = test_it.map(lambda image,label:(rescale(image),label))\n"
      ],
      "metadata": {
        "id": "ZT5l3XvyaN61"
      },
      "execution_count": null,
      "outputs": []
    },
    {
      "cell_type": "code",
      "source": [
        "#with bN gave 99.0% lol doesnt make much of a difference than without 98.88\n",
        "\n",
        "def define_sb_a():\n",
        "  strawberry_avg = models.Sequential()\n",
        "  strawberry_avg = Sequential()\n",
        "\n",
        "  strawberry_avg.add(Conv2D(filters=16,kernel_size=(3,3),padding=\"same\", activation=\"relu\", input_shape=(128,128,3)))\n",
        "  strawberry_avg.add(MaxPool2D(pool_size=(2,2),strides=(2,2)))\n",
        "  #strawberry_avg.add(BatchNormalization())\n",
        "\n",
        "  strawberry_avg.add(Conv2D(filters=32, kernel_size=(3,3), padding=\"same\", activation=\"relu\"))\n",
        "  strawberry_avg.add(MaxPool2D(pool_size=(2,2),strides=(2,2)))\n",
        "  #strawberry_avg.add(BatchNormalization())\n",
        "\n",
        "  avg1 = tf.keras.layers.GlobalAveragePooling2D()(strawberry_avg.layers[-1].output)\n",
        "  class1 = Dense(16, activation='relu', kernel_initializer='he_uniform')(avg1)\n",
        "  output = Dense(2, activation='softmax')(class1)\n",
        "  strawberry_avg = Model(inputs=strawberry_avg.inputs, outputs=output)\n",
        "  return strawberry_avg"
      ],
      "metadata": {
        "id": "ktG8S6erLHHZ"
      },
      "execution_count": null,
      "outputs": []
    },
    {
      "cell_type": "code",
      "source": [
        "strawberry_avg = define_sb_a()\n",
        "strawberry_avg.compile(optimizer='adam', loss='categorical_crossentropy', metrics=['accuracy'])\n",
        "strawberry_avg.summary()"
      ],
      "metadata": {
        "colab": {
          "base_uri": "https://localhost:8080/"
        },
        "id": "UAnx9_SILIE5",
        "outputId": "34878426-92b1-44c4-8667-8d88eb7177a3"
      },
      "execution_count": null,
      "outputs": [
        {
          "output_type": "stream",
          "name": "stdout",
          "text": [
            "Model: \"model_1\"\n",
            "_________________________________________________________________\n",
            " Layer (type)                Output Shape              Param #   \n",
            "=================================================================\n",
            " conv2d_2_input (InputLayer  [(None, 128, 128, 3)]     0         \n",
            " )                                                               \n",
            "                                                                 \n",
            " conv2d_2 (Conv2D)           (None, 128, 128, 16)      448       \n",
            "                                                                 \n",
            " max_pooling2d_2 (MaxPoolin  (None, 64, 64, 16)        0         \n",
            " g2D)                                                            \n",
            "                                                                 \n",
            " conv2d_3 (Conv2D)           (None, 64, 64, 32)        4640      \n",
            "                                                                 \n",
            " max_pooling2d_3 (MaxPoolin  (None, 32, 32, 32)        0         \n",
            " g2D)                                                            \n",
            "                                                                 \n",
            " global_average_pooling2d_1  (None, 32)                0         \n",
            "  (GlobalAveragePooling2D)                                       \n",
            "                                                                 \n",
            " dense_2 (Dense)             (None, 16)                528       \n",
            "                                                                 \n",
            " dense_3 (Dense)             (None, 2)                 34        \n",
            "                                                                 \n",
            "=================================================================\n",
            "Total params: 5650 (22.07 KB)\n",
            "Trainable params: 5650 (22.07 KB)\n",
            "Non-trainable params: 0 (0.00 Byte)\n",
            "_________________________________________________________________\n"
          ]
        }
      ]
    },
    {
      "cell_type": "code",
      "source": [
        "%%time\n",
        "epochsteps=len(train_set);epochs =20;valsteps=len(valid_set)\n",
        "# fit model\n",
        "history = strawberry_avg.fit(train_set, steps_per_epoch=epochsteps,\n",
        "                    validation_data=valid_set, validation_steps=valsteps, epochs=epochs, verbose=1)"
      ],
      "metadata": {
        "colab": {
          "base_uri": "https://localhost:8080/"
        },
        "id": "mx2u2MuyLNOS",
        "outputId": "817ea8ec-455b-4ec6-8a44-551b56e0aec5"
      },
      "execution_count": null,
      "outputs": [
        {
          "output_type": "stream",
          "name": "stdout",
          "text": [
            "Epoch 1/20\n",
            "90/90 [==============================] - 5s 33ms/step - loss: 0.5419 - accuracy: 0.7874 - val_loss: 0.3158 - val_accuracy: 0.9054\n",
            "Epoch 2/20\n",
            "90/90 [==============================] - 3s 31ms/step - loss: 0.2573 - accuracy: 0.9128 - val_loss: 0.1906 - val_accuracy: 0.9485\n",
            "Epoch 3/20\n",
            "90/90 [==============================] - 4s 43ms/step - loss: 0.2000 - accuracy: 0.9225 - val_loss: 0.1557 - val_accuracy: 0.9555\n",
            "Epoch 4/20\n",
            "90/90 [==============================] - 3s 36ms/step - loss: 0.1584 - accuracy: 0.9423 - val_loss: 0.1487 - val_accuracy: 0.9471\n",
            "Epoch 5/20\n",
            "90/90 [==============================] - 3s 30ms/step - loss: 0.1688 - accuracy: 0.9389 - val_loss: 0.1379 - val_accuracy: 0.9541\n",
            "Epoch 6/20\n",
            "90/90 [==============================] - 4s 44ms/step - loss: 0.1409 - accuracy: 0.9469 - val_loss: 0.1444 - val_accuracy: 0.9402\n",
            "Epoch 7/20\n",
            "90/90 [==============================] - 3s 32ms/step - loss: 0.1320 - accuracy: 0.9545 - val_loss: 0.1626 - val_accuracy: 0.9318\n",
            "Epoch 8/20\n",
            "90/90 [==============================] - 3s 30ms/step - loss: 0.1381 - accuracy: 0.9458 - val_loss: 0.1670 - val_accuracy: 0.9291\n",
            "Epoch 9/20\n",
            "90/90 [==============================] - 3s 32ms/step - loss: 0.1389 - accuracy: 0.9469 - val_loss: 0.1609 - val_accuracy: 0.9277\n",
            "Epoch 10/20\n",
            "90/90 [==============================] - 3s 30ms/step - loss: 0.1323 - accuracy: 0.9476 - val_loss: 0.1061 - val_accuracy: 0.9611\n",
            "Epoch 11/20\n",
            "90/90 [==============================] - 4s 42ms/step - loss: 0.1141 - accuracy: 0.9590 - val_loss: 0.1198 - val_accuracy: 0.9569\n",
            "Epoch 12/20\n",
            "90/90 [==============================] - 3s 30ms/step - loss: 0.1169 - accuracy: 0.9576 - val_loss: 0.1020 - val_accuracy: 0.9611\n",
            "Epoch 13/20\n",
            "90/90 [==============================] - 3s 31ms/step - loss: 0.1094 - accuracy: 0.9583 - val_loss: 0.1059 - val_accuracy: 0.9583\n",
            "Epoch 14/20\n",
            "90/90 [==============================] - 3s 34ms/step - loss: 0.1165 - accuracy: 0.9576 - val_loss: 0.1181 - val_accuracy: 0.9569\n",
            "Epoch 15/20\n",
            "90/90 [==============================] - 3s 31ms/step - loss: 0.1094 - accuracy: 0.9587 - val_loss: 0.0895 - val_accuracy: 0.9611\n",
            "Epoch 16/20\n",
            "90/90 [==============================] - 3s 31ms/step - loss: 0.1008 - accuracy: 0.9646 - val_loss: 0.0874 - val_accuracy: 0.9624\n",
            "Epoch 17/20\n",
            "90/90 [==============================] - 3s 30ms/step - loss: 0.0973 - accuracy: 0.9639 - val_loss: 0.0905 - val_accuracy: 0.9652\n",
            "Epoch 18/20\n",
            "90/90 [==============================] - 3s 31ms/step - loss: 0.0927 - accuracy: 0.9663 - val_loss: 0.0809 - val_accuracy: 0.9652\n",
            "Epoch 19/20\n",
            "90/90 [==============================] - 3s 31ms/step - loss: 0.0963 - accuracy: 0.9639 - val_loss: 0.0752 - val_accuracy: 0.9736\n",
            "Epoch 20/20\n",
            "90/90 [==============================] - 3s 31ms/step - loss: 0.0863 - accuracy: 0.9684 - val_loss: 0.0710 - val_accuracy: 0.9708\n",
            "CPU times: user 1min 34s, sys: 7.28 s, total: 1min 41s\n",
            "Wall time: 1min 28s\n"
          ]
        }
      ]
    },
    {
      "cell_type": "code",
      "source": [
        "plt.plot(history.history['val_loss'], color = 'orange')\n",
        "plt.plot(history.history['loss'], color='red')\n",
        "plt.plot(history.history['accuracy'], color = 'green')\n",
        "plt.plot(history.history['val_accuracy'], color = 'blue')\n",
        "plt.legend(['Val_loss','Train_loss'])\n",
        "e=range(0,20)\n",
        "labels=range(1,21)\n",
        "plt.xlabel(\"Epochs\")\n",
        "plt.ylabel(\"Loss\")\n",
        "plt.xticks(e,labels)\n",
        "plt.show()"
      ],
      "metadata": {
        "colab": {
          "base_uri": "https://localhost:8080/",
          "height": 449
        },
        "id": "PwcAUP0LMZmY",
        "outputId": "ba6abdb6-eb9d-4486-a526-6843046d6ce4"
      },
      "execution_count": null,
      "outputs": [
        {
          "output_type": "display_data",
          "data": {
            "text/plain": [
              "<Figure size 640x480 with 1 Axes>"
            ],
            "image/png": "[encoded data removed]"
          },
          "metadata": {}
        }
      ]
    },
    {
      "cell_type": "code",
      "source": [
        "labels = []\n",
        "predictions = []\n",
        "for x,y in test_set:\n",
        "    labels.append(list(y.numpy()))\n",
        "    predictions.append(tf.argmax(strawberry_avg.predict(x),1).numpy())"
      ],
      "metadata": {
        "colab": {
          "base_uri": "https://localhost:8080/"
        },
        "id": "x2Hr-HLcH_OG",
        "outputId": "1a414ed8-211a-49e7-d8e9-dedf8e741603"
      },
      "execution_count": null,
      "outputs": [
        {
          "output_type": "stream",
          "name": "stdout",
          "text": [
            "1/1 [==============================] - 0s 79ms/step\n",
            "1/1 [==============================] - 0s 21ms/step\n",
            "1/1 [==============================] - 0s 21ms/step\n",
            "1/1 [==============================] - 0s 25ms/step\n",
            "1/1 [==============================] - 0s 23ms/step\n",
            "1/1 [==============================] - 0s 25ms/step\n",
            "1/1 [==============================] - 0s 21ms/step\n",
            "1/1 [==============================] - 0s 24ms/step\n",
            "1/1 [==============================] - 0s 19ms/step\n",
            "1/1 [==============================] - 0s 23ms/step\n",
            "1/1 [==============================] - 0s 25ms/step\n",
            "1/1 [==============================] - 0s 22ms/step\n",
            "1/1 [==============================] - 0s 27ms/step\n",
            "1/1 [==============================] - 0s 22ms/step\n",
            "1/1 [==============================] - 0s 20ms/step\n",
            "1/1 [==============================] - 0s 24ms/step\n",
            "1/1 [==============================] - 0s 21ms/step\n",
            "1/1 [==============================] - 0s 19ms/step\n",
            "1/1 [==============================] - 0s 21ms/step\n",
            "1/1 [==============================] - 0s 21ms/step\n",
            "1/1 [==============================] - 0s 19ms/step\n",
            "1/1 [==============================] - 0s 21ms/step\n",
            "1/1 [==============================] - 0s 24ms/step\n",
            "1/1 [==============================] - 0s 21ms/step\n",
            "1/1 [==============================] - 0s 18ms/step\n",
            "1/1 [==============================] - 0s 22ms/step\n",
            "1/1 [==============================] - 0s 23ms/step\n",
            "1/1 [==============================] - 0s 26ms/step\n",
            "1/1 [==============================] - 0s 61ms/step\n"
          ]
        }
      ]
    },
    {
      "cell_type": "code",
      "source": [
        "predictions = list(itertools.chain.from_iterable(predictions))\n",
        "labels = list(itertools.chain.from_iterable(labels))"
      ],
      "metadata": {
        "id": "Ej5qxrsAH_1O"
      },
      "execution_count": null,
      "outputs": []
    },
    {
      "cell_type": "code",
      "source": [
        "print(\"Train Accuracy  : {:.2f} %\".format(history.history['accuracy'][-1]*100))\n",
        "print(\"Test Accuracy   : {:.2f} %\".format(accuracy_score(labels, predictions) * 100))\n",
        "print(\"Precision Score : {:.2f} %\".format(precision_score(labels, predictions, average='micro') * 100))\n",
        "print(\"Recall Score    : {:.2f} %\".format(recall_score(labels, predictions, average='micro') * 100))"
      ],
      "metadata": {
        "colab": {
          "base_uri": "https://localhost:8080/"
        },
        "id": "3isQAfobIF6l",
        "outputId": "9053f31d-5ea8-48f8-800c-31c7bb5ef09b"
      },
      "execution_count": null,
      "outputs": [
        {
          "output_type": "stream",
          "name": "stdout",
          "text": [
            "Train Accuracy  : 96.84 %\n",
            "Test Accuracy   : 96.78 %\n",
            "Precision Score : 96.78 %\n",
            "Recall Score    : 96.78 %\n"
          ]
        }
      ]
    },
    {
      "cell_type": "code",
      "source": [
        "# Plot a confusion matrix based on the true labels and predicted labels\n",
        "plt.figure(figsize= (2,2))\n",
        "cm = confusion_matrix(labels, predictions)\n",
        "disp = ConfusionMatrixDisplay(confusion_matrix=cm, display_labels=list(range(1,2)))\n",
        "fig, ax = plt.subplots(figsize=(10,10))\n",
        "disp.plot(ax=ax,colorbar= False,cmap = 'YlGnBu')\n",
        "plt.title(\"Confusion Matrix\")\n",
        "plt.xlabel('Predicted Labels')\n",
        "plt.ylabel('True Labels')\n",
        "plt.show()"
      ],
      "metadata": {
        "colab": {
          "base_uri": "https://localhost:8080/",
          "height": 1000
        },
        "id": "lW1qIzmsR_DR",
        "outputId": "61dca4f1-20cd-4ce7-bf94-f19208fae691"
      },
      "execution_count": null,
      "outputs": [
        {
          "output_type": "error",
          "ename": "ValueError",
          "evalue": "ignored",
          "traceback": [
            "\u001b[0;31m---------------------------------------------------------------------------\u001b[0m",
            "\u001b[0;31mValueError\u001b[0m                                Traceback (most recent call last)",
            "\u001b[0;32m<ipython-input-40-69a55b79c10d>\u001b[0m in \u001b[0;36m<cell line: 6>\u001b[0;34m()\u001b[0m\n\u001b[1;32m      4\u001b[0m \u001b[0mdisp\u001b[0m \u001b[0;34m=\u001b[0m \u001b[0mConfusionMatrixDisplay\u001b[0m\u001b[0;34m(\u001b[0m\u001b[0mconfusion_matrix\u001b[0m\u001b[0;34m=\u001b[0m\u001b[0mcm\u001b[0m\u001b[0;34m,\u001b[0m \u001b[0mdisplay_labels\u001b[0m\u001b[0;34m=\u001b[0m\u001b[0mlist\u001b[0m\u001b[0;34m(\u001b[0m\u001b[0mrange\u001b[0m\u001b[0;34m(\u001b[0m\u001b[0;36m0\u001b[0m\u001b[0;34m,\u001b[0m\u001b[0;36m1\u001b[0m\u001b[0;34m)\u001b[0m\u001b[0;34m)\u001b[0m\u001b[0;34m)\u001b[0m\u001b[0;34m\u001b[0m\u001b[0;34m\u001b[0m\u001b[0m\n\u001b[1;32m      5\u001b[0m \u001b[0mfig\u001b[0m\u001b[0;34m,\u001b[0m \u001b[0max\u001b[0m \u001b[0;34m=\u001b[0m \u001b[0mplt\u001b[0m\u001b[0;34m.\u001b[0m\u001b[0msubplots\u001b[0m\u001b[0;34m(\u001b[0m\u001b[0mfigsize\u001b[0m\u001b[0;34m=\u001b[0m\u001b[0;34m(\u001b[0m\u001b[0;36m10\u001b[0m\u001b[0;34m,\u001b[0m\u001b[0;36m10\u001b[0m\u001b[0;34m)\u001b[0m\u001b[0;34m)\u001b[0m\u001b[0;34m\u001b[0m\u001b[0;34m\u001b[0m\u001b[0m\n\u001b[0;32m----> 6\u001b[0;31m \u001b[0mdisp\u001b[0m\u001b[0;34m.\u001b[0m\u001b[0mplot\u001b[0m\u001b[0;34m(\u001b[0m\u001b[0max\u001b[0m\u001b[0;34m=\u001b[0m\u001b[0max\u001b[0m\u001b[0;34m,\u001b[0m\u001b[0mcolorbar\u001b[0m\u001b[0;34m=\u001b[0m \u001b[0;32mFalse\u001b[0m\u001b[0;34m,\u001b[0m\u001b[0mcmap\u001b[0m \u001b[0;34m=\u001b[0m \u001b[0;34m'YlGnBu'\u001b[0m\u001b[0;34m)\u001b[0m\u001b[0;34m\u001b[0m\u001b[0;34m\u001b[0m\u001b[0m\n\u001b[0m\u001b[1;32m      7\u001b[0m \u001b[0mplt\u001b[0m\u001b[0;34m.\u001b[0m\u001b[0mtitle\u001b[0m\u001b[0;34m(\u001b[0m\u001b[0;34m\"Confusion Matrix\"\u001b[0m\u001b[0;34m)\u001b[0m\u001b[0;34m\u001b[0m\u001b[0;34m\u001b[0m\u001b[0m\n\u001b[1;32m      8\u001b[0m \u001b[0mplt\u001b[0m\u001b[0;34m.\u001b[0m\u001b[0mxlabel\u001b[0m\u001b[0;34m(\u001b[0m\u001b[0;34m'Predicted Labels'\u001b[0m\u001b[0;34m)\u001b[0m\u001b[0;34m\u001b[0m\u001b[0;34m\u001b[0m\u001b[0m\n",
            "\u001b[0;32m/usr/local/lib/python3.10/dist-packages/sklearn/metrics/_plot/confusion_matrix.py\u001b[0m in \u001b[0;36mplot\u001b[0;34m(self, include_values, cmap, xticks_rotation, values_format, ax, colorbar, im_kw, text_kw)\u001b[0m\n\u001b[1;32m    179\u001b[0m         \u001b[0;32mif\u001b[0m \u001b[0mcolorbar\u001b[0m\u001b[0;34m:\u001b[0m\u001b[0;34m\u001b[0m\u001b[0;34m\u001b[0m\u001b[0m\n\u001b[1;32m    180\u001b[0m             \u001b[0mfig\u001b[0m\u001b[0;34m.\u001b[0m\u001b[0mcolorbar\u001b[0m\u001b[0;34m(\u001b[0m\u001b[0mself\u001b[0m\u001b[0;34m.\u001b[0m\u001b[0mim_\u001b[0m\u001b[0;34m,\u001b[0m \u001b[0max\u001b[0m\u001b[0;34m=\u001b[0m\u001b[0max\u001b[0m\u001b[0;34m)\u001b[0m\u001b[0;34m\u001b[0m\u001b[0;34m\u001b[0m\u001b[0m\n\u001b[0;32m--> 181\u001b[0;31m         ax.set(\n\u001b[0m\u001b[1;32m    182\u001b[0m             \u001b[0mxticks\u001b[0m\u001b[0;34m=\u001b[0m\u001b[0mnp\u001b[0m\u001b[0;34m.\u001b[0m\u001b[0marange\u001b[0m\u001b[0;34m(\u001b[0m\u001b[0mn_classes\u001b[0m\u001b[0;34m)\u001b[0m\u001b[0;34m,\u001b[0m\u001b[0;34m\u001b[0m\u001b[0;34m\u001b[0m\u001b[0m\n\u001b[1;32m    183\u001b[0m             \u001b[0myticks\u001b[0m\u001b[0;34m=\u001b[0m\u001b[0mnp\u001b[0m\u001b[0;34m.\u001b[0m\u001b[0marange\u001b[0m\u001b[0;34m(\u001b[0m\u001b[0mn_classes\u001b[0m\u001b[0;34m)\u001b[0m\u001b[0;34m,\u001b[0m\u001b[0;34m\u001b[0m\u001b[0;34m\u001b[0m\u001b[0m\n",
            "\u001b[0;32m/usr/local/lib/python3.10/dist-packages/matplotlib/artist.py\u001b[0m in \u001b[0;36m<lambda>\u001b[0;34m(self, **kwargs)\u001b[0m\n\u001b[1;32m    145\u001b[0m             \u001b[0;32mreturn\u001b[0m\u001b[0;34m\u001b[0m\u001b[0;34m\u001b[0m\u001b[0m\n\u001b[1;32m    146\u001b[0m \u001b[0;34m\u001b[0m\u001b[0m\n\u001b[0;32m--> 147\u001b[0;31m         \u001b[0mcls\u001b[0m\u001b[0;34m.\u001b[0m\u001b[0mset\u001b[0m \u001b[0;34m=\u001b[0m \u001b[0;32mlambda\u001b[0m \u001b[0mself\u001b[0m\u001b[0;34m,\u001b[0m \u001b[0;34m**\u001b[0m\u001b[0mkwargs\u001b[0m\u001b[0;34m:\u001b[0m \u001b[0mArtist\u001b[0m\u001b[0;34m.\u001b[0m\u001b[0mset\u001b[0m\u001b[0;34m(\u001b[0m\u001b[0mself\u001b[0m\u001b[0;34m,\u001b[0m \u001b[0;34m**\u001b[0m\u001b[0mkwargs\u001b[0m\u001b[0;34m)\u001b[0m\u001b[0;34m\u001b[0m\u001b[0;34m\u001b[0m\u001b[0m\n\u001b[0m\u001b[1;32m    148\u001b[0m         \u001b[0mcls\u001b[0m\u001b[0;34m.\u001b[0m\u001b[0mset\u001b[0m\u001b[0;34m.\u001b[0m\u001b[0m__name__\u001b[0m \u001b[0;34m=\u001b[0m \u001b[0;34m\"set\"\u001b[0m\u001b[0;34m\u001b[0m\u001b[0;34m\u001b[0m\u001b[0m\n\u001b[1;32m    149\u001b[0m         \u001b[0mcls\u001b[0m\u001b[0;34m.\u001b[0m\u001b[0mset\u001b[0m\u001b[0;34m.\u001b[0m\u001b[0m__qualname__\u001b[0m \u001b[0;34m=\u001b[0m \u001b[0;34mf\"{cls.__qualname__}.set\"\u001b[0m\u001b[0;34m\u001b[0m\u001b[0;34m\u001b[0m\u001b[0m\n",
            "\u001b[0;32m/usr/local/lib/python3.10/dist-packages/matplotlib/artist.py\u001b[0m in \u001b[0;36mset\u001b[0;34m(self, **kwargs)\u001b[0m\n\u001b[1;32m   1229\u001b[0m         \u001b[0;31m# Artist._update_set_signature_and_docstring() at the end of the\u001b[0m\u001b[0;34m\u001b[0m\u001b[0;34m\u001b[0m\u001b[0m\n\u001b[1;32m   1230\u001b[0m         \u001b[0;31m# module.\u001b[0m\u001b[0;34m\u001b[0m\u001b[0;34m\u001b[0m\u001b[0m\n\u001b[0;32m-> 1231\u001b[0;31m         \u001b[0;32mreturn\u001b[0m \u001b[0mself\u001b[0m\u001b[0;34m.\u001b[0m\u001b[0m_internal_update\u001b[0m\u001b[0;34m(\u001b[0m\u001b[0mcbook\u001b[0m\u001b[0;34m.\u001b[0m\u001b[0mnormalize_kwargs\u001b[0m\u001b[0;34m(\u001b[0m\u001b[0mkwargs\u001b[0m\u001b[0;34m,\u001b[0m \u001b[0mself\u001b[0m\u001b[0;34m)\u001b[0m\u001b[0;34m)\u001b[0m\u001b[0;34m\u001b[0m\u001b[0;34m\u001b[0m\u001b[0m\n\u001b[0m\u001b[1;32m   1232\u001b[0m \u001b[0;34m\u001b[0m\u001b[0m\n\u001b[1;32m   1233\u001b[0m     \u001b[0;34m@\u001b[0m\u001b[0mcontextlib\u001b[0m\u001b[0;34m.\u001b[0m\u001b[0mcontextmanager\u001b[0m\u001b[0;34m\u001b[0m\u001b[0;34m\u001b[0m\u001b[0m\n",
            "\u001b[0;32m/usr/local/lib/python3.10/dist-packages/matplotlib/artist.py\u001b[0m in \u001b[0;36m_internal_update\u001b[0;34m(self, kwargs)\u001b[0m\n\u001b[1;32m   1221\u001b[0m         \u001b[0mThe\u001b[0m \u001b[0mlack\u001b[0m \u001b[0mof\u001b[0m \u001b[0mprenormalization\u001b[0m \u001b[0;32mis\u001b[0m \u001b[0mto\u001b[0m \u001b[0mmaintain\u001b[0m \u001b[0mbackcompatibility\u001b[0m\u001b[0;34m.\u001b[0m\u001b[0;34m\u001b[0m\u001b[0;34m\u001b[0m\u001b[0m\n\u001b[1;32m   1222\u001b[0m         \"\"\"\n\u001b[0;32m-> 1223\u001b[0;31m         return self._update_props(\n\u001b[0m\u001b[1;32m   1224\u001b[0m             \u001b[0mkwargs\u001b[0m\u001b[0;34m,\u001b[0m \u001b[0;34m\"{cls.__name__}.set() got an unexpected keyword argument \"\u001b[0m\u001b[0;34m\u001b[0m\u001b[0;34m\u001b[0m\u001b[0m\n\u001b[1;32m   1225\u001b[0m             \"{prop_name!r}\")\n",
            "\u001b[0;32m/usr/local/lib/python3.10/dist-packages/matplotlib/artist.py\u001b[0m in \u001b[0;36m_update_props\u001b[0;34m(self, props, errfmt)\u001b[0m\n\u001b[1;32m   1197\u001b[0m                         raise AttributeError(\n\u001b[1;32m   1198\u001b[0m                             errfmt.format(cls=type(self), prop_name=k))\n\u001b[0;32m-> 1199\u001b[0;31m                     \u001b[0mret\u001b[0m\u001b[0;34m.\u001b[0m\u001b[0mappend\u001b[0m\u001b[0;34m(\u001b[0m\u001b[0mfunc\u001b[0m\u001b[0;34m(\u001b[0m\u001b[0mv\u001b[0m\u001b[0;34m)\u001b[0m\u001b[0;34m)\u001b[0m\u001b[0;34m\u001b[0m\u001b[0;34m\u001b[0m\u001b[0m\n\u001b[0m\u001b[1;32m   1200\u001b[0m         \u001b[0;32mif\u001b[0m \u001b[0mret\u001b[0m\u001b[0;34m:\u001b[0m\u001b[0;34m\u001b[0m\u001b[0;34m\u001b[0m\u001b[0m\n\u001b[1;32m   1201\u001b[0m             \u001b[0mself\u001b[0m\u001b[0;34m.\u001b[0m\u001b[0mpchanged\u001b[0m\u001b[0;34m(\u001b[0m\u001b[0;34m)\u001b[0m\u001b[0;34m\u001b[0m\u001b[0;34m\u001b[0m\u001b[0m\n",
            "\u001b[0;32m/usr/local/lib/python3.10/dist-packages/matplotlib/axes/_base.py\u001b[0m in \u001b[0;36mwrapper\u001b[0;34m(self, *args, **kwargs)\u001b[0m\n\u001b[1;32m     72\u001b[0m \u001b[0;34m\u001b[0m\u001b[0m\n\u001b[1;32m     73\u001b[0m         \u001b[0;32mdef\u001b[0m \u001b[0mwrapper\u001b[0m\u001b[0;34m(\u001b[0m\u001b[0mself\u001b[0m\u001b[0;34m,\u001b[0m \u001b[0;34m*\u001b[0m\u001b[0margs\u001b[0m\u001b[0;34m,\u001b[0m \u001b[0;34m**\u001b[0m\u001b[0mkwargs\u001b[0m\u001b[0;34m)\u001b[0m\u001b[0;34m:\u001b[0m\u001b[0;34m\u001b[0m\u001b[0;34m\u001b[0m\u001b[0m\n\u001b[0;32m---> 74\u001b[0;31m             \u001b[0;32mreturn\u001b[0m \u001b[0mget_method\u001b[0m\u001b[0;34m(\u001b[0m\u001b[0mself\u001b[0m\u001b[0;34m)\u001b[0m\u001b[0;34m(\u001b[0m\u001b[0;34m*\u001b[0m\u001b[0margs\u001b[0m\u001b[0;34m,\u001b[0m \u001b[0;34m**\u001b[0m\u001b[0mkwargs\u001b[0m\u001b[0;34m)\u001b[0m\u001b[0;34m\u001b[0m\u001b[0;34m\u001b[0m\u001b[0m\n\u001b[0m\u001b[1;32m     75\u001b[0m \u001b[0;34m\u001b[0m\u001b[0m\n\u001b[1;32m     76\u001b[0m         \u001b[0mwrapper\u001b[0m\u001b[0;34m.\u001b[0m\u001b[0m__module__\u001b[0m \u001b[0;34m=\u001b[0m \u001b[0mowner\u001b[0m\u001b[0;34m.\u001b[0m\u001b[0m__module__\u001b[0m\u001b[0;34m\u001b[0m\u001b[0;34m\u001b[0m\u001b[0m\n",
            "\u001b[0;32m/usr/local/lib/python3.10/dist-packages/matplotlib/_api/deprecation.py\u001b[0m in \u001b[0;36mwrapper\u001b[0;34m(*args, **kwargs)\u001b[0m\n\u001b[1;32m    295\u001b[0m                 f\"for the old name will be dropped %(removal)s.\")\n\u001b[1;32m    296\u001b[0m             \u001b[0mkwargs\u001b[0m\u001b[0;34m[\u001b[0m\u001b[0mnew\u001b[0m\u001b[0;34m]\u001b[0m \u001b[0;34m=\u001b[0m \u001b[0mkwargs\u001b[0m\u001b[0;34m.\u001b[0m\u001b[0mpop\u001b[0m\u001b[0;34m(\u001b[0m\u001b[0mold\u001b[0m\u001b[0;34m)\u001b[0m\u001b[0;34m\u001b[0m\u001b[0;34m\u001b[0m\u001b[0m\n\u001b[0;32m--> 297\u001b[0;31m         \u001b[0;32mreturn\u001b[0m \u001b[0mfunc\u001b[0m\u001b[0;34m(\u001b[0m\u001b[0;34m*\u001b[0m\u001b[0margs\u001b[0m\u001b[0;34m,\u001b[0m \u001b[0;34m**\u001b[0m\u001b[0mkwargs\u001b[0m\u001b[0;34m)\u001b[0m\u001b[0;34m\u001b[0m\u001b[0;34m\u001b[0m\u001b[0m\n\u001b[0m\u001b[1;32m    298\u001b[0m \u001b[0;34m\u001b[0m\u001b[0m\n\u001b[1;32m    299\u001b[0m     \u001b[0;31m# wrapper() must keep the same documented signature as func(): if we\u001b[0m\u001b[0;34m\u001b[0m\u001b[0;34m\u001b[0m\u001b[0m\n",
            "\u001b[0;32m/usr/local/lib/python3.10/dist-packages/matplotlib/axis.py\u001b[0m in \u001b[0;36mset_ticklabels\u001b[0;34m(self, labels, minor, fontdict, **kwargs)\u001b[0m\n\u001b[1;32m   1967\u001b[0m             \u001b[0;31m# remove all tick labels, so only error for > 0 labels\u001b[0m\u001b[0;34m\u001b[0m\u001b[0;34m\u001b[0m\u001b[0m\n\u001b[1;32m   1968\u001b[0m             \u001b[0;32mif\u001b[0m \u001b[0mlen\u001b[0m\u001b[0;34m(\u001b[0m\u001b[0mlocator\u001b[0m\u001b[0;34m.\u001b[0m\u001b[0mlocs\u001b[0m\u001b[0;34m)\u001b[0m \u001b[0;34m!=\u001b[0m \u001b[0mlen\u001b[0m\u001b[0;34m(\u001b[0m\u001b[0mlabels\u001b[0m\u001b[0;34m)\u001b[0m \u001b[0;32mand\u001b[0m \u001b[0mlen\u001b[0m\u001b[0;34m(\u001b[0m\u001b[0mlabels\u001b[0m\u001b[0;34m)\u001b[0m \u001b[0;34m!=\u001b[0m \u001b[0;36m0\u001b[0m\u001b[0;34m:\u001b[0m\u001b[0;34m\u001b[0m\u001b[0;34m\u001b[0m\u001b[0m\n\u001b[0;32m-> 1969\u001b[0;31m                 raise ValueError(\n\u001b[0m\u001b[1;32m   1970\u001b[0m                     \u001b[0;34m\"The number of FixedLocator locations\"\u001b[0m\u001b[0;34m\u001b[0m\u001b[0;34m\u001b[0m\u001b[0m\n\u001b[1;32m   1971\u001b[0m                     \u001b[0;34mf\" ({len(locator.locs)}), usually from a call to\"\u001b[0m\u001b[0;34m\u001b[0m\u001b[0;34m\u001b[0m\u001b[0m\n",
            "\u001b[0;31mValueError\u001b[0m: The number of FixedLocator locations (2), usually from a call to set_ticks, does not match the number of labels (1)."
          ]
        },
        {
          "output_type": "display_data",
          "data": {
            "text/plain": [
              "<Figure size 200x200 with 0 Axes>"
            ]
          },
          "metadata": {}
        },
        {
          "output_type": "display_data",
          "data": {
            "text/plain": [
              "<Figure size 1000x1000 with 1 Axes>"
            ],
            "image/png": "[encoded data removed]"
          },
          "metadata": {}
        }
      ]
    },
    {
      "cell_type": "code",
      "source": [
        "strawberry_avg.save(\"strawberryAvg-20-Final.h5\")"
      ],
      "metadata": {
        "id": "AxIrmu5TtEId"
      },
      "execution_count": null,
      "outputs": []
    },
    {
      "cell_type": "markdown",
      "source": [
        "#Bell Pepper"
      ],
      "metadata": {
        "id": "4UL86OzlLsVd"
      }
    },
    {
      "cell_type": "code",
      "source": [
        "data_dir = r\"/tmp/DS MINI PROJECT DATASET(BALANCEDANDIMBALANCED)\"\n",
        "train_bp_dir = data_dir + \"/Training/Bell Pepper\"\n",
        "test_bp_dir = data_dir + \"/Testing/Bell Pepper\""
      ],
      "metadata": {
        "id": "9rAtKmE6LnZy"
      },
      "execution_count": null,
      "outputs": []
    },
    {
      "cell_type": "code",
      "source": [
        "seed_train_validation = 1 # Must be same for train_ds and val_ds\n",
        "shuffle_value = True\n",
        "validation_split = 0.2\n",
        "\n",
        "train_gen = tf.keras.utils.image_dataset_from_directory(\n",
        "                                                        directory = train_bp_dir,\n",
        "                                                        image_size = (128, 128),\n",
        "                                                        label_mode='categorical',\n",
        "                                                        validation_split = validation_split,\n",
        "                                                        batch_size=32,\n",
        "                                                        subset = \"training\",\n",
        "                                                        seed = seed_train_validation,\n",
        "                                                        shuffle = shuffle_value)\n",
        "\n",
        "val_gen = tf.keras.utils.image_dataset_from_directory(\n",
        "                                                        directory = train_bp_dir,\n",
        "                                                        image_size = (128, 128),\n",
        "                                                        validation_split = validation_split,\n",
        "                                                        label_mode='categorical',\n",
        "                                                        batch_size=32,\n",
        "                                                        subset = \"validation\",\n",
        "                                                        seed = seed_train_validation,\n",
        "                                                        shuffle = shuffle_value)\n",
        "\n",
        "test_it = tf.keras.utils.image_dataset_from_directory( directory= test_bp_dir,\n",
        "                                                      batch_size=32,\n",
        "                                                      image_size=(128, 128))"
      ],
      "metadata": {
        "colab": {
          "base_uri": "https://localhost:8080/"
        },
        "id": "GT5syFZzLvsx",
        "outputId": "9f3332cd-4ef6-447b-f6a0-eea7f904d64e"
      },
      "execution_count": null,
      "outputs": [
        {
          "output_type": "stream",
          "name": "stdout",
          "text": [
            "Found 3901 files belonging to 2 classes.\n",
            "Using 3121 files for training.\n",
            "Found 3901 files belonging to 2 classes.\n",
            "Using 780 files for validation.\n",
            "Found 975 files belonging to 2 classes.\n"
          ]
        }
      ]
    },
    {
      "cell_type": "code",
      "source": [
        "rescale = Rescaling(scale=1./255)\n",
        "train_set  = train_gen.map(lambda image,label:(rescale(image),label))\n",
        "valid_set  = val_gen.map(lambda image,label:(rescale(image),label))\n",
        "test_set  = test_it.map(lambda image,label:(rescale(image),label))"
      ],
      "metadata": {
        "id": "POh0CcifwYu5"
      },
      "execution_count": null,
      "outputs": []
    },
    {
      "cell_type": "code",
      "source": [
        "#average pooling\n",
        "from keras.layers import GlobalAveragePooling2D\n",
        "\n",
        "bell_pepper_a = models.Sequential()\n",
        "bell_pepper_a = Sequential()\n",
        "\n",
        "bell_pepper_a.add(Conv2D(filters=16,kernel_size=(3,3),padding=\"same\", activation=\"relu\", input_shape=(128,128,3)))\n",
        "bell_pepper_a.add(MaxPool2D(pool_size=(2,2),strides=(2,2)))\n",
        "#bell_pepper_a.add(Dropout(0.4))\n",
        "\n",
        "bell_pepper_a.add(Conv2D(filters=32, kernel_size=(3,3), padding=\"same\", activation=\"relu\"))\n",
        "bell_pepper_a.add(MaxPool2D(pool_size=(2,2),strides=(2,2)))\n",
        "#model1.add(Dropout(0.6))\n",
        "\n",
        "avg1 = GlobalAveragePooling2D()(bell_pepper_a.layers[-1].output)\n",
        "\n",
        "class1 = Dense(16, activation='relu', kernel_initializer='he_uniform')(avg1)\n",
        "output = Dense(2, activation='softmax')(class1)\n",
        "bell_pepper_a = Model(inputs=bell_pepper_a.inputs, outputs=output)"
      ],
      "metadata": {
        "id": "NL85wB-MMHfZ"
      },
      "execution_count": null,
      "outputs": []
    },
    {
      "cell_type": "code",
      "source": [
        "bell_pepper_a.compile(optimizer='adam', loss='categorical_crossentropy', metrics=['accuracy'])\n",
        "bell_pepper_a.summary()"
      ],
      "metadata": {
        "colab": {
          "base_uri": "https://localhost:8080/"
        },
        "id": "G52auGxaMJtv",
        "outputId": "353207f3-7189-497b-c78b-cc9920fc5a4e"
      },
      "execution_count": null,
      "outputs": [
        {
          "output_type": "stream",
          "name": "stdout",
          "text": [
            "Model: \"model_4\"\n",
            "_________________________________________________________________\n",
            " Layer (type)                Output Shape              Param #   \n",
            "=================================================================\n",
            " conv2d_9_input (InputLayer  [(None, 128, 128, 3)]     0         \n",
            " )                                                               \n",
            "                                                                 \n",
            " conv2d_9 (Conv2D)           (None, 128, 128, 16)      448       \n",
            "                                                                 \n",
            " max_pooling2d_9 (MaxPoolin  (None, 64, 64, 16)        0         \n",
            " g2D)                                                            \n",
            "                                                                 \n",
            " conv2d_10 (Conv2D)          (None, 64, 64, 32)        4640      \n",
            "                                                                 \n",
            " max_pooling2d_10 (MaxPooli  (None, 32, 32, 32)        0         \n",
            " ng2D)                                                           \n",
            "                                                                 \n",
            " global_average_pooling2d_4  (None, 32)                0         \n",
            "  (GlobalAveragePooling2D)                                       \n",
            "                                                                 \n",
            " dense_8 (Dense)             (None, 16)                528       \n",
            "                                                                 \n",
            " dense_9 (Dense)             (None, 2)                 34        \n",
            "                                                                 \n",
            "=================================================================\n",
            "Total params: 5650 (22.07 KB)\n",
            "Trainable params: 5650 (22.07 KB)\n",
            "Non-trainable params: 0 (0.00 Byte)\n",
            "_________________________________________________________________\n"
          ]
        }
      ]
    },
    {
      "cell_type": "code",
      "source": [
        "epochsteps=len(train_set);e=20;valsteps=len(valid_set) #teststeps=len(test_it)\n",
        "\n",
        "history = bell_pepper_a.fit(train_set, steps_per_epoch=epochsteps,\n",
        "                    validation_data=valid_set, validation_steps=valsteps, epochs=e, verbose=1)\n",
        "# test_loss, test_acc = bell_pepper_a.evaluate(test_it, steps=teststeps, verbose=1)\n",
        "# print('Test Accuracy=',str(test_acc * 100.0)+'%')\n",
        "# print('Test Loss=',str(test_loss*100)+'%')"
      ],
      "metadata": {
        "colab": {
          "base_uri": "https://localhost:8080/"
        },
        "id": "P5zUmMaJMOdK",
        "outputId": "ba645a85-7a3d-454a-ae1c-ffd20b2c774b"
      },
      "execution_count": null,
      "outputs": [
        {
          "output_type": "stream",
          "name": "stdout",
          "text": [
            "Epoch 1/20\n",
            "98/98 [==============================] - 6s 32ms/step - loss: 0.6225 - accuracy: 0.6597 - val_loss: 0.5060 - val_accuracy: 0.8308\n",
            "Epoch 2/20\n",
            "98/98 [==============================] - 3s 32ms/step - loss: 0.4424 - accuracy: 0.8013 - val_loss: 0.4075 - val_accuracy: 0.7872\n",
            "Epoch 3/20\n",
            "98/98 [==============================] - 4s 41ms/step - loss: 0.3465 - accuracy: 0.8565 - val_loss: 0.3094 - val_accuracy: 0.8872\n",
            "Epoch 4/20\n",
            "98/98 [==============================] - 3s 31ms/step - loss: 0.2965 - accuracy: 0.8686 - val_loss: 0.2754 - val_accuracy: 0.8949\n",
            "Epoch 5/20\n",
            "98/98 [==============================] - 3s 32ms/step - loss: 0.2744 - accuracy: 0.8837 - val_loss: 0.2544 - val_accuracy: 0.9090\n",
            "Epoch 6/20\n",
            "98/98 [==============================] - 4s 34ms/step - loss: 0.2526 - accuracy: 0.8927 - val_loss: 0.2376 - val_accuracy: 0.9064\n",
            "Epoch 7/20\n",
            "98/98 [==============================] - 3s 30ms/step - loss: 0.2449 - accuracy: 0.8930 - val_loss: 0.2689 - val_accuracy: 0.8833\n",
            "Epoch 8/20\n",
            "98/98 [==============================] - 3s 30ms/step - loss: 0.2405 - accuracy: 0.8968 - val_loss: 0.2177 - val_accuracy: 0.9218\n",
            "Epoch 9/20\n",
            "98/98 [==============================] - 4s 35ms/step - loss: 0.2165 - accuracy: 0.9141 - val_loss: 0.2858 - val_accuracy: 0.8769\n",
            "Epoch 10/20\n",
            "98/98 [==============================] - 3s 32ms/step - loss: 0.2242 - accuracy: 0.9071 - val_loss: 0.2111 - val_accuracy: 0.9244\n",
            "Epoch 11/20\n",
            "98/98 [==============================] - 4s 38ms/step - loss: 0.2054 - accuracy: 0.9138 - val_loss: 0.1995 - val_accuracy: 0.9282\n",
            "Epoch 12/20\n",
            "98/98 [==============================] - 4s 33ms/step - loss: 0.1885 - accuracy: 0.9260 - val_loss: 0.1923 - val_accuracy: 0.9269\n",
            "Epoch 13/20\n",
            "98/98 [==============================] - 3s 32ms/step - loss: 0.1934 - accuracy: 0.9231 - val_loss: 0.2116 - val_accuracy: 0.9141\n",
            "Epoch 14/20\n",
            "98/98 [==============================] - 4s 41ms/step - loss: 0.1923 - accuracy: 0.9225 - val_loss: 0.2105 - val_accuracy: 0.9077\n",
            "Epoch 15/20\n",
            "98/98 [==============================] - 4s 33ms/step - loss: 0.1838 - accuracy: 0.9308 - val_loss: 0.1812 - val_accuracy: 0.9359\n",
            "Epoch 16/20\n",
            "98/98 [==============================] - 3s 32ms/step - loss: 0.1834 - accuracy: 0.9266 - val_loss: 0.1832 - val_accuracy: 0.9308\n",
            "Epoch 17/20\n",
            "98/98 [==============================] - 4s 41ms/step - loss: 0.1712 - accuracy: 0.9346 - val_loss: 0.1993 - val_accuracy: 0.9308\n",
            "Epoch 18/20\n",
            "98/98 [==============================] - 4s 33ms/step - loss: 0.1634 - accuracy: 0.9382 - val_loss: 0.1885 - val_accuracy: 0.9192\n",
            "Epoch 19/20\n",
            "98/98 [==============================] - 3s 32ms/step - loss: 0.1693 - accuracy: 0.9385 - val_loss: 0.1737 - val_accuracy: 0.9359\n",
            "Epoch 20/20\n",
            "98/98 [==============================] - 3s 32ms/step - loss: 0.1662 - accuracy: 0.9362 - val_loss: 0.1730 - val_accuracy: 0.9359\n"
          ]
        }
      ]
    },
    {
      "cell_type": "code",
      "source": [
        "plt.plot(history.history['val_loss'], color = 'orange')\n",
        "plt.plot(history.history['loss'], color='red')\n",
        "plt.plot(history.history['accuracy'], color = 'green')\n",
        "plt.plot(history.history['val_accuracy'], color = 'blue')\n",
        "plt.legend(['Val_loss','Train_loss'])\n",
        "e=range(0,20)\n",
        "labels=range(1,21)\n",
        "plt.xlabel(\"Epochs\")\n",
        "plt.ylabel(\"Loss\")\n",
        "plt.xticks(e,labels)\n",
        "plt.show()"
      ],
      "metadata": {
        "colab": {
          "base_uri": "https://localhost:8080/",
          "height": 449
        },
        "id": "VS7PHC68MXAD",
        "outputId": "46663040-08be-4815-b7d7-c7ea82f497b6"
      },
      "execution_count": null,
      "outputs": [
        {
          "output_type": "display_data",
          "data": {
            "text/plain": [
              "<Figure size 640x480 with 1 Axes>"
            ],
            "image/png": "[encoded data removed]"
          },
          "metadata": {}
        }
      ]
    },
    {
      "cell_type": "code",
      "source": [
        "labels = []\n",
        "predictions = []\n",
        "for x,y in test_set:\n",
        "    labels.append(list(y.numpy()))\n",
        "    predictions.append(tf.argmax(bell_pepper_a.predict(x),1).numpy())"
      ],
      "metadata": {
        "id": "UMaA7nbDGwPm",
        "colab": {
          "base_uri": "https://localhost:8080/"
        },
        "outputId": "362e7271-21be-4c2a-8ad5-dca368ef5ad7"
      },
      "execution_count": null,
      "outputs": [
        {
          "output_type": "stream",
          "name": "stdout",
          "text": [
            "1/1 [==============================] - 0s 79ms/step\n",
            "1/1 [==============================] - 0s 26ms/step\n",
            "1/1 [==============================] - 0s 22ms/step\n",
            "1/1 [==============================] - 0s 22ms/step\n",
            "1/1 [==============================] - 0s 24ms/step\n",
            "1/1 [==============================] - 0s 26ms/step\n",
            "1/1 [==============================] - 0s 22ms/step\n",
            "1/1 [==============================] - 0s 22ms/step\n",
            "1/1 [==============================] - 0s 24ms/step\n",
            "1/1 [==============================] - 0s 21ms/step\n",
            "1/1 [==============================] - 0s 26ms/step\n",
            "1/1 [==============================] - 0s 21ms/step\n",
            "1/1 [==============================] - 0s 27ms/step\n",
            "1/1 [==============================] - 0s 21ms/step\n",
            "1/1 [==============================] - 0s 35ms/step\n",
            "1/1 [==============================] - 0s 22ms/step\n",
            "1/1 [==============================] - 0s 24ms/step\n",
            "1/1 [==============================] - 0s 20ms/step\n",
            "1/1 [==============================] - 0s 27ms/step\n",
            "1/1 [==============================] - 0s 21ms/step\n",
            "1/1 [==============================] - 0s 21ms/step\n",
            "1/1 [==============================] - 0s 23ms/step\n",
            "1/1 [==============================] - 0s 23ms/step\n",
            "1/1 [==============================] - 0s 21ms/step\n",
            "1/1 [==============================] - 0s 20ms/step\n",
            "1/1 [==============================] - 0s 20ms/step\n",
            "1/1 [==============================] - 0s 24ms/step\n",
            "1/1 [==============================] - 0s 24ms/step\n",
            "1/1 [==============================] - 0s 25ms/step\n",
            "1/1 [==============================] - 0s 23ms/step\n",
            "1/1 [==============================] - 0s 84ms/step\n"
          ]
        }
      ]
    },
    {
      "cell_type": "code",
      "source": [
        "predictions = list(itertools.chain.from_iterable(predictions))\n",
        "labels = list(itertools.chain.from_iterable(labels))"
      ],
      "metadata": {
        "id": "iZg1N1o6CPm0"
      },
      "execution_count": null,
      "outputs": []
    },
    {
      "cell_type": "code",
      "source": [
        "print(\"Train Accuracy  : {:.2f} %\".format(history.history['accuracy'][-1]*100))\n",
        "print(\"Test Accuracy   : {:.2f} %\".format(accuracy_score(labels, predictions) * 100))\n",
        "print(\"Precision Score : {:.2f} %\".format(precision_score(labels, predictions, average='micro') * 100))\n",
        "print(\"Recall Score    : {:.2f} %\".format(recall_score(labels, predictions, average='micro') * 100))"
      ],
      "metadata": {
        "colab": {
          "base_uri": "https://localhost:8080/"
        },
        "id": "h2IJJjnjJRS7",
        "outputId": "05811366-a45a-4ccf-eea2-79e6a78e4355"
      },
      "execution_count": null,
      "outputs": [
        {
          "output_type": "stream",
          "name": "stdout",
          "text": [
            "Train Accuracy  : 93.62 %\n",
            "Test Accuracy   : 95.38 %\n",
            "Precision Score : 95.38 %\n",
            "Recall Score    : 95.38 %\n"
          ]
        }
      ]
    },
    {
      "cell_type": "code",
      "source": [
        "# Plot a confusion matrix based on the true labels and predicted labels\n",
        "plt.figure(figsize= (2,2))\n",
        "cm = confusion_matrix(labels, predictions)\n",
        "disp = ConfusionMatrixDisplay(confusion_matrix=cm, display_labels=list(range(1,2)))\n",
        "fig, ax = plt.subplots(figsize=(8,8))\n",
        "disp.plot(ax=ax,colorbar= False,cmap = 'YlGnBu')\n",
        "plt.title(\"Confusion Matrix\")\n",
        "plt.xlabel('Predicted Labels')\n",
        "plt.ylabel('True Labels')\n",
        "plt.show()"
      ],
      "metadata": {
        "colab": {
          "base_uri": "https://localhost:8080/",
          "height": 1000
        },
        "id": "gTLaxc1_yVBT",
        "outputId": "31269793-b18d-4a69-a96a-616708740e9d"
      },
      "execution_count": null,
      "outputs": [
        {
          "output_type": "error",
          "ename": "ValueError",
          "evalue": "ignored",
          "traceback": [
            "\u001b[0;31m---------------------------------------------------------------------------\u001b[0m",
            "\u001b[0;31mValueError\u001b[0m                                Traceback (most recent call last)",
            "\u001b[0;32m<ipython-input-60-7a91771ed1a0>\u001b[0m in \u001b[0;36m<cell line: 6>\u001b[0;34m()\u001b[0m\n\u001b[1;32m      4\u001b[0m \u001b[0mdisp\u001b[0m \u001b[0;34m=\u001b[0m \u001b[0mConfusionMatrixDisplay\u001b[0m\u001b[0;34m(\u001b[0m\u001b[0mconfusion_matrix\u001b[0m\u001b[0;34m=\u001b[0m\u001b[0mcm\u001b[0m\u001b[0;34m,\u001b[0m \u001b[0mdisplay_labels\u001b[0m\u001b[0;34m=\u001b[0m\u001b[0mlist\u001b[0m\u001b[0;34m(\u001b[0m\u001b[0mrange\u001b[0m\u001b[0;34m(\u001b[0m\u001b[0;36m1\u001b[0m\u001b[0;34m,\u001b[0m\u001b[0;36m2\u001b[0m\u001b[0;34m)\u001b[0m\u001b[0;34m)\u001b[0m\u001b[0;34m)\u001b[0m\u001b[0;34m\u001b[0m\u001b[0;34m\u001b[0m\u001b[0m\n\u001b[1;32m      5\u001b[0m \u001b[0mfig\u001b[0m\u001b[0;34m,\u001b[0m \u001b[0max\u001b[0m \u001b[0;34m=\u001b[0m \u001b[0mplt\u001b[0m\u001b[0;34m.\u001b[0m\u001b[0msubplots\u001b[0m\u001b[0;34m(\u001b[0m\u001b[0mfigsize\u001b[0m\u001b[0;34m=\u001b[0m\u001b[0;34m(\u001b[0m\u001b[0;36m8\u001b[0m\u001b[0;34m,\u001b[0m\u001b[0;36m8\u001b[0m\u001b[0;34m)\u001b[0m\u001b[0;34m)\u001b[0m\u001b[0;34m\u001b[0m\u001b[0;34m\u001b[0m\u001b[0m\n\u001b[0;32m----> 6\u001b[0;31m \u001b[0mdisp\u001b[0m\u001b[0;34m.\u001b[0m\u001b[0mplot\u001b[0m\u001b[0;34m(\u001b[0m\u001b[0max\u001b[0m\u001b[0;34m=\u001b[0m\u001b[0max\u001b[0m\u001b[0;34m,\u001b[0m\u001b[0mcolorbar\u001b[0m\u001b[0;34m=\u001b[0m \u001b[0;32mFalse\u001b[0m\u001b[0;34m,\u001b[0m\u001b[0mcmap\u001b[0m \u001b[0;34m=\u001b[0m \u001b[0;34m'YlGnBu'\u001b[0m\u001b[0;34m)\u001b[0m\u001b[0;34m\u001b[0m\u001b[0;34m\u001b[0m\u001b[0m\n\u001b[0m\u001b[1;32m      7\u001b[0m \u001b[0mplt\u001b[0m\u001b[0;34m.\u001b[0m\u001b[0mtitle\u001b[0m\u001b[0;34m(\u001b[0m\u001b[0;34m\"Confusion Matrix\"\u001b[0m\u001b[0;34m)\u001b[0m\u001b[0;34m\u001b[0m\u001b[0;34m\u001b[0m\u001b[0m\n\u001b[1;32m      8\u001b[0m \u001b[0mplt\u001b[0m\u001b[0;34m.\u001b[0m\u001b[0mxlabel\u001b[0m\u001b[0;34m(\u001b[0m\u001b[0;34m'Predicted Labels'\u001b[0m\u001b[0;34m)\u001b[0m\u001b[0;34m\u001b[0m\u001b[0;34m\u001b[0m\u001b[0m\n",
            "\u001b[0;32m/usr/local/lib/python3.10/dist-packages/sklearn/metrics/_plot/confusion_matrix.py\u001b[0m in \u001b[0;36mplot\u001b[0;34m(self, include_values, cmap, xticks_rotation, values_format, ax, colorbar, im_kw, text_kw)\u001b[0m\n\u001b[1;32m    179\u001b[0m         \u001b[0;32mif\u001b[0m \u001b[0mcolorbar\u001b[0m\u001b[0;34m:\u001b[0m\u001b[0;34m\u001b[0m\u001b[0;34m\u001b[0m\u001b[0m\n\u001b[1;32m    180\u001b[0m             \u001b[0mfig\u001b[0m\u001b[0;34m.\u001b[0m\u001b[0mcolorbar\u001b[0m\u001b[0;34m(\u001b[0m\u001b[0mself\u001b[0m\u001b[0;34m.\u001b[0m\u001b[0mim_\u001b[0m\u001b[0;34m,\u001b[0m \u001b[0max\u001b[0m\u001b[0;34m=\u001b[0m\u001b[0max\u001b[0m\u001b[0;34m)\u001b[0m\u001b[0;34m\u001b[0m\u001b[0;34m\u001b[0m\u001b[0m\n\u001b[0;32m--> 181\u001b[0;31m         ax.set(\n\u001b[0m\u001b[1;32m    182\u001b[0m             \u001b[0mxticks\u001b[0m\u001b[0;34m=\u001b[0m\u001b[0mnp\u001b[0m\u001b[0;34m.\u001b[0m\u001b[0marange\u001b[0m\u001b[0;34m(\u001b[0m\u001b[0mn_classes\u001b[0m\u001b[0;34m)\u001b[0m\u001b[0;34m,\u001b[0m\u001b[0;34m\u001b[0m\u001b[0;34m\u001b[0m\u001b[0m\n\u001b[1;32m    183\u001b[0m             \u001b[0myticks\u001b[0m\u001b[0;34m=\u001b[0m\u001b[0mnp\u001b[0m\u001b[0;34m.\u001b[0m\u001b[0marange\u001b[0m\u001b[0;34m(\u001b[0m\u001b[0mn_classes\u001b[0m\u001b[0;34m)\u001b[0m\u001b[0;34m,\u001b[0m\u001b[0;34m\u001b[0m\u001b[0;34m\u001b[0m\u001b[0m\n",
            "\u001b[0;32m/usr/local/lib/python3.10/dist-packages/matplotlib/artist.py\u001b[0m in \u001b[0;36m<lambda>\u001b[0;34m(self, **kwargs)\u001b[0m\n\u001b[1;32m    145\u001b[0m             \u001b[0;32mreturn\u001b[0m\u001b[0;34m\u001b[0m\u001b[0;34m\u001b[0m\u001b[0m\n\u001b[1;32m    146\u001b[0m \u001b[0;34m\u001b[0m\u001b[0m\n\u001b[0;32m--> 147\u001b[0;31m         \u001b[0mcls\u001b[0m\u001b[0;34m.\u001b[0m\u001b[0mset\u001b[0m \u001b[0;34m=\u001b[0m \u001b[0;32mlambda\u001b[0m \u001b[0mself\u001b[0m\u001b[0;34m,\u001b[0m \u001b[0;34m**\u001b[0m\u001b[0mkwargs\u001b[0m\u001b[0;34m:\u001b[0m \u001b[0mArtist\u001b[0m\u001b[0;34m.\u001b[0m\u001b[0mset\u001b[0m\u001b[0;34m(\u001b[0m\u001b[0mself\u001b[0m\u001b[0;34m,\u001b[0m \u001b[0;34m**\u001b[0m\u001b[0mkwargs\u001b[0m\u001b[0;34m)\u001b[0m\u001b[0;34m\u001b[0m\u001b[0;34m\u001b[0m\u001b[0m\n\u001b[0m\u001b[1;32m    148\u001b[0m         \u001b[0mcls\u001b[0m\u001b[0;34m.\u001b[0m\u001b[0mset\u001b[0m\u001b[0;34m.\u001b[0m\u001b[0m__name__\u001b[0m \u001b[0;34m=\u001b[0m \u001b[0;34m\"set\"\u001b[0m\u001b[0;34m\u001b[0m\u001b[0;34m\u001b[0m\u001b[0m\n\u001b[1;32m    149\u001b[0m         \u001b[0mcls\u001b[0m\u001b[0;34m.\u001b[0m\u001b[0mset\u001b[0m\u001b[0;34m.\u001b[0m\u001b[0m__qualname__\u001b[0m \u001b[0;34m=\u001b[0m \u001b[0;34mf\"{cls.__qualname__}.set\"\u001b[0m\u001b[0;34m\u001b[0m\u001b[0;34m\u001b[0m\u001b[0m\n",
            "\u001b[0;32m/usr/local/lib/python3.10/dist-packages/matplotlib/artist.py\u001b[0m in \u001b[0;36mset\u001b[0;34m(self, **kwargs)\u001b[0m\n\u001b[1;32m   1229\u001b[0m         \u001b[0;31m# Artist._update_set_signature_and_docstring() at the end of the\u001b[0m\u001b[0;34m\u001b[0m\u001b[0;34m\u001b[0m\u001b[0m\n\u001b[1;32m   1230\u001b[0m         \u001b[0;31m# module.\u001b[0m\u001b[0;34m\u001b[0m\u001b[0;34m\u001b[0m\u001b[0m\n\u001b[0;32m-> 1231\u001b[0;31m         \u001b[0;32mreturn\u001b[0m \u001b[0mself\u001b[0m\u001b[0;34m.\u001b[0m\u001b[0m_internal_update\u001b[0m\u001b[0;34m(\u001b[0m\u001b[0mcbook\u001b[0m\u001b[0;34m.\u001b[0m\u001b[0mnormalize_kwargs\u001b[0m\u001b[0;34m(\u001b[0m\u001b[0mkwargs\u001b[0m\u001b[0;34m,\u001b[0m \u001b[0mself\u001b[0m\u001b[0;34m)\u001b[0m\u001b[0;34m)\u001b[0m\u001b[0;34m\u001b[0m\u001b[0;34m\u001b[0m\u001b[0m\n\u001b[0m\u001b[1;32m   1232\u001b[0m \u001b[0;34m\u001b[0m\u001b[0m\n\u001b[1;32m   1233\u001b[0m     \u001b[0;34m@\u001b[0m\u001b[0mcontextlib\u001b[0m\u001b[0;34m.\u001b[0m\u001b[0mcontextmanager\u001b[0m\u001b[0;34m\u001b[0m\u001b[0;34m\u001b[0m\u001b[0m\n",
            "\u001b[0;32m/usr/local/lib/python3.10/dist-packages/matplotlib/artist.py\u001b[0m in \u001b[0;36m_internal_update\u001b[0;34m(self, kwargs)\u001b[0m\n\u001b[1;32m   1221\u001b[0m         \u001b[0mThe\u001b[0m \u001b[0mlack\u001b[0m \u001b[0mof\u001b[0m \u001b[0mprenormalization\u001b[0m \u001b[0;32mis\u001b[0m \u001b[0mto\u001b[0m \u001b[0mmaintain\u001b[0m \u001b[0mbackcompatibility\u001b[0m\u001b[0;34m.\u001b[0m\u001b[0;34m\u001b[0m\u001b[0;34m\u001b[0m\u001b[0m\n\u001b[1;32m   1222\u001b[0m         \"\"\"\n\u001b[0;32m-> 1223\u001b[0;31m         return self._update_props(\n\u001b[0m\u001b[1;32m   1224\u001b[0m             \u001b[0mkwargs\u001b[0m\u001b[0;34m,\u001b[0m \u001b[0;34m\"{cls.__name__}.set() got an unexpected keyword argument \"\u001b[0m\u001b[0;34m\u001b[0m\u001b[0;34m\u001b[0m\u001b[0m\n\u001b[1;32m   1225\u001b[0m             \"{prop_name!r}\")\n",
            "\u001b[0;32m/usr/local/lib/python3.10/dist-packages/matplotlib/artist.py\u001b[0m in \u001b[0;36m_update_props\u001b[0;34m(self, props, errfmt)\u001b[0m\n\u001b[1;32m   1197\u001b[0m                         raise AttributeError(\n\u001b[1;32m   1198\u001b[0m                             errfmt.format(cls=type(self), prop_name=k))\n\u001b[0;32m-> 1199\u001b[0;31m                     \u001b[0mret\u001b[0m\u001b[0;34m.\u001b[0m\u001b[0mappend\u001b[0m\u001b[0;34m(\u001b[0m\u001b[0mfunc\u001b[0m\u001b[0;34m(\u001b[0m\u001b[0mv\u001b[0m\u001b[0;34m)\u001b[0m\u001b[0;34m)\u001b[0m\u001b[0;34m\u001b[0m\u001b[0;34m\u001b[0m\u001b[0m\n\u001b[0m\u001b[1;32m   1200\u001b[0m         \u001b[0;32mif\u001b[0m \u001b[0mret\u001b[0m\u001b[0;34m:\u001b[0m\u001b[0;34m\u001b[0m\u001b[0;34m\u001b[0m\u001b[0m\n\u001b[1;32m   1201\u001b[0m             \u001b[0mself\u001b[0m\u001b[0;34m.\u001b[0m\u001b[0mpchanged\u001b[0m\u001b[0;34m(\u001b[0m\u001b[0;34m)\u001b[0m\u001b[0;34m\u001b[0m\u001b[0;34m\u001b[0m\u001b[0m\n",
            "\u001b[0;32m/usr/local/lib/python3.10/dist-packages/matplotlib/axes/_base.py\u001b[0m in \u001b[0;36mwrapper\u001b[0;34m(self, *args, **kwargs)\u001b[0m\n\u001b[1;32m     72\u001b[0m \u001b[0;34m\u001b[0m\u001b[0m\n\u001b[1;32m     73\u001b[0m         \u001b[0;32mdef\u001b[0m \u001b[0mwrapper\u001b[0m\u001b[0;34m(\u001b[0m\u001b[0mself\u001b[0m\u001b[0;34m,\u001b[0m \u001b[0;34m*\u001b[0m\u001b[0margs\u001b[0m\u001b[0;34m,\u001b[0m \u001b[0;34m**\u001b[0m\u001b[0mkwargs\u001b[0m\u001b[0;34m)\u001b[0m\u001b[0;34m:\u001b[0m\u001b[0;34m\u001b[0m\u001b[0;34m\u001b[0m\u001b[0m\n\u001b[0;32m---> 74\u001b[0;31m             \u001b[0;32mreturn\u001b[0m \u001b[0mget_method\u001b[0m\u001b[0;34m(\u001b[0m\u001b[0mself\u001b[0m\u001b[0;34m)\u001b[0m\u001b[0;34m(\u001b[0m\u001b[0;34m*\u001b[0m\u001b[0margs\u001b[0m\u001b[0;34m,\u001b[0m \u001b[0;34m**\u001b[0m\u001b[0mkwargs\u001b[0m\u001b[0;34m)\u001b[0m\u001b[0;34m\u001b[0m\u001b[0;34m\u001b[0m\u001b[0m\n\u001b[0m\u001b[1;32m     75\u001b[0m \u001b[0;34m\u001b[0m\u001b[0m\n\u001b[1;32m     76\u001b[0m         \u001b[0mwrapper\u001b[0m\u001b[0;34m.\u001b[0m\u001b[0m__module__\u001b[0m \u001b[0;34m=\u001b[0m \u001b[0mowner\u001b[0m\u001b[0;34m.\u001b[0m\u001b[0m__module__\u001b[0m\u001b[0;34m\u001b[0m\u001b[0;34m\u001b[0m\u001b[0m\n",
            "\u001b[0;32m/usr/local/lib/python3.10/dist-packages/matplotlib/_api/deprecation.py\u001b[0m in \u001b[0;36mwrapper\u001b[0;34m(*args, **kwargs)\u001b[0m\n\u001b[1;32m    295\u001b[0m                 f\"for the old name will be dropped %(removal)s.\")\n\u001b[1;32m    296\u001b[0m             \u001b[0mkwargs\u001b[0m\u001b[0;34m[\u001b[0m\u001b[0mnew\u001b[0m\u001b[0;34m]\u001b[0m \u001b[0;34m=\u001b[0m \u001b[0mkwargs\u001b[0m\u001b[0;34m.\u001b[0m\u001b[0mpop\u001b[0m\u001b[0;34m(\u001b[0m\u001b[0mold\u001b[0m\u001b[0;34m)\u001b[0m\u001b[0;34m\u001b[0m\u001b[0;34m\u001b[0m\u001b[0m\n\u001b[0;32m--> 297\u001b[0;31m         \u001b[0;32mreturn\u001b[0m \u001b[0mfunc\u001b[0m\u001b[0;34m(\u001b[0m\u001b[0;34m*\u001b[0m\u001b[0margs\u001b[0m\u001b[0;34m,\u001b[0m \u001b[0;34m**\u001b[0m\u001b[0mkwargs\u001b[0m\u001b[0;34m)\u001b[0m\u001b[0;34m\u001b[0m\u001b[0;34m\u001b[0m\u001b[0m\n\u001b[0m\u001b[1;32m    298\u001b[0m \u001b[0;34m\u001b[0m\u001b[0m\n\u001b[1;32m    299\u001b[0m     \u001b[0;31m# wrapper() must keep the same documented signature as func(): if we\u001b[0m\u001b[0;34m\u001b[0m\u001b[0;34m\u001b[0m\u001b[0m\n",
            "\u001b[0;32m/usr/local/lib/python3.10/dist-packages/matplotlib/axis.py\u001b[0m in \u001b[0;36mset_ticklabels\u001b[0;34m(self, labels, minor, fontdict, **kwargs)\u001b[0m\n\u001b[1;32m   1967\u001b[0m             \u001b[0;31m# remove all tick labels, so only error for > 0 labels\u001b[0m\u001b[0;34m\u001b[0m\u001b[0;34m\u001b[0m\u001b[0m\n\u001b[1;32m   1968\u001b[0m             \u001b[0;32mif\u001b[0m \u001b[0mlen\u001b[0m\u001b[0;34m(\u001b[0m\u001b[0mlocator\u001b[0m\u001b[0;34m.\u001b[0m\u001b[0mlocs\u001b[0m\u001b[0;34m)\u001b[0m \u001b[0;34m!=\u001b[0m \u001b[0mlen\u001b[0m\u001b[0;34m(\u001b[0m\u001b[0mlabels\u001b[0m\u001b[0;34m)\u001b[0m \u001b[0;32mand\u001b[0m \u001b[0mlen\u001b[0m\u001b[0;34m(\u001b[0m\u001b[0mlabels\u001b[0m\u001b[0;34m)\u001b[0m \u001b[0;34m!=\u001b[0m \u001b[0;36m0\u001b[0m\u001b[0;34m:\u001b[0m\u001b[0;34m\u001b[0m\u001b[0;34m\u001b[0m\u001b[0m\n\u001b[0;32m-> 1969\u001b[0;31m                 raise ValueError(\n\u001b[0m\u001b[1;32m   1970\u001b[0m                     \u001b[0;34m\"The number of FixedLocator locations\"\u001b[0m\u001b[0;34m\u001b[0m\u001b[0;34m\u001b[0m\u001b[0m\n\u001b[1;32m   1971\u001b[0m                     \u001b[0;34mf\" ({len(locator.locs)}), usually from a call to\"\u001b[0m\u001b[0;34m\u001b[0m\u001b[0;34m\u001b[0m\u001b[0m\n",
            "\u001b[0;31mValueError\u001b[0m: The number of FixedLocator locations (2), usually from a call to set_ticks, does not match the number of labels (1)."
          ]
        },
        {
          "output_type": "display_data",
          "data": {
            "text/plain": [
              "<Figure size 200x200 with 0 Axes>"
            ]
          },
          "metadata": {}
        },
        {
          "output_type": "display_data",
          "data": {
            "text/plain": [
              "<Figure size 800x800 with 1 Axes>"
            ],
            "image/png": "[encoded data removed]"
          },
          "metadata": {}
        }
      ]
    },
    {
      "cell_type": "code",
      "source": [
        "bell_pepper_a.save(\"BP_Avg-20-Final_95.4.h5\")"
      ],
      "metadata": {
        "id": "gA72qG3X2qdL"
      },
      "execution_count": null,
      "outputs": []
    },
    {
      "cell_type": "markdown",
      "source": [
        "#Cherry"
      ],
      "metadata": {
        "id": "oZtl2CCfMuqE"
      }
    },
    {
      "cell_type": "code",
      "source": [
        "data_dir = r\"/tmp/DS MINI PROJECT DATASET(BALANCEDANDIMBALANCED)\"\n",
        "train_cherry_dir = data_dir + \"/Training/Cherry\"\n",
        "valid_cherry_dir = data_dir + \"/Testing/Cherry\""
      ],
      "metadata": {
        "id": "26A_j4HGMq2v"
      },
      "execution_count": null,
      "outputs": []
    },
    {
      "cell_type": "code",
      "source": [
        "seed_train_validation = 1 # Must be same for train_ds and val_ds\n",
        "shuffle_value = True\n",
        "validation_split = 0.2\n",
        "\n",
        "train_gen = tf.keras.utils.image_dataset_from_directory(\n",
        "                                                        directory = train_cherry_dir,\n",
        "                                                        image_size = (128, 128),\n",
        "                                                        label_mode='categorical',\n",
        "                                                        validation_split = validation_split,\n",
        "                                                        batch_size=32,\n",
        "                                                        subset = \"training\",\n",
        "                                                        seed = seed_train_validation,\n",
        "                                                        shuffle = shuffle_value)\n",
        "\n",
        "val_gen = tf.keras.utils.image_dataset_from_directory(\n",
        "                                                        directory = train_cherry_dir,\n",
        "                                                        image_size = (128, 128),\n",
        "                                                        validation_split = validation_split,\n",
        "                                                        label_mode='categorical',\n",
        "                                                        batch_size=32,\n",
        "                                                        subset = \"validation\",\n",
        "                                                        seed = seed_train_validation,\n",
        "                                                        shuffle = shuffle_value)\n",
        "\n",
        "test_it = tf.keras.utils.image_dataset_from_directory( directory= valid_cherry_dir,\n",
        "                                                      batch_size=32,\n",
        "                                                      image_size=(128, 128))"
      ],
      "metadata": {
        "colab": {
          "base_uri": "https://localhost:8080/"
        },
        "id": "912OgeX1MzmQ",
        "outputId": "07301838-803e-4250-e49b-8d887e2c7afe"
      },
      "execution_count": null,
      "outputs": [
        {
          "output_type": "stream",
          "name": "stdout",
          "text": [
            "Found 3509 files belonging to 2 classes.\n",
            "Using 2808 files for training.\n",
            "Found 3509 files belonging to 2 classes.\n",
            "Using 701 files for validation.\n",
            "Found 877 files belonging to 2 classes.\n"
          ]
        }
      ]
    },
    {
      "cell_type": "code",
      "source": [
        "rescale = Rescaling(scale=1./255)\n",
        "train_set  = train_gen.map(lambda image,label:(rescale(image),label))\n",
        "valid_set  = val_gen.map(lambda image,label:(rescale(image),label))\n",
        "test_set  = test_it.map(lambda image,label:(rescale(image),label))"
      ],
      "metadata": {
        "id": "ijgQuzyb5U6L"
      },
      "execution_count": null,
      "outputs": []
    },
    {
      "cell_type": "code",
      "source": [
        "#CNN Model with averagepool\n",
        "#model 1\n",
        "from keras.layers import GlobalAveragePooling2D\n",
        "cherry_avg = models.Sequential()\n",
        "cherry_avg = Sequential()\n",
        "\n",
        "cherry_avg.add(Conv2D(filters=16,kernel_size=(3,3),padding=\"same\", activation=\"relu\", input_shape=(128,128,3)))\n",
        "cherry_avg.add(MaxPool2D(pool_size=(2,2),strides=(2,2)))\n",
        "#cherry_avg.add(Dropout(0.4))\n",
        "\n",
        "cherry_avg.add(Conv2D(filters=32, kernel_size=(3,3), padding=\"same\", activation=\"relu\"))\n",
        "cherry_avg.add(MaxPool2D(pool_size=(2,2),strides=(2,2)))\n",
        "#model1.add(Dropout(0.6))\n",
        "\n",
        "avg1 = GlobalAveragePooling2D()(cherry_avg.layers[-1].output)\n",
        "\n",
        "class1 = Dense(16, activation='relu', kernel_initializer='he_uniform')(avg1)\n",
        "output = Dense(2, activation='softmax')(class1)\n",
        "cherry_avg = Model(inputs=cherry_avg.inputs, outputs=output)"
      ],
      "metadata": {
        "id": "QTFInZyKM0hu"
      },
      "execution_count": null,
      "outputs": []
    },
    {
      "cell_type": "code",
      "source": [
        "cherry_avg.compile(optimizer='adam', loss='categorical_crossentropy', metrics=['accuracy'])\n",
        "cherry_avg.summary()"
      ],
      "metadata": {
        "colab": {
          "base_uri": "https://localhost:8080/"
        },
        "id": "EUJag13KM9hZ",
        "outputId": "3fce7d1e-7c67-4d85-b017-0cd1b95c1be5"
      },
      "execution_count": null,
      "outputs": [
        {
          "output_type": "stream",
          "name": "stdout",
          "text": [
            "Model: \"model\"\n",
            "_________________________________________________________________\n",
            " Layer (type)                Output Shape              Param #   \n",
            "=================================================================\n",
            " conv2d_input (InputLayer)   [(None, 128, 128, 3)]     0         \n",
            "                                                                 \n",
            " conv2d (Conv2D)             (None, 128, 128, 16)      448       \n",
            "                                                                 \n",
            " max_pooling2d (MaxPooling2  (None, 64, 64, 16)        0         \n",
            " D)                                                              \n",
            "                                                                 \n",
            " conv2d_1 (Conv2D)           (None, 64, 64, 32)        4640      \n",
            "                                                                 \n",
            " max_pooling2d_1 (MaxPoolin  (None, 32, 32, 32)        0         \n",
            " g2D)                                                            \n",
            "                                                                 \n",
            " global_average_pooling2d (  (None, 32)                0         \n",
            " GlobalAveragePooling2D)                                         \n",
            "                                                                 \n",
            " dense (Dense)               (None, 16)                528       \n",
            "                                                                 \n",
            " dense_1 (Dense)             (None, 2)                 34        \n",
            "                                                                 \n",
            "=================================================================\n",
            "Total params: 5650 (22.07 KB)\n",
            "Trainable params: 5650 (22.07 KB)\n",
            "Non-trainable params: 0 (0.00 Byte)\n",
            "_________________________________________________________________\n"
          ]
        }
      ]
    },
    {
      "cell_type": "code",
      "source": [
        "#20 epoch\n",
        "%%time\n",
        "epochsteps=len(train_set);epochs =20;valsteps=len(valid_set)#teststeps=len(test_it)\n",
        "# fit model\n",
        "history = cherry_avg.fit(train_set, steps_per_epoch=epochsteps,\n",
        "                    validation_data=valid_set, validation_steps=valsteps, epochs=epochs, verbose=1)\n",
        "# test_loss, test_acc = cherry_avg.evaluate(test_it, steps=teststeps, verbose=1)\n",
        "# print('Test accuracy=',str(test_acc * 100.0)+'%')\n",
        "# print('Test loss=',str(test_loss * 100.0)+'%')"
      ],
      "metadata": {
        "colab": {
          "base_uri": "https://localhost:8080/"
        },
        "id": "f6VQLPljNDKP",
        "outputId": "0e38d83e-6626-4f16-9b0e-10572ab1e4ac"
      },
      "execution_count": null,
      "outputs": [
        {
          "output_type": "stream",
          "name": "stdout",
          "text": [
            "Epoch 1/20\n",
            "88/88 [==============================] - 15s 34ms/step - loss: 0.6782 - accuracy: 0.5267 - val_loss: 0.6653 - val_accuracy: 0.5007\n",
            "Epoch 2/20\n",
            "88/88 [==============================] - 3s 28ms/step - loss: 0.5892 - accuracy: 0.7176 - val_loss: 0.4464 - val_accuracy: 0.9529\n",
            "Epoch 3/20\n",
            "88/88 [==============================] - 3s 32ms/step - loss: 0.3246 - accuracy: 0.9156 - val_loss: 0.1925 - val_accuracy: 0.9757\n",
            "Epoch 4/20\n",
            "88/88 [==============================] - 3s 30ms/step - loss: 0.1203 - accuracy: 0.9854 - val_loss: 0.0882 - val_accuracy: 0.9886\n",
            "Epoch 5/20\n",
            "88/88 [==============================] - 3s 32ms/step - loss: 0.0748 - accuracy: 0.9865 - val_loss: 0.0485 - val_accuracy: 0.9943\n",
            "Epoch 6/20\n",
            "88/88 [==============================] - 4s 41ms/step - loss: 0.0741 - accuracy: 0.9847 - val_loss: 0.0686 - val_accuracy: 0.9872\n",
            "Epoch 7/20\n",
            "88/88 [==============================] - 3s 29ms/step - loss: 0.0523 - accuracy: 0.9890 - val_loss: 0.0433 - val_accuracy: 0.9900\n",
            "Epoch 8/20\n",
            "88/88 [==============================] - 3s 30ms/step - loss: 0.0514 - accuracy: 0.9875 - val_loss: 0.0356 - val_accuracy: 0.9929\n",
            "Epoch 9/20\n",
            "88/88 [==============================] - 3s 29ms/step - loss: 0.0384 - accuracy: 0.9904 - val_loss: 0.0271 - val_accuracy: 0.9957\n",
            "Epoch 10/20\n",
            "88/88 [==============================] - 4s 44ms/step - loss: 0.0430 - accuracy: 0.9900 - val_loss: 0.0423 - val_accuracy: 0.9914\n",
            "Epoch 11/20\n",
            "88/88 [==============================] - 3s 29ms/step - loss: 0.0333 - accuracy: 0.9904 - val_loss: 0.0233 - val_accuracy: 0.9957\n",
            "Epoch 12/20\n",
            "88/88 [==============================] - 3s 31ms/step - loss: 0.0383 - accuracy: 0.9904 - val_loss: 0.0305 - val_accuracy: 0.9957\n",
            "Epoch 13/20\n",
            "88/88 [==============================] - 4s 46ms/step - loss: 0.0328 - accuracy: 0.9890 - val_loss: 0.0218 - val_accuracy: 0.9957\n",
            "Epoch 14/20\n",
            "88/88 [==============================] - 4s 36ms/step - loss: 0.0447 - accuracy: 0.9858 - val_loss: 0.0182 - val_accuracy: 0.9957\n",
            "Epoch 15/20\n",
            "88/88 [==============================] - 3s 30ms/step - loss: 0.0279 - accuracy: 0.9911 - val_loss: 0.0165 - val_accuracy: 0.9971\n",
            "Epoch 16/20\n",
            "88/88 [==============================] - 4s 43ms/step - loss: 0.0250 - accuracy: 0.9932 - val_loss: 0.0151 - val_accuracy: 0.9986\n",
            "Epoch 17/20\n",
            "88/88 [==============================] - 3s 29ms/step - loss: 0.0265 - accuracy: 0.9915 - val_loss: 0.0197 - val_accuracy: 0.9957\n",
            "Epoch 18/20\n",
            "88/88 [==============================] - 3s 29ms/step - loss: 0.0227 - accuracy: 0.9925 - val_loss: 0.0140 - val_accuracy: 0.9986\n",
            "Epoch 19/20\n",
            "88/88 [==============================] - 4s 45ms/step - loss: 0.0240 - accuracy: 0.9911 - val_loss: 0.0139 - val_accuracy: 0.9986\n",
            "Epoch 20/20\n",
            "88/88 [==============================] - 3s 35ms/step - loss: 0.0278 - accuracy: 0.9907 - val_loss: 0.0507 - val_accuracy: 0.9815\n",
            "CPU times: user 1min 31s, sys: 7.45 s, total: 1min 39s\n",
            "Wall time: 1min 29s\n"
          ]
        }
      ]
    },
    {
      "cell_type": "code",
      "source": [
        "#20 epoch\n",
        "plt.plot(history.history['val_loss'], color = 'orange')\n",
        "plt.plot(history.history['loss'], color='red')\n",
        "plt.plot(history.history['accuracy'], color = 'green')\n",
        "plt.plot(history.history['val_accuracy'], color = 'blue')\n",
        "plt.legend(['Val_loss','Train_loss',\"Train_accuracy\",'Val_accuracy'])\n",
        "e=range(0,20)\n",
        "labels=range(1,21)\n",
        "plt.xlabel(\"Epochs\")\n",
        "plt.xticks(e,labels)\n",
        "plt.show()"
      ],
      "metadata": {
        "colab": {
          "base_uri": "https://localhost:8080/",
          "height": 449
        },
        "id": "UppUIT97NHkf",
        "outputId": "0d33e6d8-e7b4-44b6-c068-7f3a76827ee4"
      },
      "execution_count": null,
      "outputs": [
        {
          "output_type": "display_data",
          "data": {
            "text/plain": [
              "<Figure size 640x480 with 1 Axes>"
            ],
            "image/png": "[encoded data removed]"
          },
          "metadata": {}
        }
      ]
    },
    {
      "cell_type": "code",
      "source": [
        "labels = []\n",
        "predictions = []\n",
        "for x,y in test_set:\n",
        "    labels.append(list(y.numpy()))\n",
        "    predictions.append(tf.argmax(cherry_avg.predict(x),1).numpy())"
      ],
      "metadata": {
        "colab": {
          "base_uri": "https://localhost:8080/"
        },
        "id": "Th0uTr_I5bwa",
        "outputId": "84e11893-71ab-40b1-a9bf-d04a6ce10d07"
      },
      "execution_count": null,
      "outputs": [
        {
          "output_type": "stream",
          "name": "stdout",
          "text": [
            "1/1 [==============================] - 0s 102ms/step\n",
            "1/1 [==============================] - 0s 26ms/step\n",
            "1/1 [==============================] - 0s 26ms/step\n",
            "1/1 [==============================] - 0s 21ms/step\n",
            "1/1 [==============================] - 0s 29ms/step\n",
            "1/1 [==============================] - 0s 24ms/step\n",
            "1/1 [==============================] - 0s 26ms/step\n",
            "1/1 [==============================] - 0s 27ms/step\n",
            "1/1 [==============================] - 0s 23ms/step\n",
            "1/1 [==============================] - 0s 23ms/step\n",
            "1/1 [==============================] - 0s 24ms/step\n",
            "1/1 [==============================] - 0s 24ms/step\n",
            "1/1 [==============================] - 0s 24ms/step\n",
            "1/1 [==============================] - 0s 22ms/step\n",
            "1/1 [==============================] - 0s 24ms/step\n",
            "1/1 [==============================] - 0s 24ms/step\n",
            "1/1 [==============================] - 0s 20ms/step\n",
            "1/1 [==============================] - 0s 25ms/step\n",
            "1/1 [==============================] - 0s 20ms/step\n",
            "1/1 [==============================] - 0s 23ms/step\n",
            "1/1 [==============================] - 0s 21ms/step\n",
            "1/1 [==============================] - 0s 20ms/step\n",
            "1/1 [==============================] - 0s 25ms/step\n",
            "1/1 [==============================] - 0s 27ms/step\n",
            "1/1 [==============================] - 0s 24ms/step\n",
            "1/1 [==============================] - 0s 20ms/step\n",
            "1/1 [==============================] - 0s 23ms/step\n",
            "1/1 [==============================] - 0s 155ms/step\n"
          ]
        }
      ]
    },
    {
      "cell_type": "code",
      "source": [
        "predictions = list(itertools.chain.from_iterable(predictions))\n",
        "labels = list(itertools.chain.from_iterable(labels))"
      ],
      "metadata": {
        "id": "Z26hnAk85wey"
      },
      "execution_count": null,
      "outputs": []
    },
    {
      "cell_type": "code",
      "source": [
        "print(\"Train Accuracy  : {:.2f} %\".format(history.history['accuracy'][-1]*100))\n",
        "print(\"Test Accuracy   : {:.2f} %\".format(accuracy_score(labels, predictions) * 100))\n",
        "print(\"Precision Score : {:.2f} %\".format(precision_score(labels, predictions, average='micro') * 100))\n",
        "print(\"Recall Score    : {:.2f} %\".format(recall_score(labels, predictions, average='micro') * 100))"
      ],
      "metadata": {
        "colab": {
          "base_uri": "https://localhost:8080/"
        },
        "id": "-iMNQ4f15wti",
        "outputId": "d08badd9-7d58-4495-c0a7-19e6e3da58e3"
      },
      "execution_count": null,
      "outputs": [
        {
          "output_type": "stream",
          "name": "stdout",
          "text": [
            "Train Accuracy  : 99.07 %\n",
            "Test Accuracy   : 98.18 %\n",
            "Precision Score : 98.18 %\n",
            "Recall Score    : 98.18 %\n"
          ]
        }
      ]
    },
    {
      "cell_type": "code",
      "source": [
        "# Plot a confusion matrix based on the true labels and predicted labels\n",
        "plt.figure(figsize= (2,2))\n",
        "cm = confusion_matrix(labels, predictions)\n",
        "disp = ConfusionMatrixDisplay(confusion_matrix=cm, display_labels=list(range(1,3)))\n",
        "fig, ax = plt.subplots(figsize=(8,8))\n",
        "disp.plot(ax=ax,colorbar= False,cmap = 'YlGnBu')\n",
        "plt.title(\"Confusion Matrix\")\n",
        "plt.xlabel('Predicted Labels')\n",
        "plt.ylabel('True Labels')\n",
        "plt.show()"
      ],
      "metadata": {
        "colab": {
          "base_uri": "https://localhost:8080/",
          "height": 735
        },
        "id": "Yk_ZTFjX50Pi",
        "outputId": "47e22f57-50c2-4afa-843a-097ce7800abe"
      },
      "execution_count": null,
      "outputs": [
        {
          "output_type": "display_data",
          "data": {
            "text/plain": [
              "<Figure size 200x200 with 0 Axes>"
            ]
          },
          "metadata": {}
        },
        {
          "output_type": "display_data",
          "data": {
            "text/plain": [
              "<Figure size 800x800 with 1 Axes>"
            ],
            "image/png": "[encoded data removed]"
          },
          "metadata": {}
        }
      ]
    },
    {
      "cell_type": "code",
      "source": [
        "cherry_avg.save(\"Cherry_Avg-20-Final_99.54.h5\")"
      ],
      "metadata": {
        "id": "oYftW-n268kC"
      },
      "execution_count": null,
      "outputs": []
    },
    {
      "cell_type": "markdown",
      "source": [
        "#Peach"
      ],
      "metadata": {
        "id": "MHL2YxZHOMMQ"
      }
    },
    {
      "cell_type": "code",
      "source": [
        "data_dir = r\"/tmp/DS MINI PROJECT DATASET(BALANCEDANDIMBALANCED)\"\n",
        "train_peach_dir = data_dir + \"/Training/Peach\"\n",
        "valid_peach_dir = data_dir + \"/Testing/Peach\""
      ],
      "metadata": {
        "id": "sKi4qRrQOGSm"
      },
      "execution_count": null,
      "outputs": []
    },
    {
      "cell_type": "code",
      "source": [
        "seed_train_validation = 1 # Must be same for train_ds and val_ds\n",
        "shuffle_value = True\n",
        "validation_split = 0.2\n",
        "\n",
        "train_gen = tf.keras.utils.image_dataset_from_directory(\n",
        "                                                        directory = train_peach_dir,\n",
        "                                                        image_size = (128, 128),\n",
        "                                                        label_mode='categorical',\n",
        "                                                        validation_split = validation_split,\n",
        "                                                        batch_size=32,\n",
        "                                                        subset = \"training\",\n",
        "                                                        seed = seed_train_validation,\n",
        "                                                        shuffle = shuffle_value)\n",
        "\n",
        "val_gen = tf.keras.utils.image_dataset_from_directory(\n",
        "                                                        directory = train_peach_dir,\n",
        "                                                        image_size = (128, 128),\n",
        "                                                        validation_split = validation_split,\n",
        "                                                        label_mode='categorical',\n",
        "                                                        batch_size=32,\n",
        "                                                        subset = \"validation\",\n",
        "                                                        seed = seed_train_validation,\n",
        "                                                        shuffle = shuffle_value)\n",
        "\n",
        "test_it = tf.keras.utils.image_dataset_from_directory( directory= valid_peach_dir,\n",
        "                                                      batch_size=32,\n",
        "                                                      image_size=(128, 128))"
      ],
      "metadata": {
        "colab": {
          "base_uri": "https://localhost:8080/"
        },
        "id": "3jC-ef6wOURi",
        "outputId": "0e72a48d-923e-48aa-92be-6f1c0b759371"
      },
      "execution_count": null,
      "outputs": [
        {
          "output_type": "stream",
          "name": "stdout",
          "text": [
            "Found 3566 files belonging to 2 classes.\n",
            "Using 2853 files for training.\n",
            "Found 3566 files belonging to 2 classes.\n",
            "Using 713 files for validation.\n",
            "Found 891 files belonging to 2 classes.\n"
          ]
        }
      ]
    },
    {
      "cell_type": "code",
      "source": [
        "rescale = Rescaling(scale=1./255)\n",
        "train_set  = train_gen.map(lambda image,label:(rescale(image),label))\n",
        "valid_set  = val_gen.map(lambda image,label:(rescale(image),label))\n",
        "test_set  = test_it.map(lambda image,label:(rescale(image),label))"
      ],
      "metadata": {
        "id": "PhtW9JGI7lEa"
      },
      "execution_count": null,
      "outputs": []
    },
    {
      "cell_type": "code",
      "source": [
        "#average pooling\n",
        "#accuracy = 99.32\n",
        "from keras.layers import GlobalAveragePooling2D\n",
        "\n",
        "def define_p_a():\n",
        "  peach_a = models.Sequential()\n",
        "  peach_a = Sequential()\n",
        "\n",
        "  peach_a.add(Conv2D(filters=16,kernel_size=(3,3),padding=\"same\", activation=\"relu\", input_shape=(128,128,3)))\n",
        "  peach_a.add(MaxPool2D(pool_size=(2,2),strides=(2,2)))\n",
        "  # peach_a.add(Dropout(0.4))\n",
        "\n",
        "  peach_a.add(Conv2D(filters=32, kernel_size=(3,3), padding=\"same\", activation=\"relu\"))\n",
        "  peach_a.add(MaxPool2D(pool_size=(2,2),strides=(2,2)))\n",
        "\n",
        "\n",
        "  avg1 = GlobalAveragePooling2D()(peach_a.layers[-1].output)\n",
        "  class1 = Dense(16, activation='relu', kernel_initializer='he_uniform')(avg1)\n",
        "  output = Dense(2, activation='softmax')(class1)\n",
        "  peach_a = Model(inputs=peach_a.inputs, outputs=output)\n",
        "  return peach_a"
      ],
      "metadata": {
        "id": "NIDcaRe1OV7x"
      },
      "execution_count": null,
      "outputs": []
    },
    {
      "cell_type": "code",
      "source": [
        "peach_a = define_p_a()\n",
        "peach_a.compile(optimizer='adam', loss='categorical_crossentropy', metrics=['accuracy'])\n",
        "peach_a.summary()"
      ],
      "metadata": {
        "colab": {
          "base_uri": "https://localhost:8080/"
        },
        "id": "APTKuNNpOefu",
        "outputId": "01d78e52-4d7e-40ed-c48e-51f3f130a5d1"
      },
      "execution_count": null,
      "outputs": [
        {
          "output_type": "stream",
          "name": "stdout",
          "text": [
            "Model: \"model_8\"\n",
            "_________________________________________________________________\n",
            " Layer (type)                Output Shape              Param #   \n",
            "=================================================================\n",
            " conv2d_17_input (InputLaye  [(None, 128, 128, 3)]     0         \n",
            " r)                                                              \n",
            "                                                                 \n",
            " conv2d_17 (Conv2D)          (None, 128, 128, 16)      448       \n",
            "                                                                 \n",
            " max_pooling2d_17 (MaxPooli  (None, 64, 64, 16)        0         \n",
            " ng2D)                                                           \n",
            "                                                                 \n",
            " conv2d_18 (Conv2D)          (None, 64, 64, 32)        4640      \n",
            "                                                                 \n",
            " max_pooling2d_18 (MaxPooli  (None, 32, 32, 32)        0         \n",
            " ng2D)                                                           \n",
            "                                                                 \n",
            " global_average_pooling2d_8  (None, 32)                0         \n",
            "  (GlobalAveragePooling2D)                                       \n",
            "                                                                 \n",
            " dense_16 (Dense)            (None, 16)                528       \n",
            "                                                                 \n",
            " dense_17 (Dense)            (None, 2)                 34        \n",
            "                                                                 \n",
            "=================================================================\n",
            "Total params: 5650 (22.07 KB)\n",
            "Trainable params: 5650 (22.07 KB)\n",
            "Non-trainable params: 0 (0.00 Byte)\n",
            "_________________________________________________________________\n"
          ]
        }
      ]
    },
    {
      "cell_type": "code",
      "source": [
        "%%time\n",
        "epochsteps=len(train_set);epochs=20;valsteps=len(valid_set)\n",
        "# fit model\n",
        "history = peach_a.fit(train_set, steps_per_epoch=epochsteps,\n",
        "                    validation_data=valid_set, validation_steps=valsteps, epochs=epochs, verbose=1)"
      ],
      "metadata": {
        "colab": {
          "base_uri": "https://localhost:8080/"
        },
        "id": "2vMQ4b3fOhQv",
        "outputId": "da47a536-8af0-4d1f-8418-aa77457db2c9"
      },
      "execution_count": null,
      "outputs": [
        {
          "output_type": "stream",
          "name": "stdout",
          "text": [
            "Epoch 1/20\n",
            "90/90 [==============================] - 6s 36ms/step - loss: 0.6271 - accuracy: 0.6695 - val_loss: 0.5221 - val_accuracy: 0.8359\n",
            "Epoch 2/20\n",
            "90/90 [==============================] - 3s 33ms/step - loss: 0.3772 - accuracy: 0.8945 - val_loss: 0.2438 - val_accuracy: 0.9383\n",
            "Epoch 3/20\n",
            "90/90 [==============================] - 3s 31ms/step - loss: 0.1895 - accuracy: 0.9478 - val_loss: 0.1957 - val_accuracy: 0.9116\n",
            "Epoch 4/20\n",
            "90/90 [==============================] - 4s 42ms/step - loss: 0.1242 - accuracy: 0.9657 - val_loss: 0.1095 - val_accuracy: 0.9705\n",
            "Epoch 5/20\n",
            "90/90 [==============================] - 3s 34ms/step - loss: 0.0936 - accuracy: 0.9709 - val_loss: 0.1414 - val_accuracy: 0.9355\n",
            "Epoch 6/20\n",
            "90/90 [==============================] - 3s 30ms/step - loss: 0.0809 - accuracy: 0.9744 - val_loss: 0.0797 - val_accuracy: 0.9762\n",
            "Epoch 7/20\n",
            "90/90 [==============================] - 4s 41ms/step - loss: 0.0813 - accuracy: 0.9720 - val_loss: 0.1141 - val_accuracy: 0.9481\n",
            "Epoch 8/20\n",
            "90/90 [==============================] - 4s 37ms/step - loss: 0.0682 - accuracy: 0.9741 - val_loss: 0.1041 - val_accuracy: 0.9579\n",
            "Epoch 9/20\n",
            "90/90 [==============================] - 3s 31ms/step - loss: 0.0645 - accuracy: 0.9779 - val_loss: 0.0616 - val_accuracy: 0.9804\n",
            "Epoch 10/20\n",
            "90/90 [==============================] - 3s 30ms/step - loss: 0.0632 - accuracy: 0.9786 - val_loss: 0.0493 - val_accuracy: 0.9846\n",
            "Epoch 11/20\n",
            "90/90 [==============================] - 6s 60ms/step - loss: 0.0755 - accuracy: 0.9727 - val_loss: 0.1254 - val_accuracy: 0.9509\n",
            "Epoch 12/20\n",
            "90/90 [==============================] - 4s 39ms/step - loss: 0.0562 - accuracy: 0.9790 - val_loss: 0.0472 - val_accuracy: 0.9846\n",
            "Epoch 13/20\n",
            "90/90 [==============================] - 3s 31ms/step - loss: 0.0620 - accuracy: 0.9783 - val_loss: 0.0464 - val_accuracy: 0.9832\n",
            "Epoch 14/20\n",
            "90/90 [==============================] - 3s 30ms/step - loss: 0.0573 - accuracy: 0.9772 - val_loss: 0.0467 - val_accuracy: 0.9860\n",
            "Epoch 15/20\n",
            "90/90 [==============================] - 3s 34ms/step - loss: 0.0743 - accuracy: 0.9748 - val_loss: 0.0697 - val_accuracy: 0.9734\n",
            "Epoch 16/20\n",
            "90/90 [==============================] - 3s 28ms/step - loss: 0.0570 - accuracy: 0.9800 - val_loss: 0.0564 - val_accuracy: 0.9832\n",
            "Epoch 17/20\n",
            "90/90 [==============================] - 3s 30ms/step - loss: 0.0576 - accuracy: 0.9790 - val_loss: 0.0413 - val_accuracy: 0.9860\n",
            "Epoch 18/20\n",
            "90/90 [==============================] - 4s 47ms/step - loss: 0.0527 - accuracy: 0.9821 - val_loss: 0.0665 - val_accuracy: 0.9748\n",
            "Epoch 19/20\n",
            "90/90 [==============================] - 3s 30ms/step - loss: 0.0488 - accuracy: 0.9818 - val_loss: 0.0395 - val_accuracy: 0.9846\n",
            "Epoch 20/20\n",
            "90/90 [==============================] - 3s 29ms/step - loss: 0.0510 - accuracy: 0.9804 - val_loss: 0.0444 - val_accuracy: 0.9860\n",
            "CPU times: user 1min 31s, sys: 6.64 s, total: 1min 38s\n",
            "Wall time: 1min 28s\n"
          ]
        }
      ]
    },
    {
      "cell_type": "code",
      "source": [
        "plt.plot(history.history['val_loss'], color = 'orange')\n",
        "plt.plot(history.history['loss'], color='red')\n",
        "plt.plot(history.history['accuracy'], color = 'green')\n",
        "plt.plot(history.history['val_accuracy'], color = 'blue')\n",
        "plt.legend(['Val_loss','Train_loss'])\n",
        "e=range(0,20)\n",
        "labels=range(1,21)\n",
        "plt.xlabel(\"Epochs\")\n",
        "plt.ylabel(\"Loss\")\n",
        "plt.xticks(e,labels)\n",
        "plt.show()"
      ],
      "metadata": {
        "colab": {
          "base_uri": "https://localhost:8080/",
          "height": 449
        },
        "id": "lmwYJ6FHOjFu",
        "outputId": "34e842da-f50c-405b-c4a7-607bb2e9f4cb"
      },
      "execution_count": null,
      "outputs": [
        {
          "output_type": "display_data",
          "data": {
            "text/plain": [
              "<Figure size 640x480 with 1 Axes>"
            ],
            "image/png": "[encoded data removed]"
          },
          "metadata": {}
        }
      ]
    },
    {
      "cell_type": "code",
      "source": [
        "labels = []\n",
        "predictions = []\n",
        "for x,y in test_set:\n",
        "    labels.append(list(y.numpy()))\n",
        "    predictions.append(tf.argmax(peach_a.predict(x),1).numpy())"
      ],
      "metadata": {
        "colab": {
          "base_uri": "https://localhost:8080/"
        },
        "id": "5Dcn666l7wUY",
        "outputId": "daaca62a-8415-4a6e-fd68-48ca18afb45f"
      },
      "execution_count": null,
      "outputs": [
        {
          "output_type": "stream",
          "name": "stdout",
          "text": [
            "1/1 [==============================] - 0s 102ms/step\n",
            "1/1 [==============================] - 0s 29ms/step\n",
            "1/1 [==============================] - 0s 20ms/step\n",
            "1/1 [==============================] - 0s 25ms/step\n",
            "1/1 [==============================] - 0s 22ms/step\n",
            "1/1 [==============================] - 0s 21ms/step\n",
            "1/1 [==============================] - 0s 20ms/step\n",
            "1/1 [==============================] - 0s 23ms/step\n",
            "1/1 [==============================] - 0s 20ms/step\n",
            "1/1 [==============================] - 0s 23ms/step\n",
            "1/1 [==============================] - 0s 19ms/step\n",
            "1/1 [==============================] - 0s 19ms/step\n",
            "1/1 [==============================] - 0s 21ms/step\n",
            "1/1 [==============================] - 0s 20ms/step\n",
            "1/1 [==============================] - 0s 21ms/step\n",
            "1/1 [==============================] - 0s 20ms/step\n",
            "1/1 [==============================] - 0s 21ms/step\n",
            "1/1 [==============================] - 0s 22ms/step\n",
            "1/1 [==============================] - 0s 21ms/step\n",
            "1/1 [==============================] - 0s 22ms/step\n",
            "1/1 [==============================] - 0s 20ms/step\n",
            "1/1 [==============================] - 0s 32ms/step\n",
            "1/1 [==============================] - 0s 22ms/step\n",
            "1/1 [==============================] - 0s 22ms/step\n",
            "1/1 [==============================] - 0s 20ms/step\n",
            "1/1 [==============================] - 0s 21ms/step\n",
            "1/1 [==============================] - 0s 22ms/step\n",
            "1/1 [==============================] - 0s 71ms/step\n"
          ]
        }
      ]
    },
    {
      "cell_type": "code",
      "source": [
        "predictions = list(itertools.chain.from_iterable(predictions))\n",
        "labels = list(itertools.chain.from_iterable(labels))"
      ],
      "metadata": {
        "id": "q0oMGUyi7_Gp"
      },
      "execution_count": null,
      "outputs": []
    },
    {
      "cell_type": "code",
      "source": [
        "print(\"Train Accuracy  : {:.2f} %\".format(history.history['accuracy'][-1]*100))\n",
        "print(\"Test Accuracy   : {:.2f} %\".format(accuracy_score(labels, predictions) * 100))\n",
        "print(\"Precision Score : {:.2f} %\".format(precision_score(labels, predictions, average='micro') * 100))\n",
        "print(\"Recall Score    : {:.2f} %\".format(recall_score(labels, predictions, average='micro') * 100))"
      ],
      "metadata": {
        "colab": {
          "base_uri": "https://localhost:8080/"
        },
        "id": "4X1s8_JQ8CDQ",
        "outputId": "3e027154-54dc-4d33-9305-4e81cbefcaa0"
      },
      "execution_count": null,
      "outputs": [
        {
          "output_type": "stream",
          "name": "stdout",
          "text": [
            "Train Accuracy  : 98.04 %\n",
            "Test Accuracy   : 98.88 %\n",
            "Precision Score : 98.88 %\n",
            "Recall Score    : 98.88 %\n"
          ]
        }
      ]
    },
    {
      "cell_type": "code",
      "source": [
        "# Plot a confusion matrix based on the true labels and predicted labels\n",
        "plt.figure(figsize= (2,2))\n",
        "cm = confusion_matrix(labels, predictions)\n",
        "disp = ConfusionMatrixDisplay(confusion_matrix=cm, display_labels=list(range(1,2)))\n",
        "fig, ax = plt.subplots(figsize=(8,8))\n",
        "disp.plot(ax=ax,colorbar= False,cmap = 'YlGnBu')\n",
        "plt.title(\"Confusion Matrix\")\n",
        "plt.xlabel('Predicted Labels')\n",
        "plt.ylabel('True Labels')\n",
        "plt.show()"
      ],
      "metadata": {
        "colab": {
          "base_uri": "https://localhost:8080/",
          "height": 1000
        },
        "id": "PyvqLSrO8FOk",
        "outputId": "b6fc5ac9-6e49-4dbc-c2d7-44e3b2f23432"
      },
      "execution_count": null,
      "outputs": [
        {
          "output_type": "error",
          "ename": "ValueError",
          "evalue": "ignored",
          "traceback": [
            "\u001b[0;31m---------------------------------------------------------------------------\u001b[0m",
            "\u001b[0;31mValueError\u001b[0m                                Traceback (most recent call last)",
            "\u001b[0;32m<ipython-input-96-7a91771ed1a0>\u001b[0m in \u001b[0;36m<cell line: 6>\u001b[0;34m()\u001b[0m\n\u001b[1;32m      4\u001b[0m \u001b[0mdisp\u001b[0m \u001b[0;34m=\u001b[0m \u001b[0mConfusionMatrixDisplay\u001b[0m\u001b[0;34m(\u001b[0m\u001b[0mconfusion_matrix\u001b[0m\u001b[0;34m=\u001b[0m\u001b[0mcm\u001b[0m\u001b[0;34m,\u001b[0m \u001b[0mdisplay_labels\u001b[0m\u001b[0;34m=\u001b[0m\u001b[0mlist\u001b[0m\u001b[0;34m(\u001b[0m\u001b[0mrange\u001b[0m\u001b[0;34m(\u001b[0m\u001b[0;36m1\u001b[0m\u001b[0;34m,\u001b[0m\u001b[0;36m2\u001b[0m\u001b[0;34m)\u001b[0m\u001b[0;34m)\u001b[0m\u001b[0;34m)\u001b[0m\u001b[0;34m\u001b[0m\u001b[0;34m\u001b[0m\u001b[0m\n\u001b[1;32m      5\u001b[0m \u001b[0mfig\u001b[0m\u001b[0;34m,\u001b[0m \u001b[0max\u001b[0m \u001b[0;34m=\u001b[0m \u001b[0mplt\u001b[0m\u001b[0;34m.\u001b[0m\u001b[0msubplots\u001b[0m\u001b[0;34m(\u001b[0m\u001b[0mfigsize\u001b[0m\u001b[0;34m=\u001b[0m\u001b[0;34m(\u001b[0m\u001b[0;36m8\u001b[0m\u001b[0;34m,\u001b[0m\u001b[0;36m8\u001b[0m\u001b[0;34m)\u001b[0m\u001b[0;34m)\u001b[0m\u001b[0;34m\u001b[0m\u001b[0;34m\u001b[0m\u001b[0m\n\u001b[0;32m----> 6\u001b[0;31m \u001b[0mdisp\u001b[0m\u001b[0;34m.\u001b[0m\u001b[0mplot\u001b[0m\u001b[0;34m(\u001b[0m\u001b[0max\u001b[0m\u001b[0;34m=\u001b[0m\u001b[0max\u001b[0m\u001b[0;34m,\u001b[0m\u001b[0mcolorbar\u001b[0m\u001b[0;34m=\u001b[0m \u001b[0;32mFalse\u001b[0m\u001b[0;34m,\u001b[0m\u001b[0mcmap\u001b[0m \u001b[0;34m=\u001b[0m \u001b[0;34m'YlGnBu'\u001b[0m\u001b[0;34m)\u001b[0m\u001b[0;34m\u001b[0m\u001b[0;34m\u001b[0m\u001b[0m\n\u001b[0m\u001b[1;32m      7\u001b[0m \u001b[0mplt\u001b[0m\u001b[0;34m.\u001b[0m\u001b[0mtitle\u001b[0m\u001b[0;34m(\u001b[0m\u001b[0;34m\"Confusion Matrix\"\u001b[0m\u001b[0;34m)\u001b[0m\u001b[0;34m\u001b[0m\u001b[0;34m\u001b[0m\u001b[0m\n\u001b[1;32m      8\u001b[0m \u001b[0mplt\u001b[0m\u001b[0;34m.\u001b[0m\u001b[0mxlabel\u001b[0m\u001b[0;34m(\u001b[0m\u001b[0;34m'Predicted Labels'\u001b[0m\u001b[0;34m)\u001b[0m\u001b[0;34m\u001b[0m\u001b[0;34m\u001b[0m\u001b[0m\n",
            "\u001b[0;32m/usr/local/lib/python3.10/dist-packages/sklearn/metrics/_plot/confusion_matrix.py\u001b[0m in \u001b[0;36mplot\u001b[0;34m(self, include_values, cmap, xticks_rotation, values_format, ax, colorbar, im_kw, text_kw)\u001b[0m\n\u001b[1;32m    179\u001b[0m         \u001b[0;32mif\u001b[0m \u001b[0mcolorbar\u001b[0m\u001b[0;34m:\u001b[0m\u001b[0;34m\u001b[0m\u001b[0;34m\u001b[0m\u001b[0m\n\u001b[1;32m    180\u001b[0m             \u001b[0mfig\u001b[0m\u001b[0;34m.\u001b[0m\u001b[0mcolorbar\u001b[0m\u001b[0;34m(\u001b[0m\u001b[0mself\u001b[0m\u001b[0;34m.\u001b[0m\u001b[0mim_\u001b[0m\u001b[0;34m,\u001b[0m \u001b[0max\u001b[0m\u001b[0;34m=\u001b[0m\u001b[0max\u001b[0m\u001b[0;34m)\u001b[0m\u001b[0;34m\u001b[0m\u001b[0;34m\u001b[0m\u001b[0m\n\u001b[0;32m--> 181\u001b[0;31m         ax.set(\n\u001b[0m\u001b[1;32m    182\u001b[0m             \u001b[0mxticks\u001b[0m\u001b[0;34m=\u001b[0m\u001b[0mnp\u001b[0m\u001b[0;34m.\u001b[0m\u001b[0marange\u001b[0m\u001b[0;34m(\u001b[0m\u001b[0mn_classes\u001b[0m\u001b[0;34m)\u001b[0m\u001b[0;34m,\u001b[0m\u001b[0;34m\u001b[0m\u001b[0;34m\u001b[0m\u001b[0m\n\u001b[1;32m    183\u001b[0m             \u001b[0myticks\u001b[0m\u001b[0;34m=\u001b[0m\u001b[0mnp\u001b[0m\u001b[0;34m.\u001b[0m\u001b[0marange\u001b[0m\u001b[0;34m(\u001b[0m\u001b[0mn_classes\u001b[0m\u001b[0;34m)\u001b[0m\u001b[0;34m,\u001b[0m\u001b[0;34m\u001b[0m\u001b[0;34m\u001b[0m\u001b[0m\n",
            "\u001b[0;32m/usr/local/lib/python3.10/dist-packages/matplotlib/artist.py\u001b[0m in \u001b[0;36m<lambda>\u001b[0;34m(self, **kwargs)\u001b[0m\n\u001b[1;32m    145\u001b[0m             \u001b[0;32mreturn\u001b[0m\u001b[0;34m\u001b[0m\u001b[0;34m\u001b[0m\u001b[0m\n\u001b[1;32m    146\u001b[0m \u001b[0;34m\u001b[0m\u001b[0m\n\u001b[0;32m--> 147\u001b[0;31m         \u001b[0mcls\u001b[0m\u001b[0;34m.\u001b[0m\u001b[0mset\u001b[0m \u001b[0;34m=\u001b[0m \u001b[0;32mlambda\u001b[0m \u001b[0mself\u001b[0m\u001b[0;34m,\u001b[0m \u001b[0;34m**\u001b[0m\u001b[0mkwargs\u001b[0m\u001b[0;34m:\u001b[0m \u001b[0mArtist\u001b[0m\u001b[0;34m.\u001b[0m\u001b[0mset\u001b[0m\u001b[0;34m(\u001b[0m\u001b[0mself\u001b[0m\u001b[0;34m,\u001b[0m \u001b[0;34m**\u001b[0m\u001b[0mkwargs\u001b[0m\u001b[0;34m)\u001b[0m\u001b[0;34m\u001b[0m\u001b[0;34m\u001b[0m\u001b[0m\n\u001b[0m\u001b[1;32m    148\u001b[0m         \u001b[0mcls\u001b[0m\u001b[0;34m.\u001b[0m\u001b[0mset\u001b[0m\u001b[0;34m.\u001b[0m\u001b[0m__name__\u001b[0m \u001b[0;34m=\u001b[0m \u001b[0;34m\"set\"\u001b[0m\u001b[0;34m\u001b[0m\u001b[0;34m\u001b[0m\u001b[0m\n\u001b[1;32m    149\u001b[0m         \u001b[0mcls\u001b[0m\u001b[0;34m.\u001b[0m\u001b[0mset\u001b[0m\u001b[0;34m.\u001b[0m\u001b[0m__qualname__\u001b[0m \u001b[0;34m=\u001b[0m \u001b[0;34mf\"{cls.__qualname__}.set\"\u001b[0m\u001b[0;34m\u001b[0m\u001b[0;34m\u001b[0m\u001b[0m\n",
            "\u001b[0;32m/usr/local/lib/python3.10/dist-packages/matplotlib/artist.py\u001b[0m in \u001b[0;36mset\u001b[0;34m(self, **kwargs)\u001b[0m\n\u001b[1;32m   1229\u001b[0m         \u001b[0;31m# Artist._update_set_signature_and_docstring() at the end of the\u001b[0m\u001b[0;34m\u001b[0m\u001b[0;34m\u001b[0m\u001b[0m\n\u001b[1;32m   1230\u001b[0m         \u001b[0;31m# module.\u001b[0m\u001b[0;34m\u001b[0m\u001b[0;34m\u001b[0m\u001b[0m\n\u001b[0;32m-> 1231\u001b[0;31m         \u001b[0;32mreturn\u001b[0m \u001b[0mself\u001b[0m\u001b[0;34m.\u001b[0m\u001b[0m_internal_update\u001b[0m\u001b[0;34m(\u001b[0m\u001b[0mcbook\u001b[0m\u001b[0;34m.\u001b[0m\u001b[0mnormalize_kwargs\u001b[0m\u001b[0;34m(\u001b[0m\u001b[0mkwargs\u001b[0m\u001b[0;34m,\u001b[0m \u001b[0mself\u001b[0m\u001b[0;34m)\u001b[0m\u001b[0;34m)\u001b[0m\u001b[0;34m\u001b[0m\u001b[0;34m\u001b[0m\u001b[0m\n\u001b[0m\u001b[1;32m   1232\u001b[0m \u001b[0;34m\u001b[0m\u001b[0m\n\u001b[1;32m   1233\u001b[0m     \u001b[0;34m@\u001b[0m\u001b[0mcontextlib\u001b[0m\u001b[0;34m.\u001b[0m\u001b[0mcontextmanager\u001b[0m\u001b[0;34m\u001b[0m\u001b[0;34m\u001b[0m\u001b[0m\n",
            "\u001b[0;32m/usr/local/lib/python3.10/dist-packages/matplotlib/artist.py\u001b[0m in \u001b[0;36m_internal_update\u001b[0;34m(self, kwargs)\u001b[0m\n\u001b[1;32m   1221\u001b[0m         \u001b[0mThe\u001b[0m \u001b[0mlack\u001b[0m \u001b[0mof\u001b[0m \u001b[0mprenormalization\u001b[0m \u001b[0;32mis\u001b[0m \u001b[0mto\u001b[0m \u001b[0mmaintain\u001b[0m \u001b[0mbackcompatibility\u001b[0m\u001b[0;34m.\u001b[0m\u001b[0;34m\u001b[0m\u001b[0;34m\u001b[0m\u001b[0m\n\u001b[1;32m   1222\u001b[0m         \"\"\"\n\u001b[0;32m-> 1223\u001b[0;31m         return self._update_props(\n\u001b[0m\u001b[1;32m   1224\u001b[0m             \u001b[0mkwargs\u001b[0m\u001b[0;34m,\u001b[0m \u001b[0;34m\"{cls.__name__}.set() got an unexpected keyword argument \"\u001b[0m\u001b[0;34m\u001b[0m\u001b[0;34m\u001b[0m\u001b[0m\n\u001b[1;32m   1225\u001b[0m             \"{prop_name!r}\")\n",
            "\u001b[0;32m/usr/local/lib/python3.10/dist-packages/matplotlib/artist.py\u001b[0m in \u001b[0;36m_update_props\u001b[0;34m(self, props, errfmt)\u001b[0m\n\u001b[1;32m   1197\u001b[0m                         raise AttributeError(\n\u001b[1;32m   1198\u001b[0m                             errfmt.format(cls=type(self), prop_name=k))\n\u001b[0;32m-> 1199\u001b[0;31m                     \u001b[0mret\u001b[0m\u001b[0;34m.\u001b[0m\u001b[0mappend\u001b[0m\u001b[0;34m(\u001b[0m\u001b[0mfunc\u001b[0m\u001b[0;34m(\u001b[0m\u001b[0mv\u001b[0m\u001b[0;34m)\u001b[0m\u001b[0;34m)\u001b[0m\u001b[0;34m\u001b[0m\u001b[0;34m\u001b[0m\u001b[0m\n\u001b[0m\u001b[1;32m   1200\u001b[0m         \u001b[0;32mif\u001b[0m \u001b[0mret\u001b[0m\u001b[0;34m:\u001b[0m\u001b[0;34m\u001b[0m\u001b[0;34m\u001b[0m\u001b[0m\n\u001b[1;32m   1201\u001b[0m             \u001b[0mself\u001b[0m\u001b[0;34m.\u001b[0m\u001b[0mpchanged\u001b[0m\u001b[0;34m(\u001b[0m\u001b[0;34m)\u001b[0m\u001b[0;34m\u001b[0m\u001b[0;34m\u001b[0m\u001b[0m\n",
            "\u001b[0;32m/usr/local/lib/python3.10/dist-packages/matplotlib/axes/_base.py\u001b[0m in \u001b[0;36mwrapper\u001b[0;34m(self, *args, **kwargs)\u001b[0m\n\u001b[1;32m     72\u001b[0m \u001b[0;34m\u001b[0m\u001b[0m\n\u001b[1;32m     73\u001b[0m         \u001b[0;32mdef\u001b[0m \u001b[0mwrapper\u001b[0m\u001b[0;34m(\u001b[0m\u001b[0mself\u001b[0m\u001b[0;34m,\u001b[0m \u001b[0;34m*\u001b[0m\u001b[0margs\u001b[0m\u001b[0;34m,\u001b[0m \u001b[0;34m**\u001b[0m\u001b[0mkwargs\u001b[0m\u001b[0;34m)\u001b[0m\u001b[0;34m:\u001b[0m\u001b[0;34m\u001b[0m\u001b[0;34m\u001b[0m\u001b[0m\n\u001b[0;32m---> 74\u001b[0;31m             \u001b[0;32mreturn\u001b[0m \u001b[0mget_method\u001b[0m\u001b[0;34m(\u001b[0m\u001b[0mself\u001b[0m\u001b[0;34m)\u001b[0m\u001b[0;34m(\u001b[0m\u001b[0;34m*\u001b[0m\u001b[0margs\u001b[0m\u001b[0;34m,\u001b[0m \u001b[0;34m**\u001b[0m\u001b[0mkwargs\u001b[0m\u001b[0;34m)\u001b[0m\u001b[0;34m\u001b[0m\u001b[0;34m\u001b[0m\u001b[0m\n\u001b[0m\u001b[1;32m     75\u001b[0m \u001b[0;34m\u001b[0m\u001b[0m\n\u001b[1;32m     76\u001b[0m         \u001b[0mwrapper\u001b[0m\u001b[0;34m.\u001b[0m\u001b[0m__module__\u001b[0m \u001b[0;34m=\u001b[0m \u001b[0mowner\u001b[0m\u001b[0;34m.\u001b[0m\u001b[0m__module__\u001b[0m\u001b[0;34m\u001b[0m\u001b[0;34m\u001b[0m\u001b[0m\n",
            "\u001b[0;32m/usr/local/lib/python3.10/dist-packages/matplotlib/_api/deprecation.py\u001b[0m in \u001b[0;36mwrapper\u001b[0;34m(*args, **kwargs)\u001b[0m\n\u001b[1;32m    295\u001b[0m                 f\"for the old name will be dropped %(removal)s.\")\n\u001b[1;32m    296\u001b[0m             \u001b[0mkwargs\u001b[0m\u001b[0;34m[\u001b[0m\u001b[0mnew\u001b[0m\u001b[0;34m]\u001b[0m \u001b[0;34m=\u001b[0m \u001b[0mkwargs\u001b[0m\u001b[0;34m.\u001b[0m\u001b[0mpop\u001b[0m\u001b[0;34m(\u001b[0m\u001b[0mold\u001b[0m\u001b[0;34m)\u001b[0m\u001b[0;34m\u001b[0m\u001b[0;34m\u001b[0m\u001b[0m\n\u001b[0;32m--> 297\u001b[0;31m         \u001b[0;32mreturn\u001b[0m \u001b[0mfunc\u001b[0m\u001b[0;34m(\u001b[0m\u001b[0;34m*\u001b[0m\u001b[0margs\u001b[0m\u001b[0;34m,\u001b[0m \u001b[0;34m**\u001b[0m\u001b[0mkwargs\u001b[0m\u001b[0;34m)\u001b[0m\u001b[0;34m\u001b[0m\u001b[0;34m\u001b[0m\u001b[0m\n\u001b[0m\u001b[1;32m    298\u001b[0m \u001b[0;34m\u001b[0m\u001b[0m\n\u001b[1;32m    299\u001b[0m     \u001b[0;31m# wrapper() must keep the same documented signature as func(): if we\u001b[0m\u001b[0;34m\u001b[0m\u001b[0;34m\u001b[0m\u001b[0m\n",
            "\u001b[0;32m/usr/local/lib/python3.10/dist-packages/matplotlib/axis.py\u001b[0m in \u001b[0;36mset_ticklabels\u001b[0;34m(self, labels, minor, fontdict, **kwargs)\u001b[0m\n\u001b[1;32m   1967\u001b[0m             \u001b[0;31m# remove all tick labels, so only error for > 0 labels\u001b[0m\u001b[0;34m\u001b[0m\u001b[0;34m\u001b[0m\u001b[0m\n\u001b[1;32m   1968\u001b[0m             \u001b[0;32mif\u001b[0m \u001b[0mlen\u001b[0m\u001b[0;34m(\u001b[0m\u001b[0mlocator\u001b[0m\u001b[0;34m.\u001b[0m\u001b[0mlocs\u001b[0m\u001b[0;34m)\u001b[0m \u001b[0;34m!=\u001b[0m \u001b[0mlen\u001b[0m\u001b[0;34m(\u001b[0m\u001b[0mlabels\u001b[0m\u001b[0;34m)\u001b[0m \u001b[0;32mand\u001b[0m \u001b[0mlen\u001b[0m\u001b[0;34m(\u001b[0m\u001b[0mlabels\u001b[0m\u001b[0;34m)\u001b[0m \u001b[0;34m!=\u001b[0m \u001b[0;36m0\u001b[0m\u001b[0;34m:\u001b[0m\u001b[0;34m\u001b[0m\u001b[0;34m\u001b[0m\u001b[0m\n\u001b[0;32m-> 1969\u001b[0;31m                 raise ValueError(\n\u001b[0m\u001b[1;32m   1970\u001b[0m                     \u001b[0;34m\"The number of FixedLocator locations\"\u001b[0m\u001b[0;34m\u001b[0m\u001b[0;34m\u001b[0m\u001b[0m\n\u001b[1;32m   1971\u001b[0m                     \u001b[0;34mf\" ({len(locator.locs)}), usually from a call to\"\u001b[0m\u001b[0;34m\u001b[0m\u001b[0;34m\u001b[0m\u001b[0m\n",
            "\u001b[0;31mValueError\u001b[0m: The number of FixedLocator locations (2), usually from a call to set_ticks, does not match the number of labels (1)."
          ]
        },
        {
          "output_type": "display_data",
          "data": {
            "text/plain": [
              "<Figure size 200x200 with 0 Axes>"
            ]
          },
          "metadata": {}
        },
        {
          "output_type": "display_data",
          "data": {
            "text/plain": [
              "<Figure size 800x800 with 1 Axes>"
            ],
            "image/png": "[encoded data removed]"
          },
          "metadata": {}
        }
      ]
    },
    {
      "cell_type": "code",
      "source": [
        "peach_a.save(\"Peach_Avg-20-Final_98.88.h5\")"
      ],
      "metadata": {
        "id": "saokVfbF8Fw4"
      },
      "execution_count": null,
      "outputs": []
    }
  ]
}