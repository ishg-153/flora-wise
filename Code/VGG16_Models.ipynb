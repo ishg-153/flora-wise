{
  "nbformat": 4,
  "nbformat_minor": 0,
  "metadata": {
    "colab": {
      "provenance": [],
      "gpuType": "T4",
      "toc_visible": true
    },
    "kernelspec": {
      "name": "python3",
      "display_name": "Python 3"
    },
    "language_info": {
      "name": "python"
    },
    "accelerator": "GPU"
  },
  "cells": [
    {
      "cell_type": "code",
      "source": [
        "import os                       # for working with files\n",
        "import numpy as np              # for numerical computationss\n",
        "import pandas as pd             # for working with dataframes\n",
        "import matplotlib.pyplot as plt # for plotting informations on graph and images using tensors\n",
        "import tensorflow as tf\n",
        "#import tensorflow.keras.backend as K\n",
        "#from sklearn.metrics import confusion_matrix\n",
        "from keras import models\n",
        "from tensorflow.keras.models import Model\n",
        "from tensorflow.keras.models import load_model\n",
        "from tensorflow.keras.preprocessing import image\n",
        "#from keras.preprocessing.image import load_img,img_to_array\n",
        "from tensorflow.keras.models import Sequential\n",
        "from tensorflow.keras import layers\n",
        "from tensorflow.keras.layers import Dense, Dropout, Flatten, Input, LeakyReLU\n",
        "from tensorflow.keras.layers import BatchNormalization, Activation, Conv2D\n",
        "#from tensorflow.keras.applications import ResNet101V2\n",
        "from tensorflow.keras.models import Sequential\n",
        "from tensorflow.keras.preprocessing.image import ImageDataGenerator\n",
        "from tensorflow.keras.layers import MaxPooling2D\n",
        "from keras.layers import MaxPool2D\n",
        "import tensorflow.keras.metrics as Metrics"
      ],
      "metadata": {
        "id": "txRx8aF44-hJ"
      },
      "execution_count": 1,
      "outputs": []
    },
    {
      "cell_type": "code",
      "source": [
        "np.random.seed(0)\n",
        "tf.random.set_seed(0)"
      ],
      "metadata": {
        "id": "KhrFWGfjAyzI"
      },
      "execution_count": 2,
      "outputs": []
    },
    {
      "cell_type": "code",
      "source": [
        "from google.colab import files #add .json file\n",
        "uploaded = files.upload()"
      ],
      "metadata": {
        "colab": {
          "base_uri": "https://localhost:8080/",
          "height": 73
        },
        "id": "2Zy7G_X35MSA",
        "outputId": "14f37ae5-c963-494c-b594-bb566dba0e2a"
      },
      "execution_count": 3,
      "outputs": [
        {
          "output_type": "display_data",
          "data": {
            "text/plain": [
              "<IPython.core.display.HTML object>"
            ],
            "text/html": [
              "\n",
              "     <input type=\"file\" id=\"files-171669bf-dc4b-419a-81e9-9ca075705122\" name=\"files[]\" multiple disabled\n",
              "        style=\"border:none\" />\n",
              "     <output id=\"result-171669bf-dc4b-419a-81e9-9ca075705122\">\n",
              "      Upload widget is only available when the cell has been executed in the\n",
              "      current browser session. Please rerun this cell to enable.\n",
              "      </output>\n",
              "      <script>// Copyright 2017 Google LLC\n",
              "//\n",
              "// Licensed under the Apache License, Version 2.0 (the \"License\");\n",
              "// you may not use this file except in compliance with the License.\n",
              "// You may obtain a copy of the License at\n",
              "//\n",
              "//      http://www.apache.org/licenses/LICENSE-2.0\n",
              "//\n",
              "// Unless required by applicable law or agreed to in writing, software\n",
              "// distributed under the License is distributed on an \"AS IS\" BASIS,\n",
              "// WITHOUT WARRANTIES OR CONDITIONS OF ANY KIND, either express or implied.\n",
              "// See the License for the specific language governing permissions and\n",
              "// limitations under the License.\n",
              "\n",
              "/**\n",
              " * @fileoverview Helpers for google.colab Python module.\n",
              " */\n",
              "(function(scope) {\n",
              "function span(text, styleAttributes = {}) {\n",
              "  const element = document.createElement('span');\n",
              "  element.textContent = text;\n",
              "  for (const key of Object.keys(styleAttributes)) {\n",
              "    element.style[key] = styleAttributes[key];\n",
              "  }\n",
              "  return element;\n",
              "}\n",
              "\n",
              "// Max number of bytes which will be uploaded at a time.\n",
              "const MAX_PAYLOAD_SIZE = 100 * 1024;\n",
              "\n",
              "function _uploadFiles(inputId, outputId) {\n",
              "  const steps = uploadFilesStep(inputId, outputId);\n",
              "  const outputElement = document.getElementById(outputId);\n",
              "  // Cache steps on the outputElement to make it available for the next call\n",
              "  // to uploadFilesContinue from Python.\n",
              "  outputElement.steps = steps;\n",
              "\n",
              "  return _uploadFilesContinue(outputId);\n",
              "}\n",
              "\n",
              "// This is roughly an async generator (not supported in the browser yet),\n",
              "// where there are multiple asynchronous steps and the Python side is going\n",
              "// to poll for completion of each step.\n",
              "// This uses a Promise to block the python side on completion of each step,\n",
              "// then passes the result of the previous step as the input to the next step.\n",
              "function _uploadFilesContinue(outputId) {\n",
              "  const outputElement = document.getElementById(outputId);\n",
              "  const steps = outputElement.steps;\n",
              "\n",
              "  const next = steps.next(outputElement.lastPromiseValue);\n",
              "  return Promise.resolve(next.value.promise).then((value) => {\n",
              "    // Cache the last promise value to make it available to the next\n",
              "    // step of the generator.\n",
              "    outputElement.lastPromiseValue = value;\n",
              "    return next.value.response;\n",
              "  });\n",
              "}\n",
              "\n",
              "/**\n",
              " * Generator function which is called between each async step of the upload\n",
              " * process.\n",
              " * @param {string} inputId Element ID of the input file picker element.\n",
              " * @param {string} outputId Element ID of the output display.\n",
              " * @return {!Iterable<!Object>} Iterable of next steps.\n",
              " */\n",
              "function* uploadFilesStep(inputId, outputId) {\n",
              "  const inputElement = document.getElementById(inputId);\n",
              "  inputElement.disabled = false;\n",
              "\n",
              "  const outputElement = document.getElementById(outputId);\n",
              "  outputElement.innerHTML = '';\n",
              "\n",
              "  const pickedPromise = new Promise((resolve) => {\n",
              "    inputElement.addEventListener('change', (e) => {\n",
              "      resolve(e.target.files);\n",
              "    });\n",
              "  });\n",
              "\n",
              "  const cancel = document.createElement('button');\n",
              "  inputElement.parentElement.appendChild(cancel);\n",
              "  cancel.textContent = 'Cancel upload';\n",
              "  const cancelPromise = new Promise((resolve) => {\n",
              "    cancel.onclick = () => {\n",
              "      resolve(null);\n",
              "    };\n",
              "  });\n",
              "\n",
              "  // Wait for the user to pick the files.\n",
              "  const files = yield {\n",
              "    promise: Promise.race([pickedPromise, cancelPromise]),\n",
              "    response: {\n",
              "      action: 'starting',\n",
              "    }\n",
              "  };\n",
              "\n",
              "  cancel.remove();\n",
              "\n",
              "  // Disable the input element since further picks are not allowed.\n",
              "  inputElement.disabled = true;\n",
              "\n",
              "  if (!files) {\n",
              "    return {\n",
              "      response: {\n",
              "        action: 'complete',\n",
              "      }\n",
              "    };\n",
              "  }\n",
              "\n",
              "  for (const file of files) {\n",
              "    const li = document.createElement('li');\n",
              "    li.append(span(file.name, {fontWeight: 'bold'}));\n",
              "    li.append(span(\n",
              "        `(${file.type || 'n/a'}) - ${file.size} bytes, ` +\n",
              "        `last modified: ${\n",
              "            file.lastModifiedDate ? file.lastModifiedDate.toLocaleDateString() :\n",
              "                                    'n/a'} - `));\n",
              "    const percent = span('0% done');\n",
              "    li.appendChild(percent);\n",
              "\n",
              "    outputElement.appendChild(li);\n",
              "\n",
              "    const fileDataPromise = new Promise((resolve) => {\n",
              "      const reader = new FileReader();\n",
              "      reader.onload = (e) => {\n",
              "        resolve(e.target.result);\n",
              "      };\n",
              "      reader.readAsArrayBuffer(file);\n",
              "    });\n",
              "    // Wait for the data to be ready.\n",
              "    let fileData = yield {\n",
              "      promise: fileDataPromise,\n",
              "      response: {\n",
              "        action: 'continue',\n",
              "      }\n",
              "    };\n",
              "\n",
              "    // Use a chunked sending to avoid message size limits. See b/62115660.\n",
              "    let position = 0;\n",
              "    do {\n",
              "      const length = Math.min(fileData.byteLength - position, MAX_PAYLOAD_SIZE);\n",
              "      const chunk = new Uint8Array(fileData, position, length);\n",
              "      position += length;\n",
              "\n",
              "      const base64 = btoa(String.fromCharCode.apply(null, chunk));\n",
              "      yield {\n",
              "        response: {\n",
              "          action: 'append',\n",
              "          file: file.name,\n",
              "          data: base64,\n",
              "        },\n",
              "      };\n",
              "\n",
              "      let percentDone = fileData.byteLength === 0 ?\n",
              "          100 :\n",
              "          Math.round((position / fileData.byteLength) * 100);\n",
              "      percent.textContent = `${percentDone}% done`;\n",
              "\n",
              "    } while (position < fileData.byteLength);\n",
              "  }\n",
              "\n",
              "  // All done.\n",
              "  yield {\n",
              "    response: {\n",
              "      action: 'complete',\n",
              "    }\n",
              "  };\n",
              "}\n",
              "\n",
              "scope.google = scope.google || {};\n",
              "scope.google.colab = scope.google.colab || {};\n",
              "scope.google.colab._files = {\n",
              "  _uploadFiles,\n",
              "  _uploadFilesContinue,\n",
              "};\n",
              "})(self);\n",
              "</script> "
            ]
          },
          "metadata": {}
        },
        {
          "output_type": "stream",
          "name": "stdout",
          "text": [
            "Saving kaggle.json to kaggle.json\n"
          ]
        }
      ]
    },
    {
      "cell_type": "code",
      "source": [
        "!rm -r ~/.kaggle\n",
        "!mkdir ~/.kaggle\n",
        "!cp ./kaggle.json ~/.kaggle/\n",
        "!chmod 600 ~/.kaggle/kaggle.json"
      ],
      "metadata": {
        "id": "kMa5eph_5OEf",
        "colab": {
          "base_uri": "https://localhost:8080/"
        },
        "outputId": "7e4a88ae-b270-4cdd-d49a-eb6c95bc1700"
      },
      "execution_count": 4,
      "outputs": [
        {
          "output_type": "stream",
          "name": "stdout",
          "text": [
            "rm: cannot remove '/root/.kaggle': No such file or directory\n"
          ]
        }
      ]
    },
    {
      "cell_type": "code",
      "source": [
        "import zipfile\n",
        "import os\n",
        "from kaggle.cli import main\n",
        "os.environ['KAGGLE_CONFIG_DIR'] = \"/content\""
      ],
      "metadata": {
        "id": "2qO1oqei5QF4"
      },
      "execution_count": 5,
      "outputs": []
    },
    {
      "cell_type": "code",
      "execution_count": 6,
      "metadata": {
        "id": "-PAIF6EQRqiP",
        "colab": {
          "base_uri": "https://localhost:8080/"
        },
        "outputId": "7ae93a9e-363a-4a90-ff85-2f39c03837cb"
      },
      "outputs": [
        {
          "output_type": "stream",
          "name": "stdout",
          "text": [
            "Warning: Your Kaggle API key is readable by other users on this system! To fix this, you can run 'chmod 600 /content/kaggle.json'\n",
            "Downloading balanced-plant-dataset.zip to /content\n",
            "100% 1.17G/1.17G [00:59<00:00, 24.3MB/s]\n",
            "100% 1.17G/1.17G [00:59<00:00, 21.1MB/s]\n"
          ]
        }
      ],
      "source": [
        "!kaggle datasets download -d harshart/balanced-plant-dataset"
      ]
    },
    {
      "cell_type": "code",
      "source": [
        "zip_ref = zipfile.ZipFile('balanced-plant-dataset.zip', 'r') #Opens the zip file in read mode\n",
        "zip_ref.extractall('/tmp') #Extracts the files into the /tmp folder\n",
        "zip_ref.close()"
      ],
      "metadata": {
        "id": "vbfJBf_k5T6Q"
      },
      "execution_count": 7,
      "outputs": []
    },
    {
      "cell_type": "code",
      "source": [
        "import warnings\n",
        "warnings.filterwarnings(\"ignore\")\n",
        "import tensorflow as tf\n",
        "import matplotlib.pyplot as plt\n",
        "tf.compat.v1.set_random_seed(0)\n",
        "from tensorflow import keras\n",
        "import itertools\n",
        "from tensorflow.keras.layers.experimental.preprocessing import Rescaling\n",
        "from sklearn.metrics import precision_score, accuracy_score, recall_score, f1_score, confusion_matrix, ConfusionMatrixDisplay"
      ],
      "metadata": {
        "id": "sL3F2MMqO_Iv"
      },
      "execution_count": 8,
      "outputs": []
    },
    {
      "cell_type": "markdown",
      "source": [
        "# **Strawberry**"
      ],
      "metadata": {
        "id": "ncbPIvIXw0WO"
      }
    },
    {
      "cell_type": "code",
      "source": [
        "data_dir = r\"/tmp/DS MINI PROJECT DATASET(BALANCEDANDIMBALANCED)\"\n",
        "\n",
        "train_dir = data_dir + \"/Training/Strawberry\"\n",
        "valid_dir = data_dir + \"/Testing/Strawberry\""
      ],
      "metadata": {
        "id": "ALLIdAR-6PnH"
      },
      "execution_count": 119,
      "outputs": []
    },
    {
      "cell_type": "code",
      "source": [
        "seed_train_validation = 1 # Must be same for train_ds and val_ds\n",
        "shuffle_value = True\n",
        "validation_split = 0.2\n",
        "\n",
        "train_gen = tf.keras.utils.image_dataset_from_directory(\n",
        "                                                        directory = train_dir,\n",
        "                                                        image_size = (128, 128),\n",
        "                                                        label_mode='categorical',\n",
        "                                                        validation_split = validation_split,\n",
        "                                                        batch_size=32,\n",
        "                                                        subset = \"training\",\n",
        "                                                        seed = seed_train_validation,\n",
        "                                                        shuffle = shuffle_value)\n",
        "\n",
        "val_gen = tf.keras.utils.image_dataset_from_directory(\n",
        "                                                        directory = train_dir,\n",
        "                                                        image_size = (128, 128),\n",
        "                                                        validation_split = validation_split,\n",
        "                                                        label_mode='categorical',\n",
        "                                                        batch_size=32,\n",
        "                                                        subset = \"validation\",\n",
        "                                                        seed = seed_train_validation,\n",
        "                                                        shuffle = shuffle_value)\n",
        "\n",
        "test_it = tf.keras.utils.image_dataset_from_directory( directory= valid_dir,\n",
        "                                                      batch_size=32,\n",
        "                                                      image_size=(128, 128))"
      ],
      "metadata": {
        "colab": {
          "base_uri": "https://localhost:8080/"
        },
        "id": "Ee34IZfKAlzC",
        "outputId": "53f553bf-7754-4590-ac01-86e8b3a7c3a7"
      },
      "execution_count": 120,
      "outputs": [
        {
          "output_type": "stream",
          "name": "stdout",
          "text": [
            "Found 3598 files belonging to 2 classes.\n",
            "Using 2879 files for training.\n",
            "Found 3598 files belonging to 2 classes.\n",
            "Using 719 files for validation.\n",
            "Found 900 files belonging to 2 classes.\n"
          ]
        }
      ]
    },
    {
      "cell_type": "code",
      "source": [
        "rescale = Rescaling(scale=1./255)\n",
        "train_set  = train_gen.map(lambda image,label:(rescale(image),label))\n",
        "valid_set  = val_gen.map(lambda image,label:(rescale(image),label))\n",
        "test_set  = test_it.map(lambda image,label:(rescale(image),label))"
      ],
      "metadata": {
        "id": "36CZWchwPbvn"
      },
      "execution_count": 121,
      "outputs": []
    },
    {
      "cell_type": "code",
      "source": [
        "from keras.applications.vgg16 import VGG16\n",
        "def define_modelavg():\n",
        "    # load model\n",
        "    model_sb_avg = VGG16(include_top=False, input_shape=(128, 128, 3))\n",
        "    # mark loaded layers as not trainable\n",
        "    for layer in model_sb_avg.layers:\n",
        "        layer.trainable = False\n",
        "    # add new classifier layers\n",
        "    avgpool1 = tf.keras.layers.GlobalAveragePooling2D()(model_sb_avg.layers[-1].output)\n",
        "\n",
        "    class1 = Dense(8, activation='relu', kernel_initializer='he_uniform')(avgpool1)\n",
        "    output = Dense(2, activation='softmax')(class1)\n",
        "    # define new model\n",
        "    model_sb_avg = Model(inputs=model_sb_avg.inputs, outputs=output)\n",
        "    return model_sb_avg"
      ],
      "metadata": {
        "id": "LyL4WkrLMt8R"
      },
      "execution_count": 122,
      "outputs": []
    },
    {
      "cell_type": "code",
      "source": [
        "model_sb_avg = define_modelavg()\n",
        "model_sb_avg.compile(optimizer='adam', loss='categorical_crossentropy', metrics=['accuracy'])\n",
        "model_sb_avg.summary()"
      ],
      "metadata": {
        "colab": {
          "base_uri": "https://localhost:8080/"
        },
        "id": "0hXQ0F7GNAg4",
        "outputId": "8989d2f5-88e9-4f17-a256-0c47806ac81d"
      },
      "execution_count": 123,
      "outputs": [
        {
          "output_type": "stream",
          "name": "stdout",
          "text": [
            "Model: \"model_10\"\n",
            "_________________________________________________________________\n",
            " Layer (type)                Output Shape              Param #   \n",
            "=================================================================\n",
            " input_11 (InputLayer)       [(None, 128, 128, 3)]     0         \n",
            "                                                                 \n",
            " block1_conv1 (Conv2D)       (None, 128, 128, 64)      1792      \n",
            "                                                                 \n",
            " block1_conv2 (Conv2D)       (None, 128, 128, 64)      36928     \n",
            "                                                                 \n",
            " block1_pool (MaxPooling2D)  (None, 64, 64, 64)        0         \n",
            "                                                                 \n",
            " block2_conv1 (Conv2D)       (None, 64, 64, 128)       73856     \n",
            "                                                                 \n",
            " block2_conv2 (Conv2D)       (None, 64, 64, 128)       147584    \n",
            "                                                                 \n",
            " block2_pool (MaxPooling2D)  (None, 32, 32, 128)       0         \n",
            "                                                                 \n",
            " block3_conv1 (Conv2D)       (None, 32, 32, 256)       295168    \n",
            "                                                                 \n",
            " block3_conv2 (Conv2D)       (None, 32, 32, 256)       590080    \n",
            "                                                                 \n",
            " block3_conv3 (Conv2D)       (None, 32, 32, 256)       590080    \n",
            "                                                                 \n",
            " block3_pool (MaxPooling2D)  (None, 16, 16, 256)       0         \n",
            "                                                                 \n",
            " block4_conv1 (Conv2D)       (None, 16, 16, 512)       1180160   \n",
            "                                                                 \n",
            " block4_conv2 (Conv2D)       (None, 16, 16, 512)       2359808   \n",
            "                                                                 \n",
            " block4_conv3 (Conv2D)       (None, 16, 16, 512)       2359808   \n",
            "                                                                 \n",
            " block4_pool (MaxPooling2D)  (None, 8, 8, 512)         0         \n",
            "                                                                 \n",
            " block5_conv1 (Conv2D)       (None, 8, 8, 512)         2359808   \n",
            "                                                                 \n",
            " block5_conv2 (Conv2D)       (None, 8, 8, 512)         2359808   \n",
            "                                                                 \n",
            " block5_conv3 (Conv2D)       (None, 8, 8, 512)         2359808   \n",
            "                                                                 \n",
            " block5_pool (MaxPooling2D)  (None, 4, 4, 512)         0         \n",
            "                                                                 \n",
            " global_average_pooling2d_1  (None, 512)               0         \n",
            " 0 (GlobalAveragePooling2D)                                      \n",
            "                                                                 \n",
            " dense_20 (Dense)            (None, 8)                 4104      \n",
            "                                                                 \n",
            " dense_21 (Dense)            (None, 2)                 18        \n",
            "                                                                 \n",
            "=================================================================\n",
            "Total params: 14718810 (56.15 MB)\n",
            "Trainable params: 4122 (16.10 KB)\n",
            "Non-trainable params: 14714688 (56.13 MB)\n",
            "_________________________________________________________________\n"
          ]
        }
      ]
    },
    {
      "cell_type": "code",
      "source": [
        "%%time\n",
        "epochsteps=len(train_set);epochs =20;valsteps=len(valid_set);teststeps=len(test_set)\n",
        "# fit model\n",
        "history = model_sb_avg.fit(train_set, steps_per_epoch=epochsteps,\n",
        "                    validation_data=valid_set, validation_steps=valsteps, epochs=epochs, verbose=1)\n"
      ],
      "metadata": {
        "colab": {
          "base_uri": "https://localhost:8080/"
        },
        "id": "Pul8qANrNc9t",
        "outputId": "04551c05-0ea0-4bc9-e621-b816fde9c8c0"
      },
      "execution_count": 124,
      "outputs": [
        {
          "output_type": "stream",
          "name": "stdout",
          "text": [
            "Epoch 1/20\n",
            "90/90 [==============================] - 7s 64ms/step - loss: 0.4354 - accuracy: 0.8902 - val_loss: 0.2373 - val_accuracy: 0.9777\n",
            "Epoch 2/20\n",
            "90/90 [==============================] - 6s 60ms/step - loss: 0.1578 - accuracy: 0.9826 - val_loss: 0.1208 - val_accuracy: 0.9791\n",
            "Epoch 3/20\n",
            "90/90 [==============================] - 6s 61ms/step - loss: 0.0926 - accuracy: 0.9833 - val_loss: 0.0799 - val_accuracy: 0.9903\n",
            "Epoch 4/20\n",
            "90/90 [==============================] - 6s 60ms/step - loss: 0.0654 - accuracy: 0.9871 - val_loss: 0.0612 - val_accuracy: 0.9944\n",
            "Epoch 5/20\n",
            "90/90 [==============================] - 7s 74ms/step - loss: 0.0526 - accuracy: 0.9871 - val_loss: 0.0512 - val_accuracy: 0.9930\n",
            "Epoch 6/20\n",
            "90/90 [==============================] - 5s 59ms/step - loss: 0.0427 - accuracy: 0.9889 - val_loss: 0.0439 - val_accuracy: 0.9944\n",
            "Epoch 7/20\n",
            "90/90 [==============================] - 7s 73ms/step - loss: 0.0372 - accuracy: 0.9906 - val_loss: 0.0378 - val_accuracy: 0.9972\n",
            "Epoch 8/20\n",
            "90/90 [==============================] - 5s 57ms/step - loss: 0.0326 - accuracy: 0.9920 - val_loss: 0.0374 - val_accuracy: 0.9917\n",
            "Epoch 9/20\n",
            "90/90 [==============================] - 5s 57ms/step - loss: 0.0291 - accuracy: 0.9924 - val_loss: 0.0308 - val_accuracy: 0.9972\n",
            "Epoch 10/20\n",
            "90/90 [==============================] - 5s 59ms/step - loss: 0.0260 - accuracy: 0.9934 - val_loss: 0.0281 - val_accuracy: 0.9972\n",
            "Epoch 11/20\n",
            "90/90 [==============================] - 5s 57ms/step - loss: 0.0232 - accuracy: 0.9948 - val_loss: 0.0262 - val_accuracy: 0.9972\n",
            "Epoch 12/20\n",
            "90/90 [==============================] - 5s 58ms/step - loss: 0.0213 - accuracy: 0.9951 - val_loss: 0.0235 - val_accuracy: 0.9972\n",
            "Epoch 13/20\n",
            "90/90 [==============================] - 5s 59ms/step - loss: 0.0200 - accuracy: 0.9951 - val_loss: 0.0257 - val_accuracy: 0.9958\n",
            "Epoch 14/20\n",
            "90/90 [==============================] - 6s 60ms/step - loss: 0.0186 - accuracy: 0.9965 - val_loss: 0.0232 - val_accuracy: 0.9958\n",
            "Epoch 15/20\n",
            "90/90 [==============================] - 6s 60ms/step - loss: 0.0170 - accuracy: 0.9969 - val_loss: 0.0230 - val_accuracy: 0.9958\n",
            "Epoch 16/20\n",
            "90/90 [==============================] - 5s 59ms/step - loss: 0.0162 - accuracy: 0.9969 - val_loss: 0.0194 - val_accuracy: 0.9972\n",
            "Epoch 17/20\n",
            "90/90 [==============================] - 5s 59ms/step - loss: 0.0150 - accuracy: 0.9969 - val_loss: 0.0209 - val_accuracy: 0.9958\n",
            "Epoch 18/20\n",
            "90/90 [==============================] - 5s 59ms/step - loss: 0.0139 - accuracy: 0.9969 - val_loss: 0.0200 - val_accuracy: 0.9958\n",
            "Epoch 19/20\n",
            "90/90 [==============================] - 7s 74ms/step - loss: 0.0127 - accuracy: 0.9972 - val_loss: 0.0162 - val_accuracy: 0.9972\n",
            "Epoch 20/20\n",
            "90/90 [==============================] - 5s 57ms/step - loss: 0.0122 - accuracy: 0.9979 - val_loss: 0.0186 - val_accuracy: 0.9958\n",
            "CPU times: user 1min 33s, sys: 8.72 s, total: 1min 42s\n",
            "Wall time: 2min 23s\n"
          ]
        }
      ]
    },
    {
      "cell_type": "code",
      "source": [
        "plt.plot(history.history['val_loss'], color = 'orange')\n",
        "plt.plot(history.history['loss'], color='red')\n",
        "# plt.plot(history.history['accuracy'], color = 'green')\n",
        "# plt.plot(history.history['val_accuracy'], color = 'blue')\n",
        "plt.legend(['Val_loss','Train_loss'],fontsize=12)\n",
        "e=range(0,20)\n",
        "labels=range(1,21)\n",
        "plt.xlabel(\"Epochs\",fontsize=12)\n",
        "plt.ylabel(\"Loss\",fontsize=12)\n",
        "plt.xticks(e,labels,fontsize=10)\n",
        "plt.yticks(fontsize=10)\n",
        "plt.show()"
      ],
      "metadata": {
        "colab": {
          "base_uri": "https://localhost:8080/",
          "height": 453
        },
        "id": "xVGShlctQnci",
        "outputId": "eaebd1ce-3816-4fb7-fce8-bbf4645ec963"
      },
      "execution_count": 130,
      "outputs": [
        {
          "output_type": "display_data",
          "data": {
            "text/plain": [
              "<Figure size 640x480 with 1 Axes>"
            ],
            "image/png": "[encoded data removed]"
          },
          "metadata": {}
        }
      ]
    },
    {
      "cell_type": "code",
      "source": [
        "labels = []\n",
        "predictions = []\n",
        "for x,y in test_set:\n",
        "    labels.append(list(y.numpy()))\n",
        "    predictions.append(tf.argmax(model_sb_avg.predict(x),1).numpy())"
      ],
      "metadata": {
        "colab": {
          "base_uri": "https://localhost:8080/"
        },
        "id": "uB7105KnQt22",
        "outputId": "e272f8f0-8906-45e7-c7ba-bed4aa0d762c"
      },
      "execution_count": 126,
      "outputs": [
        {
          "output_type": "stream",
          "name": "stdout",
          "text": [
            "1/1 [==============================] - 0s 151ms/step\n",
            "1/1 [==============================] - 0s 22ms/step\n",
            "1/1 [==============================] - 0s 20ms/step\n",
            "1/1 [==============================] - 0s 22ms/step\n",
            "1/1 [==============================] - 0s 20ms/step\n",
            "1/1 [==============================] - 0s 27ms/step\n",
            "1/1 [==============================] - 0s 20ms/step\n",
            "1/1 [==============================] - 0s 23ms/step\n",
            "1/1 [==============================] - 0s 20ms/step\n",
            "1/1 [==============================] - 0s 19ms/step\n",
            "1/1 [==============================] - 0s 24ms/step\n",
            "1/1 [==============================] - 0s 19ms/step\n",
            "1/1 [==============================] - 0s 19ms/step\n",
            "1/1 [==============================] - 0s 20ms/step\n",
            "1/1 [==============================] - 0s 25ms/step\n",
            "1/1 [==============================] - 0s 20ms/step\n",
            "1/1 [==============================] - 0s 21ms/step\n",
            "1/1 [==============================] - 0s 27ms/step\n",
            "1/1 [==============================] - 0s 22ms/step\n",
            "1/1 [==============================] - 0s 24ms/step\n",
            "1/1 [==============================] - 0s 21ms/step\n",
            "1/1 [==============================] - 0s 23ms/step\n",
            "1/1 [==============================] - 0s 22ms/step\n",
            "1/1 [==============================] - 0s 25ms/step\n",
            "1/1 [==============================] - 0s 23ms/step\n",
            "1/1 [==============================] - 0s 20ms/step\n",
            "1/1 [==============================] - 0s 20ms/step\n",
            "1/1 [==============================] - 0s 24ms/step\n",
            "1/1 [==============================] - 0s 138ms/step\n"
          ]
        }
      ]
    },
    {
      "cell_type": "code",
      "source": [
        "predictions = list(itertools.chain.from_iterable(predictions))\n",
        "labels = list(itertools.chain.from_iterable(labels))"
      ],
      "metadata": {
        "id": "g5hwXYTVQxlt"
      },
      "execution_count": 127,
      "outputs": []
    },
    {
      "cell_type": "code",
      "source": [
        "print(\"Train Accuracy  : {:.2f} %\".format(history.history['accuracy'][-1]*100))\n",
        "print(\"Test Accuracy   : {:.2f} %\".format(accuracy_score(labels, predictions) * 100))\n",
        "print(\"Precision Score : {:.2f} %\".format(precision_score(labels, predictions, average='macro') * 100))\n",
        "print(\"Recall Score    : {:.2f} %\".format(recall_score(labels, predictions, average='macro') * 100))\n",
        "print(\"F1 Score        : {:.2f} %\".format(f1_score(labels, predictions, average='macro') * 100))"
      ],
      "metadata": {
        "colab": {
          "base_uri": "https://localhost:8080/"
        },
        "id": "DiPvl7yHQ1-c",
        "outputId": "fc257c4f-bdf4-4a26-fee4-c18abaa368df"
      },
      "execution_count": 128,
      "outputs": [
        {
          "output_type": "stream",
          "name": "stdout",
          "text": [
            "Train Accuracy  : 99.79 %\n",
            "Test Accuracy   : 99.11 %\n",
            "Precision Score : 99.11 %\n",
            "Recall Score    : 99.11 %\n",
            "F1 Score        : 99.11 %\n"
          ]
        }
      ]
    },
    {
      "cell_type": "code",
      "source": [
        "# Plot a confusion matrix based on the true labels and predicted labels\n",
        "plt.figure(figsize= (2,2))\n",
        "cm = confusion_matrix(labels, predictions)\n",
        "plt.rcParams.update({'font.size': 17})\n",
        "disp = ConfusionMatrixDisplay(confusion_matrix=cm, display_labels=[0,1])\n",
        "fig, ax = plt.subplots(figsize=(8,8))\n",
        "disp.plot(ax=ax,colorbar= False,cmap = 'YlGnBu')\n",
        "# plt.title(\"Confusion Matrix\")\n",
        "plt.xlabel('Predicted Labels',fontsize = 15)\n",
        "plt.ylabel('True Labels', fontsize = 15)\n",
        "plt.show()"
      ],
      "metadata": {
        "colab": {
          "base_uri": "https://localhost:8080/",
          "height": 729
        },
        "id": "ruUAeciaQ5ak",
        "outputId": "f57238f7-8a05-413e-e013-7de74da7029c"
      },
      "execution_count": 129,
      "outputs": [
        {
          "output_type": "display_data",
          "data": {
            "text/plain": [
              "<Figure size 200x200 with 0 Axes>"
            ]
          },
          "metadata": {}
        },
        {
          "output_type": "display_data",
          "data": {
            "text/plain": [
              "<Figure size 800x800 with 1 Axes>"
            ],
            "image/png": "[encoded data removed]"
          },
          "metadata": {}
        }
      ]
    },
    {
      "cell_type": "markdown",
      "source": [
        "# Cherry"
      ],
      "metadata": {
        "id": "M8criipWIqd2"
      }
    },
    {
      "cell_type": "code",
      "source": [
        "data_dir = r\"/tmp/DS MINI PROJECT DATASET(BALANCEDANDIMBALANCED)\"\n",
        "train_cherry_dir = data_dir + \"/Training/Cherry\"\n",
        "valid_cherry_dir = data_dir + \"/Testing/Cherry\"\n"
      ],
      "metadata": {
        "id": "wvcVqYVjdGPO"
      },
      "execution_count": 28,
      "outputs": []
    },
    {
      "cell_type": "code",
      "source": [
        "%%time\n",
        "seed_train_validation = 1 # Must be same for train_ds and val_ds\n",
        "shuffle_value = True\n",
        "validation_split = 0.2\n",
        "\n",
        "train_gen = tf.keras.utils.image_dataset_from_directory(\n",
        "                                                        directory = train_cherry_dir,\n",
        "                                                        image_size = (128, 128),\n",
        "                                                        label_mode='categorical',\n",
        "                                                        validation_split = validation_split,\n",
        "                                                        batch_size=32,\n",
        "                                                        subset = \"training\",\n",
        "                                                        seed = seed_train_validation,\n",
        "                                                        shuffle = shuffle_value)\n",
        "\n",
        "val_gen = tf.keras.utils.image_dataset_from_directory(\n",
        "                                                        directory = train_cherry_dir,\n",
        "                                                        image_size = (128, 128),\n",
        "                                                        validation_split = validation_split,\n",
        "                                                        label_mode='categorical',\n",
        "                                                        batch_size=32,\n",
        "                                                        subset = \"validation\",\n",
        "                                                        seed = seed_train_validation,\n",
        "                                                        shuffle = shuffle_value)\n",
        "\n",
        "test_it = tf.keras.utils.image_dataset_from_directory( directory= valid_cherry_dir,\n",
        "                                                      batch_size=32,\n",
        "                                                      image_size=(128, 128))"
      ],
      "metadata": {
        "colab": {
          "base_uri": "https://localhost:8080/"
        },
        "id": "UM01baFee3kq",
        "outputId": "c3af92be-61de-44d0-fa75-e4cf670b81ea"
      },
      "execution_count": 29,
      "outputs": [
        {
          "output_type": "stream",
          "name": "stdout",
          "text": [
            "Found 3509 files belonging to 2 classes.\n",
            "Using 2808 files for training.\n",
            "Found 3509 files belonging to 2 classes.\n",
            "Using 701 files for validation.\n",
            "Found 877 files belonging to 2 classes.\n",
            "CPU times: user 307 ms, sys: 123 ms, total: 430 ms\n",
            "Wall time: 358 ms\n"
          ]
        }
      ]
    },
    {
      "cell_type": "code",
      "source": [
        "rescale = Rescaling(scale=1./255)\n",
        "train_set  = train_gen.map(lambda image,label:(rescale(image),label))\n",
        "valid_set  = val_gen.map(lambda image,label:(rescale(image),label))\n",
        "test_set  = test_it.map(lambda image,label:(rescale(image),label))"
      ],
      "metadata": {
        "id": "JztgMm29SvpS"
      },
      "execution_count": 30,
      "outputs": []
    },
    {
      "cell_type": "code",
      "source": [
        "# vgg16 with globalavgpooling\n",
        "from keras.layers import GlobalAveragePooling2D\n",
        "\n",
        "from keras.applications.vgg16 import VGG16\n",
        "from keras.models import Model\n",
        "def define_modelavg():\n",
        "    # load model\n",
        "    model = VGG16(include_top=False, input_shape=(128, 128, 3))\n",
        "    # mark loaded layers as not trainable\n",
        "    for layer in model.layers:\n",
        "        layer.trainable = False\n",
        "    # add new classifier layers\n",
        "    #flat1 = Flatten()(model.layers[-1].output)\n",
        "    avgpool1=GlobalAveragePooling2D()(model.layers[-1].output)\n",
        "    #flat1 = Flatten()(avgpool1)\n",
        "\n",
        "    class1 = Dense(8, activation='relu', kernel_initializer='he_uniform')(avgpool1)\n",
        "    output = Dense(2, activation='softmax')(class1)\n",
        "    # define new model\n",
        "    model = Model(inputs=model.inputs, outputs=output)\n",
        "    return model"
      ],
      "metadata": {
        "id": "vgdsd4ZqqkMq"
      },
      "execution_count": 31,
      "outputs": []
    },
    {
      "cell_type": "code",
      "source": [
        "modelavg = define_modelavg()\n",
        "modelavg.compile(optimizer='adam', loss='categorical_crossentropy', metrics=['accuracy'])\n",
        "modelavg.summary()"
      ],
      "metadata": {
        "colab": {
          "base_uri": "https://localhost:8080/"
        },
        "id": "d5MbTVNZqyIx",
        "outputId": "b5092efe-7d04-4257-e6ca-919998a5af44"
      },
      "execution_count": 32,
      "outputs": [
        {
          "output_type": "stream",
          "name": "stdout",
          "text": [
            "Model: \"model_2\"\n",
            "_________________________________________________________________\n",
            " Layer (type)                Output Shape              Param #   \n",
            "=================================================================\n",
            " input_3 (InputLayer)        [(None, 128, 128, 3)]     0         \n",
            "                                                                 \n",
            " block1_conv1 (Conv2D)       (None, 128, 128, 64)      1792      \n",
            "                                                                 \n",
            " block1_conv2 (Conv2D)       (None, 128, 128, 64)      36928     \n",
            "                                                                 \n",
            " block1_pool (MaxPooling2D)  (None, 64, 64, 64)        0         \n",
            "                                                                 \n",
            " block2_conv1 (Conv2D)       (None, 64, 64, 128)       73856     \n",
            "                                                                 \n",
            " block2_conv2 (Conv2D)       (None, 64, 64, 128)       147584    \n",
            "                                                                 \n",
            " block2_pool (MaxPooling2D)  (None, 32, 32, 128)       0         \n",
            "                                                                 \n",
            " block3_conv1 (Conv2D)       (None, 32, 32, 256)       295168    \n",
            "                                                                 \n",
            " block3_conv2 (Conv2D)       (None, 32, 32, 256)       590080    \n",
            "                                                                 \n",
            " block3_conv3 (Conv2D)       (None, 32, 32, 256)       590080    \n",
            "                                                                 \n",
            " block3_pool (MaxPooling2D)  (None, 16, 16, 256)       0         \n",
            "                                                                 \n",
            " block4_conv1 (Conv2D)       (None, 16, 16, 512)       1180160   \n",
            "                                                                 \n",
            " block4_conv2 (Conv2D)       (None, 16, 16, 512)       2359808   \n",
            "                                                                 \n",
            " block4_conv3 (Conv2D)       (None, 16, 16, 512)       2359808   \n",
            "                                                                 \n",
            " block4_pool (MaxPooling2D)  (None, 8, 8, 512)         0         \n",
            "                                                                 \n",
            " block5_conv1 (Conv2D)       (None, 8, 8, 512)         2359808   \n",
            "                                                                 \n",
            " block5_conv2 (Conv2D)       (None, 8, 8, 512)         2359808   \n",
            "                                                                 \n",
            " block5_conv3 (Conv2D)       (None, 8, 8, 512)         2359808   \n",
            "                                                                 \n",
            " block5_pool (MaxPooling2D)  (None, 4, 4, 512)         0         \n",
            "                                                                 \n",
            " global_average_pooling2d_2  (None, 512)               0         \n",
            "  (GlobalAveragePooling2D)                                       \n",
            "                                                                 \n",
            " dense_4 (Dense)             (None, 8)                 4104      \n",
            "                                                                 \n",
            " dense_5 (Dense)             (None, 2)                 18        \n",
            "                                                                 \n",
            "=================================================================\n",
            "Total params: 14718810 (56.15 MB)\n",
            "Trainable params: 4122 (16.10 KB)\n",
            "Non-trainable params: 14714688 (56.13 MB)\n",
            "_________________________________________________________________\n"
          ]
        }
      ]
    },
    {
      "cell_type": "code",
      "source": [
        "%%time\n",
        "epochsteps=len(train_set);epochs =20;valsteps=len(valid_set);teststeps=len(test_set)\n",
        "# fit model\n",
        "history = modelavg.fit(train_set, steps_per_epoch=epochsteps,\n",
        "                    validation_data=valid_set, validation_steps=valsteps, epochs=epochs, verbose=1)\n"
      ],
      "metadata": {
        "colab": {
          "base_uri": "https://localhost:8080/"
        },
        "id": "3QLN7bVrq3w8",
        "outputId": "94a85391-98db-49b8-9729-4f63049402db"
      },
      "execution_count": 33,
      "outputs": [
        {
          "output_type": "stream",
          "name": "stdout",
          "text": [
            "Epoch 1/20\n",
            "88/88 [==============================] - 10s 102ms/step - loss: 0.4011 - accuracy: 0.8889 - val_loss: 0.1960 - val_accuracy: 0.9872\n",
            "Epoch 2/20\n",
            "88/88 [==============================] - 7s 77ms/step - loss: 0.1387 - accuracy: 0.9858 - val_loss: 0.0936 - val_accuracy: 0.9900\n",
            "Epoch 3/20\n",
            "88/88 [==============================] - 6s 66ms/step - loss: 0.0758 - accuracy: 0.9904 - val_loss: 0.0547 - val_accuracy: 0.9957\n",
            "Epoch 4/20\n",
            "88/88 [==============================] - 6s 68ms/step - loss: 0.0496 - accuracy: 0.9957 - val_loss: 0.0372 - val_accuracy: 0.9957\n",
            "Epoch 5/20\n",
            "88/88 [==============================] - 7s 74ms/step - loss: 0.0363 - accuracy: 0.9972 - val_loss: 0.0269 - val_accuracy: 0.9971\n",
            "Epoch 6/20\n",
            "88/88 [==============================] - 5s 56ms/step - loss: 0.0277 - accuracy: 0.9972 - val_loss: 0.0210 - val_accuracy: 0.9971\n",
            "Epoch 7/20\n",
            "88/88 [==============================] - 5s 58ms/step - loss: 0.0226 - accuracy: 0.9982 - val_loss: 0.0169 - val_accuracy: 0.9971\n",
            "Epoch 8/20\n",
            "88/88 [==============================] - 5s 60ms/step - loss: 0.0186 - accuracy: 0.9982 - val_loss: 0.0141 - val_accuracy: 0.9971\n",
            "Epoch 9/20\n",
            "88/88 [==============================] - 5s 58ms/step - loss: 0.0158 - accuracy: 0.9982 - val_loss: 0.0119 - val_accuracy: 0.9986\n",
            "Epoch 10/20\n",
            "88/88 [==============================] - 6s 62ms/step - loss: 0.0138 - accuracy: 0.9986 - val_loss: 0.0103 - val_accuracy: 0.9986\n",
            "Epoch 11/20\n",
            "88/88 [==============================] - 5s 58ms/step - loss: 0.0119 - accuracy: 0.9989 - val_loss: 0.0090 - val_accuracy: 1.0000\n",
            "Epoch 12/20\n",
            "88/88 [==============================] - 5s 59ms/step - loss: 0.0103 - accuracy: 0.9989 - val_loss: 0.0080 - val_accuracy: 1.0000\n",
            "Epoch 13/20\n",
            "88/88 [==============================] - 6s 65ms/step - loss: 0.0091 - accuracy: 0.9993 - val_loss: 0.0076 - val_accuracy: 0.9986\n",
            "Epoch 14/20\n",
            "88/88 [==============================] - 5s 59ms/step - loss: 0.0081 - accuracy: 0.9989 - val_loss: 0.0065 - val_accuracy: 1.0000\n",
            "Epoch 15/20\n",
            "88/88 [==============================] - 6s 60ms/step - loss: 0.0072 - accuracy: 0.9989 - val_loss: 0.0062 - val_accuracy: 1.0000\n",
            "Epoch 16/20\n",
            "88/88 [==============================] - 5s 59ms/step - loss: 0.0064 - accuracy: 0.9993 - val_loss: 0.0055 - val_accuracy: 1.0000\n",
            "Epoch 17/20\n",
            "88/88 [==============================] - 5s 59ms/step - loss: 0.0058 - accuracy: 0.9993 - val_loss: 0.0049 - val_accuracy: 1.0000\n",
            "Epoch 18/20\n",
            "88/88 [==============================] - 5s 59ms/step - loss: 0.0049 - accuracy: 0.9993 - val_loss: 0.0045 - val_accuracy: 1.0000\n",
            "Epoch 19/20\n",
            "88/88 [==============================] - 5s 56ms/step - loss: 0.0045 - accuracy: 0.9993 - val_loss: 0.0041 - val_accuracy: 1.0000\n",
            "Epoch 20/20\n",
            "88/88 [==============================] - 5s 56ms/step - loss: 0.0040 - accuracy: 0.9996 - val_loss: 0.0038 - val_accuracy: 1.0000\n",
            "CPU times: user 1min 30s, sys: 8.61 s, total: 1min 39s\n",
            "Wall time: 2min 26s\n"
          ]
        }
      ]
    },
    {
      "cell_type": "code",
      "source": [
        "plt.plot(history.history['val_loss'], color = 'orange')\n",
        "plt.plot(history.history['loss'], color='red')\n",
        "# plt.plot(history.history['accuracy'], color = 'green')\n",
        "# plt.plot(history.history['val_accuracy'], color = 'blue')\n",
        "plt.legend(['Val_loss','Train_loss'],fontsize=12)\n",
        "e=range(0,20)\n",
        "labels=range(1,21)\n",
        "plt.xlabel(\"Epochs\",fontsize=12)\n",
        "plt.ylabel(\"Loss\",fontsize=12)\n",
        "plt.xticks(e,labels,fontsize=10)\n",
        "plt.yticks(fontsize=10)\n",
        "plt.show()"
      ],
      "metadata": {
        "colab": {
          "base_uri": "https://localhost:8080/",
          "height": 453
        },
        "id": "WxhmfMwsVTdX",
        "outputId": "66f17068-0bbc-4efb-cc23-30a854f9c8e9"
      },
      "execution_count": 35,
      "outputs": [
        {
          "output_type": "display_data",
          "data": {
            "text/plain": [
              "<Figure size 640x480 with 1 Axes>"
            ],
            "image/png": "[encoded data removed]"
          },
          "metadata": {}
        }
      ]
    },
    {
      "cell_type": "code",
      "source": [
        "labels = []\n",
        "predictions = []\n",
        "for x,y in test_set:\n",
        "    labels.append(list(y.numpy()))\n",
        "    predictions.append(tf.argmax(modelavg.predict(x),1).numpy())"
      ],
      "metadata": {
        "colab": {
          "base_uri": "https://localhost:8080/"
        },
        "id": "d8OEioQnVWk9",
        "outputId": "532916b7-e8a7-4c00-bee6-5fd166dacea7"
      },
      "execution_count": 37,
      "outputs": [
        {
          "output_type": "stream",
          "name": "stdout",
          "text": [
            "1/1 [==============================] - 0s 273ms/step\n",
            "1/1 [==============================] - 0s 30ms/step\n",
            "1/1 [==============================] - 0s 28ms/step\n",
            "1/1 [==============================] - 0s 29ms/step\n",
            "1/1 [==============================] - 0s 27ms/step\n",
            "1/1 [==============================] - 0s 34ms/step\n",
            "1/1 [==============================] - 0s 28ms/step\n",
            "1/1 [==============================] - 0s 33ms/step\n",
            "1/1 [==============================] - 0s 27ms/step\n",
            "1/1 [==============================] - 0s 32ms/step\n",
            "1/1 [==============================] - 0s 30ms/step\n",
            "1/1 [==============================] - 0s 27ms/step\n",
            "1/1 [==============================] - 0s 36ms/step\n",
            "1/1 [==============================] - 0s 42ms/step\n",
            "1/1 [==============================] - 0s 48ms/step\n",
            "1/1 [==============================] - 0s 32ms/step\n",
            "1/1 [==============================] - 0s 35ms/step\n",
            "1/1 [==============================] - 0s 28ms/step\n",
            "1/1 [==============================] - 0s 28ms/step\n",
            "1/1 [==============================] - 0s 29ms/step\n",
            "1/1 [==============================] - 0s 30ms/step\n",
            "1/1 [==============================] - 0s 31ms/step\n",
            "1/1 [==============================] - 0s 29ms/step\n",
            "1/1 [==============================] - 0s 27ms/step\n",
            "1/1 [==============================] - 0s 29ms/step\n",
            "1/1 [==============================] - 0s 31ms/step\n",
            "1/1 [==============================] - 0s 34ms/step\n",
            "1/1 [==============================] - 2s 2s/step\n"
          ]
        }
      ]
    },
    {
      "cell_type": "code",
      "source": [
        "predictions = list(itertools.chain.from_iterable(predictions))\n",
        "labels = list(itertools.chain.from_iterable(labels))"
      ],
      "metadata": {
        "id": "1Xe2xoZIVZjc"
      },
      "execution_count": 38,
      "outputs": []
    },
    {
      "cell_type": "code",
      "source": [
        "print(\"Train Accuracy  : {:.2f} %\".format(history.history['accuracy'][-1]*100))\n",
        "print(\"Test Accuracy   : {:.2f} %\".format(accuracy_score(labels, predictions) * 100))\n",
        "print(\"Precision Score : {:.2f} %\".format(precision_score(labels, predictions, average='macro') * 100))\n",
        "print(\"Recall Score    : {:.2f} %\".format(recall_score(labels, predictions, average='macro') * 100))\n",
        "print(\"F1 Score        : {:.2f} %\".format(f1_score(labels, predictions, average='macro') * 100))"
      ],
      "metadata": {
        "colab": {
          "base_uri": "https://localhost:8080/"
        },
        "id": "0dJaMaIaVclJ",
        "outputId": "4c8d13ba-7ff6-42a1-8c79-102c2a76d551"
      },
      "execution_count": 39,
      "outputs": [
        {
          "output_type": "stream",
          "name": "stdout",
          "text": [
            "Train Accuracy  : 99.96 %\n",
            "Test Accuracy   : 100.00 %\n",
            "Precision Score : 100.00 %\n",
            "Recall Score    : 100.00 %\n",
            "F1 Score        : 100.00 %\n"
          ]
        }
      ]
    },
    {
      "cell_type": "code",
      "source": [
        "# Plot a confusion matrix based on the true labels and predicted labels\n",
        "plt.figure(figsize= (2,2))\n",
        "cm = confusion_matrix(labels, predictions)\n",
        "plt.rcParams.update({'font.size': 17})\n",
        "disp = ConfusionMatrixDisplay(confusion_matrix=cm, display_labels=[0,1])\n",
        "fig, ax = plt.subplots(figsize=(8,8))\n",
        "disp.plot(ax=ax,colorbar= False,cmap = 'YlGnBu')\n",
        "# plt.title(\"Confusion Matrix\")\n",
        "plt.xlabel('Predicted Labels',fontsize = 15)\n",
        "plt.ylabel('True Labels', fontsize = 15)\n",
        "plt.show()"
      ],
      "metadata": {
        "colab": {
          "base_uri": "https://localhost:8080/",
          "height": 729
        },
        "id": "m_xAJ8TZVfyr",
        "outputId": "808fdff8-7d35-49ec-82f3-e488db69d060"
      },
      "execution_count": 40,
      "outputs": [
        {
          "output_type": "display_data",
          "data": {
            "text/plain": [
              "<Figure size 200x200 with 0 Axes>"
            ]
          },
          "metadata": {}
        },
        {
          "output_type": "display_data",
          "data": {
            "text/plain": [
              "<Figure size 800x800 with 1 Axes>"
            ],
            "image/png": "[encoded data removed]"
          },
          "metadata": {}
        }
      ]
    },
    {
      "cell_type": "markdown",
      "source": [
        "# **Peach**"
      ],
      "metadata": {
        "id": "a8bCEOiFK5QF"
      }
    },
    {
      "cell_type": "code",
      "source": [
        "data_dir = r\"/tmp/DS MINI PROJECT DATASET(BALANCEDANDIMBALANCED)\"\n",
        "train_peach_dir = data_dir + \"/Training/Peach\"\n",
        "valid_peach_dir = data_dir + \"/Testing/Peach\"\n"
      ],
      "metadata": {
        "id": "cGuZRGO1wGu7"
      },
      "execution_count": 42,
      "outputs": []
    },
    {
      "cell_type": "code",
      "source": [
        "%%time\n",
        "seed_train_validation = 1 # Must be same for train_ds and val_ds\n",
        "shuffle_value = True\n",
        "validation_split = 0.2\n",
        "\n",
        "train_gen = tf.keras.utils.image_dataset_from_directory(\n",
        "                                                        directory = train_peach_dir,\n",
        "                                                        image_size = (128, 128),\n",
        "                                                        label_mode='categorical',\n",
        "                                                        validation_split = validation_split,\n",
        "                                                        batch_size=32,\n",
        "                                                        subset = \"training\",\n",
        "                                                        seed = seed_train_validation,\n",
        "                                                        shuffle = shuffle_value)\n",
        "\n",
        "val_gen = tf.keras.utils.image_dataset_from_directory(\n",
        "                                                        directory = train_peach_dir,\n",
        "                                                        image_size = (128, 128),\n",
        "                                                        validation_split = validation_split,\n",
        "                                                        label_mode='categorical',\n",
        "                                                        batch_size=32,\n",
        "                                                        subset = \"validation\",\n",
        "                                                        seed = seed_train_validation,\n",
        "                                                        shuffle = shuffle_value)\n",
        "\n",
        "test_it = tf.keras.utils.image_dataset_from_directory( directory= valid_peach_dir,\n",
        "                                                      batch_size=32,\n",
        "                                                      image_size=(128, 128))"
      ],
      "metadata": {
        "colab": {
          "base_uri": "https://localhost:8080/"
        },
        "id": "0npMBSAdzm6Q",
        "outputId": "0a3430ed-f4f8-46b2-eb5e-b4e136bc2572"
      },
      "execution_count": 43,
      "outputs": [
        {
          "output_type": "stream",
          "name": "stdout",
          "text": [
            "Found 3566 files belonging to 2 classes.\n",
            "Using 2853 files for training.\n",
            "Found 3566 files belonging to 2 classes.\n",
            "Using 713 files for validation.\n",
            "Found 891 files belonging to 2 classes.\n",
            "CPU times: user 311 ms, sys: 117 ms, total: 428 ms\n",
            "Wall time: 358 ms\n"
          ]
        }
      ]
    },
    {
      "cell_type": "code",
      "source": [
        "rescale = Rescaling(scale=1./255)\n",
        "train_set  = train_gen.map(lambda image,label:(rescale(image),label))\n",
        "valid_set  = val_gen.map(lambda image,label:(rescale(image),label))\n",
        "test_set  = test_it.map(lambda image,label:(rescale(image),label))"
      ],
      "metadata": {
        "id": "JbPMszkyWITW"
      },
      "execution_count": 44,
      "outputs": []
    },
    {
      "cell_type": "code",
      "source": [
        "#VGG16 with average pooling layer\n",
        "#accuray = 98.76\n",
        "from keras.layers import GlobalAveragePooling2D\n",
        "from keras.applications.vgg16 import VGG16\n",
        "from keras.models import Model\n",
        "def define_peachmodelavg():\n",
        "    # load model\n",
        "    model_p = VGG16(include_top=False, input_shape=(128, 128, 3))\n",
        "    # mark loaded layers as not trainable\n",
        "    for layer in model_p.layers:\n",
        "        layer.trainable = False\n",
        "    # add new classifier layers\n",
        "    #flat1 = Flatten()(model.layers[-1].output)\n",
        "    avgpool1=GlobalAveragePooling2D()(model_p.layers[-1].output)\n",
        "\n",
        "    class1 = Dense(8, activation='relu', kernel_initializer='he_uniform')(avgpool1)\n",
        "    output = Dense(2, activation='softmax')(class1)\n",
        "    # define new model\n",
        "    model_p = Model(inputs=model_p.inputs, outputs=output)\n",
        "    return model_p"
      ],
      "metadata": {
        "id": "wJEZXxa_xlBk"
      },
      "execution_count": 45,
      "outputs": []
    },
    {
      "cell_type": "code",
      "source": [
        "modelavg_p = define_peachmodelavg()\n",
        "modelavg_p.compile(optimizer='adam', loss='categorical_crossentropy', metrics=['accuracy'])\n",
        "modelavg_p.summary()"
      ],
      "metadata": {
        "colab": {
          "base_uri": "https://localhost:8080/"
        },
        "id": "fAv1ahlGypSu",
        "outputId": "28904035-0b77-451c-f82b-7455dbc69216"
      },
      "execution_count": 46,
      "outputs": [
        {
          "output_type": "stream",
          "name": "stdout",
          "text": [
            "Model: \"model_3\"\n",
            "_________________________________________________________________\n",
            " Layer (type)                Output Shape              Param #   \n",
            "=================================================================\n",
            " input_4 (InputLayer)        [(None, 128, 128, 3)]     0         \n",
            "                                                                 \n",
            " block1_conv1 (Conv2D)       (None, 128, 128, 64)      1792      \n",
            "                                                                 \n",
            " block1_conv2 (Conv2D)       (None, 128, 128, 64)      36928     \n",
            "                                                                 \n",
            " block1_pool (MaxPooling2D)  (None, 64, 64, 64)        0         \n",
            "                                                                 \n",
            " block2_conv1 (Conv2D)       (None, 64, 64, 128)       73856     \n",
            "                                                                 \n",
            " block2_conv2 (Conv2D)       (None, 64, 64, 128)       147584    \n",
            "                                                                 \n",
            " block2_pool (MaxPooling2D)  (None, 32, 32, 128)       0         \n",
            "                                                                 \n",
            " block3_conv1 (Conv2D)       (None, 32, 32, 256)       295168    \n",
            "                                                                 \n",
            " block3_conv2 (Conv2D)       (None, 32, 32, 256)       590080    \n",
            "                                                                 \n",
            " block3_conv3 (Conv2D)       (None, 32, 32, 256)       590080    \n",
            "                                                                 \n",
            " block3_pool (MaxPooling2D)  (None, 16, 16, 256)       0         \n",
            "                                                                 \n",
            " block4_conv1 (Conv2D)       (None, 16, 16, 512)       1180160   \n",
            "                                                                 \n",
            " block4_conv2 (Conv2D)       (None, 16, 16, 512)       2359808   \n",
            "                                                                 \n",
            " block4_conv3 (Conv2D)       (None, 16, 16, 512)       2359808   \n",
            "                                                                 \n",
            " block4_pool (MaxPooling2D)  (None, 8, 8, 512)         0         \n",
            "                                                                 \n",
            " block5_conv1 (Conv2D)       (None, 8, 8, 512)         2359808   \n",
            "                                                                 \n",
            " block5_conv2 (Conv2D)       (None, 8, 8, 512)         2359808   \n",
            "                                                                 \n",
            " block5_conv3 (Conv2D)       (None, 8, 8, 512)         2359808   \n",
            "                                                                 \n",
            " block5_pool (MaxPooling2D)  (None, 4, 4, 512)         0         \n",
            "                                                                 \n",
            " global_average_pooling2d_3  (None, 512)               0         \n",
            "  (GlobalAveragePooling2D)                                       \n",
            "                                                                 \n",
            " dense_6 (Dense)             (None, 8)                 4104      \n",
            "                                                                 \n",
            " dense_7 (Dense)             (None, 2)                 18        \n",
            "                                                                 \n",
            "=================================================================\n",
            "Total params: 14718810 (56.15 MB)\n",
            "Trainable params: 4122 (16.10 KB)\n",
            "Non-trainable params: 14714688 (56.13 MB)\n",
            "_________________________________________________________________\n"
          ]
        }
      ]
    },
    {
      "cell_type": "code",
      "source": [
        "%%time\n",
        "epochsteps=len(train_set);epochs =20;valsteps=len(valid_set);teststeps=len(test_set)\n",
        "# fit model\n",
        "history = modelavg_p.fit(train_set, steps_per_epoch=epochsteps,\n",
        "                    validation_data=valid_set, validation_steps=valsteps, epochs=epochs, verbose=1)\n"
      ],
      "metadata": {
        "colab": {
          "base_uri": "https://localhost:8080/"
        },
        "id": "3qVRsiEr3OIi",
        "outputId": "f99d36c9-3534-48f7-a4a8-ab62b4b8642f"
      },
      "execution_count": 47,
      "outputs": [
        {
          "output_type": "stream",
          "name": "stdout",
          "text": [
            "Epoch 1/20\n",
            "90/90 [==============================] - 9s 89ms/step - loss: 0.5643 - accuracy: 0.7543 - val_loss: 0.3886 - val_accuracy: 0.9383\n",
            "Epoch 2/20\n",
            "90/90 [==============================] - 7s 76ms/step - loss: 0.3006 - accuracy: 0.9352 - val_loss: 0.2274 - val_accuracy: 0.9495\n",
            "Epoch 3/20\n",
            "90/90 [==============================] - 8s 79ms/step - loss: 0.1954 - accuracy: 0.9558 - val_loss: 0.1613 - val_accuracy: 0.9593\n",
            "Epoch 4/20\n",
            "90/90 [==============================] - 6s 60ms/step - loss: 0.1462 - accuracy: 0.9671 - val_loss: 0.1249 - val_accuracy: 0.9705\n",
            "Epoch 5/20\n",
            "90/90 [==============================] - 6s 62ms/step - loss: 0.1164 - accuracy: 0.9734 - val_loss: 0.1026 - val_accuracy: 0.9734\n",
            "Epoch 6/20\n",
            "90/90 [==============================] - 7s 78ms/step - loss: 0.1017 - accuracy: 0.9734 - val_loss: 0.0897 - val_accuracy: 0.9804\n",
            "Epoch 7/20\n",
            "90/90 [==============================] - 5s 58ms/step - loss: 0.0859 - accuracy: 0.9790 - val_loss: 0.0790 - val_accuracy: 0.9804\n",
            "Epoch 8/20\n",
            "90/90 [==============================] - 6s 58ms/step - loss: 0.0758 - accuracy: 0.9814 - val_loss: 0.0689 - val_accuracy: 0.9832\n",
            "Epoch 9/20\n",
            "90/90 [==============================] - 6s 59ms/step - loss: 0.0679 - accuracy: 0.9828 - val_loss: 0.0761 - val_accuracy: 0.9804\n",
            "Epoch 10/20\n",
            "90/90 [==============================] - 6s 59ms/step - loss: 0.0651 - accuracy: 0.9832 - val_loss: 0.0573 - val_accuracy: 0.9846\n",
            "Epoch 11/20\n",
            "90/90 [==============================] - 6s 63ms/step - loss: 0.0573 - accuracy: 0.9849 - val_loss: 0.0550 - val_accuracy: 0.9860\n",
            "Epoch 12/20\n",
            "90/90 [==============================] - 5s 58ms/step - loss: 0.0526 - accuracy: 0.9881 - val_loss: 0.0545 - val_accuracy: 0.9846\n",
            "Epoch 13/20\n",
            "90/90 [==============================] - 5s 59ms/step - loss: 0.0503 - accuracy: 0.9877 - val_loss: 0.0468 - val_accuracy: 0.9888\n",
            "Epoch 14/20\n",
            "90/90 [==============================] - 5s 60ms/step - loss: 0.0468 - accuracy: 0.9881 - val_loss: 0.0442 - val_accuracy: 0.9846\n",
            "Epoch 15/20\n",
            "90/90 [==============================] - 7s 75ms/step - loss: 0.0477 - accuracy: 0.9863 - val_loss: 0.0492 - val_accuracy: 0.9846\n",
            "Epoch 16/20\n",
            "90/90 [==============================] - 6s 62ms/step - loss: 0.0425 - accuracy: 0.9891 - val_loss: 0.0404 - val_accuracy: 0.9888\n",
            "Epoch 17/20\n",
            "90/90 [==============================] - 5s 57ms/step - loss: 0.0412 - accuracy: 0.9898 - val_loss: 0.0384 - val_accuracy: 0.9888\n",
            "Epoch 18/20\n",
            "90/90 [==============================] - 5s 57ms/step - loss: 0.0380 - accuracy: 0.9912 - val_loss: 0.0379 - val_accuracy: 0.9916\n",
            "Epoch 19/20\n",
            "90/90 [==============================] - 5s 55ms/step - loss: 0.0372 - accuracy: 0.9902 - val_loss: 0.0356 - val_accuracy: 0.9888\n",
            "Epoch 20/20\n",
            "90/90 [==============================] - 5s 58ms/step - loss: 0.0358 - accuracy: 0.9909 - val_loss: 0.0356 - val_accuracy: 0.9846\n",
            "CPU times: user 1min 31s, sys: 9.86 s, total: 1min 41s\n",
            "Wall time: 2min 35s\n"
          ]
        }
      ]
    },
    {
      "cell_type": "code",
      "source": [
        "plt.plot(history.history['val_loss'], color = 'orange')\n",
        "plt.plot(history.history['loss'], color='red')\n",
        "# plt.plot(history.history['accuracy'], color = 'green')\n",
        "# plt.plot(history.history['val_accuracy'], color = 'blue')\n",
        "plt.legend(['Val_loss','Train_loss'],fontsize=12)\n",
        "e=range(0,20)\n",
        "labels=range(1,21)\n",
        "plt.xlabel(\"Epochs\",fontsize=12)\n",
        "plt.ylabel(\"Loss\",fontsize=12)\n",
        "plt.xticks(e,labels,fontsize=10)\n",
        "plt.yticks(fontsize=10)\n",
        "plt.show()"
      ],
      "metadata": {
        "colab": {
          "base_uri": "https://localhost:8080/",
          "height": 453
        },
        "id": "yI6zfhQuWsmB",
        "outputId": "cdbb05a4-9828-4366-a804-0a93efa6180f"
      },
      "execution_count": 48,
      "outputs": [
        {
          "output_type": "display_data",
          "data": {
            "text/plain": [
              "<Figure size 640x480 with 1 Axes>"
            ],
            "image/png": "[encoded data removed]"
          },
          "metadata": {}
        }
      ]
    },
    {
      "cell_type": "code",
      "source": [
        "labels = []\n",
        "predictions = []\n",
        "for x,y in test_set:\n",
        "    labels.append(list(y.numpy()))\n",
        "    predictions.append(tf.argmax(modelavg_p.predict(x),1).numpy())"
      ],
      "metadata": {
        "colab": {
          "base_uri": "https://localhost:8080/"
        },
        "id": "6oQetGoAWwLg",
        "outputId": "65af4335-6b70-4baa-b9dc-160c10d52172"
      },
      "execution_count": 49,
      "outputs": [
        {
          "output_type": "stream",
          "name": "stdout",
          "text": [
            "1/1 [==============================] - 0s 162ms/step\n",
            "1/1 [==============================] - 0s 22ms/step\n",
            "1/1 [==============================] - 0s 21ms/step\n",
            "1/1 [==============================] - 0s 21ms/step\n",
            "1/1 [==============================] - 0s 22ms/step\n",
            "1/1 [==============================] - 0s 20ms/step\n",
            "1/1 [==============================] - 0s 22ms/step\n",
            "1/1 [==============================] - 0s 21ms/step\n",
            "1/1 [==============================] - 0s 20ms/step\n",
            "1/1 [==============================] - 0s 23ms/step\n",
            "1/1 [==============================] - 0s 22ms/step\n",
            "1/1 [==============================] - 0s 20ms/step\n",
            "1/1 [==============================] - 0s 20ms/step\n",
            "1/1 [==============================] - 0s 19ms/step\n",
            "1/1 [==============================] - 0s 21ms/step\n",
            "1/1 [==============================] - 0s 21ms/step\n",
            "1/1 [==============================] - 0s 22ms/step\n",
            "1/1 [==============================] - 0s 21ms/step\n",
            "1/1 [==============================] - 0s 20ms/step\n",
            "1/1 [==============================] - 0s 23ms/step\n",
            "1/1 [==============================] - 0s 21ms/step\n",
            "1/1 [==============================] - 0s 20ms/step\n",
            "1/1 [==============================] - 0s 22ms/step\n",
            "1/1 [==============================] - 0s 19ms/step\n",
            "1/1 [==============================] - 0s 23ms/step\n",
            "1/1 [==============================] - 0s 27ms/step\n",
            "1/1 [==============================] - 0s 22ms/step\n",
            "1/1 [==============================] - 2s 2s/step\n"
          ]
        }
      ]
    },
    {
      "cell_type": "code",
      "source": [
        "predictions = list(itertools.chain.from_iterable(predictions))\n",
        "labels = list(itertools.chain.from_iterable(labels))"
      ],
      "metadata": {
        "id": "nT-ydzRFWynq"
      },
      "execution_count": 50,
      "outputs": []
    },
    {
      "cell_type": "code",
      "source": [
        "print(\"Train Accuracy  : {:.2f} %\".format(history.history['accuracy'][-1]*100))\n",
        "print(\"Test Accuracy   : {:.2f} %\".format(accuracy_score(labels, predictions) * 100))\n",
        "print(\"Precision Score : {:.2f} %\".format(precision_score(labels, predictions, average='macro') * 100))\n",
        "print(\"Recall Score    : {:.2f} %\".format(recall_score(labels, predictions, average='macro') * 100))\n",
        "print(\"F1 Score        : {:.2f} %\".format(f1_score(labels, predictions, average='macro') * 100))"
      ],
      "metadata": {
        "colab": {
          "base_uri": "https://localhost:8080/"
        },
        "id": "hJ092H7QW3CL",
        "outputId": "4f7cb777-37a0-48db-8534-ee4c454ffc81"
      },
      "execution_count": 51,
      "outputs": [
        {
          "output_type": "stream",
          "name": "stdout",
          "text": [
            "Train Accuracy  : 99.09 %\n",
            "Test Accuracy   : 98.99 %\n",
            "Precision Score : 99.01 %\n",
            "Recall Score    : 98.97 %\n",
            "F1 Score        : 98.99 %\n"
          ]
        }
      ]
    },
    {
      "cell_type": "code",
      "source": [
        "# Plot a confusion matrix based on the true labels and predicted labels\n",
        "plt.figure(figsize= (2,2))\n",
        "cm = confusion_matrix(labels, predictions)\n",
        "# plt.rcParams.update({'font.size': 17})\n",
        "disp = ConfusionMatrixDisplay(confusion_matrix=cm, display_labels=[0,1])\n",
        "fig, ax = plt.subplots(figsize=(8,8))\n",
        "disp.plot(ax=ax,colorbar= False,cmap = 'YlGnBu')\n",
        "# plt.title(\"Confusion Matrix\")\n",
        "plt.xlabel('Predicted Labels',fontsize = 15)\n",
        "plt.ylabel('True Labels', fontsize = 15)\n",
        "plt.show()"
      ],
      "metadata": {
        "colab": {
          "base_uri": "https://localhost:8080/",
          "height": 729
        },
        "id": "JrJpkOnmW5ec",
        "outputId": "c9dff915-a1f2-4001-df37-e9778719c957"
      },
      "execution_count": 52,
      "outputs": [
        {
          "output_type": "display_data",
          "data": {
            "text/plain": [
              "<Figure size 200x200 with 0 Axes>"
            ]
          },
          "metadata": {}
        },
        {
          "output_type": "display_data",
          "data": {
            "text/plain": [
              "<Figure size 800x800 with 1 Axes>"
            ],
            "image/png": "[encoded data removed]"
          },
          "metadata": {}
        }
      ]
    },
    {
      "cell_type": "markdown",
      "source": [
        "# **Bell Pepper**"
      ],
      "metadata": {
        "id": "nt94k-lF8lzU"
      }
    },
    {
      "cell_type": "code",
      "source": [
        "data_dir = r\"/tmp/DS MINI PROJECT DATASET(BALANCEDANDIMBALANCED)\"\n",
        "\n",
        "train_bp_dir = data_dir + \"/Training/Bell Pepper\"\n",
        "test_bp_dir = data_dir + \"/Testing/Bell Pepper\"\n"
      ],
      "metadata": {
        "id": "u93G8zni8pOJ"
      },
      "execution_count": 53,
      "outputs": []
    },
    {
      "cell_type": "code",
      "source": [
        "seed_train_validation = 1 # Must be same for train_ds and val_ds\n",
        "shuffle_value = True\n",
        "validation_split = 0.2\n",
        "\n",
        "train_gen = tf.keras.utils.image_dataset_from_directory(\n",
        "                                                        directory = train_bp_dir,\n",
        "                                                        image_size = (128, 128),\n",
        "                                                        label_mode='categorical',\n",
        "                                                        validation_split = validation_split,\n",
        "                                                        batch_size=32,\n",
        "                                                        subset = \"training\",\n",
        "                                                        seed = seed_train_validation,\n",
        "                                                        shuffle = shuffle_value)\n",
        "\n",
        "val_gen = tf.keras.utils.image_dataset_from_directory(\n",
        "                                                        directory = train_bp_dir,\n",
        "                                                        image_size = (128, 128),\n",
        "                                                        validation_split = validation_split,\n",
        "                                                        label_mode='categorical',\n",
        "                                                        batch_size=32,\n",
        "                                                        subset = \"validation\",\n",
        "                                                        seed = seed_train_validation,\n",
        "                                                        shuffle = shuffle_value)\n",
        "\n",
        "test_it = tf.keras.utils.image_dataset_from_directory( directory= test_bp_dir,\n",
        "                                                      batch_size=32,\n",
        "                                                      image_size=(128, 128))"
      ],
      "metadata": {
        "colab": {
          "base_uri": "https://localhost:8080/"
        },
        "id": "ViiTNiUhcBA9",
        "outputId": "9bb3437d-1889-425e-f966-d036b404fc1d"
      },
      "execution_count": 54,
      "outputs": [
        {
          "output_type": "stream",
          "name": "stdout",
          "text": [
            "Found 3901 files belonging to 2 classes.\n",
            "Using 3121 files for training.\n",
            "Found 3901 files belonging to 2 classes.\n",
            "Using 780 files for validation.\n",
            "Found 975 files belonging to 2 classes.\n"
          ]
        }
      ]
    },
    {
      "cell_type": "code",
      "source": [
        "rescale = Rescaling(scale=1./255)\n",
        "train_set  = train_gen.map(lambda image,label:(rescale(image),label))\n",
        "valid_set  = val_gen.map(lambda image,label:(rescale(image),label))\n",
        "test_set  = test_it.map(lambda image,label:(rescale(image),label))"
      ],
      "metadata": {
        "id": "KPtOPy9NXkDm"
      },
      "execution_count": 55,
      "outputs": []
    },
    {
      "cell_type": "code",
      "source": [
        "# average pooling\n",
        "\n",
        "from keras.layers import GlobalAveragePooling2D\n",
        "\n",
        "def define_modelavg():\n",
        "    # load model\n",
        "    model_bp_avg = VGG16(include_top=False, input_shape=(128, 128, 3))\n",
        "    # mark loaded layers as not trainable\n",
        "    for layer in model_bp_avg.layers:\n",
        "        layer.trainable = False\n",
        "    # add new classifier layers\n",
        "    #flat1 = Flatten()(model.layers[-1].output)\n",
        "    avgpool1 = GlobalAveragePooling2D()(model_bp_avg.layers[-1].output)\n",
        "    #flat1 = Flatten()(avgpool1)\n",
        "\n",
        "    class1 = Dense(8, activation='relu', kernel_initializer='he_uniform')(avgpool1)\n",
        "    output = Dense(2, activation='softmax')(class1)\n",
        "    # define new model\n",
        "    model_bp_avg = Model(inputs=model_bp_avg.inputs, outputs=output)\n",
        "    return model_bp_avg"
      ],
      "metadata": {
        "id": "HUPle5n8Tc-L"
      },
      "execution_count": 56,
      "outputs": []
    },
    {
      "cell_type": "code",
      "source": [
        "model_bp_avg = define_modelavg()\n",
        "model_bp_avg.compile(optimizer='adam', loss='categorical_crossentropy', metrics=['accuracy'])\n",
        "model_bp_avg.summary()\n"
      ],
      "metadata": {
        "colab": {
          "base_uri": "https://localhost:8080/"
        },
        "id": "qu0jc9YZVVt1",
        "outputId": "27a58be7-1470-4eea-e7e0-663d7b3f31c4"
      },
      "execution_count": 57,
      "outputs": [
        {
          "output_type": "stream",
          "name": "stdout",
          "text": [
            "Model: \"model_4\"\n",
            "_________________________________________________________________\n",
            " Layer (type)                Output Shape              Param #   \n",
            "=================================================================\n",
            " input_5 (InputLayer)        [(None, 128, 128, 3)]     0         \n",
            "                                                                 \n",
            " block1_conv1 (Conv2D)       (None, 128, 128, 64)      1792      \n",
            "                                                                 \n",
            " block1_conv2 (Conv2D)       (None, 128, 128, 64)      36928     \n",
            "                                                                 \n",
            " block1_pool (MaxPooling2D)  (None, 64, 64, 64)        0         \n",
            "                                                                 \n",
            " block2_conv1 (Conv2D)       (None, 64, 64, 128)       73856     \n",
            "                                                                 \n",
            " block2_conv2 (Conv2D)       (None, 64, 64, 128)       147584    \n",
            "                                                                 \n",
            " block2_pool (MaxPooling2D)  (None, 32, 32, 128)       0         \n",
            "                                                                 \n",
            " block3_conv1 (Conv2D)       (None, 32, 32, 256)       295168    \n",
            "                                                                 \n",
            " block3_conv2 (Conv2D)       (None, 32, 32, 256)       590080    \n",
            "                                                                 \n",
            " block3_conv3 (Conv2D)       (None, 32, 32, 256)       590080    \n",
            "                                                                 \n",
            " block3_pool (MaxPooling2D)  (None, 16, 16, 256)       0         \n",
            "                                                                 \n",
            " block4_conv1 (Conv2D)       (None, 16, 16, 512)       1180160   \n",
            "                                                                 \n",
            " block4_conv2 (Conv2D)       (None, 16, 16, 512)       2359808   \n",
            "                                                                 \n",
            " block4_conv3 (Conv2D)       (None, 16, 16, 512)       2359808   \n",
            "                                                                 \n",
            " block4_pool (MaxPooling2D)  (None, 8, 8, 512)         0         \n",
            "                                                                 \n",
            " block5_conv1 (Conv2D)       (None, 8, 8, 512)         2359808   \n",
            "                                                                 \n",
            " block5_conv2 (Conv2D)       (None, 8, 8, 512)         2359808   \n",
            "                                                                 \n",
            " block5_conv3 (Conv2D)       (None, 8, 8, 512)         2359808   \n",
            "                                                                 \n",
            " block5_pool (MaxPooling2D)  (None, 4, 4, 512)         0         \n",
            "                                                                 \n",
            " global_average_pooling2d_4  (None, 512)               0         \n",
            "  (GlobalAveragePooling2D)                                       \n",
            "                                                                 \n",
            " dense_8 (Dense)             (None, 8)                 4104      \n",
            "                                                                 \n",
            " dense_9 (Dense)             (None, 2)                 18        \n",
            "                                                                 \n",
            "=================================================================\n",
            "Total params: 14718810 (56.15 MB)\n",
            "Trainable params: 4122 (16.10 KB)\n",
            "Non-trainable params: 14714688 (56.13 MB)\n",
            "_________________________________________________________________\n"
          ]
        }
      ]
    },
    {
      "cell_type": "code",
      "source": [
        "epochsteps=len(train_set);e=20;valsteps=len(valid_set);teststeps=len(test_set)\n",
        "\n",
        "history = model_bp_avg.fit(train_set, steps_per_epoch=epochsteps,\n",
        "                    validation_data=valid_set, validation_steps=valsteps, epochs=e, verbose=1)\n"
      ],
      "metadata": {
        "colab": {
          "base_uri": "https://localhost:8080/"
        },
        "id": "PVlwrH0WVnre",
        "outputId": "4fb823df-f849-47bc-ceae-be0e6248c30e"
      },
      "execution_count": 58,
      "outputs": [
        {
          "output_type": "stream",
          "name": "stdout",
          "text": [
            "Epoch 1/20\n",
            "98/98 [==============================] - 10s 87ms/step - loss: 0.5552 - accuracy: 0.7844 - val_loss: 0.4552 - val_accuracy: 0.8295\n",
            "Epoch 2/20\n",
            "98/98 [==============================] - 7s 73ms/step - loss: 0.3786 - accuracy: 0.8542 - val_loss: 0.3761 - val_accuracy: 0.8397\n",
            "Epoch 3/20\n",
            "98/98 [==============================] - 8s 73ms/step - loss: 0.3193 - accuracy: 0.8770 - val_loss: 0.3325 - val_accuracy: 0.8564\n",
            "Epoch 4/20\n",
            "98/98 [==============================] - 7s 65ms/step - loss: 0.2889 - accuracy: 0.8866 - val_loss: 0.2979 - val_accuracy: 0.8795\n",
            "Epoch 5/20\n",
            "98/98 [==============================] - 6s 58ms/step - loss: 0.2702 - accuracy: 0.8907 - val_loss: 0.3028 - val_accuracy: 0.8641\n",
            "Epoch 6/20\n",
            "98/98 [==============================] - 7s 71ms/step - loss: 0.2558 - accuracy: 0.8933 - val_loss: 0.2794 - val_accuracy: 0.8885\n",
            "Epoch 7/20\n",
            "98/98 [==============================] - 6s 59ms/step - loss: 0.2446 - accuracy: 0.9023 - val_loss: 0.2625 - val_accuracy: 0.8962\n",
            "Epoch 8/20\n",
            "98/98 [==============================] - 6s 57ms/step - loss: 0.2331 - accuracy: 0.9068 - val_loss: 0.2494 - val_accuracy: 0.8923\n",
            "Epoch 9/20\n",
            "98/98 [==============================] - 7s 72ms/step - loss: 0.2235 - accuracy: 0.9116 - val_loss: 0.2589 - val_accuracy: 0.8885\n",
            "Epoch 10/20\n",
            "98/98 [==============================] - 7s 71ms/step - loss: 0.2180 - accuracy: 0.9087 - val_loss: 0.2374 - val_accuracy: 0.8974\n",
            "Epoch 11/20\n",
            "98/98 [==============================] - 6s 58ms/step - loss: 0.2085 - accuracy: 0.9161 - val_loss: 0.2279 - val_accuracy: 0.8974\n",
            "Epoch 12/20\n",
            "98/98 [==============================] - 7s 72ms/step - loss: 0.1989 - accuracy: 0.9186 - val_loss: 0.2212 - val_accuracy: 0.8987\n",
            "Epoch 13/20\n",
            "98/98 [==============================] - 6s 58ms/step - loss: 0.1942 - accuracy: 0.9231 - val_loss: 0.2165 - val_accuracy: 0.9000\n",
            "Epoch 14/20\n",
            "98/98 [==============================] - 6s 57ms/step - loss: 0.1878 - accuracy: 0.9241 - val_loss: 0.2151 - val_accuracy: 0.9064\n",
            "Epoch 15/20\n",
            "98/98 [==============================] - 6s 57ms/step - loss: 0.1829 - accuracy: 0.9247 - val_loss: 0.2118 - val_accuracy: 0.9000\n",
            "Epoch 16/20\n",
            "98/98 [==============================] - 6s 57ms/step - loss: 0.1773 - accuracy: 0.9279 - val_loss: 0.2048 - val_accuracy: 0.9103\n",
            "Epoch 17/20\n",
            "98/98 [==============================] - 6s 57ms/step - loss: 0.1734 - accuracy: 0.9285 - val_loss: 0.2054 - val_accuracy: 0.9064\n",
            "Epoch 18/20\n",
            "98/98 [==============================] - 8s 76ms/step - loss: 0.1688 - accuracy: 0.9337 - val_loss: 0.2008 - val_accuracy: 0.9103\n",
            "Epoch 19/20\n",
            "98/98 [==============================] - 8s 74ms/step - loss: 0.1637 - accuracy: 0.9330 - val_loss: 0.1934 - val_accuracy: 0.9141\n",
            "Epoch 20/20\n",
            "98/98 [==============================] - 6s 56ms/step - loss: 0.1644 - accuracy: 0.9330 - val_loss: 0.1921 - val_accuracy: 0.9141\n"
          ]
        }
      ]
    },
    {
      "cell_type": "code",
      "source": [
        "plt.plot(history.history['val_loss'], color = 'orange')\n",
        "plt.plot(history.history['loss'], color='red')\n",
        "# plt.plot(history.history['accuracy'], color = 'green')\n",
        "# plt.plot(history.history['val_accuracy'], color = 'blue')\n",
        "plt.legend(['Val_loss','Train_loss'],fontsize=12)\n",
        "e=range(0,20)\n",
        "labels=range(1,21)\n",
        "plt.xlabel(\"Epochs\",fontsize=12)\n",
        "plt.ylabel(\"Loss\",fontsize=12)\n",
        "plt.xticks(e,labels,fontsize=10)\n",
        "plt.yticks(fontsize=10)\n",
        "plt.show()"
      ],
      "metadata": {
        "colab": {
          "base_uri": "https://localhost:8080/",
          "height": 453
        },
        "id": "kbTdvFTwX6ki",
        "outputId": "0a1833f7-322e-48d1-d443-1dbfff8fa6f8"
      },
      "execution_count": 59,
      "outputs": [
        {
          "output_type": "display_data",
          "data": {
            "text/plain": [
              "<Figure size 640x480 with 1 Axes>"
            ],
            "image/png": "[encoded data removed]"
          },
          "metadata": {}
        }
      ]
    },
    {
      "cell_type": "code",
      "source": [
        "labels = []\n",
        "predictions = []\n",
        "for x,y in test_set:\n",
        "    labels.append(list(y.numpy()))\n",
        "    predictions.append(tf.argmax(model_bp_avg.predict(x),1).numpy())"
      ],
      "metadata": {
        "colab": {
          "base_uri": "https://localhost:8080/"
        },
        "id": "zeSBxU1zX-B5",
        "outputId": "a25c2b79-7311-4d2f-ab1e-98e7fa7adcfe"
      },
      "execution_count": 60,
      "outputs": [
        {
          "output_type": "stream",
          "name": "stdout",
          "text": [
            "1/1 [==============================] - 0s 164ms/step\n",
            "1/1 [==============================] - 0s 19ms/step\n",
            "1/1 [==============================] - 0s 20ms/step\n",
            "1/1 [==============================] - 0s 21ms/step\n",
            "1/1 [==============================] - 0s 20ms/step\n",
            "1/1 [==============================] - 0s 21ms/step\n",
            "1/1 [==============================] - 0s 23ms/step\n",
            "1/1 [==============================] - 0s 25ms/step\n",
            "1/1 [==============================] - 0s 24ms/step\n",
            "1/1 [==============================] - 0s 21ms/step\n",
            "1/1 [==============================] - 0s 20ms/step\n",
            "1/1 [==============================] - 0s 23ms/step\n",
            "1/1 [==============================] - 0s 30ms/step\n",
            "1/1 [==============================] - 0s 32ms/step\n",
            "1/1 [==============================] - 0s 30ms/step\n",
            "1/1 [==============================] - 0s 30ms/step\n",
            "1/1 [==============================] - 0s 30ms/step\n",
            "1/1 [==============================] - 0s 27ms/step\n",
            "1/1 [==============================] - 0s 33ms/step\n",
            "1/1 [==============================] - 0s 31ms/step\n",
            "1/1 [==============================] - 0s 33ms/step\n",
            "1/1 [==============================] - 0s 28ms/step\n",
            "1/1 [==============================] - 0s 30ms/step\n",
            "1/1 [==============================] - 0s 27ms/step\n",
            "1/1 [==============================] - 0s 29ms/step\n",
            "1/1 [==============================] - 0s 30ms/step\n",
            "1/1 [==============================] - 0s 31ms/step\n",
            "1/1 [==============================] - 0s 33ms/step\n",
            "1/1 [==============================] - 0s 30ms/step\n",
            "1/1 [==============================] - 0s 32ms/step\n",
            "1/1 [==============================] - 0s 176ms/step\n"
          ]
        }
      ]
    },
    {
      "cell_type": "code",
      "source": [
        "predictions = list(itertools.chain.from_iterable(predictions))\n",
        "labels = list(itertools.chain.from_iterable(labels))"
      ],
      "metadata": {
        "id": "ClOY0NODYAf6"
      },
      "execution_count": 61,
      "outputs": []
    },
    {
      "cell_type": "code",
      "source": [
        "print(\"Train Accuracy  : {:.2f} %\".format(history.history['accuracy'][-1]*100))\n",
        "print(\"Test Accuracy   : {:.2f} %\".format(accuracy_score(labels, predictions) * 100))\n",
        "print(\"Precision Score : {:.2f} %\".format(precision_score(labels, predictions, average='macro') * 100))\n",
        "print(\"Recall Score    : {:.2f} %\".format(recall_score(labels, predictions, average='macro') * 100))\n",
        "print(\"F1 Score        : {:.2f} %\".format(f1_score(labels, predictions, average='macro') * 100))"
      ],
      "metadata": {
        "colab": {
          "base_uri": "https://localhost:8080/"
        },
        "id": "CbZpJmNRYDna",
        "outputId": "257d3a10-6a11-4d40-b7a6-0bed27799840"
      },
      "execution_count": 62,
      "outputs": [
        {
          "output_type": "stream",
          "name": "stdout",
          "text": [
            "Train Accuracy  : 93.30 %\n",
            "Test Accuracy   : 93.03 %\n",
            "Precision Score : 93.09 %\n",
            "Recall Score    : 92.99 %\n",
            "F1 Score        : 93.02 %\n"
          ]
        }
      ]
    },
    {
      "cell_type": "code",
      "source": [
        "# Plot a confusion matrix based on the true labels and predicted labels\n",
        "plt.figure(figsize= (2,2))\n",
        "cm = confusion_matrix(labels, predictions)\n",
        "plt.rcParams.update({'font.size': 17})\n",
        "disp = ConfusionMatrixDisplay(confusion_matrix=cm, display_labels=[0,1])\n",
        "fig, ax = plt.subplots(figsize=(8,8))\n",
        "disp.plot(ax=ax,colorbar= False,cmap = 'YlGnBu')\n",
        "# plt.title(\"Confusion Matrix\")\n",
        "plt.xlabel('Predicted Labels',fontsize = 15)\n",
        "plt.ylabel('True Labels', fontsize = 15)\n",
        "plt.show()"
      ],
      "metadata": {
        "colab": {
          "base_uri": "https://localhost:8080/",
          "height": 729
        },
        "id": "uoFpdAk9YGnN",
        "outputId": "e18988e1-d67b-412e-bf91-f29a050e062e"
      },
      "execution_count": 63,
      "outputs": [
        {
          "output_type": "display_data",
          "data": {
            "text/plain": [
              "<Figure size 200x200 with 0 Axes>"
            ]
          },
          "metadata": {}
        },
        {
          "output_type": "display_data",
          "data": {
            "text/plain": [
              "<Figure size 800x800 with 1 Axes>"
            ],
            "image/png": "[encoded data removed]"
          },
          "metadata": {}
        }
      ]
    },
    {
      "cell_type": "markdown",
      "source": [
        "# **Grape**"
      ],
      "metadata": {
        "id": "N_EeVZMvJDmL"
      }
    },
    {
      "cell_type": "code",
      "source": [
        "data_dir = r\"/tmp/DS MINI PROJECT DATASET(BALANCEDANDIMBALANCED)\"\n",
        "\n",
        "train_g_dir = data_dir + \"/Training/Grape\"\n",
        "test_g_dir = data_dir + \"/Testing/Grape\""
      ],
      "metadata": {
        "id": "pjPgWYCvzEnd"
      },
      "execution_count": 64,
      "outputs": []
    },
    {
      "cell_type": "code",
      "source": [
        "seed_train_validation = 1 # Must be same for train_ds and val_ds\n",
        "shuffle_value = True\n",
        "validation_split = 0.2\n",
        "\n",
        "train_gen = tf.keras.utils.image_dataset_from_directory(\n",
        "                                                        directory = train_g_dir,\n",
        "                                                        image_size = (128, 128),\n",
        "                                                        label_mode='categorical',\n",
        "                                                        validation_split = validation_split,\n",
        "                                                        batch_size=32,\n",
        "                                                        subset = \"training\",\n",
        "                                                        seed = seed_train_validation,\n",
        "                                                        shuffle = shuffle_value)\n",
        "\n",
        "val_gen = tf.keras.utils.image_dataset_from_directory(\n",
        "                                                        directory = train_g_dir,\n",
        "                                                        image_size = (128, 128),\n",
        "                                                        validation_split = validation_split,\n",
        "                                                        label_mode='categorical',\n",
        "                                                        batch_size=32,\n",
        "                                                        subset = \"validation\",\n",
        "                                                        seed = seed_train_validation,\n",
        "                                                        shuffle = shuffle_value)\n",
        "\n",
        "test_it = tf.keras.utils.image_dataset_from_directory( directory= test_g_dir,\n",
        "                                                      batch_size=32,\n",
        "                                                      image_size=(128, 128))"
      ],
      "metadata": {
        "colab": {
          "base_uri": "https://localhost:8080/"
        },
        "id": "MMnfeRGszOo1",
        "outputId": "c582ee4c-18bb-4947-db1c-10b95273d141"
      },
      "execution_count": 65,
      "outputs": [
        {
          "output_type": "stream",
          "name": "stdout",
          "text": [
            "Found 7222 files belonging to 4 classes.\n",
            "Using 5778 files for training.\n",
            "Found 7222 files belonging to 4 classes.\n",
            "Using 1444 files for validation.\n",
            "Found 1805 files belonging to 4 classes.\n"
          ]
        }
      ]
    },
    {
      "cell_type": "code",
      "source": [
        "rescale = Rescaling(scale=1./255)\n",
        "train_set  = train_gen.map(lambda image,label:(rescale(image),label))\n",
        "valid_set  = val_gen.map(lambda image,label:(rescale(image),label))\n",
        "test_set  = test_it.map(lambda image,label:(rescale(image),label))"
      ],
      "metadata": {
        "id": "CdbeZ43AY0wI"
      },
      "execution_count": 66,
      "outputs": []
    },
    {
      "cell_type": "code",
      "source": [
        "\n",
        "def define_modelavg():\n",
        "    # load model\n",
        "    model_g_avg = VGG16(include_top=False, input_shape=(128, 128, 3))\n",
        "    # mark loaded layers as not trainable\n",
        "    for layer in model_g_avg.layers:\n",
        "        layer.trainable = False\n",
        "    # add new classifier layers\n",
        "    avgpool1 = tf.keras.layers.GlobalAveragePooling2D()(model_g_avg.layers[-1].output)\n",
        "\n",
        "    class1 = Dense(10, activation='relu', kernel_initializer='he_uniform')(avgpool1)\n",
        "    output = Dense(4, activation='softmax')(class1)\n",
        "    # define new model\n",
        "    model_g_avg = Model(inputs=model_g_avg.inputs, outputs=output)\n",
        "    return model_g_avg"
      ],
      "metadata": {
        "id": "jFZVLzcN4DLW"
      },
      "execution_count": 67,
      "outputs": []
    },
    {
      "cell_type": "code",
      "source": [
        "model_g_avg = define_modelavg()\n",
        "model_g_avg.compile(optimizer='adam', loss='categorical_crossentropy', metrics=['accuracy', Metrics.Precision(), Metrics.Recall()])\n",
        "model_g_avg.summary()"
      ],
      "metadata": {
        "colab": {
          "base_uri": "https://localhost:8080/"
        },
        "id": "qo5-rep64iGc",
        "outputId": "f637d668-4180-4800-e136-09219ed68d45"
      },
      "execution_count": 68,
      "outputs": [
        {
          "output_type": "stream",
          "name": "stdout",
          "text": [
            "Model: \"model_5\"\n",
            "_________________________________________________________________\n",
            " Layer (type)                Output Shape              Param #   \n",
            "=================================================================\n",
            " input_6 (InputLayer)        [(None, 128, 128, 3)]     0         \n",
            "                                                                 \n",
            " block1_conv1 (Conv2D)       (None, 128, 128, 64)      1792      \n",
            "                                                                 \n",
            " block1_conv2 (Conv2D)       (None, 128, 128, 64)      36928     \n",
            "                                                                 \n",
            " block1_pool (MaxPooling2D)  (None, 64, 64, 64)        0         \n",
            "                                                                 \n",
            " block2_conv1 (Conv2D)       (None, 64, 64, 128)       73856     \n",
            "                                                                 \n",
            " block2_conv2 (Conv2D)       (None, 64, 64, 128)       147584    \n",
            "                                                                 \n",
            " block2_pool (MaxPooling2D)  (None, 32, 32, 128)       0         \n",
            "                                                                 \n",
            " block3_conv1 (Conv2D)       (None, 32, 32, 256)       295168    \n",
            "                                                                 \n",
            " block3_conv2 (Conv2D)       (None, 32, 32, 256)       590080    \n",
            "                                                                 \n",
            " block3_conv3 (Conv2D)       (None, 32, 32, 256)       590080    \n",
            "                                                                 \n",
            " block3_pool (MaxPooling2D)  (None, 16, 16, 256)       0         \n",
            "                                                                 \n",
            " block4_conv1 (Conv2D)       (None, 16, 16, 512)       1180160   \n",
            "                                                                 \n",
            " block4_conv2 (Conv2D)       (None, 16, 16, 512)       2359808   \n",
            "                                                                 \n",
            " block4_conv3 (Conv2D)       (None, 16, 16, 512)       2359808   \n",
            "                                                                 \n",
            " block4_pool (MaxPooling2D)  (None, 8, 8, 512)         0         \n",
            "                                                                 \n",
            " block5_conv1 (Conv2D)       (None, 8, 8, 512)         2359808   \n",
            "                                                                 \n",
            " block5_conv2 (Conv2D)       (None, 8, 8, 512)         2359808   \n",
            "                                                                 \n",
            " block5_conv3 (Conv2D)       (None, 8, 8, 512)         2359808   \n",
            "                                                                 \n",
            " block5_pool (MaxPooling2D)  (None, 4, 4, 512)         0         \n",
            "                                                                 \n",
            " global_average_pooling2d_5  (None, 512)               0         \n",
            "  (GlobalAveragePooling2D)                                       \n",
            "                                                                 \n",
            " dense_10 (Dense)            (None, 10)                5130      \n",
            "                                                                 \n",
            " dense_11 (Dense)            (None, 4)                 44        \n",
            "                                                                 \n",
            "=================================================================\n",
            "Total params: 14719862 (56.15 MB)\n",
            "Trainable params: 5174 (20.21 KB)\n",
            "Non-trainable params: 14714688 (56.13 MB)\n",
            "_________________________________________________________________\n"
          ]
        }
      ]
    },
    {
      "cell_type": "code",
      "source": [
        "epochsteps=len(train_set);e=20;valsteps=len(valid_set);teststeps=len(test_set)\n",
        "# fit model\n",
        "history = model_g_avg.fit(train_set, steps_per_epoch=epochsteps,\n",
        "                    validation_data=valid_set, validation_steps=valsteps, epochs=e, verbose=1)\n"
      ],
      "metadata": {
        "colab": {
          "base_uri": "https://localhost:8080/"
        },
        "id": "xXQNsU3Q5iAM",
        "outputId": "330cdeb0-0154-4b49-929a-b7b89bde022e"
      },
      "execution_count": 69,
      "outputs": [
        {
          "output_type": "stream",
          "name": "stdout",
          "text": [
            "Epoch 1/20\n",
            "181/181 [==============================] - 14s 68ms/step - loss: 0.8430 - accuracy: 0.7079 - precision: 0.9078 - recall: 0.3527 - val_loss: 0.5476 - val_accuracy: 0.8366 - val_precision: 0.9009 - val_recall: 0.7244\n",
            "Epoch 2/20\n",
            "181/181 [==============================] - 14s 75ms/step - loss: 0.4497 - accuracy: 0.8487 - precision: 0.8882 - recall: 0.7812 - val_loss: 0.3786 - val_accuracy: 0.8691 - val_precision: 0.8940 - val_recall: 0.8352\n",
            "Epoch 3/20\n",
            "181/181 [==============================] - 11s 57ms/step - loss: 0.3509 - accuracy: 0.8690 - precision: 0.8832 - recall: 0.8403 - val_loss: 0.3256 - val_accuracy: 0.8809 - val_precision: 0.8943 - val_recall: 0.8615\n",
            "Epoch 4/20\n",
            "181/181 [==============================] - 11s 59ms/step - loss: 0.3049 - accuracy: 0.8802 - precision: 0.8906 - recall: 0.8647 - val_loss: 0.2898 - val_accuracy: 0.8871 - val_precision: 0.8923 - val_recall: 0.8774\n",
            "Epoch 5/20\n",
            "181/181 [==============================] - 11s 61ms/step - loss: 0.2775 - accuracy: 0.8891 - precision: 0.8956 - recall: 0.8804 - val_loss: 0.2725 - val_accuracy: 0.8947 - val_precision: 0.9002 - val_recall: 0.8871\n",
            "Epoch 6/20\n",
            "181/181 [==============================] - 11s 61ms/step - loss: 0.2578 - accuracy: 0.8967 - precision: 0.9019 - recall: 0.8891 - val_loss: 0.2620 - val_accuracy: 0.8940 - val_precision: 0.8993 - val_recall: 0.8843\n",
            "Epoch 7/20\n",
            "181/181 [==============================] - 10s 55ms/step - loss: 0.2457 - accuracy: 0.9010 - precision: 0.9042 - recall: 0.8963 - val_loss: 0.2470 - val_accuracy: 0.8989 - val_precision: 0.9028 - val_recall: 0.8940\n",
            "Epoch 8/20\n",
            "181/181 [==============================] - 11s 59ms/step - loss: 0.2322 - accuracy: 0.9055 - precision: 0.9074 - recall: 0.9010 - val_loss: 0.2376 - val_accuracy: 0.9024 - val_precision: 0.9064 - val_recall: 0.8982\n",
            "Epoch 9/20\n",
            "181/181 [==============================] - 11s 58ms/step - loss: 0.2222 - accuracy: 0.9102 - precision: 0.9121 - recall: 0.9067 - val_loss: 0.2297 - val_accuracy: 0.9058 - val_precision: 0.9080 - val_recall: 0.9024\n",
            "Epoch 10/20\n",
            "181/181 [==============================] - 11s 60ms/step - loss: 0.2108 - accuracy: 0.9193 - precision: 0.9213 - recall: 0.9161 - val_loss: 0.2228 - val_accuracy: 0.9107 - val_precision: 0.9118 - val_recall: 0.9093\n",
            "Epoch 11/20\n",
            "181/181 [==============================] - 11s 57ms/step - loss: 0.2071 - accuracy: 0.9162 - precision: 0.9182 - recall: 0.9131 - val_loss: 0.2154 - val_accuracy: 0.9107 - val_precision: 0.9124 - val_recall: 0.9086\n",
            "Epoch 12/20\n",
            "181/181 [==============================] - 11s 58ms/step - loss: 0.1978 - accuracy: 0.9214 - precision: 0.9233 - recall: 0.9190 - val_loss: 0.2098 - val_accuracy: 0.9134 - val_precision: 0.9172 - val_recall: 0.9134\n",
            "Epoch 13/20\n",
            "181/181 [==============================] - 11s 61ms/step - loss: 0.1909 - accuracy: 0.9256 - precision: 0.9257 - recall: 0.9233 - val_loss: 0.2100 - val_accuracy: 0.9127 - val_precision: 0.9153 - val_recall: 0.9127\n",
            "Epoch 14/20\n",
            "181/181 [==============================] - 14s 74ms/step - loss: 0.1876 - accuracy: 0.9219 - precision: 0.9232 - recall: 0.9199 - val_loss: 0.2029 - val_accuracy: 0.9155 - val_precision: 0.9172 - val_recall: 0.9134\n",
            "Epoch 15/20\n",
            "181/181 [==============================] - 13s 73ms/step - loss: 0.1796 - accuracy: 0.9290 - precision: 0.9304 - recall: 0.9280 - val_loss: 0.2002 - val_accuracy: 0.9162 - val_precision: 0.9186 - val_recall: 0.9141\n",
            "Epoch 16/20\n",
            "181/181 [==============================] - 12s 65ms/step - loss: 0.1747 - accuracy: 0.9330 - precision: 0.9341 - recall: 0.9320 - val_loss: 0.1976 - val_accuracy: 0.9127 - val_precision: 0.9146 - val_recall: 0.9120\n",
            "Epoch 17/20\n",
            "181/181 [==============================] - 14s 79ms/step - loss: 0.1704 - accuracy: 0.9311 - precision: 0.9323 - recall: 0.9290 - val_loss: 0.1934 - val_accuracy: 0.9211 - val_precision: 0.9229 - val_recall: 0.9197\n",
            "Epoch 18/20\n",
            "181/181 [==============================] - 12s 63ms/step - loss: 0.1654 - accuracy: 0.9356 - precision: 0.9363 - recall: 0.9342 - val_loss: 0.1903 - val_accuracy: 0.9176 - val_precision: 0.9194 - val_recall: 0.9169\n",
            "Epoch 19/20\n",
            "181/181 [==============================] - 11s 59ms/step - loss: 0.1621 - accuracy: 0.9365 - precision: 0.9379 - recall: 0.9351 - val_loss: 0.1897 - val_accuracy: 0.9169 - val_precision: 0.9181 - val_recall: 0.9155\n",
            "Epoch 20/20\n",
            "181/181 [==============================] - 11s 61ms/step - loss: 0.1579 - accuracy: 0.9393 - precision: 0.9398 - recall: 0.9382 - val_loss: 0.1868 - val_accuracy: 0.9224 - val_precision: 0.9235 - val_recall: 0.9197\n"
          ]
        }
      ]
    },
    {
      "cell_type": "code",
      "source": [
        "plt.plot(history.history['val_loss'], color = 'orange')\n",
        "plt.plot(history.history['loss'], color='red')\n",
        "# plt.plot(history.history['accuracy'], color = 'green')\n",
        "# plt.plot(history.history['val_accuracy'], color = 'blue')\n",
        "plt.legend(['Val_loss','Train_loss'],fontsize=12)\n",
        "e=range(0,20)\n",
        "labels=range(1,21)\n",
        "plt.xlabel(\"Epochs\",fontsize=12)\n",
        "plt.ylabel(\"Loss\",fontsize=12)\n",
        "plt.xticks(e,labels,fontsize = 10)\n",
        "plt.yticks(fontsize=10)\n",
        "plt.show()"
      ],
      "metadata": {
        "colab": {
          "base_uri": "https://localhost:8080/",
          "height": 453
        },
        "id": "QT7hH2h2GboB",
        "outputId": "d0e1dc85-1dd7-49c3-fb48-5f0a50fb486f"
      },
      "execution_count": 70,
      "outputs": [
        {
          "output_type": "display_data",
          "data": {
            "text/plain": [
              "<Figure size 640x480 with 1 Axes>"
            ],
            "image/png": "[encoded data removed]"
          },
          "metadata": {}
        }
      ]
    },
    {
      "cell_type": "code",
      "source": [
        "labels = []\n",
        "predictions = []\n",
        "for x,y in test_set:\n",
        "    labels.append(list(y.numpy()))\n",
        "    predictions.append(tf.argmax(model_g_avg.predict(x),1).numpy())"
      ],
      "metadata": {
        "colab": {
          "base_uri": "https://localhost:8080/"
        },
        "id": "SVvjEdhbaDFO",
        "outputId": "0ec4a643-5d5e-43ae-de6e-2cf7b917bcea"
      },
      "execution_count": 71,
      "outputs": [
        {
          "output_type": "stream",
          "name": "stdout",
          "text": [
            "1/1 [==============================] - 0s 175ms/step\n",
            "1/1 [==============================] - 0s 21ms/step\n",
            "1/1 [==============================] - 0s 20ms/step\n",
            "1/1 [==============================] - 0s 26ms/step\n",
            "1/1 [==============================] - 0s 20ms/step\n",
            "1/1 [==============================] - 0s 22ms/step\n",
            "1/1 [==============================] - 0s 19ms/step\n",
            "1/1 [==============================] - 0s 23ms/step\n",
            "1/1 [==============================] - 0s 22ms/step\n",
            "1/1 [==============================] - 0s 20ms/step\n",
            "1/1 [==============================] - 0s 23ms/step\n",
            "1/1 [==============================] - 0s 22ms/step\n",
            "1/1 [==============================] - 0s 22ms/step\n",
            "1/1 [==============================] - 0s 21ms/step\n",
            "1/1 [==============================] - 0s 21ms/step\n",
            "1/1 [==============================] - 0s 22ms/step\n",
            "1/1 [==============================] - 0s 21ms/step\n",
            "1/1 [==============================] - 0s 21ms/step\n",
            "1/1 [==============================] - 0s 23ms/step\n",
            "1/1 [==============================] - 0s 22ms/step\n",
            "1/1 [==============================] - 0s 21ms/step\n",
            "1/1 [==============================] - 0s 19ms/step\n",
            "1/1 [==============================] - 0s 23ms/step\n",
            "1/1 [==============================] - 0s 24ms/step\n",
            "1/1 [==============================] - 0s 20ms/step\n",
            "1/1 [==============================] - 0s 22ms/step\n",
            "1/1 [==============================] - 0s 20ms/step\n",
            "1/1 [==============================] - 0s 20ms/step\n",
            "1/1 [==============================] - 0s 20ms/step\n",
            "1/1 [==============================] - 0s 20ms/step\n",
            "1/1 [==============================] - 0s 20ms/step\n",
            "1/1 [==============================] - 0s 22ms/step\n",
            "1/1 [==============================] - 0s 20ms/step\n",
            "1/1 [==============================] - 0s 29ms/step\n",
            "1/1 [==============================] - 0s 22ms/step\n",
            "1/1 [==============================] - 0s 23ms/step\n",
            "1/1 [==============================] - 0s 20ms/step\n",
            "1/1 [==============================] - 0s 22ms/step\n",
            "1/1 [==============================] - 0s 33ms/step\n",
            "1/1 [==============================] - 0s 40ms/step\n",
            "1/1 [==============================] - 0s 33ms/step\n",
            "1/1 [==============================] - 0s 31ms/step\n",
            "1/1 [==============================] - 0s 36ms/step\n",
            "1/1 [==============================] - 0s 32ms/step\n",
            "1/1 [==============================] - 0s 27ms/step\n",
            "1/1 [==============================] - 0s 28ms/step\n",
            "1/1 [==============================] - 0s 33ms/step\n",
            "1/1 [==============================] - 0s 29ms/step\n",
            "1/1 [==============================] - 0s 28ms/step\n",
            "1/1 [==============================] - 0s 28ms/step\n",
            "1/1 [==============================] - 0s 28ms/step\n",
            "1/1 [==============================] - 0s 40ms/step\n",
            "1/1 [==============================] - 0s 32ms/step\n",
            "1/1 [==============================] - 0s 32ms/step\n",
            "1/1 [==============================] - 0s 28ms/step\n",
            "1/1 [==============================] - 0s 29ms/step\n",
            "1/1 [==============================] - 0s 207ms/step\n"
          ]
        }
      ]
    },
    {
      "cell_type": "code",
      "source": [
        "predictions = list(itertools.chain.from_iterable(predictions))\n",
        "labels = list(itertools.chain.from_iterable(labels))"
      ],
      "metadata": {
        "id": "GsSFBNvhaNni"
      },
      "execution_count": 72,
      "outputs": []
    },
    {
      "cell_type": "code",
      "source": [
        "print(\"Train Accuracy  : {:.2f} %\".format(history.history['accuracy'][-1]*100))\n",
        "print(\"Test Accuracy   : {:.2f} %\".format(accuracy_score(labels, predictions) * 100))\n",
        "print(\"Precision Score : {:.2f} %\".format(precision_score(labels, predictions, average='macro') * 100))\n",
        "print(\"Recall Score    : {:.2f} %\".format(recall_score(labels, predictions, average='macro') * 100))\n",
        "print(\"F1 Score        : {:.2f} %\".format(f1_score(labels, predictions, average='macro') * 100))"
      ],
      "metadata": {
        "colab": {
          "base_uri": "https://localhost:8080/"
        },
        "id": "T1wb3sxyaQdl",
        "outputId": "07e84cfb-8271-4e41-84f5-382029510437"
      },
      "execution_count": 73,
      "outputs": [
        {
          "output_type": "stream",
          "name": "stdout",
          "text": [
            "Train Accuracy  : 93.93 %\n",
            "Test Accuracy   : 92.19 %\n",
            "Precision Score : 92.62 %\n",
            "Recall Score    : 92.56 %\n",
            "F1 Score        : 92.55 %\n"
          ]
        }
      ]
    },
    {
      "cell_type": "code",
      "source": [
        "# Plot a confusion matrix based on the true labels and predicted labels\n",
        "plt.figure(figsize= (2,2))\n",
        "cm = confusion_matrix(labels, predictions)\n",
        "plt.rcParams.update({'font.size': 20})\n",
        "disp = ConfusionMatrixDisplay(confusion_matrix=cm, display_labels=list(range(1,5)))\n",
        "fig, ax = plt.subplots(figsize=(10,10))\n",
        "disp.plot(ax=ax,colorbar= False,cmap = 'YlGnBu')\n",
        "# plt.title(\"Confusion Matrix\")\n",
        "plt.xlabel('Predicted Labels',fontsize = 15)\n",
        "plt.ylabel('True Labels',fontsize = 15)\n",
        "plt.show()"
      ],
      "metadata": {
        "colab": {
          "base_uri": "https://localhost:8080/",
          "height": 887
        },
        "id": "ZKaFjNq4aTT9",
        "outputId": "fc061fbb-dcb8-4794-93f9-60c942bbf118"
      },
      "execution_count": 74,
      "outputs": [
        {
          "output_type": "display_data",
          "data": {
            "text/plain": [
              "<Figure size 200x200 with 0 Axes>"
            ]
          },
          "metadata": {}
        },
        {
          "output_type": "display_data",
          "data": {
            "text/plain": [
              "<Figure size 1000x1000 with 1 Axes>"
            ],
            "image/png": "[encoded data removed]"
          },
          "metadata": {}
        }
      ]
    },
    {
      "cell_type": "markdown",
      "source": [
        "# **Corn**"
      ],
      "metadata": {
        "id": "Mqqn561lL6gz"
      }
    },
    {
      "cell_type": "code",
      "source": [
        "data_dir = r\"/tmp/DS MINI PROJECT DATASET(BALANCEDANDIMBALANCED)\"\n",
        "\n",
        "train_corn_dir = data_dir + \"/Training/Corn\"\n",
        "test_corn_dir = data_dir + \"/Testing/Corn\""
      ],
      "metadata": {
        "id": "NwElZWJAL35r"
      },
      "execution_count": 75,
      "outputs": []
    },
    {
      "cell_type": "code",
      "source": [
        "%%time\n",
        "seed_train_validation = 1 # Must be same for train_ds and val_ds\n",
        "shuffle_value = True\n",
        "validation_split = 0.2\n",
        "\n",
        "train_gen = tf.keras.utils.image_dataset_from_directory(\n",
        "                                                        directory = train_corn_dir,\n",
        "                                                        image_size = (128, 128),\n",
        "                                                        label_mode='categorical',\n",
        "                                                        validation_split = validation_split,\n",
        "                                                        batch_size=32,\n",
        "                                                        subset = \"training\",\n",
        "                                                        seed = seed_train_validation,\n",
        "                                                        shuffle = shuffle_value)\n",
        "\n",
        "val_gen = tf.keras.utils.image_dataset_from_directory(\n",
        "                                                        directory = train_corn_dir,\n",
        "                                                        image_size = (128, 128),\n",
        "                                                        validation_split = validation_split,\n",
        "                                                        label_mode='categorical',\n",
        "                                                        batch_size=32,\n",
        "                                                        subset = \"validation\",\n",
        "                                                        seed = seed_train_validation,\n",
        "                                                        shuffle = shuffle_value)\n",
        "\n",
        "test_it = tf.keras.utils.image_dataset_from_directory( directory= test_corn_dir,\n",
        "                                                      batch_size=32,\n",
        "                                                      image_size=(128, 128))"
      ],
      "metadata": {
        "colab": {
          "base_uri": "https://localhost:8080/"
        },
        "id": "ONAmvkgCMbuR",
        "outputId": "09fdb9c4-03a8-4adf-8d3d-f975d626f169"
      },
      "execution_count": 76,
      "outputs": [
        {
          "output_type": "stream",
          "name": "stdout",
          "text": [
            "Found 7316 files belonging to 4 classes.\n",
            "Using 5853 files for training.\n",
            "Found 7316 files belonging to 4 classes.\n",
            "Using 1463 files for validation.\n",
            "Found 1829 files belonging to 4 classes.\n",
            "CPU times: user 527 ms, sys: 239 ms, total: 766 ms\n",
            "Wall time: 618 ms\n"
          ]
        }
      ]
    },
    {
      "cell_type": "code",
      "source": [
        "rescale = Rescaling(scale=1./255)\n",
        "train_set  = train_gen.map(lambda image,label:(rescale(image),label))\n",
        "valid_set  = val_gen.map(lambda image,label:(rescale(image),label))\n",
        "test_set  = test_it.map(lambda image,label:(rescale(image),label))"
      ],
      "metadata": {
        "id": "u4-gqQGtatG8"
      },
      "execution_count": 77,
      "outputs": []
    },
    {
      "cell_type": "code",
      "source": [
        "# from keras.layers.pooling.global_average_pooling2d import GlobalAveragePooling2D\n",
        "\n",
        "def define_modelavg():\n",
        "    # load model\n",
        "    model_c_avg = VGG16(include_top=False, input_shape=(128, 128, 3))\n",
        "    # mark loaded layers as not trainable\n",
        "    for layer in model_c_avg.layers:\n",
        "        layer.trainable = False\n",
        "    # add new classifier layers\n",
        "    avgpool1 = tf.keras.layers.GlobalAveragePooling2D()(model_c_avg.layers[-1].output)\n",
        "\n",
        "    class1 = Dense(10, activation='relu', kernel_initializer='he_uniform')(avgpool1)\n",
        "    output = Dense(4, activation='softmax')(class1)\n",
        "    # define new model\n",
        "    model_c_avg = Model(inputs=model_c_avg.inputs, outputs=output)\n",
        "    return model_c_avg"
      ],
      "metadata": {
        "id": "D7JIgW35NzC4"
      },
      "execution_count": 78,
      "outputs": []
    },
    {
      "cell_type": "code",
      "source": [
        "model_c_avg = define_modelavg()\n",
        "model_c_avg.compile(optimizer='adam', loss='categorical_crossentropy', metrics=['accuracy'])\n",
        "model_c_avg.summary()"
      ],
      "metadata": {
        "colab": {
          "base_uri": "https://localhost:8080/"
        },
        "id": "SBsTs3ZgOoOp",
        "outputId": "97547d41-bd40-4a81-c3b4-5c71f7fdae65"
      },
      "execution_count": 79,
      "outputs": [
        {
          "output_type": "stream",
          "name": "stdout",
          "text": [
            "Model: \"model_6\"\n",
            "_________________________________________________________________\n",
            " Layer (type)                Output Shape              Param #   \n",
            "=================================================================\n",
            " input_7 (InputLayer)        [(None, 128, 128, 3)]     0         \n",
            "                                                                 \n",
            " block1_conv1 (Conv2D)       (None, 128, 128, 64)      1792      \n",
            "                                                                 \n",
            " block1_conv2 (Conv2D)       (None, 128, 128, 64)      36928     \n",
            "                                                                 \n",
            " block1_pool (MaxPooling2D)  (None, 64, 64, 64)        0         \n",
            "                                                                 \n",
            " block2_conv1 (Conv2D)       (None, 64, 64, 128)       73856     \n",
            "                                                                 \n",
            " block2_conv2 (Conv2D)       (None, 64, 64, 128)       147584    \n",
            "                                                                 \n",
            " block2_pool (MaxPooling2D)  (None, 32, 32, 128)       0         \n",
            "                                                                 \n",
            " block3_conv1 (Conv2D)       (None, 32, 32, 256)       295168    \n",
            "                                                                 \n",
            " block3_conv2 (Conv2D)       (None, 32, 32, 256)       590080    \n",
            "                                                                 \n",
            " block3_conv3 (Conv2D)       (None, 32, 32, 256)       590080    \n",
            "                                                                 \n",
            " block3_pool (MaxPooling2D)  (None, 16, 16, 256)       0         \n",
            "                                                                 \n",
            " block4_conv1 (Conv2D)       (None, 16, 16, 512)       1180160   \n",
            "                                                                 \n",
            " block4_conv2 (Conv2D)       (None, 16, 16, 512)       2359808   \n",
            "                                                                 \n",
            " block4_conv3 (Conv2D)       (None, 16, 16, 512)       2359808   \n",
            "                                                                 \n",
            " block4_pool (MaxPooling2D)  (None, 8, 8, 512)         0         \n",
            "                                                                 \n",
            " block5_conv1 (Conv2D)       (None, 8, 8, 512)         2359808   \n",
            "                                                                 \n",
            " block5_conv2 (Conv2D)       (None, 8, 8, 512)         2359808   \n",
            "                                                                 \n",
            " block5_conv3 (Conv2D)       (None, 8, 8, 512)         2359808   \n",
            "                                                                 \n",
            " block5_pool (MaxPooling2D)  (None, 4, 4, 512)         0         \n",
            "                                                                 \n",
            " global_average_pooling2d_6  (None, 512)               0         \n",
            "  (GlobalAveragePooling2D)                                       \n",
            "                                                                 \n",
            " dense_12 (Dense)            (None, 10)                5130      \n",
            "                                                                 \n",
            " dense_13 (Dense)            (None, 4)                 44        \n",
            "                                                                 \n",
            "=================================================================\n",
            "Total params: 14719862 (56.15 MB)\n",
            "Trainable params: 5174 (20.21 KB)\n",
            "Non-trainable params: 14714688 (56.13 MB)\n",
            "_________________________________________________________________\n"
          ]
        }
      ]
    },
    {
      "cell_type": "code",
      "source": [
        "epochsteps=len(train_set);epochs =20;valsteps=len(valid_set);teststeps=len(test_set)\n",
        "# fit model\n",
        "history = model_c_avg.fit(train_set, steps_per_epoch=epochsteps,\n",
        "                    validation_data=valid_set, validation_steps=valsteps, epochs=epochs, verbose=1)\n"
      ],
      "metadata": {
        "colab": {
          "base_uri": "https://localhost:8080/"
        },
        "id": "gG_8meyGO_0j",
        "outputId": "383039c6-b5f8-4143-8457-c607d17e5b4c"
      },
      "execution_count": 80,
      "outputs": [
        {
          "output_type": "stream",
          "name": "stdout",
          "text": [
            "Epoch 1/20\n",
            "183/183 [==============================] - 14s 67ms/step - loss: 0.8460 - accuracy: 0.6779 - val_loss: 0.4848 - val_accuracy: 0.8694\n",
            "Epoch 2/20\n",
            "183/183 [==============================] - 11s 59ms/step - loss: 0.3553 - accuracy: 0.9081 - val_loss: 0.2854 - val_accuracy: 0.9200\n",
            "Epoch 3/20\n",
            "183/183 [==============================] - 10s 55ms/step - loss: 0.2456 - accuracy: 0.9284 - val_loss: 0.2207 - val_accuracy: 0.9385\n",
            "Epoch 4/20\n",
            "183/183 [==============================] - 11s 57ms/step - loss: 0.2005 - accuracy: 0.9370 - val_loss: 0.1926 - val_accuracy: 0.9481\n",
            "Epoch 5/20\n",
            "183/183 [==============================] - 11s 57ms/step - loss: 0.1775 - accuracy: 0.9453 - val_loss: 0.1636 - val_accuracy: 0.9528\n",
            "Epoch 6/20\n",
            "183/183 [==============================] - 11s 57ms/step - loss: 0.1602 - accuracy: 0.9475 - val_loss: 0.1491 - val_accuracy: 0.9576\n",
            "Epoch 7/20\n",
            "183/183 [==============================] - 11s 60ms/step - loss: 0.1489 - accuracy: 0.9523 - val_loss: 0.1419 - val_accuracy: 0.9617\n",
            "Epoch 8/20\n",
            "183/183 [==============================] - 12s 62ms/step - loss: 0.1395 - accuracy: 0.9522 - val_loss: 0.1310 - val_accuracy: 0.9631\n",
            "Epoch 9/20\n",
            "183/183 [==============================] - 12s 63ms/step - loss: 0.1303 - accuracy: 0.9537 - val_loss: 0.1273 - val_accuracy: 0.9645\n",
            "Epoch 10/20\n",
            "183/183 [==============================] - 10s 55ms/step - loss: 0.1258 - accuracy: 0.9544 - val_loss: 0.1284 - val_accuracy: 0.9604\n",
            "Epoch 11/20\n",
            "183/183 [==============================] - 11s 59ms/step - loss: 0.1193 - accuracy: 0.9581 - val_loss: 0.1178 - val_accuracy: 0.9658\n",
            "Epoch 12/20\n",
            "183/183 [==============================] - 11s 58ms/step - loss: 0.1147 - accuracy: 0.9581 - val_loss: 0.1141 - val_accuracy: 0.9665\n",
            "Epoch 13/20\n",
            "183/183 [==============================] - 10s 56ms/step - loss: 0.1117 - accuracy: 0.9598 - val_loss: 0.1108 - val_accuracy: 0.9658\n",
            "Epoch 14/20\n",
            "183/183 [==============================] - 11s 59ms/step - loss: 0.1070 - accuracy: 0.9624 - val_loss: 0.1111 - val_accuracy: 0.9651\n",
            "Epoch 15/20\n",
            "183/183 [==============================] - 11s 61ms/step - loss: 0.1039 - accuracy: 0.9626 - val_loss: 0.1122 - val_accuracy: 0.9631\n",
            "Epoch 16/20\n",
            "183/183 [==============================] - 11s 62ms/step - loss: 0.1001 - accuracy: 0.9628 - val_loss: 0.1065 - val_accuracy: 0.9658\n",
            "Epoch 17/20\n",
            "183/183 [==============================] - 11s 59ms/step - loss: 0.0981 - accuracy: 0.9655 - val_loss: 0.1072 - val_accuracy: 0.9651\n",
            "Epoch 18/20\n",
            "183/183 [==============================] - 11s 59ms/step - loss: 0.0967 - accuracy: 0.9643 - val_loss: 0.0983 - val_accuracy: 0.9692\n",
            "Epoch 19/20\n",
            "183/183 [==============================] - 11s 58ms/step - loss: 0.0934 - accuracy: 0.9662 - val_loss: 0.1022 - val_accuracy: 0.9692\n",
            "Epoch 20/20\n",
            "183/183 [==============================] - 12s 61ms/step - loss: 0.0909 - accuracy: 0.9667 - val_loss: 0.0963 - val_accuracy: 0.9692\n"
          ]
        }
      ]
    },
    {
      "cell_type": "code",
      "source": [
        "plt.plot(history.history['val_loss'], color = 'orange')\n",
        "plt.plot(history.history['loss'], color='red')\n",
        "# plt.plot(history.history['accuracy'], color = 'green')\n",
        "# plt.plot(history.history['val_accuracy'], color = 'blue')\n",
        "plt.legend(['Val_loss','Train_loss'],fontsize=12)\n",
        "e=range(0,20)\n",
        "labels=range(1,21)\n",
        "plt.xlabel(\"Epochs\",fontsize=12)\n",
        "plt.ylabel(\"Loss\",fontsize=12)\n",
        "plt.xticks(e,labels, fontsize=10)\n",
        "plt.yticks(fontsize = 10)\n",
        "plt.show()"
      ],
      "metadata": {
        "colab": {
          "base_uri": "https://localhost:8080/",
          "height": 453
        },
        "id": "leaK_U31bEJ2",
        "outputId": "91c15a52-0b61-4c4b-e4c3-be97e45df63e"
      },
      "execution_count": 81,
      "outputs": [
        {
          "output_type": "display_data",
          "data": {
            "text/plain": [
              "<Figure size 640x480 with 1 Axes>"
            ],
            "image/png": "[encoded data removed]"
          },
          "metadata": {}
        }
      ]
    },
    {
      "cell_type": "code",
      "source": [
        "labels = []\n",
        "predictions = []\n",
        "for x,y in test_set:\n",
        "    labels.append(list(y.numpy()))\n",
        "    predictions.append(tf.argmax(model_c_avg.predict(x),1).numpy())"
      ],
      "metadata": {
        "colab": {
          "base_uri": "https://localhost:8080/"
        },
        "id": "L6ZVQXEfbKLv",
        "outputId": "8b5b55ed-19ff-4872-8903-f713af8225d5"
      },
      "execution_count": 82,
      "outputs": [
        {
          "output_type": "stream",
          "name": "stdout",
          "text": [
            "1/1 [==============================] - 0s 168ms/step\n",
            "1/1 [==============================] - 0s 21ms/step\n",
            "1/1 [==============================] - 0s 20ms/step\n",
            "1/1 [==============================] - 0s 22ms/step\n",
            "1/1 [==============================] - 0s 23ms/step\n",
            "1/1 [==============================] - 0s 23ms/step\n",
            "1/1 [==============================] - 0s 20ms/step\n",
            "1/1 [==============================] - 0s 20ms/step\n",
            "1/1 [==============================] - 0s 23ms/step\n",
            "1/1 [==============================] - 0s 20ms/step\n",
            "1/1 [==============================] - 0s 20ms/step\n",
            "1/1 [==============================] - 0s 28ms/step\n",
            "1/1 [==============================] - 0s 24ms/step\n",
            "1/1 [==============================] - 0s 21ms/step\n",
            "1/1 [==============================] - 0s 25ms/step\n",
            "1/1 [==============================] - 0s 31ms/step\n",
            "1/1 [==============================] - 0s 24ms/step\n",
            "1/1 [==============================] - 0s 20ms/step\n",
            "1/1 [==============================] - 0s 23ms/step\n",
            "1/1 [==============================] - 0s 22ms/step\n",
            "1/1 [==============================] - 0s 21ms/step\n",
            "1/1 [==============================] - 0s 22ms/step\n",
            "1/1 [==============================] - 0s 22ms/step\n",
            "1/1 [==============================] - 0s 23ms/step\n",
            "1/1 [==============================] - 0s 25ms/step\n",
            "1/1 [==============================] - 0s 31ms/step\n",
            "1/1 [==============================] - 0s 22ms/step\n",
            "1/1 [==============================] - 0s 21ms/step\n",
            "1/1 [==============================] - 0s 25ms/step\n",
            "1/1 [==============================] - 0s 20ms/step\n",
            "1/1 [==============================] - 0s 19ms/step\n",
            "1/1 [==============================] - 0s 20ms/step\n",
            "1/1 [==============================] - 0s 39ms/step\n",
            "1/1 [==============================] - 0s 33ms/step\n",
            "1/1 [==============================] - 0s 30ms/step\n",
            "1/1 [==============================] - 0s 32ms/step\n",
            "1/1 [==============================] - 0s 28ms/step\n",
            "1/1 [==============================] - 0s 27ms/step\n",
            "1/1 [==============================] - 0s 27ms/step\n",
            "1/1 [==============================] - 0s 30ms/step\n",
            "1/1 [==============================] - 0s 28ms/step\n",
            "1/1 [==============================] - 0s 28ms/step\n",
            "1/1 [==============================] - 0s 31ms/step\n",
            "1/1 [==============================] - 0s 29ms/step\n",
            "1/1 [==============================] - 0s 34ms/step\n",
            "1/1 [==============================] - 0s 32ms/step\n",
            "1/1 [==============================] - 0s 34ms/step\n",
            "1/1 [==============================] - 0s 30ms/step\n",
            "1/1 [==============================] - 0s 29ms/step\n",
            "1/1 [==============================] - 0s 22ms/step\n",
            "1/1 [==============================] - 0s 22ms/step\n",
            "1/1 [==============================] - 0s 20ms/step\n",
            "1/1 [==============================] - 0s 25ms/step\n",
            "1/1 [==============================] - 0s 22ms/step\n",
            "1/1 [==============================] - 0s 21ms/step\n",
            "1/1 [==============================] - 0s 20ms/step\n",
            "1/1 [==============================] - 0s 19ms/step\n",
            "1/1 [==============================] - 0s 139ms/step\n"
          ]
        }
      ]
    },
    {
      "cell_type": "code",
      "source": [
        "predictions = list(itertools.chain.from_iterable(predictions))\n",
        "labels = list(itertools.chain.from_iterable(labels))"
      ],
      "metadata": {
        "id": "GA7EZHSCbRuB"
      },
      "execution_count": 83,
      "outputs": []
    },
    {
      "cell_type": "code",
      "source": [
        "print(\"Train Accuracy  : {:.2f} %\".format(history.history['accuracy'][-1]*100))\n",
        "print(\"Test Accuracy   : {:.2f} %\".format(accuracy_score(labels, predictions) * 100))\n",
        "print(\"Precision Score : {:.2f} %\".format(precision_score(labels, predictions, average='macro') * 100))\n",
        "print(\"Recall Score    : {:.2f} %\".format(recall_score(labels, predictions, average='macro') * 100))\n",
        "print(\"F1 Score        : {:.2f} %\".format(f1_score(labels, predictions, average='macro') * 100))"
      ],
      "metadata": {
        "colab": {
          "base_uri": "https://localhost:8080/"
        },
        "id": "9pmnfGcFbUvT",
        "outputId": "f1750b3c-cc84-442c-8bd4-67a46c7373cf"
      },
      "execution_count": 84,
      "outputs": [
        {
          "output_type": "stream",
          "name": "stdout",
          "text": [
            "Train Accuracy  : 96.67 %\n",
            "Test Accuracy   : 95.68 %\n",
            "Precision Score : 95.69 %\n",
            "Recall Score    : 95.45 %\n",
            "F1 Score        : 95.53 %\n"
          ]
        }
      ]
    },
    {
      "cell_type": "code",
      "source": [
        "# Plot a confusion matrix based on the true labels and predicted labels\n",
        "plt.figure(figsize= (2,2))\n",
        "cm = confusion_matrix(labels, predictions)\n",
        "plt.rcParams.update({'font.size': 20})\n",
        "disp = ConfusionMatrixDisplay(confusion_matrix=cm, display_labels=list(range(1,5)))\n",
        "fig, ax = plt.subplots(figsize=(10,10))\n",
        "disp.plot(ax=ax,colorbar= False,cmap = 'YlGnBu')\n",
        "# plt.title(\"Confusion Matrix\")\n",
        "plt.xlabel('Predicted Labels',fontsize=15)\n",
        "plt.ylabel('True Labels',fontsize=15)\n",
        "plt.show()"
      ],
      "metadata": {
        "colab": {
          "base_uri": "https://localhost:8080/",
          "height": 887
        },
        "id": "40ap-HX_bX2H",
        "outputId": "61434a86-26fa-4647-dc3f-6c07094202af"
      },
      "execution_count": 85,
      "outputs": [
        {
          "output_type": "display_data",
          "data": {
            "text/plain": [
              "<Figure size 200x200 with 0 Axes>"
            ]
          },
          "metadata": {}
        },
        {
          "output_type": "display_data",
          "data": {
            "text/plain": [
              "<Figure size 1000x1000 with 1 Axes>"
            ],
            "image/png": "[encoded data removed]"
          },
          "metadata": {}
        }
      ]
    },
    {
      "cell_type": "markdown",
      "source": [
        "# **Tomato**"
      ],
      "metadata": {
        "id": "Z50PxmWwL0x-"
      }
    },
    {
      "cell_type": "code",
      "source": [
        "data_dir = r\"/tmp/DS MINI PROJECT DATASET(BALANCEDANDIMBALANCED)\"\n",
        "\n",
        "train_t_dir = data_dir + \"/Training/Tomato\"\n",
        "test_t_dir = data_dir + \"/Testing/Tomato\""
      ],
      "metadata": {
        "id": "cTKuhEHwL5-1"
      },
      "execution_count": 86,
      "outputs": []
    },
    {
      "cell_type": "code",
      "source": [
        "%%time\n",
        "seed_train_validation = 1 # Must be same for train_ds and val_ds\n",
        "shuffle_value = True\n",
        "validation_split = 0.2\n",
        "\n",
        "train_gen = tf.keras.utils.image_dataset_from_directory(\n",
        "                                                        directory = train_t_dir,\n",
        "                                                        image_size = (128, 128),\n",
        "                                                        label_mode='categorical',\n",
        "                                                        validation_split = validation_split,\n",
        "                                                        batch_size=32,\n",
        "                                                        subset = \"training\",\n",
        "                                                        seed = seed_train_validation,\n",
        "                                                        shuffle = shuffle_value)\n",
        "\n",
        "val_gen = tf.keras.utils.image_dataset_from_directory(\n",
        "                                                        directory = train_t_dir,\n",
        "                                                        image_size = (128, 128),\n",
        "                                                        validation_split = validation_split,\n",
        "                                                        label_mode='categorical',\n",
        "                                                        batch_size=32,\n",
        "                                                        subset = \"validation\",\n",
        "                                                        seed = seed_train_validation,\n",
        "                                                        shuffle = shuffle_value)\n",
        "\n",
        "test_it = tf.keras.utils.image_dataset_from_directory( directory= test_t_dir,\n",
        "                                                      batch_size=32,\n",
        "                                                      image_size=(128, 128))"
      ],
      "metadata": {
        "colab": {
          "base_uri": "https://localhost:8080/"
        },
        "id": "fnXDDnADMUnq",
        "outputId": "2603b0b6-6c03-41f6-ba91-907d1ebf5505"
      },
      "execution_count": 87,
      "outputs": [
        {
          "output_type": "stream",
          "name": "stdout",
          "text": [
            "Found 18345 files belonging to 10 classes.\n",
            "Using 14676 files for training.\n",
            "Found 18345 files belonging to 10 classes.\n",
            "Using 3669 files for validation.\n",
            "Found 4585 files belonging to 10 classes.\n",
            "CPU times: user 1.29 s, sys: 542 ms, total: 1.83 s\n",
            "Wall time: 1.47 s\n"
          ]
        }
      ]
    },
    {
      "cell_type": "code",
      "source": [
        "rescale = Rescaling(scale=1./255)\n",
        "train_set  = train_gen.map(lambda image,label:(rescale(image),label))\n",
        "valid_set  = val_gen.map(lambda image,label:(rescale(image),label))\n",
        "test_set  = test_it.map(lambda image,label:(rescale(image),label))"
      ],
      "metadata": {
        "id": "eqXvB4J0b8gH"
      },
      "execution_count": 88,
      "outputs": []
    },
    {
      "cell_type": "code",
      "source": [
        "\n",
        "def define_modelavg():\n",
        "    # load model\n",
        "    model_t_avg = VGG16(include_top=False, input_shape=(128, 128, 3))\n",
        "    # mark loaded layers as not trainable\n",
        "    for layer in model_t_avg.layers:\n",
        "        layer.trainable = False\n",
        "    # add new classifier layers\n",
        "    avgpool1 = tf.keras.layers.GlobalAveragePooling2D()(model_t_avg.layers[-1].output)\n",
        "\n",
        "    class1 = Dense(32, activation='relu', kernel_initializer='he_uniform')(avgpool1)\n",
        "    output = Dense(10, activation='softmax')(class1)\n",
        "    # define new model\n",
        "    model_t_avg = Model(inputs=model_t_avg.inputs, outputs=output)\n",
        "    return model_t_avg"
      ],
      "metadata": {
        "id": "tcVFebOLYKd9"
      },
      "execution_count": 89,
      "outputs": []
    },
    {
      "cell_type": "code",
      "source": [
        "model_t_avg = define_modelavg()\n",
        "model_t_avg.compile(optimizer='adam', loss='categorical_crossentropy', metrics=['accuracy'])\n",
        "model_t_avg.summary()"
      ],
      "metadata": {
        "colab": {
          "base_uri": "https://localhost:8080/"
        },
        "id": "H976ZwJNYRz0",
        "outputId": "7f5d4746-c9de-44c7-8a20-ab8844107130"
      },
      "execution_count": 90,
      "outputs": [
        {
          "output_type": "stream",
          "name": "stdout",
          "text": [
            "Model: \"model_7\"\n",
            "_________________________________________________________________\n",
            " Layer (type)                Output Shape              Param #   \n",
            "=================================================================\n",
            " input_8 (InputLayer)        [(None, 128, 128, 3)]     0         \n",
            "                                                                 \n",
            " block1_conv1 (Conv2D)       (None, 128, 128, 64)      1792      \n",
            "                                                                 \n",
            " block1_conv2 (Conv2D)       (None, 128, 128, 64)      36928     \n",
            "                                                                 \n",
            " block1_pool (MaxPooling2D)  (None, 64, 64, 64)        0         \n",
            "                                                                 \n",
            " block2_conv1 (Conv2D)       (None, 64, 64, 128)       73856     \n",
            "                                                                 \n",
            " block2_conv2 (Conv2D)       (None, 64, 64, 128)       147584    \n",
            "                                                                 \n",
            " block2_pool (MaxPooling2D)  (None, 32, 32, 128)       0         \n",
            "                                                                 \n",
            " block3_conv1 (Conv2D)       (None, 32, 32, 256)       295168    \n",
            "                                                                 \n",
            " block3_conv2 (Conv2D)       (None, 32, 32, 256)       590080    \n",
            "                                                                 \n",
            " block3_conv3 (Conv2D)       (None, 32, 32, 256)       590080    \n",
            "                                                                 \n",
            " block3_pool (MaxPooling2D)  (None, 16, 16, 256)       0         \n",
            "                                                                 \n",
            " block4_conv1 (Conv2D)       (None, 16, 16, 512)       1180160   \n",
            "                                                                 \n",
            " block4_conv2 (Conv2D)       (None, 16, 16, 512)       2359808   \n",
            "                                                                 \n",
            " block4_conv3 (Conv2D)       (None, 16, 16, 512)       2359808   \n",
            "                                                                 \n",
            " block4_pool (MaxPooling2D)  (None, 8, 8, 512)         0         \n",
            "                                                                 \n",
            " block5_conv1 (Conv2D)       (None, 8, 8, 512)         2359808   \n",
            "                                                                 \n",
            " block5_conv2 (Conv2D)       (None, 8, 8, 512)         2359808   \n",
            "                                                                 \n",
            " block5_conv3 (Conv2D)       (None, 8, 8, 512)         2359808   \n",
            "                                                                 \n",
            " block5_pool (MaxPooling2D)  (None, 4, 4, 512)         0         \n",
            "                                                                 \n",
            " global_average_pooling2d_7  (None, 512)               0         \n",
            "  (GlobalAveragePooling2D)                                       \n",
            "                                                                 \n",
            " dense_14 (Dense)            (None, 32)                16416     \n",
            "                                                                 \n",
            " dense_15 (Dense)            (None, 10)                330       \n",
            "                                                                 \n",
            "=================================================================\n",
            "Total params: 14731434 (56.20 MB)\n",
            "Trainable params: 16746 (65.41 KB)\n",
            "Non-trainable params: 14714688 (56.13 MB)\n",
            "_________________________________________________________________\n"
          ]
        }
      ]
    },
    {
      "cell_type": "code",
      "source": [
        "epochsteps=len(train_set);epochs=20;valsteps=len(valid_set);teststeps=len(test_set)\n",
        "# fit model\n",
        "history = model_t_avg.fit(train_set, steps_per_epoch = epochsteps,\n",
        "                    validation_data=valid_set, validation_steps=valsteps, epochs=epochs, verbose=1)\n"
      ],
      "metadata": {
        "colab": {
          "base_uri": "https://localhost:8080/"
        },
        "id": "8Hkhd9W3Yeb6",
        "outputId": "13a628c1-82ff-46cb-f165-6e7fce094668"
      },
      "execution_count": 91,
      "outputs": [
        {
          "output_type": "stream",
          "name": "stdout",
          "text": [
            "Epoch 1/20\n",
            "459/459 [==============================] - 31s 65ms/step - loss: 1.5539 - accuracy: 0.5244 - val_loss: 1.0483 - val_accuracy: 0.7010\n",
            "Epoch 2/20\n",
            "459/459 [==============================] - 27s 59ms/step - loss: 0.9174 - accuracy: 0.7165 - val_loss: 0.7977 - val_accuracy: 0.7533\n",
            "Epoch 3/20\n",
            "459/459 [==============================] - 31s 67ms/step - loss: 0.7464 - accuracy: 0.7574 - val_loss: 0.6973 - val_accuracy: 0.7743\n",
            "Epoch 4/20\n",
            "459/459 [==============================] - 29s 62ms/step - loss: 0.6621 - accuracy: 0.7874 - val_loss: 0.6324 - val_accuracy: 0.7931\n",
            "Epoch 5/20\n",
            "459/459 [==============================] - 27s 59ms/step - loss: 0.6091 - accuracy: 0.8007 - val_loss: 0.5896 - val_accuracy: 0.8062\n",
            "Epoch 6/20\n",
            "459/459 [==============================] - 31s 68ms/step - loss: 0.5683 - accuracy: 0.8149 - val_loss: 0.5645 - val_accuracy: 0.8111\n",
            "Epoch 7/20\n",
            "459/459 [==============================] - 31s 67ms/step - loss: 0.5385 - accuracy: 0.8258 - val_loss: 0.5322 - val_accuracy: 0.8226\n",
            "Epoch 8/20\n",
            "459/459 [==============================] - 31s 66ms/step - loss: 0.5138 - accuracy: 0.8308 - val_loss: 0.5112 - val_accuracy: 0.8324\n",
            "Epoch 9/20\n",
            "459/459 [==============================] - 31s 67ms/step - loss: 0.4941 - accuracy: 0.8369 - val_loss: 0.5031 - val_accuracy: 0.8302\n",
            "Epoch 10/20\n",
            "459/459 [==============================] - 31s 67ms/step - loss: 0.4758 - accuracy: 0.8417 - val_loss: 0.4910 - val_accuracy: 0.8351\n",
            "Epoch 11/20\n",
            "459/459 [==============================] - 26s 55ms/step - loss: 0.4621 - accuracy: 0.8478 - val_loss: 0.4762 - val_accuracy: 0.8384\n",
            "Epoch 12/20\n",
            "459/459 [==============================] - 26s 56ms/step - loss: 0.4460 - accuracy: 0.8521 - val_loss: 0.4644 - val_accuracy: 0.8438\n",
            "Epoch 13/20\n",
            "459/459 [==============================] - 25s 55ms/step - loss: 0.4343 - accuracy: 0.8547 - val_loss: 0.4623 - val_accuracy: 0.8455\n",
            "Epoch 14/20\n",
            "459/459 [==============================] - 26s 55ms/step - loss: 0.4268 - accuracy: 0.8585 - val_loss: 0.4513 - val_accuracy: 0.8506\n",
            "Epoch 15/20\n",
            "459/459 [==============================] - 31s 68ms/step - loss: 0.4166 - accuracy: 0.8611 - val_loss: 0.4551 - val_accuracy: 0.8425\n",
            "Epoch 16/20\n",
            "459/459 [==============================] - 25s 55ms/step - loss: 0.4080 - accuracy: 0.8643 - val_loss: 0.4687 - val_accuracy: 0.8430\n",
            "Epoch 17/20\n",
            "459/459 [==============================] - 31s 68ms/step - loss: 0.3979 - accuracy: 0.8659 - val_loss: 0.4640 - val_accuracy: 0.8438\n",
            "Epoch 18/20\n",
            "459/459 [==============================] - 25s 55ms/step - loss: 0.3920 - accuracy: 0.8685 - val_loss: 0.4348 - val_accuracy: 0.8515\n",
            "Epoch 19/20\n",
            "459/459 [==============================] - 25s 55ms/step - loss: 0.3824 - accuracy: 0.8718 - val_loss: 0.4321 - val_accuracy: 0.8550\n",
            "Epoch 20/20\n",
            "459/459 [==============================] - 25s 55ms/step - loss: 0.3797 - accuracy: 0.8729 - val_loss: 0.4310 - val_accuracy: 0.8536\n"
          ]
        }
      ]
    },
    {
      "cell_type": "code",
      "source": [
        "plt.plot(history.history['val_loss'], color = 'orange')\n",
        "plt.plot(history.history['loss'], color='red')\n",
        "# plt.plot(history.history['accuracy'], color = 'green')\n",
        "# plt.plot(history.history['val_accuracy'], color = 'blue')\n",
        "plt.legend(['Val_loss','Train_loss'],fontsize=12)\n",
        "e=range(0,20)\n",
        "labels=range(1,21)\n",
        "plt.xlabel(\"Epochs\",fontsize=12)\n",
        "plt.ylabel(\"Loss\",fontsize=12)\n",
        "plt.xticks(e,labels,fontsize=10)\n",
        "plt.yticks(fontsize = 10)\n",
        "plt.show()"
      ],
      "metadata": {
        "colab": {
          "base_uri": "https://localhost:8080/",
          "height": 453
        },
        "id": "pqqWIteVcU7t",
        "outputId": "ac443ad5-5e5b-4cf8-c478-b015b4b557d7"
      },
      "execution_count": 92,
      "outputs": [
        {
          "output_type": "display_data",
          "data": {
            "text/plain": [
              "<Figure size 640x480 with 1 Axes>"
            ],
            "image/png": "[encoded data removed]"
          },
          "metadata": {}
        }
      ]
    },
    {
      "cell_type": "code",
      "source": [
        "labels = []\n",
        "predictions = []\n",
        "for x,y in test_set:\n",
        "    labels.append(list(y.numpy()))\n",
        "    predictions.append(tf.argmax(model_t_avg.predict(x),1).numpy())"
      ],
      "metadata": {
        "colab": {
          "base_uri": "https://localhost:8080/"
        },
        "id": "3p1FwLEScaNA",
        "outputId": "80d781dd-029e-4c3c-cfae-0f11e2a8b87a"
      },
      "execution_count": 93,
      "outputs": [
        {
          "output_type": "stream",
          "name": "stdout",
          "text": [
            "1/1 [==============================] - 0s 152ms/step\n",
            "1/1 [==============================] - 0s 20ms/step\n",
            "1/1 [==============================] - 0s 23ms/step\n",
            "1/1 [==============================] - 0s 20ms/step\n",
            "1/1 [==============================] - 0s 26ms/step\n",
            "1/1 [==============================] - 0s 21ms/step\n",
            "1/1 [==============================] - 0s 19ms/step\n",
            "1/1 [==============================] - 0s 22ms/step\n",
            "1/1 [==============================] - 0s 22ms/step\n",
            "1/1 [==============================] - 0s 20ms/step\n",
            "1/1 [==============================] - 0s 22ms/step\n",
            "1/1 [==============================] - 0s 22ms/step\n",
            "1/1 [==============================] - 0s 19ms/step\n",
            "1/1 [==============================] - 0s 21ms/step\n",
            "1/1 [==============================] - 0s 22ms/step\n",
            "1/1 [==============================] - 0s 21ms/step\n",
            "1/1 [==============================] - 0s 25ms/step\n",
            "1/1 [==============================] - 0s 20ms/step\n",
            "1/1 [==============================] - 0s 21ms/step\n",
            "1/1 [==============================] - 0s 22ms/step\n",
            "1/1 [==============================] - 0s 22ms/step\n",
            "1/1 [==============================] - 0s 20ms/step\n",
            "1/1 [==============================] - 0s 23ms/step\n",
            "1/1 [==============================] - 0s 21ms/step\n",
            "1/1 [==============================] - 0s 22ms/step\n",
            "1/1 [==============================] - 0s 22ms/step\n",
            "1/1 [==============================] - 0s 22ms/step\n",
            "1/1 [==============================] - 0s 21ms/step\n",
            "1/1 [==============================] - 0s 26ms/step\n",
            "1/1 [==============================] - 0s 21ms/step\n",
            "1/1 [==============================] - 0s 20ms/step\n",
            "1/1 [==============================] - 0s 21ms/step\n",
            "1/1 [==============================] - 0s 21ms/step\n",
            "1/1 [==============================] - 0s 20ms/step\n",
            "1/1 [==============================] - 0s 22ms/step\n",
            "1/1 [==============================] - 0s 20ms/step\n",
            "1/1 [==============================] - 0s 19ms/step\n",
            "1/1 [==============================] - 0s 20ms/step\n",
            "1/1 [==============================] - 0s 19ms/step\n",
            "1/1 [==============================] - 0s 22ms/step\n",
            "1/1 [==============================] - 0s 19ms/step\n",
            "1/1 [==============================] - 0s 19ms/step\n",
            "1/1 [==============================] - 0s 20ms/step\n",
            "1/1 [==============================] - 0s 24ms/step\n",
            "1/1 [==============================] - 0s 25ms/step\n",
            "1/1 [==============================] - 0s 22ms/step\n",
            "1/1 [==============================] - 0s 19ms/step\n",
            "1/1 [==============================] - 0s 24ms/step\n",
            "1/1 [==============================] - 0s 20ms/step\n",
            "1/1 [==============================] - 0s 21ms/step\n",
            "1/1 [==============================] - 0s 23ms/step\n",
            "1/1 [==============================] - 0s 19ms/step\n",
            "1/1 [==============================] - 0s 24ms/step\n",
            "1/1 [==============================] - 0s 22ms/step\n",
            "1/1 [==============================] - 0s 27ms/step\n",
            "1/1 [==============================] - 0s 19ms/step\n",
            "1/1 [==============================] - 0s 19ms/step\n",
            "1/1 [==============================] - 0s 19ms/step\n",
            "1/1 [==============================] - 0s 19ms/step\n",
            "1/1 [==============================] - 0s 21ms/step\n",
            "1/1 [==============================] - 0s 21ms/step\n",
            "1/1 [==============================] - 0s 19ms/step\n",
            "1/1 [==============================] - 0s 19ms/step\n",
            "1/1 [==============================] - 0s 22ms/step\n",
            "1/1 [==============================] - 0s 21ms/step\n",
            "1/1 [==============================] - 0s 23ms/step\n",
            "1/1 [==============================] - 0s 20ms/step\n",
            "1/1 [==============================] - 0s 20ms/step\n",
            "1/1 [==============================] - 0s 21ms/step\n",
            "1/1 [==============================] - 0s 20ms/step\n",
            "1/1 [==============================] - 0s 19ms/step\n",
            "1/1 [==============================] - 0s 20ms/step\n",
            "1/1 [==============================] - 0s 20ms/step\n",
            "1/1 [==============================] - 0s 23ms/step\n",
            "1/1 [==============================] - 0s 20ms/step\n",
            "1/1 [==============================] - 0s 25ms/step\n",
            "1/1 [==============================] - 0s 19ms/step\n",
            "1/1 [==============================] - 0s 20ms/step\n",
            "1/1 [==============================] - 0s 20ms/step\n",
            "1/1 [==============================] - 0s 20ms/step\n",
            "1/1 [==============================] - 0s 19ms/step\n",
            "1/1 [==============================] - 0s 22ms/step\n",
            "1/1 [==============================] - 0s 19ms/step\n",
            "1/1 [==============================] - 0s 34ms/step\n",
            "1/1 [==============================] - 0s 34ms/step\n",
            "1/1 [==============================] - 0s 32ms/step\n",
            "1/1 [==============================] - 0s 27ms/step\n",
            "1/1 [==============================] - 0s 28ms/step\n",
            "1/1 [==============================] - 0s 32ms/step\n",
            "1/1 [==============================] - 0s 28ms/step\n",
            "1/1 [==============================] - 0s 37ms/step\n",
            "1/1 [==============================] - 0s 27ms/step\n",
            "1/1 [==============================] - 0s 31ms/step\n",
            "1/1 [==============================] - 0s 33ms/step\n",
            "1/1 [==============================] - 0s 30ms/step\n",
            "1/1 [==============================] - 0s 27ms/step\n",
            "1/1 [==============================] - 0s 30ms/step\n",
            "1/1 [==============================] - 0s 36ms/step\n",
            "1/1 [==============================] - 0s 31ms/step\n",
            "1/1 [==============================] - 0s 27ms/step\n",
            "1/1 [==============================] - 0s 20ms/step\n",
            "1/1 [==============================] - 0s 20ms/step\n",
            "1/1 [==============================] - 0s 22ms/step\n",
            "1/1 [==============================] - 0s 34ms/step\n",
            "1/1 [==============================] - 0s 24ms/step\n",
            "1/1 [==============================] - 0s 26ms/step\n",
            "1/1 [==============================] - 0s 25ms/step\n",
            "1/1 [==============================] - 0s 26ms/step\n",
            "1/1 [==============================] - 0s 26ms/step\n",
            "1/1 [==============================] - 0s 28ms/step\n",
            "1/1 [==============================] - 0s 25ms/step\n",
            "1/1 [==============================] - 0s 27ms/step\n",
            "1/1 [==============================] - 0s 23ms/step\n",
            "1/1 [==============================] - 0s 23ms/step\n",
            "1/1 [==============================] - 0s 25ms/step\n",
            "1/1 [==============================] - 0s 23ms/step\n",
            "1/1 [==============================] - 0s 26ms/step\n",
            "1/1 [==============================] - 0s 27ms/step\n",
            "1/1 [==============================] - 0s 22ms/step\n",
            "1/1 [==============================] - 0s 25ms/step\n",
            "1/1 [==============================] - 0s 21ms/step\n",
            "1/1 [==============================] - 0s 22ms/step\n",
            "1/1 [==============================] - 0s 22ms/step\n",
            "1/1 [==============================] - 0s 23ms/step\n",
            "1/1 [==============================] - 0s 29ms/step\n",
            "1/1 [==============================] - 0s 22ms/step\n",
            "1/1 [==============================] - 0s 21ms/step\n",
            "1/1 [==============================] - 0s 21ms/step\n",
            "1/1 [==============================] - 0s 23ms/step\n",
            "1/1 [==============================] - 0s 20ms/step\n",
            "1/1 [==============================] - 0s 20ms/step\n",
            "1/1 [==============================] - 0s 27ms/step\n",
            "1/1 [==============================] - 0s 23ms/step\n",
            "1/1 [==============================] - 0s 24ms/step\n",
            "1/1 [==============================] - 0s 22ms/step\n",
            "1/1 [==============================] - 0s 22ms/step\n",
            "1/1 [==============================] - 0s 23ms/step\n",
            "1/1 [==============================] - 0s 19ms/step\n",
            "1/1 [==============================] - 0s 25ms/step\n",
            "1/1 [==============================] - 0s 20ms/step\n",
            "1/1 [==============================] - 0s 22ms/step\n",
            "1/1 [==============================] - 0s 23ms/step\n",
            "1/1 [==============================] - 0s 21ms/step\n",
            "1/1 [==============================] - 0s 138ms/step\n"
          ]
        }
      ]
    },
    {
      "cell_type": "code",
      "source": [
        "predictions = list(itertools.chain.from_iterable(predictions))\n",
        "labels = list(itertools.chain.from_iterable(labels))"
      ],
      "metadata": {
        "id": "59lg9U0RccY9"
      },
      "execution_count": 94,
      "outputs": []
    },
    {
      "cell_type": "code",
      "source": [
        "print(\"Train Accuracy  : {:.2f} %\".format(history.history['accuracy'][-1]*100))\n",
        "print(\"Test Accuracy   : {:.2f} %\".format(accuracy_score(labels, predictions) * 100))\n",
        "print(\"Precision Score : {:.2f} %\".format(precision_score(labels, predictions, average='macro') * 100))\n",
        "print(\"Recall Score    : {:.2f} %\".format(recall_score(labels, predictions, average='macro') * 100))\n",
        "print(\"F1 Score        : {:.2f} %\".format(f1_score(labels, predictions, average='macro') * 100))"
      ],
      "metadata": {
        "colab": {
          "base_uri": "https://localhost:8080/"
        },
        "id": "-1se99GgcfTG",
        "outputId": "53ecf3ec-745a-4f23-ce34-f1f6a30c1ea5"
      },
      "execution_count": 95,
      "outputs": [
        {
          "output_type": "stream",
          "name": "stdout",
          "text": [
            "Train Accuracy  : 87.29 %\n",
            "Test Accuracy   : 84.43 %\n",
            "Precision Score : 84.45 %\n",
            "Recall Score    : 84.52 %\n",
            "F1 Score        : 84.31 %\n"
          ]
        }
      ]
    },
    {
      "cell_type": "code",
      "source": [
        "# Plot a confusion matrix based on the true labels and predicted labels\n",
        "plt.figure(figsize= (2,2))\n",
        "cm = confusion_matrix(labels, predictions)\n",
        "plt.rcParams.update({'font.size': 20})\n",
        "disp = ConfusionMatrixDisplay(confusion_matrix=cm, display_labels=list(range(1,11)))\n",
        "fig, ax = plt.subplots(figsize=(10,10))\n",
        "disp.plot(ax=ax,colorbar= False,cmap = 'YlGnBu')\n",
        "# plt.title(\"Confusion Matrix\")\n",
        "plt.xlabel('Predicted Labels',fontsize=15)\n",
        "plt.ylabel('True Labels',fontsize=15)\n",
        "plt.show()"
      ],
      "metadata": {
        "colab": {
          "base_uri": "https://localhost:8080/",
          "height": 887
        },
        "id": "O8SOcccgchih",
        "outputId": "819630b2-0ade-4b23-fd3a-a2dad08f9b74"
      },
      "execution_count": 96,
      "outputs": [
        {
          "output_type": "display_data",
          "data": {
            "text/plain": [
              "<Figure size 200x200 with 0 Axes>"
            ]
          },
          "metadata": {}
        },
        {
          "output_type": "display_data",
          "data": {
            "text/plain": [
              "<Figure size 1000x1000 with 1 Axes>"
            ],
            "image/png": "[encoded data removed]"
          },
          "metadata": {}
        }
      ]
    },
    {
      "cell_type": "markdown",
      "source": [
        "# **Potato**"
      ],
      "metadata": {
        "id": "YrZu1tHrJ7AA"
      }
    },
    {
      "cell_type": "code",
      "source": [
        "data_dir = r\"/tmp/DS MINI PROJECT DATASET(BALANCEDANDIMBALANCED)\"\n",
        "train_potato_dir = data_dir + \"/Training/Potato\"\n",
        "test_potato_dir = data_dir + \"/Testing/Potato\"\n"
      ],
      "metadata": {
        "id": "HTWUGdClKE23"
      },
      "execution_count": 97,
      "outputs": []
    },
    {
      "cell_type": "code",
      "source": [
        "%%time\n",
        "seed_train_validation = 1 # Must be same for train_ds and val_ds\n",
        "shuffle_value = True\n",
        "validation_split = 0.2\n",
        "\n",
        "train_gen = tf.keras.utils.image_dataset_from_directory(\n",
        "                                                        directory = train_potato_dir,\n",
        "                                                        image_size = (128, 128),\n",
        "                                                        label_mode='categorical',\n",
        "                                                        validation_split = validation_split,\n",
        "                                                        batch_size=32,\n",
        "                                                        subset = \"training\",\n",
        "                                                        seed = seed_train_validation,\n",
        "                                                        shuffle = shuffle_value)\n",
        "\n",
        "val_gen = tf.keras.utils.image_dataset_from_directory(\n",
        "                                                        directory = train_potato_dir,\n",
        "                                                        image_size = (128, 128),\n",
        "                                                        validation_split = validation_split,\n",
        "                                                        label_mode='categorical',\n",
        "                                                        batch_size=32,\n",
        "                                                        subset = \"validation\",\n",
        "                                                        seed = seed_train_validation,\n",
        "                                                        shuffle = shuffle_value)\n",
        "\n",
        "test_it = tf.keras.utils.image_dataset_from_directory( directory= test_potato_dir,\n",
        "                                                      batch_size=32,\n",
        "                                                      image_size=(128, 128))"
      ],
      "metadata": {
        "colab": {
          "base_uri": "https://localhost:8080/"
        },
        "id": "G8tCoIxGLMDF",
        "outputId": "d27ed321-d658-4eb8-a45d-c032d2bad9dc"
      },
      "execution_count": 98,
      "outputs": [
        {
          "output_type": "stream",
          "name": "stdout",
          "text": [
            "Found 5702 files belonging to 3 classes.\n",
            "Using 4562 files for training.\n",
            "Found 5702 files belonging to 3 classes.\n",
            "Using 1140 files for validation.\n",
            "Found 1426 files belonging to 3 classes.\n",
            "CPU times: user 469 ms, sys: 134 ms, total: 603 ms\n",
            "Wall time: 519 ms\n"
          ]
        }
      ]
    },
    {
      "cell_type": "code",
      "source": [
        "rescale = Rescaling(scale=1./255)\n",
        "train_set  = train_gen.map(lambda image,label:(rescale(image),label))\n",
        "valid_set  = val_gen.map(lambda image,label:(rescale(image),label))\n",
        "test_set  = test_it.map(lambda image,label:(rescale(image),label))"
      ],
      "metadata": {
        "id": "eBp9l63rc4hu"
      },
      "execution_count": 99,
      "outputs": []
    },
    {
      "cell_type": "code",
      "source": [
        "#from keras.layers.pooling.global_average_pooling2d import GlobalAveragePooling2D\n",
        "def define_modelavg():\n",
        "    # load model\n",
        "    model_potato_avg = VGG16(include_top=False, input_shape=(128, 128, 3))\n",
        "    # mark loaded layers as not trainable\n",
        "    for layer in model_potato_avg.layers:\n",
        "        layer.trainable = False\n",
        "    # add new classifier layers\n",
        "    avgpool1 = tf.keras.layers.GlobalAveragePooling2D()(model_potato_avg.layers[-1].output)\n",
        "\n",
        "    class1 = Dense(10, activation='relu', kernel_initializer='he_uniform')(avgpool1)\n",
        "    output = Dense(3, activation='softmax')(class1)\n",
        "    # define new model\n",
        "    model_potato_avg = Model(inputs=model_potato_avg.inputs, outputs=output)\n",
        "    return model_potato_avg\n"
      ],
      "metadata": {
        "id": "Z1JyzijbP1qi"
      },
      "execution_count": 100,
      "outputs": []
    },
    {
      "cell_type": "code",
      "source": [
        "model_potato_avg = define_modelavg()\n",
        "model_potato_avg.compile(optimizer='adam', loss='categorical_crossentropy', metrics=['accuracy'])\n",
        "model_potato_avg.summary()"
      ],
      "metadata": {
        "colab": {
          "base_uri": "https://localhost:8080/"
        },
        "id": "C-4h0QnAQYie",
        "outputId": "e078d200-6a9b-4d7b-ab2c-8724f971169f"
      },
      "execution_count": 101,
      "outputs": [
        {
          "output_type": "stream",
          "name": "stdout",
          "text": [
            "Model: \"model_8\"\n",
            "_________________________________________________________________\n",
            " Layer (type)                Output Shape              Param #   \n",
            "=================================================================\n",
            " input_9 (InputLayer)        [(None, 128, 128, 3)]     0         \n",
            "                                                                 \n",
            " block1_conv1 (Conv2D)       (None, 128, 128, 64)      1792      \n",
            "                                                                 \n",
            " block1_conv2 (Conv2D)       (None, 128, 128, 64)      36928     \n",
            "                                                                 \n",
            " block1_pool (MaxPooling2D)  (None, 64, 64, 64)        0         \n",
            "                                                                 \n",
            " block2_conv1 (Conv2D)       (None, 64, 64, 128)       73856     \n",
            "                                                                 \n",
            " block2_conv2 (Conv2D)       (None, 64, 64, 128)       147584    \n",
            "                                                                 \n",
            " block2_pool (MaxPooling2D)  (None, 32, 32, 128)       0         \n",
            "                                                                 \n",
            " block3_conv1 (Conv2D)       (None, 32, 32, 256)       295168    \n",
            "                                                                 \n",
            " block3_conv2 (Conv2D)       (None, 32, 32, 256)       590080    \n",
            "                                                                 \n",
            " block3_conv3 (Conv2D)       (None, 32, 32, 256)       590080    \n",
            "                                                                 \n",
            " block3_pool (MaxPooling2D)  (None, 16, 16, 256)       0         \n",
            "                                                                 \n",
            " block4_conv1 (Conv2D)       (None, 16, 16, 512)       1180160   \n",
            "                                                                 \n",
            " block4_conv2 (Conv2D)       (None, 16, 16, 512)       2359808   \n",
            "                                                                 \n",
            " block4_conv3 (Conv2D)       (None, 16, 16, 512)       2359808   \n",
            "                                                                 \n",
            " block4_pool (MaxPooling2D)  (None, 8, 8, 512)         0         \n",
            "                                                                 \n",
            " block5_conv1 (Conv2D)       (None, 8, 8, 512)         2359808   \n",
            "                                                                 \n",
            " block5_conv2 (Conv2D)       (None, 8, 8, 512)         2359808   \n",
            "                                                                 \n",
            " block5_conv3 (Conv2D)       (None, 8, 8, 512)         2359808   \n",
            "                                                                 \n",
            " block5_pool (MaxPooling2D)  (None, 4, 4, 512)         0         \n",
            "                                                                 \n",
            " global_average_pooling2d_8  (None, 512)               0         \n",
            "  (GlobalAveragePooling2D)                                       \n",
            "                                                                 \n",
            " dense_16 (Dense)            (None, 10)                5130      \n",
            "                                                                 \n",
            " dense_17 (Dense)            (None, 3)                 33        \n",
            "                                                                 \n",
            "=================================================================\n",
            "Total params: 14719851 (56.15 MB)\n",
            "Trainable params: 5163 (20.17 KB)\n",
            "Non-trainable params: 14714688 (56.13 MB)\n",
            "_________________________________________________________________\n"
          ]
        }
      ]
    },
    {
      "cell_type": "code",
      "source": [
        "epochsteps=len(train_set);epochs =20;valsteps=len(valid_set);teststeps=len(test_set)\n",
        "# fit model\n",
        "history = model_potato_avg.fit(train_set, steps_per_epoch=epochsteps,\n",
        "                    validation_data=valid_set, validation_steps=valsteps, epochs=epochs, verbose=1)\n"
      ],
      "metadata": {
        "colab": {
          "base_uri": "https://localhost:8080/"
        },
        "id": "Szwg9uYGQgsp",
        "outputId": "ccf39000-b634-43dc-ee97-8767fb8118fa"
      },
      "execution_count": 102,
      "outputs": [
        {
          "output_type": "stream",
          "name": "stdout",
          "text": [
            "Epoch 1/20\n",
            "143/143 [==============================] - 10s 59ms/step - loss: 0.9111 - accuracy: 0.6394 - val_loss: 0.7193 - val_accuracy: 0.8044\n",
            "Epoch 2/20\n",
            "143/143 [==============================] - 9s 64ms/step - loss: 0.5696 - accuracy: 0.8582 - val_loss: 0.4749 - val_accuracy: 0.8684\n",
            "Epoch 3/20\n",
            "143/143 [==============================] - 9s 58ms/step - loss: 0.4063 - accuracy: 0.8880 - val_loss: 0.3683 - val_accuracy: 0.8939\n",
            "Epoch 4/20\n",
            "143/143 [==============================] - 8s 57ms/step - loss: 0.3255 - accuracy: 0.9099 - val_loss: 0.3109 - val_accuracy: 0.9035\n",
            "Epoch 5/20\n",
            "143/143 [==============================] - 9s 63ms/step - loss: 0.2817 - accuracy: 0.9171 - val_loss: 0.2763 - val_accuracy: 0.9061\n",
            "Epoch 6/20\n",
            "143/143 [==============================] - 9s 61ms/step - loss: 0.2526 - accuracy: 0.9215 - val_loss: 0.2550 - val_accuracy: 0.9167\n",
            "Epoch 7/20\n",
            "143/143 [==============================] - 8s 54ms/step - loss: 0.2299 - accuracy: 0.9263 - val_loss: 0.2337 - val_accuracy: 0.9202\n",
            "Epoch 8/20\n",
            "143/143 [==============================] - 8s 56ms/step - loss: 0.2136 - accuracy: 0.9279 - val_loss: 0.2202 - val_accuracy: 0.9211\n",
            "Epoch 9/20\n",
            "143/143 [==============================] - 9s 61ms/step - loss: 0.2014 - accuracy: 0.9340 - val_loss: 0.2115 - val_accuracy: 0.9263\n",
            "Epoch 10/20\n",
            "143/143 [==============================] - 9s 62ms/step - loss: 0.1899 - accuracy: 0.9369 - val_loss: 0.1994 - val_accuracy: 0.9254\n",
            "Epoch 11/20\n",
            "143/143 [==============================] - 9s 63ms/step - loss: 0.1804 - accuracy: 0.9413 - val_loss: 0.1915 - val_accuracy: 0.9307\n",
            "Epoch 12/20\n",
            "143/143 [==============================] - 9s 63ms/step - loss: 0.1729 - accuracy: 0.9410 - val_loss: 0.1949 - val_accuracy: 0.9342\n",
            "Epoch 13/20\n",
            "143/143 [==============================] - 8s 57ms/step - loss: 0.1677 - accuracy: 0.9437 - val_loss: 0.1836 - val_accuracy: 0.9342\n",
            "Epoch 14/20\n",
            "143/143 [==============================] - 9s 62ms/step - loss: 0.1609 - accuracy: 0.9448 - val_loss: 0.1745 - val_accuracy: 0.9342\n",
            "Epoch 15/20\n",
            "143/143 [==============================] - 8s 55ms/step - loss: 0.1542 - accuracy: 0.9456 - val_loss: 0.1736 - val_accuracy: 0.9386\n",
            "Epoch 16/20\n",
            "143/143 [==============================] - 9s 62ms/step - loss: 0.1491 - accuracy: 0.9498 - val_loss: 0.1673 - val_accuracy: 0.9412\n",
            "Epoch 17/20\n",
            "143/143 [==============================] - 9s 62ms/step - loss: 0.1433 - accuracy: 0.9500 - val_loss: 0.1637 - val_accuracy: 0.9412\n",
            "Epoch 18/20\n",
            "143/143 [==============================] - 9s 62ms/step - loss: 0.1401 - accuracy: 0.9502 - val_loss: 0.1631 - val_accuracy: 0.9430\n",
            "Epoch 19/20\n",
            "143/143 [==============================] - 8s 56ms/step - loss: 0.1363 - accuracy: 0.9531 - val_loss: 0.1612 - val_accuracy: 0.9386\n",
            "Epoch 20/20\n",
            "143/143 [==============================] - 9s 63ms/step - loss: 0.1318 - accuracy: 0.9555 - val_loss: 0.1594 - val_accuracy: 0.9421\n"
          ]
        }
      ]
    },
    {
      "cell_type": "code",
      "source": [
        "plt.plot(history.history['val_loss'], color = 'orange')\n",
        "plt.plot(history.history['loss'], color='red')\n",
        "# plt.plot(history.history['accuracy'], color = 'green')\n",
        "# plt.plot(history.history['val_accuracy'], color = 'blue')\n",
        "plt.legend(['Val_loss','Train_loss'],fontsize=12)\n",
        "e=range(0,20)\n",
        "labels=range(1,21)\n",
        "plt.xlabel(\"Epochs\",fontsize=12)\n",
        "plt.ylabel(\"Loss\",fontsize=12)\n",
        "plt.xticks(e,labels,fontsize=10)\n",
        "plt.yticks(fontsize=10)\n",
        "plt.show()"
      ],
      "metadata": {
        "colab": {
          "base_uri": "https://localhost:8080/",
          "height": 453
        },
        "id": "dMU53G2rdWi2",
        "outputId": "d0e78277-c180-4433-b832-50cad3503254"
      },
      "execution_count": 103,
      "outputs": [
        {
          "output_type": "display_data",
          "data": {
            "text/plain": [
              "<Figure size 640x480 with 1 Axes>"
            ],
            "image/png": "[encoded data removed]"
          },
          "metadata": {}
        }
      ]
    },
    {
      "cell_type": "code",
      "source": [
        "labels = []\n",
        "predictions = []\n",
        "for x,y in test_set:\n",
        "    labels.append(list(y.numpy()))\n",
        "    predictions.append(tf.argmax(model_potato_avg.predict(x),1).numpy())"
      ],
      "metadata": {
        "colab": {
          "base_uri": "https://localhost:8080/"
        },
        "id": "ut95ANCldZWk",
        "outputId": "6802eb16-1aeb-4f22-d425-2e1df7675ed4"
      },
      "execution_count": 104,
      "outputs": [
        {
          "output_type": "stream",
          "name": "stdout",
          "text": [
            "1/1 [==============================] - 0s 169ms/step\n",
            "1/1 [==============================] - 0s 22ms/step\n",
            "1/1 [==============================] - 0s 20ms/step\n",
            "1/1 [==============================] - 0s 20ms/step\n",
            "1/1 [==============================] - 0s 20ms/step\n",
            "1/1 [==============================] - 0s 19ms/step\n",
            "1/1 [==============================] - 0s 21ms/step\n",
            "1/1 [==============================] - 0s 19ms/step\n",
            "1/1 [==============================] - 0s 19ms/step\n",
            "1/1 [==============================] - 0s 19ms/step\n",
            "1/1 [==============================] - 0s 24ms/step\n",
            "1/1 [==============================] - 0s 21ms/step\n",
            "1/1 [==============================] - 0s 21ms/step\n",
            "1/1 [==============================] - 0s 20ms/step\n",
            "1/1 [==============================] - 0s 20ms/step\n",
            "1/1 [==============================] - 0s 21ms/step\n",
            "1/1 [==============================] - 0s 23ms/step\n",
            "1/1 [==============================] - 0s 20ms/step\n",
            "1/1 [==============================] - 0s 27ms/step\n",
            "1/1 [==============================] - 0s 24ms/step\n",
            "1/1 [==============================] - 0s 22ms/step\n",
            "1/1 [==============================] - 0s 26ms/step\n",
            "1/1 [==============================] - 0s 21ms/step\n",
            "1/1 [==============================] - 0s 21ms/step\n",
            "1/1 [==============================] - 0s 21ms/step\n",
            "1/1 [==============================] - 0s 22ms/step\n",
            "1/1 [==============================] - 0s 20ms/step\n",
            "1/1 [==============================] - 0s 20ms/step\n",
            "1/1 [==============================] - 0s 22ms/step\n",
            "1/1 [==============================] - 0s 20ms/step\n",
            "1/1 [==============================] - 0s 24ms/step\n",
            "1/1 [==============================] - 0s 35ms/step\n",
            "1/1 [==============================] - 0s 41ms/step\n",
            "1/1 [==============================] - 0s 27ms/step\n",
            "1/1 [==============================] - 0s 29ms/step\n",
            "1/1 [==============================] - 0s 27ms/step\n",
            "1/1 [==============================] - 0s 27ms/step\n",
            "1/1 [==============================] - 0s 32ms/step\n",
            "1/1 [==============================] - 0s 34ms/step\n",
            "1/1 [==============================] - 0s 35ms/step\n",
            "1/1 [==============================] - 0s 42ms/step\n",
            "1/1 [==============================] - 0s 34ms/step\n",
            "1/1 [==============================] - 0s 28ms/step\n",
            "1/1 [==============================] - 0s 30ms/step\n",
            "1/1 [==============================] - 0s 212ms/step\n"
          ]
        }
      ]
    },
    {
      "cell_type": "code",
      "source": [
        "predictions = list(itertools.chain.from_iterable(predictions))\n",
        "labels = list(itertools.chain.from_iterable(labels))"
      ],
      "metadata": {
        "id": "EEDt8AwpdfJZ"
      },
      "execution_count": 105,
      "outputs": []
    },
    {
      "cell_type": "code",
      "source": [
        "print(\"Train Accuracy  : {:.2f} %\".format(history.history['accuracy'][-1]*100))\n",
        "print(\"Test Accuracy   : {:.2f} %\".format(accuracy_score(labels, predictions) * 100))\n",
        "print(\"Precision Score : {:.2f} %\".format(precision_score(labels, predictions, average='macro') * 100))\n",
        "print(\"Recall Score    : {:.2f} %\".format(recall_score(labels, predictions, average='macro') * 100))\n",
        "print(\"F1 Score        : {:.2f} %\".format(f1_score(labels, predictions, average='macro') * 100))"
      ],
      "metadata": {
        "colab": {
          "base_uri": "https://localhost:8080/"
        },
        "id": "tpgU5v89djmj",
        "outputId": "c38a48ec-7db8-4bbc-82b0-53275f8de485"
      },
      "execution_count": 106,
      "outputs": [
        {
          "output_type": "stream",
          "name": "stdout",
          "text": [
            "Train Accuracy  : 95.55 %\n",
            "Test Accuracy   : 95.16 %\n",
            "Precision Score : 95.14 %\n",
            "Recall Score    : 95.20 %\n",
            "F1 Score        : 95.15 %\n"
          ]
        }
      ]
    },
    {
      "cell_type": "code",
      "source": [
        "# Plot a confusion matrix based on the true labels and predicted labels\n",
        "plt.figure(figsize= (2,2))\n",
        "cm = confusion_matrix(labels, predictions)\n",
        "plt.rcParams.update({'font.size': 20})\n",
        "disp = ConfusionMatrixDisplay(confusion_matrix=cm, display_labels=list(range(1,4)))\n",
        "fig, ax = plt.subplots(figsize=(10,10))\n",
        "disp.plot(ax=ax,colorbar= False,cmap = 'YlGnBu')\n",
        "# plt.title(\"Confusion Matrix\")\n",
        "plt.xlabel('Predicted Labels',fontsize=15)\n",
        "plt.ylabel('True Labels',fontsize=15)\n",
        "plt.show()"
      ],
      "metadata": {
        "colab": {
          "base_uri": "https://localhost:8080/",
          "height": 887
        },
        "id": "kB4Kj0TPdl-2",
        "outputId": "75824071-b68c-4253-bd29-1ffb12c957bc"
      },
      "execution_count": 107,
      "outputs": [
        {
          "output_type": "display_data",
          "data": {
            "text/plain": [
              "<Figure size 200x200 with 0 Axes>"
            ]
          },
          "metadata": {}
        },
        {
          "output_type": "display_data",
          "data": {
            "text/plain": [
              "<Figure size 1000x1000 with 1 Axes>"
            ],
            "image/png": "[encoded data removed]"
          },
          "metadata": {}
        }
      ]
    },
    {
      "cell_type": "markdown",
      "source": [
        "#**Apple**"
      ],
      "metadata": {
        "id": "rL6Hk1X_WfSd"
      }
    },
    {
      "cell_type": "code",
      "source": [
        "data_dir = r\"/tmp/DS MINI PROJECT DATASET(BALANCEDANDIMBALANCED)\"\n",
        "\n",
        "train_apple_dir = data_dir + \"/Training/Apple\"\n",
        "test_apple_dir = data_dir + \"/Testing/Apple\""
      ],
      "metadata": {
        "id": "i1HNv0GhYLlb"
      },
      "execution_count": 108,
      "outputs": []
    },
    {
      "cell_type": "code",
      "source": [
        "seed_train_validation = 1 # Must be same for train_ds and val_ds\n",
        "shuffle_value = True\n",
        "validation_split = 0.2\n",
        "\n",
        "train_gen = tf.keras.utils.image_dataset_from_directory(\n",
        "                                                        directory = train_apple_dir,\n",
        "                                                        image_size = (128, 128),\n",
        "                                                        label_mode='categorical',\n",
        "                                                        validation_split = validation_split,\n",
        "                                                        batch_size=32,\n",
        "                                                        subset = \"training\",\n",
        "                                                        seed = seed_train_validation,\n",
        "                                                        shuffle = shuffle_value)\n",
        "\n",
        "val_gen = tf.keras.utils.image_dataset_from_directory(\n",
        "                                                        directory = train_apple_dir,\n",
        "                                                        image_size = (128, 128),\n",
        "                                                        validation_split = validation_split,\n",
        "                                                        label_mode='categorical',\n",
        "                                                        batch_size=32,\n",
        "                                                        subset = \"validation\",\n",
        "                                                        seed = seed_train_validation,\n",
        "                                                        shuffle = shuffle_value)\n",
        "\n",
        "test_it = tf.keras.utils.image_dataset_from_directory( directory= test_apple_dir,\n",
        "                                                      batch_size=32,\n",
        "                                                      image_size=(128, 128))"
      ],
      "metadata": {
        "colab": {
          "base_uri": "https://localhost:8080/"
        },
        "outputId": "9e085548-b7b5-4511-963c-71c12416afc6",
        "id": "b_ep0RyWYLl7"
      },
      "execution_count": 109,
      "outputs": [
        {
          "output_type": "stream",
          "name": "stdout",
          "text": [
            "Found 7771 files belonging to 4 classes.\n",
            "Using 6217 files for training.\n",
            "Found 7771 files belonging to 4 classes.\n",
            "Using 1554 files for validation.\n",
            "Found 1943 files belonging to 4 classes.\n"
          ]
        }
      ]
    },
    {
      "cell_type": "code",
      "source": [
        "rescale = Rescaling(scale=1./255)\n",
        "train_set  = train_gen.map(lambda image,label:(rescale(image),label))\n",
        "valid_set  = val_gen.map(lambda image,label:(rescale(image),label))\n",
        "test_set  = test_it.map(lambda image,label:(rescale(image),label))"
      ],
      "metadata": {
        "id": "jA1e28gVeC6b"
      },
      "execution_count": 110,
      "outputs": []
    },
    {
      "cell_type": "code",
      "source": [
        "#from keras.layers.pooling.global_average_pooling2d import GlobalAveragePooling2D\n",
        "def define_modelavg():\n",
        "    # load model\n",
        "    model_apple_avg = VGG16(include_top=False, input_shape=(128, 128, 3))\n",
        "    # mark loaded layers as not trainable\n",
        "    for layer in model_apple_avg.layers:\n",
        "        layer.trainable = False\n",
        "    # add new classifier layers\n",
        "    avgpool1 = tf.keras.layers.GlobalAveragePooling2D()(model_apple_avg.layers[-1].output)\n",
        "\n",
        "    class1 = Dense(10, activation='relu', kernel_initializer='he_uniform')(avgpool1)\n",
        "    output = Dense(4, activation='softmax')(class1)\n",
        "    # define new model\n",
        "    model_apple_avg = Model(inputs=model_apple_avg.inputs, outputs=output)\n",
        "    return model_apple_avg\n"
      ],
      "metadata": {
        "id": "ABCsqjYFXLYq"
      },
      "execution_count": 111,
      "outputs": []
    },
    {
      "cell_type": "code",
      "source": [
        "model_apple_avg = define_modelavg()\n",
        "model_apple_avg.compile(optimizer='adam', loss='categorical_crossentropy', metrics=['accuracy', Metrics.Precision(), Metrics.Recall()])\n",
        "model_apple_avg.summary()"
      ],
      "metadata": {
        "colab": {
          "base_uri": "https://localhost:8080/"
        },
        "outputId": "13c4eac0-b0b0-42ff-ab5d-7c12bf66002d",
        "id": "tAykJIoBXLYq"
      },
      "execution_count": 112,
      "outputs": [
        {
          "output_type": "stream",
          "name": "stdout",
          "text": [
            "Model: \"model_9\"\n",
            "_________________________________________________________________\n",
            " Layer (type)                Output Shape              Param #   \n",
            "=================================================================\n",
            " input_10 (InputLayer)       [(None, 128, 128, 3)]     0         \n",
            "                                                                 \n",
            " block1_conv1 (Conv2D)       (None, 128, 128, 64)      1792      \n",
            "                                                                 \n",
            " block1_conv2 (Conv2D)       (None, 128, 128, 64)      36928     \n",
            "                                                                 \n",
            " block1_pool (MaxPooling2D)  (None, 64, 64, 64)        0         \n",
            "                                                                 \n",
            " block2_conv1 (Conv2D)       (None, 64, 64, 128)       73856     \n",
            "                                                                 \n",
            " block2_conv2 (Conv2D)       (None, 64, 64, 128)       147584    \n",
            "                                                                 \n",
            " block2_pool (MaxPooling2D)  (None, 32, 32, 128)       0         \n",
            "                                                                 \n",
            " block3_conv1 (Conv2D)       (None, 32, 32, 256)       295168    \n",
            "                                                                 \n",
            " block3_conv2 (Conv2D)       (None, 32, 32, 256)       590080    \n",
            "                                                                 \n",
            " block3_conv3 (Conv2D)       (None, 32, 32, 256)       590080    \n",
            "                                                                 \n",
            " block3_pool (MaxPooling2D)  (None, 16, 16, 256)       0         \n",
            "                                                                 \n",
            " block4_conv1 (Conv2D)       (None, 16, 16, 512)       1180160   \n",
            "                                                                 \n",
            " block4_conv2 (Conv2D)       (None, 16, 16, 512)       2359808   \n",
            "                                                                 \n",
            " block4_conv3 (Conv2D)       (None, 16, 16, 512)       2359808   \n",
            "                                                                 \n",
            " block4_pool (MaxPooling2D)  (None, 8, 8, 512)         0         \n",
            "                                                                 \n",
            " block5_conv1 (Conv2D)       (None, 8, 8, 512)         2359808   \n",
            "                                                                 \n",
            " block5_conv2 (Conv2D)       (None, 8, 8, 512)         2359808   \n",
            "                                                                 \n",
            " block5_conv3 (Conv2D)       (None, 8, 8, 512)         2359808   \n",
            "                                                                 \n",
            " block5_pool (MaxPooling2D)  (None, 4, 4, 512)         0         \n",
            "                                                                 \n",
            " global_average_pooling2d_9  (None, 512)               0         \n",
            "  (GlobalAveragePooling2D)                                       \n",
            "                                                                 \n",
            " dense_18 (Dense)            (None, 10)                5130      \n",
            "                                                                 \n",
            " dense_19 (Dense)            (None, 4)                 44        \n",
            "                                                                 \n",
            "=================================================================\n",
            "Total params: 14719862 (56.15 MB)\n",
            "Trainable params: 5174 (20.21 KB)\n",
            "Non-trainable params: 14714688 (56.13 MB)\n",
            "_________________________________________________________________\n"
          ]
        }
      ]
    },
    {
      "cell_type": "code",
      "source": [
        "epochsteps=len(train_set);epochs =20;valsteps=len(valid_set);teststeps=len(test_set)\n",
        "# fit model\n",
        "history = model_apple_avg.fit(train_set, steps_per_epoch=epochsteps,\n",
        "                    validation_data=valid_set, validation_steps=valsteps, epochs=20, verbose=1)\n"
      ],
      "metadata": {
        "colab": {
          "base_uri": "https://localhost:8080/"
        },
        "outputId": "fed5f174-fdb3-4542-d17b-eae48af04b2b",
        "id": "h8Wql0VaXLYr"
      },
      "execution_count": 113,
      "outputs": [
        {
          "output_type": "stream",
          "name": "stdout",
          "text": [
            "Epoch 1/20\n",
            "195/195 [==============================] - 13s 60ms/step - loss: 0.9622 - accuracy: 0.7066 - precision_1: 0.9428 - recall_1: 0.2545 - val_loss: 0.6608 - val_accuracy: 0.8295 - val_precision_1: 0.9381 - val_recall_1: 0.6532\n",
            "Epoch 2/20\n",
            "195/195 [==============================] - 12s 59ms/step - loss: 0.5029 - accuracy: 0.8776 - precision_1: 0.9373 - recall_1: 0.7642 - val_loss: 0.4056 - val_accuracy: 0.8880 - val_precision_1: 0.9379 - val_recall_1: 0.8256\n",
            "Epoch 3/20\n",
            "195/195 [==============================] - 11s 58ms/step - loss: 0.3436 - accuracy: 0.9064 - precision_1: 0.9372 - recall_1: 0.8660 - val_loss: 0.3065 - val_accuracy: 0.9060 - val_precision_1: 0.9374 - val_recall_1: 0.8771\n",
            "Epoch 4/20\n",
            "195/195 [==============================] - 11s 56ms/step - loss: 0.2662 - accuracy: 0.9228 - precision_1: 0.9428 - recall_1: 0.8990 - val_loss: 0.2569 - val_accuracy: 0.9183 - val_precision_1: 0.9362 - val_recall_1: 0.8977\n",
            "Epoch 5/20\n",
            "195/195 [==============================] - 11s 57ms/step - loss: 0.2212 - accuracy: 0.9352 - precision_1: 0.9505 - recall_1: 0.9196 - val_loss: 0.2271 - val_accuracy: 0.9254 - val_precision_1: 0.9397 - val_recall_1: 0.9125\n",
            "Epoch 6/20\n",
            "195/195 [==============================] - 11s 56ms/step - loss: 0.1932 - accuracy: 0.9423 - precision_1: 0.9542 - recall_1: 0.9289 - val_loss: 0.2085 - val_accuracy: 0.9299 - val_precision_1: 0.9432 - val_recall_1: 0.9196\n",
            "Epoch 7/20\n",
            "195/195 [==============================] - 11s 58ms/step - loss: 0.1741 - accuracy: 0.9452 - precision_1: 0.9567 - recall_1: 0.9350 - val_loss: 0.1902 - val_accuracy: 0.9337 - val_precision_1: 0.9473 - val_recall_1: 0.9254\n",
            "Epoch 8/20\n",
            "195/195 [==============================] - 11s 57ms/step - loss: 0.1586 - accuracy: 0.9498 - precision_1: 0.9578 - recall_1: 0.9408 - val_loss: 0.1891 - val_accuracy: 0.9331 - val_precision_1: 0.9411 - val_recall_1: 0.9260\n",
            "Epoch 9/20\n",
            "195/195 [==============================] - 11s 56ms/step - loss: 0.1450 - accuracy: 0.9538 - precision_1: 0.9627 - recall_1: 0.9466 - val_loss: 0.1776 - val_accuracy: 0.9382 - val_precision_1: 0.9469 - val_recall_1: 0.9299\n",
            "Epoch 10/20\n",
            "195/195 [==============================] - 11s 57ms/step - loss: 0.1367 - accuracy: 0.9550 - precision_1: 0.9620 - recall_1: 0.9485 - val_loss: 0.1625 - val_accuracy: 0.9414 - val_precision_1: 0.9502 - val_recall_1: 0.9337\n",
            "Epoch 11/20\n",
            "195/195 [==============================] - 11s 57ms/step - loss: 0.1254 - accuracy: 0.9601 - precision_1: 0.9642 - recall_1: 0.9535 - val_loss: 0.1591 - val_accuracy: 0.9414 - val_precision_1: 0.9527 - val_recall_1: 0.9337\n",
            "Epoch 12/20\n",
            "195/195 [==============================] - 11s 56ms/step - loss: 0.1189 - accuracy: 0.9601 - precision_1: 0.9662 - recall_1: 0.9550 - val_loss: 0.1537 - val_accuracy: 0.9453 - val_precision_1: 0.9518 - val_recall_1: 0.9395\n",
            "Epoch 13/20\n",
            "195/195 [==============================] - 11s 56ms/step - loss: 0.1139 - accuracy: 0.9630 - precision_1: 0.9686 - recall_1: 0.9574 - val_loss: 0.1552 - val_accuracy: 0.9453 - val_precision_1: 0.9499 - val_recall_1: 0.9389\n",
            "Epoch 14/20\n",
            "195/195 [==============================] - 11s 58ms/step - loss: 0.1072 - accuracy: 0.9654 - precision_1: 0.9690 - recall_1: 0.9606 - val_loss: 0.1500 - val_accuracy: 0.9479 - val_precision_1: 0.9530 - val_recall_1: 0.9389\n",
            "Epoch 15/20\n",
            "195/195 [==============================] - 12s 58ms/step - loss: 0.1012 - accuracy: 0.9675 - precision_1: 0.9714 - recall_1: 0.9620 - val_loss: 0.1512 - val_accuracy: 0.9466 - val_precision_1: 0.9506 - val_recall_1: 0.9414\n",
            "Epoch 16/20\n",
            "195/195 [==============================] - 11s 57ms/step - loss: 0.1003 - accuracy: 0.9670 - precision_1: 0.9704 - recall_1: 0.9608 - val_loss: 0.1435 - val_accuracy: 0.9492 - val_precision_1: 0.9532 - val_recall_1: 0.9447\n",
            "Epoch 17/20\n",
            "195/195 [==============================] - 11s 58ms/step - loss: 0.0940 - accuracy: 0.9693 - precision_1: 0.9726 - recall_1: 0.9656 - val_loss: 0.1368 - val_accuracy: 0.9517 - val_precision_1: 0.9564 - val_recall_1: 0.9459\n",
            "Epoch 18/20\n",
            "195/195 [==============================] - 11s 57ms/step - loss: 0.0871 - accuracy: 0.9735 - precision_1: 0.9768 - recall_1: 0.9696 - val_loss: 0.1381 - val_accuracy: 0.9498 - val_precision_1: 0.9532 - val_recall_1: 0.9434\n",
            "Epoch 19/20\n",
            "195/195 [==============================] - 11s 57ms/step - loss: 0.0862 - accuracy: 0.9725 - precision_1: 0.9762 - recall_1: 0.9694 - val_loss: 0.1327 - val_accuracy: 0.9524 - val_precision_1: 0.9565 - val_recall_1: 0.9479\n",
            "Epoch 20/20\n",
            "195/195 [==============================] - 12s 59ms/step - loss: 0.0838 - accuracy: 0.9707 - precision_1: 0.9743 - recall_1: 0.9691 - val_loss: 0.1271 - val_accuracy: 0.9537 - val_precision_1: 0.9584 - val_recall_1: 0.9485\n"
          ]
        }
      ]
    },
    {
      "cell_type": "code",
      "source": [
        "plt.plot(history.history['val_loss'], color = 'orange')\n",
        "plt.plot(history.history['loss'], color='red')\n",
        "\n",
        "plt.legend(['Val_loss','Train_loss'],fontsize=12)\n",
        "e=range(0,20)\n",
        "labels=range(1,21)\n",
        "plt.xlabel(\"Epochs\",fontsize=12)\n",
        "plt.ylabel(\"Loss\",fontsize=12)\n",
        "plt.xticks(e,labels,fontsize=10)\n",
        "plt.yticks(fontsize=10)\n",
        "plt.show()"
      ],
      "metadata": {
        "colab": {
          "base_uri": "https://localhost:8080/",
          "height": 457
        },
        "id": "wLsgO1k7eP_V",
        "outputId": "7997b41f-d6b4-4bc4-d7df-18ef77c01911"
      },
      "execution_count": 114,
      "outputs": [
        {
          "output_type": "display_data",
          "data": {
            "text/plain": [
              "<Figure size 640x480 with 1 Axes>"
            ],
            "image/png": "[encoded data removed]"
          },
          "metadata": {}
        }
      ]
    },
    {
      "cell_type": "code",
      "source": [
        "labels = []\n",
        "predictions = []\n",
        "for x,y in test_set:\n",
        "    labels.append(list(y.numpy()))\n",
        "    predictions.append(tf.argmax(model_apple_avg.predict(x),1).numpy())"
      ],
      "metadata": {
        "colab": {
          "base_uri": "https://localhost:8080/"
        },
        "id": "G6IaIqTFeXvo",
        "outputId": "54ad223b-3229-4a7f-b8a6-7cb3062490d1"
      },
      "execution_count": 115,
      "outputs": [
        {
          "output_type": "stream",
          "name": "stdout",
          "text": [
            "1/1 [==============================] - 0s 167ms/step\n",
            "1/1 [==============================] - 0s 20ms/step\n",
            "1/1 [==============================] - 0s 21ms/step\n",
            "1/1 [==============================] - 0s 21ms/step\n",
            "1/1 [==============================] - 0s 20ms/step\n",
            "1/1 [==============================] - 0s 20ms/step\n",
            "1/1 [==============================] - 0s 22ms/step\n",
            "1/1 [==============================] - 0s 20ms/step\n",
            "1/1 [==============================] - 0s 23ms/step\n",
            "1/1 [==============================] - 0s 22ms/step\n",
            "1/1 [==============================] - 0s 20ms/step\n",
            "1/1 [==============================] - 0s 22ms/step\n",
            "1/1 [==============================] - 0s 22ms/step\n",
            "1/1 [==============================] - 0s 19ms/step\n",
            "1/1 [==============================] - 0s 19ms/step\n",
            "1/1 [==============================] - 0s 22ms/step\n",
            "1/1 [==============================] - 0s 20ms/step\n",
            "1/1 [==============================] - 0s 20ms/step\n",
            "1/1 [==============================] - 0s 22ms/step\n",
            "1/1 [==============================] - 0s 21ms/step\n",
            "1/1 [==============================] - 0s 21ms/step\n",
            "1/1 [==============================] - 0s 21ms/step\n",
            "1/1 [==============================] - 0s 21ms/step\n",
            "1/1 [==============================] - 0s 20ms/step\n",
            "1/1 [==============================] - 0s 22ms/step\n",
            "1/1 [==============================] - 0s 20ms/step\n",
            "1/1 [==============================] - 0s 22ms/step\n",
            "1/1 [==============================] - 0s 21ms/step\n",
            "1/1 [==============================] - 0s 24ms/step\n",
            "1/1 [==============================] - 0s 20ms/step\n",
            "1/1 [==============================] - 0s 22ms/step\n",
            "1/1 [==============================] - 0s 20ms/step\n",
            "1/1 [==============================] - 0s 20ms/step\n",
            "1/1 [==============================] - 0s 23ms/step\n",
            "1/1 [==============================] - 0s 22ms/step\n",
            "1/1 [==============================] - 0s 23ms/step\n",
            "1/1 [==============================] - 0s 23ms/step\n",
            "1/1 [==============================] - 0s 22ms/step\n",
            "1/1 [==============================] - 0s 23ms/step\n",
            "1/1 [==============================] - 0s 21ms/step\n",
            "1/1 [==============================] - 0s 21ms/step\n",
            "1/1 [==============================] - 0s 21ms/step\n",
            "1/1 [==============================] - 0s 26ms/step\n",
            "1/1 [==============================] - 0s 22ms/step\n",
            "1/1 [==============================] - 0s 22ms/step\n",
            "1/1 [==============================] - 0s 23ms/step\n",
            "1/1 [==============================] - 0s 20ms/step\n",
            "1/1 [==============================] - 0s 19ms/step\n",
            "1/1 [==============================] - 0s 20ms/step\n",
            "1/1 [==============================] - 0s 19ms/step\n",
            "1/1 [==============================] - 0s 23ms/step\n",
            "1/1 [==============================] - 0s 20ms/step\n",
            "1/1 [==============================] - 0s 20ms/step\n",
            "1/1 [==============================] - 0s 34ms/step\n",
            "1/1 [==============================] - 0s 30ms/step\n",
            "1/1 [==============================] - 0s 35ms/step\n",
            "1/1 [==============================] - 0s 39ms/step\n",
            "1/1 [==============================] - 0s 29ms/step\n",
            "1/1 [==============================] - 0s 28ms/step\n",
            "1/1 [==============================] - 0s 29ms/step\n",
            "1/1 [==============================] - 0s 223ms/step\n"
          ]
        }
      ]
    },
    {
      "cell_type": "code",
      "source": [
        "predictions = list(itertools.chain.from_iterable(predictions))\n",
        "labels = list(itertools.chain.from_iterable(labels))"
      ],
      "metadata": {
        "id": "iZ2s7VPqecI1"
      },
      "execution_count": 116,
      "outputs": []
    },
    {
      "cell_type": "code",
      "source": [
        "print(\"Train Accuracy  : {:.2f} %\".format(history.history['accuracy'][-1]*100))\n",
        "print(\"Test Accuracy   : {:.2f} %\".format(accuracy_score(labels, predictions) * 100))\n",
        "print(\"Precision Score : {:.2f} %\".format(precision_score(labels, predictions, average='macro') * 100))\n",
        "print(\"Recall Score    : {:.2f} %\".format(recall_score(labels, predictions, average='macro') * 100))\n",
        "print(\"F1 Score        : {:.2f} %\".format(f1_score(labels, predictions, average='macro') * 100))"
      ],
      "metadata": {
        "colab": {
          "base_uri": "https://localhost:8080/"
        },
        "id": "-INz_bKNeeiW",
        "outputId": "60e06cec-31a9-4e67-bbfc-8be6668880b8"
      },
      "execution_count": 117,
      "outputs": [
        {
          "output_type": "stream",
          "name": "stdout",
          "text": [
            "Train Accuracy  : 97.07 %\n",
            "Test Accuracy   : 95.83 %\n",
            "Precision Score : 95.84 %\n",
            "Recall Score    : 95.83 %\n",
            "F1 Score        : 95.81 %\n"
          ]
        }
      ]
    },
    {
      "cell_type": "code",
      "source": [
        "# Plot a confusion matrix based on the true labels and predicted labels\n",
        "plt.figure(figsize= (2,2))\n",
        "cm = confusion_matrix(labels, predictions)\n",
        "plt.rcParams.update({'font.size': 20})\n",
        "disp = ConfusionMatrixDisplay(confusion_matrix=cm, display_labels=list(range(1,5)))\n",
        "fig, ax = plt.subplots(figsize=(10,10))\n",
        "disp.plot(ax=ax,colorbar= False,cmap = 'YlGnBu')\n",
        "# plt.title(\"Confusion Matrix\")\n",
        "plt.xlabel('Predicted Labels',fontsize=15)\n",
        "plt.ylabel('True Labels',fontsize=15)\n",
        "plt.show()"
      ],
      "metadata": {
        "colab": {
          "base_uri": "https://localhost:8080/",
          "height": 887
        },
        "id": "qr_fQTzLehLu",
        "outputId": "dc15dcf7-b62a-4730-daa5-a26659a9b913"
      },
      "execution_count": 118,
      "outputs": [
        {
          "output_type": "display_data",
          "data": {
            "text/plain": [
              "<Figure size 200x200 with 0 Axes>"
            ]
          },
          "metadata": {}
        },
        {
          "output_type": "display_data",
          "data": {
            "text/plain": [
              "<Figure size 1000x1000 with 1 Axes>"
            ],
            "image/png": "[encoded data removed]"
          },
          "metadata": {}
        }
      ]
    }
  ]
}