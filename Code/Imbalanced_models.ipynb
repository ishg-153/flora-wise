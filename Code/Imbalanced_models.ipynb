{
  "nbformat": 4,
  "nbformat_minor": 0,
  "metadata": {
    "colab": {
      "provenance": [],
      "gpuType": "T4"
    },
    "kernelspec": {
      "name": "python3",
      "display_name": "Python 3"
    },
    "language_info": {
      "name": "python"
    },
    "accelerator": "GPU"
  },
  "cells": [
    {
      "cell_type": "code",
      "execution_count": null,
      "metadata": {
        "id": "eoI1D8GQaQfa"
      },
      "outputs": [],
      "source": [
        "import os                       # for working with files\n",
        "import numpy as np              # for numerical computationss\n",
        "import pandas as pd             # for working with dataframes\n",
        "import matplotlib.pyplot as plt # for plotting informations on graph and images using tensors\n",
        "import tensorflow as tf\n",
        "#import tensorflow.keras.backend as K\n",
        "#from sklearn.metrics import confusion_matrix\n",
        "from keras import models\n",
        "from tensorflow.keras.models import Model\n",
        "from tensorflow.keras.models import load_model\n",
        "from tensorflow.keras.preprocessing import image\n",
        "#from keras.preprocessing.image import load_img,img_to_array\n",
        "from tensorflow.keras.models import Sequential\n",
        "from tensorflow.keras import layers\n",
        "from tensorflow.keras.layers import Dense, Dropout, Flatten, Input, LeakyReLU\n",
        "from tensorflow.keras.layers import BatchNormalization, Activation, Conv2D\n",
        "#from tensorflow.keras.applications import ResNet101V2\n",
        "from tensorflow.keras.models import Sequential\n",
        "from tensorflow.keras.preprocessing.image import ImageDataGenerator\n",
        "from tensorflow.keras.layers import MaxPooling2D\n",
        "from keras.layers import MaxPool2D\n",
        "import tensorflow.keras.metrics as Metrics"
      ]
    },
    {
      "cell_type": "code",
      "source": [
        "import warnings\n",
        "warnings.filterwarnings(\"ignore\")\n",
        "import tensorflow as tf\n",
        "import matplotlib.pyplot as plt\n",
        "tf.compat.v1.set_random_seed(0)\n",
        "from tensorflow import keras\n",
        "import itertools\n",
        "from tensorflow.keras.layers.experimental.preprocessing import Rescaling\n",
        "from sklearn.metrics import precision_score, accuracy_score, recall_score, confusion_matrix, ConfusionMatrixDisplay"
      ],
      "metadata": {
        "id": "QKQm_y3eolh0"
      },
      "execution_count": null,
      "outputs": []
    },
    {
      "cell_type": "code",
      "source": [
        "np.random.seed(0)\n",
        "tf.random.set_seed(0)"
      ],
      "metadata": {
        "id": "D-kJcovdaY2K"
      },
      "execution_count": null,
      "outputs": []
    },
    {
      "cell_type": "code",
      "source": [
        "from google.colab import files #add .json file\n",
        "uploaded = files.upload()"
      ],
      "metadata": {
        "colab": {
          "base_uri": "https://localhost:8080/",
          "height": 71
        },
        "id": "kHz0Ot7HabYj",
        "outputId": "74a7aa23-b84a-47fd-e8da-5549decf3ddd"
      },
      "execution_count": null,
      "outputs": [
        {
          "output_type": "display_data",
          "data": {
            "text/plain": [
              "<IPython.core.display.HTML object>"
            ],
            "text/html": [
              "\n",
              "     <input type=\"file\" id=\"files-cfebf2ab-0aef-451a-ab14-fd6b112b5398\" name=\"files[]\" multiple disabled\n",
              "        style=\"border:none\" />\n",
              "     <output id=\"result-cfebf2ab-0aef-451a-ab14-fd6b112b5398\">\n",
              "      Upload widget is only available when the cell has been executed in the\n",
              "      current browser session. Please rerun this cell to enable.\n",
              "      </output>\n",
              "      <script>// Copyright 2017 Google LLC\n",
              "//\n",
              "// Licensed under the Apache License, Version 2.0 (the \"License\");\n",
              "// you may not use this file except in compliance with the License.\n",
              "// You may obtain a copy of the License at\n",
              "//\n",
              "//      http://www.apache.org/licenses/LICENSE-2.0\n",
              "//\n",
              "// Unless required by applicable law or agreed to in writing, software\n",
              "// distributed under the License is distributed on an \"AS IS\" BASIS,\n",
              "// WITHOUT WARRANTIES OR CONDITIONS OF ANY KIND, either express or implied.\n",
              "// See the License for the specific language governing permissions and\n",
              "// limitations under the License.\n",
              "\n",
              "/**\n",
              " * @fileoverview Helpers for google.colab Python module.\n",
              " */\n",
              "(function(scope) {\n",
              "function span(text, styleAttributes = {}) {\n",
              "  const element = document.createElement('span');\n",
              "  element.textContent = text;\n",
              "  for (const key of Object.keys(styleAttributes)) {\n",
              "    element.style[key] = styleAttributes[key];\n",
              "  }\n",
              "  return element;\n",
              "}\n",
              "\n",
              "// Max number of bytes which will be uploaded at a time.\n",
              "const MAX_PAYLOAD_SIZE = 100 * 1024;\n",
              "\n",
              "function _uploadFiles(inputId, outputId) {\n",
              "  const steps = uploadFilesStep(inputId, outputId);\n",
              "  const outputElement = document.getElementById(outputId);\n",
              "  // Cache steps on the outputElement to make it available for the next call\n",
              "  // to uploadFilesContinue from Python.\n",
              "  outputElement.steps = steps;\n",
              "\n",
              "  return _uploadFilesContinue(outputId);\n",
              "}\n",
              "\n",
              "// This is roughly an async generator (not supported in the browser yet),\n",
              "// where there are multiple asynchronous steps and the Python side is going\n",
              "// to poll for completion of each step.\n",
              "// This uses a Promise to block the python side on completion of each step,\n",
              "// then passes the result of the previous step as the input to the next step.\n",
              "function _uploadFilesContinue(outputId) {\n",
              "  const outputElement = document.getElementById(outputId);\n",
              "  const steps = outputElement.steps;\n",
              "\n",
              "  const next = steps.next(outputElement.lastPromiseValue);\n",
              "  return Promise.resolve(next.value.promise).then((value) => {\n",
              "    // Cache the last promise value to make it available to the next\n",
              "    // step of the generator.\n",
              "    outputElement.lastPromiseValue = value;\n",
              "    return next.value.response;\n",
              "  });\n",
              "}\n",
              "\n",
              "/**\n",
              " * Generator function which is called between each async step of the upload\n",
              " * process.\n",
              " * @param {string} inputId Element ID of the input file picker element.\n",
              " * @param {string} outputId Element ID of the output display.\n",
              " * @return {!Iterable<!Object>} Iterable of next steps.\n",
              " */\n",
              "function* uploadFilesStep(inputId, outputId) {\n",
              "  const inputElement = document.getElementById(inputId);\n",
              "  inputElement.disabled = false;\n",
              "\n",
              "  const outputElement = document.getElementById(outputId);\n",
              "  outputElement.innerHTML = '';\n",
              "\n",
              "  const pickedPromise = new Promise((resolve) => {\n",
              "    inputElement.addEventListener('change', (e) => {\n",
              "      resolve(e.target.files);\n",
              "    });\n",
              "  });\n",
              "\n",
              "  const cancel = document.createElement('button');\n",
              "  inputElement.parentElement.appendChild(cancel);\n",
              "  cancel.textContent = 'Cancel upload';\n",
              "  const cancelPromise = new Promise((resolve) => {\n",
              "    cancel.onclick = () => {\n",
              "      resolve(null);\n",
              "    };\n",
              "  });\n",
              "\n",
              "  // Wait for the user to pick the files.\n",
              "  const files = yield {\n",
              "    promise: Promise.race([pickedPromise, cancelPromise]),\n",
              "    response: {\n",
              "      action: 'starting',\n",
              "    }\n",
              "  };\n",
              "\n",
              "  cancel.remove();\n",
              "\n",
              "  // Disable the input element since further picks are not allowed.\n",
              "  inputElement.disabled = true;\n",
              "\n",
              "  if (!files) {\n",
              "    return {\n",
              "      response: {\n",
              "        action: 'complete',\n",
              "      }\n",
              "    };\n",
              "  }\n",
              "\n",
              "  for (const file of files) {\n",
              "    const li = document.createElement('li');\n",
              "    li.append(span(file.name, {fontWeight: 'bold'}));\n",
              "    li.append(span(\n",
              "        `(${file.type || 'n/a'}) - ${file.size} bytes, ` +\n",
              "        `last modified: ${\n",
              "            file.lastModifiedDate ? file.lastModifiedDate.toLocaleDateString() :\n",
              "                                    'n/a'} - `));\n",
              "    const percent = span('0% done');\n",
              "    li.appendChild(percent);\n",
              "\n",
              "    outputElement.appendChild(li);\n",
              "\n",
              "    const fileDataPromise = new Promise((resolve) => {\n",
              "      const reader = new FileReader();\n",
              "      reader.onload = (e) => {\n",
              "        resolve(e.target.result);\n",
              "      };\n",
              "      reader.readAsArrayBuffer(file);\n",
              "    });\n",
              "    // Wait for the data to be ready.\n",
              "    let fileData = yield {\n",
              "      promise: fileDataPromise,\n",
              "      response: {\n",
              "        action: 'continue',\n",
              "      }\n",
              "    };\n",
              "\n",
              "    // Use a chunked sending to avoid message size limits. See b/62115660.\n",
              "    let position = 0;\n",
              "    do {\n",
              "      const length = Math.min(fileData.byteLength - position, MAX_PAYLOAD_SIZE);\n",
              "      const chunk = new Uint8Array(fileData, position, length);\n",
              "      position += length;\n",
              "\n",
              "      const base64 = btoa(String.fromCharCode.apply(null, chunk));\n",
              "      yield {\n",
              "        response: {\n",
              "          action: 'append',\n",
              "          file: file.name,\n",
              "          data: base64,\n",
              "        },\n",
              "      };\n",
              "\n",
              "      let percentDone = fileData.byteLength === 0 ?\n",
              "          100 :\n",
              "          Math.round((position / fileData.byteLength) * 100);\n",
              "      percent.textContent = `${percentDone}% done`;\n",
              "\n",
              "    } while (position < fileData.byteLength);\n",
              "  }\n",
              "\n",
              "  // All done.\n",
              "  yield {\n",
              "    response: {\n",
              "      action: 'complete',\n",
              "    }\n",
              "  };\n",
              "}\n",
              "\n",
              "scope.google = scope.google || {};\n",
              "scope.google.colab = scope.google.colab || {};\n",
              "scope.google.colab._files = {\n",
              "  _uploadFiles,\n",
              "  _uploadFilesContinue,\n",
              "};\n",
              "})(self);\n",
              "</script> "
            ]
          },
          "metadata": {}
        },
        {
          "output_type": "stream",
          "name": "stdout",
          "text": [
            "Saving kaggle.json to kaggle.json\n"
          ]
        }
      ]
    },
    {
      "cell_type": "code",
      "source": [
        "!rm -r ~/.kaggle\n",
        "!mkdir ~/.kaggle\n",
        "!cp ./kaggle.json ~/.kaggle/\n",
        "!chmod 600 ~/.kaggle/kaggle.json"
      ],
      "metadata": {
        "colab": {
          "base_uri": "https://localhost:8080/"
        },
        "id": "SDzeY_5-ad-5",
        "outputId": "636de7c9-39e0-4fb5-c68d-448fceaaca2c"
      },
      "execution_count": null,
      "outputs": [
        {
          "output_type": "stream",
          "name": "stdout",
          "text": [
            "rm: cannot remove '/root/.kaggle': No such file or directory\n"
          ]
        }
      ]
    },
    {
      "cell_type": "code",
      "source": [
        "import zipfile\n",
        "import os\n",
        "from kaggle.cli import main\n",
        "os.environ['KAGGLE_CONFIG_DIR'] = \"/content\""
      ],
      "metadata": {
        "id": "0cpF9wvQah5d"
      },
      "execution_count": null,
      "outputs": []
    },
    {
      "cell_type": "code",
      "source": [
        "!kaggle datasets download -d harshart/balanced-plant-dataset"
      ],
      "metadata": {
        "colab": {
          "base_uri": "https://localhost:8080/"
        },
        "id": "RQQRpqshakcu",
        "outputId": "f2012391-5c34-4ec5-f09a-6d3e46ac0f47"
      },
      "execution_count": null,
      "outputs": [
        {
          "output_type": "stream",
          "name": "stdout",
          "text": [
            "Warning: Your Kaggle API key is readable by other users on this system! To fix this, you can run 'chmod 600 /content/kaggle.json'\n",
            "Downloading balanced-plant-dataset.zip to /content\n",
            " 98% 1.14G/1.17G [00:09<00:00, 116MB/s]\n",
            "100% 1.17G/1.17G [00:10<00:00, 125MB/s]\n"
          ]
        }
      ]
    },
    {
      "cell_type": "code",
      "source": [
        "zip_ref = zipfile.ZipFile('balanced-plant-dataset.zip', 'r') #Opens the zip file in read mode\n",
        "zip_ref.extractall('/tmp') #Extracts the files into the /tmp folder\n",
        "zip_ref.close()"
      ],
      "metadata": {
        "id": "CVBVy5eaamwe"
      },
      "execution_count": null,
      "outputs": []
    },
    {
      "cell_type": "code",
      "source": [
        "filepath = '/content/my_best_model.epoch{epoch:02d}-loss{val_loss:.2f}.hdf5'\n",
        "\n",
        "callbacks = tf.keras.callbacks.ModelCheckpoint(filepath=filepath,\n",
        "                                     monitor='val_loss',\n",
        "                                     verbose=1,\n",
        "                                     save_best_only=True,\n",
        "                                     save_weights_only=False,\n",
        "                                     mode='auto',\n",
        "                                     save_freq='epoch')"
      ],
      "metadata": {
        "id": "HlwKyVbuGGd1"
      },
      "execution_count": null,
      "outputs": []
    },
    {
      "cell_type": "markdown",
      "source": [
        "# **Grape**"
      ],
      "metadata": {
        "id": "6WJS2N5iaqk8"
      }
    },
    {
      "cell_type": "code",
      "source": [
        "data_dir = r\"/tmp/DS MINI PROJECT DATASET(BALANCEDANDIMBALANCED)\"\n",
        "\n",
        "train_g_dir = data_dir + \"/Training/Grape\"\n",
        "test_g_dir = data_dir + \"/Testing/Grape\""
      ],
      "metadata": {
        "id": "Bleqt8xmapKQ"
      },
      "execution_count": null,
      "outputs": []
    },
    {
      "cell_type": "code",
      "source": [
        "seed_train_validation = 1 # Must be same for train_ds and val_ds\n",
        "shuffle_value = True\n",
        "validation_split = 0.2\n",
        "\n",
        "train_gen = tf.keras.utils.image_dataset_from_directory(\n",
        "                                                        directory = train_g_dir,\n",
        "                                                        image_size = (128, 128),\n",
        "                                                        label_mode='categorical',\n",
        "                                                        validation_split = validation_split,\n",
        "                                                        batch_size=32,\n",
        "                                                        subset = \"training\",\n",
        "                                                        seed = seed_train_validation,\n",
        "                                                        shuffle = shuffle_value)\n",
        "\n",
        "val_gen = tf.keras.utils.image_dataset_from_directory(\n",
        "                                                        directory = train_g_dir,\n",
        "                                                        image_size = (128, 128),\n",
        "                                                        validation_split = validation_split,\n",
        "                                                        label_mode='categorical',\n",
        "                                                        batch_size=32,\n",
        "                                                        subset = \"validation\",\n",
        "                                                        seed = seed_train_validation,\n",
        "                                                        shuffle = shuffle_value)\n",
        "\n",
        "test_it = tf.keras.utils.image_dataset_from_directory( directory= test_g_dir,\n",
        "                                                      batch_size=32,\n",
        "                                                      image_size=(128, 128))"
      ],
      "metadata": {
        "colab": {
          "base_uri": "https://localhost:8080/"
        },
        "id": "cU9gVTVR4bu0",
        "outputId": "677a17d1-2aab-496c-f10a-0a635cb7b063"
      },
      "execution_count": null,
      "outputs": [
        {
          "output_type": "stream",
          "name": "stdout",
          "text": [
            "Found 7222 files belonging to 4 classes.\n",
            "Using 5778 files for training.\n",
            "Found 7222 files belonging to 4 classes.\n",
            "Using 1444 files for validation.\n",
            "Found 1805 files belonging to 4 classes.\n"
          ]
        }
      ]
    },
    {
      "cell_type": "code",
      "source": [
        "rescale = Rescaling(scale=1./255)\n",
        "train_set  = train_gen.map(lambda image,label:(rescale(image),label))\n",
        "valid_set  = val_gen.map(lambda image,label:(rescale(image),label))\n",
        "test_set  = test_it.map(lambda image,label:(rescale(image),label))"
      ],
      "metadata": {
        "id": "rDL9ZjiQ41Rq"
      },
      "execution_count": null,
      "outputs": []
    },
    {
      "cell_type": "code",
      "source": [
        "#average pooling\n",
        "#accuracy 90.63 with 16\n",
        "#accuracy 95.56 with 16 with 1 more convo\n",
        "\n",
        "\n",
        "#from keras.layers.pooling.global_average_pooling2d import GlobalAveragePooling2D\n",
        "\n",
        "def define_g_a():\n",
        "  grape_avg = models.Sequential()\n",
        "  grape_avg = Sequential()\n",
        "\n",
        "  grape_avg.add(Conv2D(filters=16,kernel_size=(3,3),padding=\"same\", activation=\"relu\", input_shape=(128,128,3)))\n",
        "  grape_avg.add(MaxPool2D(pool_size=(2,2),strides=(2,2)))\n",
        "  grape_avg.add(BatchNormalization())\n",
        "\n",
        "  grape_avg.add(Conv2D(filters=32, kernel_size=(3,3), padding=\"same\", activation=\"relu\"))\n",
        "  grape_avg.add(MaxPool2D(pool_size=(2,2),strides=(2,2)))\n",
        "  grape_avg.add(BatchNormalization())\n",
        "\n",
        "  grape_avg.add(Conv2D(filters=64, kernel_size=(3,3), padding=\"same\", activation=\"relu\"))\n",
        "  grape_avg.add(MaxPool2D(pool_size=(2,2),strides=(2,2)))\n",
        "  grape_avg.add(BatchNormalization())\n",
        "\n",
        "  avg1 = tf.keras.layers.GlobalAveragePooling2D()(grape_avg.layers[-1].output)\n",
        "  class1 = Dense(16, activation='relu', kernel_initializer='he_uniform')(avg1)\n",
        "  output = Dense(4, activation='softmax')(class1)\n",
        "  grape_avg = Model(inputs=grape_avg.inputs, outputs=output)\n",
        "  return grape_avg"
      ],
      "metadata": {
        "id": "H3xUktsja4Ym"
      },
      "execution_count": null,
      "outputs": []
    },
    {
      "cell_type": "code",
      "source": [
        "grape_avg = define_g_a()\n",
        "grape_avg.compile(optimizer='adam', loss='categorical_crossentropy', metrics=['accuracy'])\n",
        "grape_avg.summary()"
      ],
      "metadata": {
        "colab": {
          "base_uri": "https://localhost:8080/"
        },
        "id": "uCidVZRFbAr7",
        "outputId": "b0e5b37a-a249-476d-a198-179013f01149"
      },
      "execution_count": null,
      "outputs": [
        {
          "output_type": "stream",
          "name": "stdout",
          "text": [
            "Model: \"model\"\n",
            "_________________________________________________________________\n",
            " Layer (type)                Output Shape              Param #   \n",
            "=================================================================\n",
            " conv2d_input (InputLayer)   [(None, 128, 128, 3)]     0         \n",
            "                                                                 \n",
            " conv2d (Conv2D)             (None, 128, 128, 16)      448       \n",
            "                                                                 \n",
            " max_pooling2d (MaxPooling2  (None, 64, 64, 16)        0         \n",
            " D)                                                              \n",
            "                                                                 \n",
            " batch_normalization (Batch  (None, 64, 64, 16)        64        \n",
            " Normalization)                                                  \n",
            "                                                                 \n",
            " conv2d_1 (Conv2D)           (None, 64, 64, 32)        4640      \n",
            "                                                                 \n",
            " max_pooling2d_1 (MaxPoolin  (None, 32, 32, 32)        0         \n",
            " g2D)                                                            \n",
            "                                                                 \n",
            " batch_normalization_1 (Bat  (None, 32, 32, 32)        128       \n",
            " chNormalization)                                                \n",
            "                                                                 \n",
            " conv2d_2 (Conv2D)           (None, 32, 32, 64)        18496     \n",
            "                                                                 \n",
            " max_pooling2d_2 (MaxPoolin  (None, 16, 16, 64)        0         \n",
            " g2D)                                                            \n",
            "                                                                 \n",
            " batch_normalization_2 (Bat  (None, 16, 16, 64)        256       \n",
            " chNormalization)                                                \n",
            "                                                                 \n",
            " global_average_pooling2d (  (None, 64)                0         \n",
            " GlobalAveragePooling2D)                                         \n",
            "                                                                 \n",
            " dense (Dense)               (None, 16)                1040      \n",
            "                                                                 \n",
            " dense_1 (Dense)             (None, 4)                 68        \n",
            "                                                                 \n",
            "=================================================================\n",
            "Total params: 25140 (98.20 KB)\n",
            "Trainable params: 24916 (97.33 KB)\n",
            "Non-trainable params: 224 (896.00 Byte)\n",
            "_________________________________________________________________\n"
          ]
        }
      ]
    },
    {
      "cell_type": "code",
      "source": [
        "%%time\n",
        "epochsteps=len(train_set);epochs =20;valsteps=len(valid_set)\n",
        "# fit model\n",
        "history = grape_avg.fit(train_set, steps_per_epoch=epochsteps,\n",
        "                    validation_data=valid_set, validation_steps=valsteps, callbacks = callbacks, epochs=epochs, verbose=1)"
      ],
      "metadata": {
        "colab": {
          "base_uri": "https://localhost:8080/"
        },
        "id": "eAXenc955Ii5",
        "outputId": "00d70947-fb87-489c-bc95-2a6bc4b24f43"
      },
      "execution_count": null,
      "outputs": [
        {
          "output_type": "stream",
          "name": "stdout",
          "text": [
            "Epoch 1/20\n",
            "181/181 [==============================] - ETA: 0s - loss: 0.4211 - accuracy: 0.8570\n",
            "Epoch 1: val_loss improved from inf to 5.29130, saving model to /content/my_best_model.epoch01-loss5.29.hdf5\n",
            "181/181 [==============================] - 19s 41ms/step - loss: 0.4211 - accuracy: 0.8570 - val_loss: 5.2913 - val_accuracy: 0.2445\n",
            "Epoch 2/20\n",
            "180/181 [============================>.] - ETA: 0s - loss: 0.1980 - accuracy: 0.9330\n",
            "Epoch 2: val_loss did not improve from 5.29130\n",
            "181/181 [==============================] - 9s 45ms/step - loss: 0.1981 - accuracy: 0.9328 - val_loss: 6.6821 - val_accuracy: 0.4543\n",
            "Epoch 3/20\n",
            "179/181 [============================>.] - ETA: 0s - loss: 0.1294 - accuracy: 0.9560\n",
            "Epoch 3: val_loss improved from 5.29130 to 1.56099, saving model to /content/my_best_model.epoch03-loss1.56.hdf5\n",
            "181/181 [==============================] - 8s 41ms/step - loss: 0.1293 - accuracy: 0.9560 - val_loss: 1.5610 - val_accuracy: 0.5436\n",
            "Epoch 4/20\n",
            "180/181 [============================>.] - ETA: 0s - loss: 0.1055 - accuracy: 0.9620\n",
            "Epoch 4: val_loss improved from 1.56099 to 0.41978, saving model to /content/my_best_model.epoch04-loss0.42.hdf5\n",
            "181/181 [==============================] - 6s 33ms/step - loss: 0.1054 - accuracy: 0.9621 - val_loss: 0.4198 - val_accuracy: 0.8553\n",
            "Epoch 5/20\n",
            "181/181 [==============================] - ETA: 0s - loss: 0.0848 - accuracy: 0.9701\n",
            "Epoch 5: val_loss improved from 0.41978 to 0.12329, saving model to /content/my_best_model.epoch05-loss0.12.hdf5\n",
            "181/181 [==============================] - 6s 30ms/step - loss: 0.0848 - accuracy: 0.9701 - val_loss: 0.1233 - val_accuracy: 0.9564\n",
            "Epoch 6/20\n",
            "179/181 [============================>.] - ETA: 0s - loss: 0.0612 - accuracy: 0.9806\n",
            "Epoch 6: val_loss improved from 0.12329 to 0.09754, saving model to /content/my_best_model.epoch06-loss0.10.hdf5\n",
            "181/181 [==============================] - 7s 37ms/step - loss: 0.0622 - accuracy: 0.9803 - val_loss: 0.0975 - val_accuracy: 0.9681\n",
            "Epoch 7/20\n",
            "179/181 [============================>.] - ETA: 0s - loss: 0.0580 - accuracy: 0.9813\n",
            "Epoch 7: val_loss did not improve from 0.09754\n",
            "181/181 [==============================] - 8s 41ms/step - loss: 0.0577 - accuracy: 0.9815 - val_loss: 0.3866 - val_accuracy: 0.8532\n",
            "Epoch 8/20\n",
            "181/181 [==============================] - ETA: 0s - loss: 0.0559 - accuracy: 0.9810\n",
            "Epoch 8: val_loss did not improve from 0.09754\n",
            "181/181 [==============================] - 6s 32ms/step - loss: 0.0559 - accuracy: 0.9810 - val_loss: 1.2375 - val_accuracy: 0.7306\n",
            "Epoch 9/20\n",
            "179/181 [============================>.] - ETA: 0s - loss: 0.0445 - accuracy: 0.9848\n",
            "Epoch 9: val_loss did not improve from 0.09754\n",
            "181/181 [==============================] - 7s 36ms/step - loss: 0.0448 - accuracy: 0.9846 - val_loss: 0.3081 - val_accuracy: 0.8961\n",
            "Epoch 10/20\n",
            "179/181 [============================>.] - ETA: 0s - loss: 0.0392 - accuracy: 0.9873\n",
            "Epoch 10: val_loss did not improve from 0.09754\n",
            "181/181 [==============================] - 6s 30ms/step - loss: 0.0391 - accuracy: 0.9874 - val_loss: 2.3252 - val_accuracy: 0.6690\n",
            "Epoch 11/20\n",
            "180/181 [============================>.] - ETA: 0s - loss: 0.0291 - accuracy: 0.9910\n",
            "Epoch 11: val_loss did not improve from 0.09754\n",
            "181/181 [==============================] - 6s 30ms/step - loss: 0.0291 - accuracy: 0.9910 - val_loss: 0.4790 - val_accuracy: 0.8823\n",
            "Epoch 12/20\n",
            "180/181 [============================>.] - ETA: 0s - loss: 0.0371 - accuracy: 0.9859\n",
            "Epoch 12: val_loss did not improve from 0.09754\n",
            "181/181 [==============================] - 7s 40ms/step - loss: 0.0370 - accuracy: 0.9860 - val_loss: 2.0548 - val_accuracy: 0.6184\n",
            "Epoch 13/20\n",
            "179/181 [============================>.] - ETA: 0s - loss: 0.0459 - accuracy: 0.9841\n",
            "Epoch 13: val_loss did not improve from 0.09754\n",
            "181/181 [==============================] - 8s 43ms/step - loss: 0.0462 - accuracy: 0.9839 - val_loss: 2.2668 - val_accuracy: 0.6392\n",
            "Epoch 14/20\n",
            "178/181 [============================>.] - ETA: 0s - loss: 0.0255 - accuracy: 0.9923\n",
            "Epoch 14: val_loss did not improve from 0.09754\n",
            "181/181 [==============================] - 6s 32ms/step - loss: 0.0255 - accuracy: 0.9922 - val_loss: 0.2112 - val_accuracy: 0.9453\n",
            "Epoch 15/20\n",
            "180/181 [============================>.] - ETA: 0s - loss: 0.0306 - accuracy: 0.9911\n",
            "Epoch 15: val_loss improved from 0.09754 to 0.05871, saving model to /content/my_best_model.epoch15-loss0.06.hdf5\n",
            "181/181 [==============================] - 6s 31ms/step - loss: 0.0306 - accuracy: 0.9912 - val_loss: 0.0587 - val_accuracy: 0.9841\n",
            "Epoch 16/20\n",
            "180/181 [============================>.] - ETA: 0s - loss: 0.0189 - accuracy: 0.9939\n",
            "Epoch 16: val_loss improved from 0.05871 to 0.04640, saving model to /content/my_best_model.epoch16-loss0.05.hdf5\n",
            "181/181 [==============================] - 6s 34ms/step - loss: 0.0189 - accuracy: 0.9939 - val_loss: 0.0464 - val_accuracy: 0.9834\n",
            "Epoch 17/20\n",
            "179/181 [============================>.] - ETA: 0s - loss: 0.0382 - accuracy: 0.9880\n",
            "Epoch 17: val_loss did not improve from 0.04640\n",
            "181/181 [==============================] - 7s 37ms/step - loss: 0.0384 - accuracy: 0.9879 - val_loss: 5.5595 - val_accuracy: 0.5547\n",
            "Epoch 18/20\n",
            "179/181 [============================>.] - ETA: 0s - loss: 0.0250 - accuracy: 0.9918\n",
            "Epoch 18: val_loss did not improve from 0.04640\n",
            "181/181 [==============================] - 6s 30ms/step - loss: 0.0254 - accuracy: 0.9917 - val_loss: 0.0769 - val_accuracy: 0.9792\n",
            "Epoch 19/20\n",
            "178/181 [============================>.] - ETA: 0s - loss: 0.0143 - accuracy: 0.9960\n",
            "Epoch 19: val_loss did not improve from 0.04640\n",
            "181/181 [==============================] - 7s 37ms/step - loss: 0.0141 - accuracy: 0.9960 - val_loss: 0.0920 - val_accuracy: 0.9661\n",
            "Epoch 20/20\n",
            "178/181 [============================>.] - ETA: 0s - loss: 0.0227 - accuracy: 0.9933\n",
            "Epoch 20: val_loss did not improve from 0.04640\n",
            "181/181 [==============================] - 6s 32ms/step - loss: 0.0225 - accuracy: 0.9934 - val_loss: 1.5333 - val_accuracy: 0.7535\n",
            "CPU times: user 3min 11s, sys: 13.2 s, total: 3min 24s\n",
            "Wall time: 3min 6s\n"
          ]
        }
      ]
    },
    {
      "cell_type": "code",
      "source": [
        "plt.plot(history.history['val_loss'], color = 'orange')\n",
        "plt.plot(history.history['loss'], color='red')\n",
        "plt.plot(history.history['accuracy'], color = 'green')\n",
        "plt.plot(history.history['val_accuracy'], color = 'blue')\n",
        "plt.legend(['Val_loss','Train_loss'])\n",
        "e=range(0,20)\n",
        "labels=range(1,21)\n",
        "plt.xlabel(\"Epochs\")\n",
        "plt.ylabel(\"Loss\")\n",
        "plt.xticks(e,labels)\n",
        "plt.show()"
      ],
      "metadata": {
        "colab": {
          "base_uri": "https://localhost:8080/",
          "height": 454
        },
        "id": "WSe47_fc5ROG",
        "outputId": "6989ede3-5e32-4d23-f4ba-31f32e671672"
      },
      "execution_count": null,
      "outputs": [
        {
          "output_type": "display_data",
          "data": {
            "text/plain": [
              "<Figure size 640x480 with 1 Axes>"
            ],
            "image/png": "[encoded data removed]"
          },
          "metadata": {}
        }
      ]
    },
    {
      "cell_type": "code",
      "source": [
        "grape_model = tf.keras.models.load_model('/content/my_best_model.epoch16-loss0.05.hdf5')"
      ],
      "metadata": {
        "id": "4dE5iw2ITK1S"
      },
      "execution_count": null,
      "outputs": []
    },
    {
      "cell_type": "code",
      "source": [
        "labels = []\n",
        "predictions = []\n",
        "for x,y in test_set:\n",
        "    labels.append(list(y.numpy()))\n",
        "    predictions.append(tf.argmax(grape_model.predict(x),1).numpy())"
      ],
      "metadata": {
        "colab": {
          "base_uri": "https://localhost:8080/"
        },
        "id": "f7fS-Xn65UhA",
        "outputId": "b9e13f0d-a7ac-4075-b553-6a99d94e732f"
      },
      "execution_count": null,
      "outputs": [
        {
          "output_type": "stream",
          "name": "stdout",
          "text": [
            "1/1 [==============================] - 0s 260ms/step\n",
            "1/1 [==============================] - 0s 30ms/step\n",
            "1/1 [==============================] - 0s 62ms/step\n",
            "1/1 [==============================] - 0s 96ms/step\n",
            "1/1 [==============================] - 0s 80ms/step\n",
            "1/1 [==============================] - 0s 36ms/step\n",
            "1/1 [==============================] - 0s 69ms/step\n",
            "1/1 [==============================] - 0s 34ms/step\n",
            "1/1 [==============================] - 0s 64ms/step\n",
            "1/1 [==============================] - 0s 34ms/step\n",
            "1/1 [==============================] - 0s 28ms/step\n",
            "1/1 [==============================] - 0s 35ms/step\n",
            "1/1 [==============================] - 0s 33ms/step\n",
            "1/1 [==============================] - 0s 37ms/step\n",
            "1/1 [==============================] - 0s 29ms/step\n",
            "1/1 [==============================] - 0s 26ms/step\n",
            "1/1 [==============================] - 0s 32ms/step\n",
            "1/1 [==============================] - 0s 28ms/step\n",
            "1/1 [==============================] - 0s 34ms/step\n",
            "1/1 [==============================] - 0s 28ms/step\n",
            "1/1 [==============================] - 0s 34ms/step\n",
            "1/1 [==============================] - 0s 39ms/step\n",
            "1/1 [==============================] - 0s 27ms/step\n",
            "1/1 [==============================] - 0s 29ms/step\n",
            "1/1 [==============================] - 0s 30ms/step\n",
            "1/1 [==============================] - 0s 28ms/step\n",
            "1/1 [==============================] - 0s 33ms/step\n",
            "1/1 [==============================] - 0s 35ms/step\n",
            "1/1 [==============================] - 0s 32ms/step\n",
            "1/1 [==============================] - 0s 30ms/step\n",
            "1/1 [==============================] - 0s 32ms/step\n",
            "1/1 [==============================] - 0s 27ms/step\n",
            "1/1 [==============================] - 0s 34ms/step\n",
            "1/1 [==============================] - 0s 32ms/step\n",
            "1/1 [==============================] - 0s 22ms/step\n",
            "1/1 [==============================] - 0s 21ms/step\n",
            "1/1 [==============================] - 0s 19ms/step\n",
            "1/1 [==============================] - 0s 19ms/step\n",
            "1/1 [==============================] - 0s 24ms/step\n",
            "1/1 [==============================] - 0s 19ms/step\n",
            "1/1 [==============================] - 0s 19ms/step\n",
            "1/1 [==============================] - 0s 23ms/step\n",
            "1/1 [==============================] - 0s 20ms/step\n",
            "1/1 [==============================] - 0s 20ms/step\n",
            "1/1 [==============================] - 0s 19ms/step\n",
            "1/1 [==============================] - 0s 18ms/step\n",
            "1/1 [==============================] - 0s 21ms/step\n",
            "1/1 [==============================] - 0s 22ms/step\n",
            "1/1 [==============================] - 0s 19ms/step\n",
            "1/1 [==============================] - 0s 20ms/step\n",
            "1/1 [==============================] - 0s 27ms/step\n",
            "1/1 [==============================] - 0s 20ms/step\n",
            "1/1 [==============================] - 0s 18ms/step\n",
            "1/1 [==============================] - 0s 19ms/step\n",
            "1/1 [==============================] - 0s 20ms/step\n",
            "1/1 [==============================] - 0s 23ms/step\n",
            "1/1 [==============================] - 0s 96ms/step\n"
          ]
        }
      ]
    },
    {
      "cell_type": "code",
      "source": [
        "predictions = list(itertools.chain.from_iterable(predictions))\n",
        "labels = list(itertools.chain.from_iterable(labels))"
      ],
      "metadata": {
        "id": "XBzfafXE5YMo"
      },
      "execution_count": null,
      "outputs": []
    },
    {
      "cell_type": "code",
      "source": [
        "print(\"Train Accuracy  : {:.2f} %\".format(history.history['accuracy'][-1]*100))\n",
        "print(\"Test Accuracy   : {:.2f} %\".format(accuracy_score(labels, predictions) * 100))\n",
        "print(\"Precision Score : {:.2f} %\".format(precision_score(labels, predictions, average='micro') * 100))\n",
        "print(\"Recall Score    : {:.2f} %\".format(recall_score(labels, predictions, average='micro') * 100))"
      ],
      "metadata": {
        "colab": {
          "base_uri": "https://localhost:8080/"
        },
        "id": "WgacXWRj5cOH",
        "outputId": "473c65b7-07d5-49ae-9816-672840586838"
      },
      "execution_count": null,
      "outputs": [
        {
          "output_type": "stream",
          "name": "stdout",
          "text": [
            "Train Accuracy  : 99.34 %\n",
            "Test Accuracy   : 97.67 %\n",
            "Precision Score : 97.67 %\n",
            "Recall Score    : 97.67 %\n"
          ]
        }
      ]
    },
    {
      "cell_type": "code",
      "source": [
        "# Plot a confusion matrix based on the true labels and predicted labels\n",
        "plt.figure(figsize= (2,2))\n",
        "cm = confusion_matrix(labels, predictions)\n",
        "disp = ConfusionMatrixDisplay(confusion_matrix=cm, display_labels=list(range(1,5)))\n",
        "fig, ax = plt.subplots(figsize=(10,10))\n",
        "disp.plot(ax=ax,colorbar= False,cmap = 'YlGnBu')\n",
        "plt.title(\"Confusion Matrix\")\n",
        "plt.xlabel('Predicted Labels')\n",
        "plt.ylabel('True Labels')\n",
        "plt.show()"
      ],
      "metadata": {
        "colab": {
          "base_uri": "https://localhost:8080/",
          "height": 889
        },
        "id": "YL6tbsGJ5ilW",
        "outputId": "74319075-7411-43ae-8917-2985530ea833"
      },
      "execution_count": null,
      "outputs": [
        {
          "output_type": "display_data",
          "data": {
            "text/plain": [
              "<Figure size 200x200 with 0 Axes>"
            ]
          },
          "metadata": {}
        },
        {
          "output_type": "display_data",
          "data": {
            "text/plain": [
              "<Figure size 1000x1000 with 1 Axes>"
            ],
            "image/png": "[encoded data removed]"
          },
          "metadata": {}
        }
      ]
    },
    {
      "cell_type": "code",
      "source": [
        "grape_model.save(\"Grape_Avg_20_Final_97.67.h5\")"
      ],
      "metadata": {
        "id": "xbN1yMtM5mrS"
      },
      "execution_count": null,
      "outputs": []
    },
    {
      "cell_type": "markdown",
      "source": [
        "# **Corn**"
      ],
      "metadata": {
        "id": "fspXYoy7bIfp"
      }
    },
    {
      "cell_type": "code",
      "source": [
        "data_dir = r\"/tmp/DS MINI PROJECT DATASET(BALANCEDANDIMBALANCED)\"\n",
        "\n",
        "train_corn_dir = data_dir + \"/Training/Corn\"\n",
        "test_corn_dir = data_dir + \"/Testing/Corn\""
      ],
      "metadata": {
        "id": "XmYw6IBlbNFY"
      },
      "execution_count": null,
      "outputs": []
    },
    {
      "cell_type": "code",
      "source": [
        "seed_train_validation = 1 # Must be same for train_ds and val_ds\n",
        "shuffle_value = True\n",
        "validation_split = 0.2\n",
        "\n",
        "train_gen = tf.keras.utils.image_dataset_from_directory(\n",
        "                                                        directory = train_corn_dir,\n",
        "                                                        image_size = (128, 128),\n",
        "                                                        label_mode='categorical',\n",
        "                                                        validation_split = validation_split,\n",
        "                                                        batch_size=32,\n",
        "                                                        subset = \"training\",\n",
        "                                                        seed = seed_train_validation,\n",
        "                                                        shuffle = shuffle_value)\n",
        "\n",
        "val_gen = tf.keras.utils.image_dataset_from_directory(\n",
        "                                                        directory = train_corn_dir,\n",
        "                                                        image_size = (128, 128),\n",
        "                                                        validation_split = validation_split,\n",
        "                                                        label_mode='categorical',\n",
        "                                                        batch_size=32,\n",
        "                                                        subset = \"validation\",\n",
        "                                                        seed = seed_train_validation,\n",
        "                                                        shuffle = shuffle_value)\n",
        "\n",
        "test_it = tf.keras.utils.image_dataset_from_directory( directory= test_corn_dir,\n",
        "                                                      batch_size=32,\n",
        "                                                      image_size=(128, 128))"
      ],
      "metadata": {
        "colab": {
          "base_uri": "https://localhost:8080/"
        },
        "id": "Dss6M2-fbVBQ",
        "outputId": "a66f25cd-db0a-4f3e-a969-03a6bfb47f00"
      },
      "execution_count": null,
      "outputs": [
        {
          "output_type": "stream",
          "name": "stdout",
          "text": [
            "Found 7316 files belonging to 4 classes.\n",
            "Using 5853 files for training.\n",
            "Found 7316 files belonging to 4 classes.\n",
            "Using 1463 files for validation.\n",
            "Found 1829 files belonging to 4 classes.\n"
          ]
        }
      ]
    },
    {
      "cell_type": "code",
      "source": [
        "rescale = Rescaling(scale=1./255)\n",
        "train_set  = train_gen.map(lambda image,label:(rescale(image),label))\n",
        "valid_set  = val_gen.map(lambda image,label:(rescale(image),label))\n",
        "test_set  = test_it.map(lambda image,label:(rescale(image),label))"
      ],
      "metadata": {
        "id": "7oR2jrQs9VlT"
      },
      "execution_count": null,
      "outputs": []
    },
    {
      "cell_type": "code",
      "source": [
        "def define_c_a():\n",
        "  corn_avg = models.Sequential()\n",
        "  corn_avg = Sequential()\n",
        "\n",
        "  corn_avg.add(Conv2D(filters=16,kernel_size=(3,3),padding=\"same\", activation=\"relu\", input_shape=(128,128,3)))\n",
        "  corn_avg.add(MaxPool2D(pool_size=(2,2),strides=(2,2)))\n",
        "  corn_avg.add(BatchNormalization())\n",
        "\n",
        "  corn_avg.add(Conv2D(filters=32, kernel_size=(3,3), padding=\"same\", activation=\"relu\"))\n",
        "  corn_avg.add(MaxPool2D(pool_size=(2,2),strides=(2,2)))\n",
        "  corn_avg.add(BatchNormalization())\n",
        "\n",
        "  corn_avg.add(Conv2D(filters=64, kernel_size=(3,3), padding=\"same\", activation=\"relu\"))\n",
        "  corn_avg.add(MaxPool2D(pool_size=(2,2),strides=(2,2)))\n",
        "  corn_avg.add(BatchNormalization())\n",
        "\n",
        "  avg1 = tf.keras.layers.GlobalAveragePooling2D()(corn_avg.layers[-1].output)\n",
        "  class1 = Dense(16, activation='relu', kernel_initializer='he_uniform')(avg1)\n",
        "  output = Dense(4, activation='softmax')(class1)\n",
        "  corn_avg = Model(inputs=corn_avg.inputs, outputs=output)\n",
        "  return corn_avg"
      ],
      "metadata": {
        "id": "ea_x2gRgbYJt"
      },
      "execution_count": null,
      "outputs": []
    },
    {
      "cell_type": "code",
      "source": [
        "corn_avg = define_c_a()\n",
        "corn_avg.compile(optimizer='adam', loss='categorical_crossentropy', metrics=['accuracy'])\n",
        "corn_avg.summary()"
      ],
      "metadata": {
        "colab": {
          "base_uri": "https://localhost:8080/"
        },
        "id": "jZ55PIQcbeqC",
        "outputId": "86ffed93-2a95-4f5d-d06a-4dcb4689114c"
      },
      "execution_count": null,
      "outputs": [
        {
          "output_type": "stream",
          "name": "stdout",
          "text": [
            "Model: \"model_9\"\n",
            "_________________________________________________________________\n",
            " Layer (type)                Output Shape              Param #   \n",
            "=================================================================\n",
            " conv2d_27_input (InputLaye  [(None, 128, 128, 3)]     0         \n",
            " r)                                                              \n",
            "                                                                 \n",
            " conv2d_27 (Conv2D)          (None, 128, 128, 16)      448       \n",
            "                                                                 \n",
            " max_pooling2d_27 (MaxPooli  (None, 64, 64, 16)        0         \n",
            " ng2D)                                                           \n",
            "                                                                 \n",
            " batch_normalization_12 (Ba  (None, 64, 64, 16)        64        \n",
            " tchNormalization)                                               \n",
            "                                                                 \n",
            " conv2d_28 (Conv2D)          (None, 64, 64, 32)        4640      \n",
            "                                                                 \n",
            " max_pooling2d_28 (MaxPooli  (None, 32, 32, 32)        0         \n",
            " ng2D)                                                           \n",
            "                                                                 \n",
            " batch_normalization_13 (Ba  (None, 32, 32, 32)        128       \n",
            " tchNormalization)                                               \n",
            "                                                                 \n",
            " conv2d_29 (Conv2D)          (None, 32, 32, 64)        18496     \n",
            "                                                                 \n",
            " max_pooling2d_29 (MaxPooli  (None, 16, 16, 64)        0         \n",
            " ng2D)                                                           \n",
            "                                                                 \n",
            " batch_normalization_14 (Ba  (None, 16, 16, 64)        256       \n",
            " tchNormalization)                                               \n",
            "                                                                 \n",
            " global_average_pooling2d_9  (None, 64)                0         \n",
            "  (GlobalAveragePooling2D)                                       \n",
            "                                                                 \n",
            " dense_18 (Dense)            (None, 16)                1040      \n",
            "                                                                 \n",
            " dense_19 (Dense)            (None, 4)                 68        \n",
            "                                                                 \n",
            "=================================================================\n",
            "Total params: 25140 (98.20 KB)\n",
            "Trainable params: 24916 (97.33 KB)\n",
            "Non-trainable params: 224 (896.00 Byte)\n",
            "_________________________________________________________________\n"
          ]
        }
      ]
    },
    {
      "cell_type": "code",
      "source": [
        "epochsteps=len(train_set);epochs=20;valsteps=len(valid_set)\n",
        "# fit model\n",
        "history = corn_avg.fit(train_set, steps_per_epoch=epochsteps,\n",
        "                    validation_data=valid_set, validation_steps=valsteps, epochs=20, callbacks = callbacks, verbose=1)"
      ],
      "metadata": {
        "colab": {
          "base_uri": "https://localhost:8080/"
        },
        "id": "31vIsyt1bexH",
        "outputId": "9c3f83a7-2129-4f8e-cb82-1b8ce39416f4"
      },
      "execution_count": null,
      "outputs": [
        {
          "output_type": "stream",
          "name": "stdout",
          "text": [
            "Epoch 1/20\n",
            "180/183 [============================>.] - ETA: 0s - loss: 0.2980 - accuracy: 0.8946\n",
            "Epoch 1: val_loss improved from inf to 1.21260, saving model to /content/my_best_model.epoch01-loss1.21.hdf5\n",
            "183/183 [==============================] - 10s 37ms/step - loss: 0.2952 - accuracy: 0.8958 - val_loss: 1.2126 - val_accuracy: 0.4607\n",
            "Epoch 2/20\n",
            "181/183 [============================>.] - ETA: 0s - loss: 0.1553 - accuracy: 0.9434\n",
            "Epoch 2: val_loss improved from 1.21260 to 0.93524, saving model to /content/my_best_model.epoch02-loss0.94.hdf5\n",
            "183/183 [==============================] - 6s 32ms/step - loss: 0.1553 - accuracy: 0.9433 - val_loss: 0.9352 - val_accuracy: 0.6794\n",
            "Epoch 3/20\n",
            "181/183 [============================>.] - ETA: 0s - loss: 0.1376 - accuracy: 0.9468\n",
            "Epoch 3: val_loss improved from 0.93524 to 0.40114, saving model to /content/my_best_model.epoch03-loss0.40.hdf5\n",
            "183/183 [==============================] - 7s 36ms/step - loss: 0.1367 - accuracy: 0.9474 - val_loss: 0.4011 - val_accuracy: 0.8346\n",
            "Epoch 4/20\n",
            "183/183 [==============================] - ETA: 0s - loss: 0.1105 - accuracy: 0.9585\n",
            "Epoch 4: val_loss improved from 0.40114 to 0.29713, saving model to /content/my_best_model.epoch04-loss0.30.hdf5\n",
            "183/183 [==============================] - 7s 38ms/step - loss: 0.1105 - accuracy: 0.9585 - val_loss: 0.2971 - val_accuracy: 0.8735\n",
            "Epoch 5/20\n",
            "181/183 [============================>.] - ETA: 0s - loss: 0.1114 - accuracy: 0.9574\n",
            "Epoch 5: val_loss improved from 0.29713 to 0.18034, saving model to /content/my_best_model.epoch05-loss0.18.hdf5\n",
            "183/183 [==============================] - 8s 42ms/step - loss: 0.1123 - accuracy: 0.9573 - val_loss: 0.1803 - val_accuracy: 0.9221\n",
            "Epoch 6/20\n",
            "183/183 [==============================] - ETA: 0s - loss: 0.0993 - accuracy: 0.9640\n",
            "Epoch 6: val_loss improved from 0.18034 to 0.16609, saving model to /content/my_best_model.epoch06-loss0.17.hdf5\n",
            "183/183 [==============================] - 6s 30ms/step - loss: 0.0993 - accuracy: 0.9640 - val_loss: 0.1661 - val_accuracy: 0.9378\n",
            "Epoch 7/20\n",
            "181/183 [============================>.] - ETA: 0s - loss: 0.0912 - accuracy: 0.9646\n",
            "Epoch 7: val_loss improved from 0.16609 to 0.07049, saving model to /content/my_best_model.epoch07-loss0.07.hdf5\n",
            "183/183 [==============================] - 6s 32ms/step - loss: 0.0915 - accuracy: 0.9645 - val_loss: 0.0705 - val_accuracy: 0.9754\n",
            "Epoch 8/20\n",
            "181/183 [============================>.] - ETA: 0s - loss: 0.0899 - accuracy: 0.9653\n",
            "Epoch 8: val_loss did not improve from 0.07049\n",
            "183/183 [==============================] - 7s 37ms/step - loss: 0.0897 - accuracy: 0.9651 - val_loss: 0.1184 - val_accuracy: 0.9549\n",
            "Epoch 9/20\n",
            "181/183 [============================>.] - ETA: 0s - loss: 0.0756 - accuracy: 0.9720\n",
            "Epoch 9: val_loss did not improve from 0.07049\n",
            "183/183 [==============================] - 6s 31ms/step - loss: 0.0754 - accuracy: 0.9720 - val_loss: 0.2512 - val_accuracy: 0.9057\n",
            "Epoch 10/20\n",
            "180/183 [============================>.] - ETA: 0s - loss: 0.0734 - accuracy: 0.9719\n",
            "Epoch 10: val_loss did not improve from 0.07049\n",
            "183/183 [==============================] - 6s 30ms/step - loss: 0.0731 - accuracy: 0.9720 - val_loss: 0.5181 - val_accuracy: 0.8004\n",
            "Epoch 11/20\n",
            "181/183 [============================>.] - ETA: 0s - loss: 0.0628 - accuracy: 0.9770\n",
            "Epoch 11: val_loss did not improve from 0.07049\n",
            "183/183 [==============================] - 7s 36ms/step - loss: 0.0627 - accuracy: 0.9769 - val_loss: 0.3595 - val_accuracy: 0.8565\n",
            "Epoch 12/20\n",
            "181/183 [============================>.] - ETA: 0s - loss: 0.0695 - accuracy: 0.9741\n",
            "Epoch 12: val_loss did not improve from 0.07049\n",
            "183/183 [==============================] - 6s 31ms/step - loss: 0.0697 - accuracy: 0.9740 - val_loss: 1.4978 - val_accuracy: 0.7068\n",
            "Epoch 13/20\n",
            "181/183 [============================>.] - ETA: 0s - loss: 0.0601 - accuracy: 0.9791\n",
            "Epoch 13: val_loss improved from 0.07049 to 0.05511, saving model to /content/my_best_model.epoch13-loss0.06.hdf5\n",
            "183/183 [==============================] - 7s 37ms/step - loss: 0.0596 - accuracy: 0.9793 - val_loss: 0.0551 - val_accuracy: 0.9809\n",
            "Epoch 14/20\n",
            "183/183 [==============================] - ETA: 0s - loss: 0.0641 - accuracy: 0.9768\n",
            "Epoch 14: val_loss did not improve from 0.05511\n",
            "183/183 [==============================] - 6s 30ms/step - loss: 0.0641 - accuracy: 0.9768 - val_loss: 0.0741 - val_accuracy: 0.9761\n",
            "Epoch 15/20\n",
            "182/183 [============================>.] - ETA: 0s - loss: 0.0578 - accuracy: 0.9804\n",
            "Epoch 15: val_loss did not improve from 0.05511\n",
            "183/183 [==============================] - 7s 36ms/step - loss: 0.0576 - accuracy: 0.9805 - val_loss: 0.2217 - val_accuracy: 0.8995\n",
            "Epoch 16/20\n",
            "183/183 [==============================] - ETA: 0s - loss: 0.0518 - accuracy: 0.9814\n",
            "Epoch 16: val_loss improved from 0.05511 to 0.04942, saving model to /content/my_best_model.epoch16-loss0.05.hdf5\n",
            "183/183 [==============================] - 7s 38ms/step - loss: 0.0518 - accuracy: 0.9814 - val_loss: 0.0494 - val_accuracy: 0.9822\n",
            "Epoch 17/20\n",
            "180/183 [============================>.] - ETA: 0s - loss: 0.0517 - accuracy: 0.9816\n",
            "Epoch 17: val_loss did not improve from 0.04942\n",
            "183/183 [==============================] - 6s 31ms/step - loss: 0.0512 - accuracy: 0.9819 - val_loss: 0.0850 - val_accuracy: 0.9720\n",
            "Epoch 18/20\n",
            "183/183 [==============================] - ETA: 0s - loss: 0.0437 - accuracy: 0.9850\n",
            "Epoch 18: val_loss did not improve from 0.04942\n",
            "183/183 [==============================] - 6s 29ms/step - loss: 0.0437 - accuracy: 0.9850 - val_loss: 0.0550 - val_accuracy: 0.9768\n",
            "Epoch 19/20\n",
            "180/183 [============================>.] - ETA: 0s - loss: 0.0475 - accuracy: 0.9833\n",
            "Epoch 19: val_loss did not improve from 0.04942\n",
            "183/183 [==============================] - 6s 30ms/step - loss: 0.0473 - accuracy: 0.9834 - val_loss: 0.0978 - val_accuracy: 0.9665\n",
            "Epoch 20/20\n",
            "181/183 [============================>.] - ETA: 0s - loss: 0.0381 - accuracy: 0.9872\n",
            "Epoch 20: val_loss did not improve from 0.04942\n",
            "183/183 [==============================] - 7s 38ms/step - loss: 0.0379 - accuracy: 0.9874 - val_loss: 1.1397 - val_accuracy: 0.7690\n"
          ]
        }
      ]
    },
    {
      "cell_type": "code",
      "source": [
        "plt.plot(history.history['val_loss'], color = 'orange')\n",
        "plt.plot(history.history['loss'], color='red')\n",
        "plt.plot(history.history['accuracy'], color = 'green')\n",
        "plt.plot(history.history['val_accuracy'], color = 'blue')\n",
        "plt.legend(['Val_loss','Train_loss'])\n",
        "e=range(0,20)\n",
        "labels=range(1,21)\n",
        "plt.xlabel(\"Epochs\")\n",
        "plt.ylabel(\"Loss\")\n",
        "plt.xticks(e,labels)\n",
        "plt.show()"
      ],
      "metadata": {
        "colab": {
          "base_uri": "https://localhost:8080/",
          "height": 449
        },
        "id": "z6xOcNf0bkM5",
        "outputId": "3494a9ff-7566-4ef5-8151-df467137ee1a"
      },
      "execution_count": null,
      "outputs": [
        {
          "output_type": "display_data",
          "data": {
            "text/plain": [
              "<Figure size 640x480 with 1 Axes>"
            ],
            "image/png": "[encoded data removed]"
          },
          "metadata": {}
        }
      ]
    },
    {
      "cell_type": "code",
      "source": [
        "corn_model = tf.keras.models.load_model('/content/my_best_model.epoch16-loss0.05.hdf5')"
      ],
      "metadata": {
        "id": "3AVw6YWQI8lg"
      },
      "execution_count": null,
      "outputs": []
    },
    {
      "cell_type": "code",
      "source": [
        "labels = []\n",
        "predictions = []\n",
        "for x,y in test_set:\n",
        "    labels.append(list(y.numpy()))\n",
        "    predictions.append(tf.argmax(corn_model.predict(x),1).numpy())"
      ],
      "metadata": {
        "colab": {
          "base_uri": "https://localhost:8080/"
        },
        "outputId": "03231cfe-677d-44a8-f13a-51db4a805098",
        "id": "jVHRJWwD-QQ_"
      },
      "execution_count": null,
      "outputs": [
        {
          "output_type": "stream",
          "name": "stdout",
          "text": [
            "1/1 [==============================] - 0s 159ms/step\n",
            "1/1 [==============================] - 0s 32ms/step\n",
            "1/1 [==============================] - 0s 40ms/step\n",
            "1/1 [==============================] - 0s 28ms/step\n",
            "1/1 [==============================] - 0s 33ms/step\n",
            "1/1 [==============================] - 0s 32ms/step\n",
            "1/1 [==============================] - 0s 31ms/step\n",
            "1/1 [==============================] - 0s 29ms/step\n",
            "1/1 [==============================] - 0s 39ms/step\n",
            "1/1 [==============================] - 0s 31ms/step\n",
            "1/1 [==============================] - 0s 35ms/step\n",
            "1/1 [==============================] - 0s 35ms/step\n",
            "1/1 [==============================] - 0s 35ms/step\n",
            "1/1 [==============================] - 0s 32ms/step\n",
            "1/1 [==============================] - 0s 32ms/step\n",
            "1/1 [==============================] - 0s 31ms/step\n",
            "1/1 [==============================] - 0s 40ms/step\n",
            "1/1 [==============================] - 0s 23ms/step\n",
            "1/1 [==============================] - 0s 23ms/step\n",
            "1/1 [==============================] - 0s 23ms/step\n",
            "1/1 [==============================] - 0s 30ms/step\n",
            "1/1 [==============================] - 0s 23ms/step\n",
            "1/1 [==============================] - 0s 24ms/step\n",
            "1/1 [==============================] - 0s 23ms/step\n",
            "1/1 [==============================] - 0s 22ms/step\n",
            "1/1 [==============================] - 0s 23ms/step\n",
            "1/1 [==============================] - 0s 20ms/step\n",
            "1/1 [==============================] - 0s 21ms/step\n",
            "1/1 [==============================] - 0s 24ms/step\n",
            "1/1 [==============================] - 0s 22ms/step\n",
            "1/1 [==============================] - 0s 25ms/step\n",
            "1/1 [==============================] - 0s 21ms/step\n",
            "1/1 [==============================] - 0s 23ms/step\n",
            "1/1 [==============================] - 0s 21ms/step\n",
            "1/1 [==============================] - 0s 24ms/step\n",
            "1/1 [==============================] - 0s 22ms/step\n",
            "1/1 [==============================] - 0s 22ms/step\n",
            "1/1 [==============================] - 0s 21ms/step\n",
            "1/1 [==============================] - 0s 21ms/step\n",
            "1/1 [==============================] - 0s 21ms/step\n",
            "1/1 [==============================] - 0s 28ms/step\n",
            "1/1 [==============================] - 0s 25ms/step\n",
            "1/1 [==============================] - 0s 24ms/step\n",
            "1/1 [==============================] - 0s 24ms/step\n",
            "1/1 [==============================] - 0s 27ms/step\n",
            "1/1 [==============================] - 0s 23ms/step\n",
            "1/1 [==============================] - 0s 23ms/step\n",
            "1/1 [==============================] - 0s 23ms/step\n",
            "1/1 [==============================] - 0s 22ms/step\n",
            "1/1 [==============================] - 0s 22ms/step\n",
            "1/1 [==============================] - 0s 23ms/step\n",
            "1/1 [==============================] - 0s 26ms/step\n",
            "1/1 [==============================] - 0s 23ms/step\n",
            "1/1 [==============================] - 0s 25ms/step\n",
            "1/1 [==============================] - 0s 23ms/step\n",
            "1/1 [==============================] - 0s 25ms/step\n",
            "1/1 [==============================] - 0s 20ms/step\n",
            "1/1 [==============================] - 0s 96ms/step\n"
          ]
        }
      ]
    },
    {
      "cell_type": "code",
      "source": [
        "predictions = list(itertools.chain.from_iterable(predictions))\n",
        "labels = list(itertools.chain.from_iterable(labels))"
      ],
      "metadata": {
        "id": "H1QoEB7n-QQ_"
      },
      "execution_count": null,
      "outputs": []
    },
    {
      "cell_type": "code",
      "source": [
        "print(\"Train Accuracy  : {:.2f} %\".format(history.history['accuracy'][-1]*100))\n",
        "print(\"Test Accuracy   : {:.2f} %\".format(accuracy_score(labels, predictions) * 100))\n",
        "print(\"Precision Score : {:.2f} %\".format(precision_score(labels, predictions, average='micro') * 100))\n",
        "print(\"Recall Score    : {:.2f} %\".format(recall_score(labels, predictions, average='micro') * 100))"
      ],
      "metadata": {
        "colab": {
          "base_uri": "https://localhost:8080/"
        },
        "outputId": "94e4939c-156a-4963-8b3b-7a61af40293c",
        "id": "_kfdQVKw-QRA"
      },
      "execution_count": null,
      "outputs": [
        {
          "output_type": "stream",
          "name": "stdout",
          "text": [
            "Train Accuracy  : 98.74 %\n",
            "Test Accuracy   : 97.87 %\n",
            "Precision Score : 97.87 %\n",
            "Recall Score    : 97.87 %\n"
          ]
        }
      ]
    },
    {
      "cell_type": "code",
      "source": [
        "# Plot a confusion matrix based on the true labels and predicted labels\n",
        "plt.figure(figsize= (2,2))\n",
        "cm = confusion_matrix(labels, predictions)\n",
        "disp = ConfusionMatrixDisplay(confusion_matrix=cm, display_labels=list(range(1,5)))\n",
        "fig, ax = plt.subplots(figsize=(10,10))\n",
        "disp.plot(ax=ax,colorbar= False,cmap = 'YlGnBu')\n",
        "plt.title(\"Confusion Matrix\")\n",
        "plt.xlabel('Predicted Labels')\n",
        "plt.ylabel('True Labels')\n",
        "plt.show()"
      ],
      "metadata": {
        "colab": {
          "base_uri": "https://localhost:8080/",
          "height": 889
        },
        "outputId": "0081c5e9-f175-4358-fdd2-d52817111f40",
        "id": "CEQ9ex9F-QRA"
      },
      "execution_count": null,
      "outputs": [
        {
          "output_type": "display_data",
          "data": {
            "text/plain": [
              "<Figure size 200x200 with 0 Axes>"
            ]
          },
          "metadata": {}
        },
        {
          "output_type": "display_data",
          "data": {
            "text/plain": [
              "<Figure size 1000x1000 with 1 Axes>"
            ],
            "image/png": "[encoded data removed]"
          },
          "metadata": {}
        }
      ]
    },
    {
      "cell_type": "code",
      "source": [
        "corn_avg.save(\"Corn_Avg_20_Final_94.37.h5\")"
      ],
      "metadata": {
        "id": "qsLwDVBoboiD"
      },
      "execution_count": null,
      "outputs": []
    },
    {
      "cell_type": "markdown",
      "source": [
        "# **Tomato**"
      ],
      "metadata": {
        "id": "5uCLQ4zwbvys"
      }
    },
    {
      "cell_type": "code",
      "source": [
        "data_dir = r\"/tmp/DS MINI PROJECT DATASET(BALANCEDANDIMBALANCED)\"\n",
        "\n",
        "train_t_dir = data_dir + \"/Training/Tomato\"\n",
        "test_t_dir = data_dir + \"/Testing/Tomato\""
      ],
      "metadata": {
        "id": "PpF3Z4UYbzi0"
      },
      "execution_count": null,
      "outputs": []
    },
    {
      "cell_type": "code",
      "source": [
        "seed_train_validation = 1 # Must be same for train_ds and val_ds\n",
        "shuffle_value = True\n",
        "validation_split = 0.2\n",
        "\n",
        "train_gen = tf.keras.utils.image_dataset_from_directory(\n",
        "                                                        directory = train_t_dir,\n",
        "                                                        image_size = (128, 128),\n",
        "                                                        label_mode='categorical',\n",
        "                                                        validation_split = validation_split,\n",
        "                                                        batch_size=32,\n",
        "                                                        subset = \"training\",\n",
        "                                                        seed = seed_train_validation,\n",
        "                                                        shuffle = shuffle_value)\n",
        "\n",
        "val_gen = tf.keras.utils.image_dataset_from_directory(\n",
        "                                                        directory = train_t_dir,\n",
        "                                                        image_size = (128, 128),\n",
        "                                                        validation_split = validation_split,\n",
        "                                                        label_mode='categorical',\n",
        "                                                        batch_size=32,\n",
        "                                                        subset = \"validation\",\n",
        "                                                        seed = seed_train_validation,\n",
        "                                                        shuffle = shuffle_value)\n",
        "\n",
        "test_it = tf.keras.utils.image_dataset_from_directory( directory= test_t_dir,\n",
        "                                                      batch_size=32,\n",
        "                                                      image_size=(128, 128))"
      ],
      "metadata": {
        "colab": {
          "base_uri": "https://localhost:8080/"
        },
        "id": "DLbCJd3Tb165",
        "outputId": "cadcf712-8060-48c7-a76f-595b5fd53c61"
      },
      "execution_count": null,
      "outputs": [
        {
          "output_type": "stream",
          "name": "stdout",
          "text": [
            "Found 18345 files belonging to 10 classes.\n",
            "Using 14676 files for training.\n",
            "Found 18345 files belonging to 10 classes.\n",
            "Using 3669 files for validation.\n",
            "Found 4585 files belonging to 10 classes.\n"
          ]
        }
      ]
    },
    {
      "cell_type": "code",
      "source": [
        "rescale = Rescaling(scale=1./255)\n",
        "train_set  = train_gen.map(lambda image,label:(rescale(image),label))\n",
        "valid_set  = val_gen.map(lambda image,label:(rescale(image),label))\n",
        "test_set  = test_it.map(lambda image,label:(rescale(image),label))"
      ],
      "metadata": {
        "id": "FPtHW4rSA7rk"
      },
      "execution_count": null,
      "outputs": []
    },
    {
      "cell_type": "code",
      "source": [
        "# accuracy = 84.42 with 3 conv2d MaxPool2D layers\n",
        "\n",
        "def define_t_avg():\n",
        "  tomato_avg = models.Sequential()\n",
        "  tomato_avg = Sequential()\n",
        "\n",
        "  tomato_avg.add(Conv2D(filters=16,kernel_size=(3,3),padding=\"same\", activation=\"relu\", input_shape=(128,128,3)))\n",
        "  tomato_avg.add(MaxPool2D(pool_size=(2,2),strides=(2,2)))\n",
        "  tomato_avg.add(BatchNormalization())\n",
        "\n",
        "  tomato_avg.add(Conv2D(filters=32, kernel_size=(3,3), padding=\"same\", activation=\"relu\"))\n",
        "  tomato_avg.add(MaxPool2D(pool_size=(2,2),strides=(2,2)))\n",
        "  tomato_avg.add(BatchNormalization())\n",
        "\n",
        "  tomato_avg.add(Conv2D(filters=64, kernel_size=(3,3), padding=\"same\", activation=\"relu\"))\n",
        "  tomato_avg.add(MaxPool2D(pool_size=(2,2),strides=(2,2)))\n",
        "  tomato_avg.add(BatchNormalization())\n",
        "\n",
        "  avg1 = tf.keras.layers.GlobalAveragePooling2D()(tomato_avg.layers[-1].output)\n",
        "  class1 = Dense(32, activation='relu', kernel_initializer='he_uniform')(avg1)\n",
        "  output = Dense(10, activation='softmax')(class1)\n",
        "  tomato_avg = Model(inputs=tomato_avg.inputs, outputs=output)\n",
        "  return tomato_avg"
      ],
      "metadata": {
        "id": "xejjT-oQb__o"
      },
      "execution_count": null,
      "outputs": []
    },
    {
      "cell_type": "code",
      "source": [
        "tomato_avg = define_t_avg()\n",
        "tomato_avg.compile(optimizer='adam', loss='categorical_crossentropy', metrics=['accuracy'])\n",
        "tomato_avg.summary()"
      ],
      "metadata": {
        "colab": {
          "base_uri": "https://localhost:8080/"
        },
        "id": "c2blsD0mcJnl",
        "outputId": "cca486f3-a8d1-4c46-fc40-5b28c7b21ff2"
      },
      "execution_count": null,
      "outputs": [
        {
          "output_type": "stream",
          "name": "stdout",
          "text": [
            "Model: \"model\"\n",
            "_________________________________________________________________\n",
            " Layer (type)                Output Shape              Param #   \n",
            "=================================================================\n",
            " conv2d_input (InputLayer)   [(None, 128, 128, 3)]     0         \n",
            "                                                                 \n",
            " conv2d (Conv2D)             (None, 128, 128, 16)      448       \n",
            "                                                                 \n",
            " max_pooling2d (MaxPooling2  (None, 64, 64, 16)        0         \n",
            " D)                                                              \n",
            "                                                                 \n",
            " batch_normalization (Batch  (None, 64, 64, 16)        64        \n",
            " Normalization)                                                  \n",
            "                                                                 \n",
            " conv2d_1 (Conv2D)           (None, 64, 64, 32)        4640      \n",
            "                                                                 \n",
            " max_pooling2d_1 (MaxPoolin  (None, 32, 32, 32)        0         \n",
            " g2D)                                                            \n",
            "                                                                 \n",
            " batch_normalization_1 (Bat  (None, 32, 32, 32)        128       \n",
            " chNormalization)                                                \n",
            "                                                                 \n",
            " conv2d_2 (Conv2D)           (None, 32, 32, 64)        18496     \n",
            "                                                                 \n",
            " max_pooling2d_2 (MaxPoolin  (None, 16, 16, 64)        0         \n",
            " g2D)                                                            \n",
            "                                                                 \n",
            " batch_normalization_2 (Bat  (None, 16, 16, 64)        256       \n",
            " chNormalization)                                                \n",
            "                                                                 \n",
            " global_average_pooling2d (  (None, 64)                0         \n",
            " GlobalAveragePooling2D)                                         \n",
            "                                                                 \n",
            " dense (Dense)               (None, 32)                2080      \n",
            "                                                                 \n",
            " dense_1 (Dense)             (None, 10)                330       \n",
            "                                                                 \n",
            "=================================================================\n",
            "Total params: 26442 (103.29 KB)\n",
            "Trainable params: 26218 (102.41 KB)\n",
            "Non-trainable params: 224 (896.00 Byte)\n",
            "_________________________________________________________________\n"
          ]
        }
      ]
    },
    {
      "cell_type": "code",
      "source": [
        "epochsteps=len(train_set);epochs =20;valsteps=len(valid_set)\n",
        "# fit model\n",
        "history = tomato_avg.fit(train_set, steps_per_epoch=epochsteps,\n",
        "                    validation_data=valid_set, validation_steps=valsteps, epochs=20, callbacks = callbacks, verbose=1)"
      ],
      "metadata": {
        "colab": {
          "base_uri": "https://localhost:8080/"
        },
        "id": "kUM_y2rAcMHw",
        "outputId": "cfec5855-2423-4faa-c146-e4816190ce25"
      },
      "execution_count": null,
      "outputs": [
        {
          "output_type": "stream",
          "name": "stdout",
          "text": [
            "Epoch 1/20\n",
            "459/459 [==============================] - ETA: 0s - loss: 0.9762 - accuracy: 0.6817\n",
            "Epoch 1: val_loss improved from inf to 3.10904, saving model to /content/my_best_model.epoch01-loss3.11.hdf5\n",
            "459/459 [==============================] - 29s 36ms/step - loss: 0.9762 - accuracy: 0.6817 - val_loss: 3.1090 - val_accuracy: 0.3132\n",
            "Epoch 2/20\n",
            "456/459 [============================>.] - ETA: 0s - loss: 0.4819 - accuracy: 0.8472\n",
            "Epoch 2: val_loss improved from 3.10904 to 0.42207, saving model to /content/my_best_model.epoch02-loss0.42.hdf5\n",
            "459/459 [==============================] - 19s 41ms/step - loss: 0.4813 - accuracy: 0.8475 - val_loss: 0.4221 - val_accuracy: 0.8692\n",
            "Epoch 3/20\n",
            "457/459 [============================>.] - ETA: 0s - loss: 0.3462 - accuracy: 0.8872\n",
            "Epoch 3: val_loss did not improve from 0.42207\n",
            "459/459 [==============================] - 16s 35ms/step - loss: 0.3462 - accuracy: 0.8872 - val_loss: 0.5436 - val_accuracy: 0.7999\n",
            "Epoch 4/20\n",
            "457/459 [============================>.] - ETA: 0s - loss: 0.2646 - accuracy: 0.9151\n",
            "Epoch 4: val_loss did not improve from 0.42207\n",
            "459/459 [==============================] - 17s 36ms/step - loss: 0.2647 - accuracy: 0.9151 - val_loss: 1.3784 - val_accuracy: 0.5882\n",
            "Epoch 5/20\n",
            "457/459 [============================>.] - ETA: 0s - loss: 0.2329 - accuracy: 0.9214\n",
            "Epoch 5: val_loss did not improve from 0.42207\n",
            "459/459 [==============================] - 19s 41ms/step - loss: 0.2336 - accuracy: 0.9212 - val_loss: 1.3416 - val_accuracy: 0.6503\n",
            "Epoch 6/20\n",
            "457/459 [============================>.] - ETA: 0s - loss: 0.1989 - accuracy: 0.9330\n",
            "Epoch 6: val_loss improved from 0.42207 to 0.23306, saving model to /content/my_best_model.epoch06-loss0.23.hdf5\n",
            "459/459 [==============================] - 24s 52ms/step - loss: 0.1986 - accuracy: 0.9331 - val_loss: 0.2331 - val_accuracy: 0.9324\n",
            "Epoch 7/20\n",
            "456/459 [============================>.] - ETA: 0s - loss: 0.1755 - accuracy: 0.9409\n",
            "Epoch 7: val_loss did not improve from 0.23306\n",
            "459/459 [==============================] - 17s 37ms/step - loss: 0.1755 - accuracy: 0.9409 - val_loss: 0.4653 - val_accuracy: 0.8457\n",
            "Epoch 8/20\n",
            "458/459 [============================>.] - ETA: 0s - loss: 0.1613 - accuracy: 0.9456\n",
            "Epoch 8: val_loss did not improve from 0.23306\n",
            "459/459 [==============================] - 18s 40ms/step - loss: 0.1613 - accuracy: 0.9456 - val_loss: 1.6330 - val_accuracy: 0.6021\n",
            "Epoch 9/20\n",
            "457/459 [============================>.] - ETA: 0s - loss: 0.1454 - accuracy: 0.9516\n",
            "Epoch 9: val_loss did not improve from 0.23306\n",
            "459/459 [==============================] - 16s 35ms/step - loss: 0.1456 - accuracy: 0.9514 - val_loss: 0.4740 - val_accuracy: 0.8498\n",
            "Epoch 10/20\n",
            "458/459 [============================>.] - ETA: 0s - loss: 0.1447 - accuracy: 0.9497\n",
            "Epoch 10: val_loss improved from 0.23306 to 0.20263, saving model to /content/my_best_model.epoch10-loss0.20.hdf5\n",
            "459/459 [==============================] - 20s 44ms/step - loss: 0.1445 - accuracy: 0.9498 - val_loss: 0.2026 - val_accuracy: 0.9417\n",
            "Epoch 11/20\n",
            "457/459 [============================>.] - ETA: 0s - loss: 0.1214 - accuracy: 0.9590\n",
            "Epoch 11: val_loss improved from 0.20263 to 0.15832, saving model to /content/my_best_model.epoch11-loss0.16.hdf5\n",
            "459/459 [==============================] - 17s 36ms/step - loss: 0.1219 - accuracy: 0.9588 - val_loss: 0.1583 - val_accuracy: 0.9531\n",
            "Epoch 12/20\n",
            "457/459 [============================>.] - ETA: 0s - loss: 0.1185 - accuracy: 0.9592\n",
            "Epoch 12: val_loss did not improve from 0.15832\n",
            "459/459 [==============================] - 17s 36ms/step - loss: 0.1184 - accuracy: 0.9593 - val_loss: 0.5117 - val_accuracy: 0.8201\n",
            "Epoch 13/20\n",
            "459/459 [==============================] - ETA: 0s - loss: 0.1086 - accuracy: 0.9635\n",
            "Epoch 13: val_loss did not improve from 0.15832\n",
            "459/459 [==============================] - 17s 36ms/step - loss: 0.1086 - accuracy: 0.9635 - val_loss: 0.2371 - val_accuracy: 0.9280\n",
            "Epoch 14/20\n",
            "459/459 [==============================] - ETA: 0s - loss: 0.0976 - accuracy: 0.9674\n",
            "Epoch 14: val_loss did not improve from 0.15832\n",
            "459/459 [==============================] - 17s 37ms/step - loss: 0.0976 - accuracy: 0.9674 - val_loss: 1.5775 - val_accuracy: 0.6263\n",
            "Epoch 15/20\n",
            "456/459 [============================>.] - ETA: 0s - loss: 0.0999 - accuracy: 0.9660\n",
            "Epoch 15: val_loss did not improve from 0.15832\n",
            "459/459 [==============================] - 17s 36ms/step - loss: 0.0999 - accuracy: 0.9660 - val_loss: 0.9996 - val_accuracy: 0.7874\n",
            "Epoch 16/20\n",
            "459/459 [==============================] - ETA: 0s - loss: 0.0914 - accuracy: 0.9708\n",
            "Epoch 16: val_loss did not improve from 0.15832\n",
            "459/459 [==============================] - 17s 36ms/step - loss: 0.0914 - accuracy: 0.9708 - val_loss: 0.4727 - val_accuracy: 0.8561\n",
            "Epoch 17/20\n",
            "457/459 [============================>.] - ETA: 0s - loss: 0.0870 - accuracy: 0.9728\n",
            "Epoch 17: val_loss did not improve from 0.15832\n",
            "459/459 [==============================] - 17s 37ms/step - loss: 0.0869 - accuracy: 0.9728 - val_loss: 0.2997 - val_accuracy: 0.9095\n",
            "Epoch 18/20\n",
            "458/459 [============================>.] - ETA: 0s - loss: 0.0768 - accuracy: 0.9742\n",
            "Epoch 18: val_loss did not improve from 0.15832\n",
            "459/459 [==============================] - 16s 36ms/step - loss: 0.0769 - accuracy: 0.9742 - val_loss: 0.2218 - val_accuracy: 0.9403\n",
            "Epoch 19/20\n",
            "459/459 [==============================] - ETA: 0s - loss: 0.0785 - accuracy: 0.9720\n",
            "Epoch 19: val_loss did not improve from 0.15832\n",
            "459/459 [==============================] - 16s 34ms/step - loss: 0.0785 - accuracy: 0.9720 - val_loss: 0.2761 - val_accuracy: 0.9223\n",
            "Epoch 20/20\n",
            "457/459 [============================>.] - ETA: 0s - loss: 0.0722 - accuracy: 0.9749\n",
            "Epoch 20: val_loss improved from 0.15832 to 0.15304, saving model to /content/my_best_model.epoch20-loss0.15.hdf5\n",
            "459/459 [==============================] - 17s 36ms/step - loss: 0.0721 - accuracy: 0.9750 - val_loss: 0.1530 - val_accuracy: 0.9572\n"
          ]
        }
      ]
    },
    {
      "cell_type": "code",
      "source": [
        "plt.plot(history.history['val_loss'], color = 'orange')\n",
        "plt.plot(history.history['loss'], color='red')\n",
        "plt.plot(history.history['accuracy'], color = 'green')\n",
        "plt.plot(history.history['val_accuracy'], color = 'blue')\n",
        "plt.legend(['Val_loss','Train_loss'])\n",
        "e=range(0,20)\n",
        "labels=range(1,21)\n",
        "plt.xlabel(\"Epochs\")\n",
        "plt.ylabel(\"Loss\")\n",
        "plt.xticks(e,labels)\n",
        "plt.show()"
      ],
      "metadata": {
        "colab": {
          "base_uri": "https://localhost:8080/",
          "height": 449
        },
        "outputId": "a171a6d8-8804-4cf2-ba06-c2cdffe8534f",
        "id": "-0Kq4uwoBFdk"
      },
      "execution_count": null,
      "outputs": [
        {
          "output_type": "display_data",
          "data": {
            "text/plain": [
              "<Figure size 640x480 with 1 Axes>"
            ],
            "image/png": "[encoded data removed]"
          },
          "metadata": {}
        }
      ]
    },
    {
      "cell_type": "code",
      "source": [
        "tomato_model = tf.keras.models.load_model('/content/my_best_model.epoch20-loss0.15.hdf5')"
      ],
      "metadata": {
        "id": "UQUeRy3BNDgO"
      },
      "execution_count": null,
      "outputs": []
    },
    {
      "cell_type": "code",
      "source": [
        "labels = []\n",
        "predictions = []\n",
        "for x,y in test_set:\n",
        "    labels.append(list(y.numpy()))\n",
        "    predictions.append(tf.argmax(tomato_model.predict(x),1).numpy())"
      ],
      "metadata": {
        "colab": {
          "base_uri": "https://localhost:8080/"
        },
        "outputId": "518967de-b0b3-4745-9e2b-8625d994615a",
        "id": "Xzp0BXICBFdl"
      },
      "execution_count": null,
      "outputs": [
        {
          "output_type": "stream",
          "name": "stdout",
          "text": [
            "1/1 [==============================] - 0s 263ms/step\n",
            "1/1 [==============================] - 0s 43ms/step\n",
            "1/1 [==============================] - 0s 51ms/step\n",
            "1/1 [==============================] - 0s 42ms/step\n",
            "1/1 [==============================] - 0s 35ms/step\n",
            "1/1 [==============================] - 0s 62ms/step\n",
            "1/1 [==============================] - 0s 76ms/step\n",
            "1/1 [==============================] - 0s 30ms/step\n",
            "1/1 [==============================] - 0s 33ms/step\n",
            "1/1 [==============================] - 0s 101ms/step\n",
            "1/1 [==============================] - 0s 40ms/step\n",
            "1/1 [==============================] - 0s 55ms/step\n",
            "1/1 [==============================] - 0s 36ms/step\n",
            "1/1 [==============================] - 0s 52ms/step\n",
            "1/1 [==============================] - 0s 36ms/step\n",
            "1/1 [==============================] - 0s 29ms/step\n",
            "1/1 [==============================] - 0s 75ms/step\n",
            "1/1 [==============================] - 0s 51ms/step\n",
            "1/1 [==============================] - 0s 41ms/step\n",
            "1/1 [==============================] - 0s 41ms/step\n",
            "1/1 [==============================] - 0s 41ms/step\n",
            "1/1 [==============================] - 0s 45ms/step\n",
            "1/1 [==============================] - 0s 78ms/step\n",
            "1/1 [==============================] - 0s 57ms/step\n",
            "1/1 [==============================] - 0s 48ms/step\n",
            "1/1 [==============================] - 0s 42ms/step\n",
            "1/1 [==============================] - 0s 54ms/step\n",
            "1/1 [==============================] - 0s 29ms/step\n",
            "1/1 [==============================] - 0s 29ms/step\n",
            "1/1 [==============================] - 0s 34ms/step\n",
            "1/1 [==============================] - 0s 31ms/step\n",
            "1/1 [==============================] - 0s 31ms/step\n",
            "1/1 [==============================] - 0s 59ms/step\n",
            "1/1 [==============================] - 0s 49ms/step\n",
            "1/1 [==============================] - 0s 42ms/step\n",
            "1/1 [==============================] - 0s 30ms/step\n",
            "1/1 [==============================] - 0s 36ms/step\n",
            "1/1 [==============================] - 0s 28ms/step\n",
            "1/1 [==============================] - 0s 43ms/step\n",
            "1/1 [==============================] - 0s 71ms/step\n",
            "1/1 [==============================] - 0s 56ms/step\n",
            "1/1 [==============================] - 0s 20ms/step\n",
            "1/1 [==============================] - 0s 20ms/step\n",
            "1/1 [==============================] - 0s 20ms/step\n",
            "1/1 [==============================] - 0s 23ms/step\n",
            "1/1 [==============================] - 0s 23ms/step\n",
            "1/1 [==============================] - 0s 20ms/step\n",
            "1/1 [==============================] - 0s 22ms/step\n",
            "1/1 [==============================] - 0s 23ms/step\n",
            "1/1 [==============================] - 0s 29ms/step\n",
            "1/1 [==============================] - 0s 39ms/step\n",
            "1/1 [==============================] - 0s 33ms/step\n",
            "1/1 [==============================] - 0s 29ms/step\n",
            "1/1 [==============================] - 0s 28ms/step\n",
            "1/1 [==============================] - 0s 35ms/step\n",
            "1/1 [==============================] - 0s 30ms/step\n",
            "1/1 [==============================] - 0s 27ms/step\n",
            "1/1 [==============================] - 0s 29ms/step\n",
            "1/1 [==============================] - 0s 33ms/step\n",
            "1/1 [==============================] - 0s 41ms/step\n",
            "1/1 [==============================] - 0s 35ms/step\n",
            "1/1 [==============================] - 0s 31ms/step\n",
            "1/1 [==============================] - 0s 38ms/step\n",
            "1/1 [==============================] - 0s 31ms/step\n",
            "1/1 [==============================] - 0s 33ms/step\n",
            "1/1 [==============================] - 0s 36ms/step\n",
            "1/1 [==============================] - 0s 37ms/step\n",
            "1/1 [==============================] - 0s 29ms/step\n",
            "1/1 [==============================] - 0s 30ms/step\n",
            "1/1 [==============================] - 0s 27ms/step\n",
            "1/1 [==============================] - 0s 36ms/step\n",
            "1/1 [==============================] - 0s 22ms/step\n",
            "1/1 [==============================] - 0s 20ms/step\n",
            "1/1 [==============================] - 0s 21ms/step\n",
            "1/1 [==============================] - 0s 20ms/step\n",
            "1/1 [==============================] - 0s 21ms/step\n",
            "1/1 [==============================] - 0s 24ms/step\n",
            "1/1 [==============================] - 0s 21ms/step\n",
            "1/1 [==============================] - 0s 25ms/step\n",
            "1/1 [==============================] - 0s 21ms/step\n",
            "1/1 [==============================] - 0s 20ms/step\n",
            "1/1 [==============================] - 0s 20ms/step\n",
            "1/1 [==============================] - 0s 24ms/step\n",
            "1/1 [==============================] - 0s 21ms/step\n",
            "1/1 [==============================] - 0s 21ms/step\n",
            "1/1 [==============================] - 0s 20ms/step\n",
            "1/1 [==============================] - 0s 23ms/step\n",
            "1/1 [==============================] - 0s 23ms/step\n",
            "1/1 [==============================] - 0s 22ms/step\n",
            "1/1 [==============================] - 0s 20ms/step\n",
            "1/1 [==============================] - 0s 26ms/step\n",
            "1/1 [==============================] - 0s 23ms/step\n",
            "1/1 [==============================] - 0s 19ms/step\n",
            "1/1 [==============================] - 0s 22ms/step\n",
            "1/1 [==============================] - 0s 22ms/step\n",
            "1/1 [==============================] - 0s 20ms/step\n",
            "1/1 [==============================] - 0s 20ms/step\n",
            "1/1 [==============================] - 0s 23ms/step\n",
            "1/1 [==============================] - 0s 24ms/step\n",
            "1/1 [==============================] - 0s 21ms/step\n",
            "1/1 [==============================] - 0s 22ms/step\n",
            "1/1 [==============================] - 0s 22ms/step\n",
            "1/1 [==============================] - 0s 21ms/step\n",
            "1/1 [==============================] - 0s 20ms/step\n",
            "1/1 [==============================] - 0s 23ms/step\n",
            "1/1 [==============================] - 0s 31ms/step\n",
            "1/1 [==============================] - 0s 21ms/step\n",
            "1/1 [==============================] - 0s 21ms/step\n",
            "1/1 [==============================] - 0s 22ms/step\n",
            "1/1 [==============================] - 0s 20ms/step\n",
            "1/1 [==============================] - 0s 22ms/step\n",
            "1/1 [==============================] - 0s 24ms/step\n",
            "1/1 [==============================] - 0s 20ms/step\n",
            "1/1 [==============================] - 0s 20ms/step\n",
            "1/1 [==============================] - 0s 22ms/step\n",
            "1/1 [==============================] - 0s 22ms/step\n",
            "1/1 [==============================] - 0s 20ms/step\n",
            "1/1 [==============================] - 0s 24ms/step\n",
            "1/1 [==============================] - 0s 22ms/step\n",
            "1/1 [==============================] - 0s 21ms/step\n",
            "1/1 [==============================] - 0s 25ms/step\n",
            "1/1 [==============================] - 0s 26ms/step\n",
            "1/1 [==============================] - 0s 24ms/step\n",
            "1/1 [==============================] - 0s 23ms/step\n",
            "1/1 [==============================] - 0s 23ms/step\n",
            "1/1 [==============================] - 0s 21ms/step\n",
            "1/1 [==============================] - 0s 21ms/step\n",
            "1/1 [==============================] - 0s 23ms/step\n",
            "1/1 [==============================] - 0s 23ms/step\n",
            "1/1 [==============================] - 0s 23ms/step\n",
            "1/1 [==============================] - 0s 21ms/step\n",
            "1/1 [==============================] - 0s 20ms/step\n",
            "1/1 [==============================] - 0s 21ms/step\n",
            "1/1 [==============================] - 0s 21ms/step\n",
            "1/1 [==============================] - 0s 24ms/step\n",
            "1/1 [==============================] - 0s 25ms/step\n",
            "1/1 [==============================] - 0s 23ms/step\n",
            "1/1 [==============================] - 0s 21ms/step\n",
            "1/1 [==============================] - 0s 24ms/step\n",
            "1/1 [==============================] - 0s 21ms/step\n",
            "1/1 [==============================] - 0s 21ms/step\n",
            "1/1 [==============================] - 0s 21ms/step\n",
            "1/1 [==============================] - 0s 21ms/step\n",
            "1/1 [==============================] - 0s 219ms/step\n"
          ]
        }
      ]
    },
    {
      "cell_type": "code",
      "source": [
        "predictions = list(itertools.chain.from_iterable(predictions))\n",
        "labels = list(itertools.chain.from_iterable(labels))"
      ],
      "metadata": {
        "id": "BktDgmAWBFdl"
      },
      "execution_count": null,
      "outputs": []
    },
    {
      "cell_type": "code",
      "source": [
        "print(\"Train Accuracy  : {:.2f} %\".format(history.history['accuracy'][-1]*100))\n",
        "print(\"Test Accuracy   : {:.2f} %\".format(accuracy_score(labels, predictions) * 100))\n",
        "print(\"Precision Score : {:.2f} %\".format(precision_score(labels, predictions, average='micro') * 100))\n",
        "print(\"Recall Score    : {:.2f} %\".format(recall_score(labels, predictions, average='micro') * 100))"
      ],
      "metadata": {
        "colab": {
          "base_uri": "https://localhost:8080/"
        },
        "outputId": "7a0c7285-3b8a-40f7-e348-a7fb97b7b3f1",
        "id": "nhAEARbXBFdl"
      },
      "execution_count": null,
      "outputs": [
        {
          "output_type": "stream",
          "name": "stdout",
          "text": [
            "Train Accuracy  : 97.50 %\n",
            "Test Accuracy   : 95.03 %\n",
            "Precision Score : 95.03 %\n",
            "Recall Score    : 95.03 %\n"
          ]
        }
      ]
    },
    {
      "cell_type": "code",
      "source": [
        "# Plot a confusion matrix based on the true labels and predicted labels\n",
        "plt.figure(figsize= (2,2))\n",
        "cm = confusion_matrix(labels, predictions)\n",
        "disp = ConfusionMatrixDisplay(confusion_matrix=cm, display_labels=list(range(1,11)))\n",
        "fig, ax = plt.subplots(figsize=(10,10))\n",
        "disp.plot(ax=ax,colorbar= False,cmap = 'YlGnBu')\n",
        "plt.title(\"Confusion Matrix\")\n",
        "plt.xlabel('Predicted Labels')\n",
        "plt.ylabel('True Labels')\n",
        "plt.show()"
      ],
      "metadata": {
        "colab": {
          "base_uri": "https://localhost:8080/",
          "height": 889
        },
        "outputId": "16fa59ca-ef1d-44ea-c741-9b67c827409e",
        "id": "9DNSCMO7BFdl"
      },
      "execution_count": null,
      "outputs": [
        {
          "output_type": "display_data",
          "data": {
            "text/plain": [
              "<Figure size 200x200 with 0 Axes>"
            ]
          },
          "metadata": {}
        },
        {
          "output_type": "display_data",
          "data": {
            "text/plain": [
              "<Figure size 1000x1000 with 1 Axes>"
            ],
            "image/png": "[encoded data removed]"
          },
          "metadata": {}
        }
      ]
    },
    {
      "cell_type": "code",
      "source": [
        "tomato_avg.save(\"Tomato_Avg_20_Final_90.08.h5\")"
      ],
      "metadata": {
        "id": "sdo5SRIlcSt9"
      },
      "execution_count": null,
      "outputs": []
    },
    {
      "cell_type": "markdown",
      "source": [
        "# **Potato**"
      ],
      "metadata": {
        "id": "-J8ftxjpclpN"
      }
    },
    {
      "cell_type": "code",
      "source": [
        "data_dir = r\"/tmp/DS MINI PROJECT DATASET(BALANCEDANDIMBALANCED)\"\n",
        "train_potato_dir = data_dir + \"/Training/Potato\"\n",
        "test_potato_dir = data_dir + \"/Testing/Potato\"\n"
      ],
      "metadata": {
        "id": "8wP_PHRGco5u"
      },
      "execution_count": null,
      "outputs": []
    },
    {
      "cell_type": "code",
      "source": [
        "seed_train_validation = 1 # Must be same for train_ds and val_ds\n",
        "shuffle_value = True\n",
        "validation_split = 0.2\n",
        "\n",
        "train_gen = tf.keras.utils.image_dataset_from_directory(\n",
        "                                                        directory = train_potato_dir,\n",
        "                                                        image_size = (128, 128),\n",
        "                                                        label_mode='categorical',\n",
        "                                                        validation_split = validation_split,\n",
        "                                                        batch_size=32,\n",
        "                                                        subset = \"training\",\n",
        "                                                        seed = seed_train_validation,\n",
        "                                                        shuffle = shuffle_value)\n",
        "\n",
        "val_gen = tf.keras.utils.image_dataset_from_directory(\n",
        "                                                        directory = train_potato_dir,\n",
        "                                                        image_size = (128, 128),\n",
        "                                                        validation_split = validation_split,\n",
        "                                                        label_mode='categorical',\n",
        "                                                        batch_size=32,\n",
        "                                                        subset = \"validation\",\n",
        "                                                        seed = seed_train_validation,\n",
        "                                                        shuffle = shuffle_value)\n",
        "\n",
        "test_it = tf.keras.utils.image_dataset_from_directory( directory= test_potato_dir,\n",
        "                                                      batch_size=32,\n",
        "                                                      image_size=(128, 128))"
      ],
      "metadata": {
        "colab": {
          "base_uri": "https://localhost:8080/"
        },
        "id": "V4a6hKODnQLg",
        "outputId": "7e17da13-a253-4001-cb61-71edddd7340b"
      },
      "execution_count": null,
      "outputs": [
        {
          "output_type": "stream",
          "name": "stdout",
          "text": [
            "Found 5702 files belonging to 3 classes.\n",
            "Using 4562 files for training.\n",
            "Found 5702 files belonging to 3 classes.\n",
            "Using 1140 files for validation.\n",
            "Found 1426 files belonging to 3 classes.\n"
          ]
        }
      ]
    },
    {
      "cell_type": "code",
      "source": [
        "rescale = Rescaling(scale=1./255)\n",
        "train_set  = train_gen.map(lambda image,label:(rescale(image),label))\n",
        "valid_set  = val_gen.map(lambda image,label:(rescale(image),label))\n",
        "test_set  = test_it.map(lambda image,label:(rescale(image),label))"
      ],
      "metadata": {
        "id": "YXrKqXUvoZ8C"
      },
      "execution_count": null,
      "outputs": []
    },
    {
      "cell_type": "code",
      "source": [
        "def define_potato_avg():\n",
        "  potato_avg = models.Sequential()\n",
        "  potato_avg = Sequential()\n",
        "\n",
        "  potato_avg.add(Conv2D(filters=16,kernel_size=(3,3),padding=\"same\", activation=\"relu\", input_shape=(128,128,3)))\n",
        "  potato_avg.add(MaxPool2D(pool_size=(2,2),strides=(2,2)))\n",
        "  potato_avg.add(BatchNormalization())\n",
        "\n",
        "  potato_avg.add(Conv2D(filters=32, kernel_size=(3,3), padding=\"same\", activation=\"relu\"))\n",
        "  potato_avg.add(MaxPool2D(pool_size=(2,2),strides=(2,2)))\n",
        "  potato_avg.add(BatchNormalization())\n",
        "\n",
        "  potato_avg.add(Conv2D(filters=64, kernel_size=(3,3), padding=\"same\", activation=\"relu\"))\n",
        "  potato_avg.add(MaxPool2D(pool_size=(2,2),strides=(2,2)))\n",
        "  potato_avg.add(BatchNormalization())\n",
        "\n",
        "  avg1 = tf.keras.layers.GlobalAveragePooling2D()(potato_avg.layers[-1].output)\n",
        "  class1 = Dense(16, activation='relu', kernel_initializer='he_uniform')(avg1)\n",
        "  output = Dense(3, activation='softmax')(class1)\n",
        "  potato_avg = Model(inputs=potato_avg.inputs, outputs=output)\n",
        "  return potato_avg"
      ],
      "metadata": {
        "id": "N7G0sms6ctaK"
      },
      "execution_count": null,
      "outputs": []
    },
    {
      "cell_type": "code",
      "source": [
        "potato_avg = define_potato_avg()\n",
        "potato_avg.compile(optimizer='adam', loss='categorical_crossentropy', metrics=['accuracy'])\n",
        "potato_avg.summary()"
      ],
      "metadata": {
        "colab": {
          "base_uri": "https://localhost:8080/"
        },
        "id": "FPb0R953czhi",
        "outputId": "00c459ee-da4d-4751-e7d4-6f6b8e42faa2"
      },
      "execution_count": null,
      "outputs": [
        {
          "output_type": "stream",
          "name": "stdout",
          "text": [
            "Model: \"model_2\"\n",
            "_________________________________________________________________\n",
            " Layer (type)                Output Shape              Param #   \n",
            "=================================================================\n",
            " conv2d_6_input (InputLayer  [(None, 128, 128, 3)]     0         \n",
            " )                                                               \n",
            "                                                                 \n",
            " conv2d_6 (Conv2D)           (None, 128, 128, 16)      448       \n",
            "                                                                 \n",
            " max_pooling2d_6 (MaxPoolin  (None, 64, 64, 16)        0         \n",
            " g2D)                                                            \n",
            "                                                                 \n",
            " batch_normalization_6 (Bat  (None, 64, 64, 16)        64        \n",
            " chNormalization)                                                \n",
            "                                                                 \n",
            " conv2d_7 (Conv2D)           (None, 64, 64, 32)        4640      \n",
            "                                                                 \n",
            " max_pooling2d_7 (MaxPoolin  (None, 32, 32, 32)        0         \n",
            " g2D)                                                            \n",
            "                                                                 \n",
            " batch_normalization_7 (Bat  (None, 32, 32, 32)        128       \n",
            " chNormalization)                                                \n",
            "                                                                 \n",
            " conv2d_8 (Conv2D)           (None, 32, 32, 64)        18496     \n",
            "                                                                 \n",
            " max_pooling2d_8 (MaxPoolin  (None, 16, 16, 64)        0         \n",
            " g2D)                                                            \n",
            "                                                                 \n",
            " batch_normalization_8 (Bat  (None, 16, 16, 64)        256       \n",
            " chNormalization)                                                \n",
            "                                                                 \n",
            " global_average_pooling2d_2  (None, 64)                0         \n",
            "  (GlobalAveragePooling2D)                                       \n",
            "                                                                 \n",
            " dense_4 (Dense)             (None, 16)                1040      \n",
            "                                                                 \n",
            " dense_5 (Dense)             (None, 3)                 51        \n",
            "                                                                 \n",
            "=================================================================\n",
            "Total params: 25123 (98.14 KB)\n",
            "Trainable params: 24899 (97.26 KB)\n",
            "Non-trainable params: 224 (896.00 Byte)\n",
            "_________________________________________________________________\n"
          ]
        }
      ]
    },
    {
      "cell_type": "code",
      "source": [
        "%%time\n",
        "epochsteps=len(train_set);epochs =20;valsteps=len(valid_set)\n",
        "# fit model\n",
        "history = potato_avg.fit(train_set, steps_per_epoch=epochsteps,\n",
        "                    validation_data=valid_set, validation_steps=valsteps, epochs=epochs, callbacks= callbacks, verbose=1)"
      ],
      "metadata": {
        "colab": {
          "base_uri": "https://localhost:8080/"
        },
        "id": "VJX1fp-upJm_",
        "outputId": "1b3a38d1-8d7e-4202-c8a0-afd91b2b9c06"
      },
      "execution_count": null,
      "outputs": [
        {
          "output_type": "stream",
          "name": "stdout",
          "text": [
            "Epoch 1/20\n",
            "142/143 [============================>.] - ETA: 0s - loss: 0.0777 - accuracy: 0.9716\n",
            "Epoch 1: val_loss did not improve from 0.04640\n",
            "143/143 [==============================] - 5s 34ms/step - loss: 0.0774 - accuracy: 0.9717 - val_loss: 3.3818 - val_accuracy: 0.3605\n",
            "Epoch 2/20\n",
            "140/143 [============================>.] - ETA: 0s - loss: 0.0658 - accuracy: 0.9754\n",
            "Epoch 2: val_loss did not improve from 0.04640\n",
            "143/143 [==============================] - 6s 37ms/step - loss: 0.0661 - accuracy: 0.9752 - val_loss: 0.3972 - val_accuracy: 0.8175\n",
            "Epoch 3/20\n",
            "140/143 [============================>.] - ETA: 0s - loss: 0.0485 - accuracy: 0.9828\n",
            "Epoch 3: val_loss did not improve from 0.04640\n",
            "143/143 [==============================] - 6s 38ms/step - loss: 0.0481 - accuracy: 0.9831 - val_loss: 0.2933 - val_accuracy: 0.9140\n",
            "Epoch 4/20\n",
            "142/143 [============================>.] - ETA: 0s - loss: 0.0345 - accuracy: 0.9870\n",
            "Epoch 4: val_loss did not improve from 0.04640\n",
            "143/143 [==============================] - 5s 31ms/step - loss: 0.0344 - accuracy: 0.9871 - val_loss: 0.0605 - val_accuracy: 0.9772\n",
            "Epoch 5/20\n",
            "142/143 [============================>.] - ETA: 0s - loss: 0.0390 - accuracy: 0.9857\n",
            "Epoch 5: val_loss did not improve from 0.04640\n",
            "143/143 [==============================] - 5s 34ms/step - loss: 0.0389 - accuracy: 0.9858 - val_loss: 0.0464 - val_accuracy: 0.9825\n",
            "Epoch 6/20\n",
            "142/143 [============================>.] - ETA: 0s - loss: 0.0365 - accuracy: 0.9879\n",
            "Epoch 6: val_loss improved from 0.04640 to 0.01971, saving model to /content/my_best_model.epoch06-loss0.02.hdf5\n",
            "143/143 [==============================] - 5s 36ms/step - loss: 0.0365 - accuracy: 0.9879 - val_loss: 0.0197 - val_accuracy: 0.9965\n",
            "Epoch 7/20\n",
            "140/143 [============================>.] - ETA: 0s - loss: 0.0444 - accuracy: 0.9826\n",
            "Epoch 7: val_loss did not improve from 0.01971\n",
            "143/143 [==============================] - 5s 34ms/step - loss: 0.0440 - accuracy: 0.9827 - val_loss: 0.9607 - val_accuracy: 0.7395\n",
            "Epoch 8/20\n",
            "141/143 [============================>.] - ETA: 0s - loss: 0.0286 - accuracy: 0.9883\n",
            "Epoch 8: val_loss did not improve from 0.01971\n",
            "143/143 [==============================] - 6s 39ms/step - loss: 0.0283 - accuracy: 0.9884 - val_loss: 2.4537 - val_accuracy: 0.6053\n",
            "Epoch 9/20\n",
            "141/143 [============================>.] - ETA: 0s - loss: 0.0332 - accuracy: 0.9869\n",
            "Epoch 9: val_loss did not improve from 0.01971\n",
            "143/143 [==============================] - 7s 47ms/step - loss: 0.0331 - accuracy: 0.9871 - val_loss: 0.6703 - val_accuracy: 0.8035\n",
            "Epoch 10/20\n",
            "140/143 [============================>.] - ETA: 0s - loss: 0.0218 - accuracy: 0.9926\n",
            "Epoch 10: val_loss did not improve from 0.01971\n",
            "143/143 [==============================] - 5s 31ms/step - loss: 0.0214 - accuracy: 0.9928 - val_loss: 0.1093 - val_accuracy: 0.9588\n",
            "Epoch 11/20\n",
            "140/143 [============================>.] - ETA: 0s - loss: 0.0260 - accuracy: 0.9904\n",
            "Epoch 11: val_loss did not improve from 0.01971\n",
            "143/143 [==============================] - 6s 39ms/step - loss: 0.0261 - accuracy: 0.9904 - val_loss: 1.4976 - val_accuracy: 0.6237\n",
            "Epoch 12/20\n",
            "140/143 [============================>.] - ETA: 0s - loss: 0.0226 - accuracy: 0.9924\n",
            "Epoch 12: val_loss did not improve from 0.01971\n",
            "143/143 [==============================] - 5s 31ms/step - loss: 0.0226 - accuracy: 0.9923 - val_loss: 0.5037 - val_accuracy: 0.8430\n",
            "Epoch 13/20\n",
            "142/143 [============================>.] - ETA: 0s - loss: 0.0335 - accuracy: 0.9877\n",
            "Epoch 13: val_loss did not improve from 0.01971\n",
            "143/143 [==============================] - 8s 53ms/step - loss: 0.0334 - accuracy: 0.9877 - val_loss: 0.0352 - val_accuracy: 0.9886\n",
            "Epoch 14/20\n",
            "140/143 [============================>.] - ETA: 0s - loss: 0.0248 - accuracy: 0.9922\n",
            "Epoch 14: val_loss did not improve from 0.01971\n",
            "143/143 [==============================] - 5s 31ms/step - loss: 0.0245 - accuracy: 0.9923 - val_loss: 0.0434 - val_accuracy: 0.9825\n",
            "Epoch 15/20\n",
            "143/143 [==============================] - ETA: 0s - loss: 0.0213 - accuracy: 0.9932\n",
            "Epoch 15: val_loss did not improve from 0.01971\n",
            "143/143 [==============================] - 6s 44ms/step - loss: 0.0213 - accuracy: 0.9932 - val_loss: 2.1262 - val_accuracy: 0.6377\n",
            "Epoch 16/20\n",
            "141/143 [============================>.] - ETA: 0s - loss: 0.0154 - accuracy: 0.9951\n",
            "Epoch 16: val_loss did not improve from 0.01971\n",
            "143/143 [==============================] - 7s 48ms/step - loss: 0.0153 - accuracy: 0.9952 - val_loss: 0.3433 - val_accuracy: 0.9026\n",
            "Epoch 17/20\n",
            "140/143 [============================>.] - ETA: 0s - loss: 0.0305 - accuracy: 0.9891\n",
            "Epoch 17: val_loss did not improve from 0.01971\n",
            "143/143 [==============================] - 5s 35ms/step - loss: 0.0304 - accuracy: 0.9890 - val_loss: 0.3083 - val_accuracy: 0.9070\n",
            "Epoch 18/20\n",
            "141/143 [============================>.] - ETA: 0s - loss: 0.0161 - accuracy: 0.9947\n",
            "Epoch 18: val_loss did not improve from 0.01971\n",
            "143/143 [==============================] - 6s 43ms/step - loss: 0.0160 - accuracy: 0.9947 - val_loss: 0.1493 - val_accuracy: 0.9570\n",
            "Epoch 19/20\n",
            "141/143 [============================>.] - ETA: 0s - loss: 0.0171 - accuracy: 0.9936\n",
            "Epoch 19: val_loss did not improve from 0.01971\n",
            "143/143 [==============================] - 6s 39ms/step - loss: 0.0170 - accuracy: 0.9936 - val_loss: 0.6912 - val_accuracy: 0.8219\n",
            "Epoch 20/20\n",
            "140/143 [============================>.] - ETA: 0s - loss: 0.0153 - accuracy: 0.9953\n",
            "Epoch 20: val_loss did not improve from 0.01971\n",
            "143/143 [==============================] - 5s 31ms/step - loss: 0.0151 - accuracy: 0.9954 - val_loss: 0.0252 - val_accuracy: 0.9912\n",
            "CPU times: user 2min 30s, sys: 10.1 s, total: 2min 40s\n",
            "Wall time: 2min 23s\n"
          ]
        }
      ]
    },
    {
      "cell_type": "code",
      "source": [
        "potato_model= tf.keras.models.load_model('/content/my_best_model.epoch06-loss0.02.hdf5')"
      ],
      "metadata": {
        "id": "FjpsqKSvUxhZ"
      },
      "execution_count": null,
      "outputs": []
    },
    {
      "cell_type": "code",
      "source": [
        "plt.plot(history.history['val_loss'], color = 'orange')\n",
        "plt.plot(history.history['loss'], color='red')\n",
        "plt.plot(history.history['accuracy'], color = 'green')\n",
        "plt.plot(history.history['val_accuracy'], color = 'blue')\n",
        "plt.legend(['Val_loss','Train_loss'])\n",
        "e=range(0,20)\n",
        "labels=range(1,21)\n",
        "plt.xlabel(\"Epochs\")\n",
        "plt.ylabel(\"Loss\")\n",
        "plt.xticks(e,labels)\n",
        "plt.show()"
      ],
      "metadata": {
        "colab": {
          "base_uri": "https://localhost:8080/",
          "height": 450
        },
        "id": "7upHdUAlpP3c",
        "outputId": "7fcc82b5-50da-4a5f-d850-23767bf02a66"
      },
      "execution_count": null,
      "outputs": [
        {
          "output_type": "display_data",
          "data": {
            "text/plain": [
              "<Figure size 640x480 with 1 Axes>"
            ],
            "image/png": "[encoded data removed]"
          },
          "metadata": {}
        }
      ]
    },
    {
      "cell_type": "code",
      "source": [
        "labels = []\n",
        "predictions = []\n",
        "for x,y in test_set:\n",
        "    labels.append(list(y.numpy()))\n",
        "    predictions.append(tf.argmax(potato_model.predict(x),1).numpy())"
      ],
      "metadata": {
        "colab": {
          "base_uri": "https://localhost:8080/"
        },
        "id": "rOkOhz8ipSml",
        "outputId": "fc605e1a-6ce9-43cc-8936-bf91ca887f08"
      },
      "execution_count": null,
      "outputs": [
        {
          "output_type": "stream",
          "name": "stdout",
          "text": [
            "1/1 [==============================] - 0s 114ms/step\n",
            "1/1 [==============================] - 0s 23ms/step\n",
            "1/1 [==============================] - 0s 22ms/step\n",
            "1/1 [==============================] - 0s 28ms/step\n",
            "1/1 [==============================] - 0s 25ms/step\n",
            "1/1 [==============================] - 0s 23ms/step\n",
            "1/1 [==============================] - 0s 22ms/step\n",
            "1/1 [==============================] - 0s 21ms/step\n",
            "1/1 [==============================] - 0s 32ms/step\n",
            "1/1 [==============================] - 0s 29ms/step\n",
            "1/1 [==============================] - 0s 37ms/step\n",
            "1/1 [==============================] - 0s 32ms/step\n",
            "1/1 [==============================] - 0s 29ms/step\n",
            "1/1 [==============================] - 0s 29ms/step\n",
            "1/1 [==============================] - 0s 28ms/step\n",
            "1/1 [==============================] - 0s 28ms/step\n",
            "1/1 [==============================] - 0s 27ms/step\n",
            "1/1 [==============================] - 0s 26ms/step\n",
            "1/1 [==============================] - 0s 29ms/step\n",
            "1/1 [==============================] - 0s 37ms/step\n",
            "1/1 [==============================] - 0s 28ms/step\n",
            "1/1 [==============================] - 0s 31ms/step\n",
            "1/1 [==============================] - 0s 28ms/step\n",
            "1/1 [==============================] - 0s 28ms/step\n",
            "1/1 [==============================] - 0s 28ms/step\n",
            "1/1 [==============================] - 0s 41ms/step\n",
            "1/1 [==============================] - 0s 30ms/step\n",
            "1/1 [==============================] - 0s 31ms/step\n",
            "1/1 [==============================] - 0s 31ms/step\n",
            "1/1 [==============================] - 0s 27ms/step\n",
            "1/1 [==============================] - 0s 28ms/step\n",
            "1/1 [==============================] - 0s 31ms/step\n",
            "1/1 [==============================] - 0s 31ms/step\n",
            "1/1 [==============================] - 0s 20ms/step\n",
            "1/1 [==============================] - 0s 19ms/step\n",
            "1/1 [==============================] - 0s 19ms/step\n",
            "1/1 [==============================] - 0s 20ms/step\n",
            "1/1 [==============================] - 0s 20ms/step\n",
            "1/1 [==============================] - 0s 24ms/step\n",
            "1/1 [==============================] - 0s 22ms/step\n",
            "1/1 [==============================] - 0s 23ms/step\n",
            "1/1 [==============================] - 0s 23ms/step\n",
            "1/1 [==============================] - 0s 19ms/step\n",
            "1/1 [==============================] - 0s 23ms/step\n",
            "1/1 [==============================] - 0s 101ms/step\n"
          ]
        }
      ]
    },
    {
      "cell_type": "code",
      "source": [
        "predictions = list(itertools.chain.from_iterable(predictions))\n",
        "labels = list(itertools.chain.from_iterable(labels))"
      ],
      "metadata": {
        "id": "NagvovNLpVvS"
      },
      "execution_count": null,
      "outputs": []
    },
    {
      "cell_type": "code",
      "source": [
        "print(\"Train Accuracy  : {:.2f} %\".format(history.history['accuracy'][-1]*100))\n",
        "print(\"Test Accuracy   : {:.2f} %\".format(accuracy_score(labels, predictions) * 100))\n",
        "print(\"Precision Score : {:.2f} %\".format(precision_score(labels, predictions, average='micro') * 100))\n",
        "print(\"Recall Score    : {:.2f} %\".format(recall_score(labels, predictions, average='micro') * 100))"
      ],
      "metadata": {
        "colab": {
          "base_uri": "https://localhost:8080/"
        },
        "id": "AcKmNRaSpZFq",
        "outputId": "f8c16ba7-eacc-4a3a-f906-53e65abc76f9"
      },
      "execution_count": null,
      "outputs": [
        {
          "output_type": "stream",
          "name": "stdout",
          "text": [
            "Train Accuracy  : 99.54 %\n",
            "Test Accuracy   : 99.58 %\n",
            "Precision Score : 99.58 %\n",
            "Recall Score    : 99.58 %\n"
          ]
        }
      ]
    },
    {
      "cell_type": "code",
      "source": [
        "# Plot a confusion matrix based on the true labels and predicted labels\n",
        "plt.figure(figsize= (2,2))\n",
        "cm = confusion_matrix(labels, predictions)\n",
        "disp = ConfusionMatrixDisplay(confusion_matrix=cm, display_labels=list(range(1,4)))\n",
        "fig, ax = plt.subplots(figsize=(10,10))\n",
        "disp.plot(ax=ax,colorbar= False,cmap = 'YlGnBu')\n",
        "plt.title(\"Confusion Matrix\")\n",
        "plt.xlabel('Predicted Labels')\n",
        "plt.ylabel('True Labels')\n",
        "plt.show()"
      ],
      "metadata": {
        "colab": {
          "base_uri": "https://localhost:8080/",
          "height": 889
        },
        "id": "0lsdaFnvpcuU",
        "outputId": "59f4c574-32b9-4a88-a61c-ca89b58855ef"
      },
      "execution_count": null,
      "outputs": [
        {
          "output_type": "display_data",
          "data": {
            "text/plain": [
              "<Figure size 200x200 with 0 Axes>"
            ]
          },
          "metadata": {}
        },
        {
          "output_type": "display_data",
          "data": {
            "text/plain": [
              "<Figure size 1000x1000 with 1 Axes>"
            ],
            "image/png": "[encoded data removed]"
          },
          "metadata": {}
        }
      ]
    },
    {
      "cell_type": "code",
      "source": [
        "potato_model.save(\"Potato_Avg_20_Final_99.58.h5\")"
      ],
      "metadata": {
        "id": "We5XGhwBpgV7"
      },
      "execution_count": null,
      "outputs": []
    },
    {
      "cell_type": "markdown",
      "source": [
        "# **Apple**"
      ],
      "metadata": {
        "id": "4bzRnIIQdIWy"
      }
    },
    {
      "cell_type": "code",
      "source": [
        "data_dir = r\"/tmp/DS MINI PROJECT DATASET(BALANCEDANDIMBALANCED)\"\n",
        "\n",
        "train_apple_dir = data_dir + \"/Training/Apple\"\n",
        "test_apple_dir = data_dir + \"/Testing/Apple\""
      ],
      "metadata": {
        "id": "LRtUdznodMBk"
      },
      "execution_count": null,
      "outputs": []
    },
    {
      "cell_type": "code",
      "source": [
        "seed_train_validation = 1 # Must be same for train_ds and val_ds\n",
        "shuffle_value = True\n",
        "validation_split = 0.2\n",
        "\n",
        "train_gen = tf.keras.utils.image_dataset_from_directory(\n",
        "                                                        directory = train_apple_dir,\n",
        "                                                        image_size = (128, 128),\n",
        "                                                        label_mode='categorical',\n",
        "                                                        validation_split = validation_split,\n",
        "                                                        batch_size=32,\n",
        "                                                        subset = \"training\",\n",
        "                                                        seed = seed_train_validation,\n",
        "                                                        shuffle = shuffle_value)\n",
        "\n",
        "val_gen = tf.keras.utils.image_dataset_from_directory(\n",
        "                                                        directory = train_apple_dir,\n",
        "                                                        image_size = (128, 128),\n",
        "                                                        validation_split = validation_split,\n",
        "                                                        label_mode='categorical',\n",
        "                                                        batch_size=32,\n",
        "                                                        subset = \"validation\",\n",
        "                                                        seed = seed_train_validation,\n",
        "                                                        shuffle = shuffle_value)\n",
        "\n",
        "test_it = tf.keras.utils.image_dataset_from_directory( directory= test_apple_dir,\n",
        "                                                      batch_size=32,\n",
        "                                                      image_size=(128, 128))"
      ],
      "metadata": {
        "colab": {
          "base_uri": "https://localhost:8080/"
        },
        "id": "zYPVLOK-dPMk",
        "outputId": "a571e48d-1eb2-4880-d193-65e19211c412"
      },
      "execution_count": null,
      "outputs": [
        {
          "output_type": "stream",
          "name": "stdout",
          "text": [
            "Found 7771 files belonging to 4 classes.\n",
            "Using 6217 files for training.\n",
            "Found 7771 files belonging to 4 classes.\n",
            "Using 1554 files for validation.\n",
            "Found 1943 files belonging to 4 classes.\n"
          ]
        }
      ]
    },
    {
      "cell_type": "code",
      "source": [
        "rescale = Rescaling(scale=1./255)\n",
        "train_set  = train_gen.map(lambda image,label:(rescale(image),label))\n",
        "valid_set  = val_gen.map(lambda image,label:(rescale(image),label))\n",
        "test_set  = test_it.map(lambda image,label:(rescale(image),label))"
      ],
      "metadata": {
        "id": "fqg59sCMOPcw"
      },
      "execution_count": null,
      "outputs": []
    },
    {
      "cell_type": "code",
      "source": [
        "apple_avg = models.Sequential()\n",
        "apple_avg = Sequential()\n",
        "\n",
        "apple_avg.add(Conv2D(filters=16,kernel_size=(3,3),padding=\"same\", activation=\"relu\", input_shape=(128,128,3)))\n",
        "apple_avg.add(MaxPool2D(pool_size=(2,2),strides=(2,2)))\n",
        "apple_avg.add(BatchNormalization())\n",
        "\n",
        "apple_avg.add(Conv2D(filters=32, kernel_size=(3,3), padding=\"same\", activation=\"relu\"))\n",
        "apple_avg.add(MaxPool2D(pool_size=(2,2),strides=(2,2)))\n",
        "apple_avg.add(BatchNormalization())\n",
        "\n",
        "apple_avg.add(Conv2D(filters=64, kernel_size=(3,3), padding=\"same\", activation=\"relu\"))\n",
        "apple_avg.add(MaxPool2D(pool_size=(2,2),strides=(2,2)))\n",
        "apple_avg.add(BatchNormalization())\n",
        "\n",
        "avg1 = tf.keras.layers.GlobalAveragePooling2D()(apple_avg.layers[-1].output)\n",
        "class1 = Dense(16, activation='relu', kernel_initializer='he_uniform')(avg1)\n",
        "output = Dense(4, activation='softmax')(class1)\n",
        "apple_avg = Model(inputs=apple_avg.inputs, outputs=output)"
      ],
      "metadata": {
        "id": "ZvCkd5zLdSIZ"
      },
      "execution_count": null,
      "outputs": []
    },
    {
      "cell_type": "code",
      "source": [
        "apple_avg.compile(optimizer='adam', loss='categorical_crossentropy', metrics=['accuracy'])\n",
        "apple_avg.summary()"
      ],
      "metadata": {
        "colab": {
          "base_uri": "https://localhost:8080/"
        },
        "id": "rGnu5FCTdaPj",
        "outputId": "7fac2961-d18f-41ff-fca0-f01b3b2f86b5"
      },
      "execution_count": null,
      "outputs": [
        {
          "output_type": "stream",
          "name": "stdout",
          "text": [
            "Model: \"model_4\"\n",
            "_________________________________________________________________\n",
            " Layer (type)                Output Shape              Param #   \n",
            "=================================================================\n",
            " conv2d_12_input (InputLaye  [(None, 128, 128, 3)]     0         \n",
            " r)                                                              \n",
            "                                                                 \n",
            " conv2d_12 (Conv2D)          (None, 128, 128, 16)      448       \n",
            "                                                                 \n",
            " max_pooling2d_12 (MaxPooli  (None, 64, 64, 16)        0         \n",
            " ng2D)                                                           \n",
            "                                                                 \n",
            " batch_normalization_3 (Bat  (None, 64, 64, 16)        64        \n",
            " chNormalization)                                                \n",
            "                                                                 \n",
            " conv2d_13 (Conv2D)          (None, 64, 64, 32)        4640      \n",
            "                                                                 \n",
            " max_pooling2d_13 (MaxPooli  (None, 32, 32, 32)        0         \n",
            " ng2D)                                                           \n",
            "                                                                 \n",
            " batch_normalization_4 (Bat  (None, 32, 32, 32)        128       \n",
            " chNormalization)                                                \n",
            "                                                                 \n",
            " conv2d_14 (Conv2D)          (None, 32, 32, 64)        18496     \n",
            "                                                                 \n",
            " max_pooling2d_14 (MaxPooli  (None, 16, 16, 64)        0         \n",
            " ng2D)                                                           \n",
            "                                                                 \n",
            " batch_normalization_5 (Bat  (None, 16, 16, 64)        256       \n",
            " chNormalization)                                                \n",
            "                                                                 \n",
            " global_average_pooling2d_4  (None, 64)                0         \n",
            "  (GlobalAveragePooling2D)                                       \n",
            "                                                                 \n",
            " dense_8 (Dense)             (None, 16)                1040      \n",
            "                                                                 \n",
            " dense_9 (Dense)             (None, 4)                 68        \n",
            "                                                                 \n",
            "=================================================================\n",
            "Total params: 25140 (98.20 KB)\n",
            "Trainable params: 24916 (97.33 KB)\n",
            "Non-trainable params: 224 (896.00 Byte)\n",
            "_________________________________________________________________\n"
          ]
        }
      ]
    },
    {
      "cell_type": "code",
      "source": [
        "epochsteps=len(train_set);epochs =20;valsteps=len(valid_set)\n",
        "# fit model\n",
        "history = apple_avg.fit(train_set, steps_per_epoch=epochsteps,\n",
        "                    validation_data=valid_set, validation_steps=valsteps, epochs=20, verbose=1)"
      ],
      "metadata": {
        "colab": {
          "base_uri": "https://localhost:8080/"
        },
        "id": "p7Fz_xaCdfg4",
        "outputId": "25e75697-d6e1-4e85-c880-0dba7da49388"
      },
      "execution_count": null,
      "outputs": [
        {
          "output_type": "stream",
          "name": "stdout",
          "text": [
            "Epoch 1/20\n",
            "195/195 [==============================] - 9s 33ms/step - loss: 0.3909 - accuracy: 0.8694 - val_loss: 2.5688 - val_accuracy: 0.2960\n",
            "Epoch 2/20\n",
            "195/195 [==============================] - 8s 38ms/step - loss: 0.1676 - accuracy: 0.9437 - val_loss: 2.5196 - val_accuracy: 0.4395\n",
            "Epoch 3/20\n",
            "195/195 [==============================] - 8s 38ms/step - loss: 0.1167 - accuracy: 0.9609 - val_loss: 0.9938 - val_accuracy: 0.6557\n",
            "Epoch 4/20\n",
            "195/195 [==============================] - 6s 31ms/step - loss: 0.0928 - accuracy: 0.9702 - val_loss: 0.2934 - val_accuracy: 0.8951\n",
            "Epoch 5/20\n",
            "195/195 [==============================] - 8s 38ms/step - loss: 0.0822 - accuracy: 0.9717 - val_loss: 0.2013 - val_accuracy: 0.9221\n",
            "Epoch 6/20\n",
            "195/195 [==============================] - 8s 40ms/step - loss: 0.0596 - accuracy: 0.9802 - val_loss: 0.8092 - val_accuracy: 0.7658\n",
            "Epoch 7/20\n",
            "195/195 [==============================] - 7s 33ms/step - loss: 0.0585 - accuracy: 0.9813 - val_loss: 0.9224 - val_accuracy: 0.7162\n",
            "Epoch 8/20\n",
            "195/195 [==============================] - 6s 30ms/step - loss: 0.0503 - accuracy: 0.9833 - val_loss: 0.8337 - val_accuracy: 0.7510\n",
            "Epoch 9/20\n",
            "195/195 [==============================] - 7s 36ms/step - loss: 0.0466 - accuracy: 0.9852 - val_loss: 0.7549 - val_accuracy: 0.7786\n",
            "Epoch 10/20\n",
            "195/195 [==============================] - 6s 32ms/step - loss: 0.0465 - accuracy: 0.9842 - val_loss: 1.6502 - val_accuracy: 0.6802\n",
            "Epoch 11/20\n",
            "195/195 [==============================] - 8s 43ms/step - loss: 0.0415 - accuracy: 0.9863 - val_loss: 0.1390 - val_accuracy: 0.9543\n",
            "Epoch 12/20\n",
            "195/195 [==============================] - 7s 33ms/step - loss: 0.0294 - accuracy: 0.9903 - val_loss: 0.1844 - val_accuracy: 0.9402\n",
            "Epoch 13/20\n",
            "195/195 [==============================] - 8s 39ms/step - loss: 0.0236 - accuracy: 0.9936 - val_loss: 0.6787 - val_accuracy: 0.8449\n",
            "Epoch 14/20\n",
            "195/195 [==============================] - 7s 37ms/step - loss: 0.0291 - accuracy: 0.9908 - val_loss: 0.6624 - val_accuracy: 0.8147\n",
            "Epoch 15/20\n",
            "195/195 [==============================] - 7s 33ms/step - loss: 0.0204 - accuracy: 0.9949 - val_loss: 0.3894 - val_accuracy: 0.8578\n",
            "Epoch 16/20\n",
            "195/195 [==============================] - 6s 31ms/step - loss: 0.0330 - accuracy: 0.9903 - val_loss: 0.1940 - val_accuracy: 0.9208\n",
            "Epoch 17/20\n",
            "195/195 [==============================] - 9s 43ms/step - loss: 0.0262 - accuracy: 0.9921 - val_loss: 0.1318 - val_accuracy: 0.9530\n",
            "Epoch 18/20\n",
            "195/195 [==============================] - 6s 32ms/step - loss: 0.0205 - accuracy: 0.9928 - val_loss: 0.0447 - val_accuracy: 0.9852\n",
            "Epoch 19/20\n",
            "195/195 [==============================] - 6s 31ms/step - loss: 0.0377 - accuracy: 0.9860 - val_loss: 0.4273 - val_accuracy: 0.8880\n",
            "Epoch 20/20\n",
            "195/195 [==============================] - 7s 33ms/step - loss: 0.0126 - accuracy: 0.9965 - val_loss: 0.0172 - val_accuracy: 0.9949\n"
          ]
        }
      ]
    },
    {
      "cell_type": "code",
      "source": [
        "plt.plot(history.history['val_loss'], color = 'orange')\n",
        "plt.plot(history.history['loss'], color='red')\n",
        "plt.plot(history.history['accuracy'], color = 'green')\n",
        "plt.plot(history.history['val_accuracy'], color = 'blue')\n",
        "plt.legend(['Val_loss','Train_loss'])\n",
        "e=range(0,20)\n",
        "labels=range(1,21)\n",
        "plt.xlabel(\"Epochs\")\n",
        "plt.ylabel(\"Loss\")\n",
        "plt.xticks(e,labels)\n",
        "plt.show()"
      ],
      "metadata": {
        "colab": {
          "base_uri": "https://localhost:8080/",
          "height": 449
        },
        "outputId": "5b7e7302-a0a8-4c86-849e-18523fe2dea1",
        "id": "9s8XWJGoQd5A"
      },
      "execution_count": null,
      "outputs": [
        {
          "output_type": "display_data",
          "data": {
            "text/plain": [
              "<Figure size 640x480 with 1 Axes>"
            ],
            "image/png": "[encoded data removed]"
          },
          "metadata": {}
        }
      ]
    },
    {
      "cell_type": "code",
      "source": [
        "labels = []\n",
        "predictions = []\n",
        "for x,y in test_set:\n",
        "    labels.append(list(y.numpy()))\n",
        "    predictions.append(tf.argmax(apple_avg.predict(x),1).numpy())"
      ],
      "metadata": {
        "colab": {
          "base_uri": "https://localhost:8080/"
        },
        "outputId": "07d68304-ba23-47de-984f-e0dc52cf5f2d",
        "id": "Db-OuY7KQd5H"
      },
      "execution_count": null,
      "outputs": [
        {
          "output_type": "stream",
          "name": "stdout",
          "text": [
            "1/1 [==============================] - 0s 112ms/step\n",
            "1/1 [==============================] - 0s 28ms/step\n",
            "1/1 [==============================] - 0s 22ms/step\n",
            "1/1 [==============================] - 0s 25ms/step\n",
            "1/1 [==============================] - 0s 25ms/step\n",
            "1/1 [==============================] - 0s 37ms/step\n",
            "1/1 [==============================] - 0s 32ms/step\n",
            "1/1 [==============================] - 0s 35ms/step\n",
            "1/1 [==============================] - 0s 40ms/step\n",
            "1/1 [==============================] - 0s 36ms/step\n",
            "1/1 [==============================] - 0s 34ms/step\n",
            "1/1 [==============================] - 0s 42ms/step\n",
            "1/1 [==============================] - 0s 34ms/step\n",
            "1/1 [==============================] - 0s 36ms/step\n",
            "1/1 [==============================] - 0s 38ms/step\n",
            "1/1 [==============================] - 0s 33ms/step\n",
            "1/1 [==============================] - 0s 33ms/step\n",
            "1/1 [==============================] - 0s 32ms/step\n",
            "1/1 [==============================] - 0s 32ms/step\n",
            "1/1 [==============================] - 0s 34ms/step\n",
            "1/1 [==============================] - 0s 40ms/step\n",
            "1/1 [==============================] - 0s 31ms/step\n",
            "1/1 [==============================] - 0s 30ms/step\n",
            "1/1 [==============================] - 0s 30ms/step\n",
            "1/1 [==============================] - 0s 33ms/step\n",
            "1/1 [==============================] - 0s 32ms/step\n",
            "1/1 [==============================] - 0s 31ms/step\n",
            "1/1 [==============================] - 0s 34ms/step\n",
            "1/1 [==============================] - 0s 32ms/step\n",
            "1/1 [==============================] - 0s 36ms/step\n",
            "1/1 [==============================] - 0s 26ms/step\n",
            "1/1 [==============================] - 0s 22ms/step\n",
            "1/1 [==============================] - 0s 21ms/step\n",
            "1/1 [==============================] - 0s 22ms/step\n",
            "1/1 [==============================] - 0s 22ms/step\n",
            "1/1 [==============================] - 0s 24ms/step\n",
            "1/1 [==============================] - 0s 25ms/step\n",
            "1/1 [==============================] - 0s 24ms/step\n",
            "1/1 [==============================] - 0s 21ms/step\n",
            "1/1 [==============================] - 0s 20ms/step\n",
            "1/1 [==============================] - 0s 21ms/step\n",
            "1/1 [==============================] - 0s 24ms/step\n",
            "1/1 [==============================] - 0s 21ms/step\n",
            "1/1 [==============================] - 0s 22ms/step\n",
            "1/1 [==============================] - 0s 27ms/step\n",
            "1/1 [==============================] - 0s 21ms/step\n",
            "1/1 [==============================] - 0s 21ms/step\n",
            "1/1 [==============================] - 0s 21ms/step\n",
            "1/1 [==============================] - 0s 26ms/step\n",
            "1/1 [==============================] - 0s 45ms/step\n",
            "1/1 [==============================] - 0s 34ms/step\n",
            "1/1 [==============================] - 0s 61ms/step\n",
            "1/1 [==============================] - 0s 36ms/step\n",
            "1/1 [==============================] - 0s 36ms/step\n",
            "1/1 [==============================] - 0s 69ms/step\n",
            "1/1 [==============================] - 0s 29ms/step\n",
            "1/1 [==============================] - 0s 36ms/step\n",
            "1/1 [==============================] - 0s 73ms/step\n",
            "1/1 [==============================] - 0s 22ms/step\n",
            "1/1 [==============================] - 0s 22ms/step\n",
            "1/1 [==============================] - 0s 264ms/step\n"
          ]
        }
      ]
    },
    {
      "cell_type": "code",
      "source": [
        "predictions = list(itertools.chain.from_iterable(predictions))\n",
        "labels = list(itertools.chain.from_iterable(labels))"
      ],
      "metadata": {
        "id": "eQwwuXLoQd5H"
      },
      "execution_count": null,
      "outputs": []
    },
    {
      "cell_type": "code",
      "source": [
        "print(\"Train Accuracy  : {:.2f} %\".format(history.history['accuracy'][-1]*100))\n",
        "print(\"Test Accuracy   : {:.2f} %\".format(accuracy_score(labels, predictions) * 100))\n",
        "print(\"Precision Score : {:.2f} %\".format(precision_score(labels, predictions, average='micro') * 100))\n",
        "print(\"Recall Score    : {:.2f} %\".format(recall_score(labels, predictions, average='micro') * 100))"
      ],
      "metadata": {
        "colab": {
          "base_uri": "https://localhost:8080/"
        },
        "outputId": "28c50575-6bd5-4338-d1bf-4483348e6a1e",
        "id": "LzVTI3uJQd5H"
      },
      "execution_count": null,
      "outputs": [
        {
          "output_type": "stream",
          "name": "stdout",
          "text": [
            "Train Accuracy  : 99.65 %\n",
            "Test Accuracy   : 99.33 %\n",
            "Precision Score : 99.33 %\n",
            "Recall Score    : 99.33 %\n"
          ]
        }
      ]
    },
    {
      "cell_type": "code",
      "source": [
        "# Plot a confusion matrix based on the true labels and predicted labels\n",
        "plt.figure(figsize= (2,2))\n",
        "cm = confusion_matrix(labels, predictions)\n",
        "disp = ConfusionMatrixDisplay(confusion_matrix=cm, display_labels=list(range(1,5)))\n",
        "fig, ax = plt.subplots(figsize=(10,10))\n",
        "disp.plot(ax=ax,colorbar= False,cmap = 'YlGnBu')\n",
        "plt.title(\"Confusion Matrix\")\n",
        "plt.xlabel('Predicted Labels')\n",
        "plt.ylabel('True Labels')\n",
        "plt.show()"
      ],
      "metadata": {
        "colab": {
          "base_uri": "https://localhost:8080/",
          "height": 889
        },
        "outputId": "d1d608d9-64c8-4129-8cba-73a8339d81ae",
        "id": "TgCsP15mQd5H"
      },
      "execution_count": null,
      "outputs": [
        {
          "output_type": "display_data",
          "data": {
            "text/plain": [
              "<Figure size 200x200 with 0 Axes>"
            ]
          },
          "metadata": {}
        },
        {
          "output_type": "display_data",
          "data": {
            "text/plain": [
              "<Figure size 1000x1000 with 1 Axes>"
            ],
            "image/png": "[encoded data removed]"
          },
          "metadata": {}
        }
      ]
    },
    {
      "cell_type": "code",
      "source": [
        "apple_avg.save(\"Apple_Avg_20_Final_99.3.h5\")"
      ],
      "metadata": {
        "id": "Smu8TraXdmmo"
      },
      "execution_count": null,
      "outputs": []
    }
  ]
}