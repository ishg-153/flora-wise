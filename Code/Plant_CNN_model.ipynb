{
  "nbformat": 4,
  "nbformat_minor": 0,
  "metadata": {
    "colab": {
      "provenance": [],
      "gpuType": "T4",
      "toc_visible": true
    },
    "kernelspec": {
      "name": "python3",
      "display_name": "Python 3"
    },
    "language_info": {
      "name": "python"
    },
    "accelerator": "GPU"
  },
  "cells": [
    {
      "cell_type": "code",
      "source": [
        "import os                       # for working with files\n",
        "import numpy as np              # for numerical computationss\n",
        "import pandas as pd             # for working with dataframes\n",
        "import matplotlib.pyplot as plt # for plotting informations on graph and images using tensors\n",
        "import tensorflow as tf\n",
        "#import tensorflow.keras.backend as K\n",
        "#from sklearn.metrics import confusion_matrix\n",
        "from keras import models\n",
        "from tensorflow.keras.models import Model\n",
        "from tensorflow.keras.models import load_model\n",
        "from tensorflow.keras.preprocessing import image\n",
        "#from keras.preprocessing.image import load_img,img_to_array\n",
        "from tensorflow.keras.models import Sequential\n",
        "from tensorflow.keras import layers\n",
        "from tensorflow.keras.layers import Dense, Dropout, Flatten, Input, LeakyReLU\n",
        "from tensorflow.keras.layers import BatchNormalization, Activation, Conv2D\n",
        "#from tensorflow.keras.applications import ResNet101V2\n",
        "from tensorflow.keras.models import Sequential\n",
        "from tensorflow.keras.preprocessing.image import ImageDataGenerator\n",
        "from tensorflow.keras.layers import MaxPooling2D\n",
        "from keras.layers import MaxPool2D"
      ],
      "metadata": {
        "id": "txRx8aF44-hJ"
      },
      "execution_count": null,
      "outputs": []
    },
    {
      "cell_type": "code",
      "source": [
        "np.random.seed(0)"
      ],
      "metadata": {
        "id": "KhrFWGfjAyzI"
      },
      "execution_count": null,
      "outputs": []
    },
    {
      "cell_type": "code",
      "source": [
        "#!wget https://www.kaggle.com/datasets/harshart/balanced-plant-dataset/download?datasetVersionNumber=3\n",
        "!wget https://www.kaggle.com/datasets/51260b678151e12968d53b127102f01ccd04411d4c11fd5e3dfbb3ff6ef2aeb0\n",
        "!unzip /content/archive.zip?dl=0"
      ],
      "metadata": {
        "colab": {
          "base_uri": "https://localhost:8080/"
        },
        "id": "AU8YC0Fv5FNR",
        "outputId": "fa9879c1-e8c4-49a8-a62e-1fe038a10c3c"
      },
      "execution_count": null,
      "outputs": [
        {
          "output_type": "stream",
          "name": "stdout",
          "text": [
            "--2023-09-30 14:59:02--  https://www.kaggle.com/datasets/51260b678151e12968d53b127102f01ccd04411d4c11fd5e3dfbb3ff6ef2aeb0\n",
            "Resolving www.kaggle.com (www.kaggle.com)... 35.244.233.98\n",
            "Connecting to www.kaggle.com (www.kaggle.com)|35.244.233.98|:443... connected.\n",
            "HTTP request sent, awaiting response... 200 OK\n",
            "Length: unspecified [text/html]\n",
            "Saving to: ‘51260b678151e12968d53b127102f01ccd04411d4c11fd5e3dfbb3ff6ef2aeb0’\n",
            "\n",
            "51260b678151e12968d     [ <=>                ]   8.73K  --.-KB/s    in 0.04s   \n",
            "\n",
            "2023-09-30 14:59:03 (234 KB/s) - ‘51260b678151e12968d53b127102f01ccd04411d4c11fd5e3dfbb3ff6ef2aeb0’ saved [8943]\n",
            "\n",
            "unzip:  cannot find or open /content/archive.zip?dl=0, /content/archive.zip?dl=0.zip or /content/archive.zip?dl=0.ZIP.\n",
            "\n",
            "No zipfiles found.\n"
          ]
        }
      ]
    },
    {
      "cell_type": "code",
      "source": [
        "from google.colab import files #add .json file\n",
        "uploaded = files.upload()"
      ],
      "metadata": {
        "colab": {
          "base_uri": "https://localhost:8080/",
          "height": 73
        },
        "id": "2Zy7G_X35MSA",
        "outputId": "4c27e1a5-b030-4493-d098-d5861ee9adf4"
      },
      "execution_count": null,
      "outputs": [
        {
          "output_type": "display_data",
          "data": {
            "text/plain": [
              "<IPython.core.display.HTML object>"
            ],
            "text/html": [
              "\n",
              "     <input type=\"file\" id=\"files-4b60b667-b833-4a38-a592-c1010bccc7dc\" name=\"files[]\" multiple disabled\n",
              "        style=\"border:none\" />\n",
              "     <output id=\"result-4b60b667-b833-4a38-a592-c1010bccc7dc\">\n",
              "      Upload widget is only available when the cell has been executed in the\n",
              "      current browser session. Please rerun this cell to enable.\n",
              "      </output>\n",
              "      <script>// Copyright 2017 Google LLC\n",
              "//\n",
              "// Licensed under the Apache License, Version 2.0 (the \"License\");\n",
              "// you may not use this file except in compliance with the License.\n",
              "// You may obtain a copy of the License at\n",
              "//\n",
              "//      http://www.apache.org/licenses/LICENSE-2.0\n",
              "//\n",
              "// Unless required by applicable law or agreed to in writing, software\n",
              "// distributed under the License is distributed on an \"AS IS\" BASIS,\n",
              "// WITHOUT WARRANTIES OR CONDITIONS OF ANY KIND, either express or implied.\n",
              "// See the License for the specific language governing permissions and\n",
              "// limitations under the License.\n",
              "\n",
              "/**\n",
              " * @fileoverview Helpers for google.colab Python module.\n",
              " */\n",
              "(function(scope) {\n",
              "function span(text, styleAttributes = {}) {\n",
              "  const element = document.createElement('span');\n",
              "  element.textContent = text;\n",
              "  for (const key of Object.keys(styleAttributes)) {\n",
              "    element.style[key] = styleAttributes[key];\n",
              "  }\n",
              "  return element;\n",
              "}\n",
              "\n",
              "// Max number of bytes which will be uploaded at a time.\n",
              "const MAX_PAYLOAD_SIZE = 100 * 1024;\n",
              "\n",
              "function _uploadFiles(inputId, outputId) {\n",
              "  const steps = uploadFilesStep(inputId, outputId);\n",
              "  const outputElement = document.getElementById(outputId);\n",
              "  // Cache steps on the outputElement to make it available for the next call\n",
              "  // to uploadFilesContinue from Python.\n",
              "  outputElement.steps = steps;\n",
              "\n",
              "  return _uploadFilesContinue(outputId);\n",
              "}\n",
              "\n",
              "// This is roughly an async generator (not supported in the browser yet),\n",
              "// where there are multiple asynchronous steps and the Python side is going\n",
              "// to poll for completion of each step.\n",
              "// This uses a Promise to block the python side on completion of each step,\n",
              "// then passes the result of the previous step as the input to the next step.\n",
              "function _uploadFilesContinue(outputId) {\n",
              "  const outputElement = document.getElementById(outputId);\n",
              "  const steps = outputElement.steps;\n",
              "\n",
              "  const next = steps.next(outputElement.lastPromiseValue);\n",
              "  return Promise.resolve(next.value.promise).then((value) => {\n",
              "    // Cache the last promise value to make it available to the next\n",
              "    // step of the generator.\n",
              "    outputElement.lastPromiseValue = value;\n",
              "    return next.value.response;\n",
              "  });\n",
              "}\n",
              "\n",
              "/**\n",
              " * Generator function which is called between each async step of the upload\n",
              " * process.\n",
              " * @param {string} inputId Element ID of the input file picker element.\n",
              " * @param {string} outputId Element ID of the output display.\n",
              " * @return {!Iterable<!Object>} Iterable of next steps.\n",
              " */\n",
              "function* uploadFilesStep(inputId, outputId) {\n",
              "  const inputElement = document.getElementById(inputId);\n",
              "  inputElement.disabled = false;\n",
              "\n",
              "  const outputElement = document.getElementById(outputId);\n",
              "  outputElement.innerHTML = '';\n",
              "\n",
              "  const pickedPromise = new Promise((resolve) => {\n",
              "    inputElement.addEventListener('change', (e) => {\n",
              "      resolve(e.target.files);\n",
              "    });\n",
              "  });\n",
              "\n",
              "  const cancel = document.createElement('button');\n",
              "  inputElement.parentElement.appendChild(cancel);\n",
              "  cancel.textContent = 'Cancel upload';\n",
              "  const cancelPromise = new Promise((resolve) => {\n",
              "    cancel.onclick = () => {\n",
              "      resolve(null);\n",
              "    };\n",
              "  });\n",
              "\n",
              "  // Wait for the user to pick the files.\n",
              "  const files = yield {\n",
              "    promise: Promise.race([pickedPromise, cancelPromise]),\n",
              "    response: {\n",
              "      action: 'starting',\n",
              "    }\n",
              "  };\n",
              "\n",
              "  cancel.remove();\n",
              "\n",
              "  // Disable the input element since further picks are not allowed.\n",
              "  inputElement.disabled = true;\n",
              "\n",
              "  if (!files) {\n",
              "    return {\n",
              "      response: {\n",
              "        action: 'complete',\n",
              "      }\n",
              "    };\n",
              "  }\n",
              "\n",
              "  for (const file of files) {\n",
              "    const li = document.createElement('li');\n",
              "    li.append(span(file.name, {fontWeight: 'bold'}));\n",
              "    li.append(span(\n",
              "        `(${file.type || 'n/a'}) - ${file.size} bytes, ` +\n",
              "        `last modified: ${\n",
              "            file.lastModifiedDate ? file.lastModifiedDate.toLocaleDateString() :\n",
              "                                    'n/a'} - `));\n",
              "    const percent = span('0% done');\n",
              "    li.appendChild(percent);\n",
              "\n",
              "    outputElement.appendChild(li);\n",
              "\n",
              "    const fileDataPromise = new Promise((resolve) => {\n",
              "      const reader = new FileReader();\n",
              "      reader.onload = (e) => {\n",
              "        resolve(e.target.result);\n",
              "      };\n",
              "      reader.readAsArrayBuffer(file);\n",
              "    });\n",
              "    // Wait for the data to be ready.\n",
              "    let fileData = yield {\n",
              "      promise: fileDataPromise,\n",
              "      response: {\n",
              "        action: 'continue',\n",
              "      }\n",
              "    };\n",
              "\n",
              "    // Use a chunked sending to avoid message size limits. See b/62115660.\n",
              "    let position = 0;\n",
              "    do {\n",
              "      const length = Math.min(fileData.byteLength - position, MAX_PAYLOAD_SIZE);\n",
              "      const chunk = new Uint8Array(fileData, position, length);\n",
              "      position += length;\n",
              "\n",
              "      const base64 = btoa(String.fromCharCode.apply(null, chunk));\n",
              "      yield {\n",
              "        response: {\n",
              "          action: 'append',\n",
              "          file: file.name,\n",
              "          data: base64,\n",
              "        },\n",
              "      };\n",
              "\n",
              "      let percentDone = fileData.byteLength === 0 ?\n",
              "          100 :\n",
              "          Math.round((position / fileData.byteLength) * 100);\n",
              "      percent.textContent = `${percentDone}% done`;\n",
              "\n",
              "    } while (position < fileData.byteLength);\n",
              "  }\n",
              "\n",
              "  // All done.\n",
              "  yield {\n",
              "    response: {\n",
              "      action: 'complete',\n",
              "    }\n",
              "  };\n",
              "}\n",
              "\n",
              "scope.google = scope.google || {};\n",
              "scope.google.colab = scope.google.colab || {};\n",
              "scope.google.colab._files = {\n",
              "  _uploadFiles,\n",
              "  _uploadFilesContinue,\n",
              "};\n",
              "})(self);\n",
              "</script> "
            ]
          },
          "metadata": {}
        },
        {
          "output_type": "stream",
          "name": "stdout",
          "text": [
            "Saving kaggle.json to kaggle.json\n"
          ]
        }
      ]
    },
    {
      "cell_type": "code",
      "source": [
        "!rm -r ~/.kaggle\n",
        "!mkdir ~/.kaggle\n",
        "!cp ./kaggle.json ~/.kaggle/\n",
        "!chmod 600 ~/.kaggle/kaggle.json"
      ],
      "metadata": {
        "id": "kMa5eph_5OEf",
        "colab": {
          "base_uri": "https://localhost:8080/"
        },
        "outputId": "713bda4e-798c-4d4d-f4f6-128ffc078032"
      },
      "execution_count": null,
      "outputs": [
        {
          "output_type": "stream",
          "name": "stdout",
          "text": [
            "rm: cannot remove '/root/.kaggle': No such file or directory\n"
          ]
        }
      ]
    },
    {
      "cell_type": "code",
      "source": [
        "import zipfile\n",
        "import os\n",
        "from kaggle.cli import main\n",
        "os.environ['KAGGLE_CONFIG_DIR'] = \"/content\""
      ],
      "metadata": {
        "id": "2qO1oqei5QF4"
      },
      "execution_count": null,
      "outputs": []
    },
    {
      "cell_type": "code",
      "execution_count": null,
      "metadata": {
        "id": "-PAIF6EQRqiP",
        "colab": {
          "base_uri": "https://localhost:8080/"
        },
        "outputId": "78e2202f-5e07-41b6-8c25-fc2be0243734"
      },
      "outputs": [
        {
          "output_type": "stream",
          "name": "stdout",
          "text": [
            "Warning: Your Kaggle API key is readable by other users on this system! To fix this, you can run 'chmod 600 /content/kaggle.json'\n",
            "Downloading balanced-plant-dataset.zip to /content\n",
            "100% 1.17G/1.17G [00:49<00:00, 29.4MB/s]\n",
            "100% 1.17G/1.17G [00:49<00:00, 25.1MB/s]\n"
          ]
        }
      ],
      "source": [
        "!kaggle datasets download -d harshart/balanced-plant-dataset"
      ]
    },
    {
      "cell_type": "code",
      "source": [
        "zip_ref = zipfile.ZipFile('balanced-plant-dataset.zip', 'r') #Opens the zip file in read mode\n",
        "zip_ref.extractall('/tmp') #Extracts the files into the /tmp folder\n",
        "zip_ref.close()"
      ],
      "metadata": {
        "id": "vbfJBf_k5T6Q"
      },
      "execution_count": null,
      "outputs": []
    },
    {
      "cell_type": "code",
      "source": [
        "data_dir = r\"/tmp/DS MINI PROJECT DATASET(BALANCED)\"\n",
        "\n",
        "train_dir = data_dir + \"/Training/Strawberry\"\n",
        "valid_dir = data_dir + \"/Testing/Strawberry\"\n",
        "#diseases = os.listdir('/tmp/Dataset alpha/Training/')\n",
        "#healthe = os.listdir('/tmp/Dataset alpha/Training/healthy')"
      ],
      "metadata": {
        "id": "ALLIdAR-6PnH"
      },
      "execution_count": null,
      "outputs": []
    },
    {
      "cell_type": "code",
      "source": [
        "train_healthy_strawberry_dir = '/tmp/DS MINI PROJECT DATASET(BALANCED)/Training/Strawberry/Strawberry___healthy'\n",
        "train_disease_dir = '/tmp/DS MINI PROJECT DATASET(BALANCED)/Training/Strawberry/Strawberry___Leaf_scorch'\n",
        "\n",
        "valid_healthy_strawberry_dir = '/tmp//Testing/Strawberry/Strawberry___healthy'\n",
        "valid_disease_dir = '/tmp/Dataset alpha/Testing/Strawberry/Strawberry___Leaf_scorch'\n",
        "#valid_main = '/tmp/Dataset alpha/Valid/healthy/Strawberry___healthy' + '/tmp/Dataset alpha/valid/disease/Strawberry___Leaf_scorch'"
      ],
      "metadata": {
        "id": "ybDSRgz0_hsj"
      },
      "execution_count": null,
      "outputs": []
    },
    {
      "cell_type": "code",
      "source": [],
      "metadata": {
        "id": "n_14hhYc-KDy"
      },
      "execution_count": null,
      "outputs": []
    },
    {
      "cell_type": "code",
      "source": [
        "%%time\n",
        "from tensorflow.keras.preprocessing.image import ImageDataGenerator\n",
        "datagen = ImageDataGenerator(featurewise_center=True)\n",
        "#datagen.mean = [123.68, 116.779, 103.939]\n",
        "train_it = datagen.flow_from_directory(batch_size = 32,\n",
        "                                                     directory = train_dir,\n",
        "                                                     shuffle= True,\n",
        "                                                     target_size = (128 , 128),\n",
        "                                                    class_mode  = \"categorical\")\n",
        "\n",
        "valid_it = datagen.flow_from_directory(batch_size = 32,\n",
        "                                                     directory = valid_dir,\n",
        "                                                     shuffle= True,\n",
        "                                                     target_size = (128, 128),\n",
        "                                                    class_mode  = \"categorical\")"
      ],
      "metadata": {
        "colab": {
          "base_uri": "https://localhost:8080/",
          "height": 436
        },
        "id": "Ee34IZfKAlzC",
        "outputId": "df02b194-3853-4a2b-ccf5-2d7e16cb6dbb"
      },
      "execution_count": null,
      "outputs": [
        {
          "output_type": "error",
          "ename": "FileNotFoundError",
          "evalue": "ignored",
          "traceback": [
            "\u001b[0;31m---------------------------------------------------------------------------\u001b[0m",
            "\u001b[0;31mFileNotFoundError\u001b[0m                         Traceback (most recent call last)",
            "\u001b[0;32m<timed exec>\u001b[0m in \u001b[0;36m<module>\u001b[0;34m\u001b[0m\n",
            "\u001b[0;32m/usr/local/lib/python3.10/dist-packages/keras/src/preprocessing/image.py\u001b[0m in \u001b[0;36mflow_from_directory\u001b[0;34m(self, directory, target_size, color_mode, classes, class_mode, batch_size, shuffle, seed, save_to_dir, save_prefix, save_format, follow_links, subset, interpolation, keep_aspect_ratio)\u001b[0m\n\u001b[1;32m   1646\u001b[0m                 \u001b[0;32mand\u001b[0m\u001b[0;31m \u001b[0m\u001b[0;31m`\u001b[0m\u001b[0my\u001b[0m\u001b[0;31m`\u001b[0m \u001b[0;32mis\u001b[0m \u001b[0ma\u001b[0m \u001b[0mnumpy\u001b[0m \u001b[0marray\u001b[0m \u001b[0mof\u001b[0m \u001b[0mcorresponding\u001b[0m \u001b[0mlabels\u001b[0m\u001b[0;34m.\u001b[0m\u001b[0;34m\u001b[0m\u001b[0;34m\u001b[0m\u001b[0m\n\u001b[1;32m   1647\u001b[0m         \"\"\"\n\u001b[0;32m-> 1648\u001b[0;31m         return DirectoryIterator(\n\u001b[0m\u001b[1;32m   1649\u001b[0m             \u001b[0mdirectory\u001b[0m\u001b[0;34m,\u001b[0m\u001b[0;34m\u001b[0m\u001b[0;34m\u001b[0m\u001b[0m\n\u001b[1;32m   1650\u001b[0m             \u001b[0mself\u001b[0m\u001b[0;34m,\u001b[0m\u001b[0;34m\u001b[0m\u001b[0;34m\u001b[0m\u001b[0m\n",
            "\u001b[0;32m/usr/local/lib/python3.10/dist-packages/keras/src/preprocessing/image.py\u001b[0m in \u001b[0;36m__init__\u001b[0;34m(self, directory, image_data_generator, target_size, color_mode, classes, class_mode, batch_size, shuffle, seed, data_format, save_to_dir, save_prefix, save_format, follow_links, subset, interpolation, keep_aspect_ratio, dtype)\u001b[0m\n\u001b[1;32m    561\u001b[0m         \u001b[0;32mif\u001b[0m \u001b[0;32mnot\u001b[0m \u001b[0mclasses\u001b[0m\u001b[0;34m:\u001b[0m\u001b[0;34m\u001b[0m\u001b[0;34m\u001b[0m\u001b[0m\n\u001b[1;32m    562\u001b[0m             \u001b[0mclasses\u001b[0m \u001b[0;34m=\u001b[0m \u001b[0;34m[\u001b[0m\u001b[0;34m]\u001b[0m\u001b[0;34m\u001b[0m\u001b[0;34m\u001b[0m\u001b[0m\n\u001b[0;32m--> 563\u001b[0;31m             \u001b[0;32mfor\u001b[0m \u001b[0msubdir\u001b[0m \u001b[0;32min\u001b[0m \u001b[0msorted\u001b[0m\u001b[0;34m(\u001b[0m\u001b[0mos\u001b[0m\u001b[0;34m.\u001b[0m\u001b[0mlistdir\u001b[0m\u001b[0;34m(\u001b[0m\u001b[0mdirectory\u001b[0m\u001b[0;34m)\u001b[0m\u001b[0;34m)\u001b[0m\u001b[0;34m:\u001b[0m\u001b[0;34m\u001b[0m\u001b[0;34m\u001b[0m\u001b[0m\n\u001b[0m\u001b[1;32m    564\u001b[0m                 \u001b[0;32mif\u001b[0m \u001b[0mos\u001b[0m\u001b[0;34m.\u001b[0m\u001b[0mpath\u001b[0m\u001b[0;34m.\u001b[0m\u001b[0misdir\u001b[0m\u001b[0;34m(\u001b[0m\u001b[0mos\u001b[0m\u001b[0;34m.\u001b[0m\u001b[0mpath\u001b[0m\u001b[0;34m.\u001b[0m\u001b[0mjoin\u001b[0m\u001b[0;34m(\u001b[0m\u001b[0mdirectory\u001b[0m\u001b[0;34m,\u001b[0m \u001b[0msubdir\u001b[0m\u001b[0;34m)\u001b[0m\u001b[0;34m)\u001b[0m\u001b[0;34m:\u001b[0m\u001b[0;34m\u001b[0m\u001b[0;34m\u001b[0m\u001b[0m\n\u001b[1;32m    565\u001b[0m                     \u001b[0mclasses\u001b[0m\u001b[0;34m.\u001b[0m\u001b[0mappend\u001b[0m\u001b[0;34m(\u001b[0m\u001b[0msubdir\u001b[0m\u001b[0;34m)\u001b[0m\u001b[0;34m\u001b[0m\u001b[0;34m\u001b[0m\u001b[0m\n",
            "\u001b[0;31mFileNotFoundError\u001b[0m: [Errno 2] No such file or directory: '/tmp/DS MINI PROJECT DATASET(BALANCED)/Training/Strawberry'"
          ]
        }
      ]
    },
    {
      "cell_type": "code",
      "source": [
        "target_names=train_it.class_indices\n",
        "print(target_names);print()\n",
        "print('len(target_names',len(target_names))"
      ],
      "metadata": {
        "colab": {
          "base_uri": "https://localhost:8080/"
        },
        "id": "pf5Q7QYg-UOi",
        "outputId": "74dcc9ac-e0da-4652-99f7-f2935dc697b0"
      },
      "execution_count": null,
      "outputs": [
        {
          "output_type": "stream",
          "name": "stdout",
          "text": [
            "{'Strawberry___Leaf_scorch': 0, 'Strawberry___healthy': 1}\n",
            "\n",
            "len(target_names 2\n"
          ]
        }
      ]
    },
    {
      "cell_type": "code",
      "source": [
        "# define cnn model\n",
        "from keras.applications.vgg16 import VGG16\n",
        "from keras.models import Model\n",
        "def define_model():\n",
        "    # load model\n",
        "    model = VGG16(include_top=False, input_shape=(128, 128, 3))\n",
        "    # mark loaded layers as not trainable\n",
        "    for layer in model.layers:\n",
        "        layer.trainable = False\n",
        "    # add new classifier layers\n",
        "    flat1 = Flatten()(model.layers[-1].output)\n",
        "    class1 = Dense(128, activation='relu', kernel_initializer='he_uniform')(flat1)\n",
        "    output = Dense(2, activation='softmax')(class1)\n",
        "    # define new model\n",
        "    model = Model(inputs=model.inputs, outputs=output)\n",
        "    return model"
      ],
      "metadata": {
        "id": "EbCMeLLiT7kT"
      },
      "execution_count": null,
      "outputs": []
    },
    {
      "cell_type": "code",
      "source": [
        "model = define_model()\n",
        "model.compile(optimizer='adam', loss='categorical_crossentropy', metrics=['accuracy'])\n",
        "model.summary()"
      ],
      "metadata": {
        "colab": {
          "base_uri": "https://localhost:8080/"
        },
        "id": "0iUnh8L9T-8c",
        "outputId": "d2725d7d-3a97-425c-ae3f-42d46588ed0e"
      },
      "execution_count": null,
      "outputs": [
        {
          "output_type": "stream",
          "name": "stdout",
          "text": [
            "Downloading data from https://storage.googleapis.com/tensorflow/keras-applications/vgg16/vgg16_weights_tf_dim_ordering_tf_kernels_notop.h5\n",
            "58889256/58889256 [==============================] - 0s 0us/step\n",
            "Model: \"model\"\n",
            "_________________________________________________________________\n",
            " Layer (type)                Output Shape              Param #   \n",
            "=================================================================\n",
            " input_1 (InputLayer)        [(None, 128, 128, 3)]     0         \n",
            "                                                                 \n",
            " block1_conv1 (Conv2D)       (None, 128, 128, 64)      1792      \n",
            "                                                                 \n",
            " block1_conv2 (Conv2D)       (None, 128, 128, 64)      36928     \n",
            "                                                                 \n",
            " block1_pool (MaxPooling2D)  (None, 64, 64, 64)        0         \n",
            "                                                                 \n",
            " block2_conv1 (Conv2D)       (None, 64, 64, 128)       73856     \n",
            "                                                                 \n",
            " block2_conv2 (Conv2D)       (None, 64, 64, 128)       147584    \n",
            "                                                                 \n",
            " block2_pool (MaxPooling2D)  (None, 32, 32, 128)       0         \n",
            "                                                                 \n",
            " block3_conv1 (Conv2D)       (None, 32, 32, 256)       295168    \n",
            "                                                                 \n",
            " block3_conv2 (Conv2D)       (None, 32, 32, 256)       590080    \n",
            "                                                                 \n",
            " block3_conv3 (Conv2D)       (None, 32, 32, 256)       590080    \n",
            "                                                                 \n",
            " block3_pool (MaxPooling2D)  (None, 16, 16, 256)       0         \n",
            "                                                                 \n",
            " block4_conv1 (Conv2D)       (None, 16, 16, 512)       1180160   \n",
            "                                                                 \n",
            " block4_conv2 (Conv2D)       (None, 16, 16, 512)       2359808   \n",
            "                                                                 \n",
            " block4_conv3 (Conv2D)       (None, 16, 16, 512)       2359808   \n",
            "                                                                 \n",
            " block4_pool (MaxPooling2D)  (None, 8, 8, 512)         0         \n",
            "                                                                 \n",
            " block5_conv1 (Conv2D)       (None, 8, 8, 512)         2359808   \n",
            "                                                                 \n",
            " block5_conv2 (Conv2D)       (None, 8, 8, 512)         2359808   \n",
            "                                                                 \n",
            " block5_conv3 (Conv2D)       (None, 8, 8, 512)         2359808   \n",
            "                                                                 \n",
            " block5_pool (MaxPooling2D)  (None, 4, 4, 512)         0         \n",
            "                                                                 \n",
            " flatten (Flatten)           (None, 8192)              0         \n",
            "                                                                 \n",
            " dense (Dense)               (None, 128)               1048704   \n",
            "                                                                 \n",
            " dense_1 (Dense)             (None, 2)                 258       \n",
            "                                                                 \n",
            "=================================================================\n",
            "Total params: 15,763,650\n",
            "Trainable params: 1,048,962\n",
            "Non-trainable params: 14,714,688\n",
            "_________________________________________________________________\n"
          ]
        }
      ]
    },
    {
      "cell_type": "code",
      "source": [
        "%%time\n",
        "epochsteps=len(train_it);epochs =10;valsteps=len(valid_it)\n",
        "# fit model\n",
        "history = model.fit(train_it, steps_per_epoch=epochsteps,\n",
        "                    validation_data=valid_it, validation_steps=valsteps, epochs=10, verbose=1)\n",
        "_, acc = model.evaluate(valid_it, steps=75, verbose=1)\n",
        "print('accuracy',acc * 100.0)"
      ],
      "metadata": {
        "colab": {
          "base_uri": "https://localhost:8080/"
        },
        "id": "Ia05oDwqUAtj",
        "outputId": "fcc9e1a9-d6be-4967-b247-44bf8567d666"
      },
      "execution_count": null,
      "outputs": [
        {
          "output_type": "stream",
          "name": "stdout",
          "text": [
            "Epoch 1/10\n",
            "225/225 [==============================] - 21s 85ms/step - loss: 0.7066 - accuracy: 0.9764 - val_loss: 0.0122 - val_accuracy: 0.9967\n",
            "Epoch 2/10\n",
            "225/225 [==============================] - 17s 74ms/step - loss: 7.7001e-05 - accuracy: 1.0000 - val_loss: 0.0123 - val_accuracy: 0.9967\n",
            "Epoch 3/10\n",
            "225/225 [==============================] - 16s 69ms/step - loss: 1.3974e-05 - accuracy: 1.0000 - val_loss: 0.0117 - val_accuracy: 0.9944\n",
            "Epoch 4/10\n",
            "225/225 [==============================] - 15s 68ms/step - loss: 5.4431e-06 - accuracy: 1.0000 - val_loss: 0.0118 - val_accuracy: 0.9944\n",
            "Epoch 5/10\n",
            "225/225 [==============================] - 15s 69ms/step - loss: 4.4546e-06 - accuracy: 1.0000 - val_loss: 0.0119 - val_accuracy: 0.9944\n",
            "Epoch 6/10\n",
            "225/225 [==============================] - 16s 71ms/step - loss: 3.8544e-06 - accuracy: 1.0000 - val_loss: 0.0119 - val_accuracy: 0.9944\n",
            "Epoch 7/10\n",
            "225/225 [==============================] - 15s 68ms/step - loss: 3.3548e-06 - accuracy: 1.0000 - val_loss: 0.0118 - val_accuracy: 0.9944\n",
            "Epoch 8/10\n",
            "225/225 [==============================] - 15s 68ms/step - loss: 2.9379e-06 - accuracy: 1.0000 - val_loss: 0.0118 - val_accuracy: 0.9944\n",
            "Epoch 9/10\n",
            "225/225 [==============================] - 15s 69ms/step - loss: 2.5978e-06 - accuracy: 1.0000 - val_loss: 0.0118 - val_accuracy: 0.9944\n",
            "Epoch 10/10\n",
            "225/225 [==============================] - 16s 72ms/step - loss: 2.3023e-06 - accuracy: 1.0000 - val_loss: 0.0118 - val_accuracy: 0.9944\n",
            "56/75 [=====================>........] - ETA: 1s - loss: 0.0119 - accuracy: 0.9944"
          ]
        },
        {
          "output_type": "stream",
          "name": "stderr",
          "text": [
            "WARNING:tensorflow:Your input ran out of data; interrupting training. Make sure that your dataset or generator can generate at least `steps_per_epoch * epochs` batches (in this case, 75 batches). You may need to use the repeat() function when building your dataset.\n"
          ]
        },
        {
          "output_type": "stream",
          "name": "stdout",
          "text": [
            "\b\b\b\b\b\b\b\b\b\b\b\b\b\b\b\b\b\b\b\b\b\b\b\b\b\b\b\b\b\b\b\b\b\b\b\b\b\b\b\b\b\b\b\b\b\b\b\b\b\b\b\b\b\b\b\b\b\b\b\b\b\b\b\b\b\b\b\b\b\b\b\b\b\b\b\b\b\b\b\b\b\b\r75/75 [==============================] - 3s 41ms/step - loss: 0.0118 - accuracy: 0.9944\n",
            "accuracy 99.44444298744202\n",
            "CPU times: user 2min 55s, sys: 7.03 s, total: 3min 2s\n",
            "Wall time: 2min 54s\n"
          ]
        }
      ]
    },
    {
      "cell_type": "code",
      "source": [
        "plt.plot(history.history['val_loss'])"
      ],
      "metadata": {
        "colab": {
          "base_uri": "https://localhost:8080/",
          "height": 448
        },
        "id": "9uhiDA3NYDgX",
        "outputId": "cbcd7927-6252-4119-fec0-6b36bab03571"
      },
      "execution_count": null,
      "outputs": [
        {
          "output_type": "execute_result",
          "data": {
            "text/plain": [
              "[<matplotlib.lines.Line2D at 0x7e303d5a4a00>]"
            ]
          },
          "metadata": {},
          "execution_count": 50
        },
        {
          "output_type": "display_data",
          "data": {
            "text/plain": [
              "<Figure size 640x480 with 1 Axes>"
            ],
            "image/png": "[encoded data removed]"
          },
          "metadata": {}
        }
      ]
    },
    {
      "cell_type": "code",
      "source": [
        "plt.plot(history.history['accuracy'])"
      ],
      "metadata": {
        "colab": {
          "base_uri": "https://localhost:8080/",
          "height": 448
        },
        "id": "p2sN17nzWSI6",
        "outputId": "d4a5315c-74db-438e-8b55-4d6dee6a81a2"
      },
      "execution_count": null,
      "outputs": [
        {
          "output_type": "execute_result",
          "data": {
            "text/plain": [
              "[<matplotlib.lines.Line2D at 0x7e303d710b80>]"
            ]
          },
          "metadata": {},
          "execution_count": 47
        },
        {
          "output_type": "display_data",
          "data": {
            "text/plain": [
              "<Figure size 640x480 with 1 Axes>"
            ],
            "image/png": "[encoded data removed]"
          },
          "metadata": {}
        }
      ]
    },
    {
      "cell_type": "code",
      "source": [
        "plt.plot(history.history['loss'])"
      ],
      "metadata": {
        "colab": {
          "base_uri": "https://localhost:8080/",
          "height": 448
        },
        "id": "02iayNquWZcB",
        "outputId": "2319e529-ba72-4dff-fda4-e93afe7137b4"
      },
      "execution_count": null,
      "outputs": [
        {
          "output_type": "execute_result",
          "data": {
            "text/plain": [
              "[<matplotlib.lines.Line2D at 0x7e303d5e3790>]"
            ]
          },
          "metadata": {},
          "execution_count": 51
        },
        {
          "output_type": "display_data",
          "data": {
            "text/plain": [
              "<Figure size 640x480 with 1 Axes>"
            ],
            "image/png": "[encoded data removed]"
          },
          "metadata": {}
        }
      ]
    },
    {
      "cell_type": "code",
      "source": [
        "plot_accuracies(history)"
      ],
      "metadata": {
        "colab": {
          "base_uri": "https://localhost:8080/",
          "height": 309
        },
        "id": "XdlUPUh9WeaJ",
        "outputId": "9ca19b64-fe06-4a64-b2df-49833f833f98"
      },
      "execution_count": null,
      "outputs": [
        {
          "output_type": "error",
          "ename": "TypeError",
          "evalue": "ignored",
          "traceback": [
            "\u001b[0;31m---------------------------------------------------------------------------\u001b[0m",
            "\u001b[0;31mTypeError\u001b[0m                                 Traceback (most recent call last)",
            "\u001b[0;32m<ipython-input-44-862c3accb3f0>\u001b[0m in \u001b[0;36m<cell line: 1>\u001b[0;34m()\u001b[0m\n\u001b[0;32m----> 1\u001b[0;31m \u001b[0mplot_accuracies\u001b[0m\u001b[0;34m(\u001b[0m\u001b[0mhistory\u001b[0m\u001b[0;34m)\u001b[0m\u001b[0;34m\u001b[0m\u001b[0;34m\u001b[0m\u001b[0m\n\u001b[0m",
            "\u001b[0;32m<ipython-input-30-80a421df5b7a>\u001b[0m in \u001b[0;36mplot_accuracies\u001b[0;34m(history)\u001b[0m\n\u001b[1;32m      1\u001b[0m \u001b[0;32mdef\u001b[0m \u001b[0mplot_accuracies\u001b[0m\u001b[0;34m(\u001b[0m\u001b[0mhistory\u001b[0m\u001b[0;34m)\u001b[0m\u001b[0;34m:\u001b[0m\u001b[0;34m\u001b[0m\u001b[0;34m\u001b[0m\u001b[0m\n\u001b[0;32m----> 2\u001b[0;31m     \u001b[0maccuracies\u001b[0m \u001b[0;34m=\u001b[0m \u001b[0;34m[\u001b[0m\u001b[0mx\u001b[0m\u001b[0;34m[\u001b[0m\u001b[0;34m'val_acc'\u001b[0m\u001b[0;34m]\u001b[0m \u001b[0;32mfor\u001b[0m \u001b[0mx\u001b[0m \u001b[0;32min\u001b[0m \u001b[0mhistory\u001b[0m\u001b[0;34m]\u001b[0m\u001b[0;34m\u001b[0m\u001b[0;34m\u001b[0m\u001b[0m\n\u001b[0m\u001b[1;32m      3\u001b[0m     \u001b[0mplt\u001b[0m\u001b[0;34m.\u001b[0m\u001b[0mplot\u001b[0m\u001b[0;34m(\u001b[0m\u001b[0maccuracies\u001b[0m\u001b[0;34m,\u001b[0m \u001b[0;34m'-x'\u001b[0m\u001b[0;34m)\u001b[0m\u001b[0;34m\u001b[0m\u001b[0;34m\u001b[0m\u001b[0m\n\u001b[1;32m      4\u001b[0m     \u001b[0mplt\u001b[0m\u001b[0;34m.\u001b[0m\u001b[0mxlabel\u001b[0m\u001b[0;34m(\u001b[0m\u001b[0;34m'epoch'\u001b[0m\u001b[0;34m)\u001b[0m\u001b[0;34m\u001b[0m\u001b[0;34m\u001b[0m\u001b[0m\n\u001b[1;32m      5\u001b[0m     \u001b[0mplt\u001b[0m\u001b[0;34m.\u001b[0m\u001b[0mylabel\u001b[0m\u001b[0;34m(\u001b[0m\u001b[0;34m'accuracy'\u001b[0m\u001b[0;34m)\u001b[0m\u001b[0;34m\u001b[0m\u001b[0;34m\u001b[0m\u001b[0m\n",
            "\u001b[0;31mTypeError\u001b[0m: 'History' object is not iterable"
          ]
        }
      ]
    },
    {
      "cell_type": "code",
      "source": [
        "#Cherry training and Validation"
      ],
      "metadata": {
        "id": "XbILxKBXc_uP"
      },
      "execution_count": null,
      "outputs": []
    },
    {
      "cell_type": "code",
      "source": [
        "data_dir = r\"/tmp/Dataset alpha\"\n",
        "train_cherry_dir = data_dir + \"/Training/cherry\"\n",
        "valid_cherry_dir = data_dir + \"/Valid/cherry\"\n",
        "diseases = os.listdir('/tmp/Dataset alpha/Training/')\n",
        "#healthe = os.listdir('/tmp/Dataset alpha/Training/healthy')"
      ],
      "metadata": {
        "id": "wvcVqYVjdGPO"
      },
      "execution_count": null,
      "outputs": []
    },
    {
      "cell_type": "code",
      "source": [
        "train_healthy_cherry_dir = '/tmp/Dataset alpha/Training/cherry/Cherry_(including_sour)___healthy'\n",
        "#/tmp/Dataset alpha/Training/cherry/Cherry_(including_sour)___Powdery_mildew\n",
        "#/tmp/Dataset alpha/Training/cherry/Cherry_(including_sour)___healthy\n",
        "train_disease_cherry_dir = '/tmp/Dataset alpha/Training/cherry/Cherry_(including_sour)___healthy'\n",
        "\n",
        "valid_healthy_cherry_dir = '/tmp/Dataset alpha/Valid/cherry/Cherry_(including_sour)___healthy'\n",
        "valid_disease_cherry_dir = '/tmp/Dataset alpha/Valid/Cherry_(including_sour)___Powdery_mildew'\n",
        "#valid_main = '/tmp/Dataset alpha/Valid/healthy/Strawberry___healthy' + '/tmp/Dataset alpha/valid/disease/Strawberry___Leaf_scorch'"
      ],
      "metadata": {
        "id": "vzY-L5sTd43G"
      },
      "execution_count": null,
      "outputs": []
    },
    {
      "cell_type": "code",
      "source": [
        "%%time\n",
        "from tensorflow.keras.preprocessing.image import ImageDataGenerator\n",
        "datagen = ImageDataGenerator(featurewise_center=True)\n",
        "datagen.mean = [123.68, 116.779, 103.939]\n",
        "train_it = datagen.flow_from_directory(batch_size = 32,\n",
        "                                                     directory = train_cherry_dir,\n",
        "                                                     shuffle= True,\n",
        "                                                     target_size = (128 , 128),\n",
        "                                                    class_mode  = \"categorical\")\n",
        "\n",
        "valid_it = datagen.flow_from_directory(batch_size = 32,\n",
        "                                                     directory = valid_cherry_dir,\n",
        "                                                     shuffle= True,\n",
        "                                                     target_size = (128, 128),\n",
        "                                                    class_mode  = \"categorical\")"
      ],
      "metadata": {
        "colab": {
          "base_uri": "https://localhost:8080/"
        },
        "id": "UM01baFee3kq",
        "outputId": "9a522322-6dbc-4da5-b466-b1547a68ef3f"
      },
      "execution_count": null,
      "outputs": [
        {
          "output_type": "stream",
          "name": "stdout",
          "text": [
            "Found 7018 images belonging to 2 classes.\n",
            "Found 1754 images belonging to 2 classes.\n",
            "CPU times: user 232 ms, sys: 12.1 ms, total: 244 ms\n",
            "Wall time: 258 ms\n"
          ]
        }
      ]
    },
    {
      "cell_type": "code",
      "source": [
        "target_names=train_it.class_indices\n",
        "print(target_names);print()\n",
        "print('len(target_names',len(target_names))"
      ],
      "metadata": {
        "colab": {
          "base_uri": "https://localhost:8080/"
        },
        "id": "JGkd5vE3gVzO",
        "outputId": "ba2f44e0-8f2b-4cfa-984d-6297a59b57d5"
      },
      "execution_count": null,
      "outputs": [
        {
          "output_type": "stream",
          "name": "stdout",
          "text": [
            "{'Cherry_(including_sour)___Powdery_mildew': 0, 'Cherry_(including_sour)___healthy': 1}\n",
            "\n",
            "len(target_names 2\n"
          ]
        }
      ]
    },
    {
      "cell_type": "code",
      "source": [
        "# vgg16 with flatten\n",
        "from keras.applications.vgg16 import VGG16\n",
        "from keras.models import Model\n",
        "def define_model():\n",
        "    # load model\n",
        "    model = VGG16(include_top=False, input_shape=(128, 128, 3))\n",
        "    # mark loaded layers as not trainable\n",
        "    for layer in model.layers:\n",
        "        layer.trainable = False\n",
        "    # add new classifier layers\n",
        "    flat1 = Flatten()(model.layers[-1].output)\n",
        "    class1 = Dense(128, activation='relu', kernel_initializer='he_uniform')(flat1)\n",
        "    output = Dense(2, activation='softmax')(class1)\n",
        "    # define new model\n",
        "    model = Model(inputs=model.inputs, outputs=output)\n",
        "    return model"
      ],
      "metadata": {
        "id": "npkqKwWpgdgU"
      },
      "execution_count": null,
      "outputs": []
    },
    {
      "cell_type": "code",
      "source": [
        "model = define_model()\n",
        "model.compile(optimizer='adam', loss='categorical_crossentropy', metrics=['accuracy'])\n",
        "model.summary()"
      ],
      "metadata": {
        "colab": {
          "base_uri": "https://localhost:8080/"
        },
        "id": "GTqa16DfgkZS",
        "outputId": "fffa5c47-9761-4cb8-e7e5-3d82da36b34c"
      },
      "execution_count": null,
      "outputs": [
        {
          "output_type": "stream",
          "name": "stdout",
          "text": [
            "Downloading data from https://storage.googleapis.com/tensorflow/keras-applications/vgg16/vgg16_weights_tf_dim_ordering_tf_kernels_notop.h5\n",
            "58889256/58889256 [==============================] - 0s 0us/step\n",
            "Model: \"model\"\n",
            "_________________________________________________________________\n",
            " Layer (type)                Output Shape              Param #   \n",
            "=================================================================\n",
            " input_1 (InputLayer)        [(None, 128, 128, 3)]     0         \n",
            "                                                                 \n",
            " block1_conv1 (Conv2D)       (None, 128, 128, 64)      1792      \n",
            "                                                                 \n",
            " block1_conv2 (Conv2D)       (None, 128, 128, 64)      36928     \n",
            "                                                                 \n",
            " block1_pool (MaxPooling2D)  (None, 64, 64, 64)        0         \n",
            "                                                                 \n",
            " block2_conv1 (Conv2D)       (None, 64, 64, 128)       73856     \n",
            "                                                                 \n",
            " block2_conv2 (Conv2D)       (None, 64, 64, 128)       147584    \n",
            "                                                                 \n",
            " block2_pool (MaxPooling2D)  (None, 32, 32, 128)       0         \n",
            "                                                                 \n",
            " block3_conv1 (Conv2D)       (None, 32, 32, 256)       295168    \n",
            "                                                                 \n",
            " block3_conv2 (Conv2D)       (None, 32, 32, 256)       590080    \n",
            "                                                                 \n",
            " block3_conv3 (Conv2D)       (None, 32, 32, 256)       590080    \n",
            "                                                                 \n",
            " block3_pool (MaxPooling2D)  (None, 16, 16, 256)       0         \n",
            "                                                                 \n",
            " block4_conv1 (Conv2D)       (None, 16, 16, 512)       1180160   \n",
            "                                                                 \n",
            " block4_conv2 (Conv2D)       (None, 16, 16, 512)       2359808   \n",
            "                                                                 \n",
            " block4_conv3 (Conv2D)       (None, 16, 16, 512)       2359808   \n",
            "                                                                 \n",
            " block4_pool (MaxPooling2D)  (None, 8, 8, 512)         0         \n",
            "                                                                 \n",
            " block5_conv1 (Conv2D)       (None, 8, 8, 512)         2359808   \n",
            "                                                                 \n",
            " block5_conv2 (Conv2D)       (None, 8, 8, 512)         2359808   \n",
            "                                                                 \n",
            " block5_conv3 (Conv2D)       (None, 8, 8, 512)         2359808   \n",
            "                                                                 \n",
            " block5_pool (MaxPooling2D)  (None, 4, 4, 512)         0         \n",
            "                                                                 \n",
            " flatten (Flatten)           (None, 8192)              0         \n",
            "                                                                 \n",
            " dense (Dense)               (None, 128)               1048704   \n",
            "                                                                 \n",
            " dense_1 (Dense)             (None, 2)                 258       \n",
            "                                                                 \n",
            "=================================================================\n",
            "Total params: 15,763,650\n",
            "Trainable params: 1,048,962\n",
            "Non-trainable params: 14,714,688\n",
            "_________________________________________________________________\n"
          ]
        }
      ]
    },
    {
      "cell_type": "code",
      "source": [
        "%%time\n",
        "epochsteps=len(train_it);epochs =10;valsteps=len(valid_it)\n",
        "# fit model\n",
        "history = model.fit(train_it, steps_per_epoch=epochsteps,\n",
        "                    validation_data=valid_it, validation_steps=valsteps, epochs=10, verbose=1)\n",
        "_, acc = model.evaluate(valid_it, steps=75, verbose=1)\n",
        "print('accuracy',acc * 100.0)"
      ],
      "metadata": {
        "colab": {
          "base_uri": "https://localhost:8080/"
        },
        "id": "CUohkS_3gunY",
        "outputId": "8a8953df-84a7-4126-9a5e-3ab23dafd812"
      },
      "execution_count": null,
      "outputs": [
        {
          "output_type": "stream",
          "name": "stdout",
          "text": [
            "Epoch 1/10\n",
            "220/220 [==============================] - 28s 79ms/step - loss: 0.3726 - accuracy: 0.9845 - val_loss: 0.0143 - val_accuracy: 0.9989\n",
            "Epoch 2/10\n",
            "220/220 [==============================] - 15s 68ms/step - loss: 2.2038e-05 - accuracy: 1.0000 - val_loss: 0.0127 - val_accuracy: 0.9989\n",
            "Epoch 3/10\n",
            "220/220 [==============================] - 15s 67ms/step - loss: 3.9255e-07 - accuracy: 1.0000 - val_loss: 0.0124 - val_accuracy: 0.9989\n",
            "Epoch 4/10\n",
            "220/220 [==============================] - 15s 69ms/step - loss: 2.3582e-07 - accuracy: 1.0000 - val_loss: 0.0121 - val_accuracy: 0.9989\n",
            "Epoch 5/10\n",
            "220/220 [==============================] - 14s 65ms/step - loss: 1.6502e-07 - accuracy: 1.0000 - val_loss: 0.0119 - val_accuracy: 0.9989\n",
            "Epoch 6/10\n",
            "220/220 [==============================] - 17s 78ms/step - loss: 1.2504e-07 - accuracy: 1.0000 - val_loss: 0.0117 - val_accuracy: 0.9989\n",
            "Epoch 7/10\n",
            "220/220 [==============================] - 15s 66ms/step - loss: 9.8141e-08 - accuracy: 1.0000 - val_loss: 0.0116 - val_accuracy: 0.9989\n",
            "Epoch 8/10\n",
            "220/220 [==============================] - 15s 69ms/step - loss: 7.9781e-08 - accuracy: 1.0000 - val_loss: 0.0114 - val_accuracy: 0.9989\n",
            "Epoch 9/10\n",
            "220/220 [==============================] - 15s 67ms/step - loss: 6.6040e-08 - accuracy: 1.0000 - val_loss: 0.0112 - val_accuracy: 0.9989\n",
            "Epoch 10/10\n",
            "220/220 [==============================] - 17s 79ms/step - loss: 5.4728e-08 - accuracy: 1.0000 - val_loss: 0.0111 - val_accuracy: 0.9989\n",
            "54/75 [====================>.........] - ETA: 1s - loss: 0.0113 - accuracy: 0.9988"
          ]
        },
        {
          "output_type": "stream",
          "name": "stderr",
          "text": [
            "WARNING:tensorflow:Your input ran out of data; interrupting training. Make sure that your dataset or generator can generate at least `steps_per_epoch * epochs` batches (in this case, 75 batches). You may need to use the repeat() function when building your dataset.\n"
          ]
        },
        {
          "output_type": "stream",
          "name": "stdout",
          "text": [
            "\b\b\b\b\b\b\b\b\b\b\b\b\b\b\b\b\b\b\b\b\b\b\b\b\b\b\b\b\b\b\b\b\b\b\b\b\b\b\b\b\b\b\b\b\b\b\b\b\b\b\b\b\b\b\b\b\b\b\b\b\b\b\b\b\b\b\b\b\b\b\b\b\b\b\b\b\b\b\b\b\b\b\r75/75 [==============================] - 3s 38ms/step - loss: 0.0111 - accuracy: 0.9989\n",
            "accuracy 99.88597631454468\n",
            "CPU times: user 2min 47s, sys: 8.69 s, total: 2min 56s\n",
            "Wall time: 3min 2s\n"
          ]
        }
      ]
    },
    {
      "cell_type": "code",
      "source": [
        "from keras.layers.pooling.average_pooling2d import AveragePooling2D\n",
        "# vgg16 with avgpooling\n",
        "from keras.applications.vgg16 import VGG16\n",
        "from keras.models import Model\n",
        "def define_modelavg():\n",
        "    # load model\n",
        "    model = VGG16(include_top=False, input_shape=(128, 128, 3))\n",
        "    # mark loaded layers as not trainable\n",
        "    for layer in model.layers:\n",
        "        layer.trainable = False\n",
        "    # add new classifier layers\n",
        "    #flat1 = Flatten()(model.layers[-1].output)\n",
        "    avgpool1=AveragePooling2D(strides=2)(model.layers[-1].output)\n",
        "    flat1 = Flatten()(avgpool1)\n",
        "\n",
        "    class1 = Dense(128, activation='relu', kernel_initializer='he_uniform')(flat1)\n",
        "    output = Dense(2, activation='softmax')(class1)\n",
        "    # define new model\n",
        "    model = Model(inputs=model.inputs, outputs=output)\n",
        "    return model"
      ],
      "metadata": {
        "id": "DIpYIIuLhxYk"
      },
      "execution_count": null,
      "outputs": []
    },
    {
      "cell_type": "code",
      "source": [
        "modelavg = define_modelavg()\n",
        "modelavg.compile(optimizer='adam', loss='categorical_crossentropy', metrics=['accuracy'])\n",
        "modelavg.summary()"
      ],
      "metadata": {
        "colab": {
          "base_uri": "https://localhost:8080/"
        },
        "id": "El9Y17pZjL43",
        "outputId": "85a0e0e4-5f05-4fef-ab47-826d41411bbd"
      },
      "execution_count": null,
      "outputs": [
        {
          "output_type": "stream",
          "name": "stdout",
          "text": [
            "Model: \"model_6\"\n",
            "_________________________________________________________________\n",
            " Layer (type)                Output Shape              Param #   \n",
            "=================================================================\n",
            " input_8 (InputLayer)        [(None, 128, 128, 3)]     0         \n",
            "                                                                 \n",
            " block1_conv1 (Conv2D)       (None, 128, 128, 64)      1792      \n",
            "                                                                 \n",
            " block1_conv2 (Conv2D)       (None, 128, 128, 64)      36928     \n",
            "                                                                 \n",
            " block1_pool (MaxPooling2D)  (None, 64, 64, 64)        0         \n",
            "                                                                 \n",
            " block2_conv1 (Conv2D)       (None, 64, 64, 128)       73856     \n",
            "                                                                 \n",
            " block2_conv2 (Conv2D)       (None, 64, 64, 128)       147584    \n",
            "                                                                 \n",
            " block2_pool (MaxPooling2D)  (None, 32, 32, 128)       0         \n",
            "                                                                 \n",
            " block3_conv1 (Conv2D)       (None, 32, 32, 256)       295168    \n",
            "                                                                 \n",
            " block3_conv2 (Conv2D)       (None, 32, 32, 256)       590080    \n",
            "                                                                 \n",
            " block3_conv3 (Conv2D)       (None, 32, 32, 256)       590080    \n",
            "                                                                 \n",
            " block3_pool (MaxPooling2D)  (None, 16, 16, 256)       0         \n",
            "                                                                 \n",
            " block4_conv1 (Conv2D)       (None, 16, 16, 512)       1180160   \n",
            "                                                                 \n",
            " block4_conv2 (Conv2D)       (None, 16, 16, 512)       2359808   \n",
            "                                                                 \n",
            " block4_conv3 (Conv2D)       (None, 16, 16, 512)       2359808   \n",
            "                                                                 \n",
            " block4_pool (MaxPooling2D)  (None, 8, 8, 512)         0         \n",
            "                                                                 \n",
            " block5_conv1 (Conv2D)       (None, 8, 8, 512)         2359808   \n",
            "                                                                 \n",
            " block5_conv2 (Conv2D)       (None, 8, 8, 512)         2359808   \n",
            "                                                                 \n",
            " block5_conv3 (Conv2D)       (None, 8, 8, 512)         2359808   \n",
            "                                                                 \n",
            " block5_pool (MaxPooling2D)  (None, 4, 4, 512)         0         \n",
            "                                                                 \n",
            " average_pooling2d_5 (Averag  (None, 2, 2, 512)        0         \n",
            " ePooling2D)                                                     \n",
            "                                                                 \n",
            " flatten_2 (Flatten)         (None, 2048)              0         \n",
            "                                                                 \n",
            " dense_12 (Dense)            (None, 128)               262272    \n",
            "                                                                 \n",
            " dense_13 (Dense)            (None, 2)                 258       \n",
            "                                                                 \n",
            "=================================================================\n",
            "Total params: 14,977,218\n",
            "Trainable params: 262,530\n",
            "Non-trainable params: 14,714,688\n",
            "_________________________________________________________________\n"
          ]
        }
      ]
    },
    {
      "cell_type": "code",
      "source": [
        "%%time\n",
        "epochsteps=len(train_it);epochs =10;valsteps=len(valid_it)\n",
        "# fit model\n",
        "history = modelavg.fit(train_it, steps_per_epoch=epochsteps,\n",
        "                    validation_data=valid_it, validation_steps=valsteps, epochs=10, verbose=1)\n",
        "_, acc = modelavg.evaluate(valid_it, steps=75, verbose=1)\n",
        "print('accuracy',acc * 100.0)"
      ],
      "metadata": {
        "colab": {
          "base_uri": "https://localhost:8080/"
        },
        "id": "8Mc68eqLjY_1",
        "outputId": "9772ed26-6d26-46df-fa4a-4e27436b3457"
      },
      "execution_count": null,
      "outputs": [
        {
          "output_type": "stream",
          "name": "stdout",
          "text": [
            "Epoch 1/10\n",
            "220/220 [==============================] - 17s 71ms/step - loss: 0.1303 - accuracy: 0.9859 - val_loss: 0.0217 - val_accuracy: 0.9966\n",
            "Epoch 2/10\n",
            "220/220 [==============================] - 15s 68ms/step - loss: 3.0980e-05 - accuracy: 1.0000 - val_loss: 0.0235 - val_accuracy: 0.9966\n",
            "Epoch 3/10\n",
            "220/220 [==============================] - 16s 72ms/step - loss: 2.2186e-06 - accuracy: 1.0000 - val_loss: 0.0230 - val_accuracy: 0.9966\n",
            "Epoch 4/10\n",
            "220/220 [==============================] - 15s 69ms/step - loss: 1.7480e-06 - accuracy: 1.0000 - val_loss: 0.0227 - val_accuracy: 0.9966\n",
            "Epoch 5/10\n",
            "220/220 [==============================] - 15s 69ms/step - loss: 1.4572e-06 - accuracy: 1.0000 - val_loss: 0.0225 - val_accuracy: 0.9966\n",
            "Epoch 6/10\n",
            "220/220 [==============================] - 17s 77ms/step - loss: 1.2406e-06 - accuracy: 1.0000 - val_loss: 0.0224 - val_accuracy: 0.9966\n",
            "Epoch 7/10\n",
            "220/220 [==============================] - 15s 69ms/step - loss: 1.0751e-06 - accuracy: 1.0000 - val_loss: 0.0222 - val_accuracy: 0.9966\n",
            "Epoch 8/10\n",
            "220/220 [==============================] - 15s 69ms/step - loss: 9.4366e-07 - accuracy: 1.0000 - val_loss: 0.0221 - val_accuracy: 0.9966\n",
            "Epoch 9/10\n",
            "220/220 [==============================] - 15s 70ms/step - loss: 8.3150e-07 - accuracy: 1.0000 - val_loss: 0.0220 - val_accuracy: 0.9966\n",
            "Epoch 10/10\n",
            "220/220 [==============================] - 15s 69ms/step - loss: 7.3764e-07 - accuracy: 1.0000 - val_loss: 0.0220 - val_accuracy: 0.9966\n",
            "54/75 [====================>.........] - ETA: 1s - loss: 0.0223 - accuracy: 0.9965"
          ]
        },
        {
          "output_type": "stream",
          "name": "stderr",
          "text": [
            "WARNING:tensorflow:Your input ran out of data; interrupting training. Make sure that your dataset or generator can generate at least `steps_per_epoch * epochs` batches (in this case, 75 batches). You may need to use the repeat() function when building your dataset.\n"
          ]
        },
        {
          "output_type": "stream",
          "name": "stdout",
          "text": [
            "\b\b\b\b\b\b\b\b\b\b\b\b\b\b\b\b\b\b\b\b\b\b\b\b\b\b\b\b\b\b\b\b\b\b\b\b\b\b\b\b\b\b\b\b\b\b\b\b\b\b\b\b\b\b\b\b\b\b\b\b\b\b\b\b\b\b\b\b\b\b\b\b\b\b\b\b\b\b\b\b\b\b\r75/75 [==============================] - 3s 40ms/step - loss: 0.0220 - accuracy: 0.9966\n",
            "accuracy 99.65792298316956\n",
            "CPU times: user 2min 46s, sys: 8.65 s, total: 2min 55s\n",
            "Wall time: 3min 2s\n"
          ]
        }
      ]
    },
    {
      "cell_type": "code",
      "source": [
        "\n",
        "from keras.layers.pooling.global_average_pooling2d import GlobalAveragePooling2D\n",
        "# vgg16 with globalavgpooling\n",
        "from keras.applications.vgg16 import VGG16\n",
        "from keras.models import Model\n",
        "def define_modelavg():\n",
        "    # load model\n",
        "    model = VGG16(include_top=False, input_shape=(128, 128, 3))\n",
        "    # mark loaded layers as not trainable\n",
        "    for layer in model.layers:\n",
        "        layer.trainable = False\n",
        "    # add new classifier layers\n",
        "    #flat1 = Flatten()(model.layers[-1].output)\n",
        "    avgpool1=GlobalAveragePooling2D()(model.layers[-1].output)\n",
        "    #flat1 = Flatten()(avgpool1)\n",
        "\n",
        "    class1 = Dense(128, activation='relu', kernel_initializer='he_uniform')(avgpool1)\n",
        "    output = Dense(2, activation='softmax')(class1)\n",
        "    # define new model\n",
        "    model = Model(inputs=model.inputs, outputs=output)\n",
        "    return model"
      ],
      "metadata": {
        "id": "vgdsd4ZqqkMq"
      },
      "execution_count": null,
      "outputs": []
    },
    {
      "cell_type": "code",
      "source": [
        "modelavg = define_modelavg()\n",
        "modelavg.compile(optimizer='adam', loss='categorical_crossentropy', metrics=['accuracy'])\n",
        "modelavg.summary()"
      ],
      "metadata": {
        "colab": {
          "base_uri": "https://localhost:8080/"
        },
        "id": "d5MbTVNZqyIx",
        "outputId": "aeb55248-f441-4a2d-b192-31b386a4bda0"
      },
      "execution_count": null,
      "outputs": [
        {
          "output_type": "stream",
          "name": "stdout",
          "text": [
            "Model: \"model_9\"\n",
            "_________________________________________________________________\n",
            " Layer (type)                Output Shape              Param #   \n",
            "=================================================================\n",
            " input_12 (InputLayer)       [(None, 128, 128, 3)]     0         \n",
            "                                                                 \n",
            " block1_conv1 (Conv2D)       (None, 128, 128, 64)      1792      \n",
            "                                                                 \n",
            " block1_conv2 (Conv2D)       (None, 128, 128, 64)      36928     \n",
            "                                                                 \n",
            " block1_pool (MaxPooling2D)  (None, 64, 64, 64)        0         \n",
            "                                                                 \n",
            " block2_conv1 (Conv2D)       (None, 64, 64, 128)       73856     \n",
            "                                                                 \n",
            " block2_conv2 (Conv2D)       (None, 64, 64, 128)       147584    \n",
            "                                                                 \n",
            " block2_pool (MaxPooling2D)  (None, 32, 32, 128)       0         \n",
            "                                                                 \n",
            " block3_conv1 (Conv2D)       (None, 32, 32, 256)       295168    \n",
            "                                                                 \n",
            " block3_conv2 (Conv2D)       (None, 32, 32, 256)       590080    \n",
            "                                                                 \n",
            " block3_conv3 (Conv2D)       (None, 32, 32, 256)       590080    \n",
            "                                                                 \n",
            " block3_pool (MaxPooling2D)  (None, 16, 16, 256)       0         \n",
            "                                                                 \n",
            " block4_conv1 (Conv2D)       (None, 16, 16, 512)       1180160   \n",
            "                                                                 \n",
            " block4_conv2 (Conv2D)       (None, 16, 16, 512)       2359808   \n",
            "                                                                 \n",
            " block4_conv3 (Conv2D)       (None, 16, 16, 512)       2359808   \n",
            "                                                                 \n",
            " block4_pool (MaxPooling2D)  (None, 8, 8, 512)         0         \n",
            "                                                                 \n",
            " block5_conv1 (Conv2D)       (None, 8, 8, 512)         2359808   \n",
            "                                                                 \n",
            " block5_conv2 (Conv2D)       (None, 8, 8, 512)         2359808   \n",
            "                                                                 \n",
            " block5_conv3 (Conv2D)       (None, 8, 8, 512)         2359808   \n",
            "                                                                 \n",
            " block5_pool (MaxPooling2D)  (None, 4, 4, 512)         0         \n",
            "                                                                 \n",
            " global_average_pooling2d_1   (None, 512)              0         \n",
            " (GlobalAveragePooling2D)                                        \n",
            "                                                                 \n",
            " dense_18 (Dense)            (None, 128)               65664     \n",
            "                                                                 \n",
            " dense_19 (Dense)            (None, 2)                 258       \n",
            "                                                                 \n",
            "=================================================================\n",
            "Total params: 14,780,610\n",
            "Trainable params: 65,922\n",
            "Non-trainable params: 14,714,688\n",
            "_________________________________________________________________\n"
          ]
        }
      ]
    },
    {
      "cell_type": "code",
      "source": [
        "%%time\n",
        "epochsteps=len(train_it);epochs =10;valsteps=len(valid_it)\n",
        "# fit model\n",
        "history = modelavg.fit(train_it, steps_per_epoch=epochsteps,\n",
        "                    validation_data=valid_it, validation_steps=valsteps, epochs=10, verbose=1)\n",
        "_, acc = modelavg.evaluate(valid_it, steps=75, verbose=1)\n",
        "print('accuracy',acc * 100.0)"
      ],
      "metadata": {
        "colab": {
          "base_uri": "https://localhost:8080/"
        },
        "id": "3QLN7bVrq3w8",
        "outputId": "73528328-bed5-46c9-94fe-e246a50d8d73"
      },
      "execution_count": null,
      "outputs": [
        {
          "output_type": "stream",
          "name": "stdout",
          "text": [
            "Epoch 1/10\n",
            "220/220 [==============================] - 16s 67ms/step - loss: 0.0716 - accuracy: 0.9850 - val_loss: 0.0134 - val_accuracy: 0.9966\n",
            "Epoch 2/10\n",
            "220/220 [==============================] - 15s 68ms/step - loss: 2.3596e-04 - accuracy: 1.0000 - val_loss: 0.0120 - val_accuracy: 0.9966\n",
            "Epoch 3/10\n",
            "220/220 [==============================] - 15s 67ms/step - loss: 9.5601e-05 - accuracy: 1.0000 - val_loss: 0.0113 - val_accuracy: 0.9966\n",
            "Epoch 4/10\n",
            "220/220 [==============================] - 15s 66ms/step - loss: 4.9292e-05 - accuracy: 1.0000 - val_loss: 0.0111 - val_accuracy: 0.9966\n",
            "Epoch 5/10\n",
            "220/220 [==============================] - 15s 69ms/step - loss: 2.7298e-05 - accuracy: 1.0000 - val_loss: 0.0109 - val_accuracy: 0.9977\n",
            "Epoch 6/10\n",
            "220/220 [==============================] - 19s 84ms/step - loss: 1.8848e-05 - accuracy: 1.0000 - val_loss: 0.0108 - val_accuracy: 0.9977\n",
            "Epoch 7/10\n",
            "220/220 [==============================] - 15s 66ms/step - loss: 1.3442e-05 - accuracy: 1.0000 - val_loss: 0.0105 - val_accuracy: 0.9977\n",
            "Epoch 8/10\n",
            "220/220 [==============================] - 15s 66ms/step - loss: 1.0075e-05 - accuracy: 1.0000 - val_loss: 0.0104 - val_accuracy: 0.9977\n",
            "Epoch 9/10\n",
            "220/220 [==============================] - 15s 66ms/step - loss: 7.4649e-06 - accuracy: 1.0000 - val_loss: 0.0108 - val_accuracy: 0.9977\n",
            "Epoch 10/10\n",
            "220/220 [==============================] - 14s 66ms/step - loss: 5.4422e-06 - accuracy: 1.0000 - val_loss: 0.0103 - val_accuracy: 0.9977\n",
            "54/75 [====================>.........] - ETA: 1s - loss: 0.0104 - accuracy: 0.9977"
          ]
        },
        {
          "output_type": "stream",
          "name": "stderr",
          "text": [
            "WARNING:tensorflow:Your input ran out of data; interrupting training. Make sure that your dataset or generator can generate at least `steps_per_epoch * epochs` batches (in this case, 75 batches). You may need to use the repeat() function when building your dataset.\n"
          ]
        },
        {
          "output_type": "stream",
          "name": "stdout",
          "text": [
            "\b\b\b\b\b\b\b\b\b\b\b\b\b\b\b\b\b\b\b\b\b\b\b\b\b\b\b\b\b\b\b\b\b\b\b\b\b\b\b\b\b\b\b\b\b\b\b\b\b\b\b\b\b\b\b\b\b\b\b\b\b\b\b\b\b\b\b\b\b\b\b\b\b\b\b\b\b\b\b\b\b\b\r75/75 [==============================] - 3s 40ms/step - loss: 0.0103 - accuracy: 0.9977\n",
            "accuracy 99.77195262908936\n",
            "CPU times: user 2min 43s, sys: 7.79 s, total: 2min 50s\n",
            "Wall time: 2min 57s\n"
          ]
        }
      ]
    },
    {
      "cell_type": "markdown",
      "source": [
        "Trying Different Dense layer"
      ],
      "metadata": {
        "id": "De4qHqsB6i1u"
      }
    },
    {
      "cell_type": "code",
      "source": [
        "# define cnn model\n",
        "from keras.applications.vgg16 import VGG16\n",
        "from keras.models import Model\n",
        "def define_model():\n",
        "    # load model\n",
        "    model = VGG16(include_top=False, input_shape=(128, 128, 3))\n",
        "    # mark loaded layers as not trainable\n",
        "    for layer in model.layers:\n",
        "        layer.trainable = False\n",
        "    # add new classifier layers\n",
        "    flat1 = Flatten()(model.layers[-1].output)\n",
        "    class1 = Dense(64, activation='relu', kernel_initializer='he_uniform')(flat1)\n",
        "    output = Dense(2, activation='softmax')(class1)\n",
        "    # define new model\n",
        "    model = Model(inputs=model.inputs, outputs=output)\n",
        "    return model"
      ],
      "metadata": {
        "id": "3JcWNgV76hcQ"
      },
      "execution_count": null,
      "outputs": []
    },
    {
      "cell_type": "code",
      "source": [
        "model = define_model()\n",
        "model.compile(optimizer='adam', loss='categorical_crossentropy', metrics=['accuracy'])\n",
        "model.summary()"
      ],
      "metadata": {
        "colab": {
          "base_uri": "https://localhost:8080/"
        },
        "id": "uvCtzcrN6v8q",
        "outputId": "92cc1fc6-79b7-45c3-9a7f-ede7bed450c1"
      },
      "execution_count": null,
      "outputs": [
        {
          "output_type": "stream",
          "name": "stdout",
          "text": [
            "Downloading data from https://storage.googleapis.com/tensorflow/keras-applications/vgg16/vgg16_weights_tf_dim_ordering_tf_kernels_notop.h5\n",
            "58889256/58889256 [==============================] - 0s 0us/step\n",
            "Model: \"model\"\n",
            "_________________________________________________________________\n",
            " Layer (type)                Output Shape              Param #   \n",
            "=================================================================\n",
            " input_1 (InputLayer)        [(None, 128, 128, 3)]     0         \n",
            "                                                                 \n",
            " block1_conv1 (Conv2D)       (None, 128, 128, 64)      1792      \n",
            "                                                                 \n",
            " block1_conv2 (Conv2D)       (None, 128, 128, 64)      36928     \n",
            "                                                                 \n",
            " block1_pool (MaxPooling2D)  (None, 64, 64, 64)        0         \n",
            "                                                                 \n",
            " block2_conv1 (Conv2D)       (None, 64, 64, 128)       73856     \n",
            "                                                                 \n",
            " block2_conv2 (Conv2D)       (None, 64, 64, 128)       147584    \n",
            "                                                                 \n",
            " block2_pool (MaxPooling2D)  (None, 32, 32, 128)       0         \n",
            "                                                                 \n",
            " block3_conv1 (Conv2D)       (None, 32, 32, 256)       295168    \n",
            "                                                                 \n",
            " block3_conv2 (Conv2D)       (None, 32, 32, 256)       590080    \n",
            "                                                                 \n",
            " block3_conv3 (Conv2D)       (None, 32, 32, 256)       590080    \n",
            "                                                                 \n",
            " block3_pool (MaxPooling2D)  (None, 16, 16, 256)       0         \n",
            "                                                                 \n",
            " block4_conv1 (Conv2D)       (None, 16, 16, 512)       1180160   \n",
            "                                                                 \n",
            " block4_conv2 (Conv2D)       (None, 16, 16, 512)       2359808   \n",
            "                                                                 \n",
            " block4_conv3 (Conv2D)       (None, 16, 16, 512)       2359808   \n",
            "                                                                 \n",
            " block4_pool (MaxPooling2D)  (None, 8, 8, 512)         0         \n",
            "                                                                 \n",
            " block5_conv1 (Conv2D)       (None, 8, 8, 512)         2359808   \n",
            "                                                                 \n",
            " block5_conv2 (Conv2D)       (None, 8, 8, 512)         2359808   \n",
            "                                                                 \n",
            " block5_conv3 (Conv2D)       (None, 8, 8, 512)         2359808   \n",
            "                                                                 \n",
            " block5_pool (MaxPooling2D)  (None, 4, 4, 512)         0         \n",
            "                                                                 \n",
            " flatten (Flatten)           (None, 8192)              0         \n",
            "                                                                 \n",
            " dense (Dense)               (None, 64)                524352    \n",
            "                                                                 \n",
            " dense_1 (Dense)             (None, 2)                 130       \n",
            "                                                                 \n",
            "=================================================================\n",
            "Total params: 15,239,170\n",
            "Trainable params: 524,482\n",
            "Non-trainable params: 14,714,688\n",
            "_________________________________________________________________\n"
          ]
        }
      ]
    },
    {
      "cell_type": "code",
      "source": [
        "%%time\n",
        "epochsteps=len(train_it);epochs =10;valsteps=len(valid_it)\n",
        "# fit model\n",
        "history = model.fit(train_it, steps_per_epoch=epochsteps,\n",
        "                    validation_data=valid_it, validation_steps=valsteps, epochs=10, verbose=1)\n",
        "_, acc = model.evaluate(valid_it, steps=75, verbose=1)\n",
        "print('accuracy',acc * 100.0)"
      ],
      "metadata": {
        "colab": {
          "base_uri": "https://localhost:8080/"
        },
        "id": "6mKSg2UH60jm",
        "outputId": "38b81068-25b1-4987-a5c1-a6eb28d74c06"
      },
      "execution_count": null,
      "outputs": [
        {
          "output_type": "stream",
          "name": "stdout",
          "text": [
            "Epoch 1/10\n",
            "225/225 [==============================] - 32s 92ms/step - loss: 0.2920 - accuracy: 0.9778 - val_loss: 0.0162 - val_accuracy: 0.9933\n",
            "Epoch 2/10\n",
            "225/225 [==============================] - 17s 75ms/step - loss: 5.2898e-04 - accuracy: 1.0000 - val_loss: 0.0125 - val_accuracy: 0.9956\n",
            "Epoch 3/10\n",
            "225/225 [==============================] - 16s 72ms/step - loss: 7.5968e-05 - accuracy: 1.0000 - val_loss: 0.0133 - val_accuracy: 0.9956\n",
            "Epoch 4/10\n",
            "225/225 [==============================] - 19s 83ms/step - loss: 3.7770e-05 - accuracy: 1.0000 - val_loss: 0.0135 - val_accuracy: 0.9956\n",
            "Epoch 5/10\n",
            "225/225 [==============================] - 16s 72ms/step - loss: 2.4612e-05 - accuracy: 1.0000 - val_loss: 0.0133 - val_accuracy: 0.9956\n",
            "Epoch 6/10\n",
            "225/225 [==============================] - 17s 76ms/step - loss: 1.8054e-05 - accuracy: 1.0000 - val_loss: 0.0135 - val_accuracy: 0.9956\n",
            "Epoch 7/10\n",
            "225/225 [==============================] - 17s 74ms/step - loss: 1.3919e-05 - accuracy: 1.0000 - val_loss: 0.0136 - val_accuracy: 0.9956\n",
            "Epoch 8/10\n",
            "225/225 [==============================] - 18s 82ms/step - loss: 1.1214e-05 - accuracy: 1.0000 - val_loss: 0.0134 - val_accuracy: 0.9956\n",
            "Epoch 9/10\n",
            "225/225 [==============================] - 16s 72ms/step - loss: 9.0713e-06 - accuracy: 1.0000 - val_loss: 0.0135 - val_accuracy: 0.9956\n",
            "Epoch 10/10\n",
            "225/225 [==============================] - 16s 73ms/step - loss: 7.5349e-06 - accuracy: 1.0000 - val_loss: 0.0138 - val_accuracy: 0.9944\n",
            "56/75 [=====================>........] - ETA: 1s - loss: 0.0139 - accuracy: 0.9944"
          ]
        },
        {
          "output_type": "stream",
          "name": "stderr",
          "text": [
            "WARNING:tensorflow:Your input ran out of data; interrupting training. Make sure that your dataset or generator can generate at least `steps_per_epoch * epochs` batches (in this case, 75 batches). You may need to use the repeat() function when building your dataset.\n"
          ]
        },
        {
          "output_type": "stream",
          "name": "stdout",
          "text": [
            "\b\b\b\b\b\b\b\b\b\b\b\b\b\b\b\b\b\b\b\b\b\b\b\b\b\b\b\b\b\b\b\b\b\b\b\b\b\b\b\b\b\b\b\b\b\b\b\b\b\b\b\b\b\b\b\b\b\b\b\b\b\b\b\b\b\b\b\b\b\b\b\b\b\b\b\b\b\b\b\b\b\b\r75/75 [==============================] - 3s 42ms/step - loss: 0.0138 - accuracy: 0.9944\n",
            "accuracy 99.44444298744202\n",
            "CPU times: user 3min 5s, sys: 10.2 s, total: 3min 16s\n",
            "Wall time: 3min 32s\n"
          ]
        }
      ]
    },
    {
      "cell_type": "code",
      "source": [
        "# define cnn model\n",
        "from keras.applications.vgg16 import VGG16\n",
        "from keras.models import Model\n",
        "def define_model():\n",
        "    # load model\n",
        "    model = VGG16(include_top=False, input_shape=(128, 128, 3))\n",
        "    # mark loaded layers as not trainable\n",
        "    for layer in model.layers:\n",
        "        layer.trainable = False\n",
        "    # add new classifier layers\n",
        "    flat1 = Flatten()(model.layers[-1].output)\n",
        "    class1 = Dense(32, activation='relu', kernel_initializer='he_uniform')(flat1)\n",
        "    output = Dense(2, activation='softmax')(class1)\n",
        "    # define new model\n",
        "    model = Model(inputs=model.inputs, outputs=output)\n",
        "    return model"
      ],
      "metadata": {
        "id": "3MC32WQY7_qd"
      },
      "execution_count": null,
      "outputs": []
    },
    {
      "cell_type": "code",
      "source": [
        "model = define_model()\n",
        "model.compile(optimizer='adam', loss='categorical_crossentropy', metrics=['accuracy'])\n",
        "model.summary()"
      ],
      "metadata": {
        "colab": {
          "base_uri": "https://localhost:8080/"
        },
        "id": "dRXuCUeM8BkW",
        "outputId": "a0ddbba1-f549-4308-c62c-f413505f3095"
      },
      "execution_count": null,
      "outputs": [
        {
          "output_type": "stream",
          "name": "stdout",
          "text": [
            "Model: \"model_1\"\n",
            "_________________________________________________________________\n",
            " Layer (type)                Output Shape              Param #   \n",
            "=================================================================\n",
            " input_2 (InputLayer)        [(None, 128, 128, 3)]     0         \n",
            "                                                                 \n",
            " block1_conv1 (Conv2D)       (None, 128, 128, 64)      1792      \n",
            "                                                                 \n",
            " block1_conv2 (Conv2D)       (None, 128, 128, 64)      36928     \n",
            "                                                                 \n",
            " block1_pool (MaxPooling2D)  (None, 64, 64, 64)        0         \n",
            "                                                                 \n",
            " block2_conv1 (Conv2D)       (None, 64, 64, 128)       73856     \n",
            "                                                                 \n",
            " block2_conv2 (Conv2D)       (None, 64, 64, 128)       147584    \n",
            "                                                                 \n",
            " block2_pool (MaxPooling2D)  (None, 32, 32, 128)       0         \n",
            "                                                                 \n",
            " block3_conv1 (Conv2D)       (None, 32, 32, 256)       295168    \n",
            "                                                                 \n",
            " block3_conv2 (Conv2D)       (None, 32, 32, 256)       590080    \n",
            "                                                                 \n",
            " block3_conv3 (Conv2D)       (None, 32, 32, 256)       590080    \n",
            "                                                                 \n",
            " block3_pool (MaxPooling2D)  (None, 16, 16, 256)       0         \n",
            "                                                                 \n",
            " block4_conv1 (Conv2D)       (None, 16, 16, 512)       1180160   \n",
            "                                                                 \n",
            " block4_conv2 (Conv2D)       (None, 16, 16, 512)       2359808   \n",
            "                                                                 \n",
            " block4_conv3 (Conv2D)       (None, 16, 16, 512)       2359808   \n",
            "                                                                 \n",
            " block4_pool (MaxPooling2D)  (None, 8, 8, 512)         0         \n",
            "                                                                 \n",
            " block5_conv1 (Conv2D)       (None, 8, 8, 512)         2359808   \n",
            "                                                                 \n",
            " block5_conv2 (Conv2D)       (None, 8, 8, 512)         2359808   \n",
            "                                                                 \n",
            " block5_conv3 (Conv2D)       (None, 8, 8, 512)         2359808   \n",
            "                                                                 \n",
            " block5_pool (MaxPooling2D)  (None, 4, 4, 512)         0         \n",
            "                                                                 \n",
            " flatten_1 (Flatten)         (None, 8192)              0         \n",
            "                                                                 \n",
            " dense_2 (Dense)             (None, 32)                262176    \n",
            "                                                                 \n",
            " dense_3 (Dense)             (None, 2)                 66        \n",
            "                                                                 \n",
            "=================================================================\n",
            "Total params: 14,976,930\n",
            "Trainable params: 262,242\n",
            "Non-trainable params: 14,714,688\n",
            "_________________________________________________________________\n"
          ]
        }
      ]
    },
    {
      "cell_type": "code",
      "source": [
        "%%time\n",
        "epochsteps=len(train_it);epochs =10;valsteps=len(valid_it)\n",
        "# fit model\n",
        "history = model.fit(train_it, steps_per_epoch=epochsteps,\n",
        "                    validation_data=valid_it, validation_steps=valsteps, epochs=10, verbose=1)\n",
        "_, acc = model.evaluate(valid_it, steps=75, verbose=1)\n",
        "print('accuracy',acc * 100.0)"
      ],
      "metadata": {
        "colab": {
          "base_uri": "https://localhost:8080/"
        },
        "id": "Xvruf97W8G0F",
        "outputId": "4ec195eb-e1b7-417d-cde4-5123ef22c399"
      },
      "execution_count": null,
      "outputs": [
        {
          "output_type": "stream",
          "name": "stdout",
          "text": [
            "Epoch 1/10\n",
            "225/225 [==============================] - 18s 73ms/step - loss: 0.1948 - accuracy: 0.9860 - val_loss: 0.0144 - val_accuracy: 0.9967\n",
            "Epoch 2/10\n",
            "225/225 [==============================] - 19s 83ms/step - loss: 0.0039 - accuracy: 0.9992 - val_loss: 0.0146 - val_accuracy: 0.9956\n",
            "Epoch 3/10\n",
            "225/225 [==============================] - 16s 73ms/step - loss: 2.8542e-04 - accuracy: 0.9997 - val_loss: 0.0153 - val_accuracy: 0.9978\n",
            "Epoch 4/10\n",
            "225/225 [==============================] - 17s 74ms/step - loss: 2.4161e-05 - accuracy: 1.0000 - val_loss: 0.0122 - val_accuracy: 0.9978\n",
            "Epoch 5/10\n",
            "225/225 [==============================] - 16s 73ms/step - loss: 5.8514e-07 - accuracy: 1.0000 - val_loss: 0.0122 - val_accuracy: 0.9978\n",
            "Epoch 6/10\n",
            "225/225 [==============================] - 16s 70ms/step - loss: 5.2535e-07 - accuracy: 1.0000 - val_loss: 0.0122 - val_accuracy: 0.9978\n",
            "Epoch 7/10\n",
            "225/225 [==============================] - 18s 81ms/step - loss: 4.7633e-07 - accuracy: 1.0000 - val_loss: 0.0122 - val_accuracy: 0.9978\n",
            "Epoch 8/10\n",
            "225/225 [==============================] - 17s 74ms/step - loss: 4.3914e-07 - accuracy: 1.0000 - val_loss: 0.0122 - val_accuracy: 0.9978\n",
            "Epoch 9/10\n",
            "225/225 [==============================] - 19s 82ms/step - loss: 4.1020e-07 - accuracy: 1.0000 - val_loss: 0.0122 - val_accuracy: 0.9978\n",
            "Epoch 10/10\n",
            "225/225 [==============================] - 18s 81ms/step - loss: 3.8028e-07 - accuracy: 1.0000 - val_loss: 0.0122 - val_accuracy: 0.9978\n",
            "56/75 [=====================>........] - ETA: 1s - loss: 0.0122 - accuracy: 0.9978"
          ]
        },
        {
          "output_type": "stream",
          "name": "stderr",
          "text": [
            "WARNING:tensorflow:Your input ran out of data; interrupting training. Make sure that your dataset or generator can generate at least `steps_per_epoch * epochs` batches (in this case, 75 batches). You may need to use the repeat() function when building your dataset.\n"
          ]
        },
        {
          "output_type": "stream",
          "name": "stdout",
          "text": [
            "\b\b\b\b\b\b\b\b\b\b\b\b\b\b\b\b\b\b\b\b\b\b\b\b\b\b\b\b\b\b\b\b\b\b\b\b\b\b\b\b\b\b\b\b\b\b\b\b\b\b\b\b\b\b\b\b\b\b\b\b\b\b\b\b\b\b\b\b\b\b\b\b\b\b\b\b\b\b\b\b\b\b\r75/75 [==============================] - 3s 41ms/step - loss: 0.0122 - accuracy: 0.9978\n",
            "accuracy 99.77777600288391\n",
            "CPU times: user 2min 59s, sys: 9.01 s, total: 3min 8s\n",
            "Wall time: 3min 8s\n"
          ]
        }
      ]
    },
    {
      "cell_type": "code",
      "source": [
        "# define cnn model\n",
        "from keras.applications.vgg16 import VGG16\n",
        "from keras.models import Model\n",
        "def define_model():\n",
        "    # load model\n",
        "    model = VGG16(include_top=False, input_shape=(128, 128, 3))\n",
        "    # mark loaded layers as not trainable\n",
        "    for layer in model.layers:\n",
        "        layer.trainable = False\n",
        "    # add new classifier layers\n",
        "    flat1 = Flatten()(model.layers[-1].output)\n",
        "    class1 = Dense(16, activation='relu', kernel_initializer='he_uniform')(flat1)\n",
        "    output = Dense(2, activation='softmax')(class1)\n",
        "    # define new model\n",
        "    model = Model(inputs=model.inputs, outputs=output)\n",
        "    return model"
      ],
      "metadata": {
        "id": "qSw9-ZHs9wc7"
      },
      "execution_count": null,
      "outputs": []
    },
    {
      "cell_type": "code",
      "source": [
        "model = define_model()\n",
        "model.compile(optimizer='adam', loss='categorical_crossentropy', metrics=['accuracy'])\n",
        "model.summary()"
      ],
      "metadata": {
        "colab": {
          "base_uri": "https://localhost:8080/"
        },
        "id": "aeSGWbnr91hM",
        "outputId": "630d62a3-4992-4c5e-85c7-23511584736c"
      },
      "execution_count": null,
      "outputs": [
        {
          "output_type": "stream",
          "name": "stdout",
          "text": [
            "Model: \"model_3\"\n",
            "_________________________________________________________________\n",
            " Layer (type)                Output Shape              Param #   \n",
            "=================================================================\n",
            " input_4 (InputLayer)        [(None, 128, 128, 3)]     0         \n",
            "                                                                 \n",
            " block1_conv1 (Conv2D)       (None, 128, 128, 64)      1792      \n",
            "                                                                 \n",
            " block1_conv2 (Conv2D)       (None, 128, 128, 64)      36928     \n",
            "                                                                 \n",
            " block1_pool (MaxPooling2D)  (None, 64, 64, 64)        0         \n",
            "                                                                 \n",
            " block2_conv1 (Conv2D)       (None, 64, 64, 128)       73856     \n",
            "                                                                 \n",
            " block2_conv2 (Conv2D)       (None, 64, 64, 128)       147584    \n",
            "                                                                 \n",
            " block2_pool (MaxPooling2D)  (None, 32, 32, 128)       0         \n",
            "                                                                 \n",
            " block3_conv1 (Conv2D)       (None, 32, 32, 256)       295168    \n",
            "                                                                 \n",
            " block3_conv2 (Conv2D)       (None, 32, 32, 256)       590080    \n",
            "                                                                 \n",
            " block3_conv3 (Conv2D)       (None, 32, 32, 256)       590080    \n",
            "                                                                 \n",
            " block3_pool (MaxPooling2D)  (None, 16, 16, 256)       0         \n",
            "                                                                 \n",
            " block4_conv1 (Conv2D)       (None, 16, 16, 512)       1180160   \n",
            "                                                                 \n",
            " block4_conv2 (Conv2D)       (None, 16, 16, 512)       2359808   \n",
            "                                                                 \n",
            " block4_conv3 (Conv2D)       (None, 16, 16, 512)       2359808   \n",
            "                                                                 \n",
            " block4_pool (MaxPooling2D)  (None, 8, 8, 512)         0         \n",
            "                                                                 \n",
            " block5_conv1 (Conv2D)       (None, 8, 8, 512)         2359808   \n",
            "                                                                 \n",
            " block5_conv2 (Conv2D)       (None, 8, 8, 512)         2359808   \n",
            "                                                                 \n",
            " block5_conv3 (Conv2D)       (None, 8, 8, 512)         2359808   \n",
            "                                                                 \n",
            " block5_pool (MaxPooling2D)  (None, 4, 4, 512)         0         \n",
            "                                                                 \n",
            " flatten_3 (Flatten)         (None, 8192)              0         \n",
            "                                                                 \n",
            " dense_6 (Dense)             (None, 16)                131088    \n",
            "                                                                 \n",
            " dense_7 (Dense)             (None, 2)                 34        \n",
            "                                                                 \n",
            "=================================================================\n",
            "Total params: 14,845,810\n",
            "Trainable params: 131,122\n",
            "Non-trainable params: 14,714,688\n",
            "_________________________________________________________________\n"
          ]
        }
      ]
    },
    {
      "cell_type": "code",
      "source": [
        "%%time\n",
        "epochsteps=len(train_it);epochs =10;valsteps=len(valid_it)\n",
        "# fit model\n",
        "history = model.fit(train_it, steps_per_epoch=epochsteps,\n",
        "                    validation_data=valid_it, validation_steps=valsteps, epochs=10, verbose=1)\n",
        "_, acc = model.evaluate(valid_it, steps=75, verbose=1)\n",
        "print('accuracy',acc * 100.0)"
      ],
      "metadata": {
        "colab": {
          "base_uri": "https://localhost:8080/"
        },
        "id": "zoOkKOPu94AU",
        "outputId": "fce1fa26-88bf-48d9-cf6c-b0b20c678750"
      },
      "execution_count": null,
      "outputs": [
        {
          "output_type": "stream",
          "name": "stdout",
          "text": [
            "Epoch 1/10\n",
            "225/225 [==============================] - 17s 72ms/step - loss: 0.1308 - accuracy: 0.9803 - val_loss: 0.0090 - val_accuracy: 0.9944\n",
            "Epoch 2/10\n",
            "225/225 [==============================] - 17s 75ms/step - loss: 5.7256e-04 - accuracy: 1.0000 - val_loss: 0.0070 - val_accuracy: 0.9978\n",
            "Epoch 3/10\n",
            "225/225 [==============================] - 16s 73ms/step - loss: 2.4107e-04 - accuracy: 1.0000 - val_loss: 0.0063 - val_accuracy: 0.9989\n",
            "Epoch 4/10\n",
            "225/225 [==============================] - 16s 72ms/step - loss: 1.4748e-04 - accuracy: 1.0000 - val_loss: 0.0058 - val_accuracy: 0.9989\n",
            "Epoch 5/10\n",
            "225/225 [==============================] - 18s 81ms/step - loss: 9.7704e-05 - accuracy: 1.0000 - val_loss: 0.0055 - val_accuracy: 0.9989\n",
            "Epoch 6/10\n",
            "225/225 [==============================] - 16s 73ms/step - loss: 6.8778e-05 - accuracy: 1.0000 - val_loss: 0.0054 - val_accuracy: 0.9978\n",
            "Epoch 7/10\n",
            "225/225 [==============================] - 17s 74ms/step - loss: 5.0877e-05 - accuracy: 1.0000 - val_loss: 0.0052 - val_accuracy: 0.9978\n",
            "Epoch 8/10\n",
            "225/225 [==============================] - 16s 72ms/step - loss: 3.9191e-05 - accuracy: 1.0000 - val_loss: 0.0055 - val_accuracy: 0.9978\n",
            "Epoch 9/10\n",
            "225/225 [==============================] - 17s 76ms/step - loss: 3.0392e-05 - accuracy: 1.0000 - val_loss: 0.0050 - val_accuracy: 0.9978\n",
            "Epoch 10/10\n",
            "225/225 [==============================] - 18s 81ms/step - loss: 2.4359e-05 - accuracy: 1.0000 - val_loss: 0.0053 - val_accuracy: 0.9978\n",
            "56/75 [=====================>........] - ETA: 1s - loss: 0.0052 - accuracy: 0.9978"
          ]
        },
        {
          "output_type": "stream",
          "name": "stderr",
          "text": [
            "WARNING:tensorflow:Your input ran out of data; interrupting training. Make sure that your dataset or generator can generate at least `steps_per_epoch * epochs` batches (in this case, 75 batches). You may need to use the repeat() function when building your dataset.\n"
          ]
        },
        {
          "output_type": "stream",
          "name": "stdout",
          "text": [
            "\b\b\b\b\b\b\b\b\b\b\b\b\b\b\b\b\b\b\b\b\b\b\b\b\b\b\b\b\b\b\b\b\b\b\b\b\b\b\b\b\b\b\b\b\b\b\b\b\b\b\b\b\b\b\b\b\b\b\b\b\b\b\b\b\b\b\b\b\b\b\b\b\b\b\b\b\b\b\b\b\b\b\r75/75 [==============================] - 3s 43ms/step - loss: 0.0053 - accuracy: 0.9978\n",
            "accuracy 99.77777600288391\n",
            "CPU times: user 2min 59s, sys: 8.98 s, total: 3min 8s\n",
            "Wall time: 3min\n"
          ]
        }
      ]
    },
    {
      "cell_type": "code",
      "source": [
        "# define cnn model\n",
        "from keras.applications.vgg16 import VGG16\n",
        "from keras.models import Model\n",
        "def define_model():\n",
        "    # load model\n",
        "    model = VGG16(include_top=False, input_shape=(128, 128, 3))\n",
        "    # mark loaded layers as not trainable\n",
        "    for layer in model.layers:\n",
        "        layer.trainable = False\n",
        "    # add new classifier layers\n",
        "    flat1 = Flatten()(model.layers[-1].output)\n",
        "    class1 = Dense(8, activation='relu', kernel_initializer='he_uniform')(flat1)\n",
        "    output = Dense(2, activation='softmax')(class1)\n",
        "    # define new model\n",
        "    model = Model(inputs=model.inputs, outputs=output)\n",
        "    return model"
      ],
      "metadata": {
        "id": "95bh9pTT_T9j"
      },
      "execution_count": null,
      "outputs": []
    },
    {
      "cell_type": "code",
      "source": [
        "model = define_model()\n",
        "model.compile(optimizer='adam', loss='categorical_crossentropy', metrics=['accuracy'])\n",
        "model.summary()"
      ],
      "metadata": {
        "colab": {
          "base_uri": "https://localhost:8080/"
        },
        "id": "CR8uqzSc_WeE",
        "outputId": "b4bbf807-e5e6-48e8-a4c2-9f626ca1ce9f"
      },
      "execution_count": null,
      "outputs": [
        {
          "output_type": "stream",
          "name": "stdout",
          "text": [
            "Model: \"model_4\"\n",
            "_________________________________________________________________\n",
            " Layer (type)                Output Shape              Param #   \n",
            "=================================================================\n",
            " input_5 (InputLayer)        [(None, 128, 128, 3)]     0         \n",
            "                                                                 \n",
            " block1_conv1 (Conv2D)       (None, 128, 128, 64)      1792      \n",
            "                                                                 \n",
            " block1_conv2 (Conv2D)       (None, 128, 128, 64)      36928     \n",
            "                                                                 \n",
            " block1_pool (MaxPooling2D)  (None, 64, 64, 64)        0         \n",
            "                                                                 \n",
            " block2_conv1 (Conv2D)       (None, 64, 64, 128)       73856     \n",
            "                                                                 \n",
            " block2_conv2 (Conv2D)       (None, 64, 64, 128)       147584    \n",
            "                                                                 \n",
            " block2_pool (MaxPooling2D)  (None, 32, 32, 128)       0         \n",
            "                                                                 \n",
            " block3_conv1 (Conv2D)       (None, 32, 32, 256)       295168    \n",
            "                                                                 \n",
            " block3_conv2 (Conv2D)       (None, 32, 32, 256)       590080    \n",
            "                                                                 \n",
            " block3_conv3 (Conv2D)       (None, 32, 32, 256)       590080    \n",
            "                                                                 \n",
            " block3_pool (MaxPooling2D)  (None, 16, 16, 256)       0         \n",
            "                                                                 \n",
            " block4_conv1 (Conv2D)       (None, 16, 16, 512)       1180160   \n",
            "                                                                 \n",
            " block4_conv2 (Conv2D)       (None, 16, 16, 512)       2359808   \n",
            "                                                                 \n",
            " block4_conv3 (Conv2D)       (None, 16, 16, 512)       2359808   \n",
            "                                                                 \n",
            " block4_pool (MaxPooling2D)  (None, 8, 8, 512)         0         \n",
            "                                                                 \n",
            " block5_conv1 (Conv2D)       (None, 8, 8, 512)         2359808   \n",
            "                                                                 \n",
            " block5_conv2 (Conv2D)       (None, 8, 8, 512)         2359808   \n",
            "                                                                 \n",
            " block5_conv3 (Conv2D)       (None, 8, 8, 512)         2359808   \n",
            "                                                                 \n",
            " block5_pool (MaxPooling2D)  (None, 4, 4, 512)         0         \n",
            "                                                                 \n",
            " flatten_4 (Flatten)         (None, 8192)              0         \n",
            "                                                                 \n",
            " dense_8 (Dense)             (None, 8)                 65544     \n",
            "                                                                 \n",
            " dense_9 (Dense)             (None, 2)                 18        \n",
            "                                                                 \n",
            "=================================================================\n",
            "Total params: 14,780,250\n",
            "Trainable params: 65,562\n",
            "Non-trainable params: 14,714,688\n",
            "_________________________________________________________________\n"
          ]
        }
      ]
    },
    {
      "cell_type": "code",
      "source": [
        "%%time\n",
        "epochsteps=len(train_it);epochs =10;valsteps=len(valid_it)\n",
        "# fit model\n",
        "history = model.fit(train_it, steps_per_epoch=epochsteps,\n",
        "                    validation_data=valid_it, validation_steps=valsteps, epochs=10, verbose=1)\n",
        "_, acc = model.evaluate(valid_it, steps=75, verbose=1)\n",
        "print('accuracy',acc * 100.0)"
      ],
      "metadata": {
        "colab": {
          "base_uri": "https://localhost:8080/"
        },
        "id": "ChS7tEe__ieD",
        "outputId": "38dd7ef9-7120-4325-a62d-012a46e6a3b3"
      },
      "execution_count": null,
      "outputs": [
        {
          "output_type": "stream",
          "name": "stdout",
          "text": [
            "Epoch 1/10\n",
            "225/225 [==============================] - 18s 76ms/step - loss: 0.2606 - accuracy: 0.9797 - val_loss: 0.0113 - val_accuracy: 0.9978\n",
            "Epoch 2/10\n",
            "225/225 [==============================] - 16s 72ms/step - loss: 0.0052 - accuracy: 0.9986 - val_loss: 0.0092 - val_accuracy: 0.9967\n",
            "Epoch 3/10\n",
            "225/225 [==============================] - 17s 76ms/step - loss: 4.8108e-05 - accuracy: 1.0000 - val_loss: 0.0082 - val_accuracy: 0.9967\n",
            "Epoch 4/10\n",
            "225/225 [==============================] - 18s 81ms/step - loss: 1.1672e-05 - accuracy: 1.0000 - val_loss: 0.0096 - val_accuracy: 0.9967\n",
            "Epoch 5/10\n",
            "225/225 [==============================] - 18s 82ms/step - loss: 9.4292e-06 - accuracy: 1.0000 - val_loss: 0.0098 - val_accuracy: 0.9967\n",
            "Epoch 6/10\n",
            "225/225 [==============================] - 16s 73ms/step - loss: 8.0141e-06 - accuracy: 1.0000 - val_loss: 0.0096 - val_accuracy: 0.9967\n",
            "Epoch 7/10\n",
            "225/225 [==============================] - 21s 91ms/step - loss: 7.0599e-06 - accuracy: 1.0000 - val_loss: 0.0096 - val_accuracy: 0.9967\n",
            "Epoch 8/10\n",
            "225/225 [==============================] - 17s 77ms/step - loss: 6.2457e-06 - accuracy: 1.0000 - val_loss: 0.0096 - val_accuracy: 0.9967\n",
            "Epoch 9/10\n",
            "225/225 [==============================] - 22s 97ms/step - loss: 5.5619e-06 - accuracy: 1.0000 - val_loss: 0.0096 - val_accuracy: 0.9967\n",
            "Epoch 10/10\n",
            "225/225 [==============================] - 16s 72ms/step - loss: 5.0223e-06 - accuracy: 1.0000 - val_loss: 0.0098 - val_accuracy: 0.9967\n",
            "56/75 [=====================>........] - ETA: 1s - loss: 0.0098 - accuracy: 0.9967"
          ]
        },
        {
          "output_type": "stream",
          "name": "stderr",
          "text": [
            "WARNING:tensorflow:Your input ran out of data; interrupting training. Make sure that your dataset or generator can generate at least `steps_per_epoch * epochs` batches (in this case, 75 batches). You may need to use the repeat() function when building your dataset.\n"
          ]
        },
        {
          "output_type": "stream",
          "name": "stdout",
          "text": [
            "\b\b\b\b\b\b\b\b\b\b\b\b\b\b\b\b\b\b\b\b\b\b\b\b\b\b\b\b\b\b\b\b\b\b\b\b\b\b\b\b\b\b\b\b\b\b\b\b\b\b\b\b\b\b\b\b\b\b\b\b\b\b\b\b\b\b\b\b\b\b\b\b\b\b\b\b\b\b\b\b\b\b\r75/75 [==============================] - 3s 42ms/step - loss: 0.0098 - accuracy: 0.9967\n",
            "accuracy 99.6666669845581\n",
            "CPU times: user 3min, sys: 9.14 s, total: 3min 10s\n",
            "Wall time: 3min 33s\n"
          ]
        }
      ]
    },
    {
      "cell_type": "code",
      "source": [
        "from keras.layers import MaxPool2D\n",
        "from keras.layers import IntegerLookup"
      ],
      "metadata": {
        "id": "yVhXWI9GEF1P"
      },
      "execution_count": null,
      "outputs": []
    },
    {
      "cell_type": "code",
      "source": [
        "#model 1\n",
        "model1 = models.Sequential()\n",
        "model1 = Sequential()\n",
        "#model1.add(Conv2D(filters=4,kernel_size=(3,3),padding=\"same\", activation=\"relu\", input_shape=(224,224,3)))\n",
        "model1.add(Conv2D(filters=16,kernel_size=(3,3),padding=\"same\", activation=\"relu\", input_shape=(128,128,3)))\n",
        "model1.add(MaxPool2D(pool_size=(2,2),strides=(2,2)))\n",
        "#model1.add(Dropout(0.4))\n",
        "\n",
        "#model1.add(Conv2D(filters=8, kernel_size=(3,3), padding=\"same\", activation=\"relu\"))\n",
        "model1.add(Conv2D(filters=32, kernel_size=(3,3), padding=\"same\", activation=\"relu\"))\n",
        "model1.add(MaxPool2D(pool_size=(2,2),strides=(2,2)))\n",
        "#model1.add(Dropout(0.5))\n",
        "\n",
        "flat1 = Flatten()(model1.layers[-1].output)\n",
        "class1 = Dense(16, activation='relu', kernel_initializer='he_uniform')(flat1)\n",
        "output = Dense(2, activation='softmax')(class1)\n",
        "model1 = Model(inputs=model1.inputs, outputs=output)\n",
        "\n"
      ],
      "metadata": {
        "id": "8rhHS0Nz_-LL"
      },
      "execution_count": null,
      "outputs": []
    },
    {
      "cell_type": "code",
      "source": [
        "#model1 = define_model()\n",
        "model1.compile(optimizer='adam', loss='categorical_crossentropy', metrics=['accuracy'])\n",
        "model1.summary()"
      ],
      "metadata": {
        "colab": {
          "base_uri": "https://localhost:8080/"
        },
        "id": "xoDPIWs-EiKO",
        "outputId": "643bcd15-cca7-457b-a5b2-a4b192497d82"
      },
      "execution_count": null,
      "outputs": [
        {
          "output_type": "stream",
          "name": "stdout",
          "text": [
            "Model: \"model_4\"\n",
            "_________________________________________________________________\n",
            " Layer (type)                Output Shape              Param #   \n",
            "=================================================================\n",
            " conv2d_12_input (InputLayer  [(None, 128, 128, 3)]    0         \n",
            " )                                                               \n",
            "                                                                 \n",
            " conv2d_12 (Conv2D)          (None, 128, 128, 16)      448       \n",
            "                                                                 \n",
            " max_pooling2d_12 (MaxPoolin  (None, 64, 64, 16)       0         \n",
            " g2D)                                                            \n",
            "                                                                 \n",
            " conv2d_13 (Conv2D)          (None, 64, 64, 32)        4640      \n",
            "                                                                 \n",
            " max_pooling2d_13 (MaxPoolin  (None, 32, 32, 32)       0         \n",
            " g2D)                                                            \n",
            "                                                                 \n",
            " flatten_6 (Flatten)         (None, 32768)             0         \n",
            "                                                                 \n",
            " dense_10 (Dense)            (None, 16)                524304    \n",
            "                                                                 \n",
            " dense_11 (Dense)            (None, 2)                 34        \n",
            "                                                                 \n",
            "=================================================================\n",
            "Total params: 529,426\n",
            "Trainable params: 529,426\n",
            "Non-trainable params: 0\n",
            "_________________________________________________________________\n"
          ]
        }
      ]
    },
    {
      "cell_type": "code",
      "source": [
        "%%time\n",
        "#model 1 trained on strawberry dataset\n",
        "epochsteps=len(train_it);epochs =5;valsteps=len(valid_it)\n",
        "# fit model\n",
        "history = model1.fit(train_it, steps_per_epoch=epochsteps,\n",
        "                    validation_data=valid_it, validation_steps=valsteps, epochs=5, verbose=1)\n",
        "_, acc = model1.evaluate(valid_it, steps=valsteps, verbose=1)\n",
        "print('accuracy',acc * 100.0)"
      ],
      "metadata": {
        "colab": {
          "base_uri": "https://localhost:8080/"
        },
        "id": "-SV5BKMhFR8E",
        "outputId": "741acfc6-aedf-4a45-cf6d-c82a0416dad5"
      },
      "execution_count": null,
      "outputs": [
        {
          "output_type": "stream",
          "name": "stdout",
          "text": [
            "Epoch 1/5\n",
            "225/225 [==============================] - 15s 68ms/step - loss: 0.3076 - accuracy: 0.9439 - val_loss: 0.0517 - val_accuracy: 0.9911\n",
            "Epoch 2/5\n",
            "225/225 [==============================] - 14s 63ms/step - loss: 0.0280 - accuracy: 0.9936 - val_loss: 0.0273 - val_accuracy: 0.9922\n",
            "Epoch 3/5\n",
            "225/225 [==============================] - 13s 60ms/step - loss: 0.0253 - accuracy: 0.9936 - val_loss: 0.0249 - val_accuracy: 0.9933\n",
            "Epoch 4/5\n",
            "225/225 [==============================] - 14s 62ms/step - loss: 0.0095 - accuracy: 0.9982 - val_loss: 0.0171 - val_accuracy: 0.9944\n",
            "Epoch 5/5\n",
            "225/225 [==============================] - 15s 65ms/step - loss: 0.0015 - accuracy: 1.0000 - val_loss: 0.0590 - val_accuracy: 0.9856\n",
            "57/57 [==============================] - 3s 46ms/step - loss: 0.0590 - accuracy: 0.9856\n",
            "accuracy 98.55555295944214\n",
            "CPU times: user 1min 20s, sys: 2.75 s, total: 1min 23s\n",
            "Wall time: 1min 38s\n"
          ]
        }
      ]
    },
    {
      "cell_type": "code",
      "source": [
        "plt.plot(history.history['val_loss'])"
      ],
      "metadata": {
        "colab": {
          "base_uri": "https://localhost:8080/",
          "height": 447
        },
        "id": "97I56qkPuReM",
        "outputId": "71f50d6f-3f67-4943-fe03-93ce97d76e70"
      },
      "execution_count": null,
      "outputs": [
        {
          "output_type": "execute_result",
          "data": {
            "text/plain": [
              "[<matplotlib.lines.Line2D at 0x77fe7461cbb0>]"
            ]
          },
          "metadata": {},
          "execution_count": 53
        },
        {
          "output_type": "display_data",
          "data": {
            "text/plain": [
              "<Figure size 640x480 with 1 Axes>"
            ],
            "image/png": "[encoded data removed]"
          },
          "metadata": {}
        }
      ]
    },
    {
      "cell_type": "code",
      "source": [
        "plt.plot(history.history['loss'])"
      ],
      "metadata": {
        "colab": {
          "base_uri": "https://localhost:8080/",
          "height": 447
        },
        "id": "zoW0Nzk_uaRP",
        "outputId": "fca29ba2-dd79-4efa-a41d-dfe1527377a2"
      },
      "execution_count": null,
      "outputs": [
        {
          "output_type": "execute_result",
          "data": {
            "text/plain": [
              "[<matplotlib.lines.Line2D at 0x77fe74642680>]"
            ]
          },
          "metadata": {},
          "execution_count": 54
        },
        {
          "output_type": "display_data",
          "data": {
            "text/plain": [
              "<Figure size 640x480 with 1 Axes>"
            ],
            "image/png": "[encoded data removed]"
          },
          "metadata": {}
        }
      ]
    },
    {
      "cell_type": "code",
      "source": [
        "plt.plot(history.history['accuracy'])"
      ],
      "metadata": {
        "colab": {
          "base_uri": "https://localhost:8080/",
          "height": 447
        },
        "id": "yf3XY_woueER",
        "outputId": "318cc846-8a19-462d-eec0-995acb8b3ed6"
      },
      "execution_count": null,
      "outputs": [
        {
          "output_type": "execute_result",
          "data": {
            "text/plain": [
              "[<matplotlib.lines.Line2D at 0x77fe74515870>]"
            ]
          },
          "metadata": {},
          "execution_count": 55
        },
        {
          "output_type": "display_data",
          "data": {
            "text/plain": [
              "<Figure size 640x480 with 1 Axes>"
            ],
            "image/png": "[encoded data removed]"
          },
          "metadata": {}
        }
      ]
    },
    {
      "cell_type": "code",
      "source": [
        "%%time\n",
        "#model 1 trained on cherry dataset\n",
        "epochsteps=len(train_it);epochs =5;valsteps=len(valid_it)\n",
        "# fit model\n",
        "history = model1.fit(train_it, steps_per_epoch=epochsteps,\n",
        "                    validation_data=valid_it, validation_steps=valsteps, epochs=5, verbose=1)\n",
        "_, acc = model1.evaluate(valid_it, steps=valsteps, verbose=1)\n",
        "print('accuracy',acc * 100.0)"
      ],
      "metadata": {
        "colab": {
          "base_uri": "https://localhost:8080/"
        },
        "id": "a94GOfa5h_HS",
        "outputId": "1dfd9d38-ea10-4842-ef2f-6ffd336b4f45"
      },
      "execution_count": null,
      "outputs": [
        {
          "output_type": "stream",
          "name": "stdout",
          "text": [
            "Epoch 1/5\n",
            "220/220 [==============================] - 13s 58ms/step - loss: 1.0536e-05 - accuracy: 1.0000 - val_loss: 0.0052 - val_accuracy: 0.9977\n",
            "Epoch 2/5\n",
            "220/220 [==============================] - 13s 59ms/step - loss: 9.1546e-06 - accuracy: 1.0000 - val_loss: 0.0054 - val_accuracy: 0.9977\n",
            "Epoch 3/5\n",
            "220/220 [==============================] - 13s 59ms/step - loss: 7.8309e-06 - accuracy: 1.0000 - val_loss: 0.0059 - val_accuracy: 0.9989\n",
            "Epoch 4/5\n",
            "220/220 [==============================] - 13s 60ms/step - loss: 6.7001e-06 - accuracy: 1.0000 - val_loss: 0.0057 - val_accuracy: 0.9977\n",
            "Epoch 5/5\n",
            "220/220 [==============================] - 13s 59ms/step - loss: 5.7617e-06 - accuracy: 1.0000 - val_loss: 0.0060 - val_accuracy: 0.9989\n",
            "55/55 [==============================] - 2s 41ms/step - loss: 0.0060 - accuracy: 0.9989\n",
            "accuracy 99.88597631454468\n",
            "CPU times: user 1min 14s, sys: 2.75 s, total: 1min 17s\n",
            "Wall time: 1min 7s\n"
          ]
        }
      ]
    },
    {
      "cell_type": "code",
      "source": [
        "print(valsteps)"
      ],
      "metadata": {
        "colab": {
          "base_uri": "https://localhost:8080/"
        },
        "id": "7TZQJfLFsKLE",
        "outputId": "c71bed50-570c-4a10-bb50-32825592298b"
      },
      "execution_count": null,
      "outputs": [
        {
          "output_type": "stream",
          "name": "stdout",
          "text": [
            "55\n"
          ]
        }
      ]
    },
    {
      "cell_type": "code",
      "source": [
        "plt.plot(history.history['val_loss'])"
      ],
      "metadata": {
        "colab": {
          "base_uri": "https://localhost:8080/",
          "height": 450
        },
        "id": "iCyBFpzVlc4k",
        "outputId": "f20e511a-5e6e-4e11-d443-08cf00d66b33"
      },
      "execution_count": null,
      "outputs": [
        {
          "output_type": "execute_result",
          "data": {
            "text/plain": [
              "[<matplotlib.lines.Line2D at 0x77fe751c1270>]"
            ]
          },
          "metadata": {},
          "execution_count": 39
        },
        {
          "output_type": "display_data",
          "data": {
            "text/plain": [
              "<Figure size 640x480 with 1 Axes>"
            ],
            "image/png": "[encoded data removed]"
          },
          "metadata": {}
        }
      ]
    },
    {
      "cell_type": "code",
      "source": [
        "plt.plot(history.history['loss'])"
      ],
      "metadata": {
        "colab": {
          "base_uri": "https://localhost:8080/",
          "height": 447
        },
        "id": "cpbjrzLOlnT_",
        "outputId": "11449fa8-1d09-4631-fa93-476be51ca1e6"
      },
      "execution_count": null,
      "outputs": [
        {
          "output_type": "execute_result",
          "data": {
            "text/plain": [
              "[<matplotlib.lines.Line2D at 0x77fe750770d0>]"
            ]
          },
          "metadata": {},
          "execution_count": 40
        },
        {
          "output_type": "display_data",
          "data": {
            "text/plain": [
              "<Figure size 640x480 with 1 Axes>"
            ],
            "image/png": "[encoded data removed]"
          },
          "metadata": {}
        }
      ]
    },
    {
      "cell_type": "code",
      "source": [
        "plt.plot(history.history['accuracy'])"
      ],
      "metadata": {
        "colab": {
          "base_uri": "https://localhost:8080/",
          "height": 447
        },
        "id": "KVJW6_OJlrHC",
        "outputId": "5129dda5-dc7e-42bc-a939-c9a3a3b82d48"
      },
      "execution_count": null,
      "outputs": [
        {
          "output_type": "execute_result",
          "data": {
            "text/plain": [
              "[<matplotlib.lines.Line2D at 0x77fe750fbca0>]"
            ]
          },
          "metadata": {},
          "execution_count": 41
        },
        {
          "output_type": "display_data",
          "data": {
            "text/plain": [
              "<Figure size 640x480 with 1 Axes>"
            ],
            "image/png": "[encoded data removed]"
          },
          "metadata": {}
        }
      ]
    },
    {
      "cell_type": "markdown",
      "source": [
        "Training and Validation for peach"
      ],
      "metadata": {
        "id": "a8bCEOiFK5QF"
      }
    },
    {
      "cell_type": "code",
      "source": [
        "data_dir = r\"/tmp/DS MINI PROJECT DATASET(BALANCEDANDIMBALANCED)\"\n",
        "train_peach_dir = data_dir + \"/Training/Peach\"\n",
        "valid_peach_dir = data_dir + \"/Testing/Peach\"\n",
        "diseases = os.listdir('/tmp/DS MINI PROJECT DATASET(BALANCEDANDIMBALANCED)/Training/')\n",
        "#healthe = os.listdir('/tmp/Dataset alpha/Training/healthy')"
      ],
      "metadata": {
        "id": "cGuZRGO1wGu7"
      },
      "execution_count": null,
      "outputs": []
    },
    {
      "cell_type": "code",
      "source": [
        "train_healthy_peach_dir = '/tmp/DS MINI PROJECT DATASET(BALANCEDANDIMBALANCED)/Training/Peach/Peach___healthy'\n",
        "train_disease_peach_dir = '/tmp/DS MINI PROJECT DATASET(BALANCEDANDIMBALANCED)/Training/Peach/Peach___Bacterial_spot'\n",
        "\n",
        "valid_healthy_peach_dir = '/tmp/DS MINI PROJECT DATASET(BALANCEDANDIMBALANCED)/Testing/Peach/Peach___healthy'\n",
        "valid_disease_peach_dir = '/tmp/DS MINI PROJECT DATASET(BALANCEDANDIMBALANCED)/Testing/Peach/Peach___Bacterial_spot'"
      ],
      "metadata": {
        "id": "rywTSy3TxKhR"
      },
      "execution_count": null,
      "outputs": []
    },
    {
      "cell_type": "code",
      "source": [
        "%%time\n",
        "from tensorflow.keras.preprocessing.image import ImageDataGenerator\n",
        "datagen = ImageDataGenerator(featurewise_center=True)\n",
        "datagen.mean = [123.68, 116.779, 103.939]\n",
        "train_it = datagen.flow_from_directory(batch_size = 32,\n",
        "                                                     directory = train_peach_dir,\n",
        "                                                     shuffle= True,\n",
        "                                                     target_size = (128 , 128),\n",
        "                                                    class_mode  = \"categorical\")\n",
        "\n",
        "valid_it = datagen.flow_from_directory(batch_size = 32,\n",
        "                                                     directory = valid_peach_dir,\n",
        "                                                     shuffle= True,\n",
        "                                                     target_size = (128, 128),\n",
        "                                                    class_mode  = \"categorical\")"
      ],
      "metadata": {
        "colab": {
          "base_uri": "https://localhost:8080/"
        },
        "id": "0npMBSAdzm6Q",
        "outputId": "2fac1d2f-2d50-44e2-9dbc-c2bb948201cb"
      },
      "execution_count": null,
      "outputs": [
        {
          "output_type": "stream",
          "name": "stdout",
          "text": [
            "Found 3566 images belonging to 2 classes.\n",
            "Found 891 images belonging to 2 classes.\n",
            "CPU times: user 69.2 ms, sys: 6.79 ms, total: 76 ms\n",
            "Wall time: 80.2 ms\n"
          ]
        }
      ]
    },
    {
      "cell_type": "code",
      "source": [
        "target_names=train_it.class_indices\n",
        "print(target_names);print()\n",
        "print('len(target_names)= ',len(target_names))"
      ],
      "metadata": {
        "colab": {
          "base_uri": "https://localhost:8080/"
        },
        "id": "aaKxv3qe0teJ",
        "outputId": "1245c181-1d8c-47e9-9db7-bc9edef0d86b"
      },
      "execution_count": null,
      "outputs": [
        {
          "output_type": "stream",
          "name": "stdout",
          "text": [
            "{'Peach___Bacterial_spot': 0, 'Peach___healthy': 1}\n",
            "\n",
            "len(target_names)=  2\n"
          ]
        }
      ]
    },
    {
      "cell_type": "code",
      "source": [
        "# VGG16 with flatten layer\n",
        "# Accuracy = 99.55 with 6 units\n",
        "from keras.applications.vgg16 import VGG16\n",
        "from keras.models import Model\n",
        "def define_model():\n",
        "    # load model\n",
        "    model_peach = VGG16(include_top=False, input_shape=(128, 128, 3))\n",
        "    # mark loaded layers as not trainable\n",
        "    for layer in model_peach.layers:\n",
        "        layer.trainable = False\n",
        "    # add new classifier layers\n",
        "    flat1 = Flatten()(model_peach.layers[-1].output)\n",
        "    class1 = Dense(6, activation='relu', kernel_initializer='he_uniform')(flat1)\n",
        "    output = Dense(2, activation='softmax')(class1)\n",
        "    # define new model\n",
        "    model_peach = Model(inputs=model_peach.inputs, outputs=output)\n",
        "    return model_peach"
      ],
      "metadata": {
        "id": "KaLUASWI1DF4"
      },
      "execution_count": null,
      "outputs": []
    },
    {
      "cell_type": "code",
      "source": [
        "model_peach = define_model()\n",
        "model_peach.compile(optimizer='adam', loss='categorical_crossentropy', metrics=['accuracy'])\n",
        "model_peach.summary()"
      ],
      "metadata": {
        "colab": {
          "base_uri": "https://localhost:8080/"
        },
        "id": "I0K9RqzW1koY",
        "outputId": "d9336c26-e7f7-446a-d3e6-78ca6ea00463"
      },
      "execution_count": null,
      "outputs": [
        {
          "output_type": "stream",
          "name": "stdout",
          "text": [
            "Downloading data from https://storage.googleapis.com/tensorflow/keras-applications/vgg16/vgg16_weights_tf_dim_ordering_tf_kernels_notop.h5\n",
            "58889256/58889256 [==============================] - 0s 0us/step\n",
            "Model: \"model_1\"\n",
            "_________________________________________________________________\n",
            " Layer (type)                Output Shape              Param #   \n",
            "=================================================================\n",
            " input_1 (InputLayer)        [(None, 128, 128, 3)]     0         \n",
            "                                                                 \n",
            " block1_conv1 (Conv2D)       (None, 128, 128, 64)      1792      \n",
            "                                                                 \n",
            " block1_conv2 (Conv2D)       (None, 128, 128, 64)      36928     \n",
            "                                                                 \n",
            " block1_pool (MaxPooling2D)  (None, 64, 64, 64)        0         \n",
            "                                                                 \n",
            " block2_conv1 (Conv2D)       (None, 64, 64, 128)       73856     \n",
            "                                                                 \n",
            " block2_conv2 (Conv2D)       (None, 64, 64, 128)       147584    \n",
            "                                                                 \n",
            " block2_pool (MaxPooling2D)  (None, 32, 32, 128)       0         \n",
            "                                                                 \n",
            " block3_conv1 (Conv2D)       (None, 32, 32, 256)       295168    \n",
            "                                                                 \n",
            " block3_conv2 (Conv2D)       (None, 32, 32, 256)       590080    \n",
            "                                                                 \n",
            " block3_conv3 (Conv2D)       (None, 32, 32, 256)       590080    \n",
            "                                                                 \n",
            " block3_pool (MaxPooling2D)  (None, 16, 16, 256)       0         \n",
            "                                                                 \n",
            " block4_conv1 (Conv2D)       (None, 16, 16, 512)       1180160   \n",
            "                                                                 \n",
            " block4_conv2 (Conv2D)       (None, 16, 16, 512)       2359808   \n",
            "                                                                 \n",
            " block4_conv3 (Conv2D)       (None, 16, 16, 512)       2359808   \n",
            "                                                                 \n",
            " block4_pool (MaxPooling2D)  (None, 8, 8, 512)         0         \n",
            "                                                                 \n",
            " block5_conv1 (Conv2D)       (None, 8, 8, 512)         2359808   \n",
            "                                                                 \n",
            " block5_conv2 (Conv2D)       (None, 8, 8, 512)         2359808   \n",
            "                                                                 \n",
            " block5_conv3 (Conv2D)       (None, 8, 8, 512)         2359808   \n",
            "                                                                 \n",
            " block5_pool (MaxPooling2D)  (None, 4, 4, 512)         0         \n",
            "                                                                 \n",
            " flatten_1 (Flatten)         (None, 8192)              0         \n",
            "                                                                 \n",
            " dense_2 (Dense)             (None, 6)                 49158     \n",
            "                                                                 \n",
            " dense_3 (Dense)             (None, 2)                 14        \n",
            "                                                                 \n",
            "=================================================================\n",
            "Total params: 14763860 (56.32 MB)\n",
            "Trainable params: 49172 (192.08 KB)\n",
            "Non-trainable params: 14714688 (56.13 MB)\n",
            "_________________________________________________________________\n"
          ]
        }
      ]
    },
    {
      "cell_type": "code",
      "source": [
        "%%time\n",
        "epochsteps=len(train_it);epochs =10;valsteps=len(valid_it)\n",
        "# fit model\n",
        "history = model_peach.fit(train_it, steps_per_epoch=epochsteps,\n",
        "                    validation_data=valid_it, validation_steps=valsteps, epochs=10, verbose=1)\n",
        "_, acc = model_peach.evaluate(valid_it, steps=75, verbose=1)\n",
        "print('accuracy',acc * 100.0)"
      ],
      "metadata": {
        "colab": {
          "base_uri": "https://localhost:8080/"
        },
        "id": "v6Fxp4hQ1l7x",
        "outputId": "5142f481-5f60-49f3-cbf2-61432ef1bb36"
      },
      "execution_count": null,
      "outputs": [
        {
          "output_type": "stream",
          "name": "stdout",
          "text": [
            "Epoch 1/10\n",
            "112/112 [==============================] - 21s 91ms/step - loss: 0.1958 - accuracy: 0.9361 - val_loss: 0.0474 - val_accuracy: 0.9832\n",
            "Epoch 2/10\n",
            "112/112 [==============================] - 8s 70ms/step - loss: 0.0178 - accuracy: 0.9952 - val_loss: 0.0469 - val_accuracy: 0.9843\n",
            "Epoch 3/10\n",
            "112/112 [==============================] - 9s 76ms/step - loss: 0.0050 - accuracy: 0.9997 - val_loss: 0.0343 - val_accuracy: 0.9921\n",
            "Epoch 4/10\n",
            "112/112 [==============================] - 7s 66ms/step - loss: 0.0018 - accuracy: 0.9997 - val_loss: 0.0286 - val_accuracy: 0.9944\n",
            "Epoch 5/10\n",
            "112/112 [==============================] - 8s 73ms/step - loss: 8.5297e-04 - accuracy: 0.9997 - val_loss: 0.0299 - val_accuracy: 0.9955\n",
            "Epoch 6/10\n",
            "112/112 [==============================] - 9s 78ms/step - loss: 6.3405e-04 - accuracy: 0.9997 - val_loss: 0.0314 - val_accuracy: 0.9955\n",
            "Epoch 7/10\n",
            "112/112 [==============================] - 7s 66ms/step - loss: 5.1008e-04 - accuracy: 0.9997 - val_loss: 0.0312 - val_accuracy: 0.9955\n",
            "Epoch 8/10\n",
            "112/112 [==============================] - 8s 70ms/step - loss: 4.3877e-04 - accuracy: 0.9997 - val_loss: 0.0312 - val_accuracy: 0.9955\n",
            "Epoch 9/10\n",
            "112/112 [==============================] - 8s 76ms/step - loss: 3.8786e-04 - accuracy: 0.9997 - val_loss: 0.0322 - val_accuracy: 0.9955\n",
            "Epoch 10/10\n",
            "112/112 [==============================] - 7s 66ms/step - loss: 3.5360e-04 - accuracy: 0.9997 - val_loss: 0.0326 - val_accuracy: 0.9955\n",
            "27/75 [=========>....................] - ETA: 2s - loss: 0.0316 - accuracy: 0.9965"
          ]
        },
        {
          "output_type": "stream",
          "name": "stderr",
          "text": [
            "WARNING:tensorflow:Your input ran out of data; interrupting training. Make sure that your dataset or generator can generate at least `steps_per_epoch * epochs` batches (in this case, 75 batches). You may need to use the repeat() function when building your dataset.\n"
          ]
        },
        {
          "output_type": "stream",
          "name": "stdout",
          "text": [
            "\b\b\b\b\b\b\b\b\b\b\b\b\b\b\b\b\b\b\b\b\b\b\b\b\b\b\b\b\b\b\b\b\b\b\b\b\b\b\b\b\b\b\b\b\b\b\b\b\b\b\b\b\b\b\b\b\b\b\b\b\b\b\b\b\b\b\b\b\b\b\b\b\b\b\b\b\b\b\b\b\b\b\r75/75 [==============================] - 2s 20ms/step - loss: 0.0326 - accuracy: 0.9955\n",
            "accuracy 99.55106377601624\n",
            "CPU times: user 1min 30s, sys: 5.06 s, total: 1min 35s\n",
            "Wall time: 1min 34s\n"
          ]
        }
      ]
    },
    {
      "cell_type": "code",
      "source": [
        "plt.plot(history.history['val_loss'], color = 'orange')\n",
        "plt.plot(history.history['loss'], color='red')\n",
        "plt.plot(history.history['accuracy'], color = 'green')"
      ],
      "metadata": {
        "colab": {
          "base_uri": "https://localhost:8080/",
          "height": 447
        },
        "id": "mdT39UMt4cos",
        "outputId": "eb77bf4a-87a5-4cd6-ab67-ee9efa2f9e2e"
      },
      "execution_count": null,
      "outputs": [
        {
          "output_type": "execute_result",
          "data": {
            "text/plain": [
              "[<matplotlib.lines.Line2D at 0x7c25fc2ce890>]"
            ]
          },
          "metadata": {},
          "execution_count": 30
        },
        {
          "output_type": "display_data",
          "data": {
            "text/plain": [
              "<Figure size 640x480 with 1 Axes>"
            ],
            "image/png": "[encoded data removed]"
          },
          "metadata": {}
        }
      ]
    },
    {
      "cell_type": "code",
      "source": [
        "#VGG16 with average pooling layer\n",
        "#accuray = 98.76\n",
        "from keras.layers.pooling.global_average_pooling2d import GlobalAveragePooling2D\n",
        "from keras.applications.vgg16 import VGG16\n",
        "from keras.models import Model\n",
        "def define_peachmodelavg():\n",
        "    # load model\n",
        "    model_p = VGG16(include_top=False, input_shape=(128, 128, 3))\n",
        "    # mark loaded layers as not trainable\n",
        "    for layer in model_p.layers:\n",
        "        layer.trainable = False\n",
        "    # add new classifier layers\n",
        "    #flat1 = Flatten()(model.layers[-1].output)\n",
        "    avgpool1=GlobalAveragePooling2D()(model_p.layers[-1].output)\n",
        "    #flat1 = Flatten()(avgpool1)\n",
        "\n",
        "    class1 = Dense(8, activation='relu', kernel_initializer='he_uniform')(avgpool1)\n",
        "    output = Dense(2, activation='softmax')(class1)\n",
        "    # define new model\n",
        "    model_p = Model(inputs=model_p.inputs, outputs=output)\n",
        "    return model_p"
      ],
      "metadata": {
        "id": "wJEZXxa_xlBk",
        "colab": {
          "base_uri": "https://localhost:8080/",
          "height": 384
        },
        "outputId": "06f40a0e-3f18-429e-8ec2-b5f8531ce519"
      },
      "execution_count": null,
      "outputs": [
        {
          "output_type": "error",
          "ename": "ModuleNotFoundError",
          "evalue": "ignored",
          "traceback": [
            "\u001b[0;31m---------------------------------------------------------------------------\u001b[0m",
            "\u001b[0;31mModuleNotFoundError\u001b[0m                       Traceback (most recent call last)",
            "\u001b[0;32m<ipython-input-36-67dde666f446>\u001b[0m in \u001b[0;36m<cell line: 3>\u001b[0;34m()\u001b[0m\n\u001b[1;32m      1\u001b[0m \u001b[0;31m#VGG16 with average pooling layer\u001b[0m\u001b[0;34m\u001b[0m\u001b[0;34m\u001b[0m\u001b[0m\n\u001b[1;32m      2\u001b[0m \u001b[0;31m#accuray = 98.76\u001b[0m\u001b[0;34m\u001b[0m\u001b[0;34m\u001b[0m\u001b[0m\n\u001b[0;32m----> 3\u001b[0;31m \u001b[0;32mfrom\u001b[0m \u001b[0mkeras\u001b[0m\u001b[0;34m.\u001b[0m\u001b[0mlayers\u001b[0m\u001b[0;34m.\u001b[0m\u001b[0mpooling\u001b[0m\u001b[0;34m.\u001b[0m\u001b[0mglobal_average_pooling2d\u001b[0m \u001b[0;32mimport\u001b[0m \u001b[0mGlobalAveragePooling2D\u001b[0m\u001b[0;34m\u001b[0m\u001b[0;34m\u001b[0m\u001b[0m\n\u001b[0m\u001b[1;32m      4\u001b[0m \u001b[0;32mfrom\u001b[0m \u001b[0mkeras\u001b[0m\u001b[0;34m.\u001b[0m\u001b[0mapplications\u001b[0m\u001b[0;34m.\u001b[0m\u001b[0mvgg16\u001b[0m \u001b[0;32mimport\u001b[0m \u001b[0mVGG16\u001b[0m\u001b[0;34m\u001b[0m\u001b[0;34m\u001b[0m\u001b[0m\n\u001b[1;32m      5\u001b[0m \u001b[0;32mfrom\u001b[0m \u001b[0mkeras\u001b[0m\u001b[0;34m.\u001b[0m\u001b[0mmodels\u001b[0m \u001b[0;32mimport\u001b[0m \u001b[0mModel\u001b[0m\u001b[0;34m\u001b[0m\u001b[0;34m\u001b[0m\u001b[0m\n",
            "\u001b[0;31mModuleNotFoundError\u001b[0m: No module named 'keras.layers.pooling'",
            "",
            "\u001b[0;31m---------------------------------------------------------------------------\u001b[0;32m\nNOTE: If your import is failing due to a missing package, you can\nmanually install dependencies using either !pip or !apt.\n\nTo view examples of installing some common dependencies, click the\n\"Open Examples\" button below.\n\u001b[0;31m---------------------------------------------------------------------------\u001b[0m\n"
          ],
          "errorDetails": {
            "actions": [
              {
                "action": "open_url",
                "actionText": "Open Examples",
                "url": "/notebooks/snippets/importing_libraries.ipynb"
              }
            ]
          }
        }
      ]
    },
    {
      "cell_type": "code",
      "source": [
        "modelavg_p = define_peachmodelavg()\n",
        "modelavg_p.compile(optimizer='adam', loss='categorical_crossentropy', metrics=['accuracy'])\n",
        "modelavg_p.summary()"
      ],
      "metadata": {
        "colab": {
          "base_uri": "https://localhost:8080/"
        },
        "id": "fAv1ahlGypSu",
        "outputId": "a0a24870-de9f-49a6-fd29-c0dd3f4873ea"
      },
      "execution_count": null,
      "outputs": [
        {
          "output_type": "stream",
          "name": "stdout",
          "text": [
            "Model: \"model_3\"\n",
            "_________________________________________________________________\n",
            " Layer (type)                Output Shape              Param #   \n",
            "=================================================================\n",
            " input_5 (InputLayer)        [(None, 128, 128, 3)]     0         \n",
            "                                                                 \n",
            " block1_conv1 (Conv2D)       (None, 128, 128, 64)      1792      \n",
            "                                                                 \n",
            " block1_conv2 (Conv2D)       (None, 128, 128, 64)      36928     \n",
            "                                                                 \n",
            " block1_pool (MaxPooling2D)  (None, 64, 64, 64)        0         \n",
            "                                                                 \n",
            " block2_conv1 (Conv2D)       (None, 64, 64, 128)       73856     \n",
            "                                                                 \n",
            " block2_conv2 (Conv2D)       (None, 64, 64, 128)       147584    \n",
            "                                                                 \n",
            " block2_pool (MaxPooling2D)  (None, 32, 32, 128)       0         \n",
            "                                                                 \n",
            " block3_conv1 (Conv2D)       (None, 32, 32, 256)       295168    \n",
            "                                                                 \n",
            " block3_conv2 (Conv2D)       (None, 32, 32, 256)       590080    \n",
            "                                                                 \n",
            " block3_conv3 (Conv2D)       (None, 32, 32, 256)       590080    \n",
            "                                                                 \n",
            " block3_pool (MaxPooling2D)  (None, 16, 16, 256)       0         \n",
            "                                                                 \n",
            " block4_conv1 (Conv2D)       (None, 16, 16, 512)       1180160   \n",
            "                                                                 \n",
            " block4_conv2 (Conv2D)       (None, 16, 16, 512)       2359808   \n",
            "                                                                 \n",
            " block4_conv3 (Conv2D)       (None, 16, 16, 512)       2359808   \n",
            "                                                                 \n",
            " block4_pool (MaxPooling2D)  (None, 8, 8, 512)         0         \n",
            "                                                                 \n",
            " block5_conv1 (Conv2D)       (None, 8, 8, 512)         2359808   \n",
            "                                                                 \n",
            " block5_conv2 (Conv2D)       (None, 8, 8, 512)         2359808   \n",
            "                                                                 \n",
            " block5_conv3 (Conv2D)       (None, 8, 8, 512)         2359808   \n",
            "                                                                 \n",
            " block5_pool (MaxPooling2D)  (None, 4, 4, 512)         0         \n",
            "                                                                 \n",
            " global_average_pooling2d (G  (None, 512)              0         \n",
            " lobalAveragePooling2D)                                          \n",
            "                                                                 \n",
            " dense_8 (Dense)             (None, 8)                 4104      \n",
            "                                                                 \n",
            " dense_9 (Dense)             (None, 2)                 18        \n",
            "                                                                 \n",
            "=================================================================\n",
            "Total params: 14,718,810\n",
            "Trainable params: 4,122\n",
            "Non-trainable params: 14,714,688\n",
            "_________________________________________________________________\n"
          ]
        }
      ]
    },
    {
      "cell_type": "code",
      "source": [
        "%%time\n",
        "epochsteps=len(train_it);epochs =10;valsteps=len(valid_it)\n",
        "# fit model\n",
        "history = modelavg_p.fit(train_it, steps_per_epoch=epochsteps, validation_data=valid_it, validation_steps=valsteps, epochs=10, verbose=1)\n",
        "_, acc = modelavg_p.evaluate(valid_it, steps=75, verbose=1)\n",
        "print('accuracy',acc * 100.0)"
      ],
      "metadata": {
        "colab": {
          "base_uri": "https://localhost:8080/"
        },
        "id": "3qVRsiEr3OIi",
        "outputId": "91ac7707-77f9-43f1-d1bf-2dcd48c48357"
      },
      "execution_count": null,
      "outputs": [
        {
          "output_type": "stream",
          "name": "stdout",
          "text": [
            "Epoch 1/10\n",
            "112/112 [==============================] - 10s 75ms/step - loss: 0.3153 - accuracy: 0.8716 - val_loss: 0.0833 - val_accuracy: 0.9697\n",
            "Epoch 2/10\n",
            "112/112 [==============================] - 8s 70ms/step - loss: 0.0689 - accuracy: 0.9764 - val_loss: 0.0506 - val_accuracy: 0.9843\n",
            "Epoch 3/10\n",
            "112/112 [==============================] - 9s 77ms/step - loss: 0.0440 - accuracy: 0.9840 - val_loss: 0.0364 - val_accuracy: 0.9888\n",
            "Epoch 4/10\n",
            "112/112 [==============================] - 8s 68ms/step - loss: 0.0324 - accuracy: 0.9896 - val_loss: 0.0363 - val_accuracy: 0.9865\n",
            "Epoch 5/10\n",
            "112/112 [==============================] - 8s 71ms/step - loss: 0.0248 - accuracy: 0.9927 - val_loss: 0.0286 - val_accuracy: 0.9888\n",
            "Epoch 6/10\n",
            "112/112 [==============================] - 8s 73ms/step - loss: 0.0197 - accuracy: 0.9944 - val_loss: 0.0347 - val_accuracy: 0.9843\n",
            "Epoch 7/10\n",
            "112/112 [==============================] - 8s 69ms/step - loss: 0.0153 - accuracy: 0.9958 - val_loss: 0.0292 - val_accuracy: 0.9865\n",
            "Epoch 8/10\n",
            "112/112 [==============================] - 8s 69ms/step - loss: 0.0117 - accuracy: 0.9978 - val_loss: 0.0268 - val_accuracy: 0.9899\n",
            "Epoch 9/10\n",
            "112/112 [==============================] - 9s 83ms/step - loss: 0.0096 - accuracy: 0.9986 - val_loss: 0.0248 - val_accuracy: 0.9877\n",
            "Epoch 10/10\n",
            "112/112 [==============================] - 11s 99ms/step - loss: 0.0088 - accuracy: 0.9992 - val_loss: 0.0234 - val_accuracy: 0.9877\n",
            "27/75 [=========>....................] - ETA: 2s - loss: 0.0241 - accuracy: 0.9873"
          ]
        },
        {
          "output_type": "stream",
          "name": "stderr",
          "text": [
            "WARNING:tensorflow:Your input ran out of data; interrupting training. Make sure that your dataset or generator can generate at least `steps_per_epoch * epochs` batches (in this case, 75 batches). You may need to use the repeat() function when building your dataset.\n"
          ]
        },
        {
          "output_type": "stream",
          "name": "stdout",
          "text": [
            "\b\b\b\b\b\b\b\b\b\b\b\b\b\b\b\b\b\b\b\b\b\b\b\b\b\b\b\b\b\b\b\b\b\b\b\b\b\b\b\b\b\b\b\b\b\b\b\b\b\b\b\b\b\b\b\b\b\b\b\b\b\b\b\b\b\b\b\b\b\b\b\b\b\b\b\b\b\b\b\b\b\b\r75/75 [==============================] - 2s 20ms/step - loss: 0.0234 - accuracy: 0.9877\n",
            "accuracy 98.76543283462524\n",
            "CPU times: user 1min 26s, sys: 4.54 s, total: 1min 30s\n",
            "Wall time: 1min 34s\n"
          ]
        }
      ]
    },
    {
      "cell_type": "code",
      "source": [
        "plt.plot(history.history['val_loss'], color = 'orange')\n",
        "plt.plot(history.history['loss'], color='red')\n",
        "plt.plot(history.history['accuracy'], color = 'green')"
      ],
      "metadata": {
        "colab": {
          "base_uri": "https://localhost:8080/",
          "height": 447
        },
        "id": "-m9gtuxt4n3e",
        "outputId": "6f9ee101-f2c2-4a9e-9352-72623a208f05"
      },
      "execution_count": null,
      "outputs": [
        {
          "output_type": "execute_result",
          "data": {
            "text/plain": [
              "[<matplotlib.lines.Line2D at 0x7c25fc0ddab0>]"
            ]
          },
          "metadata": {},
          "execution_count": 31
        },
        {
          "output_type": "display_data",
          "data": {
            "text/plain": [
              "<Figure size 640x480 with 1 Axes>"
            ],
            "image/png": "[encoded data removed]"
          },
          "metadata": {}
        }
      ]
    },
    {
      "cell_type": "code",
      "source": [
        "# CNN model from scratch\n",
        "#flatten\n",
        "#ACCURACY - 99.66\n",
        "def define_p():\n",
        "  peach = models.Sequential()\n",
        "  peach = Sequential()\n",
        "\n",
        "  peach.add(Conv2D(filters=16,kernel_size=(3,3),padding=\"same\", activation=\"relu\", input_shape=(128,128,3)))\n",
        "  peach.add(MaxPool2D(pool_size=(2,2),strides=(2,2)))\n",
        "\n",
        "  peach.add(Conv2D(filters=32, kernel_size=(3,3), padding=\"same\", activation=\"relu\"))\n",
        "  peach.add(MaxPool2D(pool_size=(2,2),strides=(2,2)))\n",
        "\n",
        "  flat1 = Flatten()(peach.layers[-1].output)\n",
        "  class1 = Dense(8, activation='relu', kernel_initializer='he_uniform')(flat1)\n",
        "  output = Dense(2, activation='softmax')(class1)\n",
        "  peach = Model(inputs=peach.inputs, outputs=output)\n",
        "  return peach"
      ],
      "metadata": {
        "id": "uYBfN2ft4wxP"
      },
      "execution_count": null,
      "outputs": []
    },
    {
      "cell_type": "code",
      "source": [
        "peach = define_p()\n",
        "peach.compile(optimizer='adam', loss='categorical_crossentropy', metrics=['accuracy'])\n",
        "peach.summary()"
      ],
      "metadata": {
        "colab": {
          "base_uri": "https://localhost:8080/"
        },
        "id": "nvWhTJgf5uEN",
        "outputId": "98336ba3-8716-4294-e082-b7e0002160c8"
      },
      "execution_count": null,
      "outputs": [
        {
          "output_type": "stream",
          "name": "stdout",
          "text": [
            "Model: \"model_2\"\n",
            "_________________________________________________________________\n",
            " Layer (type)                Output Shape              Param #   \n",
            "=================================================================\n",
            " conv2d_2_input (InputLayer  [(None, 128, 128, 3)]     0         \n",
            " )                                                               \n",
            "                                                                 \n",
            " conv2d_2 (Conv2D)           (None, 128, 128, 16)      448       \n",
            "                                                                 \n",
            " max_pooling2d_2 (MaxPoolin  (None, 64, 64, 16)        0         \n",
            " g2D)                                                            \n",
            "                                                                 \n",
            " conv2d_3 (Conv2D)           (None, 64, 64, 32)        4640      \n",
            "                                                                 \n",
            " max_pooling2d_3 (MaxPoolin  (None, 32, 32, 32)        0         \n",
            " g2D)                                                            \n",
            "                                                                 \n",
            " flatten_2 (Flatten)         (None, 32768)             0         \n",
            "                                                                 \n",
            " dense_4 (Dense)             (None, 8)                 262152    \n",
            "                                                                 \n",
            " dense_5 (Dense)             (None, 2)                 18        \n",
            "                                                                 \n",
            "=================================================================\n",
            "Total params: 267258 (1.02 MB)\n",
            "Trainable params: 267258 (1.02 MB)\n",
            "Non-trainable params: 0 (0.00 Byte)\n",
            "_________________________________________________________________\n"
          ]
        }
      ]
    },
    {
      "cell_type": "code",
      "source": [
        "epochsteps=len(train_it);epochs =10;valsteps=len(valid_it)\n",
        "# fit model\n",
        "history = peach.fit(train_it, steps_per_epoch=epochsteps,\n",
        "                    validation_data=valid_it, validation_steps=valsteps, epochs=10, verbose=1)\n",
        "_, acc = peach.evaluate(valid_it, steps=valsteps, verbose=1)\n",
        "print('accuracy',acc * 100.0)"
      ],
      "metadata": {
        "colab": {
          "base_uri": "https://localhost:8080/"
        },
        "id": "ENdS_iSF6JcR",
        "outputId": "bdcccb18-72b9-4fe5-ee58-377b148ddb00"
      },
      "execution_count": null,
      "outputs": [
        {
          "output_type": "stream",
          "name": "stdout",
          "text": [
            "Epoch 1/10\n",
            "112/112 [==============================] - 10s 63ms/step - loss: 1.0454 - accuracy: 0.7919 - val_loss: 0.1564 - val_accuracy: 0.9551\n",
            "Epoch 2/10\n",
            "112/112 [==============================] - 6s 52ms/step - loss: 0.1454 - accuracy: 0.9801 - val_loss: 0.0964 - val_accuracy: 0.9776\n",
            "Epoch 3/10\n",
            "112/112 [==============================] - 7s 61ms/step - loss: 0.0628 - accuracy: 0.9882 - val_loss: 0.0274 - val_accuracy: 0.9899\n",
            "Epoch 4/10\n",
            "112/112 [==============================] - 6s 53ms/step - loss: 0.0239 - accuracy: 0.9921 - val_loss: 0.0425 - val_accuracy: 0.9888\n",
            "Epoch 5/10\n",
            "112/112 [==============================] - 7s 58ms/step - loss: 0.0255 - accuracy: 0.9950 - val_loss: 0.0113 - val_accuracy: 0.9955\n",
            "Epoch 6/10\n",
            "112/112 [==============================] - 6s 52ms/step - loss: 0.0217 - accuracy: 0.9961 - val_loss: 0.0099 - val_accuracy: 0.9955\n",
            "Epoch 7/10\n",
            "112/112 [==============================] - 7s 59ms/step - loss: 0.0050 - accuracy: 0.9989 - val_loss: 0.0236 - val_accuracy: 0.9921\n",
            "Epoch 8/10\n",
            "112/112 [==============================] - 6s 53ms/step - loss: 0.0068 - accuracy: 0.9983 - val_loss: 0.0123 - val_accuracy: 0.9966\n",
            "Epoch 9/10\n",
            "112/112 [==============================] - 6s 52ms/step - loss: 0.0473 - accuracy: 0.9829 - val_loss: 0.0445 - val_accuracy: 0.9865\n",
            "Epoch 10/10\n",
            "112/112 [==============================] - 7s 61ms/step - loss: 0.0095 - accuracy: 0.9972 - val_loss: 0.0121 - val_accuracy: 0.9966\n",
            "28/28 [==============================] - 1s 40ms/step - loss: 0.0121 - accuracy: 0.9966\n",
            "accuracy 99.6632993221283\n"
          ]
        }
      ]
    },
    {
      "cell_type": "code",
      "source": [
        "plt.plot(history.history['val_loss'], color = 'orange')\n",
        "plt.plot(history.history['loss'], color='red')\n",
        "plt.plot(history.history['accuracy'], color = 'green')"
      ],
      "metadata": {
        "colab": {
          "base_uri": "https://localhost:8080/",
          "height": 447
        },
        "id": "KbgnRYjp7fti",
        "outputId": "4436041a-9018-4c4c-d54f-13a8c7f064bd"
      },
      "execution_count": null,
      "outputs": [
        {
          "output_type": "execute_result",
          "data": {
            "text/plain": [
              "[<matplotlib.lines.Line2D at 0x7f2ef0d14ee0>]"
            ]
          },
          "metadata": {},
          "execution_count": 24
        },
        {
          "output_type": "display_data",
          "data": {
            "text/plain": [
              "<Figure size 640x480 with 1 Axes>"
            ],
            "image/png": "[encoded data removed]"
          },
          "metadata": {}
        }
      ]
    },
    {
      "cell_type": "code",
      "source": [
        "#average pooling\n",
        "#accuracy = 99.32\n",
        "from keras.layers.pooling.global_average_pooling2d import GlobalAveragePooling2D\n",
        "\n",
        "def define_p_a():\n",
        "  peach_a = models.Sequential()\n",
        "  peach_a = Sequential()\n",
        "\n",
        "  peach_a.add(Conv2D(filters=16,kernel_size=(3,3),padding=\"same\", activation=\"relu\", input_shape=(128,128,3)))\n",
        "  peach_a.add(MaxPool2D(pool_size=(2,2),strides=(2,2)))\n",
        "\n",
        "  peach_a.add(Conv2D(filters=32, kernel_size=(3,3), padding=\"same\", activation=\"relu\"))\n",
        "  peach_a.add(MaxPool2D(pool_size=(2,2),strides=(2,2)))\n",
        "\n",
        "\n",
        "  avg1 = GlobalAveragePooling2D()(peach_a.layers[-1].output)\n",
        "  class1 = Dense(16, activation='relu', kernel_initializer='he_uniform')(avg1)\n",
        "  output = Dense(2, activation='softmax')(class1)\n",
        "  peach_a = Model(inputs=peach_a.inputs, outputs=output)\n",
        "  return peach_a"
      ],
      "metadata": {
        "id": "_hm8GOi5UHGv"
      },
      "execution_count": null,
      "outputs": []
    },
    {
      "cell_type": "code",
      "source": [
        "peach_a = define_p_a()\n",
        "peach_a.compile(optimizer='adam', loss='categorical_crossentropy', metrics=['accuracy'])\n",
        "peach_a.summary()"
      ],
      "metadata": {
        "colab": {
          "base_uri": "https://localhost:8080/"
        },
        "id": "Bfv7hD1Y8fEm",
        "outputId": "0ce88f4a-56c2-400d-85ab-1d5e4b0088a0"
      },
      "execution_count": null,
      "outputs": [
        {
          "output_type": "stream",
          "name": "stdout",
          "text": [
            "Model: \"model_5\"\n",
            "_________________________________________________________________\n",
            " Layer (type)                Output Shape              Param #   \n",
            "=================================================================\n",
            " conv2d_6_input (InputLayer)  [(None, 128, 128, 3)]    0         \n",
            "                                                                 \n",
            " conv2d_6 (Conv2D)           (None, 128, 128, 16)      448       \n",
            "                                                                 \n",
            " max_pooling2d_6 (MaxPooling  (None, 64, 64, 16)       0         \n",
            " 2D)                                                             \n",
            "                                                                 \n",
            " conv2d_7 (Conv2D)           (None, 64, 64, 32)        4640      \n",
            "                                                                 \n",
            " max_pooling2d_7 (MaxPooling  (None, 32, 32, 32)       0         \n",
            " 2D)                                                             \n",
            "                                                                 \n",
            " global_average_pooling2d_2   (None, 32)               0         \n",
            " (GlobalAveragePooling2D)                                        \n",
            "                                                                 \n",
            " dense_14 (Dense)            (None, 16)                528       \n",
            "                                                                 \n",
            " dense_15 (Dense)            (None, 2)                 34        \n",
            "                                                                 \n",
            "=================================================================\n",
            "Total params: 5,650\n",
            "Trainable params: 5,650\n",
            "Non-trainable params: 0\n",
            "_________________________________________________________________\n"
          ]
        }
      ]
    },
    {
      "cell_type": "code",
      "source": [
        "epochsteps=len(train_it);epochs =10;valsteps=len(valid_it)\n",
        "# fit model\n",
        "history = peach_a.fit(train_it, steps_per_epoch=epochsteps,\n",
        "                    validation_data=valid_it, validation_steps=valsteps, epochs=10, verbose=1)\n",
        "_, acc = peach_a.evaluate(valid_it, steps=valsteps, verbose=1)\n",
        "print('accuracy',acc * 100.0)"
      ],
      "metadata": {
        "colab": {
          "base_uri": "https://localhost:8080/"
        },
        "id": "ONpRxCYq8zEL",
        "outputId": "fbbdd481-161e-4c7f-abcc-326f9646058f"
      },
      "execution_count": null,
      "outputs": [
        {
          "output_type": "stream",
          "name": "stdout",
          "text": [
            "Epoch 1/10\n",
            "112/112 [==============================] - 8s 58ms/step - loss: 0.3331 - accuracy: 0.9260 - val_loss: 0.0776 - val_accuracy: 0.9675\n",
            "Epoch 2/10\n",
            "112/112 [==============================] - 7s 59ms/step - loss: 0.0638 - accuracy: 0.9790 - val_loss: 0.0525 - val_accuracy: 0.9787\n",
            "Epoch 3/10\n",
            "112/112 [==============================] - 7s 63ms/step - loss: 0.0586 - accuracy: 0.9770 - val_loss: 0.0327 - val_accuracy: 0.9888\n",
            "Epoch 4/10\n",
            "112/112 [==============================] - 7s 62ms/step - loss: 0.0486 - accuracy: 0.9832 - val_loss: 0.0228 - val_accuracy: 0.9910\n",
            "Epoch 5/10\n",
            "112/112 [==============================] - 7s 62ms/step - loss: 0.0443 - accuracy: 0.9843 - val_loss: 0.1029 - val_accuracy: 0.9641\n",
            "Epoch 6/10\n",
            "112/112 [==============================] - 7s 64ms/step - loss: 0.0536 - accuracy: 0.9823 - val_loss: 0.0326 - val_accuracy: 0.9888\n",
            "Epoch 7/10\n",
            "112/112 [==============================] - 6s 56ms/step - loss: 0.0369 - accuracy: 0.9879 - val_loss: 0.0277 - val_accuracy: 0.9888\n",
            "Epoch 8/10\n",
            "112/112 [==============================] - 6s 57ms/step - loss: 0.1005 - accuracy: 0.9706 - val_loss: 0.0654 - val_accuracy: 0.9809\n",
            "Epoch 9/10\n",
            "112/112 [==============================] - 7s 58ms/step - loss: 0.0526 - accuracy: 0.9863 - val_loss: 0.0461 - val_accuracy: 0.9877\n",
            "Epoch 10/10\n",
            "112/112 [==============================] - 7s 62ms/step - loss: 0.0613 - accuracy: 0.9821 - val_loss: 0.0299 - val_accuracy: 0.9933\n",
            "28/28 [==============================] - 1s 42ms/step - loss: 0.0299 - accuracy: 0.9933\n",
            "accuracy 99.32659864425659\n"
          ]
        }
      ]
    },
    {
      "cell_type": "code",
      "source": [
        "plt.plot(history.history['val_loss'], color = 'orange')\n",
        "plt.plot(history.history['loss'], color='red')\n",
        "plt.plot(history.history['accuracy'], color = 'green')"
      ],
      "metadata": {
        "colab": {
          "base_uri": "https://localhost:8080/",
          "height": 447
        },
        "id": "BK7RWXJW9kJR",
        "outputId": "b769c910-a3e2-471a-a9f8-149eca2662fc"
      },
      "execution_count": null,
      "outputs": [
        {
          "output_type": "execute_result",
          "data": {
            "text/plain": [
              "[<matplotlib.lines.Line2D at 0x7c25eaee8760>]"
            ]
          },
          "metadata": {},
          "execution_count": 43
        },
        {
          "output_type": "display_data",
          "data": {
            "text/plain": [
              "<Figure size 640x480 with 1 Axes>"
            ],
            "image/png": "[encoded data removed]"
          },
          "metadata": {}
        }
      ]
    },
    {
      "cell_type": "markdown",
      "source": [
        "# **Bell Pepper**"
      ],
      "metadata": {
        "id": "nt94k-lF8lzU"
      }
    },
    {
      "cell_type": "code",
      "source": [
        "data_dir = r\"/tmp/DS MINI PROJECT DATASET(BALANCED)\"\n",
        "train_bp_dir = data_dir + \"/Training/Bell Pepper\"\n",
        "test_bp_dir = data_dir + \"/Testing/Bell Pepper\"\n",
        "diseases = os.listdir('/tmp/DS MINI PROJECT DATASET(BALANCED)/Training/')\n",
        "#healthe = os.listdir('/tmp/Dataset alpha/Training/healthy')"
      ],
      "metadata": {
        "id": "u93G8zni8pOJ"
      },
      "execution_count": null,
      "outputs": []
    },
    {
      "cell_type": "code",
      "source": [
        "train_healthy_bp_dir = train_bp_dir + '/Pepper,_bell___healthy'\n",
        "train_disease_bp_dir = train_bp_dir + '/Pepper,_bell___Bacterial_spot'\n",
        "\n",
        "valid_healthy_bp_dir = test_bp_dir + '/Pepper,_bell___healthy'\n",
        "valid_disease_bp_dir = test_bp_dir + '/Pepper,_bell___Bacterial_spot'"
      ],
      "metadata": {
        "id": "DMxbK5qpBt3h"
      },
      "execution_count": null,
      "outputs": []
    },
    {
      "cell_type": "code",
      "source": [
        "from tensorflow.keras.preprocessing.image import ImageDataGenerator\n",
        "datagen = ImageDataGenerator(featurewise_center=True)\n",
        "datagen.mean = [123.68, 116.779, 103.939]\n",
        "train_it = datagen.flow_from_directory(\n",
        "                                        batch_size = 32,\n",
        "                                        directory = train_bp_dir,\n",
        "                                        shuffle= True,\n",
        "                                        target_size = (128 , 128),\n",
        "                                        class_mode  = \"categorical\"\n",
        "                                        )\n",
        "\n",
        "valid_it = datagen.flow_from_directory(\n",
        "                                        batch_size = 32,\n",
        "                                        directory = test_bp_dir,\n",
        "                                        shuffle= True,\n",
        "                                        target_size = (128, 128),\n",
        "                                        class_mode  = \"categorical\"\n",
        "                                        )"
      ],
      "metadata": {
        "colab": {
          "base_uri": "https://localhost:8080/"
        },
        "id": "ViiTNiUhcBA9",
        "outputId": "fe068f7b-f452-46be-8542-ac1ee469f14b"
      },
      "execution_count": null,
      "outputs": [
        {
          "output_type": "stream",
          "name": "stdout",
          "text": [
            "Found 3901 images belonging to 2 classes.\n",
            "Found 975 images belonging to 2 classes.\n"
          ]
        }
      ]
    },
    {
      "cell_type": "markdown",
      "source": [
        "vgg16 model"
      ],
      "metadata": {
        "id": "PMhGOd8UCW2u"
      }
    },
    {
      "cell_type": "code",
      "source": [
        "#flatten\n",
        "#accidentally ran with strawberry dataset and optimized for that :)\n",
        "####gives 100% accuracy on strawberry (just tweeked the first dense layer units between 5-8 to get optimal accuracy)\n",
        "\n",
        "from keras.applications.vgg16 import VGG16\n",
        "from keras.models import Model\n",
        "def define_modelflatten():\n",
        "    # load model\n",
        "    model_strawberry = VGG16(include_top=False, input_shape=(128, 128, 3))\n",
        "    # mark loaded layers as not trainable\n",
        "    for layer in model_strawberry.layers:\n",
        "        layer.trainable = False\n",
        "    # add new classifier layers\n",
        "    flat1 = Flatten()(model_strawberry.layers[-1].output)\n",
        "    class1 = Dense(8, activation='relu', kernel_initializer='he_uniform')(flat1)\n",
        "    output = Dense(2, activation='softmax')(class1)\n",
        "    # define new model\n",
        "    model_strawberry = Model(inputs=model_strawberry.inputs, outputs=output)\n",
        "    return model_strawberry\n",
        "\n",
        "model_strawberry = define_modelflatten()\n",
        "model_strawberry.compile(optimizer='adam', loss='categorical_crossentropy', metrics=['accuracy'])\n",
        "model_strawberry.summary()\n",
        "\n",
        "epochsteps=len(train_it);epochs=10;valsteps=len(valid_it)\n",
        "# fit model\n",
        "history = model_strawberry.fit(train_it, steps_per_epoch=epochsteps,\n",
        "                    validation_data=valid_it, validation_steps=valsteps, epochs=10, verbose=1)\n",
        "_, acc = model_strawberry.evaluate(valid_it, steps=valsteps, verbose=1)\n",
        "print('accuracy',acc * 100.0)"
      ],
      "metadata": {
        "id": "l5kgAAmECOZ9",
        "colab": {
          "base_uri": "https://localhost:8080/"
        },
        "outputId": "5d38523f-6c33-473c-e303-60bde5f823ac"
      },
      "execution_count": null,
      "outputs": [
        {
          "output_type": "stream",
          "name": "stdout",
          "text": [
            "Model: \"model_4\"\n",
            "_________________________________________________________________\n",
            " Layer (type)                Output Shape              Param #   \n",
            "=================================================================\n",
            " input_5 (InputLayer)        [(None, 128, 128, 3)]     0         \n",
            "                                                                 \n",
            " block1_conv1 (Conv2D)       (None, 128, 128, 64)      1792      \n",
            "                                                                 \n",
            " block1_conv2 (Conv2D)       (None, 128, 128, 64)      36928     \n",
            "                                                                 \n",
            " block1_pool (MaxPooling2D)  (None, 64, 64, 64)        0         \n",
            "                                                                 \n",
            " block2_conv1 (Conv2D)       (None, 64, 64, 128)       73856     \n",
            "                                                                 \n",
            " block2_conv2 (Conv2D)       (None, 64, 64, 128)       147584    \n",
            "                                                                 \n",
            " block2_pool (MaxPooling2D)  (None, 32, 32, 128)       0         \n",
            "                                                                 \n",
            " block3_conv1 (Conv2D)       (None, 32, 32, 256)       295168    \n",
            "                                                                 \n",
            " block3_conv2 (Conv2D)       (None, 32, 32, 256)       590080    \n",
            "                                                                 \n",
            " block3_conv3 (Conv2D)       (None, 32, 32, 256)       590080    \n",
            "                                                                 \n",
            " block3_pool (MaxPooling2D)  (None, 16, 16, 256)       0         \n",
            "                                                                 \n",
            " block4_conv1 (Conv2D)       (None, 16, 16, 512)       1180160   \n",
            "                                                                 \n",
            " block4_conv2 (Conv2D)       (None, 16, 16, 512)       2359808   \n",
            "                                                                 \n",
            " block4_conv3 (Conv2D)       (None, 16, 16, 512)       2359808   \n",
            "                                                                 \n",
            " block4_pool (MaxPooling2D)  (None, 8, 8, 512)         0         \n",
            "                                                                 \n",
            " block5_conv1 (Conv2D)       (None, 8, 8, 512)         2359808   \n",
            "                                                                 \n",
            " block5_conv2 (Conv2D)       (None, 8, 8, 512)         2359808   \n",
            "                                                                 \n",
            " block5_conv3 (Conv2D)       (None, 8, 8, 512)         2359808   \n",
            "                                                                 \n",
            " block5_pool (MaxPooling2D)  (None, 4, 4, 512)         0         \n",
            "                                                                 \n",
            " flatten_4 (Flatten)         (None, 8192)              0         \n",
            "                                                                 \n",
            " dense_8 (Dense)             (None, 8)                 65544     \n",
            "                                                                 \n",
            " dense_9 (Dense)             (None, 2)                 18        \n",
            "                                                                 \n",
            "=================================================================\n",
            "Total params: 14,780,250\n",
            "Trainable params: 65,562\n",
            "Non-trainable params: 14,714,688\n",
            "_________________________________________________________________\n",
            "Epoch 1/10\n",
            "113/113 [==============================] - 12s 83ms/step - loss: 0.0853 - accuracy: 0.9736 - val_loss: 0.0184 - val_accuracy: 0.9944\n",
            "Epoch 2/10\n",
            "113/113 [==============================] - 10s 86ms/step - loss: 0.0086 - accuracy: 0.9978 - val_loss: 0.0056 - val_accuracy: 0.9967\n",
            "Epoch 3/10\n",
            "113/113 [==============================] - 10s 86ms/step - loss: 1.7740e-04 - accuracy: 1.0000 - val_loss: 0.0047 - val_accuracy: 0.9967\n",
            "Epoch 4/10\n",
            "113/113 [==============================] - 10s 85ms/step - loss: 4.8950e-05 - accuracy: 1.0000 - val_loss: 0.0017 - val_accuracy: 1.0000\n",
            "Epoch 5/10\n",
            "113/113 [==============================] - 9s 80ms/step - loss: 2.0800e-05 - accuracy: 1.0000 - val_loss: 0.0017 - val_accuracy: 1.0000\n",
            "Epoch 6/10\n",
            "113/113 [==============================] - 9s 81ms/step - loss: 1.7663e-05 - accuracy: 1.0000 - val_loss: 0.0017 - val_accuracy: 1.0000\n",
            "Epoch 7/10\n",
            "113/113 [==============================] - 10s 86ms/step - loss: 1.5472e-05 - accuracy: 1.0000 - val_loss: 0.0017 - val_accuracy: 1.0000\n",
            "Epoch 8/10\n",
            "113/113 [==============================] - 10s 85ms/step - loss: 1.3829e-05 - accuracy: 1.0000 - val_loss: 0.0017 - val_accuracy: 1.0000\n",
            "Epoch 9/10\n",
            "113/113 [==============================] - 9s 79ms/step - loss: 1.2399e-05 - accuracy: 1.0000 - val_loss: 0.0017 - val_accuracy: 1.0000\n",
            "Epoch 10/10\n",
            "113/113 [==============================] - 9s 80ms/step - loss: 1.1199e-05 - accuracy: 1.0000 - val_loss: 0.0017 - val_accuracy: 1.0000\n",
            "29/29 [==============================] - 2s 82ms/step - loss: 0.0017 - accuracy: 1.0000\n",
            "accuracy 100.0\n"
          ]
        }
      ]
    },
    {
      "cell_type": "code",
      "source": [
        "#flatten\n",
        "### tested with 6-10 units with 8 giving the highest accuracy at 97.23\n",
        "\n",
        "from keras.applications.vgg16 import VGG16\n",
        "from keras.models import Model\n",
        "def define_modelflatten():\n",
        "    # load model\n",
        "    model_bp = VGG16(include_top=False, input_shape=(128, 128, 3))\n",
        "    # mark loaded layers as not trainable\n",
        "    for layer in model_bp.layers:\n",
        "        layer.trainable = False\n",
        "    # add new classifier layers\n",
        "    flat1 = Flatten()(model_bp.layers[-1].output)\n",
        "    class1 = Dense(8, activation='relu', kernel_initializer='he_uniform')(flat1)\n",
        "    output = Dense(2, activation='softmax')(class1)\n",
        "    # define new model\n",
        "    model_bp = Model(inputs=model_bp.inputs, outputs=output)\n",
        "    return model_bp"
      ],
      "metadata": {
        "id": "Ab0FswPFn1KP"
      },
      "execution_count": null,
      "outputs": []
    },
    {
      "cell_type": "code",
      "source": [
        "model_bp = define_modelflatten()\n",
        "model_bp.compile(optimizer='adam', loss='categorical_crossentropy', metrics=['accuracy'])\n",
        "model_bp.summary()"
      ],
      "metadata": {
        "colab": {
          "base_uri": "https://localhost:8080/"
        },
        "id": "5Q0yeOtlC2Nk",
        "outputId": "cf2a3d6f-1c85-4263-eb8b-c15f41728c62"
      },
      "execution_count": null,
      "outputs": [
        {
          "output_type": "stream",
          "name": "stdout",
          "text": [
            "Model: \"model_9\"\n",
            "_________________________________________________________________\n",
            " Layer (type)                Output Shape              Param #   \n",
            "=================================================================\n",
            " input_10 (InputLayer)       [(None, 128, 128, 3)]     0         \n",
            "                                                                 \n",
            " block1_conv1 (Conv2D)       (None, 128, 128, 64)      1792      \n",
            "                                                                 \n",
            " block1_conv2 (Conv2D)       (None, 128, 128, 64)      36928     \n",
            "                                                                 \n",
            " block1_pool (MaxPooling2D)  (None, 64, 64, 64)        0         \n",
            "                                                                 \n",
            " block2_conv1 (Conv2D)       (None, 64, 64, 128)       73856     \n",
            "                                                                 \n",
            " block2_conv2 (Conv2D)       (None, 64, 64, 128)       147584    \n",
            "                                                                 \n",
            " block2_pool (MaxPooling2D)  (None, 32, 32, 128)       0         \n",
            "                                                                 \n",
            " block3_conv1 (Conv2D)       (None, 32, 32, 256)       295168    \n",
            "                                                                 \n",
            " block3_conv2 (Conv2D)       (None, 32, 32, 256)       590080    \n",
            "                                                                 \n",
            " block3_conv3 (Conv2D)       (None, 32, 32, 256)       590080    \n",
            "                                                                 \n",
            " block3_pool (MaxPooling2D)  (None, 16, 16, 256)       0         \n",
            "                                                                 \n",
            " block4_conv1 (Conv2D)       (None, 16, 16, 512)       1180160   \n",
            "                                                                 \n",
            " block4_conv2 (Conv2D)       (None, 16, 16, 512)       2359808   \n",
            "                                                                 \n",
            " block4_conv3 (Conv2D)       (None, 16, 16, 512)       2359808   \n",
            "                                                                 \n",
            " block4_pool (MaxPooling2D)  (None, 8, 8, 512)         0         \n",
            "                                                                 \n",
            " block5_conv1 (Conv2D)       (None, 8, 8, 512)         2359808   \n",
            "                                                                 \n",
            " block5_conv2 (Conv2D)       (None, 8, 8, 512)         2359808   \n",
            "                                                                 \n",
            " block5_conv3 (Conv2D)       (None, 8, 8, 512)         2359808   \n",
            "                                                                 \n",
            " block5_pool (MaxPooling2D)  (None, 4, 4, 512)         0         \n",
            "                                                                 \n",
            " flatten_9 (Flatten)         (None, 8192)              0         \n",
            "                                                                 \n",
            " dense_18 (Dense)            (None, 10)                81930     \n",
            "                                                                 \n",
            " dense_19 (Dense)            (None, 2)                 22        \n",
            "                                                                 \n",
            "=================================================================\n",
            "Total params: 14,796,640\n",
            "Trainable params: 81,952\n",
            "Non-trainable params: 14,714,688\n",
            "_________________________________________________________________\n"
          ]
        }
      ]
    },
    {
      "cell_type": "code",
      "source": [
        "epochsteps=len(train_it);epochs=10;valsteps=len(valid_it)\n",
        "# fit model\n",
        "history = model_bp.fit(train_it, steps_per_epoch=epochsteps,\n",
        "                    validation_data=valid_it, validation_steps=valsteps, epochs=10, verbose=1)\n",
        "_, acc = model_bp.evaluate(valid_it, steps=valsteps, verbose=1)\n",
        "print('accuracy',acc * 100.0)"
      ],
      "metadata": {
        "colab": {
          "base_uri": "https://localhost:8080/"
        },
        "id": "P-d4W4aUD-HW",
        "outputId": "81952440-11e5-4a31-ae8e-c9f77a51ce8b"
      },
      "execution_count": null,
      "outputs": [
        {
          "output_type": "stream",
          "name": "stdout",
          "text": [
            "Epoch 1/10\n",
            "122/122 [==============================] - 12s 86ms/step - loss: 0.6836 - accuracy: 0.8313 - val_loss: 0.2390 - val_accuracy: 0.8862\n",
            "Epoch 2/10\n",
            "122/122 [==============================] - 10s 82ms/step - loss: 0.2016 - accuracy: 0.9433 - val_loss: 0.2029 - val_accuracy: 0.9385\n",
            "Epoch 3/10\n",
            "122/122 [==============================] - 10s 82ms/step - loss: 0.1385 - accuracy: 0.9569 - val_loss: 0.1680 - val_accuracy: 0.9610\n",
            "Epoch 4/10\n",
            "122/122 [==============================] - 10s 82ms/step - loss: 0.0796 - accuracy: 0.9777 - val_loss: 0.1579 - val_accuracy: 0.9631\n",
            "Epoch 5/10\n",
            "122/122 [==============================] - 10s 84ms/step - loss: 0.0646 - accuracy: 0.9818 - val_loss: 0.2370 - val_accuracy: 0.9508\n",
            "Epoch 6/10\n",
            "122/122 [==============================] - 10s 79ms/step - loss: 0.0469 - accuracy: 0.9872 - val_loss: 0.2178 - val_accuracy: 0.9641\n",
            "Epoch 7/10\n",
            "122/122 [==============================] - 10s 82ms/step - loss: 0.0468 - accuracy: 0.9882 - val_loss: 0.1804 - val_accuracy: 0.9590\n",
            "Epoch 8/10\n",
            "122/122 [==============================] - 10s 81ms/step - loss: 0.0424 - accuracy: 0.9877 - val_loss: 0.3087 - val_accuracy: 0.9590\n",
            "Epoch 9/10\n",
            "122/122 [==============================] - 10s 83ms/step - loss: 0.0411 - accuracy: 0.9882 - val_loss: 0.2693 - val_accuracy: 0.9467\n",
            "Epoch 10/10\n",
            "122/122 [==============================] - 9s 76ms/step - loss: 0.0315 - accuracy: 0.9915 - val_loss: 0.2700 - val_accuracy: 0.9600\n",
            "31/31 [==============================] - 2s 68ms/step - loss: 0.2700 - accuracy: 0.9600\n",
            "accuracy 95.99999785423279\n"
          ]
        }
      ]
    },
    {
      "cell_type": "code",
      "source": [
        "# average pooling\n",
        "\n",
        "from keras.layers.pooling.global_average_pooling2d import GlobalAveragePooling2D\n",
        "\n",
        "def define_modelavg():\n",
        "    # load model\n",
        "    model_bp_avg = VGG16(include_top=False, input_shape=(128, 128, 3))\n",
        "    # mark loaded layers as not trainable\n",
        "    for layer in model_bp_avg.layers:\n",
        "        layer.trainable = False\n",
        "    # add new classifier layers\n",
        "    #flat1 = Flatten()(model.layers[-1].output)\n",
        "    avgpool1 = GlobalAveragePooling2D()(model_bp_avg.layers[-1].output)\n",
        "    #flat1 = Flatten()(avgpool1)\n",
        "\n",
        "    class1 = Dense(8, activation='relu', kernel_initializer='he_uniform')(avgpool1)\n",
        "    output = Dense(2, activation='softmax')(class1)\n",
        "    # define new model\n",
        "    model_bp_avg = Model(inputs=model_bp_avg.inputs, outputs=output)\n",
        "    return model_bp_avg"
      ],
      "metadata": {
        "id": "HUPle5n8Tc-L"
      },
      "execution_count": null,
      "outputs": []
    },
    {
      "cell_type": "code",
      "source": [
        "model_bp_avg = define_modelavg()\n",
        "model_bp_avg.compile(optimizer='adam', loss='categorical_crossentropy', metrics=['accuracy'])\n",
        "model_bp_avg.summary()\n"
      ],
      "metadata": {
        "colab": {
          "base_uri": "https://localhost:8080/"
        },
        "id": "qu0jc9YZVVt1",
        "outputId": "27ed73ec-2f11-40cf-9cc6-cd3ef2060972"
      },
      "execution_count": null,
      "outputs": [
        {
          "output_type": "stream",
          "name": "stdout",
          "text": [
            "Model: \"model_10\"\n",
            "_________________________________________________________________\n",
            " Layer (type)                Output Shape              Param #   \n",
            "=================================================================\n",
            " input_11 (InputLayer)       [(None, 128, 128, 3)]     0         \n",
            "                                                                 \n",
            " block1_conv1 (Conv2D)       (None, 128, 128, 64)      1792      \n",
            "                                                                 \n",
            " block1_conv2 (Conv2D)       (None, 128, 128, 64)      36928     \n",
            "                                                                 \n",
            " block1_pool (MaxPooling2D)  (None, 64, 64, 64)        0         \n",
            "                                                                 \n",
            " block2_conv1 (Conv2D)       (None, 64, 64, 128)       73856     \n",
            "                                                                 \n",
            " block2_conv2 (Conv2D)       (None, 64, 64, 128)       147584    \n",
            "                                                                 \n",
            " block2_pool (MaxPooling2D)  (None, 32, 32, 128)       0         \n",
            "                                                                 \n",
            " block3_conv1 (Conv2D)       (None, 32, 32, 256)       295168    \n",
            "                                                                 \n",
            " block3_conv2 (Conv2D)       (None, 32, 32, 256)       590080    \n",
            "                                                                 \n",
            " block3_conv3 (Conv2D)       (None, 32, 32, 256)       590080    \n",
            "                                                                 \n",
            " block3_pool (MaxPooling2D)  (None, 16, 16, 256)       0         \n",
            "                                                                 \n",
            " block4_conv1 (Conv2D)       (None, 16, 16, 512)       1180160   \n",
            "                                                                 \n",
            " block4_conv2 (Conv2D)       (None, 16, 16, 512)       2359808   \n",
            "                                                                 \n",
            " block4_conv3 (Conv2D)       (None, 16, 16, 512)       2359808   \n",
            "                                                                 \n",
            " block4_pool (MaxPooling2D)  (None, 8, 8, 512)         0         \n",
            "                                                                 \n",
            " block5_conv1 (Conv2D)       (None, 8, 8, 512)         2359808   \n",
            "                                                                 \n",
            " block5_conv2 (Conv2D)       (None, 8, 8, 512)         2359808   \n",
            "                                                                 \n",
            " block5_conv3 (Conv2D)       (None, 8, 8, 512)         2359808   \n",
            "                                                                 \n",
            " block5_pool (MaxPooling2D)  (None, 4, 4, 512)         0         \n",
            "                                                                 \n",
            " global_average_pooling2d (G  (None, 512)              0         \n",
            " lobalAveragePooling2D)                                          \n",
            "                                                                 \n",
            " dense_20 (Dense)            (None, 8)                 4104      \n",
            "                                                                 \n",
            " dense_21 (Dense)            (None, 2)                 18        \n",
            "                                                                 \n",
            "=================================================================\n",
            "Total params: 14,718,810\n",
            "Trainable params: 4,122\n",
            "Non-trainable params: 14,714,688\n",
            "_________________________________________________________________\n"
          ]
        }
      ]
    },
    {
      "cell_type": "code",
      "source": [
        "epochsteps=len(train_it);epochs =10;valsteps=len(valid_it)\n",
        "# fit model\n",
        "history = model_bp_avg.fit(train_it, steps_per_epoch=epochsteps,\n",
        "                    validation_data=valid_it, validation_steps=valsteps, epochs=10, verbose=1)\n",
        "_, acc = model_bp_avg.evaluate(valid_it, steps=valsteps, verbose=1)\n",
        "print('accuracy',acc * 100.0)"
      ],
      "metadata": {
        "colab": {
          "base_uri": "https://localhost:8080/"
        },
        "id": "PVlwrH0WVnre",
        "outputId": "b0cf149d-2eb2-4679-e1fd-07f8ea87183e"
      },
      "execution_count": null,
      "outputs": [
        {
          "output_type": "stream",
          "name": "stdout",
          "text": [
            "Epoch 1/10\n",
            "122/122 [==============================] - 11s 78ms/step - loss: 0.4364 - accuracy: 0.8236 - val_loss: 0.2231 - val_accuracy: 0.9138\n",
            "Epoch 2/10\n",
            "122/122 [==============================] - 10s 81ms/step - loss: 0.1824 - accuracy: 0.9249 - val_loss: 0.1646 - val_accuracy: 0.9415\n",
            "Epoch 3/10\n",
            "122/122 [==============================] - 10s 82ms/step - loss: 0.1314 - accuracy: 0.9531 - val_loss: 0.1438 - val_accuracy: 0.9446\n",
            "Epoch 4/10\n",
            "122/122 [==============================] - 10s 80ms/step - loss: 0.1016 - accuracy: 0.9641 - val_loss: 0.1155 - val_accuracy: 0.9590\n",
            "Epoch 5/10\n",
            "122/122 [==============================] - 10s 83ms/step - loss: 0.0803 - accuracy: 0.9728 - val_loss: 0.1145 - val_accuracy: 0.9631\n",
            "Epoch 6/10\n",
            "122/122 [==============================] - 10s 78ms/step - loss: 0.0633 - accuracy: 0.9821 - val_loss: 0.1063 - val_accuracy: 0.9621\n",
            "Epoch 7/10\n",
            "122/122 [==============================] - 10s 82ms/step - loss: 0.0529 - accuracy: 0.9833 - val_loss: 0.1071 - val_accuracy: 0.9672\n",
            "Epoch 8/10\n",
            "122/122 [==============================] - 10s 81ms/step - loss: 0.0430 - accuracy: 0.9872 - val_loss: 0.0956 - val_accuracy: 0.9641\n",
            "Epoch 9/10\n",
            "122/122 [==============================] - 10s 83ms/step - loss: 0.0368 - accuracy: 0.9915 - val_loss: 0.1012 - val_accuracy: 0.9621\n",
            "Epoch 10/10\n",
            "122/122 [==============================] - 9s 76ms/step - loss: 0.0361 - accuracy: 0.9895 - val_loss: 0.1020 - val_accuracy: 0.9621\n",
            "31/31 [==============================] - 2s 74ms/step - loss: 0.1020 - accuracy: 0.9621\n",
            "accuracy 96.2051272392273\n"
          ]
        }
      ]
    },
    {
      "cell_type": "markdown",
      "source": [
        "cnn from scratch"
      ],
      "metadata": {
        "id": "W_4qm7wCqvpj"
      }
    },
    {
      "cell_type": "code",
      "source": [
        "#flatten\n",
        "\n",
        "\n",
        "def define_bp():\n",
        "  bell_pepper = models.Sequential()\n",
        "  bell_pepper = Sequential()\n",
        "\n",
        "  bell_pepper.add(Conv2D(filters=16,kernel_size=(3,3),padding=\"same\", activation=\"relu\", input_shape=(128,128,3)))\n",
        "  # bell_pepper.add(Conv2D(filters=56, kernel_size=(3,3), padding=\"same\", activation=\"relu\"))\n",
        "  bell_pepper.add(MaxPool2D(pool_size=(2,2),strides=(2,2)))\n",
        "  # bell_pepper.add(Dropout(0.4))\n",
        "\n",
        "  bell_pepper.add(Conv2D(filters=32, kernel_size=(3,3), padding=\"same\", activation=\"relu\"))\n",
        "  bell_pepper.add(MaxPool2D(pool_size=(2,2),strides=(2,2)))\n",
        "  # bell_pepper.add(Dropout(0.5))\n",
        "\n",
        "  flat1 = Flatten()(bell_pepper.layers[-1].output)\n",
        "  class1 = Dense(16, activation='relu', kernel_initializer='he_uniform')(flat1)\n",
        "  output = Dense(2, activation='softmax')(class1)\n",
        "  bell_pepper = Model(inputs=bell_pepper.inputs, outputs=output)\n",
        "  return bell_pepper\n"
      ],
      "metadata": {
        "id": "Et_HNm5TqygN"
      },
      "execution_count": null,
      "outputs": []
    },
    {
      "cell_type": "code",
      "source": [
        "bell_pepper = define_bp()\n",
        "bell_pepper.compile(optimizer='adam', loss='categorical_crossentropy', metrics=['accuracy'])\n",
        "bell_pepper.summary()"
      ],
      "metadata": {
        "colab": {
          "base_uri": "https://localhost:8080/"
        },
        "id": "Var4EBmNFVnx",
        "outputId": "724c0178-9352-4c45-d30c-ba2f41215df2"
      },
      "execution_count": null,
      "outputs": [
        {
          "output_type": "stream",
          "name": "stdout",
          "text": [
            "Model: \"model_31\"\n",
            "_________________________________________________________________\n",
            " Layer (type)                Output Shape              Param #   \n",
            "=================================================================\n",
            " conv2d_45_input (InputLayer  [(None, 128, 128, 3)]    0         \n",
            " )                                                               \n",
            "                                                                 \n",
            " conv2d_45 (Conv2D)          (None, 128, 128, 16)      448       \n",
            "                                                                 \n",
            " max_pooling2d_41 (MaxPoolin  (None, 64, 64, 16)       0         \n",
            " g2D)                                                            \n",
            "                                                                 \n",
            " conv2d_46 (Conv2D)          (None, 64, 64, 32)        4640      \n",
            "                                                                 \n",
            " max_pooling2d_42 (MaxPoolin  (None, 32, 32, 32)       0         \n",
            " g2D)                                                            \n",
            "                                                                 \n",
            " flatten_30 (Flatten)        (None, 32768)             0         \n",
            "                                                                 \n",
            " dense_62 (Dense)            (None, 16)                524304    \n",
            "                                                                 \n",
            " dense_63 (Dense)            (None, 2)                 34        \n",
            "                                                                 \n",
            "=================================================================\n",
            "Total params: 529,426\n",
            "Trainable params: 529,426\n",
            "Non-trainable params: 0\n",
            "_________________________________________________________________\n"
          ]
        }
      ]
    },
    {
      "cell_type": "code",
      "source": [
        "epochsteps=len(train_it);epochs =10;valsteps=len(valid_it)\n",
        "# fit model\n",
        "history = bell_pepper.fit(train_it, steps_per_epoch=epochsteps,\n",
        "                    validation_data=valid_it, validation_steps=valsteps, epochs=10, verbose=1)\n",
        "_, acc = bell_pepper.evaluate(valid_it, steps=valsteps, verbose=1)\n",
        "print('accuracy',acc * 100.0)"
      ],
      "metadata": {
        "colab": {
          "base_uri": "https://localhost:8080/"
        },
        "id": "lBaJMYlMF-26",
        "outputId": "3c1440f3-b02c-48d8-8c7c-0f8d7315d5ba"
      },
      "execution_count": null,
      "outputs": [
        {
          "output_type": "stream",
          "name": "stdout",
          "text": [
            "Epoch 1/10\n",
            "122/122 [==============================] - 11s 77ms/step - loss: 5.4498 - accuracy: 0.8623 - val_loss: 0.2238 - val_accuracy: 0.9241\n",
            "Epoch 2/10\n",
            "122/122 [==============================] - 14s 116ms/step - loss: 0.0767 - accuracy: 0.9739 - val_loss: 0.1307 - val_accuracy: 0.9610\n",
            "Epoch 3/10\n",
            "122/122 [==============================] - 10s 82ms/step - loss: 0.0153 - accuracy: 0.9951 - val_loss: 0.1380 - val_accuracy: 0.9651\n",
            "Epoch 4/10\n",
            "122/122 [==============================] - 15s 124ms/step - loss: 0.0032 - accuracy: 0.9992 - val_loss: 0.1569 - val_accuracy: 0.9610\n",
            "Epoch 5/10\n",
            "122/122 [==============================] - 8s 69ms/step - loss: 0.0011 - accuracy: 1.0000 - val_loss: 0.1556 - val_accuracy: 0.9641\n",
            "Epoch 6/10\n",
            "122/122 [==============================] - 9s 76ms/step - loss: 4.5873e-04 - accuracy: 1.0000 - val_loss: 0.1608 - val_accuracy: 0.9621\n",
            "Epoch 7/10\n",
            "122/122 [==============================] - 12s 96ms/step - loss: 2.9544e-04 - accuracy: 1.0000 - val_loss: 0.1649 - val_accuracy: 0.9651\n",
            "Epoch 8/10\n",
            "122/122 [==============================] - 14s 113ms/step - loss: 2.1564e-04 - accuracy: 1.0000 - val_loss: 0.1687 - val_accuracy: 0.9662\n",
            "Epoch 9/10\n",
            "122/122 [==============================] - 9s 71ms/step - loss: 1.6597e-04 - accuracy: 1.0000 - val_loss: 0.1704 - val_accuracy: 0.9672\n",
            "Epoch 10/10\n",
            "122/122 [==============================] - 11s 88ms/step - loss: 1.2899e-04 - accuracy: 1.0000 - val_loss: 0.1723 - val_accuracy: 0.9662\n",
            "31/31 [==============================] - 2s 54ms/step - loss: 0.1723 - accuracy: 0.9662\n",
            "accuracy 96.61538600921631\n"
          ]
        }
      ]
    },
    {
      "cell_type": "code",
      "source": [
        "plt.plot(history.history['val_loss'], color = 'orange')\n",
        "plt.plot(history.history['loss'], color='red')\n",
        "plt.plot(history.history['accuracy'], color = 'green')"
      ],
      "metadata": {
        "id": "_wTh8x_Xkd9r"
      },
      "execution_count": null,
      "outputs": []
    },
    {
      "cell_type": "code",
      "source": [
        "#average pooling\n",
        "from keras.layers.pooling.global_average_pooling2d import GlobalAveragePooling2D\n",
        "\n",
        "def define_bp_a():\n",
        "  bell_pepper_a = models.Sequential()\n",
        "  bell_pepper_a = Sequential()\n",
        "\n",
        "  bell_pepper_a.add(Conv2D(filters=16,kernel_size=(3,3),padding=\"same\", activation=\"relu\", input_shape=(128,128,3)))\n",
        "  # bell_pepper_a.add(Conv2D(filters=56, kernel_size=(3,3), padding=\"same\", activation=\"relu\"))\n",
        "  bell_pepper_a.add(MaxPool2D(pool_size=(2,2),strides=(2,2)))\n",
        "  # bell_pepper_a.add(Dropout(0.4))\n",
        "\n",
        "  bell_pepper_a.add(Conv2D(filters=32, kernel_size=(3,3), padding=\"same\", activation=\"relu\"))\n",
        "  bell_pepper_a.add(MaxPool2D(pool_size=(2,2),strides=(2,2)))\n",
        "  # bell_pepper_a.add(Dropout(0.5))\n",
        "\n",
        "  avg1 = GlobalAveragePooling2D()(bell_pepper_a.layers[-1].output)\n",
        "  class1 = Dense(16, activation='relu', kernel_initializer='he_uniform')(avg1)\n",
        "  output = Dense(2, activation='softmax')(class1)\n",
        "  bell_pepper_a = Model(inputs=bell_pepper_a.inputs, outputs=output)\n",
        "  return bell_pepper_a"
      ],
      "metadata": {
        "id": "HqtrLLQO0fTW"
      },
      "execution_count": null,
      "outputs": []
    },
    {
      "cell_type": "code",
      "source": [
        "bell_pepper_a = define_bp_a()\n",
        "bell_pepper_a.compile(optimizer='adam', loss='categorical_crossentropy', metrics=['accuracy'])\n",
        "bell_pepper_a.summary()"
      ],
      "metadata": {
        "colab": {
          "base_uri": "https://localhost:8080/"
        },
        "id": "hTEfWyXl02xo",
        "outputId": "0efcc93b-859f-4303-a7a1-bf7ae6fb67ac"
      },
      "execution_count": null,
      "outputs": [
        {
          "output_type": "stream",
          "name": "stdout",
          "text": [
            "Model: \"model\"\n",
            "_________________________________________________________________\n",
            " Layer (type)                Output Shape              Param #   \n",
            "=================================================================\n",
            " conv2d_2_input (InputLayer)  [(None, 128, 128, 3)]    0         \n",
            "                                                                 \n",
            " conv2d_2 (Conv2D)           (None, 128, 128, 16)      448       \n",
            "                                                                 \n",
            " max_pooling2d_2 (MaxPooling  (None, 64, 64, 16)       0         \n",
            " 2D)                                                             \n",
            "                                                                 \n",
            " conv2d_3 (Conv2D)           (None, 64, 64, 32)        4640      \n",
            "                                                                 \n",
            " max_pooling2d_3 (MaxPooling  (None, 32, 32, 32)       0         \n",
            " 2D)                                                             \n",
            "                                                                 \n",
            " global_average_pooling2d (G  (None, 32)               0         \n",
            " lobalAveragePooling2D)                                          \n",
            "                                                                 \n",
            " dense (Dense)               (None, 16)                528       \n",
            "                                                                 \n",
            " dense_1 (Dense)             (None, 2)                 34        \n",
            "                                                                 \n",
            "=================================================================\n",
            "Total params: 5,650\n",
            "Trainable params: 5,650\n",
            "Non-trainable params: 0\n",
            "_________________________________________________________________\n"
          ]
        }
      ]
    },
    {
      "cell_type": "code",
      "source": [
        "epochsteps=len(train_it);epochs =10;valsteps=len(valid_it)\n",
        "# fit model\n",
        "history = bell_pepper_a.fit(train_it, steps_per_epoch=epochsteps,\n",
        "                    validation_data=valid_it, validation_steps=valsteps, epochs=10, verbose=1)\n",
        "_, acc = bell_pepper_a.evaluate(valid_it, steps=valsteps, verbose=1)\n",
        "print('accuracy',acc * 100.0)"
      ],
      "metadata": {
        "id": "o_iFRUKm07pZ",
        "colab": {
          "base_uri": "https://localhost:8080/"
        },
        "outputId": "f988f89b-2f9d-4304-e658-6edb82fa1d7f"
      },
      "execution_count": null,
      "outputs": [
        {
          "output_type": "stream",
          "name": "stdout",
          "text": [
            "Epoch 1/10\n",
            "122/122 [==============================] - 19s 66ms/step - loss: 0.5604 - accuracy: 0.7921 - val_loss: 0.3099 - val_accuracy: 0.8667\n",
            "Epoch 2/10\n",
            "122/122 [==============================] - 8s 68ms/step - loss: 0.3109 - accuracy: 0.8616 - val_loss: 0.2427 - val_accuracy: 0.9036\n",
            "Epoch 3/10\n",
            "122/122 [==============================] - 7s 54ms/step - loss: 0.2553 - accuracy: 0.8928 - val_loss: 0.2266 - val_accuracy: 0.9097\n",
            "Epoch 4/10\n",
            "122/122 [==============================] - 7s 54ms/step - loss: 0.2038 - accuracy: 0.9200 - val_loss: 0.1642 - val_accuracy: 0.9436\n",
            "Epoch 5/10\n",
            "122/122 [==============================] - 7s 61ms/step - loss: 0.1765 - accuracy: 0.9300 - val_loss: 0.1695 - val_accuracy: 0.9251\n",
            "Epoch 6/10\n",
            "122/122 [==============================] - 7s 54ms/step - loss: 0.1679 - accuracy: 0.9354 - val_loss: 0.1296 - val_accuracy: 0.9569\n",
            "Epoch 7/10\n",
            "122/122 [==============================] - 7s 56ms/step - loss: 0.1661 - accuracy: 0.9351 - val_loss: 0.1823 - val_accuracy: 0.9200\n",
            "Epoch 8/10\n",
            "122/122 [==============================] - 7s 61ms/step - loss: 0.1336 - accuracy: 0.9477 - val_loss: 0.0921 - val_accuracy: 0.9723\n",
            "Epoch 9/10\n",
            "122/122 [==============================] - 8s 65ms/step - loss: 0.1344 - accuracy: 0.9477 - val_loss: 0.0832 - val_accuracy: 0.9754\n",
            "Epoch 10/10\n",
            "122/122 [==============================] - 7s 54ms/step - loss: 0.0840 - accuracy: 0.9744 - val_loss: 0.0712 - val_accuracy: 0.9774\n",
            "31/31 [==============================] - 2s 56ms/step - loss: 0.0712 - accuracy: 0.9774\n",
            "accuracy 97.74358868598938\n"
          ]
        }
      ]
    },
    {
      "cell_type": "code",
      "source": [
        "plt.plot(history.history['val_loss'], color = 'orange')\n",
        "plt.plot(history.history['loss'], color='red')\n",
        "plt.plot(history.history['accuracy'], color = 'green')"
      ],
      "metadata": {
        "colab": {
          "base_uri": "https://localhost:8080/",
          "height": 447
        },
        "id": "a1jgJkxDjMbO",
        "outputId": "314906d2-0959-4c87-ede6-d6302f1e0333"
      },
      "execution_count": null,
      "outputs": [
        {
          "output_type": "execute_result",
          "data": {
            "text/plain": [
              "[<matplotlib.lines.Line2D at 0x7cad8f563a00>]"
            ]
          },
          "metadata": {},
          "execution_count": 19
        },
        {
          "output_type": "display_data",
          "data": {
            "text/plain": [
              "<Figure size 640x480 with 1 Axes>"
            ],
            "image/png": "[encoded data removed]"
          },
          "metadata": {}
        }
      ]
    },
    {
      "cell_type": "markdown",
      "source": [
        "# **Grape**"
      ],
      "metadata": {
        "id": "N_EeVZMvJDmL"
      }
    },
    {
      "cell_type": "code",
      "source": [
        "data_dir = r\"/tmp/DS MINI PROJECT DATASET(BALANCEDANDIMBALANCED)\"\n",
        "\n",
        "train_g_dir = data_dir + \"/Training/Grape\"\n",
        "test_g_dir = data_dir + \"/Testing/Grape\""
      ],
      "metadata": {
        "id": "pjPgWYCvzEnd"
      },
      "execution_count": null,
      "outputs": []
    },
    {
      "cell_type": "code",
      "source": [
        "from tensorflow.keras.preprocessing.image import ImageDataGenerator\n",
        "datagen = ImageDataGenerator(featurewise_center=True)\n",
        "datagen.mean = [123.68, 116.779, 103.939]\n",
        "train_it = datagen.flow_from_directory(\n",
        "                                        batch_size = 32,\n",
        "                                        directory = train_g_dir,\n",
        "                                        shuffle= True,\n",
        "                                        target_size = (128 , 128),\n",
        "                                        class_mode  = \"categorical\"\n",
        "                                        )\n",
        "\n",
        "valid_it = datagen.flow_from_directory(\n",
        "                                        batch_size = 32,\n",
        "                                        directory = test_g_dir,\n",
        "                                        shuffle= True,\n",
        "                                        target_size = (128, 128),\n",
        "                                        class_mode  = \"categorical\"\n",
        "                                        )"
      ],
      "metadata": {
        "colab": {
          "base_uri": "https://localhost:8080/"
        },
        "id": "MMnfeRGszOo1",
        "outputId": "93ce1e1e-2da1-4d43-cbe5-62d03523df6f"
      },
      "execution_count": null,
      "outputs": [
        {
          "output_type": "stream",
          "name": "stdout",
          "text": [
            "Found 7222 images belonging to 4 classes.\n",
            "Found 1805 images belonging to 4 classes.\n"
          ]
        }
      ]
    },
    {
      "cell_type": "code",
      "source": [
        "# acc = 95.90 & 99.64 tested with 8 units\n",
        "# val_acc = 96.84 & acc = 99.74 tested with 10 units\n",
        "from keras.applications.vgg16 import VGG16\n",
        "from keras.models import Model\n",
        "def define_modelflatten():\n",
        "    # load model\n",
        "    model_Grape = VGG16(include_top=False, input_shape=(128, 128, 3))\n",
        "    # mark loaded layers as not trainable\n",
        "    for layer in model_Grape.layers:\n",
        "        layer.trainable = False\n",
        "    # add new classifier layers\n",
        "    flat1 = Flatten()(model_Grape.layers[-1].output)\n",
        "    class1 = Dense(10, activation='relu', kernel_initializer='he_uniform')(flat1)\n",
        "    output = Dense(4, activation='softmax')(class1)\n",
        "    # define new model\n",
        "    model_Grape = Model(inputs=model_Grape.inputs, outputs=output)\n",
        "    return model_Grape"
      ],
      "metadata": {
        "id": "-uz4GARuzd7W"
      },
      "execution_count": null,
      "outputs": []
    },
    {
      "cell_type": "code",
      "source": [
        "model_Grape = define_modelflatten()\n",
        "model_Grape.compile(optimizer='adam', loss='categorical_crossentropy', metrics=['accuracy'])\n",
        "model_Grape.summary()"
      ],
      "metadata": {
        "colab": {
          "base_uri": "https://localhost:8080/"
        },
        "id": "BKAo3fexzgAE",
        "outputId": "74fd3939-8586-4424-c612-03a6d30f6163"
      },
      "execution_count": null,
      "outputs": [
        {
          "output_type": "stream",
          "name": "stdout",
          "text": [
            "Model: \"model_3\"\n",
            "_________________________________________________________________\n",
            " Layer (type)                Output Shape              Param #   \n",
            "=================================================================\n",
            " input_4 (InputLayer)        [(None, 128, 128, 3)]     0         \n",
            "                                                                 \n",
            " block1_conv1 (Conv2D)       (None, 128, 128, 64)      1792      \n",
            "                                                                 \n",
            " block1_conv2 (Conv2D)       (None, 128, 128, 64)      36928     \n",
            "                                                                 \n",
            " block1_pool (MaxPooling2D)  (None, 64, 64, 64)        0         \n",
            "                                                                 \n",
            " block2_conv1 (Conv2D)       (None, 64, 64, 128)       73856     \n",
            "                                                                 \n",
            " block2_conv2 (Conv2D)       (None, 64, 64, 128)       147584    \n",
            "                                                                 \n",
            " block2_pool (MaxPooling2D)  (None, 32, 32, 128)       0         \n",
            "                                                                 \n",
            " block3_conv1 (Conv2D)       (None, 32, 32, 256)       295168    \n",
            "                                                                 \n",
            " block3_conv2 (Conv2D)       (None, 32, 32, 256)       590080    \n",
            "                                                                 \n",
            " block3_conv3 (Conv2D)       (None, 32, 32, 256)       590080    \n",
            "                                                                 \n",
            " block3_pool (MaxPooling2D)  (None, 16, 16, 256)       0         \n",
            "                                                                 \n",
            " block4_conv1 (Conv2D)       (None, 16, 16, 512)       1180160   \n",
            "                                                                 \n",
            " block4_conv2 (Conv2D)       (None, 16, 16, 512)       2359808   \n",
            "                                                                 \n",
            " block4_conv3 (Conv2D)       (None, 16, 16, 512)       2359808   \n",
            "                                                                 \n",
            " block4_pool (MaxPooling2D)  (None, 8, 8, 512)         0         \n",
            "                                                                 \n",
            " block5_conv1 (Conv2D)       (None, 8, 8, 512)         2359808   \n",
            "                                                                 \n",
            " block5_conv2 (Conv2D)       (None, 8, 8, 512)         2359808   \n",
            "                                                                 \n",
            " block5_conv3 (Conv2D)       (None, 8, 8, 512)         2359808   \n",
            "                                                                 \n",
            " block5_pool (MaxPooling2D)  (None, 4, 4, 512)         0         \n",
            "                                                                 \n",
            " flatten_3 (Flatten)         (None, 8192)              0         \n",
            "                                                                 \n",
            " dense_6 (Dense)             (None, 10)                81930     \n",
            "                                                                 \n",
            " dense_7 (Dense)             (None, 4)                 44        \n",
            "                                                                 \n",
            "=================================================================\n",
            "Total params: 14796662 (56.44 MB)\n",
            "Trainable params: 81974 (320.21 KB)\n",
            "Non-trainable params: 14714688 (56.13 MB)\n",
            "_________________________________________________________________\n"
          ]
        }
      ]
    },
    {
      "cell_type": "code",
      "source": [
        "epochsteps=len(train_it);epochs=10;valsteps=len(valid_it)\n",
        "# fit model\n",
        "history = model_Grape.fit(train_it, steps_per_epoch=epochsteps,\n",
        "                    validation_data=valid_it, validation_steps=valsteps, epochs=10, verbose=1)\n",
        "_, acc = model_Grape.evaluate(valid_it, steps=valsteps, verbose=1)\n",
        "print('accuracy',acc * 100.0)\n"
      ],
      "metadata": {
        "colab": {
          "base_uri": "https://localhost:8080/"
        },
        "id": "Q3RZJjcbzh5k",
        "outputId": "18f3c04d-ddf2-4c60-85fd-12656db8cebd"
      },
      "execution_count": null,
      "outputs": [
        {
          "output_type": "stream",
          "name": "stdout",
          "text": [
            "Epoch 1/10\n",
            "226/226 [==============================] - 19s 79ms/step - loss: 0.8596 - accuracy: 0.7279 - val_loss: 0.4757 - val_accuracy: 0.9313\n",
            "Epoch 2/10\n",
            "226/226 [==============================] - 17s 75ms/step - loss: 0.4103 - accuracy: 0.9442 - val_loss: 0.3838 - val_accuracy: 0.9568\n",
            "Epoch 3/10\n",
            "226/226 [==============================] - 17s 74ms/step - loss: 0.3001 - accuracy: 0.9657 - val_loss: 0.3122 - val_accuracy: 0.9601\n",
            "Epoch 4/10\n",
            "226/226 [==============================] - 17s 75ms/step - loss: 0.2305 - accuracy: 0.9790 - val_loss: 0.2425 - val_accuracy: 0.9668\n",
            "Epoch 5/10\n",
            "226/226 [==============================] - 17s 75ms/step - loss: 0.1747 - accuracy: 0.9870 - val_loss: 0.1980 - val_accuracy: 0.9712\n",
            "Epoch 6/10\n",
            "226/226 [==============================] - 17s 74ms/step - loss: 0.1397 - accuracy: 0.9914 - val_loss: 0.1990 - val_accuracy: 0.9679\n",
            "Epoch 7/10\n",
            "226/226 [==============================] - 17s 74ms/step - loss: 0.1121 - accuracy: 0.9928 - val_loss: 0.2695 - val_accuracy: 0.9496\n",
            "Epoch 8/10\n",
            "226/226 [==============================] - 18s 79ms/step - loss: 0.1020 - accuracy: 0.9899 - val_loss: 0.1619 - val_accuracy: 0.9684\n",
            "Epoch 9/10\n",
            "226/226 [==============================] - 17s 74ms/step - loss: 0.0813 - accuracy: 0.9935 - val_loss: 0.1707 - val_accuracy: 0.9657\n",
            "Epoch 10/10\n",
            "226/226 [==============================] - 19s 84ms/step - loss: 0.0607 - accuracy: 0.9974 - val_loss: 0.1276 - val_accuracy: 0.9684\n",
            "57/57 [==============================] - 3s 56ms/step - loss: 0.1276 - accuracy: 0.9684\n",
            "accuracy 96.84210419654846\n"
          ]
        }
      ]
    },
    {
      "cell_type": "code",
      "source": [
        "plt.plot(history.history['val_loss'], color = 'orange')\n",
        "plt.plot(history.history['loss'], color='red')\n",
        "plt.plot(history.history['accuracy'], color = 'green')"
      ],
      "metadata": {
        "id": "oVlSjLE0zjv9"
      },
      "execution_count": null,
      "outputs": []
    },
    {
      "cell_type": "markdown",
      "source": [
        "Avg Pooling for Grape"
      ],
      "metadata": {
        "id": "oSJneKH54QE-"
      }
    },
    {
      "cell_type": "code",
      "source": [
        "# acc = 96.17 with 8 units\n",
        "# val_acc = 95.84 & acc = 97.45 with 10 units\n",
        "\n",
        "\n",
        "#from keras.layers.pooling.global_average_pooling2d import GlobalAveragePooling2D\n",
        "\n",
        "def define_modelavg():\n",
        "    # load model\n",
        "    model_g_avg = VGG16(include_top=False, input_shape=(128, 128, 3))\n",
        "    # mark loaded layers as not trainable\n",
        "    for layer in model_g_avg.layers:\n",
        "        layer.trainable = False\n",
        "    # add new classifier layers\n",
        "    avgpool1 = tf.keras.layers.GlobalAveragePooling2D()(model_g_avg.layers[-1].output)\n",
        "\n",
        "    class1 = Dense(10, activation='relu', kernel_initializer='he_uniform')(avgpool1)\n",
        "    output = Dense(4, activation='softmax')(class1)\n",
        "    # define new model\n",
        "    model_g_avg = Model(inputs=model_g_avg.inputs, outputs=output)\n",
        "    return model_g_avg"
      ],
      "metadata": {
        "id": "jFZVLzcN4DLW"
      },
      "execution_count": null,
      "outputs": []
    },
    {
      "cell_type": "code",
      "source": [
        "model_g_avg = define_modelavg()\n",
        "model_g_avg.compile(optimizer='adam', loss='categorical_crossentropy', metrics=['accuracy'])\n",
        "model_g_avg.summary()"
      ],
      "metadata": {
        "colab": {
          "base_uri": "https://localhost:8080/"
        },
        "id": "qo5-rep64iGc",
        "outputId": "08b6c499-7980-47e1-b5ff-4dc8b5df21c1"
      },
      "execution_count": null,
      "outputs": [
        {
          "output_type": "stream",
          "name": "stdout",
          "text": [
            "Model: \"model_6\"\n",
            "_________________________________________________________________\n",
            " Layer (type)                Output Shape              Param #   \n",
            "=================================================================\n",
            " input_7 (InputLayer)        [(None, 128, 128, 3)]     0         \n",
            "                                                                 \n",
            " block1_conv1 (Conv2D)       (None, 128, 128, 64)      1792      \n",
            "                                                                 \n",
            " block1_conv2 (Conv2D)       (None, 128, 128, 64)      36928     \n",
            "                                                                 \n",
            " block1_pool (MaxPooling2D)  (None, 64, 64, 64)        0         \n",
            "                                                                 \n",
            " block2_conv1 (Conv2D)       (None, 64, 64, 128)       73856     \n",
            "                                                                 \n",
            " block2_conv2 (Conv2D)       (None, 64, 64, 128)       147584    \n",
            "                                                                 \n",
            " block2_pool (MaxPooling2D)  (None, 32, 32, 128)       0         \n",
            "                                                                 \n",
            " block3_conv1 (Conv2D)       (None, 32, 32, 256)       295168    \n",
            "                                                                 \n",
            " block3_conv2 (Conv2D)       (None, 32, 32, 256)       590080    \n",
            "                                                                 \n",
            " block3_conv3 (Conv2D)       (None, 32, 32, 256)       590080    \n",
            "                                                                 \n",
            " block3_pool (MaxPooling2D)  (None, 16, 16, 256)       0         \n",
            "                                                                 \n",
            " block4_conv1 (Conv2D)       (None, 16, 16, 512)       1180160   \n",
            "                                                                 \n",
            " block4_conv2 (Conv2D)       (None, 16, 16, 512)       2359808   \n",
            "                                                                 \n",
            " block4_conv3 (Conv2D)       (None, 16, 16, 512)       2359808   \n",
            "                                                                 \n",
            " block4_pool (MaxPooling2D)  (None, 8, 8, 512)         0         \n",
            "                                                                 \n",
            " block5_conv1 (Conv2D)       (None, 8, 8, 512)         2359808   \n",
            "                                                                 \n",
            " block5_conv2 (Conv2D)       (None, 8, 8, 512)         2359808   \n",
            "                                                                 \n",
            " block5_conv3 (Conv2D)       (None, 8, 8, 512)         2359808   \n",
            "                                                                 \n",
            " block5_pool (MaxPooling2D)  (None, 4, 4, 512)         0         \n",
            "                                                                 \n",
            " global_average_pooling2d_2  (None, 512)               0         \n",
            "  (GlobalAveragePooling2D)                                       \n",
            "                                                                 \n",
            " dense_12 (Dense)            (None, 10)                5130      \n",
            "                                                                 \n",
            " dense_13 (Dense)            (None, 4)                 44        \n",
            "                                                                 \n",
            "=================================================================\n",
            "Total params: 14719862 (56.15 MB)\n",
            "Trainable params: 5174 (20.21 KB)\n",
            "Non-trainable params: 14714688 (56.13 MB)\n",
            "_________________________________________________________________\n"
          ]
        }
      ]
    },
    {
      "cell_type": "code",
      "source": [
        "epochsteps=len(train_it);epochs =10;valsteps=len(valid_it)\n",
        "# fit model\n",
        "history = model_g_avg.fit(train_it, steps_per_epoch=epochsteps,\n",
        "                    validation_data=valid_it, validation_steps=valsteps, epochs=10, verbose=1)\n",
        "_, acc = model_g_avg.evaluate(valid_it, steps=valsteps, verbose=1)\n",
        "print('accuracy',acc * 100.0)"
      ],
      "metadata": {
        "colab": {
          "base_uri": "https://localhost:8080/"
        },
        "id": "xXQNsU3Q5iAM",
        "outputId": "2718e12f-cd86-4a0b-a50b-a710f53371e2"
      },
      "execution_count": null,
      "outputs": [
        {
          "output_type": "stream",
          "name": "stdout",
          "text": [
            "Epoch 1/10\n",
            "226/226 [==============================] - 18s 75ms/step - loss: 0.8899 - accuracy: 0.7257 - val_loss: 0.2833 - val_accuracy: 0.8859\n",
            "Epoch 2/10\n",
            "226/226 [==============================] - 19s 82ms/step - loss: 0.2023 - accuracy: 0.9204 - val_loss: 0.1915 - val_accuracy: 0.9274\n",
            "Epoch 3/10\n",
            "226/226 [==============================] - 17s 73ms/step - loss: 0.1446 - accuracy: 0.9424 - val_loss: 0.1636 - val_accuracy: 0.9324\n",
            "Epoch 4/10\n",
            "226/226 [==============================] - 17s 74ms/step - loss: 0.1159 - accuracy: 0.9547 - val_loss: 0.1476 - val_accuracy: 0.9413\n",
            "Epoch 5/10\n",
            "226/226 [==============================] - 17s 75ms/step - loss: 0.1004 - accuracy: 0.9603 - val_loss: 0.1370 - val_accuracy: 0.9507\n",
            "Epoch 6/10\n",
            "226/226 [==============================] - 19s 83ms/step - loss: 0.0951 - accuracy: 0.9637 - val_loss: 0.1404 - val_accuracy: 0.9402\n",
            "Epoch 7/10\n",
            "226/226 [==============================] - 17s 74ms/step - loss: 0.0830 - accuracy: 0.9672 - val_loss: 0.1127 - val_accuracy: 0.9573\n",
            "Epoch 8/10\n",
            "226/226 [==============================] - 19s 84ms/step - loss: 0.0733 - accuracy: 0.9715 - val_loss: 0.1125 - val_accuracy: 0.9557\n",
            "Epoch 9/10\n",
            "226/226 [==============================] - 19s 85ms/step - loss: 0.0733 - accuracy: 0.9716 - val_loss: 0.1394 - val_accuracy: 0.9440\n",
            "Epoch 10/10\n",
            "226/226 [==============================] - 23s 100ms/step - loss: 0.0655 - accuracy: 0.9745 - val_loss: 0.1028 - val_accuracy: 0.9584\n",
            "57/57 [==============================] - 4s 64ms/step - loss: 0.1028 - accuracy: 0.9584\n",
            "accuracy 95.84487676620483\n"
          ]
        }
      ]
    },
    {
      "cell_type": "code",
      "source": [
        "#flatten\n",
        "#acc = 26.59 with 16\n",
        "#acc = 97.78 with 1 more conv2D\n",
        "def define_g():\n",
        "  grape = models.Sequential()\n",
        "  grape = Sequential()\n",
        "\n",
        "  grape.add(Conv2D(filters=16,kernel_size=(3,3),padding=\"same\", activation=\"relu\", input_shape=(128,128,3)))\n",
        "  grape.add(MaxPool2D(pool_size=(2,2),strides=(2,2)))\n",
        "  #grape.add(Dropout(0.4))\n",
        "\n",
        "  grape.add(Conv2D(filters=32, kernel_size=(3,3), padding=\"same\", activation=\"relu\"))\n",
        "  grape.add(MaxPool2D(pool_size=(2,2),strides=(2,2)))\n",
        "  #grape.add(Dropout(0.5))\n",
        "\n",
        "  grape.add(Conv2D(filters=64, kernel_size=(3,3), padding=\"same\", activation=\"relu\"))\n",
        "  grape.add(MaxPool2D(pool_size=(2,2),strides=(2,2)))\n",
        "\n",
        "\n",
        "  flat1 = Flatten()(grape.layers[-1].output)\n",
        "  class1 = Dense(16, activation='relu', kernel_initializer='he_uniform')(flat1)\n",
        "  output = Dense(4, activation='softmax')(class1)\n",
        "  grape = Model(inputs=grape.inputs, outputs=output)\n",
        "  return grape"
      ],
      "metadata": {
        "id": "WGQAt1dD79OJ"
      },
      "execution_count": null,
      "outputs": []
    },
    {
      "cell_type": "code",
      "source": [
        "grape = define_g()\n",
        "grape.compile(optimizer='adam', loss='categorical_crossentropy', metrics=['accuracy'])\n",
        "grape.summary()"
      ],
      "metadata": {
        "colab": {
          "base_uri": "https://localhost:8080/"
        },
        "id": "VAElekX68dkE",
        "outputId": "1491939a-78be-4aa2-d626-af14e71cd697"
      },
      "execution_count": null,
      "outputs": [
        {
          "output_type": "stream",
          "name": "stdout",
          "text": [
            "Model: \"model_18\"\n",
            "_________________________________________________________________\n",
            " Layer (type)                Output Shape              Param #   \n",
            "=================================================================\n",
            " conv2d_27_input (InputLaye  [(None, 128, 128, 3)]     0         \n",
            " r)                                                              \n",
            "                                                                 \n",
            " conv2d_27 (Conv2D)          (None, 128, 128, 16)      448       \n",
            "                                                                 \n",
            " max_pooling2d_27 (MaxPooli  (None, 64, 64, 16)        0         \n",
            " ng2D)                                                           \n",
            "                                                                 \n",
            " conv2d_28 (Conv2D)          (None, 64, 64, 32)        4640      \n",
            "                                                                 \n",
            " max_pooling2d_28 (MaxPooli  (None, 32, 32, 32)        0         \n",
            " ng2D)                                                           \n",
            "                                                                 \n",
            " conv2d_29 (Conv2D)          (None, 32, 32, 64)        18496     \n",
            "                                                                 \n",
            " max_pooling2d_29 (MaxPooli  (None, 16, 16, 64)        0         \n",
            " ng2D)                                                           \n",
            "                                                                 \n",
            " flatten_11 (Flatten)        (None, 16384)             0         \n",
            "                                                                 \n",
            " dense_36 (Dense)            (None, 16)                262160    \n",
            "                                                                 \n",
            " dense_37 (Dense)            (None, 4)                 68        \n",
            "                                                                 \n",
            "=================================================================\n",
            "Total params: 285812 (1.09 MB)\n",
            "Trainable params: 285812 (1.09 MB)\n",
            "Non-trainable params: 0 (0.00 Byte)\n",
            "_________________________________________________________________\n"
          ]
        }
      ]
    },
    {
      "cell_type": "code",
      "source": [
        "epochsteps=len(train_it);epochs =10;valsteps=len(valid_it)\n",
        "# fit model\n",
        "history = grape.fit(train_it, steps_per_epoch=epochsteps,\n",
        "                    validation_data=valid_it, validation_steps=valsteps, epochs=10, verbose=1)\n",
        "_, acc = grape.evaluate(valid_it, steps=valsteps, verbose=1)\n",
        "print('accuracy',acc * 100.0)"
      ],
      "metadata": {
        "colab": {
          "base_uri": "https://localhost:8080/"
        },
        "id": "aowxsiot8nOk",
        "outputId": "8833a443-f607-4cb8-9aa2-ac518c73c1b5"
      },
      "execution_count": null,
      "outputs": [
        {
          "output_type": "stream",
          "name": "stdout",
          "text": [
            "Epoch 1/10\n",
            "226/226 [==============================] - 15s 66ms/step - loss: 0.3678 - accuracy: 0.8830 - val_loss: 0.3568 - val_accuracy: 0.9141\n",
            "Epoch 2/10\n",
            "226/226 [==============================] - 15s 64ms/step - loss: 0.3216 - accuracy: 0.9140 - val_loss: 0.3349 - val_accuracy: 0.8975\n",
            "Epoch 3/10\n",
            "226/226 [==============================] - 15s 66ms/step - loss: 0.2456 - accuracy: 0.9280 - val_loss: 0.1974 - val_accuracy: 0.9396\n",
            "Epoch 4/10\n",
            "226/226 [==============================] - 15s 64ms/step - loss: 0.1153 - accuracy: 0.9625 - val_loss: 0.1001 - val_accuracy: 0.9634\n",
            "Epoch 5/10\n",
            "226/226 [==============================] - 15s 68ms/step - loss: 0.0615 - accuracy: 0.9799 - val_loss: 0.1019 - val_accuracy: 0.9673\n",
            "Epoch 6/10\n",
            "226/226 [==============================] - 15s 65ms/step - loss: 0.0267 - accuracy: 0.9916 - val_loss: 0.0998 - val_accuracy: 0.9729\n",
            "Epoch 7/10\n",
            "226/226 [==============================] - 15s 66ms/step - loss: 0.0142 - accuracy: 0.9963 - val_loss: 0.1065 - val_accuracy: 0.9662\n",
            "Epoch 8/10\n",
            "226/226 [==============================] - 15s 65ms/step - loss: 0.0101 - accuracy: 0.9970 - val_loss: 0.1146 - val_accuracy: 0.9734\n",
            "Epoch 9/10\n",
            "226/226 [==============================] - 15s 66ms/step - loss: 0.0327 - accuracy: 0.9896 - val_loss: 0.2516 - val_accuracy: 0.9485\n",
            "Epoch 10/10\n",
            "226/226 [==============================] - 15s 65ms/step - loss: 0.0340 - accuracy: 0.9900 - val_loss: 0.1723 - val_accuracy: 0.9535\n",
            "57/57 [==============================] - 4s 76ms/step - loss: 0.1723 - accuracy: 0.9535\n",
            "accuracy 95.34626007080078\n"
          ]
        }
      ]
    },
    {
      "cell_type": "code",
      "source": [
        "#average pooling\n",
        "#accuracy 90.63 with 16\n",
        "#accuracy 95.56 with 16 with 1 more convo\n",
        "\n",
        "\n",
        "#from keras.layers.pooling.global_average_pooling2d import GlobalAveragePooling2D\n",
        "\n",
        "def define_g_a():\n",
        "  grape_avg = models.Sequential()\n",
        "  grape_avg = Sequential()\n",
        "\n",
        "  grape_avg.add(Conv2D(filters=16,kernel_size=(3,3),padding=\"same\", activation=\"relu\", input_shape=(128,128,3)))\n",
        "  grape_avg.add(MaxPool2D(pool_size=(2,2),strides=(2,2)))\n",
        "  #grape_avg.add(Dropout(0.4))\n",
        "\n",
        "  grape_avg.add(Conv2D(filters=32, kernel_size=(3,3), padding=\"same\", activation=\"relu\"))\n",
        "  grape_avg.add(MaxPool2D(pool_size=(2,2),strides=(2,2)))\n",
        "  #grape_avg.add(Dropout(0.5))\n",
        "\n",
        "  avg1 = tf.keras.layers.GlobalAveragePooling2D()(grape_avg.layers[-1].output)\n",
        "  class1 = Dense(16, activation='relu', kernel_initializer='he_uniform')(avg1)\n",
        "  output = Dense(4, activation='softmax')(class1)\n",
        "  grape_avg = Model(inputs=grape_avg.inputs, outputs=output)\n",
        "  return grape_avg"
      ],
      "metadata": {
        "id": "45R_TkvCABx7"
      },
      "execution_count": null,
      "outputs": []
    },
    {
      "cell_type": "code",
      "source": [
        "grape_avg = define_g_a()\n",
        "grape_avg.compile(optimizer='adam', loss='categorical_crossentropy', metrics=['accuracy'])\n",
        "grape_avg.summary()"
      ],
      "metadata": {
        "colab": {
          "base_uri": "https://localhost:8080/"
        },
        "id": "zfETRR_RAu7j",
        "outputId": "9ddf4178-9c82-41c5-dfa1-fa095271c5b5"
      },
      "execution_count": null,
      "outputs": [
        {
          "output_type": "stream",
          "name": "stdout",
          "text": [
            "Model: \"model_19\"\n",
            "_________________________________________________________________\n",
            " Layer (type)                Output Shape              Param #   \n",
            "=================================================================\n",
            " conv2d_30_input (InputLaye  [(None, 128, 128, 3)]     0         \n",
            " r)                                                              \n",
            "                                                                 \n",
            " conv2d_30 (Conv2D)          (None, 128, 128, 16)      448       \n",
            "                                                                 \n",
            " max_pooling2d_30 (MaxPooli  (None, 64, 64, 16)        0         \n",
            " ng2D)                                                           \n",
            "                                                                 \n",
            " conv2d_31 (Conv2D)          (None, 64, 64, 32)        4640      \n",
            "                                                                 \n",
            " max_pooling2d_31 (MaxPooli  (None, 32, 32, 32)        0         \n",
            " ng2D)                                                           \n",
            "                                                                 \n",
            " global_average_pooling2d_7  (None, 32)                0         \n",
            "  (GlobalAveragePooling2D)                                       \n",
            "                                                                 \n",
            " dense_38 (Dense)            (None, 16)                528       \n",
            "                                                                 \n",
            " dense_39 (Dense)            (None, 4)                 68        \n",
            "                                                                 \n",
            "=================================================================\n",
            "Total params: 5684 (22.20 KB)\n",
            "Trainable params: 5684 (22.20 KB)\n",
            "Non-trainable params: 0 (0.00 Byte)\n",
            "_________________________________________________________________\n"
          ]
        }
      ]
    },
    {
      "cell_type": "code",
      "source": [
        "epochsteps=len(train_it);epochs =10;valsteps=len(valid_it)\n",
        "# fit model\n",
        "history = grape_avg.fit(train_it, steps_per_epoch=epochsteps,\n",
        "                    validation_data=valid_it, validation_steps=valsteps, epochs=10, verbose=1)\n",
        "_, acc = grape_avg.evaluate(valid_it, steps=valsteps, verbose=1)\n",
        "print('accuracy',acc * 100.0)"
      ],
      "metadata": {
        "colab": {
          "base_uri": "https://localhost:8080/"
        },
        "id": "CinRnr8tBDqU",
        "outputId": "8f811483-7c67-4349-9ac0-b46397a8ec46"
      },
      "execution_count": null,
      "outputs": [
        {
          "output_type": "stream",
          "name": "stdout",
          "text": [
            "Epoch 1/10\n",
            "226/226 [==============================] - 19s 79ms/step - loss: 0.9293 - accuracy: 0.7058 - val_loss: 0.4892 - val_accuracy: 0.8116\n",
            "Epoch 2/10\n",
            "226/226 [==============================] - 14s 64ms/step - loss: 0.5090 - accuracy: 0.7978 - val_loss: 0.4195 - val_accuracy: 0.8327\n",
            "Epoch 3/10\n",
            "226/226 [==============================] - 17s 76ms/step - loss: 0.4577 - accuracy: 0.8204 - val_loss: 0.3994 - val_accuracy: 0.8377\n",
            "Epoch 4/10\n",
            "226/226 [==============================] - 15s 65ms/step - loss: 0.4103 - accuracy: 0.8399 - val_loss: 0.3760 - val_accuracy: 0.8499\n",
            "Epoch 5/10\n",
            "226/226 [==============================] - 14s 64ms/step - loss: 0.3701 - accuracy: 0.8549 - val_loss: 0.3290 - val_accuracy: 0.8720\n",
            "Epoch 6/10\n",
            "226/226 [==============================] - 14s 63ms/step - loss: 0.3386 - accuracy: 0.8704 - val_loss: 0.3271 - val_accuracy: 0.8809\n",
            "Epoch 7/10\n",
            "226/226 [==============================] - 14s 63ms/step - loss: 0.3180 - accuracy: 0.8793 - val_loss: 0.2761 - val_accuracy: 0.8925\n",
            "Epoch 8/10\n",
            "226/226 [==============================] - 15s 65ms/step - loss: 0.2904 - accuracy: 0.8855 - val_loss: 0.4760 - val_accuracy: 0.8127\n",
            "Epoch 9/10\n",
            "226/226 [==============================] - 14s 64ms/step - loss: 0.2520 - accuracy: 0.9057 - val_loss: 0.2079 - val_accuracy: 0.9247\n",
            "Epoch 10/10\n",
            "226/226 [==============================] - 14s 63ms/step - loss: 0.2296 - accuracy: 0.9126 - val_loss: 0.2224 - val_accuracy: 0.9086\n",
            "57/57 [==============================] - 3s 44ms/step - loss: 0.2224 - accuracy: 0.9086\n",
            "accuracy 90.85872769355774\n"
          ]
        }
      ]
    },
    {
      "cell_type": "markdown",
      "source": [
        "# **Corn**"
      ],
      "metadata": {
        "id": "Mqqn561lL6gz"
      }
    },
    {
      "cell_type": "code",
      "source": [
        "data_dir = r\"/tmp/DS MINI PROJECT DATASET(BALANCEDANDIMBALANCED)\"\n",
        "\n",
        "train_g_dir = data_dir + \"/Training/Corn\"\n",
        "test_g_dir = data_dir + \"/Testing/Corn\""
      ],
      "metadata": {
        "id": "NwElZWJAL35r"
      },
      "execution_count": null,
      "outputs": []
    },
    {
      "cell_type": "code",
      "source": [
        "from keras.preprocessing.image import ImageDataGenerator\n",
        "datagen = ImageDataGenerator(featurewise_center=True)\n",
        "datagen.mean = [123.68, 116.779, 103.939]\n",
        "train_it = datagen.flow_from_directory(\n",
        "                                        batch_size = 32,\n",
        "                                        directory = train_g_dir,\n",
        "                                        shuffle= True,\n",
        "                                        target_size = (128 , 128),\n",
        "                                        class_mode  = \"categorical\"\n",
        "                                        )\n",
        "\n",
        "valid_it = datagen.flow_from_directory(\n",
        "                                        batch_size = 32,\n",
        "                                        directory = test_g_dir,\n",
        "                                        shuffle= True,\n",
        "                                        target_size = (128, 128),\n",
        "                                        class_mode  = \"categorical\"\n",
        "                                        )"
      ],
      "metadata": {
        "colab": {
          "base_uri": "https://localhost:8080/"
        },
        "id": "ONAmvkgCMbuR",
        "outputId": "764660e0-65fe-4b7a-b03c-a18b6f2bd8db"
      },
      "execution_count": null,
      "outputs": [
        {
          "output_type": "stream",
          "name": "stdout",
          "text": [
            "Found 7316 images belonging to 4 classes.\n",
            "Found 1829 images belonging to 4 classes.\n"
          ]
        }
      ]
    },
    {
      "cell_type": "markdown",
      "source": [
        "**VGG16 with flatten**"
      ],
      "metadata": {
        "id": "oJw8RAp-N4BQ"
      }
    },
    {
      "cell_type": "code",
      "source": [
        "# accuracy = 95.02\n",
        "\n",
        "from keras.applications.vgg16 import VGG16\n",
        "from keras.models import Model\n",
        "def define_modelflatten():\n",
        "    # load model\n",
        "    model_corn = VGG16(include_top=False, input_shape=(128, 128, 3))\n",
        "    # mark loaded layers as not trainable\n",
        "    for layer in model_corn.layers:\n",
        "        layer.trainable = False\n",
        "    # add new classifier layers\n",
        "    flat1 = Flatten()(model_corn.layers[-1].output)\n",
        "    class1 = Dense(10, activation='relu', kernel_initializer='he_uniform')(flat1)\n",
        "    output = Dense(4, activation='softmax')(class1)\n",
        "    # define new model\n",
        "    model_corn = Model(inputs=model_corn.inputs, outputs=output)\n",
        "    return model_corn"
      ],
      "metadata": {
        "id": "3vhMLgq0M4TV"
      },
      "execution_count": null,
      "outputs": []
    },
    {
      "cell_type": "code",
      "source": [
        "model_corn = define_modelflatten()\n",
        "model_corn.compile(optimizer='adam', loss='categorical_crossentropy', metrics=['accuracy'])\n",
        "model_corn.summary()"
      ],
      "metadata": {
        "colab": {
          "base_uri": "https://localhost:8080/"
        },
        "id": "8gRuAYXsNbPq",
        "outputId": "8b711f88-8277-4952-f8e6-d86fe84097f9"
      },
      "execution_count": null,
      "outputs": [
        {
          "output_type": "stream",
          "name": "stdout",
          "text": [
            "Downloading data from https://storage.googleapis.com/tensorflow/keras-applications/vgg16/vgg16_weights_tf_dim_ordering_tf_kernels_notop.h5\n",
            "58889256/58889256 [==============================] - 3s 0us/step\n",
            "Model: \"model_1\"\n",
            "_________________________________________________________________\n",
            " Layer (type)                Output Shape              Param #   \n",
            "=================================================================\n",
            " input_1 (InputLayer)        [(None, 128, 128, 3)]     0         \n",
            "                                                                 \n",
            " block1_conv1 (Conv2D)       (None, 128, 128, 64)      1792      \n",
            "                                                                 \n",
            " block1_conv2 (Conv2D)       (None, 128, 128, 64)      36928     \n",
            "                                                                 \n",
            " block1_pool (MaxPooling2D)  (None, 64, 64, 64)        0         \n",
            "                                                                 \n",
            " block2_conv1 (Conv2D)       (None, 64, 64, 128)       73856     \n",
            "                                                                 \n",
            " block2_conv2 (Conv2D)       (None, 64, 64, 128)       147584    \n",
            "                                                                 \n",
            " block2_pool (MaxPooling2D)  (None, 32, 32, 128)       0         \n",
            "                                                                 \n",
            " block3_conv1 (Conv2D)       (None, 32, 32, 256)       295168    \n",
            "                                                                 \n",
            " block3_conv2 (Conv2D)       (None, 32, 32, 256)       590080    \n",
            "                                                                 \n",
            " block3_conv3 (Conv2D)       (None, 32, 32, 256)       590080    \n",
            "                                                                 \n",
            " block3_pool (MaxPooling2D)  (None, 16, 16, 256)       0         \n",
            "                                                                 \n",
            " block4_conv1 (Conv2D)       (None, 16, 16, 512)       1180160   \n",
            "                                                                 \n",
            " block4_conv2 (Conv2D)       (None, 16, 16, 512)       2359808   \n",
            "                                                                 \n",
            " block4_conv3 (Conv2D)       (None, 16, 16, 512)       2359808   \n",
            "                                                                 \n",
            " block4_pool (MaxPooling2D)  (None, 8, 8, 512)         0         \n",
            "                                                                 \n",
            " block5_conv1 (Conv2D)       (None, 8, 8, 512)         2359808   \n",
            "                                                                 \n",
            " block5_conv2 (Conv2D)       (None, 8, 8, 512)         2359808   \n",
            "                                                                 \n",
            " block5_conv3 (Conv2D)       (None, 8, 8, 512)         2359808   \n",
            "                                                                 \n",
            " block5_pool (MaxPooling2D)  (None, 4, 4, 512)         0         \n",
            "                                                                 \n",
            " flatten_1 (Flatten)         (None, 8192)              0         \n",
            "                                                                 \n",
            " dense_2 (Dense)             (None, 10)                81930     \n",
            "                                                                 \n",
            " dense_3 (Dense)             (None, 4)                 44        \n",
            "                                                                 \n",
            "=================================================================\n",
            "Total params: 14796662 (56.44 MB)\n",
            "Trainable params: 81974 (320.21 KB)\n",
            "Non-trainable params: 14714688 (56.13 MB)\n",
            "_________________________________________________________________\n"
          ]
        }
      ]
    },
    {
      "cell_type": "code",
      "source": [
        "epochsteps=len(train_it);epochs=10;valsteps=len(valid_it)\n",
        "# fit model\n",
        "history = model_corn.fit(train_it, steps_per_epoch=epochsteps,\n",
        "                    validation_data=valid_it, validation_steps=valsteps, epochs=10, verbose=1)\n",
        "_, acc = model_corn.evaluate(valid_it, steps=valsteps, verbose=1)\n",
        "print('accuracy',acc * 100.0)"
      ],
      "metadata": {
        "colab": {
          "base_uri": "https://localhost:8080/"
        },
        "id": "AQhX6bpoNnl2",
        "outputId": "24a72e8c-ad0b-4077-936c-6478088bcb68"
      },
      "execution_count": null,
      "outputs": [
        {
          "output_type": "stream",
          "name": "stdout",
          "text": [
            "Epoch 1/10\n",
            "229/229 [==============================] - 30s 87ms/step - loss: 0.5491 - accuracy: 0.7869 - val_loss: 0.2445 - val_accuracy: 0.8989\n",
            "Epoch 2/10\n",
            "229/229 [==============================] - 17s 73ms/step - loss: 0.1567 - accuracy: 0.9440 - val_loss: 0.2004 - val_accuracy: 0.9322\n",
            "Epoch 3/10\n",
            "229/229 [==============================] - 17s 75ms/step - loss: 0.0918 - accuracy: 0.9643 - val_loss: 0.2785 - val_accuracy: 0.9464\n",
            "Epoch 4/10\n",
            "229/229 [==============================] - 17s 75ms/step - loss: 0.0705 - accuracy: 0.9750 - val_loss: 0.2606 - val_accuracy: 0.9535\n",
            "Epoch 5/10\n",
            "229/229 [==============================] - 17s 72ms/step - loss: 0.0438 - accuracy: 0.9841 - val_loss: 0.2675 - val_accuracy: 0.9541\n",
            "Epoch 6/10\n",
            "229/229 [==============================] - 18s 80ms/step - loss: 0.0379 - accuracy: 0.9865 - val_loss: 0.2756 - val_accuracy: 0.9579\n",
            "Epoch 7/10\n",
            "229/229 [==============================] - 17s 75ms/step - loss: 0.0296 - accuracy: 0.9895 - val_loss: 0.4087 - val_accuracy: 0.9486\n",
            "Epoch 8/10\n",
            "229/229 [==============================] - 17s 76ms/step - loss: 0.0212 - accuracy: 0.9930 - val_loss: 0.2683 - val_accuracy: 0.9617\n",
            "Epoch 9/10\n",
            "229/229 [==============================] - 17s 73ms/step - loss: 0.0140 - accuracy: 0.9949 - val_loss: 0.2338 - val_accuracy: 0.9568\n",
            "Epoch 10/10\n",
            "229/229 [==============================] - 17s 72ms/step - loss: 0.0282 - accuracy: 0.9928 - val_loss: 0.3445 - val_accuracy: 0.9502\n",
            "58/58 [==============================] - 4s 59ms/step - loss: 0.3445 - accuracy: 0.9502\n",
            "accuracy 95.02460360527039\n"
          ]
        }
      ]
    },
    {
      "cell_type": "code",
      "source": [
        "plt.plot(history.history['val_loss'], color = 'orange')\n",
        "plt.plot(history.history['loss'], color='red')\n",
        "plt.plot(history.history['accuracy'], color = 'green')"
      ],
      "metadata": {
        "colab": {
          "base_uri": "https://localhost:8080/",
          "height": 447
        },
        "id": "mZ5Fy-HENvGt",
        "outputId": "710110df-2dff-42d4-f8ce-351f1654cd68"
      },
      "execution_count": null,
      "outputs": [
        {
          "output_type": "execute_result",
          "data": {
            "text/plain": [
              "[<matplotlib.lines.Line2D at 0x7951c01e79a0>]"
            ]
          },
          "metadata": {},
          "execution_count": 17
        },
        {
          "output_type": "display_data",
          "data": {
            "text/plain": [
              "<Figure size 640x480 with 1 Axes>"
            ],
            "image/png": "[encoded data removed]"
          },
          "metadata": {}
        }
      ]
    },
    {
      "cell_type": "markdown",
      "source": [
        "**VGG16 with Average Pooling**"
      ],
      "metadata": {
        "id": "nflL9TFHOAw3"
      }
    },
    {
      "cell_type": "code",
      "source": [
        "# accuracy = 96.06\n",
        "\n",
        "# from keras.layers.pooling.global_average_pooling2d import GlobalAveragePooling2D\n",
        "\n",
        "def define_modelavg():\n",
        "    # load model\n",
        "    model_c_avg = VGG16(include_top=False, input_shape=(128, 128, 3))\n",
        "    # mark loaded layers as not trainable\n",
        "    for layer in model_c_avg.layers:\n",
        "        layer.trainable = False\n",
        "    # add new classifier layers\n",
        "    avgpool1 = tf.keras.layers.GlobalAveragePooling2D()(model_c_avg.layers[-1].output)\n",
        "\n",
        "    class1 = Dense(10, activation='relu', kernel_initializer='he_uniform')(avgpool1)\n",
        "    output = Dense(4, activation='softmax')(class1)\n",
        "    # define new model\n",
        "    model_c_avg = Model(inputs=model_c_avg.inputs, outputs=output)\n",
        "    return model_c_avg"
      ],
      "metadata": {
        "id": "D7JIgW35NzC4"
      },
      "execution_count": null,
      "outputs": []
    },
    {
      "cell_type": "code",
      "source": [
        "model_c_avg = define_modelavg()\n",
        "model_c_avg.compile(optimizer='adam', loss='categorical_crossentropy', metrics=['accuracy'])\n",
        "model_c_avg.summary()"
      ],
      "metadata": {
        "colab": {
          "base_uri": "https://localhost:8080/"
        },
        "id": "SBsTs3ZgOoOp",
        "outputId": "05392155-f73b-44b7-88aa-3dc3aafe4026"
      },
      "execution_count": null,
      "outputs": [
        {
          "output_type": "stream",
          "name": "stdout",
          "text": [
            "Model: \"model_1\"\n",
            "_________________________________________________________________\n",
            " Layer (type)                Output Shape              Param #   \n",
            "=================================================================\n",
            " input_2 (InputLayer)        [(None, 128, 128, 3)]     0         \n",
            "                                                                 \n",
            " block1_conv1 (Conv2D)       (None, 128, 128, 64)      1792      \n",
            "                                                                 \n",
            " block1_conv2 (Conv2D)       (None, 128, 128, 64)      36928     \n",
            "                                                                 \n",
            " block1_pool (MaxPooling2D)  (None, 64, 64, 64)        0         \n",
            "                                                                 \n",
            " block2_conv1 (Conv2D)       (None, 64, 64, 128)       73856     \n",
            "                                                                 \n",
            " block2_conv2 (Conv2D)       (None, 64, 64, 128)       147584    \n",
            "                                                                 \n",
            " block2_pool (MaxPooling2D)  (None, 32, 32, 128)       0         \n",
            "                                                                 \n",
            " block3_conv1 (Conv2D)       (None, 32, 32, 256)       295168    \n",
            "                                                                 \n",
            " block3_conv2 (Conv2D)       (None, 32, 32, 256)       590080    \n",
            "                                                                 \n",
            " block3_conv3 (Conv2D)       (None, 32, 32, 256)       590080    \n",
            "                                                                 \n",
            " block3_pool (MaxPooling2D)  (None, 16, 16, 256)       0         \n",
            "                                                                 \n",
            " block4_conv1 (Conv2D)       (None, 16, 16, 512)       1180160   \n",
            "                                                                 \n",
            " block4_conv2 (Conv2D)       (None, 16, 16, 512)       2359808   \n",
            "                                                                 \n",
            " block4_conv3 (Conv2D)       (None, 16, 16, 512)       2359808   \n",
            "                                                                 \n",
            " block4_pool (MaxPooling2D)  (None, 8, 8, 512)         0         \n",
            "                                                                 \n",
            " block5_conv1 (Conv2D)       (None, 8, 8, 512)         2359808   \n",
            "                                                                 \n",
            " block5_conv2 (Conv2D)       (None, 8, 8, 512)         2359808   \n",
            "                                                                 \n",
            " block5_conv3 (Conv2D)       (None, 8, 8, 512)         2359808   \n",
            "                                                                 \n",
            " block5_pool (MaxPooling2D)  (None, 4, 4, 512)         0         \n",
            "                                                                 \n",
            " global_average_pooling2d (  (None, 512)               0         \n",
            " GlobalAveragePooling2D)                                         \n",
            "                                                                 \n",
            " dense_2 (Dense)             (None, 10)                5130      \n",
            "                                                                 \n",
            " dense_3 (Dense)             (None, 4)                 44        \n",
            "                                                                 \n",
            "=================================================================\n",
            "Total params: 14719862 (56.15 MB)\n",
            "Trainable params: 5174 (20.21 KB)\n",
            "Non-trainable params: 14714688 (56.13 MB)\n",
            "_________________________________________________________________\n"
          ]
        }
      ]
    },
    {
      "cell_type": "code",
      "source": [
        "epochsteps=len(train_it);epochs =10;valsteps=len(valid_it)\n",
        "# fit model\n",
        "history = model_c_avg.fit(train_it, steps_per_epoch=epochsteps,\n",
        "                    validation_data=valid_it, validation_steps=valsteps, epochs=10, verbose=1)\n",
        "_, acc = model_c_avg.evaluate(valid_it, steps=valsteps, verbose=1)\n",
        "print('accuracy',acc * 100.0)"
      ],
      "metadata": {
        "colab": {
          "base_uri": "https://localhost:8080/"
        },
        "id": "gG_8meyGO_0j",
        "outputId": "959d071d-de09-4acb-9fec-2efa742fa30c"
      },
      "execution_count": null,
      "outputs": [
        {
          "output_type": "stream",
          "name": "stdout",
          "text": [
            "Epoch 1/10\n",
            "229/229 [==============================] - 20s 77ms/step - loss: 0.3872 - accuracy: 0.8442 - val_loss: 0.2162 - val_accuracy: 0.9202\n",
            "Epoch 2/10\n",
            "229/229 [==============================] - 17s 76ms/step - loss: 0.1560 - accuracy: 0.9373 - val_loss: 0.1667 - val_accuracy: 0.9349\n",
            "Epoch 3/10\n",
            "229/229 [==============================] - 17s 73ms/step - loss: 0.1142 - accuracy: 0.9537 - val_loss: 0.1401 - val_accuracy: 0.9453\n",
            "Epoch 4/10\n",
            "229/229 [==============================] - 17s 73ms/step - loss: 0.0912 - accuracy: 0.9638 - val_loss: 0.1252 - val_accuracy: 0.9552\n",
            "Epoch 5/10\n",
            "229/229 [==============================] - 17s 75ms/step - loss: 0.0787 - accuracy: 0.9699 - val_loss: 0.1215 - val_accuracy: 0.9541\n",
            "Epoch 6/10\n",
            "229/229 [==============================] - 17s 76ms/step - loss: 0.0675 - accuracy: 0.9735 - val_loss: 0.1161 - val_accuracy: 0.9590\n",
            "Epoch 7/10\n",
            "229/229 [==============================] - 18s 79ms/step - loss: 0.0608 - accuracy: 0.9769 - val_loss: 0.1133 - val_accuracy: 0.9574\n",
            "Epoch 8/10\n",
            "229/229 [==============================] - 17s 74ms/step - loss: 0.0559 - accuracy: 0.9769 - val_loss: 0.1174 - val_accuracy: 0.9552\n",
            "Epoch 9/10\n",
            "229/229 [==============================] - 18s 77ms/step - loss: 0.0516 - accuracy: 0.9792 - val_loss: 0.1088 - val_accuracy: 0.9606\n",
            "Epoch 10/10\n",
            "229/229 [==============================] - 17s 75ms/step - loss: 0.0453 - accuracy: 0.9817 - val_loss: 0.1204 - val_accuracy: 0.9606\n",
            "58/58 [==============================] - 3s 56ms/step - loss: 0.1204 - accuracy: 0.9606\n",
            "accuracy 96.06342315673828\n"
          ]
        }
      ]
    },
    {
      "cell_type": "code",
      "source": [
        "plt.plot(history.history['val_loss'], color = 'orange')\n",
        "plt.plot(history.history['loss'], color='red')\n",
        "plt.plot(history.history['accuracy'], color = 'green')"
      ],
      "metadata": {
        "colab": {
          "base_uri": "https://localhost:8080/",
          "height": 447
        },
        "id": "vsnAPO7YV5Wr",
        "outputId": "98b3fddd-ea76-4407-d0d3-306d4dfc5831"
      },
      "execution_count": null,
      "outputs": [
        {
          "output_type": "execute_result",
          "data": {
            "text/plain": [
              "[<matplotlib.lines.Line2D at 0x795161bef910>]"
            ]
          },
          "metadata": {},
          "execution_count": 22
        },
        {
          "output_type": "display_data",
          "data": {
            "text/plain": [
              "<Figure size 640x480 with 1 Axes>"
            ],
            "image/png": "[encoded data removed]"
          },
          "metadata": {}
        }
      ]
    },
    {
      "cell_type": "markdown",
      "source": [
        "**CNN model with flatten**"
      ],
      "metadata": {
        "id": "-jLtOAHzPIcV"
      }
    },
    {
      "cell_type": "code",
      "source": [
        "# accuracy = 96.82\n",
        "\n",
        "def define_c():\n",
        "  corn = models.Sequential()\n",
        "  corn = Sequential()\n",
        "\n",
        "  corn.add(Conv2D(filters=16,kernel_size=(3,3),padding=\"same\", activation=\"relu\", input_shape=(128,128,3)))\n",
        "  corn.add(MaxPool2D(pool_size=(2,2),strides=(2,2)))\n",
        "  #grape.add(Dropout(0.4))\n",
        "\n",
        "  corn.add(Conv2D(filters=32, kernel_size=(3,3), padding=\"same\", activation=\"relu\"))\n",
        "  corn.add(MaxPool2D(pool_size=(2,2),strides=(2,2)))\n",
        "  #grape.add(Dropout(0.5))\n",
        "\n",
        "  corn.add(Conv2D(filters=64, kernel_size=(3,3), padding=\"same\", activation=\"relu\"))\n",
        "  corn.add(MaxPool2D(pool_size=(2,2),strides=(2,2)))\n",
        "\n",
        "\n",
        "  flat1 = Flatten()(corn.layers[-1].output)\n",
        "  class1 = Dense(16, activation='relu', kernel_initializer='he_uniform')(flat1)\n",
        "  output = Dense(4, activation='softmax')(class1)\n",
        "  corn = Model(inputs=corn.inputs, outputs=output)\n",
        "  return corn"
      ],
      "metadata": {
        "id": "jfSzGuAlsszk"
      },
      "execution_count": null,
      "outputs": []
    },
    {
      "cell_type": "code",
      "source": [
        "corn = define_c()\n",
        "corn.compile(optimizer='adam', loss='categorical_crossentropy', metrics=['accuracy'])\n",
        "corn.summary()"
      ],
      "metadata": {
        "colab": {
          "base_uri": "https://localhost:8080/"
        },
        "id": "DsfEzPhjtcN9",
        "outputId": "8d71b667-9d71-4579-9646-46383f5c2b77"
      },
      "execution_count": null,
      "outputs": [
        {
          "output_type": "stream",
          "name": "stdout",
          "text": [
            "Model: \"model_2\"\n",
            "_________________________________________________________________\n",
            " Layer (type)                Output Shape              Param #   \n",
            "=================================================================\n",
            " conv2d_7_input (InputLayer  [(None, 128, 128, 3)]     0         \n",
            " )                                                               \n",
            "                                                                 \n",
            " conv2d_7 (Conv2D)           (None, 128, 128, 16)      448       \n",
            "                                                                 \n",
            " max_pooling2d_7 (MaxPoolin  (None, 64, 64, 16)        0         \n",
            " g2D)                                                            \n",
            "                                                                 \n",
            " conv2d_8 (Conv2D)           (None, 64, 64, 32)        4640      \n",
            "                                                                 \n",
            " max_pooling2d_8 (MaxPoolin  (None, 32, 32, 32)        0         \n",
            " g2D)                                                            \n",
            "                                                                 \n",
            " conv2d_9 (Conv2D)           (None, 32, 32, 64)        18496     \n",
            "                                                                 \n",
            " max_pooling2d_9 (MaxPoolin  (None, 16, 16, 64)        0         \n",
            " g2D)                                                            \n",
            "                                                                 \n",
            " flatten_3 (Flatten)         (None, 16384)             0         \n",
            "                                                                 \n",
            " dense_6 (Dense)             (None, 16)                262160    \n",
            "                                                                 \n",
            " dense_7 (Dense)             (None, 4)                 68        \n",
            "                                                                 \n",
            "=================================================================\n",
            "Total params: 285812 (1.09 MB)\n",
            "Trainable params: 285812 (1.09 MB)\n",
            "Non-trainable params: 0 (0.00 Byte)\n",
            "_________________________________________________________________\n"
          ]
        }
      ]
    },
    {
      "cell_type": "code",
      "source": [
        "epochsteps=len(train_it);epochs =10;valsteps=len(valid_it)\n",
        "# fit model\n",
        "history = corn.fit(train_it, steps_per_epoch = epochsteps, validation_data = valid_it, validation_steps = valsteps, epochs = 10, verbose = 1)\n",
        "_, acc = corn.evaluate(valid_it, steps = valsteps, verbose = 1)\n",
        "print('accuracy',acc * 100.0)"
      ],
      "metadata": {
        "colab": {
          "base_uri": "https://localhost:8080/"
        },
        "id": "3lKQ1bIdtjAV",
        "outputId": "79189912-4c74-4e03-926f-5739ddfc1b81"
      },
      "execution_count": null,
      "outputs": [
        {
          "output_type": "stream",
          "name": "stdout",
          "text": [
            "Epoch 1/10\n",
            "229/229 [==============================] - 18s 60ms/step - loss: 2.1690 - accuracy: 0.7407 - val_loss: 0.2086 - val_accuracy: 0.9207\n",
            "Epoch 2/10\n",
            "229/229 [==============================] - 14s 62ms/step - loss: 0.1689 - accuracy: 0.9374 - val_loss: 0.1782 - val_accuracy: 0.9459\n",
            "Epoch 3/10\n",
            "229/229 [==============================] - 13s 56ms/step - loss: 0.1040 - accuracy: 0.9609 - val_loss: 0.1294 - val_accuracy: 0.9530\n",
            "Epoch 4/10\n",
            "229/229 [==============================] - 13s 57ms/step - loss: 0.0632 - accuracy: 0.9792 - val_loss: 0.1297 - val_accuracy: 0.9590\n",
            "Epoch 5/10\n",
            "229/229 [==============================] - 13s 58ms/step - loss: 0.0492 - accuracy: 0.9820 - val_loss: 0.1194 - val_accuracy: 0.9606\n",
            "Epoch 6/10\n",
            "229/229 [==============================] - 13s 56ms/step - loss: 0.0481 - accuracy: 0.9832 - val_loss: 0.2126 - val_accuracy: 0.9524\n",
            "Epoch 7/10\n",
            "229/229 [==============================] - 14s 59ms/step - loss: 0.0496 - accuracy: 0.9818 - val_loss: 0.1385 - val_accuracy: 0.9568\n",
            "Epoch 8/10\n",
            "229/229 [==============================] - 13s 57ms/step - loss: 0.0421 - accuracy: 0.9846 - val_loss: 0.1593 - val_accuracy: 0.9557\n",
            "Epoch 9/10\n",
            "229/229 [==============================] - 13s 59ms/step - loss: 0.0385 - accuracy: 0.9874 - val_loss: 0.1963 - val_accuracy: 0.9420\n",
            "Epoch 10/10\n",
            "229/229 [==============================] - 13s 55ms/step - loss: 0.0434 - accuracy: 0.9848 - val_loss: 0.1291 - val_accuracy: 0.9683\n",
            "58/58 [==============================] - 2s 39ms/step - loss: 0.1291 - accuracy: 0.9683\n",
            "accuracy 96.82886600494385\n"
          ]
        }
      ]
    },
    {
      "cell_type": "code",
      "source": [
        "plt.plot(history.history['val_loss'], color = 'orange')\n",
        "plt.plot(history.history['loss'], color='red')\n",
        "plt.plot(history.history['accuracy'], color = 'green')"
      ],
      "metadata": {
        "id": "1JdXDmEEQMmO",
        "colab": {
          "base_uri": "https://localhost:8080/",
          "height": 447
        },
        "outputId": "841f0712-929b-4366-ea6a-1b90d438ea1b"
      },
      "execution_count": null,
      "outputs": [
        {
          "output_type": "execute_result",
          "data": {
            "text/plain": [
              "[<matplotlib.lines.Line2D at 0x7dc502406bf0>]"
            ]
          },
          "metadata": {},
          "execution_count": 27
        },
        {
          "output_type": "display_data",
          "data": {
            "text/plain": [
              "<Figure size 640x480 with 1 Axes>"
            ],
            "image/png": "[encoded data removed]"
          },
          "metadata": {}
        }
      ]
    },
    {
      "cell_type": "markdown",
      "source": [
        "**CNN model with Average Pooling**"
      ],
      "metadata": {
        "id": "pdRyNRBtQLfE"
      }
    },
    {
      "cell_type": "code",
      "source": [
        "# accuracy = 90.21 in 10th epoch but it was 94.86 in 9th epoch with dense = 16\n",
        "\n",
        "\n",
        "def define_c_a():\n",
        "  corn_avg = models.Sequential()\n",
        "  corn_avg = Sequential()\n",
        "\n",
        "  corn_avg.add(Conv2D(filters=16,kernel_size=(3,3),padding=\"same\", activation=\"relu\", input_shape=(128,128,3)))\n",
        "  corn_avg.add(MaxPool2D(pool_size=(2,2),strides=(2,2)))\n",
        "\n",
        "  corn_avg.add(Conv2D(filters=32, kernel_size=(3,3), padding=\"same\", activation=\"relu\"))\n",
        "  corn_avg.add(MaxPool2D(pool_size=(2,2),strides=(2,2)))\n",
        "\n",
        "  avg1 = tf.keras.layers.GlobalAveragePooling2D()(corn_avg.layers[-1].output)\n",
        "  class1 = Dense(16, activation='relu', kernel_initializer='he_uniform')(avg1)\n",
        "  output = Dense(4, activation='softmax')(class1)\n",
        "  corn_avg = Model(inputs=corn_avg.inputs, outputs=output)\n",
        "  return corn_avg"
      ],
      "metadata": {
        "id": "ZtPZV8icvG_B"
      },
      "execution_count": null,
      "outputs": []
    },
    {
      "cell_type": "code",
      "source": [
        "corn_avg = define_c_a()\n",
        "corn_avg.compile(optimizer='adam', loss='categorical_crossentropy', metrics=['accuracy'])\n",
        "corn_avg.summary()"
      ],
      "metadata": {
        "colab": {
          "base_uri": "https://localhost:8080/"
        },
        "id": "PtiZ629ev-76",
        "outputId": "87fc28de-7ed1-47cf-a2cf-2b6e931f2826"
      },
      "execution_count": null,
      "outputs": [
        {
          "output_type": "stream",
          "name": "stdout",
          "text": [
            "Model: \"model_3\"\n",
            "_________________________________________________________________\n",
            " Layer (type)                Output Shape              Param #   \n",
            "=================================================================\n",
            " conv2d_10_input (InputLaye  [(None, 128, 128, 3)]     0         \n",
            " r)                                                              \n",
            "                                                                 \n",
            " conv2d_10 (Conv2D)          (None, 128, 128, 16)      448       \n",
            "                                                                 \n",
            " max_pooling2d_10 (MaxPooli  (None, 64, 64, 16)        0         \n",
            " ng2D)                                                           \n",
            "                                                                 \n",
            " conv2d_11 (Conv2D)          (None, 64, 64, 32)        4640      \n",
            "                                                                 \n",
            " max_pooling2d_11 (MaxPooli  (None, 32, 32, 32)        0         \n",
            " ng2D)                                                           \n",
            "                                                                 \n",
            " global_average_pooling2d (  (None, 32)                0         \n",
            " GlobalAveragePooling2D)                                         \n",
            "                                                                 \n",
            " dense_8 (Dense)             (None, 16)                528       \n",
            "                                                                 \n",
            " dense_9 (Dense)             (None, 4)                 68        \n",
            "                                                                 \n",
            "=================================================================\n",
            "Total params: 5684 (22.20 KB)\n",
            "Trainable params: 5684 (22.20 KB)\n",
            "Non-trainable params: 0 (0.00 Byte)\n",
            "_________________________________________________________________\n"
          ]
        }
      ]
    },
    {
      "cell_type": "code",
      "source": [
        "epochsteps=len(train_it);epochs =10;valsteps=len(valid_it)\n",
        "# fit model\n",
        "history = corn_avg.fit(train_it, steps_per_epoch=epochsteps,\n",
        "                    validation_data=valid_it, validation_steps=valsteps, epochs=10, verbose=1)\n",
        "_, acc = corn_avg.evaluate(valid_it, steps=valsteps, verbose=1)\n",
        "print('accuracy',acc * 100.0)"
      ],
      "metadata": {
        "colab": {
          "base_uri": "https://localhost:8080/"
        },
        "id": "2RIHxJSSwEyo",
        "outputId": "6e4e1b83-59b8-48a1-a73d-5164a3fbe99a"
      },
      "execution_count": null,
      "outputs": [
        {
          "output_type": "stream",
          "name": "stdout",
          "text": [
            "Epoch 1/10\n",
            "229/229 [==============================] - 15s 61ms/step - loss: 0.6230 - accuracy: 0.7592 - val_loss: 0.3408 - val_accuracy: 0.8660\n",
            "Epoch 2/10\n",
            "229/229 [==============================] - 15s 65ms/step - loss: 0.2670 - accuracy: 0.8939 - val_loss: 0.2259 - val_accuracy: 0.9131\n",
            "Epoch 3/10\n",
            "229/229 [==============================] - 14s 62ms/step - loss: 0.1899 - accuracy: 0.9277 - val_loss: 0.1837 - val_accuracy: 0.9273\n",
            "Epoch 4/10\n",
            "229/229 [==============================] - 13s 56ms/step - loss: 0.1728 - accuracy: 0.9341 - val_loss: 0.2020 - val_accuracy: 0.9191\n",
            "Epoch 5/10\n",
            "229/229 [==============================] - 13s 58ms/step - loss: 0.1402 - accuracy: 0.9475 - val_loss: 0.1708 - val_accuracy: 0.9360\n",
            "Epoch 6/10\n",
            "229/229 [==============================] - 13s 56ms/step - loss: 0.1425 - accuracy: 0.9438 - val_loss: 0.1845 - val_accuracy: 0.9273\n",
            "Epoch 7/10\n",
            "229/229 [==============================] - 13s 58ms/step - loss: 0.1230 - accuracy: 0.9541 - val_loss: 0.1293 - val_accuracy: 0.9481\n",
            "Epoch 8/10\n",
            "229/229 [==============================] - 13s 55ms/step - loss: 0.1163 - accuracy: 0.9560 - val_loss: 0.1418 - val_accuracy: 0.9464\n",
            "Epoch 9/10\n",
            "229/229 [==============================] - 13s 57ms/step - loss: 0.1049 - accuracy: 0.9598 - val_loss: 0.1359 - val_accuracy: 0.9486\n",
            "Epoch 10/10\n",
            "229/229 [==============================] - 13s 55ms/step - loss: 0.1312 - accuracy: 0.9504 - val_loss: 0.2695 - val_accuracy: 0.9021\n",
            "58/58 [==============================] - 2s 39ms/step - loss: 0.2695 - accuracy: 0.9021\n",
            "accuracy 90.21323323249817\n"
          ]
        }
      ]
    },
    {
      "cell_type": "code",
      "source": [
        "plt.plot(history.history['val_loss'], color = 'orange')\n",
        "plt.plot(history.history['loss'], color='red')\n",
        "plt.plot(history.history['accuracy'], color = 'green')"
      ],
      "metadata": {
        "id": "7gVbr2VcQ1BL",
        "colab": {
          "base_uri": "https://localhost:8080/",
          "height": 451
        },
        "outputId": "df712a7b-1e6e-4dc8-a0fb-e320c50f836c"
      },
      "execution_count": null,
      "outputs": [
        {
          "output_type": "execute_result",
          "data": {
            "text/plain": [
              "[<matplotlib.lines.Line2D at 0x7dc50229d420>]"
            ]
          },
          "metadata": {},
          "execution_count": 32
        },
        {
          "output_type": "display_data",
          "data": {
            "text/plain": [
              "<Figure size 640x480 with 1 Axes>"
            ],
            "image/png": "[encoded data removed]"
          },
          "metadata": {}
        }
      ]
    },
    {
      "cell_type": "markdown",
      "source": [
        "# **Tomato (Incomplete)**"
      ],
      "metadata": {
        "id": "Z50PxmWwL0x-"
      }
    },
    {
      "cell_type": "code",
      "source": [
        "data_dir = r\"/tmp/DS MINI PROJECT DATASET(BALANCEDANDIMBALANCED)\"\n",
        "\n",
        "train_t_dir = data_dir + \"/Training/Tomato\"\n",
        "test_t_dir = data_dir + \"/Testing/Tomato\""
      ],
      "metadata": {
        "id": "cTKuhEHwL5-1"
      },
      "execution_count": null,
      "outputs": []
    },
    {
      "cell_type": "code",
      "source": [
        "from keras.preprocessing.image import ImageDataGenerator\n",
        "datagen = ImageDataGenerator(featurewise_center=True)\n",
        "datagen.mean = [123.68, 116.779, 103.939]\n",
        "train_it = datagen.flow_from_directory(\n",
        "                                        batch_size = 32,\n",
        "                                        directory = train_t_dir,\n",
        "                                        shuffle= True,\n",
        "                                        target_size = (128 , 128),\n",
        "                                        class_mode  = \"categorical\"\n",
        "                                        )\n",
        "\n",
        "valid_it = datagen.flow_from_directory(\n",
        "                                        batch_size = 32,\n",
        "                                        directory = test_t_dir,\n",
        "                                        shuffle= True,\n",
        "                                        target_size = (128, 128),\n",
        "                                        class_mode  = \"categorical\"\n",
        "                                        )"
      ],
      "metadata": {
        "colab": {
          "base_uri": "https://localhost:8080/"
        },
        "id": "fnXDDnADMUnq",
        "outputId": "ec1fcf9d-2284-4f4d-d5e4-2f7b31a06e03"
      },
      "execution_count": null,
      "outputs": [
        {
          "output_type": "stream",
          "name": "stdout",
          "text": [
            "Found 18345 images belonging to 10 classes.\n",
            "Found 4585 images belonging to 10 classes.\n"
          ]
        }
      ]
    },
    {
      "cell_type": "markdown",
      "source": [
        "VGG16 with flatten"
      ],
      "metadata": {
        "id": "CA6Xdq1QWaO6"
      }
    },
    {
      "cell_type": "code",
      "source": [
        "from keras.applications.vgg16 import VGG16\n",
        "from keras.models import Model\n",
        "def define_modelflatten():\n",
        "    # load model\n",
        "    model_Tomato = VGG16(include_top=False, input_shape=(128, 128, 3))\n",
        "    # mark loaded layers as not trainable\n",
        "    for layer in model_Tomato.layers:\n",
        "        layer.trainable = False\n",
        "    # add new classifier layers\n",
        "    flat1 = Flatten()(model_Tomato.layers[-1].output)\n",
        "    class1 = Dense(32, activation='relu', kernel_initializer='he_uniform')(flat1)\n",
        "    output = Dense(10, activation='softmax')(class1)\n",
        "    # define new model\n",
        "    model_Tomato = Model(inputs=model_Tomato.inputs, outputs=output)\n",
        "    return model_Tomato"
      ],
      "metadata": {
        "id": "jIsGqP3iM9Gq"
      },
      "execution_count": null,
      "outputs": []
    },
    {
      "cell_type": "code",
      "source": [
        "model_Tomato = define_modelflatten()\n",
        "model_Tomato.compile(optimizer='adam', loss='categorical_crossentropy', metrics=['accuracy'])\n",
        "model_Tomato.summary()"
      ],
      "metadata": {
        "colab": {
          "base_uri": "https://localhost:8080/"
        },
        "id": "a61iD9QsNEl2",
        "outputId": "40994d3e-6ccb-4f80-c789-c477f8e46c0d"
      },
      "execution_count": null,
      "outputs": [
        {
          "output_type": "stream",
          "name": "stdout",
          "text": [
            "Model: \"model_1\"\n",
            "_________________________________________________________________\n",
            " Layer (type)                Output Shape              Param #   \n",
            "=================================================================\n",
            " input_2 (InputLayer)        [(None, 128, 128, 3)]     0         \n",
            "                                                                 \n",
            " block1_conv1 (Conv2D)       (None, 128, 128, 64)      1792      \n",
            "                                                                 \n",
            " block1_conv2 (Conv2D)       (None, 128, 128, 64)      36928     \n",
            "                                                                 \n",
            " block1_pool (MaxPooling2D)  (None, 64, 64, 64)        0         \n",
            "                                                                 \n",
            " block2_conv1 (Conv2D)       (None, 64, 64, 128)       73856     \n",
            "                                                                 \n",
            " block2_conv2 (Conv2D)       (None, 64, 64, 128)       147584    \n",
            "                                                                 \n",
            " block2_pool (MaxPooling2D)  (None, 32, 32, 128)       0         \n",
            "                                                                 \n",
            " block3_conv1 (Conv2D)       (None, 32, 32, 256)       295168    \n",
            "                                                                 \n",
            " block3_conv2 (Conv2D)       (None, 32, 32, 256)       590080    \n",
            "                                                                 \n",
            " block3_conv3 (Conv2D)       (None, 32, 32, 256)       590080    \n",
            "                                                                 \n",
            " block3_pool (MaxPooling2D)  (None, 16, 16, 256)       0         \n",
            "                                                                 \n",
            " block4_conv1 (Conv2D)       (None, 16, 16, 512)       1180160   \n",
            "                                                                 \n",
            " block4_conv2 (Conv2D)       (None, 16, 16, 512)       2359808   \n",
            "                                                                 \n",
            " block4_conv3 (Conv2D)       (None, 16, 16, 512)       2359808   \n",
            "                                                                 \n",
            " block4_pool (MaxPooling2D)  (None, 8, 8, 512)         0         \n",
            "                                                                 \n",
            " block5_conv1 (Conv2D)       (None, 8, 8, 512)         2359808   \n",
            "                                                                 \n",
            " block5_conv2 (Conv2D)       (None, 8, 8, 512)         2359808   \n",
            "                                                                 \n",
            " block5_conv3 (Conv2D)       (None, 8, 8, 512)         2359808   \n",
            "                                                                 \n",
            " block5_pool (MaxPooling2D)  (None, 4, 4, 512)         0         \n",
            "                                                                 \n",
            " flatten (Flatten)           (None, 8192)              0         \n",
            "                                                                 \n",
            " dense_2 (Dense)             (None, 32)                262176    \n",
            "                                                                 \n",
            " dense_3 (Dense)             (None, 10)                330       \n",
            "                                                                 \n",
            "=================================================================\n",
            "Total params: 14977194 (57.13 MB)\n",
            "Trainable params: 262506 (1.00 MB)\n",
            "Non-trainable params: 14714688 (56.13 MB)\n",
            "_________________________________________________________________\n"
          ]
        }
      ]
    },
    {
      "cell_type": "code",
      "source": [
        "epochsteps=len(train_it);epochs=10;valsteps=len(valid_it)\n",
        "# fit model\n",
        "history = model_Tomato.fit(train_it, steps_per_epoch=epochsteps, validation_data=valid_it, validation_steps=valsteps, epochs=10, verbose=1)\n",
        "_, acc = model_Tomato.evaluate(valid_it, steps=valsteps, verbose=1)\n",
        "print('accuracy',acc * 100.0)"
      ],
      "metadata": {
        "colab": {
          "base_uri": "https://localhost:8080/"
        },
        "id": "ytaRCccvNQP_",
        "outputId": "18cd4194-1ad2-4f14-96b3-2f19cd2e724f"
      },
      "execution_count": null,
      "outputs": [
        {
          "output_type": "stream",
          "name": "stdout",
          "text": [
            "Epoch 1/10\n",
            "574/574 [==============================] - 45s 75ms/step - loss: 1.5146 - accuracy: 0.5119 - val_loss: 1.0252 - val_accuracy: 0.6159\n",
            "Epoch 2/10\n",
            "574/574 [==============================] - 44s 76ms/step - loss: 0.7701 - accuracy: 0.7237 - val_loss: 0.7343 - val_accuracy: 0.7655\n",
            "Epoch 3/10\n",
            "574/574 [==============================] - 43s 76ms/step - loss: 0.4930 - accuracy: 0.8250 - val_loss: 0.5612 - val_accuracy: 0.8009\n",
            "Epoch 4/10\n",
            "574/574 [==============================] - 46s 80ms/step - loss: 0.3506 - accuracy: 0.8769 - val_loss: 0.5715 - val_accuracy: 0.8209\n",
            "Epoch 5/10\n",
            "574/574 [==============================] - 44s 76ms/step - loss: 0.2543 - accuracy: 0.9082 - val_loss: 0.6441 - val_accuracy: 0.8273\n",
            "Epoch 6/10\n",
            "574/574 [==============================] - 46s 79ms/step - loss: 0.2135 - accuracy: 0.9228 - val_loss: 0.5322 - val_accuracy: 0.8388\n",
            "Epoch 7/10\n",
            "574/574 [==============================] - 42s 74ms/step - loss: 0.1771 - accuracy: 0.9368 - val_loss: 0.6030 - val_accuracy: 0.8399\n",
            "Epoch 8/10\n",
            "574/574 [==============================] - 43s 75ms/step - loss: 0.1384 - accuracy: 0.9504 - val_loss: 0.5806 - val_accuracy: 0.8578\n",
            "Epoch 9/10\n",
            "574/574 [==============================] - 43s 75ms/step - loss: 0.1290 - accuracy: 0.9551 - val_loss: 0.6299 - val_accuracy: 0.8576\n",
            "Epoch 10/10\n",
            "574/574 [==============================] - 44s 77ms/step - loss: 0.1246 - accuracy: 0.9553 - val_loss: 0.7051 - val_accuracy: 0.8410\n",
            "144/144 [==============================] - 9s 62ms/step - loss: 0.7051 - accuracy: 0.8410\n",
            "accuracy 84.10032987594604\n"
          ]
        }
      ]
    },
    {
      "cell_type": "code",
      "source": [],
      "metadata": {
        "id": "PoahtT0bX0PA"
      },
      "execution_count": null,
      "outputs": []
    },
    {
      "cell_type": "markdown",
      "source": [
        "VGG16 with average pooling"
      ],
      "metadata": {
        "id": "xntnF7nvYG2-"
      }
    },
    {
      "cell_type": "code",
      "source": [
        "from keras.applications.vgg16 import VGG16\n",
        "def define_modelavg():\n",
        "    # load model\n",
        "    model_t_avg = VGG16(include_top=False, input_shape=(128, 128, 3))\n",
        "    # mark loaded layers as not trainable\n",
        "    for layer in model_t_avg.layers:\n",
        "        layer.trainable = False\n",
        "    # add new classifier layers\n",
        "    avgpool1 = tf.keras.layers.GlobalAveragePooling2D()(model_t_avg.layers[-1].output)\n",
        "\n",
        "    class1 = Dense(32, activation='relu', kernel_initializer='he_uniform')(avgpool1)\n",
        "    output = Dense(10, activation='softmax')(class1)\n",
        "    # define new model\n",
        "    model_t_avg = Model(inputs=model_t_avg.inputs, outputs=output)\n",
        "    return model_t_avg"
      ],
      "metadata": {
        "id": "tcVFebOLYKd9"
      },
      "execution_count": null,
      "outputs": []
    },
    {
      "cell_type": "code",
      "source": [
        "model_t_avg = define_modelavg()\n",
        "model_t_avg.compile(optimizer='adam', loss='categorical_crossentropy', metrics=['accuracy'])\n",
        "model_t_avg.summary()"
      ],
      "metadata": {
        "colab": {
          "base_uri": "https://localhost:8080/"
        },
        "id": "H976ZwJNYRz0",
        "outputId": "7112e8fb-e67a-4371-f659-6b24c721c38a"
      },
      "execution_count": null,
      "outputs": [
        {
          "output_type": "stream",
          "name": "stdout",
          "text": [
            "Model: \"model_2\"\n",
            "_________________________________________________________________\n",
            " Layer (type)                Output Shape              Param #   \n",
            "=================================================================\n",
            " input_3 (InputLayer)        [(None, 128, 128, 3)]     0         \n",
            "                                                                 \n",
            " block1_conv1 (Conv2D)       (None, 128, 128, 64)      1792      \n",
            "                                                                 \n",
            " block1_conv2 (Conv2D)       (None, 128, 128, 64)      36928     \n",
            "                                                                 \n",
            " block1_pool (MaxPooling2D)  (None, 64, 64, 64)        0         \n",
            "                                                                 \n",
            " block2_conv1 (Conv2D)       (None, 64, 64, 128)       73856     \n",
            "                                                                 \n",
            " block2_conv2 (Conv2D)       (None, 64, 64, 128)       147584    \n",
            "                                                                 \n",
            " block2_pool (MaxPooling2D)  (None, 32, 32, 128)       0         \n",
            "                                                                 \n",
            " block3_conv1 (Conv2D)       (None, 32, 32, 256)       295168    \n",
            "                                                                 \n",
            " block3_conv2 (Conv2D)       (None, 32, 32, 256)       590080    \n",
            "                                                                 \n",
            " block3_conv3 (Conv2D)       (None, 32, 32, 256)       590080    \n",
            "                                                                 \n",
            " block3_pool (MaxPooling2D)  (None, 16, 16, 256)       0         \n",
            "                                                                 \n",
            " block4_conv1 (Conv2D)       (None, 16, 16, 512)       1180160   \n",
            "                                                                 \n",
            " block4_conv2 (Conv2D)       (None, 16, 16, 512)       2359808   \n",
            "                                                                 \n",
            " block4_conv3 (Conv2D)       (None, 16, 16, 512)       2359808   \n",
            "                                                                 \n",
            " block4_pool (MaxPooling2D)  (None, 8, 8, 512)         0         \n",
            "                                                                 \n",
            " block5_conv1 (Conv2D)       (None, 8, 8, 512)         2359808   \n",
            "                                                                 \n",
            " block5_conv2 (Conv2D)       (None, 8, 8, 512)         2359808   \n",
            "                                                                 \n",
            " block5_conv3 (Conv2D)       (None, 8, 8, 512)         2359808   \n",
            "                                                                 \n",
            " block5_pool (MaxPooling2D)  (None, 4, 4, 512)         0         \n",
            "                                                                 \n",
            " global_average_pooling2d_1  (None, 512)               0         \n",
            "  (GlobalAveragePooling2D)                                       \n",
            "                                                                 \n",
            " dense_4 (Dense)             (None, 32)                16416     \n",
            "                                                                 \n",
            " dense_5 (Dense)             (None, 10)                330       \n",
            "                                                                 \n",
            "=================================================================\n",
            "Total params: 14731434 (56.20 MB)\n",
            "Trainable params: 16746 (65.41 KB)\n",
            "Non-trainable params: 14714688 (56.13 MB)\n",
            "_________________________________________________________________\n"
          ]
        }
      ]
    },
    {
      "cell_type": "code",
      "source": [
        "epochsteps=len(train_it);epochs =10;valsteps=len(valid_it)\n",
        "# fit model\n",
        "history = model_t_avg.fit(train_it, steps_per_epoch=epochsteps, validation_data=valid_it, validation_steps=valsteps, epochs=10, verbose=1)\n",
        "_, acc = model_t_avg.evaluate(valid_it, steps=valsteps, verbose=1)\n",
        "print('accuracy',acc * 100.0)"
      ],
      "metadata": {
        "colab": {
          "base_uri": "https://localhost:8080/"
        },
        "id": "8Hkhd9W3Yeb6",
        "outputId": "5ea54ce6-c883-40f8-d540-0f3b88f6f632"
      },
      "execution_count": null,
      "outputs": [
        {
          "output_type": "stream",
          "name": "stdout",
          "text": [
            "Epoch 1/10\n",
            "574/574 [==============================] - 45s 77ms/step - loss: 1.1748 - accuracy: 0.6415 - val_loss: 0.6234 - val_accuracy: 0.7847\n",
            "Epoch 2/10\n",
            "574/574 [==============================] - 44s 77ms/step - loss: 0.4726 - accuracy: 0.8372 - val_loss: 0.4562 - val_accuracy: 0.8432\n",
            "Epoch 3/10\n",
            "574/574 [==============================] - 44s 77ms/step - loss: 0.3524 - accuracy: 0.8782 - val_loss: 0.4440 - val_accuracy: 0.8532\n",
            "Epoch 4/10\n",
            "574/574 [==============================] - 43s 74ms/step - loss: 0.2862 - accuracy: 0.9024 - val_loss: 0.3956 - val_accuracy: 0.8724\n",
            "Epoch 5/10\n",
            "574/574 [==============================] - 44s 76ms/step - loss: 0.2470 - accuracy: 0.9158 - val_loss: 0.3596 - val_accuracy: 0.8840\n",
            "Epoch 6/10\n",
            "574/574 [==============================] - 43s 76ms/step - loss: 0.2185 - accuracy: 0.9253 - val_loss: 0.3400 - val_accuracy: 0.8875\n",
            "Epoch 7/10\n",
            "574/574 [==============================] - 46s 79ms/step - loss: 0.1899 - accuracy: 0.9355 - val_loss: 0.3599 - val_accuracy: 0.8840\n",
            "Epoch 8/10\n",
            "574/574 [==============================] - 42s 74ms/step - loss: 0.1725 - accuracy: 0.9404 - val_loss: 0.4286 - val_accuracy: 0.8694\n",
            "Epoch 9/10\n",
            "574/574 [==============================] - 45s 78ms/step - loss: 0.1560 - accuracy: 0.9470 - val_loss: 0.3645 - val_accuracy: 0.8912\n",
            "Epoch 10/10\n",
            "574/574 [==============================] - 44s 76ms/step - loss: 0.1460 - accuracy: 0.9487 - val_loss: 0.3721 - val_accuracy: 0.8864\n",
            "144/144 [==============================] - 9s 59ms/step - loss: 0.3721 - accuracy: 0.8864\n",
            "accuracy 88.63685727119446\n"
          ]
        }
      ]
    },
    {
      "cell_type": "markdown",
      "source": [
        "# **Potato**"
      ],
      "metadata": {
        "id": "YrZu1tHrJ7AA"
      }
    },
    {
      "cell_type": "code",
      "source": [
        "data_dir = r\"/tmp/DS MINI PROJECT DATASET(BALANCEDANDIMBALANCED)\"\n",
        "train_potato_dir = data_dir + \"/Training/Potato\"\n",
        "test_potato_dir = data_dir + \"/Testing/Potato\"\n",
        "#diseases = os.listdir('/tmp/DS MINI PROJECT DATASET(BALANCEDANDIMBALANCED)/Training/')"
      ],
      "metadata": {
        "id": "HTWUGdClKE23"
      },
      "execution_count": null,
      "outputs": []
    },
    {
      "cell_type": "code",
      "source": [
        "from tensorflow.keras.preprocessing.image import ImageDataGenerator\n",
        "datagen = ImageDataGenerator(featurewise_center=True)\n",
        "datagen.mean = [123.68, 116.779, 103.939]\n",
        "train_it = datagen.flow_from_directory(\n",
        "                                        batch_size = 32,\n",
        "                                        directory = train_potato_dir,\n",
        "                                        shuffle= True,\n",
        "                                        target_size = (128 , 128),\n",
        "                                        class_mode  = \"categorical\"\n",
        "                                        )\n",
        "\n",
        "valid_it = datagen.flow_from_directory(\n",
        "                                        batch_size = 32,\n",
        "                                        directory = test_potato_dir,\n",
        "                                        shuffle= True,\n",
        "                                        target_size = (128, 128),\n",
        "                                        class_mode  = \"categorical\"\n",
        "                                        )"
      ],
      "metadata": {
        "colab": {
          "base_uri": "https://localhost:8080/"
        },
        "id": "G8tCoIxGLMDF",
        "outputId": "0cd7d5e4-310d-4ae8-e65c-cc3859420935"
      },
      "execution_count": null,
      "outputs": [
        {
          "output_type": "stream",
          "name": "stdout",
          "text": [
            "Found 5702 images belonging to 3 classes.\n",
            "Found 1426 images belonging to 3 classes.\n"
          ]
        }
      ]
    },
    {
      "cell_type": "markdown",
      "source": [
        "**VGG 16 with Flatten**"
      ],
      "metadata": {
        "id": "wYa414RBNLGe"
      }
    },
    {
      "cell_type": "markdown",
      "source": [
        "10 unit dense layer training accuracy=97.475%"
      ],
      "metadata": {
        "id": "NdwRddnhPE5l"
      }
    },
    {
      "cell_type": "code",
      "source": [
        "from keras.applications.vgg16 import VGG16\n",
        "from keras.models import Model\n",
        "def define_modelflatten():\n",
        "    # load model\n",
        "    model_potato = VGG16(include_top=False, input_shape=(128, 128, 3))\n",
        "    # mark loaded layers as not trainable\n",
        "    for layer in model_potato.layers:\n",
        "        layer.trainable = False\n",
        "    # add new classifier layers\n",
        "    flat1 = Flatten()(model_potato.layers[-1].output)\n",
        "    class1 = Dense(10, activation='relu', kernel_initializer='he_uniform')(flat1)\n",
        "    output = Dense(3, activation='softmax')(class1)\n",
        "    # define new model\n",
        "    model_potato = Model(inputs=model_potato.inputs, outputs=output)\n",
        "    return model_potato"
      ],
      "metadata": {
        "id": "TEwsNlVPL2j5"
      },
      "execution_count": null,
      "outputs": []
    },
    {
      "cell_type": "code",
      "source": [
        "model_potato = define_modelflatten()\n",
        "model_potato.compile(optimizer='adam', loss='categorical_crossentropy', metrics=['accuracy'])\n",
        "model_potato.summary()"
      ],
      "metadata": {
        "colab": {
          "base_uri": "https://localhost:8080/"
        },
        "id": "VKoWd2YANc5y",
        "outputId": "4c9265f0-fb5a-43e6-88cf-3c319960663f"
      },
      "execution_count": null,
      "outputs": [
        {
          "output_type": "stream",
          "name": "stdout",
          "text": [
            "Model: \"model\"\n",
            "_________________________________________________________________\n",
            " Layer (type)                Output Shape              Param #   \n",
            "=================================================================\n",
            " input_2 (InputLayer)        [(None, 128, 128, 3)]     0         \n",
            "                                                                 \n",
            " block1_conv1 (Conv2D)       (None, 128, 128, 64)      1792      \n",
            "                                                                 \n",
            " block1_conv2 (Conv2D)       (None, 128, 128, 64)      36928     \n",
            "                                                                 \n",
            " block1_pool (MaxPooling2D)  (None, 64, 64, 64)        0         \n",
            "                                                                 \n",
            " block2_conv1 (Conv2D)       (None, 64, 64, 128)       73856     \n",
            "                                                                 \n",
            " block2_conv2 (Conv2D)       (None, 64, 64, 128)       147584    \n",
            "                                                                 \n",
            " block2_pool (MaxPooling2D)  (None, 32, 32, 128)       0         \n",
            "                                                                 \n",
            " block3_conv1 (Conv2D)       (None, 32, 32, 256)       295168    \n",
            "                                                                 \n",
            " block3_conv2 (Conv2D)       (None, 32, 32, 256)       590080    \n",
            "                                                                 \n",
            " block3_conv3 (Conv2D)       (None, 32, 32, 256)       590080    \n",
            "                                                                 \n",
            " block3_pool (MaxPooling2D)  (None, 16, 16, 256)       0         \n",
            "                                                                 \n",
            " block4_conv1 (Conv2D)       (None, 16, 16, 512)       1180160   \n",
            "                                                                 \n",
            " block4_conv2 (Conv2D)       (None, 16, 16, 512)       2359808   \n",
            "                                                                 \n",
            " block4_conv3 (Conv2D)       (None, 16, 16, 512)       2359808   \n",
            "                                                                 \n",
            " block4_pool (MaxPooling2D)  (None, 8, 8, 512)         0         \n",
            "                                                                 \n",
            " block5_conv1 (Conv2D)       (None, 8, 8, 512)         2359808   \n",
            "                                                                 \n",
            " block5_conv2 (Conv2D)       (None, 8, 8, 512)         2359808   \n",
            "                                                                 \n",
            " block5_conv3 (Conv2D)       (None, 8, 8, 512)         2359808   \n",
            "                                                                 \n",
            " block5_pool (MaxPooling2D)  (None, 4, 4, 512)         0         \n",
            "                                                                 \n",
            " flatten_1 (Flatten)         (None, 8192)              0         \n",
            "                                                                 \n",
            " dense_2 (Dense)             (None, 10)                81930     \n",
            "                                                                 \n",
            " dense_3 (Dense)             (None, 3)                 33        \n",
            "                                                                 \n",
            "=================================================================\n",
            "Total params: 14796651 (56.44 MB)\n",
            "Trainable params: 81963 (320.17 KB)\n",
            "Non-trainable params: 14714688 (56.13 MB)\n",
            "_________________________________________________________________\n"
          ]
        }
      ]
    },
    {
      "cell_type": "code",
      "source": [
        "epochsteps=len(train_it);epochs=10;valsteps=len(valid_it)\n",
        "# fit model\n",
        "history = model_potato.fit(train_it, steps_per_epoch=epochsteps,\n",
        "                    validation_data=valid_it, validation_steps=valsteps, epochs=10, verbose=1)\n",
        "_, acc = model_potato.evaluate(valid_it, steps=valsteps, verbose=1)\n",
        "print('accuracy',acc * 100.0)"
      ],
      "metadata": {
        "colab": {
          "base_uri": "https://localhost:8080/"
        },
        "id": "2y2IlW4ZN5yZ",
        "outputId": "c8c9ed41-c676-44b1-925d-14c1826713a7"
      },
      "execution_count": null,
      "outputs": [
        {
          "output_type": "stream",
          "name": "stdout",
          "text": [
            "Epoch 1/10\n",
            "179/179 [==============================] - 26s 87ms/step - loss: 0.5078 - accuracy: 0.8530 - val_loss: 0.2430 - val_accuracy: 0.9390\n",
            "Epoch 2/10\n",
            "179/179 [==============================] - 14s 76ms/step - loss: 0.1295 - accuracy: 0.9523 - val_loss: 0.1567 - val_accuracy: 0.9432\n",
            "Epoch 3/10\n",
            "179/179 [==============================] - 14s 78ms/step - loss: 0.0928 - accuracy: 0.9714 - val_loss: 0.1530 - val_accuracy: 0.9614\n",
            "Epoch 4/10\n",
            "179/179 [==============================] - 14s 79ms/step - loss: 0.0524 - accuracy: 0.9800 - val_loss: 0.1156 - val_accuracy: 0.9565\n",
            "Epoch 5/10\n",
            "179/179 [==============================] - 14s 81ms/step - loss: 0.0417 - accuracy: 0.9872 - val_loss: 0.1422 - val_accuracy: 0.9579\n",
            "Epoch 6/10\n",
            "179/179 [==============================] - 14s 75ms/step - loss: 0.0262 - accuracy: 0.9916 - val_loss: 0.2330 - val_accuracy: 0.9537\n",
            "Epoch 7/10\n",
            "179/179 [==============================] - 16s 87ms/step - loss: 0.0373 - accuracy: 0.9867 - val_loss: 0.1397 - val_accuracy: 0.9691\n",
            "Epoch 8/10\n",
            "179/179 [==============================] - 14s 78ms/step - loss: 0.0229 - accuracy: 0.9926 - val_loss: 0.0934 - val_accuracy: 0.9705\n",
            "Epoch 9/10\n",
            "179/179 [==============================] - 13s 75ms/step - loss: 0.0126 - accuracy: 0.9949 - val_loss: 0.1567 - val_accuracy: 0.9621\n",
            "Epoch 10/10\n",
            "179/179 [==============================] - 14s 79ms/step - loss: 0.0099 - accuracy: 0.9956 - val_loss: 0.0982 - val_accuracy: 0.9748\n",
            "45/45 [==============================] - 3s 59ms/step - loss: 0.0982 - accuracy: 0.9748\n",
            "accuracy 97.47545719146729\n"
          ]
        }
      ]
    },
    {
      "cell_type": "code",
      "source": [
        "plt.plot(history.history['val_loss'], color = 'orange')\n",
        "plt.plot(history.history['loss'], color='red')\n",
        "plt.plot(history.history['accuracy'], color = 'green')"
      ],
      "metadata": {
        "colab": {
          "base_uri": "https://localhost:8080/",
          "height": 447
        },
        "id": "7QN-G9rmO1PF",
        "outputId": "95d054d4-0113-46b6-d016-3fe2a5afc413"
      },
      "execution_count": null,
      "outputs": [
        {
          "output_type": "execute_result",
          "data": {
            "text/plain": [
              "[<matplotlib.lines.Line2D at 0x7c57106e88e0>]"
            ]
          },
          "metadata": {},
          "execution_count": 21
        },
        {
          "output_type": "display_data",
          "data": {
            "text/plain": [
              "<Figure size 640x480 with 1 Axes>"
            ],
            "image/png": "[encoded data removed]"
          },
          "metadata": {}
        }
      ]
    },
    {
      "cell_type": "markdown",
      "source": [
        "**VGG16 with Average Pooling**"
      ],
      "metadata": {
        "id": "xhH_R_eVPshb"
      }
    },
    {
      "cell_type": "markdown",
      "source": [
        "10 unit Dense Layer accuracy=97.125"
      ],
      "metadata": {
        "id": "pexsZW6vRiaX"
      }
    },
    {
      "cell_type": "code",
      "source": [
        "#from keras.layers.pooling.global_average_pooling2d import GlobalAveragePooling2D\n",
        "def define_modelavg():\n",
        "    # load model\n",
        "    model_potato_avg = VGG16(include_top=False, input_shape=(128, 128, 3))\n",
        "    # mark loaded layers as not trainable\n",
        "    for layer in model_potato_avg.layers:\n",
        "        layer.trainable = False\n",
        "    # add new classifier layers\n",
        "    avgpool1 = tf.keras.layers.GlobalAveragePooling2D()(model_potato_avg.layers[-1].output)\n",
        "\n",
        "    class1 = Dense(10, activation='relu', kernel_initializer='he_uniform')(avgpool1)\n",
        "    output = Dense(3, activation='softmax')(class1)\n",
        "    # define new model\n",
        "    model_potato_avg = Model(inputs=model_potato_avg.inputs, outputs=output)\n",
        "    return model_potato_avg\n"
      ],
      "metadata": {
        "id": "Z1JyzijbP1qi"
      },
      "execution_count": null,
      "outputs": []
    },
    {
      "cell_type": "code",
      "source": [
        "model_potato_avg = define_modelavg()\n",
        "model_potato_avg.compile(optimizer='adam', loss='categorical_crossentropy', metrics=['accuracy'])\n",
        "model_potato_avg.summary()"
      ],
      "metadata": {
        "colab": {
          "base_uri": "https://localhost:8080/"
        },
        "id": "C-4h0QnAQYie",
        "outputId": "9262aa72-001b-4309-a174-0e269459ce65"
      },
      "execution_count": null,
      "outputs": [
        {
          "output_type": "stream",
          "name": "stdout",
          "text": [
            "Model: \"model_1\"\n",
            "_________________________________________________________________\n",
            " Layer (type)                Output Shape              Param #   \n",
            "=================================================================\n",
            " input_3 (InputLayer)        [(None, 128, 128, 3)]     0         \n",
            "                                                                 \n",
            " block1_conv1 (Conv2D)       (None, 128, 128, 64)      1792      \n",
            "                                                                 \n",
            " block1_conv2 (Conv2D)       (None, 128, 128, 64)      36928     \n",
            "                                                                 \n",
            " block1_pool (MaxPooling2D)  (None, 64, 64, 64)        0         \n",
            "                                                                 \n",
            " block2_conv1 (Conv2D)       (None, 64, 64, 128)       73856     \n",
            "                                                                 \n",
            " block2_conv2 (Conv2D)       (None, 64, 64, 128)       147584    \n",
            "                                                                 \n",
            " block2_pool (MaxPooling2D)  (None, 32, 32, 128)       0         \n",
            "                                                                 \n",
            " block3_conv1 (Conv2D)       (None, 32, 32, 256)       295168    \n",
            "                                                                 \n",
            " block3_conv2 (Conv2D)       (None, 32, 32, 256)       590080    \n",
            "                                                                 \n",
            " block3_conv3 (Conv2D)       (None, 32, 32, 256)       590080    \n",
            "                                                                 \n",
            " block3_pool (MaxPooling2D)  (None, 16, 16, 256)       0         \n",
            "                                                                 \n",
            " block4_conv1 (Conv2D)       (None, 16, 16, 512)       1180160   \n",
            "                                                                 \n",
            " block4_conv2 (Conv2D)       (None, 16, 16, 512)       2359808   \n",
            "                                                                 \n",
            " block4_conv3 (Conv2D)       (None, 16, 16, 512)       2359808   \n",
            "                                                                 \n",
            " block4_pool (MaxPooling2D)  (None, 8, 8, 512)         0         \n",
            "                                                                 \n",
            " block5_conv1 (Conv2D)       (None, 8, 8, 512)         2359808   \n",
            "                                                                 \n",
            " block5_conv2 (Conv2D)       (None, 8, 8, 512)         2359808   \n",
            "                                                                 \n",
            " block5_conv3 (Conv2D)       (None, 8, 8, 512)         2359808   \n",
            "                                                                 \n",
            " block5_pool (MaxPooling2D)  (None, 4, 4, 512)         0         \n",
            "                                                                 \n",
            " global_average_pooling2d (  (None, 512)               0         \n",
            " GlobalAveragePooling2D)                                         \n",
            "                                                                 \n",
            " dense_4 (Dense)             (None, 10)                5130      \n",
            "                                                                 \n",
            " dense_5 (Dense)             (None, 3)                 33        \n",
            "                                                                 \n",
            "=================================================================\n",
            "Total params: 14719851 (56.15 MB)\n",
            "Trainable params: 5163 (20.17 KB)\n",
            "Non-trainable params: 14714688 (56.13 MB)\n",
            "_________________________________________________________________\n"
          ]
        }
      ]
    },
    {
      "cell_type": "code",
      "source": [
        "epochsteps=len(train_it);epochs =10;valsteps=len(valid_it)\n",
        "# fit model\n",
        "history = model_potato_avg.fit(train_it, steps_per_epoch=epochsteps,\n",
        "                    validation_data=valid_it, validation_steps=valsteps, epochs=10, verbose=1)\n",
        "_, acc = model_potato_avg.evaluate(valid_it, steps=valsteps, verbose=1)\n",
        "print('accuracy',acc * 100.0)"
      ],
      "metadata": {
        "colab": {
          "base_uri": "https://localhost:8080/"
        },
        "id": "Szwg9uYGQgsp",
        "outputId": "7f3f500d-a12e-4f47-fb59-5beb245ec205"
      },
      "execution_count": null,
      "outputs": [
        {
          "output_type": "stream",
          "name": "stdout",
          "text": [
            "Epoch 1/10\n",
            "179/179 [==============================] - 18s 89ms/step - loss: 0.7174 - accuracy: 0.7888 - val_loss: 0.2399 - val_accuracy: 0.9053\n",
            "Epoch 2/10\n",
            "179/179 [==============================] - 14s 79ms/step - loss: 0.1976 - accuracy: 0.9248 - val_loss: 0.1455 - val_accuracy: 0.9418\n",
            "Epoch 3/10\n",
            "179/179 [==============================] - 15s 83ms/step - loss: 0.1344 - accuracy: 0.9500 - val_loss: 0.1384 - val_accuracy: 0.9467\n",
            "Epoch 4/10\n",
            "179/179 [==============================] - 17s 93ms/step - loss: 0.1086 - accuracy: 0.9618 - val_loss: 0.0969 - val_accuracy: 0.9649\n",
            "Epoch 5/10\n",
            "179/179 [==============================] - 14s 78ms/step - loss: 0.0836 - accuracy: 0.9698 - val_loss: 0.0915 - val_accuracy: 0.9649\n",
            "Epoch 6/10\n",
            "179/179 [==============================] - 15s 82ms/step - loss: 0.0737 - accuracy: 0.9730 - val_loss: 0.0803 - val_accuracy: 0.9684\n",
            "Epoch 7/10\n",
            "179/179 [==============================] - 14s 77ms/step - loss: 0.0623 - accuracy: 0.9805 - val_loss: 0.0765 - val_accuracy: 0.9684\n",
            "Epoch 8/10\n",
            "179/179 [==============================] - 14s 77ms/step - loss: 0.0524 - accuracy: 0.9840 - val_loss: 0.0711 - val_accuracy: 0.9719\n",
            "Epoch 9/10\n",
            "179/179 [==============================] - 14s 79ms/step - loss: 0.0472 - accuracy: 0.9828 - val_loss: 0.0742 - val_accuracy: 0.9762\n",
            "Epoch 10/10\n",
            "179/179 [==============================] - 14s 78ms/step - loss: 0.0423 - accuracy: 0.9853 - val_loss: 0.0797 - val_accuracy: 0.9712\n",
            "45/45 [==============================] - 3s 64ms/step - loss: 0.0797 - accuracy: 0.9712\n",
            "accuracy 97.12482690811157\n"
          ]
        }
      ]
    },
    {
      "cell_type": "code",
      "source": [
        "plt.plot(history.history['val_loss'], color = 'orange')\n",
        "plt.plot(history.history['loss'], color='red')\n",
        "plt.plot(history.history['accuracy'], color = 'green')"
      ],
      "metadata": {
        "colab": {
          "base_uri": "https://localhost:8080/",
          "height": 447
        },
        "id": "rOF8gyRqRvdE",
        "outputId": "b025546a-ad6b-448e-a497-49b78e9322cb"
      },
      "execution_count": null,
      "outputs": [
        {
          "output_type": "execute_result",
          "data": {
            "text/plain": [
              "[<matplotlib.lines.Line2D at 0x7c573b34c1c0>]"
            ]
          },
          "metadata": {},
          "execution_count": 26
        },
        {
          "output_type": "display_data",
          "data": {
            "text/plain": [
              "<Figure size 640x480 with 1 Axes>"
            ],
            "image/png": "[encoded data removed]"
          },
          "metadata": {}
        }
      ]
    },
    {
      "cell_type": "markdown",
      "source": [
        "**CNN with Flatten**"
      ],
      "metadata": {
        "id": "EudaO_vKR6cW"
      }
    },
    {
      "cell_type": "markdown",
      "source": [
        "ConvMax ConvMax ConvMax with Flatten accuracy= 92.706\n",
        "\n",
        "---\n",
        "\n",
        "\n",
        "ConvMax ConvMax with Flatten accuracy=89.48"
      ],
      "metadata": {
        "id": "wMW5gxgzVTj1"
      }
    },
    {
      "cell_type": "code",
      "source": [
        "def define_potato():\n",
        "  potato = models.Sequential()\n",
        "  potato = Sequential()\n",
        "\n",
        "  potato.add(Conv2D(filters=16,kernel_size=(3,3),padding=\"same\", activation=\"relu\", input_shape=(128,128,3)))\n",
        "  potato.add(MaxPool2D(pool_size=(2,2),strides=(2,2)))\n",
        "  #grape.add(Dropout(0.4))\n",
        "\n",
        "  potato.add(Conv2D(filters=32, kernel_size=(3,3), padding=\"same\", activation=\"relu\"))\n",
        "  potato.add(MaxPool2D(pool_size=(2,2),strides=(2,2)))\n",
        "  #grape.add(Dropout(0.5))\n",
        "\n",
        "  potato.add(Conv2D(filters=64, kernel_size=(3,3), padding=\"same\", activation=\"relu\"))\n",
        "  potato.add(MaxPool2D(pool_size=(2,2),strides=(2,2)))\n",
        "\n",
        "\n",
        "  flat1 = Flatten()(potato.layers[-1].output)\n",
        "  class1 = Dense(16, activation='relu', kernel_initializer='he_uniform')(flat1)\n",
        "  output = Dense(3, activation='softmax')(class1)\n",
        "  potato = Model(inputs=potato.inputs, outputs=output)\n",
        "  return potato"
      ],
      "metadata": {
        "id": "dKEkDZnQSPG8"
      },
      "execution_count": null,
      "outputs": []
    },
    {
      "cell_type": "code",
      "source": [
        "potato = define_potato()\n",
        "potato.compile(optimizer='adam', loss='categorical_crossentropy', metrics=['accuracy'])\n",
        "potato.summary()"
      ],
      "metadata": {
        "colab": {
          "base_uri": "https://localhost:8080/"
        },
        "id": "-XYaLwi_S1LX",
        "outputId": "b397e702-be33-41f6-b926-8b5178b39270"
      },
      "execution_count": null,
      "outputs": [
        {
          "output_type": "stream",
          "name": "stdout",
          "text": [
            "Model: \"model_3\"\n",
            "_________________________________________________________________\n",
            " Layer (type)                Output Shape              Param #   \n",
            "=================================================================\n",
            " conv2d_3_input (InputLayer  [(None, 128, 128, 3)]     0         \n",
            " )                                                               \n",
            "                                                                 \n",
            " conv2d_3 (Conv2D)           (None, 128, 128, 16)      448       \n",
            "                                                                 \n",
            " max_pooling2d_3 (MaxPoolin  (None, 64, 64, 16)        0         \n",
            " g2D)                                                            \n",
            "                                                                 \n",
            " conv2d_4 (Conv2D)           (None, 64, 64, 32)        4640      \n",
            "                                                                 \n",
            " max_pooling2d_4 (MaxPoolin  (None, 32, 32, 32)        0         \n",
            " g2D)                                                            \n",
            "                                                                 \n",
            " conv2d_5 (Conv2D)           (None, 32, 32, 64)        18496     \n",
            "                                                                 \n",
            " max_pooling2d_5 (MaxPoolin  (None, 16, 16, 64)        0         \n",
            " g2D)                                                            \n",
            "                                                                 \n",
            " flatten_3 (Flatten)         (None, 16384)             0         \n",
            "                                                                 \n",
            " dense_8 (Dense)             (None, 16)                262160    \n",
            "                                                                 \n",
            " dense_9 (Dense)             (None, 3)                 51        \n",
            "                                                                 \n",
            "=================================================================\n",
            "Total params: 285795 (1.09 MB)\n",
            "Trainable params: 285795 (1.09 MB)\n",
            "Non-trainable params: 0 (0.00 Byte)\n",
            "_________________________________________________________________\n"
          ]
        }
      ]
    },
    {
      "cell_type": "code",
      "source": [
        "epochsteps=len(train_it);epochs =10;valsteps=len(valid_it)\n",
        "# fit model\n",
        "history = potato.fit(train_it, steps_per_epoch=epochsteps, validation_data=valid_it, validation_steps=valsteps, epochs=10, verbose=1)\n",
        "_, acc = potato.evaluate(valid_it, steps=valsteps, verbose=1)\n",
        "print('accuracy',acc * 100.0)\n"
      ],
      "metadata": {
        "colab": {
          "base_uri": "https://localhost:8080/"
        },
        "id": "CqrsH1dPTDU8",
        "outputId": "6cf79801-2ffc-4f15-9eae-84fc677ef387"
      },
      "execution_count": null,
      "outputs": [
        {
          "output_type": "stream",
          "name": "stdout",
          "text": [
            "Epoch 1/10\n",
            "179/179 [==============================] - 16s 69ms/step - loss: 2.1608 - accuracy: 0.8011 - val_loss: 0.2701 - val_accuracy: 0.9046\n",
            "Epoch 2/10\n",
            "179/179 [==============================] - 12s 67ms/step - loss: 0.1338 - accuracy: 0.9518 - val_loss: 0.2710 - val_accuracy: 0.9229\n",
            "Epoch 3/10\n",
            "179/179 [==============================] - 13s 72ms/step - loss: 0.0917 - accuracy: 0.9665 - val_loss: 0.1597 - val_accuracy: 0.9460\n",
            "Epoch 4/10\n",
            "179/179 [==============================] - 12s 69ms/step - loss: 0.0782 - accuracy: 0.9714 - val_loss: 0.0907 - val_accuracy: 0.9607\n",
            "Epoch 5/10\n",
            "179/179 [==============================] - 12s 67ms/step - loss: 0.0653 - accuracy: 0.9770 - val_loss: 0.1998 - val_accuracy: 0.9509\n",
            "Epoch 6/10\n",
            "179/179 [==============================] - 13s 73ms/step - loss: 0.0429 - accuracy: 0.9849 - val_loss: 0.1468 - val_accuracy: 0.9572\n",
            "Epoch 7/10\n",
            "179/179 [==============================] - 13s 71ms/step - loss: 0.0281 - accuracy: 0.9907 - val_loss: 0.1276 - val_accuracy: 0.9628\n",
            "Epoch 8/10\n",
            "179/179 [==============================] - 12s 65ms/step - loss: 0.0236 - accuracy: 0.9919 - val_loss: 0.1233 - val_accuracy: 0.9628\n",
            "Epoch 9/10\n",
            "179/179 [==============================] - 14s 80ms/step - loss: 0.0378 - accuracy: 0.9868 - val_loss: 0.1380 - val_accuracy: 0.9551\n",
            "Epoch 10/10\n",
            "179/179 [==============================] - 12s 69ms/step - loss: 0.0238 - accuracy: 0.9918 - val_loss: 0.3598 - val_accuracy: 0.9271\n",
            "45/45 [==============================] - 3s 67ms/step - loss: 0.3598 - accuracy: 0.9271\n",
            "accuracy 92.70687103271484\n"
          ]
        }
      ]
    },
    {
      "cell_type": "code",
      "source": [
        "plt.plot(history.history['val_loss'], color = 'orange')\n",
        "plt.plot(history.history['loss'], color='red')\n",
        "plt.plot(history.history['accuracy'], color = 'green')"
      ],
      "metadata": {
        "colab": {
          "base_uri": "https://localhost:8080/",
          "height": 447
        },
        "id": "5k5okb-aWDP8",
        "outputId": "e0f04e70-2b3c-4fcc-e84d-7ac37fb5fe8b"
      },
      "execution_count": null,
      "outputs": [
        {
          "output_type": "execute_result",
          "data": {
            "text/plain": [
              "[<matplotlib.lines.Line2D at 0x7c56b1bd1540>]"
            ]
          },
          "metadata": {},
          "execution_count": 35
        },
        {
          "output_type": "display_data",
          "data": {
            "text/plain": [
              "<Figure size 640x480 with 1 Axes>"
            ],
            "image/png": "[encoded data removed]"
          },
          "metadata": {}
        }
      ]
    },
    {
      "cell_type": "code",
      "source": [
        "def define_potato():\n",
        "  potato = models.Sequential()\n",
        "  potato = Sequential()\n",
        "\n",
        "  potato.add(Conv2D(filters=16,kernel_size=(3,3),padding=\"same\", activation=\"relu\", input_shape=(128,128,3)))\n",
        "  potato.add(MaxPool2D(pool_size=(2,2),strides=(2,2)))\n",
        "  #grape.add(Dropout(0.4))\n",
        "\n",
        "  potato.add(Conv2D(filters=32, kernel_size=(3,3), padding=\"same\", activation=\"relu\"))\n",
        "  potato.add(MaxPool2D(pool_size=(2,2),strides=(2,2)))\n",
        "  #grape.add(Dropout(0.5))\n",
        "\n",
        "  #potato.add(Conv2D(filters=64, kernel_size=(3,3), padding=\"same\", activation=\"relu\"))\n",
        "  #potato.add(MaxPool2D(pool_size=(2,2),strides=(2,2)))\n",
        "\n",
        "\n",
        "  flat1 = Flatten()(potato.layers[-1].output)\n",
        "  class1 = Dense(16, activation='relu', kernel_initializer='he_uniform')(flat1)\n",
        "  output = Dense(3, activation='softmax')(class1)\n",
        "  potato = Model(inputs=potato.inputs, outputs=output)\n",
        "  return potato"
      ],
      "metadata": {
        "id": "koovXbKtV5ic"
      },
      "execution_count": null,
      "outputs": []
    },
    {
      "cell_type": "code",
      "source": [
        "potato = define_potato()\n",
        "potato.compile(optimizer='adam', loss='categorical_crossentropy', metrics=['accuracy'])\n",
        "potato.summary()\n"
      ],
      "metadata": {
        "colab": {
          "base_uri": "https://localhost:8080/"
        },
        "id": "W1MPhm9_WB8n",
        "outputId": "6bffaeab-bf25-475b-d6f0-a1e7d50915b6"
      },
      "execution_count": null,
      "outputs": [
        {
          "output_type": "stream",
          "name": "stdout",
          "text": [
            "Model: \"model_4\"\n",
            "_________________________________________________________________\n",
            " Layer (type)                Output Shape              Param #   \n",
            "=================================================================\n",
            " conv2d_6_input (InputLayer  [(None, 128, 128, 3)]     0         \n",
            " )                                                               \n",
            "                                                                 \n",
            " conv2d_6 (Conv2D)           (None, 128, 128, 16)      448       \n",
            "                                                                 \n",
            " max_pooling2d_6 (MaxPoolin  (None, 64, 64, 16)        0         \n",
            " g2D)                                                            \n",
            "                                                                 \n",
            " conv2d_7 (Conv2D)           (None, 64, 64, 32)        4640      \n",
            "                                                                 \n",
            " max_pooling2d_7 (MaxPoolin  (None, 32, 32, 32)        0         \n",
            " g2D)                                                            \n",
            "                                                                 \n",
            " flatten_4 (Flatten)         (None, 32768)             0         \n",
            "                                                                 \n",
            " dense_10 (Dense)            (None, 16)                524304    \n",
            "                                                                 \n",
            " dense_11 (Dense)            (None, 3)                 51        \n",
            "                                                                 \n",
            "=================================================================\n",
            "Total params: 529443 (2.02 MB)\n",
            "Trainable params: 529443 (2.02 MB)\n",
            "Non-trainable params: 0 (0.00 Byte)\n",
            "_________________________________________________________________\n"
          ]
        }
      ]
    },
    {
      "cell_type": "code",
      "source": [
        "epochsteps=len(train_it);epochs =10;valsteps=len(valid_it)\n",
        "# fit model\n",
        "history = potato.fit(train_it, steps_per_epoch=epochsteps,\n",
        "                    validation_data=valid_it, validation_steps=valsteps, epochs=10, verbose=1)\n",
        "_, acc = potato.evaluate(valid_it, steps=valsteps, verbose=1)\n",
        "print('accuracy',acc * 100.0)"
      ],
      "metadata": {
        "colab": {
          "base_uri": "https://localhost:8080/"
        },
        "id": "dUU7g70oWYOo",
        "outputId": "8888ef7b-1941-4431-c1e6-cdb87da5975a"
      },
      "execution_count": null,
      "outputs": [
        {
          "output_type": "stream",
          "name": "stdout",
          "text": [
            "Epoch 1/10\n",
            "179/179 [==============================] - 14s 69ms/step - loss: 4.9226 - accuracy: 0.7273 - val_loss: 0.4440 - val_accuracy: 0.8268\n",
            "Epoch 2/10\n",
            "179/179 [==============================] - 12s 68ms/step - loss: 0.3022 - accuracy: 0.8736 - val_loss: 0.3150 - val_accuracy: 0.8752\n",
            "Epoch 3/10\n",
            "179/179 [==============================] - 13s 71ms/step - loss: 0.1824 - accuracy: 0.9160 - val_loss: 0.3490 - val_accuracy: 0.8597\n",
            "Epoch 4/10\n",
            "179/179 [==============================] - 12s 69ms/step - loss: 0.1444 - accuracy: 0.9335 - val_loss: 0.3408 - val_accuracy: 0.8808\n",
            "Epoch 5/10\n",
            "179/179 [==============================] - 12s 68ms/step - loss: 0.1061 - accuracy: 0.9491 - val_loss: 0.2672 - val_accuracy: 0.8941\n",
            "Epoch 6/10\n",
            "179/179 [==============================] - 13s 70ms/step - loss: 0.0812 - accuracy: 0.9583 - val_loss: 0.3244 - val_accuracy: 0.8794\n",
            "Epoch 7/10\n",
            "179/179 [==============================] - 13s 72ms/step - loss: 0.1662 - accuracy: 0.9348 - val_loss: 0.3321 - val_accuracy: 0.8822\n",
            "Epoch 8/10\n",
            "179/179 [==============================] - 13s 72ms/step - loss: 0.0589 - accuracy: 0.9693 - val_loss: 0.3459 - val_accuracy: 0.8885\n",
            "Epoch 9/10\n",
            "179/179 [==============================] - 12s 67ms/step - loss: 0.0405 - accuracy: 0.9747 - val_loss: 0.3125 - val_accuracy: 0.8941\n",
            "Epoch 10/10\n",
            "179/179 [==============================] - 13s 70ms/step - loss: 0.0429 - accuracy: 0.9728 - val_loss: 0.3273 - val_accuracy: 0.8948\n",
            "45/45 [==============================] - 2s 47ms/step - loss: 0.3273 - accuracy: 0.8948\n",
            "accuracy 89.4810676574707\n"
          ]
        }
      ]
    },
    {
      "cell_type": "code",
      "source": [
        "plt.plot(history.history['val_loss'], color = 'orange')\n",
        "plt.plot(history.history['loss'], color='red')\n",
        "plt.plot(history.history['accuracy'], color = 'green')"
      ],
      "metadata": {
        "colab": {
          "base_uri": "https://localhost:8080/",
          "height": 447
        },
        "id": "VGpF__qeXTiA",
        "outputId": "8e946da2-0726-4531-bf1c-86f1caa640b0"
      },
      "execution_count": null,
      "outputs": [
        {
          "output_type": "execute_result",
          "data": {
            "text/plain": [
              "[<matplotlib.lines.Line2D at 0x7c56a03b6980>]"
            ]
          },
          "metadata": {},
          "execution_count": 39
        },
        {
          "output_type": "display_data",
          "data": {
            "text/plain": [
              "<Figure size 640x480 with 1 Axes>"
            ],
            "image/png": "[encoded data removed]"
          },
          "metadata": {}
        }
      ]
    },
    {
      "cell_type": "markdown",
      "source": [
        "**CNN with Average Pooling**"
      ],
      "metadata": {
        "id": "QXzvm_1tXiNo"
      }
    },
    {
      "cell_type": "markdown",
      "source": [
        "ConvMax ConvMax ConvMax with avgpool accuracy=99.02"
      ],
      "metadata": {
        "id": "35MdsRkRZin0"
      }
    },
    {
      "cell_type": "code",
      "source": [
        "def define_potato_avg():\n",
        "  potato_avg = models.Sequential()\n",
        "  potato_avg = Sequential()\n",
        "\n",
        "  potato_avg.add(Conv2D(filters=16,kernel_size=(3,3),padding=\"same\", activation=\"relu\", input_shape=(128,128,3)))\n",
        "  potato_avg.add(MaxPool2D(pool_size=(2,2),strides=(2,2)))\n",
        "  #grape.add(Dropout(0.4))\n",
        "\n",
        "  potato_avg.add(Conv2D(filters=32, kernel_size=(3,3), padding=\"same\", activation=\"relu\"))\n",
        "  potato_avg.add(MaxPool2D(pool_size=(2,2),strides=(2,2)))\n",
        "  #grape.add(Dropout(0.5))\n",
        "\n",
        "  potato_avg.add(Conv2D(filters=64, kernel_size=(3,3), padding=\"same\", activation=\"relu\"))\n",
        "  potato_avg.add(MaxPool2D(pool_size=(2,2),strides=(2,2)))\n",
        "\n",
        "  avg1 = tf.keras.layers.GlobalAveragePooling2D()(potato_avg.layers[-1].output)\n",
        "  class1 = Dense(16, activation='relu', kernel_initializer='he_uniform')(avg1)\n",
        "  output = Dense(3, activation='softmax')(class1)\n",
        "  potato_avg = Model(inputs=potato_avg.inputs, outputs=output)\n",
        "  return potato_avg"
      ],
      "metadata": {
        "id": "6MWdcBhgXoq1"
      },
      "execution_count": null,
      "outputs": []
    },
    {
      "cell_type": "code",
      "source": [
        "potato_avg = define_potato_avg()\n",
        "potato_avg.compile(optimizer='adam', loss='categorical_crossentropy', metrics=['accuracy'])\n",
        "potato_avg.summary()"
      ],
      "metadata": {
        "colab": {
          "base_uri": "https://localhost:8080/"
        },
        "id": "DxNQxbVeYdVb",
        "outputId": "f964ea05-6d05-4d46-9ac4-94856898bdb8"
      },
      "execution_count": null,
      "outputs": [
        {
          "output_type": "stream",
          "name": "stdout",
          "text": [
            "Model: \"model_5\"\n",
            "_________________________________________________________________\n",
            " Layer (type)                Output Shape              Param #   \n",
            "=================================================================\n",
            " conv2d_11_input (InputLaye  [(None, 128, 128, 3)]     0         \n",
            " r)                                                              \n",
            "                                                                 \n",
            " conv2d_11 (Conv2D)          (None, 128, 128, 16)      448       \n",
            "                                                                 \n",
            " max_pooling2d_11 (MaxPooli  (None, 64, 64, 16)        0         \n",
            " ng2D)                                                           \n",
            "                                                                 \n",
            " conv2d_12 (Conv2D)          (None, 64, 64, 32)        4640      \n",
            "                                                                 \n",
            " max_pooling2d_12 (MaxPooli  (None, 32, 32, 32)        0         \n",
            " ng2D)                                                           \n",
            "                                                                 \n",
            " conv2d_13 (Conv2D)          (None, 32, 32, 64)        18496     \n",
            "                                                                 \n",
            " max_pooling2d_13 (MaxPooli  (None, 16, 16, 64)        0         \n",
            " ng2D)                                                           \n",
            "                                                                 \n",
            " global_average_pooling2d_2  (None, 64)                0         \n",
            "  (GlobalAveragePooling2D)                                       \n",
            "                                                                 \n",
            " dense_13 (Dense)            (None, 16)                1040      \n",
            "                                                                 \n",
            " dense_14 (Dense)            (None, 3)                 51        \n",
            "                                                                 \n",
            "=================================================================\n",
            "Total params: 24675 (96.39 KB)\n",
            "Trainable params: 24675 (96.39 KB)\n",
            "Non-trainable params: 0 (0.00 Byte)\n",
            "_________________________________________________________________\n"
          ]
        }
      ]
    },
    {
      "cell_type": "code",
      "source": [
        "epochsteps=len(train_it);epochs =10;valsteps=len(valid_it)\n",
        "# fit model\n",
        "history = potato_avg.fit(train_it, steps_per_epoch=epochsteps, validation_data=valid_it, validation_steps=valsteps, epochs=10, verbose=1)\n",
        "_, acc = potato_avg.evaluate(valid_it, steps=valsteps, verbose=1)\n",
        "print('accuracy',acc * 100.0)"
      ],
      "metadata": {
        "colab": {
          "base_uri": "https://localhost:8080/"
        },
        "id": "exQz-AOoYyTG",
        "outputId": "9db82709-6cbb-4d51-bcf2-ef32663562ac"
      },
      "execution_count": null,
      "outputs": [
        {
          "output_type": "stream",
          "name": "stdout",
          "text": [
            "Epoch 1/10\n",
            "179/179 [==============================] - 14s 67ms/step - loss: 0.8300 - accuracy: 0.7543 - val_loss: 0.4013 - val_accuracy: 0.8569\n",
            "Epoch 2/10\n",
            "179/179 [==============================] - 12s 68ms/step - loss: 0.1966 - accuracy: 0.9286 - val_loss: 0.1097 - val_accuracy: 0.9593\n",
            "Epoch 3/10\n",
            "179/179 [==============================] - 13s 72ms/step - loss: 0.1229 - accuracy: 0.9548 - val_loss: 0.0649 - val_accuracy: 0.9783\n",
            "Epoch 4/10\n",
            "179/179 [==============================] - 12s 67ms/step - loss: 0.1033 - accuracy: 0.9611 - val_loss: 0.1941 - val_accuracy: 0.9285\n",
            "Epoch 5/10\n",
            "179/179 [==============================] - 12s 69ms/step - loss: 0.0833 - accuracy: 0.9688 - val_loss: 0.0462 - val_accuracy: 0.9818\n",
            "Epoch 6/10\n",
            "179/179 [==============================] - 13s 71ms/step - loss: 0.0628 - accuracy: 0.9744 - val_loss: 0.0624 - val_accuracy: 0.9804\n",
            "Epoch 7/10\n",
            "179/179 [==============================] - 14s 76ms/step - loss: 0.0660 - accuracy: 0.9761 - val_loss: 0.0435 - val_accuracy: 0.9825\n",
            "Epoch 8/10\n",
            "179/179 [==============================] - 12s 70ms/step - loss: 0.0559 - accuracy: 0.9797 - val_loss: 0.0614 - val_accuracy: 0.9748\n",
            "Epoch 9/10\n",
            "179/179 [==============================] - 12s 68ms/step - loss: 0.0889 - accuracy: 0.9684 - val_loss: 0.0638 - val_accuracy: 0.9790\n",
            "Epoch 10/10\n",
            "179/179 [==============================] - 13s 70ms/step - loss: 0.0432 - accuracy: 0.9851 - val_loss: 0.0304 - val_accuracy: 0.9902\n",
            "45/45 [==============================] - 2s 49ms/step - loss: 0.0304 - accuracy: 0.9902\n",
            "accuracy 99.01823401451111\n"
          ]
        }
      ]
    },
    {
      "cell_type": "code",
      "source": [
        "plt.plot(history.history['val_loss'], color = 'orange')\n",
        "plt.plot(history.history['loss'], color='red')\n",
        "plt.plot(history.history['accuracy'], color = 'green')"
      ],
      "metadata": {
        "colab": {
          "base_uri": "https://localhost:8080/",
          "height": 447
        },
        "id": "NTvs6UBWZuXE",
        "outputId": "22e3249f-d879-4826-f95f-e0ee697b0d28"
      },
      "execution_count": null,
      "outputs": [
        {
          "output_type": "execute_result",
          "data": {
            "text/plain": [
              "[<matplotlib.lines.Line2D at 0x7c5690076e30>]"
            ]
          },
          "metadata": {},
          "execution_count": 45
        },
        {
          "output_type": "display_data",
          "data": {
            "text/plain": [
              "<Figure size 640x480 with 1 Axes>"
            ],
            "image/png": "[encoded data removed]"
          },
          "metadata": {}
        }
      ]
    },
    {
      "cell_type": "markdown",
      "source": [
        "#**Apple**"
      ],
      "metadata": {
        "id": "rL6Hk1X_WfSd"
      }
    },
    {
      "cell_type": "code",
      "source": [
        "data_dir = r\"/tmp/DS MINI PROJECT DATASET(BALANCEDANDIMBALANCED)\"\n",
        "train_apple_dir = data_dir + \"/Training/Apple\"\n",
        "test_apple_dir = data_dir + \"/Testing/Apple\"\n",
        "#diseases = os.listdir('/tmp/DS MINI PROJECT DATASET(BALANCEDANDIMBALANCED)/Training/')"
      ],
      "metadata": {
        "id": "i1HNv0GhYLlb"
      },
      "execution_count": null,
      "outputs": []
    },
    {
      "cell_type": "code",
      "source": [
        "from tensorflow.keras.preprocessing.image import ImageDataGenerator\n",
        "datagen = ImageDataGenerator(featurewise_center=True)\n",
        "datagen.mean = [123.68, 116.779, 103.939]\n",
        "train_it = datagen.flow_from_directory(\n",
        "                                        batch_size = 32,\n",
        "                                        directory = train_apple_dir,\n",
        "                                        shuffle= True,\n",
        "                                        target_size = (128 , 128),\n",
        "                                        class_mode  = \"categorical\"\n",
        "                                        )\n",
        "\n",
        "valid_it = datagen.flow_from_directory(\n",
        "                                        batch_size = 32,\n",
        "                                        directory = test_apple_dir,\n",
        "                                        shuffle= True,\n",
        "                                        target_size = (128, 128),\n",
        "                                        class_mode  = \"categorical\"\n",
        "                                        )"
      ],
      "metadata": {
        "colab": {
          "base_uri": "https://localhost:8080/"
        },
        "outputId": "e32c05e8-df41-4c00-ae5a-77a5dda1313b",
        "id": "b_ep0RyWYLl7"
      },
      "execution_count": null,
      "outputs": [
        {
          "output_type": "stream",
          "name": "stdout",
          "text": [
            "Found 7771 images belonging to 4 classes.\n",
            "Found 1943 images belonging to 4 classes.\n"
          ]
        }
      ]
    },
    {
      "cell_type": "markdown",
      "source": [
        "**VGG 16 with Flatten**"
      ],
      "metadata": {
        "id": "Ntezcz62YLl8"
      }
    },
    {
      "cell_type": "markdown",
      "source": [
        "10 unit dense layer accuracy=97.38%"
      ],
      "metadata": {
        "id": "vHVRcTn2YLl9"
      }
    },
    {
      "cell_type": "code",
      "source": [
        "from keras.applications.vgg16 import VGG16\n",
        "from keras.models import Model\n",
        "def define_modelflatten():\n",
        "    # load model\n",
        "    model_apple = VGG16(include_top=False, input_shape=(128, 128, 3))\n",
        "    # mark loaded layers as not trainable\n",
        "    for layer in model_apple.layers:\n",
        "        layer.trainable = False\n",
        "    # add new classifier layers\n",
        "    flat1 = Flatten()(model_apple.layers[-1].output)\n",
        "    class1 = Dense(10, activation='relu', kernel_initializer='he_uniform')(flat1)\n",
        "    output = Dense(4, activation='softmax')(class1)\n",
        "    # define new model\n",
        "    model_apple = Model(inputs=model_apple.inputs, outputs=output)\n",
        "    return model_apple"
      ],
      "metadata": {
        "id": "vPEeUz40YLl-"
      },
      "execution_count": null,
      "outputs": []
    },
    {
      "cell_type": "code",
      "source": [
        "model_apple = define_modelflatten()\n",
        "model_apple.compile(optimizer='adam', loss='categorical_crossentropy', metrics=['accuracy'])\n",
        "model_apple.summary()"
      ],
      "metadata": {
        "colab": {
          "base_uri": "https://localhost:8080/"
        },
        "outputId": "34462ac7-b76c-4a5e-9160-bf89dddf225c",
        "id": "p5JFa6QsYLl_"
      },
      "execution_count": null,
      "outputs": [
        {
          "output_type": "stream",
          "name": "stdout",
          "text": [
            "Model: \"model_1\"\n",
            "_________________________________________________________________\n",
            " Layer (type)                Output Shape              Param #   \n",
            "=================================================================\n",
            " input_2 (InputLayer)        [(None, 128, 128, 3)]     0         \n",
            "                                                                 \n",
            " block1_conv1 (Conv2D)       (None, 128, 128, 64)      1792      \n",
            "                                                                 \n",
            " block1_conv2 (Conv2D)       (None, 128, 128, 64)      36928     \n",
            "                                                                 \n",
            " block1_pool (MaxPooling2D)  (None, 64, 64, 64)        0         \n",
            "                                                                 \n",
            " block2_conv1 (Conv2D)       (None, 64, 64, 128)       73856     \n",
            "                                                                 \n",
            " block2_conv2 (Conv2D)       (None, 64, 64, 128)       147584    \n",
            "                                                                 \n",
            " block2_pool (MaxPooling2D)  (None, 32, 32, 128)       0         \n",
            "                                                                 \n",
            " block3_conv1 (Conv2D)       (None, 32, 32, 256)       295168    \n",
            "                                                                 \n",
            " block3_conv2 (Conv2D)       (None, 32, 32, 256)       590080    \n",
            "                                                                 \n",
            " block3_conv3 (Conv2D)       (None, 32, 32, 256)       590080    \n",
            "                                                                 \n",
            " block3_pool (MaxPooling2D)  (None, 16, 16, 256)       0         \n",
            "                                                                 \n",
            " block4_conv1 (Conv2D)       (None, 16, 16, 512)       1180160   \n",
            "                                                                 \n",
            " block4_conv2 (Conv2D)       (None, 16, 16, 512)       2359808   \n",
            "                                                                 \n",
            " block4_conv3 (Conv2D)       (None, 16, 16, 512)       2359808   \n",
            "                                                                 \n",
            " block4_pool (MaxPooling2D)  (None, 8, 8, 512)         0         \n",
            "                                                                 \n",
            " block5_conv1 (Conv2D)       (None, 8, 8, 512)         2359808   \n",
            "                                                                 \n",
            " block5_conv2 (Conv2D)       (None, 8, 8, 512)         2359808   \n",
            "                                                                 \n",
            " block5_conv3 (Conv2D)       (None, 8, 8, 512)         2359808   \n",
            "                                                                 \n",
            " block5_pool (MaxPooling2D)  (None, 4, 4, 512)         0         \n",
            "                                                                 \n",
            " flatten_1 (Flatten)         (None, 8192)              0         \n",
            "                                                                 \n",
            " dense_2 (Dense)             (None, 10)                81930     \n",
            "                                                                 \n",
            " dense_3 (Dense)             (None, 4)                 44        \n",
            "                                                                 \n",
            "=================================================================\n",
            "Total params: 14796662 (56.44 MB)\n",
            "Trainable params: 81974 (320.21 KB)\n",
            "Non-trainable params: 14714688 (56.13 MB)\n",
            "_________________________________________________________________\n"
          ]
        }
      ]
    },
    {
      "cell_type": "code",
      "source": [
        "epochsteps=len(train_it);epochs=10;valsteps=len(valid_it)\n",
        "# fit model\n",
        "history = model_apple.fit(train_it, steps_per_epoch=epochsteps,\n",
        "                    validation_data=valid_it, validation_steps=valsteps, epochs=10, verbose=1)\n",
        "_, acc = model_apple.evaluate(valid_it, steps=valsteps, verbose=1)\n",
        "print('accuracy',acc * 100.0)"
      ],
      "metadata": {
        "colab": {
          "base_uri": "https://localhost:8080/"
        },
        "outputId": "2ae0564e-e86a-47df-c8d2-85f20d6c83dc",
        "id": "Z5LzjU9nXLYl"
      },
      "execution_count": null,
      "outputs": [
        {
          "output_type": "stream",
          "name": "stdout",
          "text": [
            "Epoch 1/10\n",
            "243/243 [==============================] - 23s 86ms/step - loss: 0.6956 - accuracy: 0.8045 - val_loss: 0.2602 - val_accuracy: 0.9331\n",
            "Epoch 2/10\n",
            "243/243 [==============================] - 17s 69ms/step - loss: 0.1470 - accuracy: 0.9596 - val_loss: 0.1330 - val_accuracy: 0.9712\n",
            "Epoch 3/10\n",
            "243/243 [==============================] - 17s 69ms/step - loss: 0.0564 - accuracy: 0.9822 - val_loss: 0.1399 - val_accuracy: 0.9722\n",
            "Epoch 4/10\n",
            "243/243 [==============================] - 16s 68ms/step - loss: 0.0578 - accuracy: 0.9857 - val_loss: 0.1634 - val_accuracy: 0.9609\n",
            "Epoch 5/10\n",
            "243/243 [==============================] - 17s 70ms/step - loss: 0.0268 - accuracy: 0.9927 - val_loss: 0.1283 - val_accuracy: 0.9738\n",
            "Epoch 6/10\n",
            "243/243 [==============================] - 17s 68ms/step - loss: 0.0112 - accuracy: 0.9976 - val_loss: 0.1326 - val_accuracy: 0.9794\n",
            "Epoch 7/10\n",
            "243/243 [==============================] - 17s 68ms/step - loss: 0.0098 - accuracy: 0.9970 - val_loss: 0.1595 - val_accuracy: 0.9743\n",
            "Epoch 8/10\n",
            "243/243 [==============================] - 17s 69ms/step - loss: 0.0258 - accuracy: 0.9952 - val_loss: 0.4350 - val_accuracy: 0.9470\n",
            "Epoch 9/10\n",
            "243/243 [==============================] - 17s 68ms/step - loss: 0.0603 - accuracy: 0.9857 - val_loss: 0.2437 - val_accuracy: 0.9691\n",
            "Epoch 10/10\n",
            "243/243 [==============================] - 17s 68ms/step - loss: 0.0325 - accuracy: 0.9909 - val_loss: 0.2174 - val_accuracy: 0.9738\n",
            "61/61 [==============================] - 3s 52ms/step - loss: 0.2174 - accuracy: 0.9738\n",
            "accuracy 97.37519025802612\n"
          ]
        }
      ]
    },
    {
      "cell_type": "code",
      "source": [
        "plt.plot(history.history['val_loss'], color = 'orange')\n",
        "plt.plot(history.history['loss'], color='red')\n",
        "plt.plot(history.history['accuracy'], color = 'green')"
      ],
      "metadata": {
        "colab": {
          "base_uri": "https://localhost:8080/",
          "height": 447
        },
        "outputId": "e79ab69b-e654-4c0f-be7d-188399aee0c5",
        "id": "t3gfBLz0XLYn"
      },
      "execution_count": null,
      "outputs": [
        {
          "output_type": "execute_result",
          "data": {
            "text/plain": [
              "[<matplotlib.lines.Line2D at 0x7e06a66b89a0>]"
            ]
          },
          "metadata": {},
          "execution_count": 18
        },
        {
          "output_type": "display_data",
          "data": {
            "text/plain": [
              "<Figure size 640x480 with 1 Axes>"
            ],
            "image/png": "[encoded data removed]"
          },
          "metadata": {}
        }
      ]
    },
    {
      "cell_type": "markdown",
      "source": [
        "**VGG16 with Average Pooling**"
      ],
      "metadata": {
        "id": "iVjD1VI2XLYo"
      }
    },
    {
      "cell_type": "markdown",
      "source": [
        "10 unit Dense Layer accuracy 96.40"
      ],
      "metadata": {
        "id": "OEP2YRdtXLYp"
      }
    },
    {
      "cell_type": "code",
      "source": [
        "#from keras.layers.pooling.global_average_pooling2d import GlobalAveragePooling2D\n",
        "def define_modelavg():\n",
        "    # load model\n",
        "    model_apple_avg = VGG16(include_top=False, input_shape=(128, 128, 3))\n",
        "    # mark loaded layers as not trainable\n",
        "    for layer in model_apple_avg.layers:\n",
        "        layer.trainable = False\n",
        "    # add new classifier layers\n",
        "    avgpool1 = tf.keras.layers.GlobalAveragePooling2D()(model_apple_avg.layers[-1].output)\n",
        "\n",
        "    class1 = Dense(10, activation='relu', kernel_initializer='he_uniform')(avgpool1)\n",
        "    output = Dense(4, activation='softmax')(class1)\n",
        "    # define new model\n",
        "    model_apple_avg = Model(inputs=model_apple_avg.inputs, outputs=output)\n",
        "    return model_apple_avg\n"
      ],
      "metadata": {
        "id": "ABCsqjYFXLYq"
      },
      "execution_count": null,
      "outputs": []
    },
    {
      "cell_type": "code",
      "source": [
        "model_apple_avg = define_modelavg()\n",
        "model_apple_avg.compile(optimizer='adam', loss='categorical_crossentropy', metrics=['accuracy'])\n",
        "model_apple_avg.summary()"
      ],
      "metadata": {
        "colab": {
          "base_uri": "https://localhost:8080/"
        },
        "outputId": "0bff5c4b-5c74-4fac-a757-1fc02baa1e18",
        "id": "tAykJIoBXLYq"
      },
      "execution_count": null,
      "outputs": [
        {
          "output_type": "stream",
          "name": "stdout",
          "text": [
            "Model: \"model_2\"\n",
            "_________________________________________________________________\n",
            " Layer (type)                Output Shape              Param #   \n",
            "=================================================================\n",
            " input_3 (InputLayer)        [(None, 128, 128, 3)]     0         \n",
            "                                                                 \n",
            " block1_conv1 (Conv2D)       (None, 128, 128, 64)      1792      \n",
            "                                                                 \n",
            " block1_conv2 (Conv2D)       (None, 128, 128, 64)      36928     \n",
            "                                                                 \n",
            " block1_pool (MaxPooling2D)  (None, 64, 64, 64)        0         \n",
            "                                                                 \n",
            " block2_conv1 (Conv2D)       (None, 64, 64, 128)       73856     \n",
            "                                                                 \n",
            " block2_conv2 (Conv2D)       (None, 64, 64, 128)       147584    \n",
            "                                                                 \n",
            " block2_pool (MaxPooling2D)  (None, 32, 32, 128)       0         \n",
            "                                                                 \n",
            " block3_conv1 (Conv2D)       (None, 32, 32, 256)       295168    \n",
            "                                                                 \n",
            " block3_conv2 (Conv2D)       (None, 32, 32, 256)       590080    \n",
            "                                                                 \n",
            " block3_conv3 (Conv2D)       (None, 32, 32, 256)       590080    \n",
            "                                                                 \n",
            " block3_pool (MaxPooling2D)  (None, 16, 16, 256)       0         \n",
            "                                                                 \n",
            " block4_conv1 (Conv2D)       (None, 16, 16, 512)       1180160   \n",
            "                                                                 \n",
            " block4_conv2 (Conv2D)       (None, 16, 16, 512)       2359808   \n",
            "                                                                 \n",
            " block4_conv3 (Conv2D)       (None, 16, 16, 512)       2359808   \n",
            "                                                                 \n",
            " block4_pool (MaxPooling2D)  (None, 8, 8, 512)         0         \n",
            "                                                                 \n",
            " block5_conv1 (Conv2D)       (None, 8, 8, 512)         2359808   \n",
            "                                                                 \n",
            " block5_conv2 (Conv2D)       (None, 8, 8, 512)         2359808   \n",
            "                                                                 \n",
            " block5_conv3 (Conv2D)       (None, 8, 8, 512)         2359808   \n",
            "                                                                 \n",
            " block5_pool (MaxPooling2D)  (None, 4, 4, 512)         0         \n",
            "                                                                 \n",
            " global_average_pooling2d (  (None, 512)               0         \n",
            " GlobalAveragePooling2D)                                         \n",
            "                                                                 \n",
            " dense_4 (Dense)             (None, 10)                5130      \n",
            "                                                                 \n",
            " dense_5 (Dense)             (None, 4)                 44        \n",
            "                                                                 \n",
            "=================================================================\n",
            "Total params: 14719862 (56.15 MB)\n",
            "Trainable params: 5174 (20.21 KB)\n",
            "Non-trainable params: 14714688 (56.13 MB)\n",
            "_________________________________________________________________\n"
          ]
        }
      ]
    },
    {
      "cell_type": "code",
      "source": [
        "epochsteps=len(train_it);epochs =10;valsteps=len(valid_it)\n",
        "# fit model\n",
        "history = model_apple_avg.fit(train_it, steps_per_epoch=epochsteps,\n",
        "                    validation_data=valid_it, validation_steps=valsteps, epochs=10, verbose=1)\n",
        "_, acc = model_apple_avg.evaluate(valid_it, steps=valsteps, verbose=1)\n",
        "print('accuracy',acc * 100.0)"
      ],
      "metadata": {
        "colab": {
          "base_uri": "https://localhost:8080/"
        },
        "outputId": "1f444ad6-30ba-4fd4-9de6-72fdeab7fbd0",
        "id": "h8Wql0VaXLYr"
      },
      "execution_count": null,
      "outputs": [
        {
          "output_type": "stream",
          "name": "stdout",
          "text": [
            "Epoch 1/10\n",
            "243/243 [==============================] - 19s 72ms/step - loss: 1.0812 - accuracy: 0.5703 - val_loss: 0.5344 - val_accuracy: 0.7972\n",
            "Epoch 2/10\n",
            "243/243 [==============================] - 16s 68ms/step - loss: 0.3055 - accuracy: 0.8936 - val_loss: 0.2313 - val_accuracy: 0.9223\n",
            "Epoch 3/10\n",
            "243/243 [==============================] - 18s 73ms/step - loss: 0.1575 - accuracy: 0.9471 - val_loss: 0.1728 - val_accuracy: 0.9434\n",
            "Epoch 4/10\n",
            "243/243 [==============================] - 16s 67ms/step - loss: 0.1087 - accuracy: 0.9642 - val_loss: 0.1443 - val_accuracy: 0.9511\n",
            "Epoch 5/10\n",
            "243/243 [==============================] - 17s 71ms/step - loss: 0.0803 - accuracy: 0.9745 - val_loss: 0.1288 - val_accuracy: 0.9568\n",
            "Epoch 6/10\n",
            "243/243 [==============================] - 16s 67ms/step - loss: 0.0672 - accuracy: 0.9793 - val_loss: 0.1111 - val_accuracy: 0.9614\n",
            "Epoch 7/10\n",
            "243/243 [==============================] - 17s 68ms/step - loss: 0.0548 - accuracy: 0.9826 - val_loss: 0.1063 - val_accuracy: 0.9660\n",
            "Epoch 8/10\n",
            "243/243 [==============================] - 17s 69ms/step - loss: 0.0481 - accuracy: 0.9851 - val_loss: 0.1044 - val_accuracy: 0.9665\n",
            "Epoch 9/10\n",
            "243/243 [==============================] - 17s 68ms/step - loss: 0.0404 - accuracy: 0.9879 - val_loss: 0.1105 - val_accuracy: 0.9686\n",
            "Epoch 10/10\n",
            "243/243 [==============================] - 17s 69ms/step - loss: 0.0342 - accuracy: 0.9900 - val_loss: 0.1041 - val_accuracy: 0.9640\n",
            "61/61 [==============================] - 4s 59ms/step - loss: 0.1041 - accuracy: 0.9640\n",
            "accuracy 96.39732241630554\n"
          ]
        }
      ]
    },
    {
      "cell_type": "code",
      "source": [
        "plt.plot(history.history['val_loss'], color = 'orange')\n",
        "plt.plot(history.history['loss'], color='red')\n",
        "plt.plot(history.history['accuracy'], color = 'green')"
      ],
      "metadata": {
        "colab": {
          "base_uri": "https://localhost:8080/",
          "height": 447
        },
        "outputId": "2f5a22ca-4af6-4d8b-bd8b-9e3e0bc949e4",
        "id": "vT17ppk_XLYs"
      },
      "execution_count": null,
      "outputs": [
        {
          "output_type": "execute_result",
          "data": {
            "text/plain": [
              "[<matplotlib.lines.Line2D at 0x7e06a62a0400>]"
            ]
          },
          "metadata": {},
          "execution_count": 22
        },
        {
          "output_type": "display_data",
          "data": {
            "text/plain": [
              "<Figure size 640x480 with 1 Axes>"
            ],
            "image/png": "[encoded data removed]"
          },
          "metadata": {}
        }
      ]
    },
    {
      "cell_type": "markdown",
      "source": [
        "**CNN with Flatten**"
      ],
      "metadata": {
        "id": "A8rBGNdiXLYt"
      }
    },
    {
      "cell_type": "markdown",
      "source": [
        "dense 16\n",
        "\n",
        "ConvMax ConvMax ConvMax with Flatten accuracy 47.555\n",
        "\n",
        "ConvMax ConvMax with Flatten accuracy 90.53\n",
        "\n",
        "ConvMax ConvConvMax with Flatten accuracy 91.147\n",
        "\n",
        "ConvConvMax(16,32) ConvMax(64) with Flatten accuracy 90.22\n",
        "\n",
        "ConvConvMax(32,64) ConvMax(128) with Flatten accuracy 92.177\n",
        "\n",
        "**ConvConvMax(16,32) ConvMax(64) ConvMax(128) with Flatten accuracy 96.40**\n",
        "\n",
        "---\n",
        "dense 17\n",
        "\n",
        "ConvMax ConvMax with Flatten accuracy 91.50\n",
        "\n",
        "---\n",
        "dense 18\n",
        "\n",
        "ConvConvMax(16,64) ConvMax(32) with Flatten accuracy 92.897"
      ],
      "metadata": {
        "id": "JnDRklspXLYu"
      }
    },
    {
      "cell_type": "code",
      "source": [
        "def define_apple():\n",
        "  apple = models.Sequential()\n",
        "  apple = Sequential()\n",
        "\n",
        "  apple.add(Conv2D(filters=16,kernel_size=(3,3),padding=\"same\", activation=\"relu\", input_shape=(128,128,3)))\n",
        "  apple.add(Conv2D(filters=32, kernel_size=(3,3), padding=\"same\", activation=\"relu\"))\n",
        "  apple.add(MaxPool2D(pool_size=(2,2),strides=(2,2)))\n",
        "  #grape.add(Dropout(0.4))\n",
        "\n",
        "  apple.add(Conv2D(filters=64, kernel_size=(3,3), padding=\"same\", activation=\"relu\"))\n",
        "  apple.add(MaxPool2D(pool_size=(2,2),strides=(2,2)))\n",
        "  #grape.add(Dropout(0.5))\n",
        "\n",
        "  apple.add(Conv2D(filters=128, kernel_size=(3,3), padding=\"same\", activation=\"relu\"))\n",
        "  apple.add(MaxPool2D(pool_size=(2,2),strides=(2,2)))\n",
        "\n",
        "\n",
        "  flat1 = Flatten()(apple.layers[-1].output)\n",
        "  class1 = Dense(16, activation='relu', kernel_initializer='he_uniform')(flat1)\n",
        "  output = Dense(4, activation='softmax')(class1)\n",
        "  apple = Model(inputs=apple.inputs, outputs=output)\n",
        "  return apple"
      ],
      "metadata": {
        "id": "N3Yk3aWVXLYv"
      },
      "execution_count": null,
      "outputs": []
    },
    {
      "cell_type": "code",
      "source": [
        "apple = define_apple()\n",
        "apple.compile(optimizer='adam', loss='categorical_crossentropy', metrics=['accuracy'])\n",
        "apple.summary()"
      ],
      "metadata": {
        "colab": {
          "base_uri": "https://localhost:8080/"
        },
        "outputId": "821774b2-fcd5-4195-9527-5c3cc2f35407",
        "id": "ZCxAZhMuXLYw"
      },
      "execution_count": null,
      "outputs": [
        {
          "output_type": "stream",
          "name": "stdout",
          "text": [
            "Model: \"model_18\"\n",
            "_________________________________________________________________\n",
            " Layer (type)                Output Shape              Param #   \n",
            "=================================================================\n",
            " conv2d_43_input (InputLaye  [(None, 128, 128, 3)]     0         \n",
            " r)                                                              \n",
            "                                                                 \n",
            " conv2d_43 (Conv2D)          (None, 128, 128, 16)      448       \n",
            "                                                                 \n",
            " conv2d_44 (Conv2D)          (None, 128, 128, 32)      4640      \n",
            "                                                                 \n",
            " max_pooling2d_31 (MaxPooli  (None, 64, 64, 32)        0         \n",
            " ng2D)                                                           \n",
            "                                                                 \n",
            " conv2d_45 (Conv2D)          (None, 64, 64, 64)        18496     \n",
            "                                                                 \n",
            " max_pooling2d_32 (MaxPooli  (None, 32, 32, 64)        0         \n",
            " ng2D)                                                           \n",
            "                                                                 \n",
            " conv2d_46 (Conv2D)          (None, 32, 32, 128)       73856     \n",
            "                                                                 \n",
            " max_pooling2d_33 (MaxPooli  (None, 16, 16, 128)       0         \n",
            " ng2D)                                                           \n",
            "                                                                 \n",
            " flatten_17 (Flatten)        (None, 32768)             0         \n",
            "                                                                 \n",
            " dense_36 (Dense)            (None, 16)                524304    \n",
            "                                                                 \n",
            " dense_37 (Dense)            (None, 4)                 68        \n",
            "                                                                 \n",
            "=================================================================\n",
            "Total params: 621812 (2.37 MB)\n",
            "Trainable params: 621812 (2.37 MB)\n",
            "Non-trainable params: 0 (0.00 Byte)\n",
            "_________________________________________________________________\n"
          ]
        }
      ]
    },
    {
      "cell_type": "code",
      "source": [
        "epochsteps=len(train_it);epochs =10;valsteps=len(valid_it)\n",
        "# fit model\n",
        "history = apple.fit(train_it, steps_per_epoch=epochsteps, validation_data=valid_it, validation_steps=valsteps, epochs=10, verbose=1)\n",
        "_, acc = apple.evaluate(valid_it, steps=valsteps, verbose=1)\n",
        "print('accuracy',acc * 100.0)\n"
      ],
      "metadata": {
        "colab": {
          "base_uri": "https://localhost:8080/"
        },
        "outputId": "00857552-a208-40f8-9a88-5992649ad92e",
        "id": "zCJCWpkfXLYx"
      },
      "execution_count": null,
      "outputs": [
        {
          "output_type": "stream",
          "name": "stdout",
          "text": [
            "Epoch 1/10\n",
            "243/243 [==============================] - 20s 71ms/step - loss: 2.0442 - accuracy: 0.6910 - val_loss: 0.4011 - val_accuracy: 0.8672\n",
            "Epoch 2/10\n",
            "243/243 [==============================] - 15s 60ms/step - loss: 0.2994 - accuracy: 0.9028 - val_loss: 0.2686 - val_accuracy: 0.9002\n",
            "Epoch 3/10\n",
            "243/243 [==============================] - 15s 60ms/step - loss: 0.1808 - accuracy: 0.9386 - val_loss: 0.2103 - val_accuracy: 0.9305\n",
            "Epoch 4/10\n",
            "243/243 [==============================] - 15s 60ms/step - loss: 0.1273 - accuracy: 0.9565 - val_loss: 0.1641 - val_accuracy: 0.9460\n",
            "Epoch 5/10\n",
            "243/243 [==============================] - 16s 65ms/step - loss: 0.1028 - accuracy: 0.9635 - val_loss: 0.2243 - val_accuracy: 0.9362\n",
            "Epoch 6/10\n",
            "243/243 [==============================] - 15s 63ms/step - loss: 0.0751 - accuracy: 0.9756 - val_loss: 0.1021 - val_accuracy: 0.9624\n",
            "Epoch 7/10\n",
            "243/243 [==============================] - 15s 60ms/step - loss: 0.0592 - accuracy: 0.9784 - val_loss: 0.1357 - val_accuracy: 0.9593\n",
            "Epoch 8/10\n",
            "243/243 [==============================] - 15s 60ms/step - loss: 0.0664 - accuracy: 0.9771 - val_loss: 0.1740 - val_accuracy: 0.9516\n",
            "Epoch 9/10\n",
            "243/243 [==============================] - 15s 63ms/step - loss: 0.1159 - accuracy: 0.9624 - val_loss: 0.1559 - val_accuracy: 0.9573\n",
            "Epoch 10/10\n",
            "243/243 [==============================] - 15s 60ms/step - loss: 0.0423 - accuracy: 0.9851 - val_loss: 0.1360 - val_accuracy: 0.9640\n",
            "61/61 [==============================] - 3s 42ms/step - loss: 0.1360 - accuracy: 0.9640\n",
            "accuracy 96.39732241630554\n"
          ]
        }
      ]
    },
    {
      "cell_type": "code",
      "source": [
        "plt.plot(history.history['val_loss'], color = 'orange')\n",
        "plt.plot(history.history['loss'], color='red')\n",
        "plt.plot(history.history['accuracy'], color = 'green')"
      ],
      "metadata": {
        "colab": {
          "base_uri": "https://localhost:8080/",
          "height": 447
        },
        "outputId": "071a9407-80be-4938-b0a1-95e503d70db5",
        "id": "EPPR-5mYXLYy"
      },
      "execution_count": null,
      "outputs": [
        {
          "output_type": "execute_result",
          "data": {
            "text/plain": [
              "[<matplotlib.lines.Line2D at 0x7e065c5b9ab0>]"
            ]
          },
          "metadata": {},
          "execution_count": 74
        },
        {
          "output_type": "display_data",
          "data": {
            "text/plain": [
              "<Figure size 640x480 with 1 Axes>"
            ],
            "image/png": "[encoded data removed]"
          },
          "metadata": {}
        }
      ]
    },
    {
      "cell_type": "markdown",
      "source": [
        "**CNN with Average Pooling**"
      ],
      "metadata": {
        "id": "DDlKyoyDXLY3"
      }
    },
    {
      "cell_type": "markdown",
      "source": [
        "ConvMax ConvMax ConvMax with avgpool accuracy=99.02"
      ],
      "metadata": {
        "id": "o4-cY3vZXLY3"
      }
    },
    {
      "cell_type": "code",
      "source": [
        "def define_apple_avg():\n",
        "  apple_avg = models.Sequential()\n",
        "  apple_avg = Sequential()\n",
        "\n",
        "  apple_avg.add(Conv2D(filters=16,kernel_size=(3,3),padding=\"same\", activation=\"relu\", input_shape=(128,128,3)))\n",
        "  apple_avg.add(MaxPool2D(pool_size=(2,2),strides=(2,2)))\n",
        "  #grape.add(Dropout(0.4))\n",
        "\n",
        "  apple_avg.add(Conv2D(filters=32, kernel_size=(3,3), padding=\"same\", activation=\"relu\"))\n",
        "  apple_avg.add(MaxPool2D(pool_size=(2,2),strides=(2,2)))\n",
        "  #grape.add(Dropout(0.5))\n",
        "\n",
        "  apple_avg.add(Conv2D(filters=64, kernel_size=(3,3), padding=\"same\", activation=\"relu\"))\n",
        "  apple_avg.add(MaxPool2D(pool_size=(2,2),strides=(2,2)))\n",
        "\n",
        "  avg1 = tf.keras.layers.GlobalAveragePooling2D()(apple_avg.layers[-1].output)\n",
        "  class1 = Dense(16, activation='relu', kernel_initializer='he_uniform')(avg1)\n",
        "  output = Dense(4, activation='softmax')(class1)\n",
        "  apple_avg = Model(inputs=apple_avg.inputs, outputs=output)\n",
        "  return apple_avg"
      ],
      "metadata": {
        "id": "7uUFeqhhXLY4"
      },
      "execution_count": null,
      "outputs": []
    },
    {
      "cell_type": "code",
      "source": [
        "apple_avg = define_apple_avg()\n",
        "apple_avg.compile(optimizer='adam', loss='categorical_crossentropy', metrics=['accuracy'])\n",
        "apple_avg.summary()"
      ],
      "metadata": {
        "colab": {
          "base_uri": "https://localhost:8080/"
        },
        "outputId": "3e63456a-f54a-4d88-ca38-491562976e20",
        "id": "AW0lKNS3XLY5"
      },
      "execution_count": null,
      "outputs": [
        {
          "output_type": "stream",
          "name": "stdout",
          "text": [
            "Model: \"model_19\"\n",
            "_________________________________________________________________\n",
            " Layer (type)                Output Shape              Param #   \n",
            "=================================================================\n",
            " conv2d_47_input (InputLaye  [(None, 128, 128, 3)]     0         \n",
            " r)                                                              \n",
            "                                                                 \n",
            " conv2d_47 (Conv2D)          (None, 128, 128, 16)      448       \n",
            "                                                                 \n",
            " max_pooling2d_34 (MaxPooli  (None, 64, 64, 16)        0         \n",
            " ng2D)                                                           \n",
            "                                                                 \n",
            " conv2d_48 (Conv2D)          (None, 64, 64, 32)        4640      \n",
            "                                                                 \n",
            " max_pooling2d_35 (MaxPooli  (None, 32, 32, 32)        0         \n",
            " ng2D)                                                           \n",
            "                                                                 \n",
            " conv2d_49 (Conv2D)          (None, 32, 32, 64)        18496     \n",
            "                                                                 \n",
            " max_pooling2d_36 (MaxPooli  (None, 16, 16, 64)        0         \n",
            " ng2D)                                                           \n",
            "                                                                 \n",
            " global_average_pooling2d_1  (None, 64)                0         \n",
            "  (GlobalAveragePooling2D)                                       \n",
            "                                                                 \n",
            " dense_38 (Dense)            (None, 16)                1040      \n",
            "                                                                 \n",
            " dense_39 (Dense)            (None, 4)                 68        \n",
            "                                                                 \n",
            "=================================================================\n",
            "Total params: 24692 (96.45 KB)\n",
            "Trainable params: 24692 (96.45 KB)\n",
            "Non-trainable params: 0 (0.00 Byte)\n",
            "_________________________________________________________________\n"
          ]
        }
      ]
    },
    {
      "cell_type": "code",
      "source": [
        "epochsteps=len(train_it);epochs =10;valsteps=len(valid_it)\n",
        "# fit model\n",
        "history = apple_avg.fit(train_it, steps_per_epoch=epochsteps, validation_data=valid_it, validation_steps=valsteps, epochs=10, verbose=1)\n",
        "_, acc = apple_avg.evaluate(valid_it, steps=valsteps, verbose=1)\n",
        "print('accuracy',acc * 100.0)"
      ],
      "metadata": {
        "colab": {
          "base_uri": "https://localhost:8080/"
        },
        "outputId": "eba410e3-2172-44cd-ba87-9b282cd11a35",
        "id": "Hyk7UH-8XLY5"
      },
      "execution_count": null,
      "outputs": [
        {
          "output_type": "stream",
          "name": "stdout",
          "text": [
            "Epoch 1/10\n",
            "243/243 [==============================] - 17s 58ms/step - loss: 0.9410 - accuracy: 0.6836 - val_loss: 0.4815 - val_accuracy: 0.8281\n",
            "Epoch 2/10\n",
            "243/243 [==============================] - 14s 59ms/step - loss: 0.3857 - accuracy: 0.8566 - val_loss: 0.3385 - val_accuracy: 0.8801\n",
            "Epoch 3/10\n",
            "243/243 [==============================] - 14s 59ms/step - loss: 0.2658 - accuracy: 0.9071 - val_loss: 0.2400 - val_accuracy: 0.9202\n",
            "Epoch 4/10\n",
            "243/243 [==============================] - 14s 57ms/step - loss: 0.2028 - accuracy: 0.9328 - val_loss: 0.1706 - val_accuracy: 0.9408\n",
            "Epoch 5/10\n",
            "243/243 [==============================] - 14s 58ms/step - loss: 0.1548 - accuracy: 0.9471 - val_loss: 0.2473 - val_accuracy: 0.9135\n",
            "Epoch 6/10\n",
            "243/243 [==============================] - 17s 69ms/step - loss: 0.1446 - accuracy: 0.9487 - val_loss: 0.1501 - val_accuracy: 0.9496\n",
            "Epoch 7/10\n",
            "243/243 [==============================] - 14s 58ms/step - loss: 0.1127 - accuracy: 0.9601 - val_loss: 0.1250 - val_accuracy: 0.9604\n",
            "Epoch 8/10\n",
            "243/243 [==============================] - 14s 58ms/step - loss: 0.0939 - accuracy: 0.9668 - val_loss: 0.1022 - val_accuracy: 0.9645\n",
            "Epoch 9/10\n",
            "243/243 [==============================] - 15s 61ms/step - loss: 0.0942 - accuracy: 0.9677 - val_loss: 0.1368 - val_accuracy: 0.9485\n",
            "Epoch 10/10\n",
            "243/243 [==============================] - 16s 64ms/step - loss: 0.0739 - accuracy: 0.9743 - val_loss: 0.0976 - val_accuracy: 0.9686\n",
            "61/61 [==============================] - 3s 41ms/step - loss: 0.0976 - accuracy: 0.9686\n",
            "accuracy 96.86052203178406\n"
          ]
        }
      ]
    },
    {
      "cell_type": "code",
      "source": [
        "plt.plot(history.history['val_loss'], color = 'orange')\n",
        "plt.plot(history.history['loss'], color='red')\n",
        "plt.plot(history.history['accuracy'], color = 'green')"
      ],
      "metadata": {
        "colab": {
          "base_uri": "https://localhost:8080/",
          "height": 447
        },
        "outputId": "28f715f1-6f1f-45de-b3ec-9b9bfb85ec71",
        "id": "zfWksJPVXLY6"
      },
      "execution_count": null,
      "outputs": [
        {
          "output_type": "execute_result",
          "data": {
            "text/plain": [
              "[<matplotlib.lines.Line2D at 0x7e068a4b6d10>]"
            ]
          },
          "metadata": {},
          "execution_count": 81
        },
        {
          "output_type": "display_data",
          "data": {
            "text/plain": [
              "<Figure size 640x480 with 1 Axes>"
            ],
            "image/png": "[encoded data removed]"
          },
          "metadata": {}
        }
      ]
    }
  ]
}